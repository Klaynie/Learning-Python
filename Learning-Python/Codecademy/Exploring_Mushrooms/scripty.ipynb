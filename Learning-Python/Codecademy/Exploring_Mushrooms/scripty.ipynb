{
 "metadata": {
  "language_info": {
   "codemirror_mode": {
    "name": "ipython",
    "version": 3
   },
   "file_extension": ".py",
   "mimetype": "text/x-python",
   "name": "python",
   "nbconvert_exporter": "python",
   "pygments_lexer": "ipython3",
   "version": "3.9.1-final"
  },
  "orig_nbformat": 2,
  "kernelspec": {
   "name": "python391jvsc74a57bd0ac59ebe37160ed0dfa835113d9b8498d9f09ceb179beaac4002f036b9467c963",
   "display_name": "Python 3.9.1 64-bit"
  },
  "metadata": {
   "interpreter": {
    "hash": "ac59ebe37160ed0dfa835113d9b8498d9f09ceb179beaac4002f036b9467c963"
   }
  }
 },
 "nbformat": 4,
 "nbformat_minor": 2,
 "cells": [
  {
   "source": [
    "# Exploring Mushrooms\n",
    "\n",
    "When asked to think of a mushroom, you might imagine the following:\n",
    "\n",
    "<img src=\"https://static-assets.codecademy.com/Paths/data-analyst-career-path/mushroom-analysis-project/generic_mushroom.jpg\" alt=\"this shows a photo of some generic button mushrooms in a forest.\" style=\"background-color:white;\" width=500>\n",
    "\n",
    "It is a beige, convex mushroom top with a uniform, thick stem. Maybe you thought of it cut up on a slice of delicious pizza or braised with sauce over rice. Regardless, you most likely did not consider this:\n",
    "\n",
    "<img src=\"https://static-assets.codecademy.com/Paths/data-analyst-career-path/mushroom-analysis-project/pretty_mushroom.jpg\" alt=\"A photo of some beautiful mushrooms in a forest. They do not have the signature 'mushroom top' and have visually appealing grooves that make them look almost floral.\" style=\"background-color:white;\" width=500>\n",
    "\n",
    "Mushrooms exist in a variety of different colors, shapes, sizes, textures, etc. In this project, you will analyze an extensive mushroom dataset from <a href=\"https://archive.ics.uci.edu/ml/datasets/Mushroom\">UCI</a> using bar charts and acquaint yourself with the diverse array of mushrooms that exist worldwide."
   ],
   "cell_type": "markdown",
   "metadata": {}
  },
  {
   "cell_type": "code",
   "execution_count": 1,
   "metadata": {},
   "outputs": [
    {
     "output_type": "execute_result",
     "data": {
      "text/plain": [
       "       Class Cap Shape Cap Surface Cap Color  Bruises     Odor  \\\n",
       "0  Poisonous    Convex      Smooth     Brown     True  Pungent   \n",
       "1     Edible    Convex      Smooth    Yellow     True   Almond   \n",
       "2     Edible      Bell      Smooth     White     True    Anise   \n",
       "3  Poisonous    Convex       Scaly     White     True  Pungent   \n",
       "4     Edible    Convex      Smooth      Gray    False     None   \n",
       "\n",
       "  Gill Attachment Gill Spacing Gill Size Gill Color  ...  \\\n",
       "0            Free        Close    Narrow      Black  ...   \n",
       "1            Free        Close     Broad      Black  ...   \n",
       "2            Free        Close     Broad      Brown  ...   \n",
       "3            Free        Close    Narrow      Brown  ...   \n",
       "4            Free      Crowded     Broad      Black  ...   \n",
       "\n",
       "  Stalk Surface Below Ring Stalk Color Above Ring Stalk Color Below Ring  \\\n",
       "0                   Smooth                  White                  White   \n",
       "1                   Smooth                  White                  White   \n",
       "2                   Smooth                  White                  White   \n",
       "3                   Smooth                  White                  White   \n",
       "4                   Smooth                  White                  White   \n",
       "\n",
       "  Veil Type Veil Color Ring Number   Ring Type Spore Print Color Population  \\\n",
       "0   Partial      White         One     Pendant             Black  Scattered   \n",
       "1   Partial      White         One     Pendant             Brown   Numerous   \n",
       "2   Partial      White         One     Pendant             Brown   Numerous   \n",
       "3   Partial      White         One     Pendant             Black  Scattered   \n",
       "4   Partial      White         One  Evanescent             Brown   Abundant   \n",
       "\n",
       "   Habitat  \n",
       "0    Urban  \n",
       "1  Grasses  \n",
       "2  Meadows  \n",
       "3    Urban  \n",
       "4  Grasses  \n",
       "\n",
       "[5 rows x 23 columns]"
      ],
      "text/html": "<div>\n<style scoped>\n    .dataframe tbody tr th:only-of-type {\n        vertical-align: middle;\n    }\n\n    .dataframe tbody tr th {\n        vertical-align: top;\n    }\n\n    .dataframe thead th {\n        text-align: right;\n    }\n</style>\n<table border=\"1\" class=\"dataframe\">\n  <thead>\n    <tr style=\"text-align: right;\">\n      <th></th>\n      <th>Class</th>\n      <th>Cap Shape</th>\n      <th>Cap Surface</th>\n      <th>Cap Color</th>\n      <th>Bruises</th>\n      <th>Odor</th>\n      <th>Gill Attachment</th>\n      <th>Gill Spacing</th>\n      <th>Gill Size</th>\n      <th>Gill Color</th>\n      <th>...</th>\n      <th>Stalk Surface Below Ring</th>\n      <th>Stalk Color Above Ring</th>\n      <th>Stalk Color Below Ring</th>\n      <th>Veil Type</th>\n      <th>Veil Color</th>\n      <th>Ring Number</th>\n      <th>Ring Type</th>\n      <th>Spore Print Color</th>\n      <th>Population</th>\n      <th>Habitat</th>\n    </tr>\n  </thead>\n  <tbody>\n    <tr>\n      <th>0</th>\n      <td>Poisonous</td>\n      <td>Convex</td>\n      <td>Smooth</td>\n      <td>Brown</td>\n      <td>True</td>\n      <td>Pungent</td>\n      <td>Free</td>\n      <td>Close</td>\n      <td>Narrow</td>\n      <td>Black</td>\n      <td>...</td>\n      <td>Smooth</td>\n      <td>White</td>\n      <td>White</td>\n      <td>Partial</td>\n      <td>White</td>\n      <td>One</td>\n      <td>Pendant</td>\n      <td>Black</td>\n      <td>Scattered</td>\n      <td>Urban</td>\n    </tr>\n    <tr>\n      <th>1</th>\n      <td>Edible</td>\n      <td>Convex</td>\n      <td>Smooth</td>\n      <td>Yellow</td>\n      <td>True</td>\n      <td>Almond</td>\n      <td>Free</td>\n      <td>Close</td>\n      <td>Broad</td>\n      <td>Black</td>\n      <td>...</td>\n      <td>Smooth</td>\n      <td>White</td>\n      <td>White</td>\n      <td>Partial</td>\n      <td>White</td>\n      <td>One</td>\n      <td>Pendant</td>\n      <td>Brown</td>\n      <td>Numerous</td>\n      <td>Grasses</td>\n    </tr>\n    <tr>\n      <th>2</th>\n      <td>Edible</td>\n      <td>Bell</td>\n      <td>Smooth</td>\n      <td>White</td>\n      <td>True</td>\n      <td>Anise</td>\n      <td>Free</td>\n      <td>Close</td>\n      <td>Broad</td>\n      <td>Brown</td>\n      <td>...</td>\n      <td>Smooth</td>\n      <td>White</td>\n      <td>White</td>\n      <td>Partial</td>\n      <td>White</td>\n      <td>One</td>\n      <td>Pendant</td>\n      <td>Brown</td>\n      <td>Numerous</td>\n      <td>Meadows</td>\n    </tr>\n    <tr>\n      <th>3</th>\n      <td>Poisonous</td>\n      <td>Convex</td>\n      <td>Scaly</td>\n      <td>White</td>\n      <td>True</td>\n      <td>Pungent</td>\n      <td>Free</td>\n      <td>Close</td>\n      <td>Narrow</td>\n      <td>Brown</td>\n      <td>...</td>\n      <td>Smooth</td>\n      <td>White</td>\n      <td>White</td>\n      <td>Partial</td>\n      <td>White</td>\n      <td>One</td>\n      <td>Pendant</td>\n      <td>Black</td>\n      <td>Scattered</td>\n      <td>Urban</td>\n    </tr>\n    <tr>\n      <th>4</th>\n      <td>Edible</td>\n      <td>Convex</td>\n      <td>Smooth</td>\n      <td>Gray</td>\n      <td>False</td>\n      <td>None</td>\n      <td>Free</td>\n      <td>Crowded</td>\n      <td>Broad</td>\n      <td>Black</td>\n      <td>...</td>\n      <td>Smooth</td>\n      <td>White</td>\n      <td>White</td>\n      <td>Partial</td>\n      <td>White</td>\n      <td>One</td>\n      <td>Evanescent</td>\n      <td>Brown</td>\n      <td>Abundant</td>\n      <td>Grasses</td>\n    </tr>\n  </tbody>\n</table>\n<p>5 rows × 23 columns</p>\n</div>"
     },
     "metadata": {},
     "execution_count": 1
    }
   ],
   "source": [
    "import matplotlib.pyplot as plt\n",
    "import pandas as pd\n",
    "import seaborn as sns\n",
    "\n",
    "df = pd.read_csv(\"mushroom_data.csv\")\n",
    "columns = df.columns.tolist()\n",
    "\n",
    "df.head()"
   ]
  },
  {
   "source": [
    "1. Take a look at the cell above where we have loaded `mushroom_data.csv`. It contains 23 columns of data describing thousands of mushrooms. Data of about five different mushrooms is shown.\n",
    "\n",
    "    Read through this table to get a sense of the type(s) of variables in the data and the structure of the table. It may also be helpful to read through the information on <a href=\"https://www.kaggle.com/uciml/mushroom-classification\">Kaggle</a>.\n",
    "\n",
    "    Before you move on to plotting any of this data, answer the following questions:\n",
    "\n",
    "    * What type(s) of variables does `mushroom_data.csv` contain?\n",
    "    * How many of the variables can we visualize effectively with a bar graph?"
   ],
   "cell_type": "markdown",
   "metadata": {}
  },
  {
   "source": [
    "*If you read through the header of `mushroom_data.csv`, you will see that every single variable is a categorical variable. Therefore, you can create bar charts for the counts of every variable in the csv file.*"
   ],
   "cell_type": "markdown",
   "metadata": {}
  },
  {
   "source": [
    "## Plotting Bar Graphs\n",
    "\n",
    "2. There are 23 variables in this dataset (one for each column). Graphing each one individually would be tedious; luckily, you will use loops.\n",
    "\n",
    "    If you look at the first cell, you will see an attribute called `columns`. This attribute returns the name of each variable in `mushroom_data.csv`.\n",
    "\n",
    "    * Create a loop that traverses each `column` in the `columns` list.\n",
    "    * Print each `column` in `columns` while iterating through the loop. This is to check that your `for` loop is working correctly."
   ],
   "cell_type": "markdown",
   "metadata": {}
  },
  {
   "cell_type": "code",
   "execution_count": null,
   "metadata": {},
   "outputs": [],
   "source": []
  },
  {
   "source": [
    "3. In the terminal, you should see 23 column names pop up starting with `class` and ending with `habitat`.\n",
    "\n",
    "    Great! Your `for` loop is working, so feel free to comment out your print statement.\n",
    "\n",
    "    You can now plot your data using the `.countplot()` method from the seaborn library. Follow these steps:\n",
    "\n",
    "    * Call `.countplot()` in the for loop\n",
    "    * Use `column` and the `df` pandas DataFrame to graph the value counts of each variable in `mushroom_data.csv`.\n",
    "\n",
    "    Please wait until the next task to use `plt.show()`. Since you are creating 23 plots in the browser, you will need an additional line of code."
   ],
   "cell_type": "markdown",
   "metadata": {}
  },
  {
   "cell_type": "code",
   "execution_count": null,
   "metadata": {},
   "outputs": [],
   "source": []
  },
  {
   "source": [
    "4. At the end of your `for` loop, add the following lines of code to show your plots:\n",
    "\n",
    "        plt.show()\n",
    "        plt.clf()\n",
    "\n",
    "    The `.show()` Matplotlib method should look familiar from previous lesson, but <a href=\"https://matplotlib.org/3.1.1/api/_as_gen/matplotlib.pyplot.clf.html\">`.clf()`</a> might be unfamiliar. This method is also from the Matplotlib library. It clears any previous figure formatting. This will keep any graphs you are plotting from bunching up on each other. Instead, your plots will be neatly stacked on top of each other will spacing ideal for viewing."
   ],
   "cell_type": "markdown",
   "metadata": {}
  },
  {
   "cell_type": "code",
   "execution_count": null,
   "metadata": {},
   "outputs": [],
   "source": []
  },
  {
   "source": [
    "5. After using `plt.show()` and  plt.clf()`, 23 plots should appear.\n",
    "\n",
    "    Fullscreen icon that sits in the top right of the learning environnment\n",
    "\n",
    "    Scroll through each of the graphs, and see what sort of trends you immediately see.\n",
    "\n",
    "        * What variables have an obvious mode?\n",
    "        * Do any of them have a notably diverse array of values?\n",
    "        * What habitat are you most likely to find mushrooms in?\n",
    "\n",
    "    What questions did you have before seeing the graphs? What questions are popping up now that you see them?\n",
    "\n",
    "    When you want to go back to your original view of the code editor and tasks, click the icon again.\n",
    "\n",
    "    Feel free to do this throughout the project if you want to take a closer look at your graphs and want to continue your analysis! In the next few steps, you will clean up the graphs and make them more readable and useful for finding patterns."
   ],
   "cell_type": "markdown",
   "metadata": {}
  },
  {
   "cell_type": "code",
   "execution_count": null,
   "metadata": {},
   "outputs": [],
   "source": []
  },
  {
   "source": [
    "## Cleaning the Bar Graphs\n",
    "\n",
    "6. As you scroll through the graphs, you may notice some imperfections. For example, some of the x-axis labels overlap each other. The font size for the labels along the x-axis is also pretty small, making them tough to read.\n",
    "\n",
    "    Let us fix these up with two lines of code.\n",
    "\n",
    "    Following your `.countplot()` method, add the following two lines of code in your `for` loop:\n",
    "\n",
    "        # rotates the value labels slightly so they don’t overlap, also slightly increases font size\n",
    "        plt.xticks(rotation=30, fontsize=10)\n",
    "        # increases the variable label font size slightly to increase readability\n",
    "        plt.xlabel(column, fontsize=12)"
   ],
   "cell_type": "markdown",
   "metadata": {}
  },
  {
   "cell_type": "code",
   "execution_count": null,
   "metadata": {},
   "outputs": [],
   "source": []
  },
  {
   "source": [
    "7. One more thing you can do to increase readability is to add an informative title. Using `.title()` from the Matplotlib library, give your graph the following title:\n",
    "\n",
    "        {Variable Name} Value Counts\n",
    "\n",
    "    Use column to capture each variable name. Be sure to call this method after `.countplot()` inside of your for loop."
   ],
   "cell_type": "markdown",
   "metadata": {}
  },
  {
   "cell_type": "code",
   "execution_count": null,
   "metadata": {},
   "outputs": [],
   "source": []
  },
  {
   "source": [
    "## Ordering the Bars for Analysis\n",
    "\n",
    "8. The graphs are readable, but you can take it another step further.\n",
    "\n",
    "    * Add the `order` parameter to your `.countplot()` method.\n",
    "    * Set this parameter so that the value counts in each column are in descending order.\n",
    "\n",
    "    You will need to use the `.value_counts()` pandas method and the `.index` pandas object."
   ],
   "cell_type": "markdown",
   "metadata": {}
  },
  {
   "cell_type": "code",
   "execution_count": null,
   "metadata": {},
   "outputs": [],
   "source": []
  },
  {
   "source": [
    "9. Great job! In relatively few lines of code, you have created 23 informative plots. Now that they are titled, labeled clearly, and ordered, you can really dive in on your analysis.\n",
    "\n",
    "    Think about how someone could best use these visualizations. It is easy to tell which features of mushrooms are common and rare, and we get insights into the variety of mushrooms in the fungi kingdom.\n",
    "\n",
    "    Spend some time looking over the graphs. Write down exciting insights you find. Here are some examples to get you started:\n",
    "\n",
    "     * It is a roughly equal split between mushrooms that are edible vs. poisonous.\n",
    "     * The majority of mushrooms in this dataset have a scaly surface.\n",
    "     * There are a non-insignificant amount of mushrooms that give off an almond scent?\n",
    "     * Most top surfaces of mushrooms in this dataset are scaly rather than smooth.\n",
    "\n",
    "    Some of your analysis may also require research into mushroom features for any of the x-labels. We hope you enjoy continuing to explore the world of these fun guys!"
   ],
   "cell_type": "markdown",
   "metadata": {}
  },
  {
   "cell_type": "code",
   "execution_count": null,
   "metadata": {},
   "outputs": [],
   "source": []
  },
  {
   "source": [
    "## Extensions\n",
    "\n",
    "10. Feel free to play around with the graphs and customize them any way you want to help in your analysis! Here are some ideas to get yourself started:\n",
    "\n",
    "    * Turn any bar graph with less than six bars into a pie chart (hint: use a conditional statement!).\n",
    "    * Create your bar charts using a list comprehension instead of a `for` loop.\n",
    "    * Change the color theme of your graphs using the seaborn <a href=\"https://seaborn.pydata.org/generated/seaborn.countplot.html\">color</a> or <a href=\"https://seaborn.pydata.org/tutorial/color_palettes.html\">palette</a> parameters.\n",
    "    * Remove any graphs you find uninformative.\n",
    "    * Change around the current title or label formatting."
   ],
   "cell_type": "markdown",
   "metadata": {}
  }
 ]
}