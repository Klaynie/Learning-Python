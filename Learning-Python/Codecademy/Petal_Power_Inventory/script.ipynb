{
 "metadata": {
  "language_info": {
   "codemirror_mode": {
    "name": "ipython",
    "version": 3
   },
   "file_extension": ".py",
   "mimetype": "text/x-python",
   "name": "python",
   "nbconvert_exporter": "python",
   "pygments_lexer": "ipython3",
   "version": "3.7.6-final"
  },
  "orig_nbformat": 2,
  "kernelspec": {
   "name": "python3",
   "display_name": "Python 3",
   "language": "python"
  }
 },
 "nbformat": 4,
 "nbformat_minor": 2,
 "cells": [
  {
   "source": [
    "# Petal Power Inventory\n",
    "\n",
    "You're the lead data analyst for a chain of gardening stores called Petal Power. Help them analyze their inventory!"
   ],
   "cell_type": "markdown",
   "metadata": {}
  },
  {
   "source": [
    "## Answer Customer Emails\n",
    "\n",
    "1. Data for all of the locations of Petal Power is in the file `inventory.csv`. Load the data into a DataFrame called `inventory`."
   ],
   "cell_type": "markdown",
   "metadata": {}
  },
  {
   "cell_type": "code",
   "execution_count": 1,
   "metadata": {},
   "outputs": [],
   "source": [
    "import pandas as pd\n",
    "\n",
    "inventory = pd.read_csv('inventory.csv')"
   ]
  },
  {
   "source": [
    "2. Inspect the first 10 rows of `inventory`."
   ],
   "cell_type": "markdown",
   "metadata": {}
  },
  {
   "cell_type": "code",
   "execution_count": 2,
   "metadata": {},
   "outputs": [
    {
     "output_type": "execute_result",
     "data": {
      "text/plain": [
       "        location  product_type         product_description  quantity  price\n",
       "0  Staten Island         seeds                       daisy         4   6.99\n",
       "1  Staten Island         seeds                  calla lily        46  19.99\n",
       "2  Staten Island         seeds                      tomato        85  13.99\n",
       "3  Staten Island  garden tools                        rake         4  13.99\n",
       "4  Staten Island  garden tools                 wheelbarrow         0  89.99\n",
       "5  Staten Island  garden tools                       spade        93  19.99\n",
       "6  Staten Island  pest_control               insect killer        74  12.99\n",
       "7  Staten Island  pest_control                 weed killer         8  23.99\n",
       "8  Staten Island       planter  20 inch terracotta planter         0  17.99\n",
       "9  Staten Island       planter      8 inch plastic planter        53   3.99"
      ],
      "text/html": "<div>\n<style scoped>\n    .dataframe tbody tr th:only-of-type {\n        vertical-align: middle;\n    }\n\n    .dataframe tbody tr th {\n        vertical-align: top;\n    }\n\n    .dataframe thead th {\n        text-align: right;\n    }\n</style>\n<table border=\"1\" class=\"dataframe\">\n  <thead>\n    <tr style=\"text-align: right;\">\n      <th></th>\n      <th>location</th>\n      <th>product_type</th>\n      <th>product_description</th>\n      <th>quantity</th>\n      <th>price</th>\n    </tr>\n  </thead>\n  <tbody>\n    <tr>\n      <th>0</th>\n      <td>Staten Island</td>\n      <td>seeds</td>\n      <td>daisy</td>\n      <td>4</td>\n      <td>6.99</td>\n    </tr>\n    <tr>\n      <th>1</th>\n      <td>Staten Island</td>\n      <td>seeds</td>\n      <td>calla lily</td>\n      <td>46</td>\n      <td>19.99</td>\n    </tr>\n    <tr>\n      <th>2</th>\n      <td>Staten Island</td>\n      <td>seeds</td>\n      <td>tomato</td>\n      <td>85</td>\n      <td>13.99</td>\n    </tr>\n    <tr>\n      <th>3</th>\n      <td>Staten Island</td>\n      <td>garden tools</td>\n      <td>rake</td>\n      <td>4</td>\n      <td>13.99</td>\n    </tr>\n    <tr>\n      <th>4</th>\n      <td>Staten Island</td>\n      <td>garden tools</td>\n      <td>wheelbarrow</td>\n      <td>0</td>\n      <td>89.99</td>\n    </tr>\n    <tr>\n      <th>5</th>\n      <td>Staten Island</td>\n      <td>garden tools</td>\n      <td>spade</td>\n      <td>93</td>\n      <td>19.99</td>\n    </tr>\n    <tr>\n      <th>6</th>\n      <td>Staten Island</td>\n      <td>pest_control</td>\n      <td>insect killer</td>\n      <td>74</td>\n      <td>12.99</td>\n    </tr>\n    <tr>\n      <th>7</th>\n      <td>Staten Island</td>\n      <td>pest_control</td>\n      <td>weed killer</td>\n      <td>8</td>\n      <td>23.99</td>\n    </tr>\n    <tr>\n      <th>8</th>\n      <td>Staten Island</td>\n      <td>planter</td>\n      <td>20 inch terracotta planter</td>\n      <td>0</td>\n      <td>17.99</td>\n    </tr>\n    <tr>\n      <th>9</th>\n      <td>Staten Island</td>\n      <td>planter</td>\n      <td>8 inch plastic planter</td>\n      <td>53</td>\n      <td>3.99</td>\n    </tr>\n  </tbody>\n</table>\n</div>"
     },
     "metadata": {},
     "execution_count": 2
    }
   ],
   "source": [
    "inventory.head(10)"
   ]
  },
  {
   "source": [
    "3. The first 10 rows represent data from your Staten Island location. Select these rows and save them to `staten_island`."
   ],
   "cell_type": "markdown",
   "metadata": {}
  },
  {
   "cell_type": "code",
   "execution_count": 3,
   "metadata": {},
   "outputs": [
    {
     "output_type": "execute_result",
     "data": {
      "text/plain": [
       "        location  product_type         product_description  quantity  price\n",
       "0  Staten Island         seeds                       daisy         4   6.99\n",
       "1  Staten Island         seeds                  calla lily        46  19.99\n",
       "2  Staten Island         seeds                      tomato        85  13.99\n",
       "3  Staten Island  garden tools                        rake         4  13.99\n",
       "4  Staten Island  garden tools                 wheelbarrow         0  89.99\n",
       "5  Staten Island  garden tools                       spade        93  19.99\n",
       "6  Staten Island  pest_control               insect killer        74  12.99\n",
       "7  Staten Island  pest_control                 weed killer         8  23.99\n",
       "8  Staten Island       planter  20 inch terracotta planter         0  17.99\n",
       "9  Staten Island       planter      8 inch plastic planter        53   3.99"
      ],
      "text/html": "<div>\n<style scoped>\n    .dataframe tbody tr th:only-of-type {\n        vertical-align: middle;\n    }\n\n    .dataframe tbody tr th {\n        vertical-align: top;\n    }\n\n    .dataframe thead th {\n        text-align: right;\n    }\n</style>\n<table border=\"1\" class=\"dataframe\">\n  <thead>\n    <tr style=\"text-align: right;\">\n      <th></th>\n      <th>location</th>\n      <th>product_type</th>\n      <th>product_description</th>\n      <th>quantity</th>\n      <th>price</th>\n    </tr>\n  </thead>\n  <tbody>\n    <tr>\n      <th>0</th>\n      <td>Staten Island</td>\n      <td>seeds</td>\n      <td>daisy</td>\n      <td>4</td>\n      <td>6.99</td>\n    </tr>\n    <tr>\n      <th>1</th>\n      <td>Staten Island</td>\n      <td>seeds</td>\n      <td>calla lily</td>\n      <td>46</td>\n      <td>19.99</td>\n    </tr>\n    <tr>\n      <th>2</th>\n      <td>Staten Island</td>\n      <td>seeds</td>\n      <td>tomato</td>\n      <td>85</td>\n      <td>13.99</td>\n    </tr>\n    <tr>\n      <th>3</th>\n      <td>Staten Island</td>\n      <td>garden tools</td>\n      <td>rake</td>\n      <td>4</td>\n      <td>13.99</td>\n    </tr>\n    <tr>\n      <th>4</th>\n      <td>Staten Island</td>\n      <td>garden tools</td>\n      <td>wheelbarrow</td>\n      <td>0</td>\n      <td>89.99</td>\n    </tr>\n    <tr>\n      <th>5</th>\n      <td>Staten Island</td>\n      <td>garden tools</td>\n      <td>spade</td>\n      <td>93</td>\n      <td>19.99</td>\n    </tr>\n    <tr>\n      <th>6</th>\n      <td>Staten Island</td>\n      <td>pest_control</td>\n      <td>insect killer</td>\n      <td>74</td>\n      <td>12.99</td>\n    </tr>\n    <tr>\n      <th>7</th>\n      <td>Staten Island</td>\n      <td>pest_control</td>\n      <td>weed killer</td>\n      <td>8</td>\n      <td>23.99</td>\n    </tr>\n    <tr>\n      <th>8</th>\n      <td>Staten Island</td>\n      <td>planter</td>\n      <td>20 inch terracotta planter</td>\n      <td>0</td>\n      <td>17.99</td>\n    </tr>\n    <tr>\n      <th>9</th>\n      <td>Staten Island</td>\n      <td>planter</td>\n      <td>8 inch plastic planter</td>\n      <td>53</td>\n      <td>3.99</td>\n    </tr>\n  </tbody>\n</table>\n</div>"
     },
     "metadata": {},
     "execution_count": 3
    }
   ],
   "source": [
    "staten_island = inventory.iloc[:10]\n",
    "\n",
    "staten_island"
   ]
  },
  {
   "source": [
    "4. A customer just emailed you asking what products are sold at your Staten Island location. Select the column `product_description` from `staten_island` and save it to the variable `product_request`."
   ],
   "cell_type": "markdown",
   "metadata": {}
  },
  {
   "cell_type": "code",
   "execution_count": 4,
   "metadata": {},
   "outputs": [
    {
     "output_type": "execute_result",
     "data": {
      "text/plain": [
       "0                         daisy\n",
       "1                    calla lily\n",
       "2                        tomato\n",
       "3                          rake\n",
       "4                   wheelbarrow\n",
       "5                         spade\n",
       "6                 insect killer\n",
       "7                   weed killer\n",
       "8    20 inch terracotta planter\n",
       "9        8 inch plastic planter\n",
       "Name: product_description, dtype: object"
      ]
     },
     "metadata": {},
     "execution_count": 4
    }
   ],
   "source": [
    "product_request = staten_island.product_description\n",
    "\n",
    "product_request"
   ]
  },
  {
   "source": [
    "5. Another customer emails to ask what types of seeds are sold at the Brooklyn location. Select all rows where location is equal to Brooklyn and `product_type` is equal to seeds and save them to the variable `seed_request`."
   ],
   "cell_type": "markdown",
   "metadata": {}
  },
  {
   "cell_type": "code",
   "execution_count": 5,
   "metadata": {},
   "outputs": [
    {
     "output_type": "execute_result",
     "data": {
      "text/plain": [
       "    location product_type product_description  quantity  price\n",
       "10  Brooklyn        seeds               daisy        50   6.99\n",
       "11  Brooklyn        seeds          calla lily         0  19.99\n",
       "12  Brooklyn        seeds              tomato         0  13.99"
      ],
      "text/html": "<div>\n<style scoped>\n    .dataframe tbody tr th:only-of-type {\n        vertical-align: middle;\n    }\n\n    .dataframe tbody tr th {\n        vertical-align: top;\n    }\n\n    .dataframe thead th {\n        text-align: right;\n    }\n</style>\n<table border=\"1\" class=\"dataframe\">\n  <thead>\n    <tr style=\"text-align: right;\">\n      <th></th>\n      <th>location</th>\n      <th>product_type</th>\n      <th>product_description</th>\n      <th>quantity</th>\n      <th>price</th>\n    </tr>\n  </thead>\n  <tbody>\n    <tr>\n      <th>10</th>\n      <td>Brooklyn</td>\n      <td>seeds</td>\n      <td>daisy</td>\n      <td>50</td>\n      <td>6.99</td>\n    </tr>\n    <tr>\n      <th>11</th>\n      <td>Brooklyn</td>\n      <td>seeds</td>\n      <td>calla lily</td>\n      <td>0</td>\n      <td>19.99</td>\n    </tr>\n    <tr>\n      <th>12</th>\n      <td>Brooklyn</td>\n      <td>seeds</td>\n      <td>tomato</td>\n      <td>0</td>\n      <td>13.99</td>\n    </tr>\n  </tbody>\n</table>\n</div>"
     },
     "metadata": {},
     "execution_count": 5
    }
   ],
   "source": [
    "seed_request = inventory[(inventory.location == 'Brooklyn') & (inventory.product_type == 'seeds')]\n",
    "\n",
    "seed_request"
   ]
  },
  {
   "source": [
    "## Inventory\n",
    "\n",
    "6. Add a column to inventory called `in_stock` which is `True` if quantity is greater than 0 and `False` if quantity equals 0."
   ],
   "cell_type": "markdown",
   "metadata": {}
  },
  {
   "cell_type": "code",
   "execution_count": 6,
   "metadata": {},
   "outputs": [
    {
     "output_type": "execute_result",
     "data": {
      "text/plain": [
       "        location  product_type product_description  quantity  price  in_stock\n",
       "0  Staten Island         seeds               daisy         4   6.99      True\n",
       "1  Staten Island         seeds          calla lily        46  19.99      True\n",
       "2  Staten Island         seeds              tomato        85  13.99      True\n",
       "3  Staten Island  garden tools                rake         4  13.99      True\n",
       "4  Staten Island  garden tools         wheelbarrow         0  89.99     False"
      ],
      "text/html": "<div>\n<style scoped>\n    .dataframe tbody tr th:only-of-type {\n        vertical-align: middle;\n    }\n\n    .dataframe tbody tr th {\n        vertical-align: top;\n    }\n\n    .dataframe thead th {\n        text-align: right;\n    }\n</style>\n<table border=\"1\" class=\"dataframe\">\n  <thead>\n    <tr style=\"text-align: right;\">\n      <th></th>\n      <th>location</th>\n      <th>product_type</th>\n      <th>product_description</th>\n      <th>quantity</th>\n      <th>price</th>\n      <th>in_stock</th>\n    </tr>\n  </thead>\n  <tbody>\n    <tr>\n      <th>0</th>\n      <td>Staten Island</td>\n      <td>seeds</td>\n      <td>daisy</td>\n      <td>4</td>\n      <td>6.99</td>\n      <td>True</td>\n    </tr>\n    <tr>\n      <th>1</th>\n      <td>Staten Island</td>\n      <td>seeds</td>\n      <td>calla lily</td>\n      <td>46</td>\n      <td>19.99</td>\n      <td>True</td>\n    </tr>\n    <tr>\n      <th>2</th>\n      <td>Staten Island</td>\n      <td>seeds</td>\n      <td>tomato</td>\n      <td>85</td>\n      <td>13.99</td>\n      <td>True</td>\n    </tr>\n    <tr>\n      <th>3</th>\n      <td>Staten Island</td>\n      <td>garden tools</td>\n      <td>rake</td>\n      <td>4</td>\n      <td>13.99</td>\n      <td>True</td>\n    </tr>\n    <tr>\n      <th>4</th>\n      <td>Staten Island</td>\n      <td>garden tools</td>\n      <td>wheelbarrow</td>\n      <td>0</td>\n      <td>89.99</td>\n      <td>False</td>\n    </tr>\n  </tbody>\n</table>\n</div>"
     },
     "metadata": {},
     "execution_count": 6
    }
   ],
   "source": [
    "inventory['in_stock'] = inventory.apply(lambda row: row.quantity > 0, axis=1)\n",
    "\n",
    "inventory.head()"
   ]
  },
  {
   "source": [
    "7. Petal Power wants to know how valuable their current inventory is. Create a column called `total_value` that is equal to `price` multiplied by `quantity`.\n"
   ],
   "cell_type": "markdown",
   "metadata": {}
  },
  {
   "cell_type": "code",
   "execution_count": 7,
   "metadata": {},
   "outputs": [
    {
     "output_type": "execute_result",
     "data": {
      "text/plain": [
       "        location  product_type product_description  quantity  price  in_stock  \\\n",
       "0  Staten Island         seeds               daisy         4   6.99      True   \n",
       "1  Staten Island         seeds          calla lily        46  19.99      True   \n",
       "2  Staten Island         seeds              tomato        85  13.99      True   \n",
       "3  Staten Island  garden tools                rake         4  13.99      True   \n",
       "4  Staten Island  garden tools         wheelbarrow         0  89.99     False   \n",
       "\n",
       "   total_value  \n",
       "0        27.96  \n",
       "1       919.54  \n",
       "2      1189.15  \n",
       "3        55.96  \n",
       "4         0.00  "
      ],
      "text/html": "<div>\n<style scoped>\n    .dataframe tbody tr th:only-of-type {\n        vertical-align: middle;\n    }\n\n    .dataframe tbody tr th {\n        vertical-align: top;\n    }\n\n    .dataframe thead th {\n        text-align: right;\n    }\n</style>\n<table border=\"1\" class=\"dataframe\">\n  <thead>\n    <tr style=\"text-align: right;\">\n      <th></th>\n      <th>location</th>\n      <th>product_type</th>\n      <th>product_description</th>\n      <th>quantity</th>\n      <th>price</th>\n      <th>in_stock</th>\n      <th>total_value</th>\n    </tr>\n  </thead>\n  <tbody>\n    <tr>\n      <th>0</th>\n      <td>Staten Island</td>\n      <td>seeds</td>\n      <td>daisy</td>\n      <td>4</td>\n      <td>6.99</td>\n      <td>True</td>\n      <td>27.96</td>\n    </tr>\n    <tr>\n      <th>1</th>\n      <td>Staten Island</td>\n      <td>seeds</td>\n      <td>calla lily</td>\n      <td>46</td>\n      <td>19.99</td>\n      <td>True</td>\n      <td>919.54</td>\n    </tr>\n    <tr>\n      <th>2</th>\n      <td>Staten Island</td>\n      <td>seeds</td>\n      <td>tomato</td>\n      <td>85</td>\n      <td>13.99</td>\n      <td>True</td>\n      <td>1189.15</td>\n    </tr>\n    <tr>\n      <th>3</th>\n      <td>Staten Island</td>\n      <td>garden tools</td>\n      <td>rake</td>\n      <td>4</td>\n      <td>13.99</td>\n      <td>True</td>\n      <td>55.96</td>\n    </tr>\n    <tr>\n      <th>4</th>\n      <td>Staten Island</td>\n      <td>garden tools</td>\n      <td>wheelbarrow</td>\n      <td>0</td>\n      <td>89.99</td>\n      <td>False</td>\n      <td>0.00</td>\n    </tr>\n  </tbody>\n</table>\n</div>"
     },
     "metadata": {},
     "execution_count": 7
    }
   ],
   "source": [
    "inventory['total_value'] = inventory.apply(lambda row: row.price * row.quantity, axis=1)\n",
    "\n",
    "inventory.head()"
   ]
  },
  {
   "source": [
    "8. The Marketing department wants a complete description of each product for their catalog. The following lambda function combines `product_type` and `product_description` into a single string:"
   ],
   "cell_type": "markdown",
   "metadata": {}
  },
  {
   "cell_type": "code",
   "execution_count": 8,
   "metadata": {},
   "outputs": [],
   "source": [
    "combine_lambda = lambda row: f'{row.product_type} - {row.product_description}'"
   ]
  },
  {
   "source": [
    "9. Using `combine_lambda`, create a new column in `inventory` called `full_description` that has the complete description of each product."
   ],
   "cell_type": "markdown",
   "metadata": {}
  },
  {
   "cell_type": "code",
   "execution_count": 9,
   "metadata": {},
   "outputs": [
    {
     "output_type": "execute_result",
     "data": {
      "text/plain": [
       "        location  product_type product_description  quantity  price  in_stock  \\\n",
       "0  Staten Island         seeds               daisy         4   6.99      True   \n",
       "1  Staten Island         seeds          calla lily        46  19.99      True   \n",
       "2  Staten Island         seeds              tomato        85  13.99      True   \n",
       "3  Staten Island  garden tools                rake         4  13.99      True   \n",
       "4  Staten Island  garden tools         wheelbarrow         0  89.99     False   \n",
       "\n",
       "   total_value            full_description  \n",
       "0        27.96               seeds - daisy  \n",
       "1       919.54          seeds - calla lily  \n",
       "2      1189.15              seeds - tomato  \n",
       "3        55.96         garden tools - rake  \n",
       "4         0.00  garden tools - wheelbarrow  "
      ],
      "text/html": "<div>\n<style scoped>\n    .dataframe tbody tr th:only-of-type {\n        vertical-align: middle;\n    }\n\n    .dataframe tbody tr th {\n        vertical-align: top;\n    }\n\n    .dataframe thead th {\n        text-align: right;\n    }\n</style>\n<table border=\"1\" class=\"dataframe\">\n  <thead>\n    <tr style=\"text-align: right;\">\n      <th></th>\n      <th>location</th>\n      <th>product_type</th>\n      <th>product_description</th>\n      <th>quantity</th>\n      <th>price</th>\n      <th>in_stock</th>\n      <th>total_value</th>\n      <th>full_description</th>\n    </tr>\n  </thead>\n  <tbody>\n    <tr>\n      <th>0</th>\n      <td>Staten Island</td>\n      <td>seeds</td>\n      <td>daisy</td>\n      <td>4</td>\n      <td>6.99</td>\n      <td>True</td>\n      <td>27.96</td>\n      <td>seeds - daisy</td>\n    </tr>\n    <tr>\n      <th>1</th>\n      <td>Staten Island</td>\n      <td>seeds</td>\n      <td>calla lily</td>\n      <td>46</td>\n      <td>19.99</td>\n      <td>True</td>\n      <td>919.54</td>\n      <td>seeds - calla lily</td>\n    </tr>\n    <tr>\n      <th>2</th>\n      <td>Staten Island</td>\n      <td>seeds</td>\n      <td>tomato</td>\n      <td>85</td>\n      <td>13.99</td>\n      <td>True</td>\n      <td>1189.15</td>\n      <td>seeds - tomato</td>\n    </tr>\n    <tr>\n      <th>3</th>\n      <td>Staten Island</td>\n      <td>garden tools</td>\n      <td>rake</td>\n      <td>4</td>\n      <td>13.99</td>\n      <td>True</td>\n      <td>55.96</td>\n      <td>garden tools - rake</td>\n    </tr>\n    <tr>\n      <th>4</th>\n      <td>Staten Island</td>\n      <td>garden tools</td>\n      <td>wheelbarrow</td>\n      <td>0</td>\n      <td>89.99</td>\n      <td>False</td>\n      <td>0.00</td>\n      <td>garden tools - wheelbarrow</td>\n    </tr>\n  </tbody>\n</table>\n</div>"
     },
     "metadata": {},
     "execution_count": 9
    }
   ],
   "source": [
    "inventory['full_description'] = inventory.apply(combine_lambda, axis=1)\n",
    "\n",
    "inventory.head()"
   ]
  }
 ]
}