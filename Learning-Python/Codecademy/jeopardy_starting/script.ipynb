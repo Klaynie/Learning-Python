{
 "metadata": {
  "language_info": {
   "codemirror_mode": {
    "name": "ipython",
    "version": 3
   },
   "file_extension": ".py",
   "mimetype": "text/x-python",
   "name": "python",
   "nbconvert_exporter": "python",
   "pygments_lexer": "ipython3",
   "version": "3.9.1-final"
  },
  "orig_nbformat": 2,
  "kernelspec": {
   "name": "python3",
   "display_name": "Python 3.9.1 64-bit",
   "metadata": {
    "interpreter": {
     "hash": "ac59ebe37160ed0dfa835113d9b8498d9f09ceb179beaac4002f036b9467c963"
    }
   }
  }
 },
 "nbformat": 4,
 "nbformat_minor": 2,
 "cells": [
  {
   "source": [
    "# This Is Jeopardy!\n",
    "\n",
    "## Overview\n",
    "\n",
    "This project is slightly different than others you have encountered thus far on Codecademy. Instead of a step-by-step tutorial, this project contains a series of open-ended requirements which describe the project you will be building. There are many possible ways to correctly fulfill all of these requirements, and you should expect to use the internet, Codecademy, and other resources when you encounter a problem that you cannot easily solve.\n",
    "\n",
    "## Project Goals\n",
    "\n",
    "You will work to write several functions that investigate a dataset of Jeopardy! questions and answers. Filter the dataset for topics that you are interested in, compute the average difficulty of those questions, and train to become the next Jeopardy champion!"
   ],
   "cell_type": "markdown",
   "metadata": {}
  },
  {
   "source": [
    "## Prerequisites\n",
    "\n",
    "1. In order to complete this project, you should have completed the Pandas lessons in the <a href=\"https://www.codecademy.com/learn/paths/analyze-data-with-python\">Analyze Data with Python Skill Path</a>. You can also find those lessons in the <a href=\"https://www.codecademy.com/learn/data-processing-pandas\">Data Analysis with Pandas course</a> or the Data Scientist Career Path.\n",
    "\n",
    "    Finally, the Practical Data Cleaning course may also be helpful."
   ],
   "cell_type": "markdown",
   "metadata": {}
  },
  {
   "cell_type": "code",
   "execution_count": 1,
   "metadata": {},
   "outputs": [
    {
     "output_type": "stream",
     "name": "stderr",
     "text": [
      "<ipython-input-1-fd0b9af24538>:2: FutureWarning: Passing a negative integer is deprecated in version 1.0 and will not be supported in future version. Instead, use None to not limit the column width.\n  pd.set_option('display.max_colwidth', -1)\n"
     ]
    }
   ],
   "source": [
    "import pandas as pd\n",
    "pd.set_option('display.max_colwidth', -1)"
   ]
  },
  {
   "source": [
    "## Project Requirements\n",
    "\n",
    "2. We have provided a csv file containing data about the game show Jeopardy! in a file named jeopardy.csv. Load the data into a DataFrame and investigate its contents. Try to print out specific columns.\n",
    "\n",
    "    Note that in order to make this project as \"real-world” as possible, we haven’t modified the data at all — we’re giving it to you exactly how we found it. As a result, this data isn’t as \"clean” as the datasets you normally find on Codecademy. More specifically, there’s something odd about the column names. After you figure out the problem with the column names, you may want to rename them to make your life easier the rest of the project.\n",
    "\n",
    "    In order to disply the full contents of a column, we have added this line of code to the top of your file:\n",
    "\n",
    "    `pd.set_option('display.max_colwidth', -1)`\n",
    "\n",
    "*Hint: The column names all have a leading space. For example, the column that contains the answers is \" Answer\". Notice the space at the front of the column name.*"
   ],
   "cell_type": "markdown",
   "metadata": {}
  },
  {
   "cell_type": "code",
   "execution_count": null,
   "metadata": {},
   "outputs": [],
   "source": []
  },
  {
   "source": [
    "3. Write a function that filters the dataset for questions that contains all of the words in a list of words. For example, when the list `[\"King\", \"England\"]` was passed to our function, the function returned a DataFrame of 152 rows. Every row had the strings `\"King\"` and `\"England\"` somewhere in its `\" Question\"`.\n",
    "\n",
    "    Note that in this example, we found 152 rows by filtering the entire dataset. You can download the entire dataset at the start or end of this project. The dataset used on Codecademy is only a fraction of the dataset so you won’t find as many rows.\n",
    "\n",
    "    Test your function by printing out the column containing the question of each row of the dataset.\n",
    "\n",
    "*Hint: You could use a lambda function to do this. Our lambda function uses the <a href=\"https://docs.python.org/3/library/functions.html#all\">all function</a> to check if all elements of the input list are in the question.*"
   ],
   "cell_type": "markdown",
   "metadata": {}
  },
  {
   "cell_type": "code",
   "execution_count": null,
   "metadata": {},
   "outputs": [],
   "source": []
  },
  {
   "source": [
    "4. Test your original function with a few different sets of words to try to find some ways your function breaks. Edit your function so it is more robust.\n",
    "\n",
    "    For example, think about capitalization. We probably want to find questions that contain the word `\"King\"` or `\"king\"`.\n",
    "\n",
    "    You may also want to check to make sure you do not find rows that contain substrings of your given words. For example, our function found a question that did not contain the word `\"king\"`, however it did contain the word `\"viking\"` — it found the `\"king\"` inside `\"viking\"`. Note that this also comes with some drawbacks — you would no longer find questions that contained words like `\"England's\"`.\n",
    "\n",
    "*Hint: We fixed the capitalization problem by lowercasing the question string and the words in the input array.*"
   ],
   "cell_type": "markdown",
   "metadata": {}
  },
  {
   "cell_type": "code",
   "execution_count": null,
   "metadata": {},
   "outputs": [],
   "source": []
  },
  {
   "source": [
    "5. We may want to eventually compute aggregate statistics, like `.mean()` on the `\" Value\"` column. But right now, the values in that column are strings. Convert the `\" Value\"` column to floats. If you would like to, you can create a new column with the float values.\n",
    "\n",
    "    Now that you can filter the dataset of question, use your new column that contains the float values of each question to find the \"difficulty\" of certain topics. For example, what is the average value of questions that contain the word `\"King\"`?\n",
    "\n",
    "    Make sure to use the dataset that contains the float values as the dataset you use in your filtering function.\n",
    "\n",
    "*Hint: In order to convert these values, you will have to remove the dollar sign and commas from the string and then cast that string as a float. Be careful — some of the values in that column are `\"None\"` (those rows represent Final Jeopardy questions). You will have to do something different for those rows — if you try to remove the non-existent dollar sign and commas from those rows, you will get an error!*\n",
    "\n",
    "*We used the replace method to remove the dollar sign and commas.*\n",
    "\n",
    "*To find the average value of the new column, we used the mean method.*"
   ],
   "cell_type": "markdown",
   "metadata": {}
  },
  {
   "cell_type": "code",
   "execution_count": null,
   "metadata": {},
   "outputs": [],
   "source": []
  },
  {
   "source": [
    "6. Write a function that returns the count of the unique answers to all of the questions in a dataset. For example, after filtering the entire dataset to only questions containing the word `\"King\"`, we could then find all of the unique answers to those questions. The answer \"Henry VIII\" appeared 3 times and was the most common answer.\n",
    "\n",
    "*Hint: You could write your own function that does this, but the <a href=\"https://pandas.pydata.org/pandas-docs/stable/reference/api/pandas.Series.value_counts.html\">value_counts<a> method can help!*"
   ],
   "cell_type": "markdown",
   "metadata": {}
  },
  {
   "cell_type": "code",
   "execution_count": null,
   "metadata": {},
   "outputs": [],
   "source": []
  },
  {
   "source": [
    "7. Explore from here! This is an incredibly rich dataset, and there are so many interesting things to discover. There are a few columns that we have not even started looking at yet. Here are some ideas on ways to continue working with this data:\n",
    "\n",
    "    * Investigate the ways in which questions change over time by filtering by the date. How many questions from the 90s use the word `\"Computer\"` compared to questions from the 2000s?\n",
    "    * Is there a connection between the round and the category? Are you more likely to find certain categories, like `\"Literature\"` in Single Jeopardy or Double Jeopardy?\n",
    "    * Build a system to quiz yourself. Grab random questions, and use the <a href=\"https://docs.python.org/3/library/functions.html#input\">input</a> function to get a response from the user. Check to see if that response was right or wrong. Note that you can’t do this on the Codecademy platform — to do this, download the data, and write and run the code on your own computer!"
   ],
   "cell_type": "markdown",
   "metadata": {}
  },
  {
   "cell_type": "code",
   "execution_count": null,
   "metadata": {},
   "outputs": [],
   "source": []
  },
  {
   "source": [
    "## Solution\n",
    "\n",
    "8. Compare your program to our <a href=\"https://content.codecademy.com/PRO/independent-practice-projects/jeopardy/jeopardy_solution.zip\">sample solution code</a> - remember, that your program might look different from ours (and probably will) and that is okay!"
   ],
   "cell_type": "markdown",
   "metadata": {}
  },
  {
   "cell_type": "code",
   "execution_count": null,
   "metadata": {},
   "outputs": [],
   "source": []
  },
  {
   "source": [
    "## Next Steps\n",
    "\n",
    "9. Great work! Visit the codecademy forums to compare your project to our sample solution code. You can also learn how to host your own solution on GitHub so you can share it with other learners! Your solution might look different from ours, and that is okay! There are multiple ways to solve these projects, and you will learn more by seeing others' code."
   ],
   "cell_type": "markdown",
   "metadata": {}
  }
 ]
}