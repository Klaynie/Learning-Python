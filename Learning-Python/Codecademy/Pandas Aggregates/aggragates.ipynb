{
 "metadata": {
  "language_info": {
   "codemirror_mode": {
    "name": "ipython",
    "version": 3
   },
   "file_extension": ".py",
   "mimetype": "text/x-python",
   "name": "python",
   "nbconvert_exporter": "python",
   "pygments_lexer": "ipython3",
   "version": "3.7.6-final"
  },
  "orig_nbformat": 2,
  "kernelspec": {
   "name": "python3",
   "display_name": "Python 3",
   "language": "python"
  }
 },
 "nbformat": 4,
 "nbformat_minor": 2,
 "cells": [
  {
   "source": [
    "# Aggregates in Pandas\n",
    "## Introduction\n",
    "\n",
    "This lesson you will learn about <i>aggregates</i> in Pandas. An <i>aggregate</i> statistic is a way of creating a single number that describes a group of numbers. Common aggregate statistics include mean, median, or standard deviation.<br>\n",
    "<br>\n",
    "You will also learn how to rearrange a DataFrame into a <i>pivot table</i>, which is a great way to compare data across two dimensions."
   ],
   "cell_type": "markdown",
   "metadata": {}
  },
  {
   "source": [
    "## Calculating Column Statistics\n",
    "\n",
    "In the previous lesson, you learned how to perform operations on each value in a column using apply.<br>\n",
    "<br>\n",
    "In this exercise, you will learn how to combine all of the values from a column for a single calculation.<br>\n",
    "<br>\n",
    "Some examples of this type of calculation include:<br>\n",
    "\n",
    "* The DataFrame customers contains the names and ages of all of your customers. You want to find the median age:<br>\n",
    "    `print(customers.age)`<br>\n",
    "    `>> [23, 25, 31, 35, 35, 46, 62]`<br>\n",
    "    `print(customers.age.median())`<br>\n",
    "    `>> 35`<br>\n",
    "<br>\n",
    "* The DataFrame shipments contains address information for all shipments that you’ve sent out in the past year. You want to know how many different states you have shipped to (and how many shipments went to the same state):<br>\n",
    "    `print(shipments.state)`<br>\n",
    "    `>> ['CA', 'CA', 'CA', 'CA', 'NY', 'NY', 'NJ', 'NJ', 'NJ', 'NJ', 'NJ', 'NJ', 'NJ']`<br>\n",
    "    `print(shipments.state.nunique())`<br>\n",
    "    `>> 3`<br>\n",
    "<br>\n",
    "* The DataFrame inventory contains a list of types of t-shirts that your company makes. You want a list of the colors that your shirts come in:<br>\n",
    "    `print(inventory.color)`<br>\n",
    "    `>> ['blue', 'blue', 'blue', 'blue', 'blue', 'green', 'green', 'orange', 'orange', 'orange']`<br>\n",
    "    `print(inventory.color.unique())`<br>\n",
    "    `>> ['blue', 'green', 'orange']`<br>\n",
    "\n",
    "The general syntax for these calculations is:<br>\n",
    "<br>\n",
    "`df.column_name.command()`<br>\n",
    "<br>\n",
    "The following table summarizes some common commands:<br>\n",
    "\n",
    "|Command|Description|\n",
    "|:------|:----------|\n",
    "|`mean`|Average of all values in column|\n",
    "|`std`|Standard deviation|\n",
    "|`median`|Median|\n",
    "|`max`|Maximum value in column|\n",
    "|`min`|Minimum value in column|\n",
    "|`count`|Number of values in column|\n",
    "|`nunique`|Number of unique values in column|\n",
    "|`unique`|List of unique values in column|"
   ],
   "cell_type": "markdown",
   "metadata": {}
  },
  {
   "source": [
    "1. Once more, we'll revisit our orders from ShoeFly.com. Our new batch of orders is in the DataFrame `orders`. Examine the first 10 rows of the DataFrame"
   ],
   "cell_type": "markdown",
   "metadata": {}
  },
  {
   "cell_type": "code",
   "execution_count": 1,
   "metadata": {},
   "outputs": [
    {
     "output_type": "execute_result",
     "data": {
      "text/plain": [
       "      id first_name   last_name                         email     shoe_type  \\\n",
       "0  97916    Douglas       Perez      DouglasPerez28@gmail.com     stilettos   \n",
       "1  67691    Tiffany     O'neill    TiffanyO'neill51@gmail.com        wedges   \n",
       "2  72818      Susan       Rivas         Susan.Rivas@gmail.com       sandals   \n",
       "3  28080     Angela      Hopper    AngelaHopper62@outlook.com     stilettos   \n",
       "4  89958     Thomas    Benjamin       TBenjamin1981@gmail.com       sandals   \n",
       "5  11853   Jonathan        Park              JP1285@gmail.com        wedges   \n",
       "6  73682  Christine      Adkins   ChristineAdkins83@gmail.com     stilettos   \n",
       "7  52634    Cynthia      Tanner         CTanner1976@gmail.com     stilettos   \n",
       "8  33847     Walter  Fitzgerald  WalterFitzgerald65@gmail.com  ballet flats   \n",
       "9  25964       Carl      Garcia        CarlGarcia53@gmail.com        wedges   \n",
       "\n",
       "  shoe_material shoe_color  price  \n",
       "0        fabric      brown     90  \n",
       "1       leather       navy     94  \n",
       "2  faux-leather      white     96  \n",
       "3       leather        red     96  \n",
       "4  faux-leather       navy     97  \n",
       "5        fabric      white     98  \n",
       "6  faux-leather        red     99  \n",
       "7  faux-leather       navy     99  \n",
       "8       leather      white    101  \n",
       "9  faux-leather      white    101  "
      ],
      "text/html": "<div>\n<style scoped>\n    .dataframe tbody tr th:only-of-type {\n        vertical-align: middle;\n    }\n\n    .dataframe tbody tr th {\n        vertical-align: top;\n    }\n\n    .dataframe thead th {\n        text-align: right;\n    }\n</style>\n<table border=\"1\" class=\"dataframe\">\n  <thead>\n    <tr style=\"text-align: right;\">\n      <th></th>\n      <th>id</th>\n      <th>first_name</th>\n      <th>last_name</th>\n      <th>email</th>\n      <th>shoe_type</th>\n      <th>shoe_material</th>\n      <th>shoe_color</th>\n      <th>price</th>\n    </tr>\n  </thead>\n  <tbody>\n    <tr>\n      <th>0</th>\n      <td>97916</td>\n      <td>Douglas</td>\n      <td>Perez</td>\n      <td>DouglasPerez28@gmail.com</td>\n      <td>stilettos</td>\n      <td>fabric</td>\n      <td>brown</td>\n      <td>90</td>\n    </tr>\n    <tr>\n      <th>1</th>\n      <td>67691</td>\n      <td>Tiffany</td>\n      <td>O'neill</td>\n      <td>TiffanyO'neill51@gmail.com</td>\n      <td>wedges</td>\n      <td>leather</td>\n      <td>navy</td>\n      <td>94</td>\n    </tr>\n    <tr>\n      <th>2</th>\n      <td>72818</td>\n      <td>Susan</td>\n      <td>Rivas</td>\n      <td>Susan.Rivas@gmail.com</td>\n      <td>sandals</td>\n      <td>faux-leather</td>\n      <td>white</td>\n      <td>96</td>\n    </tr>\n    <tr>\n      <th>3</th>\n      <td>28080</td>\n      <td>Angela</td>\n      <td>Hopper</td>\n      <td>AngelaHopper62@outlook.com</td>\n      <td>stilettos</td>\n      <td>leather</td>\n      <td>red</td>\n      <td>96</td>\n    </tr>\n    <tr>\n      <th>4</th>\n      <td>89958</td>\n      <td>Thomas</td>\n      <td>Benjamin</td>\n      <td>TBenjamin1981@gmail.com</td>\n      <td>sandals</td>\n      <td>faux-leather</td>\n      <td>navy</td>\n      <td>97</td>\n    </tr>\n    <tr>\n      <th>5</th>\n      <td>11853</td>\n      <td>Jonathan</td>\n      <td>Park</td>\n      <td>JP1285@gmail.com</td>\n      <td>wedges</td>\n      <td>fabric</td>\n      <td>white</td>\n      <td>98</td>\n    </tr>\n    <tr>\n      <th>6</th>\n      <td>73682</td>\n      <td>Christine</td>\n      <td>Adkins</td>\n      <td>ChristineAdkins83@gmail.com</td>\n      <td>stilettos</td>\n      <td>faux-leather</td>\n      <td>red</td>\n      <td>99</td>\n    </tr>\n    <tr>\n      <th>7</th>\n      <td>52634</td>\n      <td>Cynthia</td>\n      <td>Tanner</td>\n      <td>CTanner1976@gmail.com</td>\n      <td>stilettos</td>\n      <td>faux-leather</td>\n      <td>navy</td>\n      <td>99</td>\n    </tr>\n    <tr>\n      <th>8</th>\n      <td>33847</td>\n      <td>Walter</td>\n      <td>Fitzgerald</td>\n      <td>WalterFitzgerald65@gmail.com</td>\n      <td>ballet flats</td>\n      <td>leather</td>\n      <td>white</td>\n      <td>101</td>\n    </tr>\n    <tr>\n      <th>9</th>\n      <td>25964</td>\n      <td>Carl</td>\n      <td>Garcia</td>\n      <td>CarlGarcia53@gmail.com</td>\n      <td>wedges</td>\n      <td>faux-leather</td>\n      <td>white</td>\n      <td>101</td>\n    </tr>\n  </tbody>\n</table>\n</div>"
     },
     "metadata": {},
     "execution_count": 1
    }
   ],
   "source": [
    "import pandas as pd\n",
    "\n",
    "orders = pd.read_csv('orders.csv')\n",
    "\n",
    "orders.head(10)"
   ]
  },
  {
   "source": [
    "2. Our finance department wants to know the price of the most expensive pair of shoes purchased. Save your answer to the variable `most_expensive.`"
   ],
   "cell_type": "markdown",
   "metadata": {}
  },
  {
   "cell_type": "code",
   "execution_count": 2,
   "metadata": {},
   "outputs": [
    {
     "output_type": "execute_result",
     "data": {
      "text/plain": [
       "498"
      ]
     },
     "metadata": {},
     "execution_count": 2
    }
   ],
   "source": [
    "most_expensive = orders.price.max()\n",
    "\n",
    "most_expensive"
   ]
  },
  {
   "source": [
    "3. Our fashion department wants to know how many different colors of shoes we are selling. Save your answer to the variable `num_colors`."
   ],
   "cell_type": "markdown",
   "metadata": {}
  },
  {
   "cell_type": "code",
   "execution_count": 3,
   "metadata": {},
   "outputs": [
    {
     "output_type": "execute_result",
     "data": {
      "text/plain": [
       "5"
      ]
     },
     "metadata": {},
     "execution_count": 3
    }
   ],
   "source": [
    "num_colors = orders.shoe_color.nunique()\n",
    "\n",
    "num_colors"
   ]
  },
  {
   "source": [
    "***"
   ],
   "cell_type": "markdown",
   "metadata": {}
  },
  {
   "source": [
    "## Calculating Aggregate Functions I\n",
    "\n",
    "When we have a bunch of data, we often want to calculate aggregate statistics (mean, standard deviation, median, percentiles, etc.) over certain subsets of the data.<br>\n",
    "<br>\n",
    "Suppose we have a grade book with columns `student`, `assignment_name`, and `grade`. The first few lines look like this:<br>\n",
    "\n",
    "|student|assignment_name|grade|\n",
    "|:------|:--------------|:----|\n",
    "|Amy|Assignment 1|75|\n",
    "|Amy|Assignment 2|35|\n",
    "|Bob|Assignment 1|99|\n",
    "|Bob|Assignment 2|35|\n",
    "|...||\n",
    "\n",
    "We want to get an average grade for each student across all assignments. We could do some sort of loop, but Pandas gives us a much easier option: the method `.groupby`.<br>\n",
    "<br>\n",
    "For this example, we'd use the following command:<br>\n",
    "<br>\n",
    "`grades = df.groupby('student').grade.mean()`<br>\n",
    "<br>\n",
    "The output might look something like this:<br>\n",
    "\n",
    "|student|grade|\n",
    "|:------|:----|\n",
    "|Amy|80|\n",
    "|Bob|90|\n",
    "|Chris|75|\n",
    "|…||\n",
    "\t\n",
    "In general, we use the following syntax to calculate aggregates:<br>\n",
    "<br>\n",
    "`df.groupby('column1').column2.measurement()`<br>\n",
    "<br>\n",
    "where:<br>\n",
    "* `column1` is the column that we want to group by (`'student'` in our example)\n",
    "* `column2` is the column that we want to perform a measurement on (`grade` in our example)\n",
    "* `measurement` is the measurement function we want to apply (`mean` in our example)"
   ],
   "cell_type": "markdown",
   "metadata": {}
  },
  {
   "source": [
    "1. Let's return to our orders data from ShoeFly.com.<br>\n",
    "<br>\n",
    "In the previous exercise, our finance department wanted to know the most expensive shoe that we sold.<br>\n",
    "<br>\n",
    "Now, they want to know the most expensive shoe for each `shoe_type` (i.e., the most expensive boot, the most expensive ballet flat, etc.).<br>\n",
    "<br>\n",
    "Save your answer to the variable `pricey_shoes`."
   ],
   "cell_type": "markdown",
   "metadata": {}
  },
  {
   "cell_type": "code",
   "execution_count": 4,
   "metadata": {},
   "outputs": [
    {
     "output_type": "execute_result",
     "data": {
      "text/plain": [
       "shoe_type\n",
       "ballet flats    498\n",
       "sandals         498\n",
       "stilettos       468\n",
       "wedges          488\n",
       "Name: price, dtype: int64"
      ]
     },
     "metadata": {},
     "execution_count": 4
    }
   ],
   "source": [
    "pricey_shoes = orders.groupby('shoe_type').price.max()\n",
    "\n",
    "pricey_shoes"
   ]
  },
  {
   "source": [
    "2. What type of object is `pricey_shoes`?"
   ],
   "cell_type": "markdown",
   "metadata": {}
  },
  {
   "cell_type": "code",
   "execution_count": 5,
   "metadata": {},
   "outputs": [
    {
     "output_type": "stream",
     "name": "stdout",
     "text": [
      "<class 'pandas.core.series.Series'>\n"
     ]
    }
   ],
   "source": [
    "print(type(pricey_shoes))"
   ]
  },
  {
   "source": [
    "***"
   ],
   "cell_type": "markdown",
   "metadata": {}
  },
  {
   "source": [
    "## Calculating Aggregate Functions II\n",
    "\n",
    "After using `groupby`, we often need to clean our resulting data.<br>\n",
    "<br>\n",
    "As we saw in the previous exercise, the groupby function creates a new Series, not a DataFrame. For our ShoeFly.com example, the indices of the Series were different values of `shoe_type`, and the name property was `price`.<br>\n",
    "<br>\n",
    "Usually, we'd prefer that those indices were actually a column. In order to get that, we can use `reset_index()`. This will transform our Series into a DataFrame and move the indices into their own column.<br>\n",
    "<br>\n",
    "Generally, you'll always see a `groupby` statement followed `by reset_index`:<br>\n",
    "<br>\n",
    "`df.groupby('column1').column2.measurement().reset_index()`<br>\n",
    "<br>\n",
    "When we use groupby, we often want to rename the column we get as a result. For example, suppose we have a DataFrame `teas` containing data on types of tea:<br>\n",
    "\n",
    "|id|tea|category|caffeine|price|\n",
    "|:-|:--|:-------|:-------|:----|\n",
    "|0|earl grey|black|38|3|\n",
    "|1|english breakfast|black|41|3|\n",
    "|2|irish breakfast|black|37|2.5|\n",
    "|3|jasmine|green|23|4.5|\n",
    "|4|matcha|green|48|5|\n",
    "|5|camomile|herbal|0|3|\n",
    "|…|||\n",
    "\n",
    "We want to find the number of each category of tea we sell. We can use:<br>\n",
    "<br>\n",
    "`teas_counts = teas.groupby('category').id.count().reset_index()`<br>\n",
    "<br>\n",
    "This yields a DataFrame that looks like:<br>\n",
    "\n",
    "| |category|id|\n",
    "|-|:-------|:-|\n",
    "|0|black|3|\n",
    "|1|green|4|\n",
    "|2|herbal|8|\n",
    "|3|white|2|\n",
    "|…|\t|\n",
    "\t\n",
    "The new column contains the counts of each category of tea sold. We have 3 black teas, 4 green teas, and so on. However, this column is called `id` because we used the `id` column of teas to calculate the counts. We actually want to call this column `counts`. Remember that we can rename columns:<br>\n",
    "<br>\n",
    "`teas_counts = teas_counts.rename(columns={\"id\": \"counts\"})`<br>\n",
    "<br>\n",
    "Our DataFrame now looks like:\n",
    "\n",
    "| |category|counts|\n",
    "|-|:-------|:-----|\n",
    "|0|black|3|\n",
    "|1|green|4|\n",
    "|2|herbal|8|\n",
    "|3|white|2|\n",
    "|…|\t|"
   ],
   "cell_type": "markdown",
   "metadata": {}
  },
  {
   "source": [
    "1. Modify your code from the previous exercise so that it ends with `reset_index`, which will change `pricey_shoes` into a DataFrame."
   ],
   "cell_type": "markdown",
   "metadata": {}
  },
  {
   "cell_type": "code",
   "execution_count": 6,
   "metadata": {},
   "outputs": [
    {
     "output_type": "execute_result",
     "data": {
      "text/plain": [
       "      shoe_type  price\n",
       "0  ballet flats    498\n",
       "1       sandals    498\n",
       "2     stilettos    468\n",
       "3        wedges    488"
      ],
      "text/html": "<div>\n<style scoped>\n    .dataframe tbody tr th:only-of-type {\n        vertical-align: middle;\n    }\n\n    .dataframe tbody tr th {\n        vertical-align: top;\n    }\n\n    .dataframe thead th {\n        text-align: right;\n    }\n</style>\n<table border=\"1\" class=\"dataframe\">\n  <thead>\n    <tr style=\"text-align: right;\">\n      <th></th>\n      <th>shoe_type</th>\n      <th>price</th>\n    </tr>\n  </thead>\n  <tbody>\n    <tr>\n      <th>0</th>\n      <td>ballet flats</td>\n      <td>498</td>\n    </tr>\n    <tr>\n      <th>1</th>\n      <td>sandals</td>\n      <td>498</td>\n    </tr>\n    <tr>\n      <th>2</th>\n      <td>stilettos</td>\n      <td>468</td>\n    </tr>\n    <tr>\n      <th>3</th>\n      <td>wedges</td>\n      <td>488</td>\n    </tr>\n  </tbody>\n</table>\n</div>"
     },
     "metadata": {},
     "execution_count": 6
    }
   ],
   "source": [
    "orders = pd.read_csv('orders.csv')\n",
    "\n",
    "pricey_shoes = orders.groupby('shoe_type').price.max().reset_index()\n",
    "\n",
    "pricey_shoes"
   ]
  },
  {
   "source": [
    "2. Now, what type of object is `pricey_shoes`?"
   ],
   "cell_type": "markdown",
   "metadata": {}
  },
  {
   "cell_type": "code",
   "execution_count": 7,
   "metadata": {},
   "outputs": [
    {
     "output_type": "stream",
     "name": "stdout",
     "text": [
      "<class 'pandas.core.frame.DataFrame'>\n"
     ]
    }
   ],
   "source": [
    "print(type(pricey_shoes))"
   ]
  },
  {
   "source": [
    "***"
   ],
   "cell_type": "markdown",
   "metadata": {}
  },
  {
   "source": [
    "## Calculating Aggregate Functions III\n",
    "\n",
    "Sometimes, the operation that you want to perform is more complicated than `mean` or `count`. In those cases, you can use the `apply` method and lambda functions, just like we did for individual column operations. Note that the input to our lambda function will always be a list of values.<br>\n",
    "<br>\n",
    "A great example of this is calculating percentiles. Suppose we have a DataFrame of employee information called `df` that has the following columns:<br>\n",
    "* `id`: the employee's id number\n",
    "* `name`: the employee's name\n",
    "* `wage`: the employee's hourly wage\n",
    "* `category`: the type of work that the employee does\n",
    "\n",
    "Our data might look something like this:<br>\n",
    "\n",
    "|id|name|wage|category|\n",
    "|:-|:---|:---|:-------|\n",
    "|10131|Sarah Carney|39|product|\n",
    "|14189|Heather Carey|17|design|\n",
    "|15004|Gary Mercado|33|marketing|\n",
    "|11204|Cora Copaz|27|design|\n",
    "|…||||\n",
    "\n",
    "If we want to calculate the 75th percentile (i.e., the point at which 75% of employees have a lower wage and 25% have a higher wage) for each `category`, we can use the following combination of apply and a lambda function:<br>\n",
    "<br>\n",
    "`# np.percentile can calculate any percentile over an array of values`<br>\n",
    "`high_earners = df.groupby('category').wage`<br>\n",
    "    `.apply(lambda x: np.percentile(x, 75))`<br>\n",
    "    `.reset_index()`<br>\n",
    "<br>\n",
    "The output, `high_earners` might look like this:<br>\n",
    "\n",
    "| |category|wage|\n",
    "|-|:-------|:---|\n",
    "|0|design|23|\n",
    "|1|marketing|35|\n",
    "|2|product|48|\n",
    "|…|||"
   ],
   "cell_type": "markdown",
   "metadata": {}
  },
  {
   "source": [
    "1. Once more, we'll return to the data from ShoeFly.com. Our Marketing team says that it's important to have some affordably priced shoes available for every color of shoe that we sell.<br>\n",
    "<br>\n",
    "Let's calculate the 25th percentile for shoe price for each `shoe_color` to help Marketing decide if we have enough cheap shoes on sale. Save the data to the variable `cheap_shoes`.<br>\n",
    "<br>\n",
    "<b>Note</b>: Be sure to use `reset_index()` at the end of your query so that `cheap_shoes` is a DataFrame."
   ],
   "cell_type": "markdown",
   "metadata": {}
  },
  {
   "cell_type": "code",
   "execution_count": 8,
   "metadata": {},
   "outputs": [
    {
     "output_type": "execute_result",
     "data": {
      "text/plain": [
       "  shoe_color  price\n",
       "0      black  130.0\n",
       "1      brown  248.0\n",
       "2       navy  200.0\n",
       "3        red  157.0\n",
       "4      white  188.0"
      ],
      "text/html": "<div>\n<style scoped>\n    .dataframe tbody tr th:only-of-type {\n        vertical-align: middle;\n    }\n\n    .dataframe tbody tr th {\n        vertical-align: top;\n    }\n\n    .dataframe thead th {\n        text-align: right;\n    }\n</style>\n<table border=\"1\" class=\"dataframe\">\n  <thead>\n    <tr style=\"text-align: right;\">\n      <th></th>\n      <th>shoe_color</th>\n      <th>price</th>\n    </tr>\n  </thead>\n  <tbody>\n    <tr>\n      <th>0</th>\n      <td>black</td>\n      <td>130.0</td>\n    </tr>\n    <tr>\n      <th>1</th>\n      <td>brown</td>\n      <td>248.0</td>\n    </tr>\n    <tr>\n      <th>2</th>\n      <td>navy</td>\n      <td>200.0</td>\n    </tr>\n    <tr>\n      <th>3</th>\n      <td>red</td>\n      <td>157.0</td>\n    </tr>\n    <tr>\n      <th>4</th>\n      <td>white</td>\n      <td>188.0</td>\n    </tr>\n  </tbody>\n</table>\n</div>"
     },
     "metadata": {},
     "execution_count": 8
    }
   ],
   "source": [
    "import numpy as np\n",
    "\n",
    "orders = pd.read_csv('orders.csv')\n",
    "\n",
    "cheap_shoes = orders.groupby('shoe_color').price\\\n",
    "    .apply(lambda x: np.percentile(x, 25))\\\n",
    "    .reset_index()\n",
    "\n",
    "cheap_shoes"
   ]
  },
  {
   "source": [
    "***"
   ],
   "cell_type": "markdown",
   "metadata": {}
  },
  {
   "source": [
    "## Calculating Aggregate Functions IV\n",
    "\n",
    "Sometimes, we want to group by more than one column. We can easily do this by passing a list of column names into the `groupby` method.<br>\n",
    "<br>\n",
    "Imagine that we run a chain of stores and have data about the number of sales at different locations on different days:<br>\n",
    "\n",
    "|Location|Date|Day of Week|Total Sales|\n",
    "|:-------|:---|:----------|:----------|\n",
    "|West Village|February 1|W|400|\n",
    "|West Village|February 2|Th|450|\n",
    "|Chelsea|February 1|W|375|\n",
    "|Chelsea|February 2|Th|390|\n",
    "\t\t\n",
    "We suspect that sales are different at different locations on different days of the week. In order to test this hypothesis, we could calculate the average sales for each store on each day of the week across multiple months. The code would look like this:<br>\n",
    "<br>\n",
    "`df.groupby(['Location', 'Day of Week'])['Total Sales'].mean().reset_index()`<br>\n",
    "<br>\n",
    "The results might look something like this:\n",
    "\n",
    "|Location|Day of Week|Total Sales|\n",
    "|:-------|:----------|:----------|\n",
    "|Chelsea|M|402.50|\n",
    "|Chelsea|Tu|422.75|\n",
    "|Chelsea|W|452.00|\n",
    "|…|"
   ],
   "cell_type": "markdown",
   "metadata": {}
  },
  {
   "source": [
    "1. At ShoeFly.com, our Purchasing team thinks that certain `shoe_type`/`shoe_color` combinations are particularly popular this year (for example, blue ballet flats are all the rage in Paris).<br>\n",
    "<br>\n",
    "Create a DataFrame with the total number of shoes of each `shoe_type`/`shoe_color` combination purchased. Save it to the variable `shoe_counts`.<br>\n",
    "<br>\n",
    "You should be able to do this using `groupby` and `count()`.<br>\n",
    "<br>\n",
    "Note: When we're using `count()`, it doesn't really matter which column we perform the calculation on. You should use `id` in this example, but we would get the same answer if we used shoe_type or `last_name`.<br>\n",
    "<br>\n",
    "Remember to use `reset_index()` at the end of your code!<br>"
   ],
   "cell_type": "markdown",
   "metadata": {}
  },
  {
   "cell_type": "code",
   "execution_count": 9,
   "metadata": {},
   "outputs": [
    {
     "output_type": "execute_result",
     "data": {
      "text/plain": [
       "       shoe_type shoe_color  id\n",
       "0   ballet flats      black   2\n",
       "1   ballet flats      brown  11\n",
       "2   ballet flats       navy  17\n",
       "3   ballet flats        red  13\n",
       "4   ballet flats      white   7\n",
       "5        sandals      black   3\n",
       "6        sandals      brown  10\n",
       "7        sandals       navy  13\n",
       "8        sandals        red  14\n",
       "9        sandals      white  10\n",
       "10     stilettos      black   8\n",
       "11     stilettos      brown  14\n",
       "12     stilettos       navy   7\n",
       "13     stilettos        red  16\n",
       "14     stilettos      white   5\n",
       "15        wedges      brown  13\n",
       "16        wedges       navy  16\n",
       "17        wedges        red   4\n",
       "18        wedges      white  17"
      ],
      "text/html": "<div>\n<style scoped>\n    .dataframe tbody tr th:only-of-type {\n        vertical-align: middle;\n    }\n\n    .dataframe tbody tr th {\n        vertical-align: top;\n    }\n\n    .dataframe thead th {\n        text-align: right;\n    }\n</style>\n<table border=\"1\" class=\"dataframe\">\n  <thead>\n    <tr style=\"text-align: right;\">\n      <th></th>\n      <th>shoe_type</th>\n      <th>shoe_color</th>\n      <th>id</th>\n    </tr>\n  </thead>\n  <tbody>\n    <tr>\n      <th>0</th>\n      <td>ballet flats</td>\n      <td>black</td>\n      <td>2</td>\n    </tr>\n    <tr>\n      <th>1</th>\n      <td>ballet flats</td>\n      <td>brown</td>\n      <td>11</td>\n    </tr>\n    <tr>\n      <th>2</th>\n      <td>ballet flats</td>\n      <td>navy</td>\n      <td>17</td>\n    </tr>\n    <tr>\n      <th>3</th>\n      <td>ballet flats</td>\n      <td>red</td>\n      <td>13</td>\n    </tr>\n    <tr>\n      <th>4</th>\n      <td>ballet flats</td>\n      <td>white</td>\n      <td>7</td>\n    </tr>\n    <tr>\n      <th>5</th>\n      <td>sandals</td>\n      <td>black</td>\n      <td>3</td>\n    </tr>\n    <tr>\n      <th>6</th>\n      <td>sandals</td>\n      <td>brown</td>\n      <td>10</td>\n    </tr>\n    <tr>\n      <th>7</th>\n      <td>sandals</td>\n      <td>navy</td>\n      <td>13</td>\n    </tr>\n    <tr>\n      <th>8</th>\n      <td>sandals</td>\n      <td>red</td>\n      <td>14</td>\n    </tr>\n    <tr>\n      <th>9</th>\n      <td>sandals</td>\n      <td>white</td>\n      <td>10</td>\n    </tr>\n    <tr>\n      <th>10</th>\n      <td>stilettos</td>\n      <td>black</td>\n      <td>8</td>\n    </tr>\n    <tr>\n      <th>11</th>\n      <td>stilettos</td>\n      <td>brown</td>\n      <td>14</td>\n    </tr>\n    <tr>\n      <th>12</th>\n      <td>stilettos</td>\n      <td>navy</td>\n      <td>7</td>\n    </tr>\n    <tr>\n      <th>13</th>\n      <td>stilettos</td>\n      <td>red</td>\n      <td>16</td>\n    </tr>\n    <tr>\n      <th>14</th>\n      <td>stilettos</td>\n      <td>white</td>\n      <td>5</td>\n    </tr>\n    <tr>\n      <th>15</th>\n      <td>wedges</td>\n      <td>brown</td>\n      <td>13</td>\n    </tr>\n    <tr>\n      <th>16</th>\n      <td>wedges</td>\n      <td>navy</td>\n      <td>16</td>\n    </tr>\n    <tr>\n      <th>17</th>\n      <td>wedges</td>\n      <td>red</td>\n      <td>4</td>\n    </tr>\n    <tr>\n      <th>18</th>\n      <td>wedges</td>\n      <td>white</td>\n      <td>17</td>\n    </tr>\n  </tbody>\n</table>\n</div>"
     },
     "metadata": {},
     "execution_count": 9
    }
   ],
   "source": [
    "shoe_counts = orders.groupby(['shoe_type', 'shoe_color']).id.count().reset_index()\n",
    "\n",
    "shoe_counts"
   ]
  },
  {
   "source": [
    "***"
   ],
   "cell_type": "markdown",
   "metadata": {}
  },
  {
   "source": [
    "## Pivot Tables\n",
    "\n",
    "When we perform a groupby across multiple columns, we often want to change how our data is stored. For instance, recall the example where we are running a chain of stores and have data about the number of sales at different locations on different days:\n",
    "\n",
    "|Location|Date|Day of Week|Total Sales|\n",
    "|:-------|:---|:----------|:----------|\n",
    "|West Village|February 1|W|400|\n",
    "|West Village|February 2|Th|450|\n",
    "|Chelsea|February 1|W|375|\n",
    "|Chelsea|February 2|Th|390|\n",
    "\n",
    "We suspected that there might be different sales on different days of the week at different stores, so we performed a `groupby` across two different columns (`Location` and `Day of Week`). This gave us results that looked like this:\n",
    "\n",
    "|Location|Day of Week|Total Sales|\n",
    "|:-------|:----------|:----------|\n",
    "|Chelsea|M|300|\n",
    "|Chelsea|Tu|310|\n",
    "|Chelsea|W|320|\n",
    "|Chelsea|Th|290|\n",
    "|…|||\n",
    "|West Village|Th|400|\n",
    "|West Village|F|390|\n",
    "|West Village|Sa|250|\n",
    "|…|||\n",
    "\n",
    "In order to test our hypothesis, it would be more useful if the table was formatted like this:\n",
    "\n",
    "|Location|M|Tu|W|Th|F|Sa|Su|\n",
    "|:-------|:|:-|:|:-|:|:-|:-|\n",
    "|Chelsea|400|390|250|275|300|150|175|\n",
    "|West Village|300|310|350|400|390|250|200|\n",
    "|…||||||||\t\t\t\t\t\t\n",
    "\n",
    "Reorganizing a table in this way is called <b>pivoting</b>. The new table is called a <b>pivot table</b>.<br>\n",
    "<br>\n",
    "In Pandas, the command for pivot is:<br>\n",
    "\n",
    "`df.pivot(columns='ColumnToPivot',`<br>\n",
    "         `index='ColumnToBeRows',`<br>\n",
    "         `values='ColumnToBeValues')`<br>\n",
    "<br>\n",
    "For our specific example, we would write the command like this:<br>\n",
    "<br>\n",
    "`# First use the groupby statement:`<br>\n",
    "`unpivoted = df.groupby(['Location', 'Day of Week'])['Total Sales'].mean().reset_index()`<br>\n",
    "`# Now pivot the table`<br>\n",
    "`pivoted = unpivoted.pivot(`<br>\n",
    "     `columns='Day of Week',`<br>\n",
    "     `index='Location',`<br>\n",
    "     `values='Total Sales')`<br>\n",
    "<br>\n",
    "Just like with `groupby`, the output of a pivot command is a new DataFrame, but the indexing tends to be \"weird\", so we usually follow up with <b>`.reset_index()`</b>."
   ],
   "cell_type": "markdown",
   "metadata": {}
  },
  {
   "source": [
    "1. In the previous example, you created a DataFrame with the total number of shoes of each `shoe_type`/`shoe_color` combination purchased for ShoeFly.com.<br>\n",
    "<br>\n",
    "The purchasing manager complains that this DataFrame is confusing.<br>\n",
    "<br>\n",
    "Make it easier for her to compare purchases of different shoe colors of the same shoe type by creating a pivot table. Save your results to the variable `shoe_counts_pivot`.<br>\n",
    "<br>\n",
    "Your table should look like this:<br>\n",
    "\n",
    "|shoe_type|black|brown|navy|red|white|\n",
    "|:--------|:----|:----|:---|:--|:----|\n",
    "|ballet flats|…|…|…|…|…|\n",
    "|sandals|…|…|…|…|…|\n",
    "|stilettos|…|…|…|…|…|\n",
    "|wedges|…|…|…|…|…|\n",
    "\n",
    "Remember to use `reset_index()` at the end of your code!"
   ],
   "cell_type": "markdown",
   "metadata": {}
  },
  {
   "cell_type": "code",
   "execution_count": 10,
   "metadata": {},
   "outputs": [
    {
     "output_type": "execute_result",
     "data": {
      "text/plain": [
       "shoe_color    black  brown  navy   red  white\n",
       "shoe_type                                    \n",
       "ballet flats    2.0   11.0  17.0  13.0    7.0\n",
       "sandals         3.0   10.0  13.0  14.0   10.0\n",
       "stilettos       8.0   14.0   7.0  16.0    5.0\n",
       "wedges          NaN   13.0  16.0   4.0   17.0"
      ],
      "text/html": "<div>\n<style scoped>\n    .dataframe tbody tr th:only-of-type {\n        vertical-align: middle;\n    }\n\n    .dataframe tbody tr th {\n        vertical-align: top;\n    }\n\n    .dataframe thead th {\n        text-align: right;\n    }\n</style>\n<table border=\"1\" class=\"dataframe\">\n  <thead>\n    <tr style=\"text-align: right;\">\n      <th>shoe_color</th>\n      <th>black</th>\n      <th>brown</th>\n      <th>navy</th>\n      <th>red</th>\n      <th>white</th>\n    </tr>\n    <tr>\n      <th>shoe_type</th>\n      <th></th>\n      <th></th>\n      <th></th>\n      <th></th>\n      <th></th>\n    </tr>\n  </thead>\n  <tbody>\n    <tr>\n      <th>ballet flats</th>\n      <td>2.0</td>\n      <td>11.0</td>\n      <td>17.0</td>\n      <td>13.0</td>\n      <td>7.0</td>\n    </tr>\n    <tr>\n      <th>sandals</th>\n      <td>3.0</td>\n      <td>10.0</td>\n      <td>13.0</td>\n      <td>14.0</td>\n      <td>10.0</td>\n    </tr>\n    <tr>\n      <th>stilettos</th>\n      <td>8.0</td>\n      <td>14.0</td>\n      <td>7.0</td>\n      <td>16.0</td>\n      <td>5.0</td>\n    </tr>\n    <tr>\n      <th>wedges</th>\n      <td>NaN</td>\n      <td>13.0</td>\n      <td>16.0</td>\n      <td>4.0</td>\n      <td>17.0</td>\n    </tr>\n  </tbody>\n</table>\n</div>"
     },
     "metadata": {},
     "execution_count": 10
    }
   ],
   "source": [
    "shoe_counts_pivot = shoe_counts.pivot(\n",
    "    columns='shoe_color',\n",
    "    index='shoe_type',\n",
    "    values='id')\n",
    "\n",
    "shoe_counts_pivot"
   ]
  },
  {
   "source": [
    "***"
   ],
   "cell_type": "markdown",
   "metadata": {}
  },
  {
   "source": [
    "# Review\n",
    "\n",
    "This lesson introduced you to aggregates in Pandas. You learned:\n",
    "\n",
    "* How to perform <i>aggregate<i> statistics over individual rows with the same value using `groupby`.\n",
    "* How to rearrange a DataFrame into a <i>pivot</i> table, a great way to compare data across two dimensions."
   ],
   "cell_type": "markdown",
   "metadata": {}
  },
  {
   "source": [
    "1. Let's examine some more data from ShoeFly.com. This time, we'll be looking at data about user visits to the website (the same dataset that you saw in the introduction to this lesson).<br>\n",
    "The data is a DataFrame called `user_visits`. Use `print()` and `head()` to examine the first few rows of the DataFrame."
   ],
   "cell_type": "markdown",
   "metadata": {}
  },
  {
   "cell_type": "code",
   "execution_count": 11,
   "metadata": {},
   "outputs": [
    {
     "output_type": "execute_result",
     "data": {
      "text/plain": [
       "      id first_name last_name                       email         month  \\\n",
       "0  10043      Louis      Koch       LouisKoch43@gmail.com     3 - March   \n",
       "1  10150      Bruce      Webb     BruceWebb44@outlook.com     3 - March   \n",
       "2  10155   Nicholas   Hoffman  Nicholas.Hoffman@gmail.com  2 - February   \n",
       "3  10178    William       Key     William.Key@outlook.com     3 - March   \n",
       "4  10208      Karen      Bass            KB4971@gmail.com  2 - February   \n",
       "\n",
       "  utm_source  \n",
       "0      yahoo  \n",
       "1    twitter  \n",
       "2     google  \n",
       "3      yahoo  \n",
       "4     google  "
      ],
      "text/html": "<div>\n<style scoped>\n    .dataframe tbody tr th:only-of-type {\n        vertical-align: middle;\n    }\n\n    .dataframe tbody tr th {\n        vertical-align: top;\n    }\n\n    .dataframe thead th {\n        text-align: right;\n    }\n</style>\n<table border=\"1\" class=\"dataframe\">\n  <thead>\n    <tr style=\"text-align: right;\">\n      <th></th>\n      <th>id</th>\n      <th>first_name</th>\n      <th>last_name</th>\n      <th>email</th>\n      <th>month</th>\n      <th>utm_source</th>\n    </tr>\n  </thead>\n  <tbody>\n    <tr>\n      <th>0</th>\n      <td>10043</td>\n      <td>Louis</td>\n      <td>Koch</td>\n      <td>LouisKoch43@gmail.com</td>\n      <td>3 - March</td>\n      <td>yahoo</td>\n    </tr>\n    <tr>\n      <th>1</th>\n      <td>10150</td>\n      <td>Bruce</td>\n      <td>Webb</td>\n      <td>BruceWebb44@outlook.com</td>\n      <td>3 - March</td>\n      <td>twitter</td>\n    </tr>\n    <tr>\n      <th>2</th>\n      <td>10155</td>\n      <td>Nicholas</td>\n      <td>Hoffman</td>\n      <td>Nicholas.Hoffman@gmail.com</td>\n      <td>2 - February</td>\n      <td>google</td>\n    </tr>\n    <tr>\n      <th>3</th>\n      <td>10178</td>\n      <td>William</td>\n      <td>Key</td>\n      <td>William.Key@outlook.com</td>\n      <td>3 - March</td>\n      <td>yahoo</td>\n    </tr>\n    <tr>\n      <th>4</th>\n      <td>10208</td>\n      <td>Karen</td>\n      <td>Bass</td>\n      <td>KB4971@gmail.com</td>\n      <td>2 - February</td>\n      <td>google</td>\n    </tr>\n  </tbody>\n</table>\n</div>"
     },
     "metadata": {},
     "execution_count": 11
    }
   ],
   "source": [
    "user_visits = pd.read_csv('page_visits.csv')\n",
    "\n",
    "user_visits.head()"
   ]
  },
  {
   "source": [
    "2. The column `utm_source` contains information about how users got to ShoeFly's homepage. For instance, if `utm_source = Facebook`, then the user came to ShoeFly by clicking on an ad on Facebook.com.<br>\n",
    "Use a `groupby statement` to calculate how many visits came from each of the different sources. Save your answer to the variable `click_source`.<br>\n",
    "<br>\n",
    "Remember to use reset_index()!"
   ],
   "cell_type": "markdown",
   "metadata": {}
  },
  {
   "cell_type": "code",
   "execution_count": 12,
   "metadata": {},
   "outputs": [
    {
     "output_type": "execute_result",
     "data": {
      "text/plain": [
       "  utm_source   id\n",
       "0      email  462\n",
       "1   facebook  823\n",
       "2     google  543\n",
       "3    twitter  415\n",
       "4      yahoo  757"
      ],
      "text/html": "<div>\n<style scoped>\n    .dataframe tbody tr th:only-of-type {\n        vertical-align: middle;\n    }\n\n    .dataframe tbody tr th {\n        vertical-align: top;\n    }\n\n    .dataframe thead th {\n        text-align: right;\n    }\n</style>\n<table border=\"1\" class=\"dataframe\">\n  <thead>\n    <tr style=\"text-align: right;\">\n      <th></th>\n      <th>utm_source</th>\n      <th>id</th>\n    </tr>\n  </thead>\n  <tbody>\n    <tr>\n      <th>0</th>\n      <td>email</td>\n      <td>462</td>\n    </tr>\n    <tr>\n      <th>1</th>\n      <td>facebook</td>\n      <td>823</td>\n    </tr>\n    <tr>\n      <th>2</th>\n      <td>google</td>\n      <td>543</td>\n    </tr>\n    <tr>\n      <th>3</th>\n      <td>twitter</td>\n      <td>415</td>\n    </tr>\n    <tr>\n      <th>4</th>\n      <td>yahoo</td>\n      <td>757</td>\n    </tr>\n  </tbody>\n</table>\n</div>"
     },
     "metadata": {},
     "execution_count": 12
    }
   ],
   "source": [
    "click_source = user_visits.groupby('utm_source').id.count().reset_index()\n",
    "\n",
    "click_source"
   ]
  },
  {
   "source": [
    "3. Our Marketing department thinks that the traffic to our site has been changing over the past few months. Use `groupby` to calculate the number of visits to our site \n",
    "from each `utm_source` for each month. Save your answer to the variable `click_source_by_month`."
   ],
   "cell_type": "markdown",
   "metadata": {}
  },
  {
   "cell_type": "code",
   "execution_count": 14,
   "metadata": {},
   "outputs": [
    {
     "output_type": "execute_result",
     "data": {
      "text/plain": [
       "   utm_source         month   id\n",
       "0       email   1 - January   43\n",
       "1       email  2 - February  147\n",
       "2       email     3 - March  272\n",
       "3    facebook   1 - January  404\n",
       "4    facebook  2 - February  263\n",
       "5    facebook     3 - March  156\n",
       "6      google   1 - January  127\n",
       "7      google  2 - February  196\n",
       "8      google     3 - March  220\n",
       "9     twitter   1 - January  164\n",
       "10    twitter  2 - February  154\n",
       "11    twitter     3 - March   97\n",
       "12      yahoo   1 - January  262\n",
       "13      yahoo  2 - February  240\n",
       "14      yahoo     3 - March  255"
      ],
      "text/html": "<div>\n<style scoped>\n    .dataframe tbody tr th:only-of-type {\n        vertical-align: middle;\n    }\n\n    .dataframe tbody tr th {\n        vertical-align: top;\n    }\n\n    .dataframe thead th {\n        text-align: right;\n    }\n</style>\n<table border=\"1\" class=\"dataframe\">\n  <thead>\n    <tr style=\"text-align: right;\">\n      <th></th>\n      <th>utm_source</th>\n      <th>month</th>\n      <th>id</th>\n    </tr>\n  </thead>\n  <tbody>\n    <tr>\n      <th>0</th>\n      <td>email</td>\n      <td>1 - January</td>\n      <td>43</td>\n    </tr>\n    <tr>\n      <th>1</th>\n      <td>email</td>\n      <td>2 - February</td>\n      <td>147</td>\n    </tr>\n    <tr>\n      <th>2</th>\n      <td>email</td>\n      <td>3 - March</td>\n      <td>272</td>\n    </tr>\n    <tr>\n      <th>3</th>\n      <td>facebook</td>\n      <td>1 - January</td>\n      <td>404</td>\n    </tr>\n    <tr>\n      <th>4</th>\n      <td>facebook</td>\n      <td>2 - February</td>\n      <td>263</td>\n    </tr>\n    <tr>\n      <th>5</th>\n      <td>facebook</td>\n      <td>3 - March</td>\n      <td>156</td>\n    </tr>\n    <tr>\n      <th>6</th>\n      <td>google</td>\n      <td>1 - January</td>\n      <td>127</td>\n    </tr>\n    <tr>\n      <th>7</th>\n      <td>google</td>\n      <td>2 - February</td>\n      <td>196</td>\n    </tr>\n    <tr>\n      <th>8</th>\n      <td>google</td>\n      <td>3 - March</td>\n      <td>220</td>\n    </tr>\n    <tr>\n      <th>9</th>\n      <td>twitter</td>\n      <td>1 - January</td>\n      <td>164</td>\n    </tr>\n    <tr>\n      <th>10</th>\n      <td>twitter</td>\n      <td>2 - February</td>\n      <td>154</td>\n    </tr>\n    <tr>\n      <th>11</th>\n      <td>twitter</td>\n      <td>3 - March</td>\n      <td>97</td>\n    </tr>\n    <tr>\n      <th>12</th>\n      <td>yahoo</td>\n      <td>1 - January</td>\n      <td>262</td>\n    </tr>\n    <tr>\n      <th>13</th>\n      <td>yahoo</td>\n      <td>2 - February</td>\n      <td>240</td>\n    </tr>\n    <tr>\n      <th>14</th>\n      <td>yahoo</td>\n      <td>3 - March</td>\n      <td>255</td>\n    </tr>\n  </tbody>\n</table>\n</div>"
     },
     "metadata": {},
     "execution_count": 14
    }
   ],
   "source": [
    "click_source_by_month = user_visits.groupby(['utm_source', 'month']).id.count().reset_index()\n",
    "\n",
    "click_source_by_month"
   ]
  },
  {
   "source": [
    "5. The head of Marketing is complaining that this table is hard to read. Use `pivot` to create a pivot table where the rows are `utm_source` and the columns are `month`. Save your results to the variable `click_source_by_month_pivot`.<br>\n",
    "It should look something like this:\n",
    "\n",
    "|utm_source|1 - January|2 - February|3 - March|\n",
    "|:---------|:----------|:-----------|:--------|\n",
    "|email|…|…|…|\n",
    "|facebook|…|…|…|\n",
    "|google|…|…|…|\n",
    "|twitter|…|…|…|\n",
    "|yahoo|…|…|…|"
   ],
   "cell_type": "markdown",
   "metadata": {}
  },
  {
   "cell_type": "code",
   "execution_count": 16,
   "metadata": {},
   "outputs": [
    {
     "output_type": "execute_result",
     "data": {
      "text/plain": [
       "month       1 - January  2 - February  3 - March\n",
       "utm_source                                      \n",
       "email                43           147        272\n",
       "facebook            404           263        156\n",
       "google              127           196        220\n",
       "twitter             164           154         97\n",
       "yahoo               262           240        255"
      ],
      "text/html": "<div>\n<style scoped>\n    .dataframe tbody tr th:only-of-type {\n        vertical-align: middle;\n    }\n\n    .dataframe tbody tr th {\n        vertical-align: top;\n    }\n\n    .dataframe thead th {\n        text-align: right;\n    }\n</style>\n<table border=\"1\" class=\"dataframe\">\n  <thead>\n    <tr style=\"text-align: right;\">\n      <th>month</th>\n      <th>1 - January</th>\n      <th>2 - February</th>\n      <th>3 - March</th>\n    </tr>\n    <tr>\n      <th>utm_source</th>\n      <th></th>\n      <th></th>\n      <th></th>\n    </tr>\n  </thead>\n  <tbody>\n    <tr>\n      <th>email</th>\n      <td>43</td>\n      <td>147</td>\n      <td>272</td>\n    </tr>\n    <tr>\n      <th>facebook</th>\n      <td>404</td>\n      <td>263</td>\n      <td>156</td>\n    </tr>\n    <tr>\n      <th>google</th>\n      <td>127</td>\n      <td>196</td>\n      <td>220</td>\n    </tr>\n    <tr>\n      <th>twitter</th>\n      <td>164</td>\n      <td>154</td>\n      <td>97</td>\n    </tr>\n    <tr>\n      <th>yahoo</th>\n      <td>262</td>\n      <td>240</td>\n      <td>255</td>\n    </tr>\n  </tbody>\n</table>\n</div>"
     },
     "metadata": {},
     "execution_count": 16
    }
   ],
   "source": [
    "click_source_by_month_pivot = click_source_by_month.pivot(\n",
    "    columns='month',\n",
    "    index='utm_source',\n",
    "    values='id')\n",
    "\n",
    "click_source_by_month_pivot"
   ]
  }
 ]
}