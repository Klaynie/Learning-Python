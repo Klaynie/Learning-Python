{
 "metadata": {
  "language_info": {
   "codemirror_mode": {
    "name": "ipython",
    "version": 3
   },
   "file_extension": ".py",
   "mimetype": "text/x-python",
   "name": "python",
   "nbconvert_exporter": "python",
   "pygments_lexer": "ipython3",
   "version": "3.9.1-final"
  },
  "orig_nbformat": 2,
  "kernelspec": {
   "name": "python391jvsc74a57bd0ac59ebe37160ed0dfa835113d9b8498d9f09ceb179beaac4002f036b9467c963",
   "display_name": "Python 3.9.1 64-bit"
  },
  "metadata": {
   "interpreter": {
    "hash": "ac59ebe37160ed0dfa835113d9b8498d9f09ceb179beaac4002f036b9467c963"
   }
  }
 },
 "nbformat": 4,
 "nbformat_minor": 2,
 "cells": [
  {
   "source": [
    "# Summarizing Automobile Evaluation Data\n",
    "\n",
    "In the following project you will use what you have learned about summarizing categorical data to analyze a sample from a popular open source dataset. This dataset contains information on the cost and physical attributes of several thousand cars. Originally, this dataset was used for to train a classification model that assigned an acceptability score/category to cars based on these attributes.\n",
    "\n",
    "The car evaluation dataset has been sourced from the UCI Machine Learning Repository and has been slightly modified for this project. Specifically, one additional field `manufacturer_country` has been simulated for illustrative purposes. You can read more about the details, features, and original uses of this dataset in research on the <a href=\"https://archive.ics.uci.edu/ml/datasets/car+evaluation\">UCI data description page</a>."
   ],
   "cell_type": "markdown",
   "metadata": {}
  },
  {
   "cell_type": "code",
   "execution_count": 1,
   "metadata": {},
   "outputs": [
    {
     "output_type": "execute_result",
     "data": {
      "text/plain": [
       "  buying_cost maintenance_cost doors capacity luggage safety acceptability  \\\n",
       "0       vhigh              low     4        4   small    med         unacc   \n",
       "1       vhigh              med     3        4   small   high           acc   \n",
       "2         med             high     3        2     med   high         unacc   \n",
       "3         low              med     4     more     big    low         unacc   \n",
       "4         low             high     2     more     med   high           acc   \n",
       "\n",
       "  manufacturer_country  \n",
       "0                China  \n",
       "1               France  \n",
       "2        United States  \n",
       "3        United States  \n",
       "4          South Korea  "
      ],
      "text/html": "<div>\n<style scoped>\n    .dataframe tbody tr th:only-of-type {\n        vertical-align: middle;\n    }\n\n    .dataframe tbody tr th {\n        vertical-align: top;\n    }\n\n    .dataframe thead th {\n        text-align: right;\n    }\n</style>\n<table border=\"1\" class=\"dataframe\">\n  <thead>\n    <tr style=\"text-align: right;\">\n      <th></th>\n      <th>buying_cost</th>\n      <th>maintenance_cost</th>\n      <th>doors</th>\n      <th>capacity</th>\n      <th>luggage</th>\n      <th>safety</th>\n      <th>acceptability</th>\n      <th>manufacturer_country</th>\n    </tr>\n  </thead>\n  <tbody>\n    <tr>\n      <th>0</th>\n      <td>vhigh</td>\n      <td>low</td>\n      <td>4</td>\n      <td>4</td>\n      <td>small</td>\n      <td>med</td>\n      <td>unacc</td>\n      <td>China</td>\n    </tr>\n    <tr>\n      <th>1</th>\n      <td>vhigh</td>\n      <td>med</td>\n      <td>3</td>\n      <td>4</td>\n      <td>small</td>\n      <td>high</td>\n      <td>acc</td>\n      <td>France</td>\n    </tr>\n    <tr>\n      <th>2</th>\n      <td>med</td>\n      <td>high</td>\n      <td>3</td>\n      <td>2</td>\n      <td>med</td>\n      <td>high</td>\n      <td>unacc</td>\n      <td>United States</td>\n    </tr>\n    <tr>\n      <th>3</th>\n      <td>low</td>\n      <td>med</td>\n      <td>4</td>\n      <td>more</td>\n      <td>big</td>\n      <td>low</td>\n      <td>unacc</td>\n      <td>United States</td>\n    </tr>\n    <tr>\n      <th>4</th>\n      <td>low</td>\n      <td>high</td>\n      <td>2</td>\n      <td>more</td>\n      <td>med</td>\n      <td>high</td>\n      <td>acc</td>\n      <td>South Korea</td>\n    </tr>\n  </tbody>\n</table>\n</div>"
     },
     "metadata": {},
     "execution_count": 1
    }
   ],
   "source": [
    "import numpy as np\n",
    "import pandas as pd\n",
    "\n",
    "car_eval = pd.read_csv('car_eval_dataset.csv')\n",
    "car_eval.head()"
   ]
  },
  {
   "source": [
    "## Summarizing Manufacturing Country\n",
    "\n",
    "1. `manufacturer_country` is a *nominal categorical* variable that indicates the country of the manufacturer of each car reviewed. Create a table of frequencies of all the cars reviewed by `manufacturer_country`. What is the modal category? Which country appears 4th most frequently? Print out your results."
   ],
   "cell_type": "markdown",
   "metadata": {}
  },
  {
   "cell_type": "code",
   "execution_count": 2,
   "metadata": {},
   "outputs": [
    {
     "output_type": "execute_result",
     "data": {
      "text/plain": [
       "Japan            228\n",
       "Germany          218\n",
       "South Korea      159\n",
       "United States    138\n",
       "Italy             97\n",
       "France            87\n",
       "China             73\n",
       "Name: manufacturer_country, dtype: int64"
      ]
     },
     "metadata": {},
     "execution_count": 2
    }
   ],
   "source": [
    "manufacturer_country = car_eval['manufacturer_country'].value_counts()\n",
    "manufacturer_country"
   ]
  },
  {
   "source": [
    "2. Calculate a table of proportions for countries that appear in `manufacturer_country` in the dataset. What percentage of cars were manufactured in Japan?"
   ],
   "cell_type": "markdown",
   "metadata": {}
  },
  {
   "cell_type": "code",
   "execution_count": 3,
   "metadata": {},
   "outputs": [
    {
     "output_type": "execute_result",
     "data": {
      "text/plain": [
       "Japan            0.228\n",
       "Germany          0.218\n",
       "South Korea      0.159\n",
       "United States    0.138\n",
       "Italy            0.097\n",
       "France           0.087\n",
       "China            0.073\n",
       "Name: manufacturer_country, dtype: float64"
      ]
     },
     "metadata": {},
     "execution_count": 3
    }
   ],
   "source": [
    "manufacturer_country = car_eval['manufacturer_country'].value_counts(normalize=True)\n",
    "manufacturer_country"
   ]
  },
  {
   "source": [
    "## Summarizing Buying Costs\n",
    "\n",
    "3. `buying_cost` is a categorical variable which describes the cost of buying any car in the dataset. Print out a list of the possible values for this variable."
   ],
   "cell_type": "markdown",
   "metadata": {}
  },
  {
   "cell_type": "code",
   "execution_count": 4,
   "metadata": {},
   "outputs": [
    {
     "output_type": "execute_result",
     "data": {
      "text/plain": [
       "array(['vhigh', 'med', 'low', 'high'], dtype=object)"
      ]
     },
     "metadata": {},
     "execution_count": 4
    }
   ],
   "source": [
    "car_eval['buying_cost'].unique()"
   ]
  },
  {
   "source": [
    "4. `buying_cost` is an ordinal categorical variable, which means we can create an order associated with the values in the data and perform additional numeric operations on the variable. Create a new list, `buying_cost_categories`, that contains the unique values in `buying_cost`, ordered from lowest to highest"
   ],
   "cell_type": "markdown",
   "metadata": {}
  },
  {
   "cell_type": "code",
   "execution_count": 5,
   "metadata": {},
   "outputs": [],
   "source": [
    "buying_cost_categories = ['low', 'med', 'high', 'vhigh']"
   ]
  },
  {
   "source": [
    "5. Convert `buying_cost` to type `'category'` using the list you created in the previous exercise."
   ],
   "cell_type": "markdown",
   "metadata": {}
  },
  {
   "cell_type": "code",
   "execution_count": 6,
   "metadata": {},
   "outputs": [],
   "source": [
    "car_eval['buying_cost'] = pd.Categorical(car_eval['buying_cost'], buying_cost_categories, ordered=True)"
   ]
  },
  {
   "source": [
    "6. Calculate the median category of the `buying_cost` variable and print the result."
   ],
   "cell_type": "markdown",
   "metadata": {}
  },
  {
   "cell_type": "code",
   "execution_count": 7,
   "metadata": {},
   "outputs": [
    {
     "output_type": "execute_result",
     "data": {
      "text/plain": [
       "'med'"
      ]
     },
     "metadata": {},
     "execution_count": 7
    }
   ],
   "source": [
    "median_index = np.median(car_eval['buying_cost'].cat.codes)\n",
    "median_buying_cost = buying_cost_categories[int(median_index)]\n",
    "median_buying_cost"
   ]
  },
  {
   "source": [
    "## Summarizing Luggage Capacity \n",
    "\n",
    "7. `luggage` is a categorical variable in the car evaluations dataset that records the luggage capacity for each reviewed car. Calculate a table of proportions for this variable and print the result."
   ],
   "cell_type": "markdown",
   "metadata": {}
  },
  {
   "cell_type": "code",
   "execution_count": 8,
   "metadata": {},
   "outputs": [
    {
     "output_type": "execute_result",
     "data": {
      "text/plain": [
       "small    0.339\n",
       "med      0.333\n",
       "big      0.328\n",
       "Name: luggage, dtype: float64"
      ]
     },
     "metadata": {},
     "execution_count": 8
    }
   ],
   "source": [
    "luggage = car_eval['luggage'].value_counts(normalize=True)\n",
    "luggage"
   ]
  },
  {
   "source": [
    "8. Are there any missing values in this column? Replicate the table of proportions from the previous exercise, but do not drop any missing values from the count. Print your result."
   ],
   "cell_type": "markdown",
   "metadata": {}
  },
  {
   "cell_type": "code",
   "execution_count": 9,
   "metadata": {},
   "outputs": [
    {
     "output_type": "execute_result",
     "data": {
      "text/plain": [
       "small    0.339\n",
       "med      0.333\n",
       "big      0.328\n",
       "Name: luggage, dtype: float64"
      ]
     },
     "metadata": {},
     "execution_count": 9
    }
   ],
   "source": [
    "luggage = car_eval['luggage'].value_counts(dropna=False, normalize=True)\n",
    "luggage"
   ]
  },
  {
   "source": [
    "9. Without passing `normalize=True` to `.value_counts()`, can you replicate the result you got in the previous exercises?"
   ],
   "cell_type": "markdown",
   "metadata": {}
  },
  {
   "cell_type": "code",
   "execution_count": 10,
   "metadata": {},
   "outputs": [
    {
     "output_type": "execute_result",
     "data": {
      "text/plain": [
       "small    0.339\n",
       "med      0.333\n",
       "big      0.328\n",
       "Name: luggage, dtype: float64"
      ]
     },
     "metadata": {},
     "execution_count": 10
    }
   ],
   "source": [
    "car_eval['luggage'].value_counts()/len(car_eval['luggage'])"
   ]
  },
  {
   "source": [
    "## Summarizing Passenger Capacity\n",
    "\n",
    "10. `doors` is a categorical variable in the car evaluations dataset that records the count of doors for each reviewed car. Find the count of cars that have 5 or more doors. You can identify cars with 5+ doors by looking for cars that have a value of `'5more'` in the `doors` column. Print your result."
   ],
   "cell_type": "markdown",
   "metadata": {}
  },
  {
   "cell_type": "code",
   "execution_count": 11,
   "metadata": {},
   "outputs": [
    {
     "output_type": "execute_result",
     "data": {
      "text/plain": [
       "246"
      ]
     },
     "metadata": {},
     "execution_count": 11
    }
   ],
   "source": [
    "five_plus_doors = len(car_eval[car_eval['doors'] == '5more'])\n",
    "five_plus_doors"
   ]
  },
  {
   "source": [
    "11. Find the proportion of cars that have 5+ doors and print the result."
   ],
   "cell_type": "markdown",
   "metadata": {}
  },
  {
   "cell_type": "code",
   "execution_count": 12,
   "metadata": {},
   "outputs": [
    {
     "output_type": "execute_result",
     "data": {
      "text/plain": [
       "4        0.263\n",
       "3        0.252\n",
       "5more    0.246\n",
       "2        0.239\n",
       "Name: doors, dtype: float64"
      ]
     },
     "metadata": {},
     "execution_count": 12
    }
   ],
   "source": [
    "doors_percentage = car_eval['doors'].value_counts(normalize=True)\n",
    "doors_percentage"
   ]
  }
 ]
}