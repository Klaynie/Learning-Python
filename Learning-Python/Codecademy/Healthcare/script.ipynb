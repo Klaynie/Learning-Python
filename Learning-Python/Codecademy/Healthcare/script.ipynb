{
 "metadata": {
  "language_info": {
   "codemirror_mode": {
    "name": "ipython",
    "version": 3
   },
   "file_extension": ".py",
   "mimetype": "text/x-python",
   "name": "python",
   "nbconvert_exporter": "python",
   "pygments_lexer": "ipython3",
   "version": "3.9.1-final"
  },
  "orig_nbformat": 2,
  "kernelspec": {
   "name": "python391jvsc74a57bd0ac59ebe37160ed0dfa835113d9b8498d9f09ceb179beaac4002f036b9467c963",
   "display_name": "Python 3.9.1 64-bit"
  },
  "metadata": {
   "interpreter": {
    "hash": "ac59ebe37160ed0dfa835113d9b8498d9f09ceb179beaac4002f036b9467c963"
   }
  }
 },
 "nbformat": 4,
 "nbformat_minor": 2,
 "cells": [
  {
   "source": [
    "# Healthcare in Different States\n",
    "\n",
    "In this project, we will use boxplots to investigate the way hospitals in different states across the United States charge their patients for medical procedures.\n",
    "\n",
    "This dataset might look a bit familiar to you — we used it in our lesson about describing histograms. The data originally came from the <a href=\"https://data.cms.gov/Medicare-Inpatient/Inpatient-Prospective-Payment-System-IPPS-Provider/97k6-zzx3\">United State Health and Human Services Department</a>.\n",
    "\n",
    "Let us use boxplots to find more meaning in this data!"
   ],
   "cell_type": "markdown",
   "metadata": {}
  },
  {
   "cell_type": "code",
   "execution_count": 1,
   "metadata": {},
   "outputs": [],
   "source": [
    "import pandas as pd\n",
    "from matplotlib import pyplot as plt\n",
    "\n",
    "healthcare = pd.read_csv(\"healthcare.csv\")"
   ]
  },
  {
   "source": [
    "1. We have imported the dataset into a variable named `healthcare`. Let us take a look at what data we have to work with. Print `healthcare.head()`. This will print the first five rows of the dataset.\n",
    "\n",
    "    Scroll through the table to see what information we have. We know that we want to eventually look at the way heathcare works in different states. What column will be useful to do that?"
   ],
   "cell_type": "markdown",
   "metadata": {}
  },
  {
   "cell_type": "code",
   "execution_count": null,
   "metadata": {},
   "outputs": [],
   "source": []
  },
  {
   "source": [
    "2. We are going to focus on only the ways in which hospitals charge patients for chest pain. But you could do this for any of the diagnoses in our dataset. Print `healthcare[\"DRG Definition\"].unique()` to see all of the different diagnoses in our dataset.\n",
    "\n",
    "    Can you find the official name of the diagnosis related to chest pain?"
   ],
   "cell_type": "markdown",
   "metadata": {}
  },
  {
   "cell_type": "code",
   "execution_count": null,
   "metadata": {},
   "outputs": [],
   "source": []
  },
  {
   "source": [
    "3. Let us grab only the rows in the dataset that are about chest pain. Use this line of code to do that.\n",
    "\n",
    "        chest_pain = healthcare[healthcare['DRG Definition'] == '313 - CHEST PAIN']\n",
    "\n",
    "    If you are interested in investigating a different diagnosis, replace '313 - CHEST PAIN' with the name of the other diagnosis. You might want to change the new variable name to be something other than `chest_pain` if you do this!"
   ],
   "cell_type": "markdown",
   "metadata": {}
  },
  {
   "cell_type": "code",
   "execution_count": null,
   "metadata": {},
   "outputs": [],
   "source": []
  },
  {
   "source": [
    "## Separating By State\n",
    "\n",
    "4. We now want to separate the dataset by state. Eventually, we will use a for loop to do this for every state, but for now, let us prove to ourselves that we can make a boxplot for one state.\n",
    "\n",
    "    When we printed the head, we saw the first few rows had a `'Provider State'` of `\"AL\"`. Those were hospitals in Alabama.\n",
    "\n",
    "    To get every chest pain diagnosis in Alabama, use this line of code:\n",
    "\n",
    "        alabama_chest_pain = chest_pain[chest_pain['Provider State'] == \"AL\"]\n",
    "\n",
    "    Make sure to use the variable that you created in the previous step. We called it `chest_pain`, but you might have named it something else if you used a different diagnosis.\n",
    "\n",
    "    Again, feel free to use a state of your choosing instead of Alabama. Different state abbreviations should work, like `\"CO\"` or `\"NY\"`. Name your variable appropriately!"
   ],
   "cell_type": "markdown",
   "metadata": {}
  },
  {
   "cell_type": "code",
   "execution_count": null,
   "metadata": {},
   "outputs": [],
   "source": []
  },
  {
   "source": [
    "5. We are almost there! We now have all of the hospitals in Alabama that have a diagnosed chest pain. We now want to find the average cost of those diagnoses. These value is stored in the column `' Average Covered Charges '` (Note the spaces at the start and the end of the string!)\n",
    "\n",
    "    To get only these values, call this line of code:\n",
    "\n",
    "        costs = alabama_chest_pain[' Average Covered Charges '].values\n",
    "\n",
    "    Again, make sure that you are using the correct variable names — yours might be different."
   ],
   "cell_type": "markdown",
   "metadata": {}
  },
  {
   "cell_type": "code",
   "execution_count": null,
   "metadata": {},
   "outputs": [],
   "source": []
  },
  {
   "source": [
    "6. Let us now make a boxplot of those values! Call `plt.boxplot()` using `costs` as the first parameter.\n",
    "\n",
    "    Then call `plt.show()` to see your boxplot!"
   ],
   "cell_type": "markdown",
   "metadata": {}
  },
  {
   "cell_type": "code",
   "execution_count": null,
   "metadata": {},
   "outputs": [],
   "source": []
  },
  {
   "source": [
    "## Making a Boxplot for All States\n",
    "\n",
    "7. Nice work! We have made a boxplot for one state. But how does that state compare to the others? Let us make a boxplot for every state! Comment out (or delete) the two lines of code you just wrote to make the boxplot.\n",
    "\n",
    "    To begin, we first need to create a list of all the states in our dataset. We can once again use the `unique()` function. We used this function when we looked at all of the diagnoses.\n",
    "\n",
    "    Find all of the unique states from the dataset `chest_pain` and store it in a variable named `states`."
   ],
   "cell_type": "markdown",
   "metadata": {}
  },
  {
   "cell_type": "code",
   "execution_count": null,
   "metadata": {},
   "outputs": [],
   "source": []
  },
  {
   "source": [
    "8. We will now use a `for` loop to separate the dataset into a dataset for each state:\n",
    "\n",
    "      datasets = []\n",
    "      for state in states:\n",
    "        datasets.append(chest_pain[chest_pain['Provider State'] == state][' Average Covered Charges '].values)\n",
    "\n",
    "  `datasets` now contains 50 datasets — one for each state."
   ],
   "cell_type": "markdown",
   "metadata": {}
  },
  {
   "cell_type": "code",
   "execution_count": null,
   "metadata": {},
   "outputs": [],
   "source": []
  },
  {
   "source": [
    "9. We are about to draw 50 boxplots. Before we draw them, let us make sure there is enough room. Call `plt.figure(figsize=(20,6))`. This will make your figure long to allow room for so many boxplots!"
   ],
   "cell_type": "markdown",
   "metadata": {}
  },
  {
   "cell_type": "code",
   "execution_count": null,
   "metadata": {},
   "outputs": [],
   "source": []
  },
  {
   "source": [
    "10. Draw the boxplot using `datasets` as the first parameter. Add the second parameter `labels = states` to label your boxplots.\n",
    "\n",
    "    Finally, make sure to call `plt.show()`."
   ],
   "cell_type": "markdown",
   "metadata": {}
  },
  {
   "cell_type": "code",
   "execution_count": null,
   "metadata": {},
   "outputs": [],
   "source": []
  },
  {
   "source": [
    "## Interpret and Explore\n",
    "\n",
    "11. Nice work! You should now see 50 boxplots. If the graph is too small to see, you can expand it by clicking on the arrows in the top right corner of the right panel. You can also take a look at <a href=\"https://content.codecademy.com/courses/statistics/boxplot/states.png\">this image</a> to see what your final results should look like.\n",
    "\n",
    "    What information have you learned by looking at these boxplots side by side? What state has the largest spread? What state has the largest median? Which states have the most outliers?\n",
    "\n",
    "*Hint: It looks like California, New Jersey, and Florida have the largest spreads. Vermont has almost no spread.*\n",
    "\n",
    "*The state with the largest median cost for a chest pain diagnosis is New Jersey. The state with the smallest median cost is Maryland.*\n",
    "\n",
    "*California, Georgia, and Tennessee all have a fair number of outliers.*"
   ],
   "cell_type": "markdown",
   "metadata": {}
  },
  {
   "cell_type": "code",
   "execution_count": null,
   "metadata": {},
   "outputs": [],
   "source": []
  },
  {
   "source": [
    "12. Take some time to explore more from here. Here are some ways in which you can investigate the data more:\n",
    "\n",
    "* Look at diagnoses other than `'313 - CHEST PAIN'`.\n",
    "* Group states by regions. Maybe hospitals in the Northeast charge patients differently than hospitals in the South.\n",
    "* Plot something other than `' Average Covered Charges '`. You have data about how much Meidcare pays in the `'Average Medicare Payments'` column."
   ],
   "cell_type": "markdown",
   "metadata": {}
  }
 ]
}