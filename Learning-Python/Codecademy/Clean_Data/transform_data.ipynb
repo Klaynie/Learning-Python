{
 "metadata": {
  "language_info": {
   "codemirror_mode": {
    "name": "ipython",
    "version": 3
   },
   "file_extension": ".py",
   "mimetype": "text/x-python",
   "name": "python",
   "nbconvert_exporter": "python",
   "pygments_lexer": "ipython3",
   "version": "3.9.1-final"
  },
  "orig_nbformat": 2,
  "kernelspec": {
   "name": "python3",
   "display_name": "Python 3.9.1 64-bit",
   "metadata": {
    "interpreter": {
     "hash": "ac59ebe37160ed0dfa835113d9b8498d9f09ceb179beaac4002f036b9467c963"
    }
   }
  }
 },
 "nbformat": 4,
 "nbformat_minor": 2,
 "cells": [
  {
   "source": [
    "# Reshaping your Data\n",
    "\n",
    "Since we want\n",
    "\n",
    "* Each variable as a separate column\n",
    "* Each row as a separate observation\n",
    "\n",
    "We would want to reshape a table like:\n",
    "\n",
    "|Account|Checking|Savings|\n",
    "|:------|:-------|:------|\n",
    "|\"12456543\"|8500|8900|\n",
    "|\"12283942\"|6410|8020|\n",
    "|\"12839485\"|78000|92000|\n",
    "\n",
    "Into a table that looks more like:\n",
    "\n",
    "|Account|Account Type|Amount|\n",
    "|:------|:-----------|:-----|\n",
    "|\"12456543\"|\"Checking\"|8500|\n",
    "|\"12456543\"|\"Savings\"|8900|\n",
    "|\"12283942\"|\"Checking\"|6410|\n",
    "|\"12283942\"|\"Savings\"|8020|\n",
    "|\"12839485\"|\"Checking\"|78000|\n",
    "|\"12839485\"|\"Savings\"|920000|\n",
    "\n",
    "We can use `pd.melt()` to do this transformation. `.melt()` takes in a DataFrame, and the columns to unpack:\n",
    "\n",
    "`pd.melt(frame=df, id_vars=\"name\", value_vars=[\"Checking\",\"Savings\"], value_name=\"Amount\", var_name=\"Account Type\")`\n",
    "\n",
    "The parameters you provide are:\n",
    "\n",
    "* `frame`: the DataFrame you want to melt\n",
    "* `id_vars`: the column(s) of the old DataFrame to preserve\n",
    "* `value_vars`: the column(s) of the old DataFrame that you want to turn into variables\n",
    "* `value_name`: what to call the column of the new DataFrame that stores the values\n",
    "* `var_name`: what to call the column of the new DataFrame that stores the variables\n",
    "\n",
    "The default names may work in certain situations, but it is best to always have data that is self-explanatory. Thus, we often use `.columns()` to rename the columns after melting:\n",
    "\n",
    "`df.columns([\"Account\", \"Account Type\", \"Amount\"])`"
   ],
   "cell_type": "markdown",
   "metadata": {}
  },
  {
   "cell_type": "code",
   "execution_count": 1,
   "metadata": {},
   "outputs": [
    {
     "output_type": "stream",
     "name": "stdout",
     "text": [
      "             full_name gender_age fractions probability       grade\n0       Moses Kirckman        M14       69%         89%  11th grade\n1      Timofei Strowan        M18       63%         76%  11th grade\n2         Silvain Poll        M18       69%         77%   9th grade\n3       Lezley Pinxton        M18       NaN         72%  11th grade\n4    Bernadene Saunper        F17       72%         84%  11th grade\n..                 ...        ...       ...         ...         ...\n995     Wilie Stillert        F14       72%         69%   9th grade\n996     Gertie Flicker        F15       NaN         86%  11th grade\n997       Yettie Labes        F14       81%         82%  12th grade\n998     Lock McGuinley        M18       NaN         84%  10th grade\n999       Bebe Lebbern        F15       66%         91%  12th grade\n\n[1000 rows x 5 columns]\n"
     ]
    }
   ],
   "source": [
    "import pandas as pd\n",
    "from students import students\n",
    "\n",
    "print(students)"
   ]
  },
  {
   "source": [
    "1. There is a column for the scores on the `fractions` exam, and a column for the scores on the `probabilities` exam.\n",
    "\n",
    "    We want to make each row an observation, so we want to transform this table to look like:\n",
    "\n",
    "    |full_name|exam|score|gender_age|grade|\n",
    "    |:--------|:---|:----|:---------|:----|\n",
    "    |\"First Student\"|\"Fractions\"|score%|…|…|\n",
    "    |\"First Student\"|\"Probabilities\"|score%|…|…|\n",
    "    |\"Second Student\"|\"Fractions\"|score%|…|…|\n",
    "    |\"Second Student\"|\"Probabilities\"|score%|…|…|\n",
    "    |…|…|…| | |\n",
    "\n",
    "    Use `pd.melt()` to create a new table (still called `students`) that follows this structure."
   ],
   "cell_type": "markdown",
   "metadata": {}
  },
  {
   "cell_type": "code",
   "execution_count": 2,
   "metadata": {},
   "outputs": [
    {
     "output_type": "execute_result",
     "data": {
      "text/plain": [
       "              full_name gender_age       grade         exam score\n",
       "0        Moses Kirckman        M14  11th grade    fractions   69%\n",
       "1       Timofei Strowan        M18  11th grade    fractions   63%\n",
       "2          Silvain Poll        M18   9th grade    fractions   69%\n",
       "3        Lezley Pinxton        M18  11th grade    fractions   NaN\n",
       "4     Bernadene Saunper        F17  11th grade    fractions   72%\n",
       "...                 ...        ...         ...          ...   ...\n",
       "1995     Wilie Stillert        F14   9th grade  probability   69%\n",
       "1996     Gertie Flicker        F15  11th grade  probability   86%\n",
       "1997       Yettie Labes        F14  12th grade  probability   82%\n",
       "1998     Lock McGuinley        M18  10th grade  probability   84%\n",
       "1999       Bebe Lebbern        F15  12th grade  probability   91%\n",
       "\n",
       "[2000 rows x 5 columns]"
      ],
      "text/html": "<div>\n<style scoped>\n    .dataframe tbody tr th:only-of-type {\n        vertical-align: middle;\n    }\n\n    .dataframe tbody tr th {\n        vertical-align: top;\n    }\n\n    .dataframe thead th {\n        text-align: right;\n    }\n</style>\n<table border=\"1\" class=\"dataframe\">\n  <thead>\n    <tr style=\"text-align: right;\">\n      <th></th>\n      <th>full_name</th>\n      <th>gender_age</th>\n      <th>grade</th>\n      <th>exam</th>\n      <th>score</th>\n    </tr>\n  </thead>\n  <tbody>\n    <tr>\n      <th>0</th>\n      <td>Moses Kirckman</td>\n      <td>M14</td>\n      <td>11th grade</td>\n      <td>fractions</td>\n      <td>69%</td>\n    </tr>\n    <tr>\n      <th>1</th>\n      <td>Timofei Strowan</td>\n      <td>M18</td>\n      <td>11th grade</td>\n      <td>fractions</td>\n      <td>63%</td>\n    </tr>\n    <tr>\n      <th>2</th>\n      <td>Silvain Poll</td>\n      <td>M18</td>\n      <td>9th grade</td>\n      <td>fractions</td>\n      <td>69%</td>\n    </tr>\n    <tr>\n      <th>3</th>\n      <td>Lezley Pinxton</td>\n      <td>M18</td>\n      <td>11th grade</td>\n      <td>fractions</td>\n      <td>NaN</td>\n    </tr>\n    <tr>\n      <th>4</th>\n      <td>Bernadene Saunper</td>\n      <td>F17</td>\n      <td>11th grade</td>\n      <td>fractions</td>\n      <td>72%</td>\n    </tr>\n    <tr>\n      <th>...</th>\n      <td>...</td>\n      <td>...</td>\n      <td>...</td>\n      <td>...</td>\n      <td>...</td>\n    </tr>\n    <tr>\n      <th>1995</th>\n      <td>Wilie Stillert</td>\n      <td>F14</td>\n      <td>9th grade</td>\n      <td>probability</td>\n      <td>69%</td>\n    </tr>\n    <tr>\n      <th>1996</th>\n      <td>Gertie Flicker</td>\n      <td>F15</td>\n      <td>11th grade</td>\n      <td>probability</td>\n      <td>86%</td>\n    </tr>\n    <tr>\n      <th>1997</th>\n      <td>Yettie Labes</td>\n      <td>F14</td>\n      <td>12th grade</td>\n      <td>probability</td>\n      <td>82%</td>\n    </tr>\n    <tr>\n      <th>1998</th>\n      <td>Lock McGuinley</td>\n      <td>M18</td>\n      <td>10th grade</td>\n      <td>probability</td>\n      <td>84%</td>\n    </tr>\n    <tr>\n      <th>1999</th>\n      <td>Bebe Lebbern</td>\n      <td>F15</td>\n      <td>12th grade</td>\n      <td>probability</td>\n      <td>91%</td>\n    </tr>\n  </tbody>\n</table>\n<p>2000 rows × 5 columns</p>\n</div>"
     },
     "metadata": {},
     "execution_count": 2
    }
   ],
   "source": [
    "students = pd.melt(\n",
    "  frame=students,\n",
    "  id_vars=[\"full_name\", \"gender_age\", \"grade\"],\n",
    "  value_vars=[\"fractions\", \"probability\"],\n",
    "  value_name=\"score\",\n",
    "  var_name=\"exam\"\n",
    ")\n",
    "\n",
    "students"
   ]
  },
  {
   "source": [
    "2. Print out the .value_counts() of the column exam."
   ],
   "cell_type": "markdown",
   "metadata": {}
  },
  {
   "cell_type": "code",
   "execution_count": 3,
   "metadata": {},
   "outputs": [
    {
     "output_type": "execute_result",
     "data": {
      "text/plain": [
       "probability    1000\n",
       "fractions      1000\n",
       "Name: exam, dtype: int64"
      ]
     },
     "metadata": {},
     "execution_count": 3
    }
   ],
   "source": [
    "students[\"exam\"].value_counts()"
   ]
  }
 ]
}