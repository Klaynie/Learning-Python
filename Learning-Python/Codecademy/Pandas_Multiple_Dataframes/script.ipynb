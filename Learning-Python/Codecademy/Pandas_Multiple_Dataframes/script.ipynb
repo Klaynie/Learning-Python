{
 "metadata": {
  "language_info": {
   "codemirror_mode": {
    "name": "ipython",
    "version": 3
   },
   "file_extension": ".py",
   "mimetype": "text/x-python",
   "name": "python",
   "nbconvert_exporter": "python",
   "pygments_lexer": "ipython3",
   "version": "3.7.6-final"
  },
  "orig_nbformat": 2,
  "kernelspec": {
   "name": "python3",
   "display_name": "Python 3",
   "language": "python"
  }
 },
 "nbformat": 4,
 "nbformat_minor": 2,
 "cells": [
  {
   "source": [
    "# Working with Multiple DataFrames\n",
    "## Introduction: Multiple DataFrames\n",
    "\n",
    "In order to efficiently store data, we often spread related information across multiple tables.<br>\n",
    "<br>\n",
    "For instance, imagine that we own an e-commerce business and we want to track the products that have been ordered from our website.<br>\n",
    "<br>\n",
    "We could have one table with all of the following information:\n",
    "\n",
    "* `order_id`\n",
    "* `customer_id`\n",
    "* `customer_name`\n",
    "* `customer_address`\n",
    "* `customer_phone_number`\n",
    "* `product_id`\n",
    "* `product_description`\n",
    "* `product_price`\n",
    "* `quantity`\n",
    "* `timestamp`\n",
    "\n",
    "However, a lot of this information would be repeated. If the same customer makes multiple orders, that customer's name, address, and phone number will be reported multiple times. If the same product is ordered by multiple customers, then the product price and description will be repeated. This will make our orders table big and unmanageable.<br>\n",
    "<br>\n",
    "So instead, we can split our data into three tables:\n",
    "\n",
    "* `orders` would contain the information necessary to describe an order: `order_id`, `customer_id`, `product_id`, `quantity`, and `timestamp`\n",
    "* `products` would contain the information to describe each product: `product_id`, `product_description` and `product_price`\n",
    "* `customers` would contain the information for each customer: `customer_id`, `customer_name`, `customer_address`, and `customer_phone_number`\n",
    "\n",
    "In this lesson, we will learn the Pandas commands that help us work with data stored in multiple tables."
   ],
   "cell_type": "markdown",
   "metadata": {}
  },
  {
   "source": [
    "***"
   ],
   "cell_type": "markdown",
   "metadata": {}
  },
  {
   "source": [
    "### Exercise\n",
    "\n",
    "In the cell below, we've loaded in three DataFrames: `orders`, `products`, and `customers`."
   ],
   "cell_type": "markdown",
   "metadata": {}
  },
  {
   "cell_type": "code",
   "execution_count": 1,
   "metadata": {},
   "outputs": [],
   "source": [
    "import pandas as pd\n",
    "\n",
    "orders = pd.read_csv('orders.csv')\n",
    "\n",
    "products = pd.read_csv('products.csv')\n",
    "\n",
    "customers = pd.read_csv('customers.csv')"
   ]
  },
  {
   "source": [
    "1. Start by inspecting `orders`:"
   ],
   "cell_type": "markdown",
   "metadata": {}
  },
  {
   "cell_type": "code",
   "execution_count": 2,
   "metadata": {},
   "outputs": [
    {
     "output_type": "execute_result",
     "data": {
      "text/plain": [
       "   order_id  customer_id  product_id  quantity   timestamp\n",
       "0         1            2           3         1  2017-01-01\n",
       "1         2            2           2         3  2017-01-01\n",
       "2         3            3           1         1  2017-01-01\n",
       "3         4            3           2         2  2017-02-01\n",
       "4         5            3           3         3  2017-02-01"
      ],
      "text/html": "<div>\n<style scoped>\n    .dataframe tbody tr th:only-of-type {\n        vertical-align: middle;\n    }\n\n    .dataframe tbody tr th {\n        vertical-align: top;\n    }\n\n    .dataframe thead th {\n        text-align: right;\n    }\n</style>\n<table border=\"1\" class=\"dataframe\">\n  <thead>\n    <tr style=\"text-align: right;\">\n      <th></th>\n      <th>order_id</th>\n      <th>customer_id</th>\n      <th>product_id</th>\n      <th>quantity</th>\n      <th>timestamp</th>\n    </tr>\n  </thead>\n  <tbody>\n    <tr>\n      <th>0</th>\n      <td>1</td>\n      <td>2</td>\n      <td>3</td>\n      <td>1</td>\n      <td>2017-01-01</td>\n    </tr>\n    <tr>\n      <th>1</th>\n      <td>2</td>\n      <td>2</td>\n      <td>2</td>\n      <td>3</td>\n      <td>2017-01-01</td>\n    </tr>\n    <tr>\n      <th>2</th>\n      <td>3</td>\n      <td>3</td>\n      <td>1</td>\n      <td>1</td>\n      <td>2017-01-01</td>\n    </tr>\n    <tr>\n      <th>3</th>\n      <td>4</td>\n      <td>3</td>\n      <td>2</td>\n      <td>2</td>\n      <td>2017-02-01</td>\n    </tr>\n    <tr>\n      <th>4</th>\n      <td>5</td>\n      <td>3</td>\n      <td>3</td>\n      <td>3</td>\n      <td>2017-02-01</td>\n    </tr>\n  </tbody>\n</table>\n</div>"
     },
     "metadata": {},
     "execution_count": 2
    }
   ],
   "source": [
    "orders.head()"
   ]
  },
  {
   "source": [
    "2. Now inspect `products`:"
   ],
   "cell_type": "markdown",
   "metadata": {}
  },
  {
   "cell_type": "code",
   "execution_count": 3,
   "metadata": {},
   "outputs": [
    {
     "output_type": "execute_result",
     "data": {
      "text/plain": [
       "   product_id         description  price\n",
       "0           1      thing-a-ma-jig      5\n",
       "1           2  whatcha-ma-call-it     10\n",
       "2           3          doo-hickey      7\n",
       "3           4               gizmo      3"
      ],
      "text/html": "<div>\n<style scoped>\n    .dataframe tbody tr th:only-of-type {\n        vertical-align: middle;\n    }\n\n    .dataframe tbody tr th {\n        vertical-align: top;\n    }\n\n    .dataframe thead th {\n        text-align: right;\n    }\n</style>\n<table border=\"1\" class=\"dataframe\">\n  <thead>\n    <tr style=\"text-align: right;\">\n      <th></th>\n      <th>product_id</th>\n      <th>description</th>\n      <th>price</th>\n    </tr>\n  </thead>\n  <tbody>\n    <tr>\n      <th>0</th>\n      <td>1</td>\n      <td>thing-a-ma-jig</td>\n      <td>5</td>\n    </tr>\n    <tr>\n      <th>1</th>\n      <td>2</td>\n      <td>whatcha-ma-call-it</td>\n      <td>10</td>\n    </tr>\n    <tr>\n      <th>2</th>\n      <td>3</td>\n      <td>doo-hickey</td>\n      <td>7</td>\n    </tr>\n    <tr>\n      <th>3</th>\n      <td>4</td>\n      <td>gizmo</td>\n      <td>3</td>\n    </tr>\n  </tbody>\n</table>\n</div>"
     },
     "metadata": {},
     "execution_count": 3
    }
   ],
   "source": [
    "products.head()"
   ]
  },
  {
   "source": [
    "3. Now inspect `customers`:"
   ],
   "cell_type": "markdown",
   "metadata": {}
  },
  {
   "cell_type": "code",
   "execution_count": 4,
   "metadata": {},
   "outputs": [
    {
     "output_type": "execute_result",
     "data": {
      "text/plain": [
       "   customer_id customer_name        address  phone_number\n",
       "0            1    John Smith   123 Main St.  212-123-4567\n",
       "1            2      Jane Doe  456 Park Ave.  949-867-5309\n",
       "2            3     Joe Schmo   798 Broadway  112-358-1321"
      ],
      "text/html": "<div>\n<style scoped>\n    .dataframe tbody tr th:only-of-type {\n        vertical-align: middle;\n    }\n\n    .dataframe tbody tr th {\n        vertical-align: top;\n    }\n\n    .dataframe thead th {\n        text-align: right;\n    }\n</style>\n<table border=\"1\" class=\"dataframe\">\n  <thead>\n    <tr style=\"text-align: right;\">\n      <th></th>\n      <th>customer_id</th>\n      <th>customer_name</th>\n      <th>address</th>\n      <th>phone_number</th>\n    </tr>\n  </thead>\n  <tbody>\n    <tr>\n      <th>0</th>\n      <td>1</td>\n      <td>John Smith</td>\n      <td>123 Main St.</td>\n      <td>212-123-4567</td>\n    </tr>\n    <tr>\n      <th>1</th>\n      <td>2</td>\n      <td>Jane Doe</td>\n      <td>456 Park Ave.</td>\n      <td>949-867-5309</td>\n    </tr>\n    <tr>\n      <th>2</th>\n      <td>3</td>\n      <td>Joe Schmo</td>\n      <td>798 Broadway</td>\n      <td>112-358-1321</td>\n    </tr>\n  </tbody>\n</table>\n</div>"
     },
     "metadata": {},
     "execution_count": 4
    }
   ],
   "source": [
    "customers.head()"
   ]
  },
  {
   "source": [
    "***"
   ],
   "cell_type": "markdown",
   "metadata": {}
  },
  {
   "source": [
    "## Inner Merge I\n",
    "\n",
    "Suppose we have the following three tables that describe our eCommerce business:\n",
    "\n",
    "* `orders` — a table with information on each transaction:\n",
    "\n",
    "|order_id|customer_id|product_id|quantity|timestamp|\n",
    "|:-------|:----------|:---------|:-------|:--------|\n",
    "|1|2|3|1|2017-01-01|\n",
    "|2|2|2|3|2017-01-01|\n",
    "|3|3|1|1|2017-01-01|\n",
    "|4|3|2|2|2017-02-01|\n",
    "|5|3|3|3|2017-02-01|\n",
    "|6|1|4|2|2017-03-01|\n",
    "|7|1|1|1|2017-02-02|\n",
    "|8|1|4|1|2017-02-02|\n",
    "\n",
    "* `products` — a table with product IDs, descriptions, and prices:\n",
    "\n",
    "|product_id|description|price|\n",
    "|:---------|:----------|:----|\n",
    "|1|thing-a-ma-jig|5|\n",
    "|2|whatcha-ma-call-it|10|\n",
    "|3|doo-hickey|7|\n",
    "|4|gizmo|3|\n",
    "\n",
    "* `customers` — a table with customer names and contact information:\n",
    "\n",
    "|customer_id|customer_name|address|phone_number|\n",
    "|:----------|:------------|:------|:-----------|\n",
    "|1|John Smith|123 Main St.|212-123-4567|\n",
    "|2|Jane Doe|456 Park Ave.|949-867-5309|\n",
    "|3|Joe Schmo|798 Broadway|112-358-1321|\n",
    "\n",
    "If we just look at the <b>`orders`</b> table, we can not really tell what's happened in each order. However, if we refer to the other tables, we can get a more complete picture.<br>\n",
    "<br>\n",
    "Let us examine the order with an `order_id` of `1`. It was purchased by Customer $2$. To find out the customer's name, we look at the <b>`customers`</b> table and look for the item with a `customer_id` value of $2$. We can see that Customer $2$'s name is Jane Doe and that she lives at 456 Park Ave.<br>\n",
    "<br>\n",
    "Doing this kind of matching is called <b>merging</b> two DataFrames."
   ],
   "cell_type": "markdown",
   "metadata": {}
  },
  {
   "source": [
    "***"
   ],
   "cell_type": "markdown",
   "metadata": {}
  },
  {
   "source": [
    "### Exercise\n",
    "\n",
    "1. Examine the `orders` and `products` tables.<br>\n",
    "<br>\n",
    "What is the `description` of the product that was ordered in Order $3$?<br>\n",
    "<br>\n",
    "Give your answer as a string assigned to the variable `order_3_description`."
   ],
   "cell_type": "markdown",
   "metadata": {}
  },
  {
   "cell_type": "code",
   "execution_count": 5,
   "metadata": {},
   "outputs": [
    {
     "output_type": "execute_result",
     "data": {
      "text/plain": [
       "   order_id  customer_id  product_id  quantity   timestamp\n",
       "0         1            2           3         1  2017-01-01\n",
       "1         2            2           2         3  2017-01-01\n",
       "2         3            3           1         1  2017-01-01\n",
       "3         4            3           2         2  2017-02-01\n",
       "4         5            3           3         3  2017-02-01"
      ],
      "text/html": "<div>\n<style scoped>\n    .dataframe tbody tr th:only-of-type {\n        vertical-align: middle;\n    }\n\n    .dataframe tbody tr th {\n        vertical-align: top;\n    }\n\n    .dataframe thead th {\n        text-align: right;\n    }\n</style>\n<table border=\"1\" class=\"dataframe\">\n  <thead>\n    <tr style=\"text-align: right;\">\n      <th></th>\n      <th>order_id</th>\n      <th>customer_id</th>\n      <th>product_id</th>\n      <th>quantity</th>\n      <th>timestamp</th>\n    </tr>\n  </thead>\n  <tbody>\n    <tr>\n      <th>0</th>\n      <td>1</td>\n      <td>2</td>\n      <td>3</td>\n      <td>1</td>\n      <td>2017-01-01</td>\n    </tr>\n    <tr>\n      <th>1</th>\n      <td>2</td>\n      <td>2</td>\n      <td>2</td>\n      <td>3</td>\n      <td>2017-01-01</td>\n    </tr>\n    <tr>\n      <th>2</th>\n      <td>3</td>\n      <td>3</td>\n      <td>1</td>\n      <td>1</td>\n      <td>2017-01-01</td>\n    </tr>\n    <tr>\n      <th>3</th>\n      <td>4</td>\n      <td>3</td>\n      <td>2</td>\n      <td>2</td>\n      <td>2017-02-01</td>\n    </tr>\n    <tr>\n      <th>4</th>\n      <td>5</td>\n      <td>3</td>\n      <td>3</td>\n      <td>3</td>\n      <td>2017-02-01</td>\n    </tr>\n  </tbody>\n</table>\n</div>"
     },
     "metadata": {},
     "execution_count": 5
    }
   ],
   "source": [
    "orders.head()"
   ]
  },
  {
   "cell_type": "code",
   "execution_count": 6,
   "metadata": {},
   "outputs": [
    {
     "output_type": "execute_result",
     "data": {
      "text/plain": [
       "   product_id         description  price\n",
       "0           1      thing-a-ma-jig      5\n",
       "1           2  whatcha-ma-call-it     10\n",
       "2           3          doo-hickey      7\n",
       "3           4               gizmo      3"
      ],
      "text/html": "<div>\n<style scoped>\n    .dataframe tbody tr th:only-of-type {\n        vertical-align: middle;\n    }\n\n    .dataframe tbody tr th {\n        vertical-align: top;\n    }\n\n    .dataframe thead th {\n        text-align: right;\n    }\n</style>\n<table border=\"1\" class=\"dataframe\">\n  <thead>\n    <tr style=\"text-align: right;\">\n      <th></th>\n      <th>product_id</th>\n      <th>description</th>\n      <th>price</th>\n    </tr>\n  </thead>\n  <tbody>\n    <tr>\n      <th>0</th>\n      <td>1</td>\n      <td>thing-a-ma-jig</td>\n      <td>5</td>\n    </tr>\n    <tr>\n      <th>1</th>\n      <td>2</td>\n      <td>whatcha-ma-call-it</td>\n      <td>10</td>\n    </tr>\n    <tr>\n      <th>2</th>\n      <td>3</td>\n      <td>doo-hickey</td>\n      <td>7</td>\n    </tr>\n    <tr>\n      <th>3</th>\n      <td>4</td>\n      <td>gizmo</td>\n      <td>3</td>\n    </tr>\n  </tbody>\n</table>\n</div>"
     },
     "metadata": {},
     "execution_count": 6
    }
   ],
   "source": [
    "products.head()"
   ]
  },
  {
   "cell_type": "code",
   "execution_count": 7,
   "metadata": {},
   "outputs": [
    {
     "output_type": "execute_result",
     "data": {
      "text/plain": [
       "   customer_id customer_name        address  phone_number\n",
       "0            1    John Smith   123 Main St.  212-123-4567\n",
       "1            2      Jane Doe  456 Park Ave.  949-867-5309\n",
       "2            3     Joe Schmo   798 Broadway  112-358-1321"
      ],
      "text/html": "<div>\n<style scoped>\n    .dataframe tbody tr th:only-of-type {\n        vertical-align: middle;\n    }\n\n    .dataframe tbody tr th {\n        vertical-align: top;\n    }\n\n    .dataframe thead th {\n        text-align: right;\n    }\n</style>\n<table border=\"1\" class=\"dataframe\">\n  <thead>\n    <tr style=\"text-align: right;\">\n      <th></th>\n      <th>customer_id</th>\n      <th>customer_name</th>\n      <th>address</th>\n      <th>phone_number</th>\n    </tr>\n  </thead>\n  <tbody>\n    <tr>\n      <th>0</th>\n      <td>1</td>\n      <td>John Smith</td>\n      <td>123 Main St.</td>\n      <td>212-123-4567</td>\n    </tr>\n    <tr>\n      <th>1</th>\n      <td>2</td>\n      <td>Jane Doe</td>\n      <td>456 Park Ave.</td>\n      <td>949-867-5309</td>\n    </tr>\n    <tr>\n      <th>2</th>\n      <td>3</td>\n      <td>Joe Schmo</td>\n      <td>798 Broadway</td>\n      <td>112-358-1321</td>\n    </tr>\n  </tbody>\n</table>\n</div>"
     },
     "metadata": {},
     "execution_count": 7
    }
   ],
   "source": [
    "customers.head()"
   ]
  },
  {
   "cell_type": "code",
   "execution_count": 8,
   "metadata": {},
   "outputs": [],
   "source": [
    "order_3_description = 'thing-a-ma-jig'"
   ]
  },
  {
   "source": [
    "2. Examine the `orders` and `customers` tables.<br>\n",
    "<br>\n",
    "What is the `phone_number` of the customer in Order $5$?<br>\n",
    "<br>\n",
    "Give your answer as a string assigned to the variable `order_5_phone_number`."
   ],
   "cell_type": "markdown",
   "metadata": {}
  },
  {
   "cell_type": "code",
   "execution_count": 9,
   "metadata": {},
   "outputs": [],
   "source": [
    "order_5_phone_number = '112-358-1321'"
   ]
  },
  {
   "source": [
    "***"
   ],
   "cell_type": "markdown",
   "metadata": {}
  },
  {
   "source": [
    "## Inner Merge II\n",
    "\n",
    "It is easy to do this kind of matching for one row, but hard to do it for multiple rows.<br>\n",
    "<br>\n",
    "Luckily, Pandas can efficiently do this for the entire table. We use the `.merge` method.<br>\n",
    "<br>\n",
    "The `.merge` method looks for columns that are common between two DataFrames and then looks for rows where those column's values are the same. It then combines the matching rows into a single row in a new table.<br>\n",
    "<br>\n",
    "We can call the pd.merge method with two tables like this:<br>\n",
    "<br>\n",
    "`new_df = pd.merge(orders, customers)`<br>\n",
    "<br>\n",
    "This will match up all of the customer information to the orders that each customer made."
   ],
   "cell_type": "markdown",
   "metadata": {}
  },
  {
   "source": [
    "***"
   ],
   "cell_type": "markdown",
   "metadata": {}
  },
  {
   "source": [
    "### Exercise\n",
    "\n",
    "1. You are an analyst at Cool T-Shirts Inc. You are going to help them analyze some of their sales data.<br>\n",
    "<br>\n",
    "There are two DataFrames defined in the file <b>script.py</b>:\n",
    "\n",
    "* `sales` contains the monthly revenue for Cool T-Shirts Inc. It has two columns: `month` and `revenue`.<br>\n",
    "* `targets` contains the goals for monthly revenue for each month. It has two columns: `month` and `target`.<br>\n",
    "<br>\n",
    "Create a new DataFrame `sales_vs_targets` which contains the merge of `sales` and `targets`."
   ],
   "cell_type": "markdown",
   "metadata": {}
  },
  {
   "cell_type": "code",
   "execution_count": 10,
   "metadata": {},
   "outputs": [
    {
     "output_type": "execute_result",
     "data": {
      "text/plain": [
       "      month  revenue\n",
       "0   January      300\n",
       "1  February      290\n",
       "2     March      310\n",
       "3     April      325\n",
       "4       May      475\n",
       "5      June      495"
      ],
      "text/html": "<div>\n<style scoped>\n    .dataframe tbody tr th:only-of-type {\n        vertical-align: middle;\n    }\n\n    .dataframe tbody tr th {\n        vertical-align: top;\n    }\n\n    .dataframe thead th {\n        text-align: right;\n    }\n</style>\n<table border=\"1\" class=\"dataframe\">\n  <thead>\n    <tr style=\"text-align: right;\">\n      <th></th>\n      <th>month</th>\n      <th>revenue</th>\n    </tr>\n  </thead>\n  <tbody>\n    <tr>\n      <th>0</th>\n      <td>January</td>\n      <td>300</td>\n    </tr>\n    <tr>\n      <th>1</th>\n      <td>February</td>\n      <td>290</td>\n    </tr>\n    <tr>\n      <th>2</th>\n      <td>March</td>\n      <td>310</td>\n    </tr>\n    <tr>\n      <th>3</th>\n      <td>April</td>\n      <td>325</td>\n    </tr>\n    <tr>\n      <th>4</th>\n      <td>May</td>\n      <td>475</td>\n    </tr>\n    <tr>\n      <th>5</th>\n      <td>June</td>\n      <td>495</td>\n    </tr>\n  </tbody>\n</table>\n</div>"
     },
     "metadata": {},
     "execution_count": 10
    }
   ],
   "source": [
    "sales = pd.read_csv('sales.csv')\n",
    "\n",
    "sales"
   ]
  },
  {
   "cell_type": "code",
   "execution_count": 11,
   "metadata": {},
   "outputs": [
    {
     "output_type": "execute_result",
     "data": {
      "text/plain": [
       "      month  target\n",
       "0   January     310\n",
       "1  February     270\n",
       "2     March     300\n",
       "3     April     350\n",
       "4       May     475\n",
       "5      June     500"
      ],
      "text/html": "<div>\n<style scoped>\n    .dataframe tbody tr th:only-of-type {\n        vertical-align: middle;\n    }\n\n    .dataframe tbody tr th {\n        vertical-align: top;\n    }\n\n    .dataframe thead th {\n        text-align: right;\n    }\n</style>\n<table border=\"1\" class=\"dataframe\">\n  <thead>\n    <tr style=\"text-align: right;\">\n      <th></th>\n      <th>month</th>\n      <th>target</th>\n    </tr>\n  </thead>\n  <tbody>\n    <tr>\n      <th>0</th>\n      <td>January</td>\n      <td>310</td>\n    </tr>\n    <tr>\n      <th>1</th>\n      <td>February</td>\n      <td>270</td>\n    </tr>\n    <tr>\n      <th>2</th>\n      <td>March</td>\n      <td>300</td>\n    </tr>\n    <tr>\n      <th>3</th>\n      <td>April</td>\n      <td>350</td>\n    </tr>\n    <tr>\n      <th>4</th>\n      <td>May</td>\n      <td>475</td>\n    </tr>\n    <tr>\n      <th>5</th>\n      <td>June</td>\n      <td>500</td>\n    </tr>\n  </tbody>\n</table>\n</div>"
     },
     "metadata": {},
     "execution_count": 11
    }
   ],
   "source": [
    "targets = pd.read_csv('targets.csv')\n",
    "\n",
    "targets"
   ]
  },
  {
   "cell_type": "code",
   "execution_count": 12,
   "metadata": {},
   "outputs": [],
   "source": [
    "sales_vs_targets = pd.merge(sales, targets)"
   ]
  },
  {
   "source": [
    "2. Display `sales_vs_targets` using `print`."
   ],
   "cell_type": "markdown",
   "metadata": {}
  },
  {
   "cell_type": "code",
   "execution_count": 13,
   "metadata": {},
   "outputs": [
    {
     "output_type": "execute_result",
     "data": {
      "text/plain": [
       "      month  revenue  target\n",
       "0   January      300     310\n",
       "1  February      290     270\n",
       "2     March      310     300\n",
       "3     April      325     350\n",
       "4       May      475     475\n",
       "5      June      495     500"
      ],
      "text/html": "<div>\n<style scoped>\n    .dataframe tbody tr th:only-of-type {\n        vertical-align: middle;\n    }\n\n    .dataframe tbody tr th {\n        vertical-align: top;\n    }\n\n    .dataframe thead th {\n        text-align: right;\n    }\n</style>\n<table border=\"1\" class=\"dataframe\">\n  <thead>\n    <tr style=\"text-align: right;\">\n      <th></th>\n      <th>month</th>\n      <th>revenue</th>\n      <th>target</th>\n    </tr>\n  </thead>\n  <tbody>\n    <tr>\n      <th>0</th>\n      <td>January</td>\n      <td>300</td>\n      <td>310</td>\n    </tr>\n    <tr>\n      <th>1</th>\n      <td>February</td>\n      <td>290</td>\n      <td>270</td>\n    </tr>\n    <tr>\n      <th>2</th>\n      <td>March</td>\n      <td>310</td>\n      <td>300</td>\n    </tr>\n    <tr>\n      <th>3</th>\n      <td>April</td>\n      <td>325</td>\n      <td>350</td>\n    </tr>\n    <tr>\n      <th>4</th>\n      <td>May</td>\n      <td>475</td>\n      <td>475</td>\n    </tr>\n    <tr>\n      <th>5</th>\n      <td>June</td>\n      <td>495</td>\n      <td>500</td>\n    </tr>\n  </tbody>\n</table>\n</div>"
     },
     "metadata": {},
     "execution_count": 13
    }
   ],
   "source": [
    "sales_vs_targets"
   ]
  },
  {
   "source": [
    "3. Cool T-Shirts Inc. wants to know the months when they crushed their targets.<br>\n",
    "<br>\n",
    "Select the rows from `sales_vs_targets` where `revenue` is greater than `target`. Save these rows to the variable `crushing_it`."
   ],
   "cell_type": "markdown",
   "metadata": {}
  },
  {
   "cell_type": "code",
   "execution_count": 14,
   "metadata": {},
   "outputs": [
    {
     "output_type": "execute_result",
     "data": {
      "text/plain": [
       "      month  revenue  target\n",
       "1  February      290     270\n",
       "2     March      310     300"
      ],
      "text/html": "<div>\n<style scoped>\n    .dataframe tbody tr th:only-of-type {\n        vertical-align: middle;\n    }\n\n    .dataframe tbody tr th {\n        vertical-align: top;\n    }\n\n    .dataframe thead th {\n        text-align: right;\n    }\n</style>\n<table border=\"1\" class=\"dataframe\">\n  <thead>\n    <tr style=\"text-align: right;\">\n      <th></th>\n      <th>month</th>\n      <th>revenue</th>\n      <th>target</th>\n    </tr>\n  </thead>\n  <tbody>\n    <tr>\n      <th>1</th>\n      <td>February</td>\n      <td>290</td>\n      <td>270</td>\n    </tr>\n    <tr>\n      <th>2</th>\n      <td>March</td>\n      <td>310</td>\n      <td>300</td>\n    </tr>\n  </tbody>\n</table>\n</div>"
     },
     "metadata": {},
     "execution_count": 14
    }
   ],
   "source": [
    "crushing_it = sales_vs_targets[sales_vs_targets.revenue > sales_vs_targets.target]\n",
    "\n",
    "crushing_it"
   ]
  },
  {
   "source": [
    "***"
   ],
   "cell_type": "markdown",
   "metadata": {}
  },
  {
   "source": [
    "## Inner Merge III\n",
    "\n",
    "In addition to using `pd.merge`, each DataFrame has its own `merge` method. For instance, if you wanted to merge orders with customers, you could use:<br>\n",
    "<br>\n",
    "`new_df = orders.merge(customers)`<br>\n",
    "<br>\n",
    "This produces the same DataFrame as if we had called `pd.merge(orders, customers)`.<br>\n",
    "<br>\n",
    "We generally use this when we are joining more than two DataFrames together because we can \"chain\" the commands. The following command would merge `orders` to `customers`, and then the resulting DataFrame to `products`:<br>\n",
    "<br>\n",
    "`big_df = orders.merge(customers).merge(products)`"
   ],
   "cell_type": "markdown",
   "metadata": {}
  },
  {
   "source": [
    "***"
   ],
   "cell_type": "markdown",
   "metadata": {}
  },
  {
   "source": [
    "### Exercise\n",
    "\n",
    "1. We have some more data from Cool T-Shirts Inc. The number of men's and women's t-shirts sold per month is in a file called `men_women_sales.csv`. Load this data into a DataFrame called `men_women`."
   ],
   "cell_type": "markdown",
   "metadata": {}
  },
  {
   "cell_type": "code",
   "execution_count": 15,
   "metadata": {},
   "outputs": [
    {
     "output_type": "execute_result",
     "data": {
      "text/plain": [
       "      month  men  women\n",
       "0   January   30     35\n",
       "1  February   29     35\n",
       "2     March   31     29\n",
       "3     April   32     28\n",
       "4       May   47     50\n",
       "5      June   49     45"
      ],
      "text/html": "<div>\n<style scoped>\n    .dataframe tbody tr th:only-of-type {\n        vertical-align: middle;\n    }\n\n    .dataframe tbody tr th {\n        vertical-align: top;\n    }\n\n    .dataframe thead th {\n        text-align: right;\n    }\n</style>\n<table border=\"1\" class=\"dataframe\">\n  <thead>\n    <tr style=\"text-align: right;\">\n      <th></th>\n      <th>month</th>\n      <th>men</th>\n      <th>women</th>\n    </tr>\n  </thead>\n  <tbody>\n    <tr>\n      <th>0</th>\n      <td>January</td>\n      <td>30</td>\n      <td>35</td>\n    </tr>\n    <tr>\n      <th>1</th>\n      <td>February</td>\n      <td>29</td>\n      <td>35</td>\n    </tr>\n    <tr>\n      <th>2</th>\n      <td>March</td>\n      <td>31</td>\n      <td>29</td>\n    </tr>\n    <tr>\n      <th>3</th>\n      <td>April</td>\n      <td>32</td>\n      <td>28</td>\n    </tr>\n    <tr>\n      <th>4</th>\n      <td>May</td>\n      <td>47</td>\n      <td>50</td>\n    </tr>\n    <tr>\n      <th>5</th>\n      <td>June</td>\n      <td>49</td>\n      <td>45</td>\n    </tr>\n  </tbody>\n</table>\n</div>"
     },
     "metadata": {},
     "execution_count": 15
    }
   ],
   "source": [
    "men_women = pd.read_csv('men_women_sales.csv')\n",
    "\n",
    "men_women"
   ]
  },
  {
   "source": [
    "2. Merge all three DataFrames (`sales`, `targets`, and `men_women`) into one big DataFrame called `all_data`."
   ],
   "cell_type": "markdown",
   "metadata": {}
  },
  {
   "cell_type": "code",
   "execution_count": 16,
   "metadata": {},
   "outputs": [],
   "source": [
    "all_data = sales.merge(targets).merge(men_women)"
   ]
  },
  {
   "source": [
    "3. Display `all_data` using `print`."
   ],
   "cell_type": "markdown",
   "metadata": {}
  },
  {
   "cell_type": "code",
   "execution_count": 17,
   "metadata": {},
   "outputs": [
    {
     "output_type": "execute_result",
     "data": {
      "text/plain": [
       "      month  revenue  target  men  women\n",
       "0   January      300     310   30     35\n",
       "1  February      290     270   29     35\n",
       "2     March      310     300   31     29\n",
       "3     April      325     350   32     28\n",
       "4       May      475     475   47     50\n",
       "5      June      495     500   49     45"
      ],
      "text/html": "<div>\n<style scoped>\n    .dataframe tbody tr th:only-of-type {\n        vertical-align: middle;\n    }\n\n    .dataframe tbody tr th {\n        vertical-align: top;\n    }\n\n    .dataframe thead th {\n        text-align: right;\n    }\n</style>\n<table border=\"1\" class=\"dataframe\">\n  <thead>\n    <tr style=\"text-align: right;\">\n      <th></th>\n      <th>month</th>\n      <th>revenue</th>\n      <th>target</th>\n      <th>men</th>\n      <th>women</th>\n    </tr>\n  </thead>\n  <tbody>\n    <tr>\n      <th>0</th>\n      <td>January</td>\n      <td>300</td>\n      <td>310</td>\n      <td>30</td>\n      <td>35</td>\n    </tr>\n    <tr>\n      <th>1</th>\n      <td>February</td>\n      <td>290</td>\n      <td>270</td>\n      <td>29</td>\n      <td>35</td>\n    </tr>\n    <tr>\n      <th>2</th>\n      <td>March</td>\n      <td>310</td>\n      <td>300</td>\n      <td>31</td>\n      <td>29</td>\n    </tr>\n    <tr>\n      <th>3</th>\n      <td>April</td>\n      <td>325</td>\n      <td>350</td>\n      <td>32</td>\n      <td>28</td>\n    </tr>\n    <tr>\n      <th>4</th>\n      <td>May</td>\n      <td>475</td>\n      <td>475</td>\n      <td>47</td>\n      <td>50</td>\n    </tr>\n    <tr>\n      <th>5</th>\n      <td>June</td>\n      <td>495</td>\n      <td>500</td>\n      <td>49</td>\n      <td>45</td>\n    </tr>\n  </tbody>\n</table>\n</div>"
     },
     "metadata": {},
     "execution_count": 17
    }
   ],
   "source": [
    "all_data"
   ]
  },
  {
   "source": [
    "4. Cool T-Shirts Inc. thinks that they have more revenue in months where they sell more women's t-shirts.<br>\n",
    "<br>\n",
    "Select the rows of `all_data` where:\n",
    "* `revenue` is greater than `target`<br>\n",
    "<br>\n",
    "AND<br>\n",
    "<br>\n",
    "* `women` is greater than `men`<br>\n",
    "<br>\n",
    "Save your answer to the variable `results`."
   ],
   "cell_type": "markdown",
   "metadata": {}
  },
  {
   "cell_type": "code",
   "execution_count": 18,
   "metadata": {},
   "outputs": [
    {
     "output_type": "execute_result",
     "data": {
      "text/plain": [
       "      month  revenue  target  men  women\n",
       "1  February      290     270   29     35"
      ],
      "text/html": "<div>\n<style scoped>\n    .dataframe tbody tr th:only-of-type {\n        vertical-align: middle;\n    }\n\n    .dataframe tbody tr th {\n        vertical-align: top;\n    }\n\n    .dataframe thead th {\n        text-align: right;\n    }\n</style>\n<table border=\"1\" class=\"dataframe\">\n  <thead>\n    <tr style=\"text-align: right;\">\n      <th></th>\n      <th>month</th>\n      <th>revenue</th>\n      <th>target</th>\n      <th>men</th>\n      <th>women</th>\n    </tr>\n  </thead>\n  <tbody>\n    <tr>\n      <th>1</th>\n      <td>February</td>\n      <td>290</td>\n      <td>270</td>\n      <td>29</td>\n      <td>35</td>\n    </tr>\n  </tbody>\n</table>\n</div>"
     },
     "metadata": {},
     "execution_count": 18
    }
   ],
   "source": [
    "results = all_data[(all_data.revenue > all_data.target) & (all_data.women > all_data.men)]\n",
    "\n",
    "results"
   ]
  },
  {
   "source": [
    "***"
   ],
   "cell_type": "markdown",
   "metadata": {}
  },
  {
   "source": [
    "## Merge on Specific Columns\n",
    "\n",
    "In the previous example, the `merge` function \"knew\" how to combine tables based on the columns that were the same between two tables. For instance, `products` and `orders` both had a column called `product_id`. This will not always be true when we want to perform a merge.<br>\n",
    "<br>\n",
    "Generally, the `products` and `customers` DataFrames would not have the columns `product_id` or `customer_id`. Instead, they would both be called `id` and it would be implied that the id was the `product_id` for the `products` table and `customer_id` for the `customers` table. They would look like this:\n",
    "\n",
    "### Customers\n",
    "\n",
    "|customer_id|customer_name|address|phone_number|\n",
    "|:----------|:------------|:------|:-----------|\n",
    "|1|John Smith|123 Main St.|212-123-4567|\n",
    "|2|Jane Doe|456 Park Ave.|949-867-5309|\n",
    "|3|Joe Schmo|798 Broadway|112-358-1321|\n",
    "\n",
    "### Products\n",
    "\n",
    "|product_id|description|price|\n",
    "|:---------|:----------|:----|\n",
    "|1|thing-a-ma-jig|5|\n",
    "|2|whatcha-ma-call-it|10|\n",
    "|3|doo-hickey|7|\n",
    "|4|gizmo|3|\n",
    "\n",
    "**How would this affect our merges?**<br>\n",
    "<br>\n",
    "Because the `id` columns would mean something different in each table, our default merges would be wrong.<br>\n",
    "<br>\n",
    "One way that we could address this problem is to use `.rename` to rename the columns for our merges. In the example below, we will rename the column `id` to `customer_id`, so that orders and customers have a common column for the merge.<br>\n",
    "<br>\n",
    "`pd.merge(`<br>\n",
    "    `orders,`<br>\n",
    "    `customers.rename(columns={'id': 'customer_id'}))`"
   ],
   "cell_type": "markdown",
   "metadata": {}
  },
  {
   "source": [
    "***"
   ],
   "cell_type": "markdown",
   "metadata": {}
  },
  {
   "source": [
    "### Exercise\n",
    "\n",
    "1. Merge `orders` and `products` using `rename`. Save your results to the variable `orders_products`."
   ],
   "cell_type": "markdown",
   "metadata": {}
  },
  {
   "cell_type": "code",
   "execution_count": 19,
   "metadata": {},
   "outputs": [
    {
     "output_type": "execute_result",
     "data": {
      "text/plain": [
       "   id  product_id  customer_id  quantity   timestamp\n",
       "0   1           3            2         1  2017-01-01\n",
       "1   2           2            2         3  2017-01-01\n",
       "2   3           1            3         1  2017-01-01\n",
       "3   4           2            3         2  2016-02-01\n",
       "4   5           3            3         3  2017-02-01\n",
       "5   6           4            1         2  2017-03-01\n",
       "6   7           1            1         1  2017-02-02\n",
       "7   8           4            1         1  2017-02-02"
      ],
      "text/html": "<div>\n<style scoped>\n    .dataframe tbody tr th:only-of-type {\n        vertical-align: middle;\n    }\n\n    .dataframe tbody tr th {\n        vertical-align: top;\n    }\n\n    .dataframe thead th {\n        text-align: right;\n    }\n</style>\n<table border=\"1\" class=\"dataframe\">\n  <thead>\n    <tr style=\"text-align: right;\">\n      <th></th>\n      <th>id</th>\n      <th>product_id</th>\n      <th>customer_id</th>\n      <th>quantity</th>\n      <th>timestamp</th>\n    </tr>\n  </thead>\n  <tbody>\n    <tr>\n      <th>0</th>\n      <td>1</td>\n      <td>3</td>\n      <td>2</td>\n      <td>1</td>\n      <td>2017-01-01</td>\n    </tr>\n    <tr>\n      <th>1</th>\n      <td>2</td>\n      <td>2</td>\n      <td>2</td>\n      <td>3</td>\n      <td>2017-01-01</td>\n    </tr>\n    <tr>\n      <th>2</th>\n      <td>3</td>\n      <td>1</td>\n      <td>3</td>\n      <td>1</td>\n      <td>2017-01-01</td>\n    </tr>\n    <tr>\n      <th>3</th>\n      <td>4</td>\n      <td>2</td>\n      <td>3</td>\n      <td>2</td>\n      <td>2016-02-01</td>\n    </tr>\n    <tr>\n      <th>4</th>\n      <td>5</td>\n      <td>3</td>\n      <td>3</td>\n      <td>3</td>\n      <td>2017-02-01</td>\n    </tr>\n    <tr>\n      <th>5</th>\n      <td>6</td>\n      <td>4</td>\n      <td>1</td>\n      <td>2</td>\n      <td>2017-03-01</td>\n    </tr>\n    <tr>\n      <th>6</th>\n      <td>7</td>\n      <td>1</td>\n      <td>1</td>\n      <td>1</td>\n      <td>2017-02-02</td>\n    </tr>\n    <tr>\n      <th>7</th>\n      <td>8</td>\n      <td>4</td>\n      <td>1</td>\n      <td>1</td>\n      <td>2017-02-02</td>\n    </tr>\n  </tbody>\n</table>\n</div>"
     },
     "metadata": {},
     "execution_count": 19
    }
   ],
   "source": [
    "orders = pd.read_csv('orders2.csv')\n",
    "orders"
   ]
  },
  {
   "cell_type": "code",
   "execution_count": 20,
   "metadata": {},
   "outputs": [
    {
     "output_type": "execute_result",
     "data": {
      "text/plain": [
       "   id         description  price\n",
       "0   1      thing-a-ma-jig      5\n",
       "1   2  whatcha-ma-call-it     10\n",
       "2   3          doo-hickey      7\n",
       "3   4               gizmo      3"
      ],
      "text/html": "<div>\n<style scoped>\n    .dataframe tbody tr th:only-of-type {\n        vertical-align: middle;\n    }\n\n    .dataframe tbody tr th {\n        vertical-align: top;\n    }\n\n    .dataframe thead th {\n        text-align: right;\n    }\n</style>\n<table border=\"1\" class=\"dataframe\">\n  <thead>\n    <tr style=\"text-align: right;\">\n      <th></th>\n      <th>id</th>\n      <th>description</th>\n      <th>price</th>\n    </tr>\n  </thead>\n  <tbody>\n    <tr>\n      <th>0</th>\n      <td>1</td>\n      <td>thing-a-ma-jig</td>\n      <td>5</td>\n    </tr>\n    <tr>\n      <th>1</th>\n      <td>2</td>\n      <td>whatcha-ma-call-it</td>\n      <td>10</td>\n    </tr>\n    <tr>\n      <th>2</th>\n      <td>3</td>\n      <td>doo-hickey</td>\n      <td>7</td>\n    </tr>\n    <tr>\n      <th>3</th>\n      <td>4</td>\n      <td>gizmo</td>\n      <td>3</td>\n    </tr>\n  </tbody>\n</table>\n</div>"
     },
     "metadata": {},
     "execution_count": 20
    }
   ],
   "source": [
    "products = pd.read_csv('products2.csv')\n",
    "products"
   ]
  },
  {
   "cell_type": "code",
   "execution_count": 21,
   "metadata": {},
   "outputs": [],
   "source": [
    "orders_products = pd.merge(\n",
    "    orders,\n",
    "    products.rename(columns={'id': 'product_id'}))"
   ]
  },
  {
   "source": [
    "2. Display `orders_products` using print."
   ],
   "cell_type": "markdown",
   "metadata": {}
  },
  {
   "cell_type": "code",
   "execution_count": 22,
   "metadata": {},
   "outputs": [
    {
     "output_type": "execute_result",
     "data": {
      "text/plain": [
       "   id  product_id  customer_id  quantity   timestamp         description  \\\n",
       "0   1           3            2         1  2017-01-01          doo-hickey   \n",
       "1   5           3            3         3  2017-02-01          doo-hickey   \n",
       "2   2           2            2         3  2017-01-01  whatcha-ma-call-it   \n",
       "3   4           2            3         2  2016-02-01  whatcha-ma-call-it   \n",
       "4   3           1            3         1  2017-01-01      thing-a-ma-jig   \n",
       "5   7           1            1         1  2017-02-02      thing-a-ma-jig   \n",
       "6   6           4            1         2  2017-03-01               gizmo   \n",
       "7   8           4            1         1  2017-02-02               gizmo   \n",
       "\n",
       "   price  \n",
       "0      7  \n",
       "1      7  \n",
       "2     10  \n",
       "3     10  \n",
       "4      5  \n",
       "5      5  \n",
       "6      3  \n",
       "7      3  "
      ],
      "text/html": "<div>\n<style scoped>\n    .dataframe tbody tr th:only-of-type {\n        vertical-align: middle;\n    }\n\n    .dataframe tbody tr th {\n        vertical-align: top;\n    }\n\n    .dataframe thead th {\n        text-align: right;\n    }\n</style>\n<table border=\"1\" class=\"dataframe\">\n  <thead>\n    <tr style=\"text-align: right;\">\n      <th></th>\n      <th>id</th>\n      <th>product_id</th>\n      <th>customer_id</th>\n      <th>quantity</th>\n      <th>timestamp</th>\n      <th>description</th>\n      <th>price</th>\n    </tr>\n  </thead>\n  <tbody>\n    <tr>\n      <th>0</th>\n      <td>1</td>\n      <td>3</td>\n      <td>2</td>\n      <td>1</td>\n      <td>2017-01-01</td>\n      <td>doo-hickey</td>\n      <td>7</td>\n    </tr>\n    <tr>\n      <th>1</th>\n      <td>5</td>\n      <td>3</td>\n      <td>3</td>\n      <td>3</td>\n      <td>2017-02-01</td>\n      <td>doo-hickey</td>\n      <td>7</td>\n    </tr>\n    <tr>\n      <th>2</th>\n      <td>2</td>\n      <td>2</td>\n      <td>2</td>\n      <td>3</td>\n      <td>2017-01-01</td>\n      <td>whatcha-ma-call-it</td>\n      <td>10</td>\n    </tr>\n    <tr>\n      <th>3</th>\n      <td>4</td>\n      <td>2</td>\n      <td>3</td>\n      <td>2</td>\n      <td>2016-02-01</td>\n      <td>whatcha-ma-call-it</td>\n      <td>10</td>\n    </tr>\n    <tr>\n      <th>4</th>\n      <td>3</td>\n      <td>1</td>\n      <td>3</td>\n      <td>1</td>\n      <td>2017-01-01</td>\n      <td>thing-a-ma-jig</td>\n      <td>5</td>\n    </tr>\n    <tr>\n      <th>5</th>\n      <td>7</td>\n      <td>1</td>\n      <td>1</td>\n      <td>1</td>\n      <td>2017-02-02</td>\n      <td>thing-a-ma-jig</td>\n      <td>5</td>\n    </tr>\n    <tr>\n      <th>6</th>\n      <td>6</td>\n      <td>4</td>\n      <td>1</td>\n      <td>2</td>\n      <td>2017-03-01</td>\n      <td>gizmo</td>\n      <td>3</td>\n    </tr>\n    <tr>\n      <th>7</th>\n      <td>8</td>\n      <td>4</td>\n      <td>1</td>\n      <td>1</td>\n      <td>2017-02-02</td>\n      <td>gizmo</td>\n      <td>3</td>\n    </tr>\n  </tbody>\n</table>\n</div>"
     },
     "metadata": {},
     "execution_count": 22
    }
   ],
   "source": [
    "orders_products"
   ]
  },
  {
   "source": [
    "***"
   ],
   "cell_type": "markdown",
   "metadata": {}
  },
  {
   "source": [
    "## Merge on Specific Columns II\n",
    "\n",
    "In the previous exercise, we learned how to use `rename` to merge two DataFrames whose columns don't match.<br>\n",
    "<br>\n",
    "If we don't want to do that, we have another option. We could use the keywords `left_on` and `right_on` to specify which columns we want to perform the merge on. In the example below, the \"left\" table is the one that comes first (`orders`), and the \"right\" table is the one that comes second (`customers`). This syntax says that we should match the `customer_id` from orders to the `id` in customers.<br>\n",
    "<br>\n",
    "`pd.merge(`<br>\n",
    "    `orders,`<br>\n",
    "    `customers,`<br>\n",
    "    `left_on='customer_id',`<br>\n",
    "    `right_on='id')`<br>\n",
    "<br>\n",
    "If we use this syntax, we'll end up with two columns called `id`, one from the first table and one from the second. Pandas won't let you have two columns with the same name, so it will change them to `id_x` and `id_y`.<br>\n",
    "<br>\n",
    "It will look like this:<br>\n",
    "\n",
    "|id_x|customer_id|product_id|quantity|timestamp|id_y|customer_name|address|phone_number|\n",
    "|:---|:----------|:---------|:-------|:--------|:---|:------------|:------|:-----------|\n",
    "|1|2|3|1|2017-01-01 00:00:00|2|Jane Doe|456 Park Ave|949-867-5309|\n",
    "|2|2|2|3|2017-01-01 00:00:00|2|Jane Doe|456 Park Ave|949-867-5309|\n",
    "|3|3|1|1|2017-01-01 00:00:00|3|Joe Schmo|789 Broadway|112-358-1321|\n",
    "|4|3|2|2|2016-02-01 00:00:00|3|Joe Schmo|789 Broadway|112-358-1321|\n",
    "|5|3|3|3|2017-02-01 00:00:00|3|Joe Schmo|789 Broadway|112-358-1321|\n",
    "|6|1|4|2|2017-03-01 00:00:00|1|John Smith|123 Main St.|212-123-4567|\n",
    "|7|1|1|1|2017-02-02 00:00:00|1|John Smith|123 Main St.|212-123-4567|\n",
    "|8|1|4|1|2017-02-02 00:00:00|1|John Smith|123 Main St.|212-123-4567|\n",
    "\n",
    "The new column names `id_x` and `id_y` are not very helpful for us when we read the table. We can help make them more useful by using the keyword suffixes. We can provide a list of suffixes to use instead of \"_x\" and \"_y\".<br>\n",
    "<br>\n",
    "For example, we could use the following code to make the suffixes reflect the table names:<br>\n",
    "<br>\n",
    "`pd.merge(`<br>\n",
    "    `orders,`<br>\n",
    "    `customers,`<br>\n",
    "    `left_on='customer_id',`<br>\n",
    "    `right_on='id',`<br>\n",
    "    `suffixes=['_order', '_customer']`<br>\n",
    "`)`<br>\n",
    "<br>\n",
    "The resulting table would look like this:<br>\n",
    "\n",
    "|id_order|customer_id|product_id|quantity|timestamp|id_customer|customer_name|address|phone_number|\n",
    "|:-------|:----------|:---------|:-------|:--------|:----------|:------------|:------|:-----------|\n",
    "|1|2|3|1|2017-01-01 00:00:00|2|Jane Doe|456 Park Ave|949-867-5309|\n",
    "|2|2|2|3|2017-01-01 00:00:00|2|Jane Doe|456 Park Ave|949-867-5309|\n",
    "|3|3|1|1|2017-01-01 00:00:00|3|Joe Schmo|789 Broadway|112-358-1321|\n",
    "|4|3|2|2|2016-02-01 00:00:00|3|Joe Schmo|789 Broadway|112-358-1321|\n",
    "|5|3|3|3|2017-02-01 00:00:00|3|Joe Schmo|789 Broadway|112-358-1321|\n",
    "|6|1|4|2|2017-03-01 00:00:00|1|John Smith|123 Main St.|212-123-4567|\n",
    "|7|1|1|1|2017-02-02 00:00:00|1|John Smith|123 Main St.|212-123-4567|\n",
    "|8|1|4|1|2017-02-02 00:00:00|1|John Smith|123 Main St.|212-123-4567|"
   ],
   "cell_type": "markdown",
   "metadata": {}
  },
  {
   "source": [
    "***"
   ],
   "cell_type": "markdown",
   "metadata": {}
  },
  {
   "source": [
    "### Exercise\n",
    "\n",
    "1. Merge `orders` and `products` using `left_on` and `right_on`. Use the suffixes `_orders` and `_products`. Save your results to the variable `orders_products`."
   ],
   "cell_type": "markdown",
   "metadata": {}
  },
  {
   "cell_type": "code",
   "execution_count": 23,
   "metadata": {},
   "outputs": [],
   "source": [
    "orders_products = pd.merge(\n",
    "    orders,\n",
    "    products,\n",
    "    left_on='product_id',\n",
    "    right_on='id',\n",
    "    suffixes=['_orders', '_products']\n",
    ")"
   ]
  },
  {
   "source": [
    "2. Display `orders_products` using `print`."
   ],
   "cell_type": "markdown",
   "metadata": {}
  },
  {
   "cell_type": "code",
   "execution_count": 24,
   "metadata": {},
   "outputs": [
    {
     "output_type": "execute_result",
     "data": {
      "text/plain": [
       "   id_orders  product_id  customer_id  quantity   timestamp  id_products  \\\n",
       "0          1           3            2         1  2017-01-01            3   \n",
       "1          5           3            3         3  2017-02-01            3   \n",
       "2          2           2            2         3  2017-01-01            2   \n",
       "3          4           2            3         2  2016-02-01            2   \n",
       "4          3           1            3         1  2017-01-01            1   \n",
       "5          7           1            1         1  2017-02-02            1   \n",
       "6          6           4            1         2  2017-03-01            4   \n",
       "7          8           4            1         1  2017-02-02            4   \n",
       "\n",
       "          description  price  \n",
       "0          doo-hickey      7  \n",
       "1          doo-hickey      7  \n",
       "2  whatcha-ma-call-it     10  \n",
       "3  whatcha-ma-call-it     10  \n",
       "4      thing-a-ma-jig      5  \n",
       "5      thing-a-ma-jig      5  \n",
       "6               gizmo      3  \n",
       "7               gizmo      3  "
      ],
      "text/html": "<div>\n<style scoped>\n    .dataframe tbody tr th:only-of-type {\n        vertical-align: middle;\n    }\n\n    .dataframe tbody tr th {\n        vertical-align: top;\n    }\n\n    .dataframe thead th {\n        text-align: right;\n    }\n</style>\n<table border=\"1\" class=\"dataframe\">\n  <thead>\n    <tr style=\"text-align: right;\">\n      <th></th>\n      <th>id_orders</th>\n      <th>product_id</th>\n      <th>customer_id</th>\n      <th>quantity</th>\n      <th>timestamp</th>\n      <th>id_products</th>\n      <th>description</th>\n      <th>price</th>\n    </tr>\n  </thead>\n  <tbody>\n    <tr>\n      <th>0</th>\n      <td>1</td>\n      <td>3</td>\n      <td>2</td>\n      <td>1</td>\n      <td>2017-01-01</td>\n      <td>3</td>\n      <td>doo-hickey</td>\n      <td>7</td>\n    </tr>\n    <tr>\n      <th>1</th>\n      <td>5</td>\n      <td>3</td>\n      <td>3</td>\n      <td>3</td>\n      <td>2017-02-01</td>\n      <td>3</td>\n      <td>doo-hickey</td>\n      <td>7</td>\n    </tr>\n    <tr>\n      <th>2</th>\n      <td>2</td>\n      <td>2</td>\n      <td>2</td>\n      <td>3</td>\n      <td>2017-01-01</td>\n      <td>2</td>\n      <td>whatcha-ma-call-it</td>\n      <td>10</td>\n    </tr>\n    <tr>\n      <th>3</th>\n      <td>4</td>\n      <td>2</td>\n      <td>3</td>\n      <td>2</td>\n      <td>2016-02-01</td>\n      <td>2</td>\n      <td>whatcha-ma-call-it</td>\n      <td>10</td>\n    </tr>\n    <tr>\n      <th>4</th>\n      <td>3</td>\n      <td>1</td>\n      <td>3</td>\n      <td>1</td>\n      <td>2017-01-01</td>\n      <td>1</td>\n      <td>thing-a-ma-jig</td>\n      <td>5</td>\n    </tr>\n    <tr>\n      <th>5</th>\n      <td>7</td>\n      <td>1</td>\n      <td>1</td>\n      <td>1</td>\n      <td>2017-02-02</td>\n      <td>1</td>\n      <td>thing-a-ma-jig</td>\n      <td>5</td>\n    </tr>\n    <tr>\n      <th>6</th>\n      <td>6</td>\n      <td>4</td>\n      <td>1</td>\n      <td>2</td>\n      <td>2017-03-01</td>\n      <td>4</td>\n      <td>gizmo</td>\n      <td>3</td>\n    </tr>\n    <tr>\n      <th>7</th>\n      <td>8</td>\n      <td>4</td>\n      <td>1</td>\n      <td>1</td>\n      <td>2017-02-02</td>\n      <td>4</td>\n      <td>gizmo</td>\n      <td>3</td>\n    </tr>\n  </tbody>\n</table>\n</div>"
     },
     "metadata": {},
     "execution_count": 24
    }
   ],
   "source": [
    "orders_products"
   ]
  },
  {
   "source": [
    "***"
   ],
   "cell_type": "markdown",
   "metadata": {}
  },
  {
   "source": [
    "## Mismatched Merges\n",
    "\n",
    "In our previous examples, there were always matching values when we were performing our merges. What happens when that is not true?<br>\n",
    "<br>\n",
    "Let us imagine that our `products` table is out of date and is missing the newest product: Product 5. What happens when someone orders it?"
   ],
   "cell_type": "markdown",
   "metadata": {}
  },
  {
   "source": [
    "***"
   ],
   "cell_type": "markdown",
   "metadata": {}
  },
  {
   "source": [
    "### Exercise\n",
    "\n",
    "1. We have just released a new product with `product_id` equal to `5`. People are ordering this product, but we have not updated the products table.<br>\n",
    "<br>\n",
    "In the cell below, you will find two DataFrames: `products` and `orders`. Inspect these DataFrames.<br>\n",
    "<br>\n",
    "Notice that the third order in orders is for the mysterious new product, but that there is no `product_id` 5 in `products`.<br>"
   ],
   "cell_type": "markdown",
   "metadata": {}
  },
  {
   "cell_type": "code",
   "execution_count": 25,
   "metadata": {},
   "outputs": [],
   "source": [
    "orders = pd.read_csv('orders3.csv')\n",
    "products = pd.read_csv('products2.csv')"
   ]
  },
  {
   "cell_type": "code",
   "execution_count": 26,
   "metadata": {},
   "outputs": [
    {
     "output_type": "execute_result",
     "data": {
      "text/plain": [
       "   id  product_id  customer_id  quantity   timestamp\n",
       "0   1           3            2         1  2017-01-01\n",
       "1   2           2            2         3  2017-01-01\n",
       "2   3           5            1         1  2017-01-01\n",
       "3   4           2            3         2  2016-02-01\n",
       "4   5           3            3         3  2017-02-01"
      ],
      "text/html": "<div>\n<style scoped>\n    .dataframe tbody tr th:only-of-type {\n        vertical-align: middle;\n    }\n\n    .dataframe tbody tr th {\n        vertical-align: top;\n    }\n\n    .dataframe thead th {\n        text-align: right;\n    }\n</style>\n<table border=\"1\" class=\"dataframe\">\n  <thead>\n    <tr style=\"text-align: right;\">\n      <th></th>\n      <th>id</th>\n      <th>product_id</th>\n      <th>customer_id</th>\n      <th>quantity</th>\n      <th>timestamp</th>\n    </tr>\n  </thead>\n  <tbody>\n    <tr>\n      <th>0</th>\n      <td>1</td>\n      <td>3</td>\n      <td>2</td>\n      <td>1</td>\n      <td>2017-01-01</td>\n    </tr>\n    <tr>\n      <th>1</th>\n      <td>2</td>\n      <td>2</td>\n      <td>2</td>\n      <td>3</td>\n      <td>2017-01-01</td>\n    </tr>\n    <tr>\n      <th>2</th>\n      <td>3</td>\n      <td>5</td>\n      <td>1</td>\n      <td>1</td>\n      <td>2017-01-01</td>\n    </tr>\n    <tr>\n      <th>3</th>\n      <td>4</td>\n      <td>2</td>\n      <td>3</td>\n      <td>2</td>\n      <td>2016-02-01</td>\n    </tr>\n    <tr>\n      <th>4</th>\n      <td>5</td>\n      <td>3</td>\n      <td>3</td>\n      <td>3</td>\n      <td>2017-02-01</td>\n    </tr>\n  </tbody>\n</table>\n</div>"
     },
     "metadata": {},
     "execution_count": 26
    }
   ],
   "source": [
    "orders"
   ]
  },
  {
   "cell_type": "code",
   "execution_count": 27,
   "metadata": {},
   "outputs": [
    {
     "output_type": "execute_result",
     "data": {
      "text/plain": [
       "   id         description  price\n",
       "0   1      thing-a-ma-jig      5\n",
       "1   2  whatcha-ma-call-it     10\n",
       "2   3          doo-hickey      7\n",
       "3   4               gizmo      3"
      ],
      "text/html": "<div>\n<style scoped>\n    .dataframe tbody tr th:only-of-type {\n        vertical-align: middle;\n    }\n\n    .dataframe tbody tr th {\n        vertical-align: top;\n    }\n\n    .dataframe thead th {\n        text-align: right;\n    }\n</style>\n<table border=\"1\" class=\"dataframe\">\n  <thead>\n    <tr style=\"text-align: right;\">\n      <th></th>\n      <th>id</th>\n      <th>description</th>\n      <th>price</th>\n    </tr>\n  </thead>\n  <tbody>\n    <tr>\n      <th>0</th>\n      <td>1</td>\n      <td>thing-a-ma-jig</td>\n      <td>5</td>\n    </tr>\n    <tr>\n      <th>1</th>\n      <td>2</td>\n      <td>whatcha-ma-call-it</td>\n      <td>10</td>\n    </tr>\n    <tr>\n      <th>2</th>\n      <td>3</td>\n      <td>doo-hickey</td>\n      <td>7</td>\n    </tr>\n    <tr>\n      <th>3</th>\n      <td>4</td>\n      <td>gizmo</td>\n      <td>3</td>\n    </tr>\n  </tbody>\n</table>\n</div>"
     },
     "metadata": {},
     "execution_count": 27
    }
   ],
   "source": [
    "products"
   ]
  },
  {
   "source": [
    "2. Merge `orders` and `products` and save it to the variable `merged_df`.<br>\n",
    "<br>\n",
    "Inspect `merged_df` using. What happened to `order_id` 3?"
   ],
   "cell_type": "markdown",
   "metadata": {}
  },
  {
   "cell_type": "code",
   "execution_count": 28,
   "metadata": {},
   "outputs": [
    {
     "output_type": "execute_result",
     "data": {
      "text/plain": [
       "   id_orders  product_id  customer_id  quantity   timestamp  id_products  \\\n",
       "0          1           3            2         1  2017-01-01            3   \n",
       "1          5           3            3         3  2017-02-01            3   \n",
       "2          2           2            2         3  2017-01-01            2   \n",
       "3          4           2            3         2  2016-02-01            2   \n",
       "\n",
       "          description  price  \n",
       "0          doo-hickey      7  \n",
       "1          doo-hickey      7  \n",
       "2  whatcha-ma-call-it     10  \n",
       "3  whatcha-ma-call-it     10  "
      ],
      "text/html": "<div>\n<style scoped>\n    .dataframe tbody tr th:only-of-type {\n        vertical-align: middle;\n    }\n\n    .dataframe tbody tr th {\n        vertical-align: top;\n    }\n\n    .dataframe thead th {\n        text-align: right;\n    }\n</style>\n<table border=\"1\" class=\"dataframe\">\n  <thead>\n    <tr style=\"text-align: right;\">\n      <th></th>\n      <th>id_orders</th>\n      <th>product_id</th>\n      <th>customer_id</th>\n      <th>quantity</th>\n      <th>timestamp</th>\n      <th>id_products</th>\n      <th>description</th>\n      <th>price</th>\n    </tr>\n  </thead>\n  <tbody>\n    <tr>\n      <th>0</th>\n      <td>1</td>\n      <td>3</td>\n      <td>2</td>\n      <td>1</td>\n      <td>2017-01-01</td>\n      <td>3</td>\n      <td>doo-hickey</td>\n      <td>7</td>\n    </tr>\n    <tr>\n      <th>1</th>\n      <td>5</td>\n      <td>3</td>\n      <td>3</td>\n      <td>3</td>\n      <td>2017-02-01</td>\n      <td>3</td>\n      <td>doo-hickey</td>\n      <td>7</td>\n    </tr>\n    <tr>\n      <th>2</th>\n      <td>2</td>\n      <td>2</td>\n      <td>2</td>\n      <td>3</td>\n      <td>2017-01-01</td>\n      <td>2</td>\n      <td>whatcha-ma-call-it</td>\n      <td>10</td>\n    </tr>\n    <tr>\n      <th>3</th>\n      <td>4</td>\n      <td>2</td>\n      <td>3</td>\n      <td>2</td>\n      <td>2016-02-01</td>\n      <td>2</td>\n      <td>whatcha-ma-call-it</td>\n      <td>10</td>\n    </tr>\n  </tbody>\n</table>\n</div>"
     },
     "metadata": {},
     "execution_count": 28
    }
   ],
   "source": [
    "merged_df = pd.merge(\n",
    "    orders,\n",
    "    products,\n",
    "    left_on='product_id',\n",
    "    right_on='id',\n",
    "    suffixes=['_orders', '_products']\n",
    ")\n",
    "\n",
    "merged_df"
   ]
  },
  {
   "source": [
    "***"
   ],
   "cell_type": "markdown",
   "metadata": {}
  },
  {
   "source": [
    "# Outer Merge\n",
    "\n",
    "In the previous exercise, we saw that when we merge two DataFrames whose rows do not match perfectly, we lose the unmatched rows.<br>\n",
    "<br>\n",
    "This type of merge (where we only include matching rows) is called an <i>inner merge</i>. There are other types of merges that we can use when we want to keep information from the unmatched rows.<br>\n",
    "<br>\n",
    "Suppose that two companies, Company A and Company B have just merged. They each have a list of customers, but they keep slightly different data. Company A has each customer’s name and email. Company B has each customer’s name and phone number. They have some customers in common, but some are different.<br>\n",
    "\n",
    "***\n",
    "\n",
    "`company_a`\n",
    "\n",
    "|name|email|\n",
    "|:---|:----|\n",
    "|Sally Sparrow|sally.sparrow@gmail.com|\n",
    "|Peter Grant|pgrant@yahoo.com|\n",
    "|Leslie May|leslie_may@gmail.com|\n",
    "\n",
    "`company_b`\n",
    "\n",
    "|name|phone|\n",
    "|:---|:----|\n",
    "|Peter Grant|212-345-6789|\n",
    "|Leslie May|626-987-6543|\n",
    "|Aaron Burr|303-456-7891|\n",
    "\n",
    "***\n",
    "\n",
    "If we wanted to combine the data from both companies without losing the customers who are missing from one of the tables, we could use an <i>Outer Join</i>. An <i>Outer Join</i> would include all rows from both tables, even if they do not match. Any missing values are filled in with `None` or `nan` (which stands for \"Not a Number\").<br>\n",
    "<br>\n",
    "`pd.merge(company_a, company_b, how='outer')`<br>\n",
    "<br>\n",
    "The resulting table would look like this:\n",
    "\n",
    "|name|email|phone|\n",
    "|:---|:----|:----|\n",
    "|Sally Sparrow|sally.sparrow@gmail.com|`nan`|\n",
    "|Peter Grant|pgrant@yahoo.com|212-345-6789|\n",
    "|Leslie May|leslie_may@gmail.com|626-987-6543|\n",
    "|Aaron Burr|`nan`|303-456-7891|"
   ],
   "cell_type": "markdown",
   "metadata": {}
  },
  {
   "source": [
    "***"
   ],
   "cell_type": "markdown",
   "metadata": {}
  },
  {
   "source": [
    "### Exercise\n",
    "\n",
    "1. There are two hardware stores in town: Store A and Store B. Store A's inventory is in DataFrame `store_a` and Store B's inventory is in DataFrame `store_b`. They have decided to merge into one big Super Store!<br>\n",
    "<br>\n",
    "Combine the inventories of Store A and Store B using an outer merge. Save the results to the variable `store_a_b_outer`."
   ],
   "cell_type": "markdown",
   "metadata": {}
  },
  {
   "cell_type": "code",
   "execution_count": 29,
   "metadata": {},
   "outputs": [
    {
     "output_type": "execute_result",
     "data": {
      "text/plain": [
       "          item  store_a_inventory\n",
       "0       hammer                 12\n",
       "1  screwdriver                 15\n",
       "2        nails                200\n",
       "3       screws                350\n",
       "4          saw                  6\n",
       "5    duct tape                150\n",
       "6       wrench                 12\n",
       "7     pvc pipe                 54"
      ],
      "text/html": "<div>\n<style scoped>\n    .dataframe tbody tr th:only-of-type {\n        vertical-align: middle;\n    }\n\n    .dataframe tbody tr th {\n        vertical-align: top;\n    }\n\n    .dataframe thead th {\n        text-align: right;\n    }\n</style>\n<table border=\"1\" class=\"dataframe\">\n  <thead>\n    <tr style=\"text-align: right;\">\n      <th></th>\n      <th>item</th>\n      <th>store_a_inventory</th>\n    </tr>\n  </thead>\n  <tbody>\n    <tr>\n      <th>0</th>\n      <td>hammer</td>\n      <td>12</td>\n    </tr>\n    <tr>\n      <th>1</th>\n      <td>screwdriver</td>\n      <td>15</td>\n    </tr>\n    <tr>\n      <th>2</th>\n      <td>nails</td>\n      <td>200</td>\n    </tr>\n    <tr>\n      <th>3</th>\n      <td>screws</td>\n      <td>350</td>\n    </tr>\n    <tr>\n      <th>4</th>\n      <td>saw</td>\n      <td>6</td>\n    </tr>\n    <tr>\n      <th>5</th>\n      <td>duct tape</td>\n      <td>150</td>\n    </tr>\n    <tr>\n      <th>6</th>\n      <td>wrench</td>\n      <td>12</td>\n    </tr>\n    <tr>\n      <th>7</th>\n      <td>pvc pipe</td>\n      <td>54</td>\n    </tr>\n  </tbody>\n</table>\n</div>"
     },
     "metadata": {},
     "execution_count": 29
    }
   ],
   "source": [
    "store_a = pd.read_csv('store_a.csv')\n",
    "store_a"
   ]
  },
  {
   "cell_type": "code",
   "execution_count": 30,
   "metadata": {},
   "outputs": [
    {
     "output_type": "execute_result",
     "data": {
      "text/plain": [
       "            item  store_b_inventory\n",
       "0         hammer                  6\n",
       "1          nails                250\n",
       "2            saw                  6\n",
       "3      duct tape                150\n",
       "4       pvc pipe                 54\n",
       "5           rake                 10\n",
       "6         shovel                 15\n",
       "7  wooden dowels                192"
      ],
      "text/html": "<div>\n<style scoped>\n    .dataframe tbody tr th:only-of-type {\n        vertical-align: middle;\n    }\n\n    .dataframe tbody tr th {\n        vertical-align: top;\n    }\n\n    .dataframe thead th {\n        text-align: right;\n    }\n</style>\n<table border=\"1\" class=\"dataframe\">\n  <thead>\n    <tr style=\"text-align: right;\">\n      <th></th>\n      <th>item</th>\n      <th>store_b_inventory</th>\n    </tr>\n  </thead>\n  <tbody>\n    <tr>\n      <th>0</th>\n      <td>hammer</td>\n      <td>6</td>\n    </tr>\n    <tr>\n      <th>1</th>\n      <td>nails</td>\n      <td>250</td>\n    </tr>\n    <tr>\n      <th>2</th>\n      <td>saw</td>\n      <td>6</td>\n    </tr>\n    <tr>\n      <th>3</th>\n      <td>duct tape</td>\n      <td>150</td>\n    </tr>\n    <tr>\n      <th>4</th>\n      <td>pvc pipe</td>\n      <td>54</td>\n    </tr>\n    <tr>\n      <th>5</th>\n      <td>rake</td>\n      <td>10</td>\n    </tr>\n    <tr>\n      <th>6</th>\n      <td>shovel</td>\n      <td>15</td>\n    </tr>\n    <tr>\n      <th>7</th>\n      <td>wooden dowels</td>\n      <td>192</td>\n    </tr>\n  </tbody>\n</table>\n</div>"
     },
     "metadata": {},
     "execution_count": 30
    }
   ],
   "source": [
    "store_b = pd.read_csv('store_b.csv')\n",
    "store_b"
   ]
  },
  {
   "cell_type": "code",
   "execution_count": 31,
   "metadata": {},
   "outputs": [],
   "source": [
    "store_a_b_outer = pd.merge(store_a, store_b, how='outer')"
   ]
  },
  {
   "source": [
    "2. Display `store_a_b_outer`.<br>\n",
    "<br>\n",
    "Which values are `nan` or `None`?<br>\n",
    "<br>\n",
    "What does that mean?"
   ],
   "cell_type": "markdown",
   "metadata": {}
  },
  {
   "cell_type": "code",
   "execution_count": 32,
   "metadata": {},
   "outputs": [
    {
     "output_type": "execute_result",
     "data": {
      "text/plain": [
       "             item  store_a_inventory  store_b_inventory\n",
       "0          hammer               12.0                6.0\n",
       "1     screwdriver               15.0                NaN\n",
       "2           nails              200.0              250.0\n",
       "3          screws              350.0                NaN\n",
       "4             saw                6.0                6.0\n",
       "5       duct tape              150.0              150.0\n",
       "6          wrench               12.0                NaN\n",
       "7        pvc pipe               54.0               54.0\n",
       "8            rake                NaN               10.0\n",
       "9          shovel                NaN               15.0\n",
       "10  wooden dowels                NaN              192.0"
      ],
      "text/html": "<div>\n<style scoped>\n    .dataframe tbody tr th:only-of-type {\n        vertical-align: middle;\n    }\n\n    .dataframe tbody tr th {\n        vertical-align: top;\n    }\n\n    .dataframe thead th {\n        text-align: right;\n    }\n</style>\n<table border=\"1\" class=\"dataframe\">\n  <thead>\n    <tr style=\"text-align: right;\">\n      <th></th>\n      <th>item</th>\n      <th>store_a_inventory</th>\n      <th>store_b_inventory</th>\n    </tr>\n  </thead>\n  <tbody>\n    <tr>\n      <th>0</th>\n      <td>hammer</td>\n      <td>12.0</td>\n      <td>6.0</td>\n    </tr>\n    <tr>\n      <th>1</th>\n      <td>screwdriver</td>\n      <td>15.0</td>\n      <td>NaN</td>\n    </tr>\n    <tr>\n      <th>2</th>\n      <td>nails</td>\n      <td>200.0</td>\n      <td>250.0</td>\n    </tr>\n    <tr>\n      <th>3</th>\n      <td>screws</td>\n      <td>350.0</td>\n      <td>NaN</td>\n    </tr>\n    <tr>\n      <th>4</th>\n      <td>saw</td>\n      <td>6.0</td>\n      <td>6.0</td>\n    </tr>\n    <tr>\n      <th>5</th>\n      <td>duct tape</td>\n      <td>150.0</td>\n      <td>150.0</td>\n    </tr>\n    <tr>\n      <th>6</th>\n      <td>wrench</td>\n      <td>12.0</td>\n      <td>NaN</td>\n    </tr>\n    <tr>\n      <th>7</th>\n      <td>pvc pipe</td>\n      <td>54.0</td>\n      <td>54.0</td>\n    </tr>\n    <tr>\n      <th>8</th>\n      <td>rake</td>\n      <td>NaN</td>\n      <td>10.0</td>\n    </tr>\n    <tr>\n      <th>9</th>\n      <td>shovel</td>\n      <td>NaN</td>\n      <td>15.0</td>\n    </tr>\n    <tr>\n      <th>10</th>\n      <td>wooden dowels</td>\n      <td>NaN</td>\n      <td>192.0</td>\n    </tr>\n  </tbody>\n</table>\n</div>"
     },
     "metadata": {},
     "execution_count": 32
    }
   ],
   "source": [
    "store_a_b_outer"
   ]
  },
  {
   "source": [
    "<b>A</b>: The items displayed as `nan` mean that the item is not available in the respectives store inventory.<br>\n",
    "The following items are missing in `store_a`\n",
    "\n",
    "* rake\n",
    "* shovel\n",
    "* wooden dowels\n",
    "\n",
    "The following items are missing in `store_b`\n",
    "* screwdriver\n",
    "* screws\n",
    "* wrench"
   ],
   "cell_type": "markdown",
   "metadata": {}
  },
  {
   "source": [
    "***"
   ],
   "cell_type": "markdown",
   "metadata": {}
  },
  {
   "source": [
    "## Left and Right Merge\n",
    "\n",
    "Let us return to the merge of Company A and Company B.\n",
    "\n",
    "### Left Merge\n",
    "\n",
    "Suppose we want to identify which customers are missing phone information. We would want a list of all customers who have `email`, but do not have `phone`.<br>\n",
    "<br>\n",
    "We could get this by performing a <i>Left Merge</i>. A <i>Left Merge</i> includes all rows from the first (left) table, but only rows from the second (right) table that match the first table.<br>\n",
    "<br>\n",
    "For this command, the order of the arguments matters. If the first DataFrame is `company_a` and we do a left join, we will only end up with rows that appear in `company_a`.<br>\n",
    "<br>\n",
    "By listing `company_a` first, we get all customers from Company A, and only customers from Company B who are <i>also</i> customers of Company A.<br>\n",
    "<br>\n",
    "`pd.merge(company_a, company_b, how='left')`<br>\n",
    "<br>\n",
    "The result would look like this:\n",
    "\n",
    "|name|email|phone|\n",
    "|:---|:----|:----|\n",
    "|Sally Sparrow|sally.sparrow@gmail.com|`None`|\n",
    "|Peter Grant|pgrant@yahoo.com|212-345-6789|\n",
    "|Leslie May|leslie_may@gmail.com|626-987-6543|\n",
    "\n",
    "Now Let us say we want a list of all customers who have `phone` but no `email`. We can do this by performing a <i>Right Merge</i>.\n",
    "\n",
    "###  Right Merge\n",
    "\n",
    "Right merge is the exact opposite of left merge. Here, the merged table will include all rows from the second (right) table, but only rows from the first (left) table that match the second table.<br>\n",
    "<br>\n",
    "By listing `company_a` first and `company_b` second, we get all customers from Company B, and only customers from Company A who are also customers of Company B.<br>\n",
    "<br>\n",
    "`pd.merge(company_a, company_b, how=\"right\")`<br>\n",
    "<br>\n",
    "The result would look like this:\n",
    "\n",
    "|name|email|phone|\n",
    "|:---|:----|:----|\n",
    "|Peter Grant|pgrant@yahoo.com|212-345-6789|\n",
    "|Leslie May|leslie_may@gmail.com|626-987-6543|\n",
    "|Aaron Burr|None|303-456-7891|"
   ],
   "cell_type": "markdown",
   "metadata": {}
  },
  {
   "source": [
    "***"
   ],
   "cell_type": "markdown",
   "metadata": {}
  },
  {
   "source": [
    "### Exercise\n",
    "\n",
    "1. Let us return to the two hardware stores, Store A and Store B. They are not quite sure if they want to merge into a big Super Store just yet.<br>\n",
    "<br>\n",
    "Store A wants to find out what products they carry that Store B does not carry. Using a left merge, combine `store_a` to `store_b` and save the results to `store_a_b_left`.<br>\n",
    "<br>\n",
    "The items with null in `store_b_inventory` are carried by Store A, but not Store B."
   ],
   "cell_type": "markdown",
   "metadata": {}
  },
  {
   "cell_type": "code",
   "execution_count": 33,
   "metadata": {},
   "outputs": [
    {
     "output_type": "execute_result",
     "data": {
      "text/plain": [
       "          item  store_a_inventory  store_b_inventory\n",
       "0       hammer                 12                6.0\n",
       "1  screwdriver                 15                NaN\n",
       "2        nails                200              250.0\n",
       "3       screws                350                NaN\n",
       "4          saw                  6                6.0\n",
       "5    duct tape                150              150.0\n",
       "6       wrench                 12                NaN\n",
       "7     pvc pipe                 54               54.0"
      ],
      "text/html": "<div>\n<style scoped>\n    .dataframe tbody tr th:only-of-type {\n        vertical-align: middle;\n    }\n\n    .dataframe tbody tr th {\n        vertical-align: top;\n    }\n\n    .dataframe thead th {\n        text-align: right;\n    }\n</style>\n<table border=\"1\" class=\"dataframe\">\n  <thead>\n    <tr style=\"text-align: right;\">\n      <th></th>\n      <th>item</th>\n      <th>store_a_inventory</th>\n      <th>store_b_inventory</th>\n    </tr>\n  </thead>\n  <tbody>\n    <tr>\n      <th>0</th>\n      <td>hammer</td>\n      <td>12</td>\n      <td>6.0</td>\n    </tr>\n    <tr>\n      <th>1</th>\n      <td>screwdriver</td>\n      <td>15</td>\n      <td>NaN</td>\n    </tr>\n    <tr>\n      <th>2</th>\n      <td>nails</td>\n      <td>200</td>\n      <td>250.0</td>\n    </tr>\n    <tr>\n      <th>3</th>\n      <td>screws</td>\n      <td>350</td>\n      <td>NaN</td>\n    </tr>\n    <tr>\n      <th>4</th>\n      <td>saw</td>\n      <td>6</td>\n      <td>6.0</td>\n    </tr>\n    <tr>\n      <th>5</th>\n      <td>duct tape</td>\n      <td>150</td>\n      <td>150.0</td>\n    </tr>\n    <tr>\n      <th>6</th>\n      <td>wrench</td>\n      <td>12</td>\n      <td>NaN</td>\n    </tr>\n    <tr>\n      <th>7</th>\n      <td>pvc pipe</td>\n      <td>54</td>\n      <td>54.0</td>\n    </tr>\n  </tbody>\n</table>\n</div>"
     },
     "metadata": {},
     "execution_count": 33
    }
   ],
   "source": [
    "store_a_b_left = pd.merge(store_a, store_b, how='left')\n",
    "\n",
    "store_a_b_left"
   ]
  },
  {
   "source": [
    "2. Now, Store B wants to find out what products they carry that Store A does not carry. Use a left join, to combine the two DataFrames but in the reverse order (i.e., `store_b` followed by `store_a`) and save the results to the variable `store_b_a_left`.<br>\n",
    "<br>\n",
    "Which items are not carried by Store A, but are carried by Store B?"
   ],
   "cell_type": "markdown",
   "metadata": {}
  },
  {
   "cell_type": "code",
   "execution_count": 34,
   "metadata": {},
   "outputs": [
    {
     "output_type": "execute_result",
     "data": {
      "text/plain": [
       "            item  store_b_inventory  store_a_inventory\n",
       "0         hammer                  6               12.0\n",
       "1          nails                250              200.0\n",
       "2            saw                  6                6.0\n",
       "3      duct tape                150              150.0\n",
       "4       pvc pipe                 54               54.0\n",
       "5           rake                 10                NaN\n",
       "6         shovel                 15                NaN\n",
       "7  wooden dowels                192                NaN"
      ],
      "text/html": "<div>\n<style scoped>\n    .dataframe tbody tr th:only-of-type {\n        vertical-align: middle;\n    }\n\n    .dataframe tbody tr th {\n        vertical-align: top;\n    }\n\n    .dataframe thead th {\n        text-align: right;\n    }\n</style>\n<table border=\"1\" class=\"dataframe\">\n  <thead>\n    <tr style=\"text-align: right;\">\n      <th></th>\n      <th>item</th>\n      <th>store_b_inventory</th>\n      <th>store_a_inventory</th>\n    </tr>\n  </thead>\n  <tbody>\n    <tr>\n      <th>0</th>\n      <td>hammer</td>\n      <td>6</td>\n      <td>12.0</td>\n    </tr>\n    <tr>\n      <th>1</th>\n      <td>nails</td>\n      <td>250</td>\n      <td>200.0</td>\n    </tr>\n    <tr>\n      <th>2</th>\n      <td>saw</td>\n      <td>6</td>\n      <td>6.0</td>\n    </tr>\n    <tr>\n      <th>3</th>\n      <td>duct tape</td>\n      <td>150</td>\n      <td>150.0</td>\n    </tr>\n    <tr>\n      <th>4</th>\n      <td>pvc pipe</td>\n      <td>54</td>\n      <td>54.0</td>\n    </tr>\n    <tr>\n      <th>5</th>\n      <td>rake</td>\n      <td>10</td>\n      <td>NaN</td>\n    </tr>\n    <tr>\n      <th>6</th>\n      <td>shovel</td>\n      <td>15</td>\n      <td>NaN</td>\n    </tr>\n    <tr>\n      <th>7</th>\n      <td>wooden dowels</td>\n      <td>192</td>\n      <td>NaN</td>\n    </tr>\n  </tbody>\n</table>\n</div>"
     },
     "metadata": {},
     "execution_count": 34
    }
   ],
   "source": [
    "store_b_a_left = pd.merge(store_b, store_a, how='left')\n",
    "\n",
    "store_b_a_left"
   ]
  },
  {
   "source": [
    "***"
   ],
   "cell_type": "markdown",
   "metadata": {}
  },
  {
   "source": [
    "## Concatenate DataFrames\n",
    "\n",
    "Sometimes, a dataset is broken into multiple tables. For instance, data is often split into multiple CSV files so that each download is smaller.<br>\n",
    "<br>\n",
    "When we need to reconstruct a single DataFrame from multiple smaller DataFrames, we can use the method <b>`pd.concat([df1, df2, df2, ...])`</b>. This method only works if all of the columns are the same in all of the DataFrames.<br>\n",
    "<br>\n",
    "For instance, suppose that we have two DataFrames:<br>\n",
    "<br>\n",
    "<b>`df1`</b>\n",
    "\n",
    "|name|email|\n",
    "|:---|:----|\n",
    "|Katja Obinger|k.obinger@gmail.com|\n",
    "|Alison Hendrix|alisonH@yahoo.com|\n",
    "|Cosima Niehaus|cosi.niehaus@gmail.com|\n",
    "|Rachel Duncan|rachelduncan@hotmail.com|\n",
    "\n",
    "<b>`df2`</b>\n",
    "\n",
    "|name|email|\n",
    "|:---|:----|\n",
    "|Jean Gray|jgray@netscape.net|\n",
    "|Scott Summers|ssummers@gmail.com|\n",
    "|Kitty Pryde|kitkat@gmail.com|\n",
    "|Charles Xavier|cxavier@hotmail.com|\n",
    "\n",
    "If we want to combine these two DataFrames, we can use the following command:<br>\n",
    "<br>\n",
    "`pd.concat([df1, df2])`<br>\n",
    "<br>\n",
    "That would result in the following DataFrame:\n",
    "\n",
    "|name|email|\n",
    "|:---|:----|\n",
    "|Katja Obinger|k.obinger@gmail.com|\n",
    "|Alison Hendrix|alisonH@yahoo.com|\n",
    "|Cosima Niehaus|cosi.niehaus@gmail.com|\n",
    "|Rachel Duncan|rachelduncan@hotmail.com|\n",
    "|Jean Gray|jgray@netscape.net|\n",
    "|Scott Summers|ssummers@gmail.com|\n",
    "|Kitty Pryde|kitkat@gmail.com|\n",
    "|Charles Xavier|cxavier@hotmail.com|"
   ],
   "cell_type": "markdown",
   "metadata": {}
  },
  {
   "source": [
    "***"
   ],
   "cell_type": "markdown",
   "metadata": {}
  },
  {
   "source": [
    "1. An ice cream parlor and a bakery have decided to merge.<br>\n",
    "<br>\n",
    "The bakery's menu is stored in the DataFrame `bakery`, and the ice cream parlor's menu is stored in DataFrame `ice_cream`.<br>\n",
    "<br>\n",
    "Create their new menu by concatenating the two DataFrames into a DataFrame called `menu`."
   ],
   "cell_type": "markdown",
   "metadata": {}
  },
  {
   "cell_type": "code",
   "execution_count": 35,
   "metadata": {},
   "outputs": [
    {
     "output_type": "execute_result",
     "data": {
      "text/plain": [
       "                  item  price\n",
       "0               cookie   2.50\n",
       "1              brownie   3.50\n",
       "2        slice of cake   4.75\n",
       "3  slice of cheesecake   4.75\n",
       "4         slice of pie   5.00"
      ],
      "text/html": "<div>\n<style scoped>\n    .dataframe tbody tr th:only-of-type {\n        vertical-align: middle;\n    }\n\n    .dataframe tbody tr th {\n        vertical-align: top;\n    }\n\n    .dataframe thead th {\n        text-align: right;\n    }\n</style>\n<table border=\"1\" class=\"dataframe\">\n  <thead>\n    <tr style=\"text-align: right;\">\n      <th></th>\n      <th>item</th>\n      <th>price</th>\n    </tr>\n  </thead>\n  <tbody>\n    <tr>\n      <th>0</th>\n      <td>cookie</td>\n      <td>2.50</td>\n    </tr>\n    <tr>\n      <th>1</th>\n      <td>brownie</td>\n      <td>3.50</td>\n    </tr>\n    <tr>\n      <th>2</th>\n      <td>slice of cake</td>\n      <td>4.75</td>\n    </tr>\n    <tr>\n      <th>3</th>\n      <td>slice of cheesecake</td>\n      <td>4.75</td>\n    </tr>\n    <tr>\n      <th>4</th>\n      <td>slice of pie</td>\n      <td>5.00</td>\n    </tr>\n  </tbody>\n</table>\n</div>"
     },
     "metadata": {},
     "execution_count": 35
    }
   ],
   "source": [
    "bakery = pd.read_csv('bakery.csv')\n",
    "bakery"
   ]
  },
  {
   "cell_type": "code",
   "execution_count": 36,
   "metadata": {},
   "outputs": [
    {
     "output_type": "execute_result",
     "data": {
      "text/plain": [
       "                              item  price\n",
       "0     scoop of chocolate ice cream   3.00\n",
       "1       scoop of vanilla ice cream   2.95\n",
       "2    scoop of strawberry ice cream   3.05\n",
       "3  scoop of cookie dough ice cream   3.25"
      ],
      "text/html": "<div>\n<style scoped>\n    .dataframe tbody tr th:only-of-type {\n        vertical-align: middle;\n    }\n\n    .dataframe tbody tr th {\n        vertical-align: top;\n    }\n\n    .dataframe thead th {\n        text-align: right;\n    }\n</style>\n<table border=\"1\" class=\"dataframe\">\n  <thead>\n    <tr style=\"text-align: right;\">\n      <th></th>\n      <th>item</th>\n      <th>price</th>\n    </tr>\n  </thead>\n  <tbody>\n    <tr>\n      <th>0</th>\n      <td>scoop of chocolate ice cream</td>\n      <td>3.00</td>\n    </tr>\n    <tr>\n      <th>1</th>\n      <td>scoop of vanilla ice cream</td>\n      <td>2.95</td>\n    </tr>\n    <tr>\n      <th>2</th>\n      <td>scoop of strawberry ice cream</td>\n      <td>3.05</td>\n    </tr>\n    <tr>\n      <th>3</th>\n      <td>scoop of cookie dough ice cream</td>\n      <td>3.25</td>\n    </tr>\n  </tbody>\n</table>\n</div>"
     },
     "metadata": {},
     "execution_count": 36
    }
   ],
   "source": [
    "ice_cream = pd.read_csv('ice_cream.csv')\n",
    "ice_cream"
   ]
  },
  {
   "cell_type": "code",
   "execution_count": 37,
   "metadata": {},
   "outputs": [],
   "source": [
    "menu = pd.concat([bakery, ice_cream])"
   ]
  },
  {
   "source": [
    "2. Display `menu`."
   ],
   "cell_type": "markdown",
   "metadata": {}
  },
  {
   "cell_type": "code",
   "execution_count": 38,
   "metadata": {},
   "outputs": [
    {
     "output_type": "execute_result",
     "data": {
      "text/plain": [
       "                              item  price\n",
       "0                           cookie   2.50\n",
       "1                          brownie   3.50\n",
       "2                    slice of cake   4.75\n",
       "3              slice of cheesecake   4.75\n",
       "4                     slice of pie   5.00\n",
       "0     scoop of chocolate ice cream   3.00\n",
       "1       scoop of vanilla ice cream   2.95\n",
       "2    scoop of strawberry ice cream   3.05\n",
       "3  scoop of cookie dough ice cream   3.25"
      ],
      "text/html": "<div>\n<style scoped>\n    .dataframe tbody tr th:only-of-type {\n        vertical-align: middle;\n    }\n\n    .dataframe tbody tr th {\n        vertical-align: top;\n    }\n\n    .dataframe thead th {\n        text-align: right;\n    }\n</style>\n<table border=\"1\" class=\"dataframe\">\n  <thead>\n    <tr style=\"text-align: right;\">\n      <th></th>\n      <th>item</th>\n      <th>price</th>\n    </tr>\n  </thead>\n  <tbody>\n    <tr>\n      <th>0</th>\n      <td>cookie</td>\n      <td>2.50</td>\n    </tr>\n    <tr>\n      <th>1</th>\n      <td>brownie</td>\n      <td>3.50</td>\n    </tr>\n    <tr>\n      <th>2</th>\n      <td>slice of cake</td>\n      <td>4.75</td>\n    </tr>\n    <tr>\n      <th>3</th>\n      <td>slice of cheesecake</td>\n      <td>4.75</td>\n    </tr>\n    <tr>\n      <th>4</th>\n      <td>slice of pie</td>\n      <td>5.00</td>\n    </tr>\n    <tr>\n      <th>0</th>\n      <td>scoop of chocolate ice cream</td>\n      <td>3.00</td>\n    </tr>\n    <tr>\n      <th>1</th>\n      <td>scoop of vanilla ice cream</td>\n      <td>2.95</td>\n    </tr>\n    <tr>\n      <th>2</th>\n      <td>scoop of strawberry ice cream</td>\n      <td>3.05</td>\n    </tr>\n    <tr>\n      <th>3</th>\n      <td>scoop of cookie dough ice cream</td>\n      <td>3.25</td>\n    </tr>\n  </tbody>\n</table>\n</div>"
     },
     "metadata": {},
     "execution_count": 38
    }
   ],
   "source": [
    "menu"
   ]
  },
  {
   "source": [
    "***"
   ],
   "cell_type": "markdown",
   "metadata": {}
  },
  {
   "source": [
    "## Review\n",
    "\n",
    "This lesson introduced some methods for combining multiple DataFrames:\n",
    "\n",
    "* Creating a DataFrame made by matching the common columns of two DataFrames is called a `merge`\n",
    "* We can specify which columns should be matches by using the keyword arguments `left_on` and `right_on`\n",
    "* We can combine DataFrames whose rows don’t all match using `left`, `right`, and `outer` merges and the `how` keyword argument\n",
    "* We can stack or concatenate DataFrames with the same columns using `pd.concat`"
   ],
   "cell_type": "markdown",
   "metadata": {}
  },
  {
   "source": [
    "***"
   ],
   "cell_type": "markdown",
   "metadata": {}
  },
  {
   "source": [
    "### Exercise\n",
    "\n",
    "1. Cool T-Shirts Inc. just created a website for ordering their products. They want you to analyze two datasets for them:<br>\n",
    "* `visits` contains information on all visits to their landing page<br>\n",
    "* `checkouts` contains all users who began to checkout on their website<br>\n",
    "<br>\n",
    "Inspect each DataFrame."
   ],
   "cell_type": "markdown",
   "metadata": {}
  },
  {
   "cell_type": "code",
   "execution_count": 39,
   "metadata": {},
   "outputs": [
    {
     "output_type": "execute_result",
     "data": {
      "text/plain": [
       "                                 user_id          visit_time\n",
       "0   319350b4-9951-47ef-b3a7-6b252099905f 2017-02-21 07:16:00\n",
       "1   7435ec9f-576d-4ebd-8791-361b128fca77 2017-05-16 08:37:00\n",
       "2   0b061e73-f709-42fa-8d1a-5f68176ff154 2017-04-12 19:32:00\n",
       "3   9133d6f0-e68b-4c8d-bafd-ff2825e8dafe 2017-08-18 04:32:00\n",
       "4   08d13edb-071c-4cfb-9ee4-8f377d0e932a 2017-07-08 06:24:00\n",
       "..                                   ...                 ...\n",
       "95  442efd1c-8d7b-4d6a-83be-8f2a9e08b34f 2017-02-19 11:20:00\n",
       "96  5679519b-a901-4970-8656-dbf60ffb618d 2017-07-20 04:23:00\n",
       "97  26deb2d5-1d7e-4774-bf6e-1df2ee9ee59d 2017-09-06 07:29:00\n",
       "98  fff8f87a-e4a2-4f2c-b3d4-93a4ece95c4f 2017-06-06 23:42:00\n",
       "99  42617776-2850-431d-9262-a9c11e5ad17f 2017-02-10 10:49:00\n",
       "\n",
       "[100 rows x 2 columns]"
      ],
      "text/html": "<div>\n<style scoped>\n    .dataframe tbody tr th:only-of-type {\n        vertical-align: middle;\n    }\n\n    .dataframe tbody tr th {\n        vertical-align: top;\n    }\n\n    .dataframe thead th {\n        text-align: right;\n    }\n</style>\n<table border=\"1\" class=\"dataframe\">\n  <thead>\n    <tr style=\"text-align: right;\">\n      <th></th>\n      <th>user_id</th>\n      <th>visit_time</th>\n    </tr>\n  </thead>\n  <tbody>\n    <tr>\n      <th>0</th>\n      <td>319350b4-9951-47ef-b3a7-6b252099905f</td>\n      <td>2017-02-21 07:16:00</td>\n    </tr>\n    <tr>\n      <th>1</th>\n      <td>7435ec9f-576d-4ebd-8791-361b128fca77</td>\n      <td>2017-05-16 08:37:00</td>\n    </tr>\n    <tr>\n      <th>2</th>\n      <td>0b061e73-f709-42fa-8d1a-5f68176ff154</td>\n      <td>2017-04-12 19:32:00</td>\n    </tr>\n    <tr>\n      <th>3</th>\n      <td>9133d6f0-e68b-4c8d-bafd-ff2825e8dafe</td>\n      <td>2017-08-18 04:32:00</td>\n    </tr>\n    <tr>\n      <th>4</th>\n      <td>08d13edb-071c-4cfb-9ee4-8f377d0e932a</td>\n      <td>2017-07-08 06:24:00</td>\n    </tr>\n    <tr>\n      <th>...</th>\n      <td>...</td>\n      <td>...</td>\n    </tr>\n    <tr>\n      <th>95</th>\n      <td>442efd1c-8d7b-4d6a-83be-8f2a9e08b34f</td>\n      <td>2017-02-19 11:20:00</td>\n    </tr>\n    <tr>\n      <th>96</th>\n      <td>5679519b-a901-4970-8656-dbf60ffb618d</td>\n      <td>2017-07-20 04:23:00</td>\n    </tr>\n    <tr>\n      <th>97</th>\n      <td>26deb2d5-1d7e-4774-bf6e-1df2ee9ee59d</td>\n      <td>2017-09-06 07:29:00</td>\n    </tr>\n    <tr>\n      <th>98</th>\n      <td>fff8f87a-e4a2-4f2c-b3d4-93a4ece95c4f</td>\n      <td>2017-06-06 23:42:00</td>\n    </tr>\n    <tr>\n      <th>99</th>\n      <td>42617776-2850-431d-9262-a9c11e5ad17f</td>\n      <td>2017-02-10 10:49:00</td>\n    </tr>\n  </tbody>\n</table>\n<p>100 rows × 2 columns</p>\n</div>"
     },
     "metadata": {},
     "execution_count": 39
    }
   ],
   "source": [
    "visits = pd.read_csv('visits.csv',\n",
    "                        parse_dates=[1])\n",
    "\n",
    "visits"
   ]
  },
  {
   "cell_type": "code",
   "execution_count": 40,
   "metadata": {},
   "outputs": [
    {
     "output_type": "execute_result",
     "data": {
      "text/plain": [
       "                                 user_id       checkout_time\n",
       "0   fe90a9f4-960a-4a0d-9160-e562adb79365 2017-11-09 09:25:00\n",
       "1   1a35b7eb-f603-407d-91be-a2c3304066fd 2017-08-15 21:25:00\n",
       "2   e2c24ee0-7fdf-4400-abde-b36378fe5ce6 2017-07-04 15:39:00\n",
       "3   10dbd3c5-d610-44e9-9994-110a7950b6b4 2017-08-09 21:07:00\n",
       "4   f028e9dd-77d0-4002-83f6-372a4837fda6 2017-10-27 08:57:00\n",
       "..                                   ...                 ...\n",
       "75  7fe800cc-46e8-427c-a7af-f27198d305a1 2017-01-18 13:14:00\n",
       "76  43db76fc-d522-450d-a371-ef2a683d5bfd 2017-03-26 21:31:00\n",
       "77  851b52d1-31e9-468d-834f-5363fee108ac 2017-09-21 22:24:00\n",
       "78  7435ec9f-576d-4ebd-8791-361b128fca77 2017-05-16 08:55:00\n",
       "79  319350b4-9951-47ef-b3a7-6b252099905f 2017-02-21 07:40:00\n",
       "\n",
       "[80 rows x 2 columns]"
      ],
      "text/html": "<div>\n<style scoped>\n    .dataframe tbody tr th:only-of-type {\n        vertical-align: middle;\n    }\n\n    .dataframe tbody tr th {\n        vertical-align: top;\n    }\n\n    .dataframe thead th {\n        text-align: right;\n    }\n</style>\n<table border=\"1\" class=\"dataframe\">\n  <thead>\n    <tr style=\"text-align: right;\">\n      <th></th>\n      <th>user_id</th>\n      <th>checkout_time</th>\n    </tr>\n  </thead>\n  <tbody>\n    <tr>\n      <th>0</th>\n      <td>fe90a9f4-960a-4a0d-9160-e562adb79365</td>\n      <td>2017-11-09 09:25:00</td>\n    </tr>\n    <tr>\n      <th>1</th>\n      <td>1a35b7eb-f603-407d-91be-a2c3304066fd</td>\n      <td>2017-08-15 21:25:00</td>\n    </tr>\n    <tr>\n      <th>2</th>\n      <td>e2c24ee0-7fdf-4400-abde-b36378fe5ce6</td>\n      <td>2017-07-04 15:39:00</td>\n    </tr>\n    <tr>\n      <th>3</th>\n      <td>10dbd3c5-d610-44e9-9994-110a7950b6b4</td>\n      <td>2017-08-09 21:07:00</td>\n    </tr>\n    <tr>\n      <th>4</th>\n      <td>f028e9dd-77d0-4002-83f6-372a4837fda6</td>\n      <td>2017-10-27 08:57:00</td>\n    </tr>\n    <tr>\n      <th>...</th>\n      <td>...</td>\n      <td>...</td>\n    </tr>\n    <tr>\n      <th>75</th>\n      <td>7fe800cc-46e8-427c-a7af-f27198d305a1</td>\n      <td>2017-01-18 13:14:00</td>\n    </tr>\n    <tr>\n      <th>76</th>\n      <td>43db76fc-d522-450d-a371-ef2a683d5bfd</td>\n      <td>2017-03-26 21:31:00</td>\n    </tr>\n    <tr>\n      <th>77</th>\n      <td>851b52d1-31e9-468d-834f-5363fee108ac</td>\n      <td>2017-09-21 22:24:00</td>\n    </tr>\n    <tr>\n      <th>78</th>\n      <td>7435ec9f-576d-4ebd-8791-361b128fca77</td>\n      <td>2017-05-16 08:55:00</td>\n    </tr>\n    <tr>\n      <th>79</th>\n      <td>319350b4-9951-47ef-b3a7-6b252099905f</td>\n      <td>2017-02-21 07:40:00</td>\n    </tr>\n  </tbody>\n</table>\n<p>80 rows × 2 columns</p>\n</div>"
     },
     "metadata": {},
     "execution_count": 40
    }
   ],
   "source": [
    "checkouts = pd.read_csv('checkouts.csv',\n",
    "                        parse_dates=[1])\n",
    "\n",
    "checkouts"
   ]
  },
  {
   "source": [
    "2. We want to know the amount of time from a user's initial visit to the website to when they start to check out.<br>\n",
    "<br>\n",
    "Use `merge` to combine `visits` and `checkouts` and save it to the variable `v_to_c`."
   ],
   "cell_type": "markdown",
   "metadata": {}
  },
  {
   "cell_type": "code",
   "execution_count": 41,
   "metadata": {},
   "outputs": [
    {
     "output_type": "execute_result",
     "data": {
      "text/plain": [
       "                                 user_id          visit_time  \\\n",
       "0   319350b4-9951-47ef-b3a7-6b252099905f 2017-02-21 07:16:00   \n",
       "1   319350b4-9951-47ef-b3a7-6b252099905f 2017-02-21 07:16:00   \n",
       "2   7435ec9f-576d-4ebd-8791-361b128fca77 2017-05-16 08:37:00   \n",
       "3   7435ec9f-576d-4ebd-8791-361b128fca77 2017-05-16 08:37:00   \n",
       "4   08d13edb-071c-4cfb-9ee4-8f377d0e932a 2017-07-08 06:24:00   \n",
       "..                                   ...                 ...   \n",
       "75  23a8d1be-3f5c-4b59-aed7-c7f19c51612b 2017-08-11 13:49:00   \n",
       "76  8d9ac96c-16be-418e-8df4-1a6202d0b36e 2017-10-07 10:23:00   \n",
       "77  8d9ac96c-16be-418e-8df4-1a6202d0b36e 2017-10-07 10:23:00   \n",
       "78  5679519b-a901-4970-8656-dbf60ffb618d 2017-07-20 04:23:00   \n",
       "79  fff8f87a-e4a2-4f2c-b3d4-93a4ece95c4f 2017-06-06 23:42:00   \n",
       "\n",
       "         checkout_time  \n",
       "0  2017-02-21 07:27:00  \n",
       "1  2017-02-21 07:40:00  \n",
       "2  2017-05-16 08:49:00  \n",
       "3  2017-05-16 08:55:00  \n",
       "4  2017-07-08 06:32:00  \n",
       "..                 ...  \n",
       "75 2017-08-11 14:11:00  \n",
       "76 2017-10-07 10:24:00  \n",
       "77 2017-10-07 10:52:00  \n",
       "78 2017-07-20 04:24:00  \n",
       "79 2017-06-07 00:11:00  \n",
       "\n",
       "[80 rows x 3 columns]"
      ],
      "text/html": "<div>\n<style scoped>\n    .dataframe tbody tr th:only-of-type {\n        vertical-align: middle;\n    }\n\n    .dataframe tbody tr th {\n        vertical-align: top;\n    }\n\n    .dataframe thead th {\n        text-align: right;\n    }\n</style>\n<table border=\"1\" class=\"dataframe\">\n  <thead>\n    <tr style=\"text-align: right;\">\n      <th></th>\n      <th>user_id</th>\n      <th>visit_time</th>\n      <th>checkout_time</th>\n    </tr>\n  </thead>\n  <tbody>\n    <tr>\n      <th>0</th>\n      <td>319350b4-9951-47ef-b3a7-6b252099905f</td>\n      <td>2017-02-21 07:16:00</td>\n      <td>2017-02-21 07:27:00</td>\n    </tr>\n    <tr>\n      <th>1</th>\n      <td>319350b4-9951-47ef-b3a7-6b252099905f</td>\n      <td>2017-02-21 07:16:00</td>\n      <td>2017-02-21 07:40:00</td>\n    </tr>\n    <tr>\n      <th>2</th>\n      <td>7435ec9f-576d-4ebd-8791-361b128fca77</td>\n      <td>2017-05-16 08:37:00</td>\n      <td>2017-05-16 08:49:00</td>\n    </tr>\n    <tr>\n      <th>3</th>\n      <td>7435ec9f-576d-4ebd-8791-361b128fca77</td>\n      <td>2017-05-16 08:37:00</td>\n      <td>2017-05-16 08:55:00</td>\n    </tr>\n    <tr>\n      <th>4</th>\n      <td>08d13edb-071c-4cfb-9ee4-8f377d0e932a</td>\n      <td>2017-07-08 06:24:00</td>\n      <td>2017-07-08 06:32:00</td>\n    </tr>\n    <tr>\n      <th>...</th>\n      <td>...</td>\n      <td>...</td>\n      <td>...</td>\n    </tr>\n    <tr>\n      <th>75</th>\n      <td>23a8d1be-3f5c-4b59-aed7-c7f19c51612b</td>\n      <td>2017-08-11 13:49:00</td>\n      <td>2017-08-11 14:11:00</td>\n    </tr>\n    <tr>\n      <th>76</th>\n      <td>8d9ac96c-16be-418e-8df4-1a6202d0b36e</td>\n      <td>2017-10-07 10:23:00</td>\n      <td>2017-10-07 10:24:00</td>\n    </tr>\n    <tr>\n      <th>77</th>\n      <td>8d9ac96c-16be-418e-8df4-1a6202d0b36e</td>\n      <td>2017-10-07 10:23:00</td>\n      <td>2017-10-07 10:52:00</td>\n    </tr>\n    <tr>\n      <th>78</th>\n      <td>5679519b-a901-4970-8656-dbf60ffb618d</td>\n      <td>2017-07-20 04:23:00</td>\n      <td>2017-07-20 04:24:00</td>\n    </tr>\n    <tr>\n      <th>79</th>\n      <td>fff8f87a-e4a2-4f2c-b3d4-93a4ece95c4f</td>\n      <td>2017-06-06 23:42:00</td>\n      <td>2017-06-07 00:11:00</td>\n    </tr>\n  </tbody>\n</table>\n<p>80 rows × 3 columns</p>\n</div>"
     },
     "metadata": {},
     "execution_count": 41
    }
   ],
   "source": [
    "v_to_c = pd.merge(visits, checkouts)\n",
    "\n",
    "v_to_c"
   ]
  },
  {
   "source": [
    "3. In order to calculate the time between visiting and checking out, define a column of `v_to_c` called `time` by subtracting the checkout time from the visit time."
   ],
   "cell_type": "markdown",
   "metadata": {}
  },
  {
   "cell_type": "code",
   "execution_count": 42,
   "metadata": {},
   "outputs": [
    {
     "output_type": "execute_result",
     "data": {
      "text/plain": [
       "                                 user_id          visit_time  \\\n",
       "0   319350b4-9951-47ef-b3a7-6b252099905f 2017-02-21 07:16:00   \n",
       "1   319350b4-9951-47ef-b3a7-6b252099905f 2017-02-21 07:16:00   \n",
       "2   7435ec9f-576d-4ebd-8791-361b128fca77 2017-05-16 08:37:00   \n",
       "3   7435ec9f-576d-4ebd-8791-361b128fca77 2017-05-16 08:37:00   \n",
       "4   08d13edb-071c-4cfb-9ee4-8f377d0e932a 2017-07-08 06:24:00   \n",
       "..                                   ...                 ...   \n",
       "75  23a8d1be-3f5c-4b59-aed7-c7f19c51612b 2017-08-11 13:49:00   \n",
       "76  8d9ac96c-16be-418e-8df4-1a6202d0b36e 2017-10-07 10:23:00   \n",
       "77  8d9ac96c-16be-418e-8df4-1a6202d0b36e 2017-10-07 10:23:00   \n",
       "78  5679519b-a901-4970-8656-dbf60ffb618d 2017-07-20 04:23:00   \n",
       "79  fff8f87a-e4a2-4f2c-b3d4-93a4ece95c4f 2017-06-06 23:42:00   \n",
       "\n",
       "         checkout_time     time  \n",
       "0  2017-02-21 07:27:00 00:11:00  \n",
       "1  2017-02-21 07:40:00 00:24:00  \n",
       "2  2017-05-16 08:49:00 00:12:00  \n",
       "3  2017-05-16 08:55:00 00:18:00  \n",
       "4  2017-07-08 06:32:00 00:08:00  \n",
       "..                 ...      ...  \n",
       "75 2017-08-11 14:11:00 00:22:00  \n",
       "76 2017-10-07 10:24:00 00:01:00  \n",
       "77 2017-10-07 10:52:00 00:29:00  \n",
       "78 2017-07-20 04:24:00 00:01:00  \n",
       "79 2017-06-07 00:11:00 00:29:00  \n",
       "\n",
       "[80 rows x 4 columns]"
      ],
      "text/html": "<div>\n<style scoped>\n    .dataframe tbody tr th:only-of-type {\n        vertical-align: middle;\n    }\n\n    .dataframe tbody tr th {\n        vertical-align: top;\n    }\n\n    .dataframe thead th {\n        text-align: right;\n    }\n</style>\n<table border=\"1\" class=\"dataframe\">\n  <thead>\n    <tr style=\"text-align: right;\">\n      <th></th>\n      <th>user_id</th>\n      <th>visit_time</th>\n      <th>checkout_time</th>\n      <th>time</th>\n    </tr>\n  </thead>\n  <tbody>\n    <tr>\n      <th>0</th>\n      <td>319350b4-9951-47ef-b3a7-6b252099905f</td>\n      <td>2017-02-21 07:16:00</td>\n      <td>2017-02-21 07:27:00</td>\n      <td>00:11:00</td>\n    </tr>\n    <tr>\n      <th>1</th>\n      <td>319350b4-9951-47ef-b3a7-6b252099905f</td>\n      <td>2017-02-21 07:16:00</td>\n      <td>2017-02-21 07:40:00</td>\n      <td>00:24:00</td>\n    </tr>\n    <tr>\n      <th>2</th>\n      <td>7435ec9f-576d-4ebd-8791-361b128fca77</td>\n      <td>2017-05-16 08:37:00</td>\n      <td>2017-05-16 08:49:00</td>\n      <td>00:12:00</td>\n    </tr>\n    <tr>\n      <th>3</th>\n      <td>7435ec9f-576d-4ebd-8791-361b128fca77</td>\n      <td>2017-05-16 08:37:00</td>\n      <td>2017-05-16 08:55:00</td>\n      <td>00:18:00</td>\n    </tr>\n    <tr>\n      <th>4</th>\n      <td>08d13edb-071c-4cfb-9ee4-8f377d0e932a</td>\n      <td>2017-07-08 06:24:00</td>\n      <td>2017-07-08 06:32:00</td>\n      <td>00:08:00</td>\n    </tr>\n    <tr>\n      <th>...</th>\n      <td>...</td>\n      <td>...</td>\n      <td>...</td>\n      <td>...</td>\n    </tr>\n    <tr>\n      <th>75</th>\n      <td>23a8d1be-3f5c-4b59-aed7-c7f19c51612b</td>\n      <td>2017-08-11 13:49:00</td>\n      <td>2017-08-11 14:11:00</td>\n      <td>00:22:00</td>\n    </tr>\n    <tr>\n      <th>76</th>\n      <td>8d9ac96c-16be-418e-8df4-1a6202d0b36e</td>\n      <td>2017-10-07 10:23:00</td>\n      <td>2017-10-07 10:24:00</td>\n      <td>00:01:00</td>\n    </tr>\n    <tr>\n      <th>77</th>\n      <td>8d9ac96c-16be-418e-8df4-1a6202d0b36e</td>\n      <td>2017-10-07 10:23:00</td>\n      <td>2017-10-07 10:52:00</td>\n      <td>00:29:00</td>\n    </tr>\n    <tr>\n      <th>78</th>\n      <td>5679519b-a901-4970-8656-dbf60ffb618d</td>\n      <td>2017-07-20 04:23:00</td>\n      <td>2017-07-20 04:24:00</td>\n      <td>00:01:00</td>\n    </tr>\n    <tr>\n      <th>79</th>\n      <td>fff8f87a-e4a2-4f2c-b3d4-93a4ece95c4f</td>\n      <td>2017-06-06 23:42:00</td>\n      <td>2017-06-07 00:11:00</td>\n      <td>00:29:00</td>\n    </tr>\n  </tbody>\n</table>\n<p>80 rows × 4 columns</p>\n</div>"
     },
     "metadata": {},
     "execution_count": 42
    }
   ],
   "source": [
    "v_to_c['time'] = v_to_c.checkout_time - \\\n",
    "                 v_to_c.visit_time\n",
    " \n",
    "v_to_c"
   ]
  },
  {
   "source": [
    "4. Calculate the average time to checkout."
   ],
   "cell_type": "markdown",
   "metadata": {}
  },
  {
   "cell_type": "code",
   "execution_count": 43,
   "metadata": {},
   "outputs": [
    {
     "output_type": "stream",
     "name": "stdout",
     "text": [
      "0 days 00:15:24.750000\n"
     ]
    }
   ],
   "source": [
    "print(v_to_c.time.mean())"
   ]
  }
 ]
}