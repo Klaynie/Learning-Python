{
 "cells": [
  {
   "cell_type": "markdown",
   "metadata": {},
   "source": [
    "# Capstone Project 1: MuscleHub AB Test"
   ]
  },
  {
   "cell_type": "markdown",
   "metadata": {},
   "source": [
    "## Step 1: Get started with SQL"
   ]
  },
  {
   "cell_type": "markdown",
   "metadata": {},
   "source": [
    "Like most businesses, Janet keeps her data in a SQL database.  Normally, you'd download the data from her database to a csv file, and then load it into a Jupyter Notebook using Pandas.\n",
    "\n",
    "For this project, you'll have to access SQL in a slightly different way.  You'll be using a special Codecademy library that lets you type SQL queries directly into this Jupyter notebook.  You'll have pass each SQL query as an argument to a function called `sql_query`.  Each query will return a Pandas DataFrame.  Here's an example:"
   ]
  },
  {
   "cell_type": "code",
   "execution_count": 1,
   "metadata": {
    "collapsed": true
   },
   "outputs": [],
   "source": [
    "# This import only needs to happen once, at the beginning of the notebook\n",
    "from codecademySQL import sql_query"
   ]
  },
  {
   "cell_type": "code",
   "execution_count": 2,
   "metadata": {},
   "outputs": [
    {
     "output_type": "execute_result",
     "data": {
      "text/plain": [
       "   index first_name last_name                          email  gender  \\\n",
       "0      0      Karen   Manning        Karen.Manning@gmail.com  female   \n",
       "1      1    Annette     Boone               AB9982@gmail.com  female   \n",
       "2      2   Salvador   Merritt  SalvadorMerritt12@outlook.com    male   \n",
       "3      3     Martha   Maxwell       Martha.Maxwell@gmail.com  female   \n",
       "4      4      Andre     Mayer         AndreMayer90@gmail.com    male   \n",
       "\n",
       "  visit_date  \n",
       "0     5-1-17  \n",
       "1     5-1-17  \n",
       "2     5-1-17  \n",
       "3     5-1-17  \n",
       "4     5-1-17  "
      ],
      "text/html": "<div>\n<style scoped>\n    .dataframe tbody tr th:only-of-type {\n        vertical-align: middle;\n    }\n\n    .dataframe tbody tr th {\n        vertical-align: top;\n    }\n\n    .dataframe thead th {\n        text-align: right;\n    }\n</style>\n<table border=\"1\" class=\"dataframe\">\n  <thead>\n    <tr style=\"text-align: right;\">\n      <th></th>\n      <th>index</th>\n      <th>first_name</th>\n      <th>last_name</th>\n      <th>email</th>\n      <th>gender</th>\n      <th>visit_date</th>\n    </tr>\n  </thead>\n  <tbody>\n    <tr>\n      <th>0</th>\n      <td>0</td>\n      <td>Karen</td>\n      <td>Manning</td>\n      <td>Karen.Manning@gmail.com</td>\n      <td>female</td>\n      <td>5-1-17</td>\n    </tr>\n    <tr>\n      <th>1</th>\n      <td>1</td>\n      <td>Annette</td>\n      <td>Boone</td>\n      <td>AB9982@gmail.com</td>\n      <td>female</td>\n      <td>5-1-17</td>\n    </tr>\n    <tr>\n      <th>2</th>\n      <td>2</td>\n      <td>Salvador</td>\n      <td>Merritt</td>\n      <td>SalvadorMerritt12@outlook.com</td>\n      <td>male</td>\n      <td>5-1-17</td>\n    </tr>\n    <tr>\n      <th>3</th>\n      <td>3</td>\n      <td>Martha</td>\n      <td>Maxwell</td>\n      <td>Martha.Maxwell@gmail.com</td>\n      <td>female</td>\n      <td>5-1-17</td>\n    </tr>\n    <tr>\n      <th>4</th>\n      <td>4</td>\n      <td>Andre</td>\n      <td>Mayer</td>\n      <td>AndreMayer90@gmail.com</td>\n      <td>male</td>\n      <td>5-1-17</td>\n    </tr>\n  </tbody>\n</table>\n</div>"
     },
     "metadata": {},
     "execution_count": 2
    }
   ],
   "source": [
    "# Here's an example of a query that just displays some data\n",
    "sql_query('''\n",
    "SELECT *\n",
    "FROM visits\n",
    "LIMIT 5\n",
    "''')"
   ]
  },
  {
   "cell_type": "code",
   "execution_count": 3,
   "metadata": {},
   "outputs": [],
   "source": [
    "# Here's an example where we save the data to a DataFrame\n",
    "df = sql_query('''\n",
    "SELECT *\n",
    "FROM applications\n",
    "LIMIT 5\n",
    "''')"
   ]
  },
  {
   "cell_type": "markdown",
   "metadata": {},
   "source": [
    "## Step 2: Get your dataset"
   ]
  },
  {
   "cell_type": "code",
   "execution_count": 4,
   "metadata": {},
   "outputs": [],
   "source": [
    "import pandas as pd\n",
    "import numpy as np"
   ]
  },
  {
   "cell_type": "markdown",
   "metadata": {},
   "source": [
    "Let's get started!\n",
    "\n",
    "Janet of MuscleHub has a SQLite database, which contains several tables that will be helpful to you in this investigation:\n",
    "- `visits` contains information about potential gym customers who have visited MuscleHub\n",
    "- `fitness_tests` contains information about potential customers in \"Group A\", who were given a fitness test\n",
    "- `applications` contains information about any potential customers (both \"Group A\" and \"Group B\") who filled out an application.  Not everyone in `visits` will have filled out an application.\n",
    "- `purchases` contains information about customers who purchased a membership to MuscleHub.\n",
    "\n",
    "Use the space below to examine each table."
   ]
  },
  {
   "cell_type": "code",
   "execution_count": 5,
   "metadata": {
    "collapsed": true
   },
   "outputs": [
    {
     "output_type": "execute_result",
     "data": {
      "text/plain": [
       "      index first_name last_name                          email  gender  \\\n",
       "0         0      Karen   Manning        Karen.Manning@gmail.com  female   \n",
       "1         1    Annette     Boone               AB9982@gmail.com  female   \n",
       "2         2   Salvador   Merritt  SalvadorMerritt12@outlook.com    male   \n",
       "3         3     Martha   Maxwell       Martha.Maxwell@gmail.com  female   \n",
       "4         4      Andre     Mayer         AndreMayer90@gmail.com    male   \n",
       "...     ...        ...       ...                            ...     ...   \n",
       "5995   5995     Rachel   Hensley      RachelHensley38@gmail.com  female   \n",
       "5996   5996       Leon    Harmon          Leon.Harmon@gmail.com    male   \n",
       "5997   5997       Andy     Pratt          AndyPratt27@gmail.com    male   \n",
       "5998   5998      Ruben   Nielsen     RubenNielsen93@hotmail.com    male   \n",
       "5999   5999    Charles    Carver               CC2490@gmail.com    male   \n",
       "\n",
       "     visit_date  \n",
       "0    2017-05-01  \n",
       "1    2017-05-01  \n",
       "2    2017-05-01  \n",
       "3    2017-05-01  \n",
       "4    2017-05-01  \n",
       "...         ...  \n",
       "5995 2017-09-09  \n",
       "5996 2017-09-09  \n",
       "5997 2017-09-09  \n",
       "5998 2017-09-09  \n",
       "5999 2017-09-09  \n",
       "\n",
       "[6000 rows x 6 columns]"
      ],
      "text/html": "<div>\n<style scoped>\n    .dataframe tbody tr th:only-of-type {\n        vertical-align: middle;\n    }\n\n    .dataframe tbody tr th {\n        vertical-align: top;\n    }\n\n    .dataframe thead th {\n        text-align: right;\n    }\n</style>\n<table border=\"1\" class=\"dataframe\">\n  <thead>\n    <tr style=\"text-align: right;\">\n      <th></th>\n      <th>index</th>\n      <th>first_name</th>\n      <th>last_name</th>\n      <th>email</th>\n      <th>gender</th>\n      <th>visit_date</th>\n    </tr>\n  </thead>\n  <tbody>\n    <tr>\n      <th>0</th>\n      <td>0</td>\n      <td>Karen</td>\n      <td>Manning</td>\n      <td>Karen.Manning@gmail.com</td>\n      <td>female</td>\n      <td>2017-05-01</td>\n    </tr>\n    <tr>\n      <th>1</th>\n      <td>1</td>\n      <td>Annette</td>\n      <td>Boone</td>\n      <td>AB9982@gmail.com</td>\n      <td>female</td>\n      <td>2017-05-01</td>\n    </tr>\n    <tr>\n      <th>2</th>\n      <td>2</td>\n      <td>Salvador</td>\n      <td>Merritt</td>\n      <td>SalvadorMerritt12@outlook.com</td>\n      <td>male</td>\n      <td>2017-05-01</td>\n    </tr>\n    <tr>\n      <th>3</th>\n      <td>3</td>\n      <td>Martha</td>\n      <td>Maxwell</td>\n      <td>Martha.Maxwell@gmail.com</td>\n      <td>female</td>\n      <td>2017-05-01</td>\n    </tr>\n    <tr>\n      <th>4</th>\n      <td>4</td>\n      <td>Andre</td>\n      <td>Mayer</td>\n      <td>AndreMayer90@gmail.com</td>\n      <td>male</td>\n      <td>2017-05-01</td>\n    </tr>\n    <tr>\n      <th>...</th>\n      <td>...</td>\n      <td>...</td>\n      <td>...</td>\n      <td>...</td>\n      <td>...</td>\n      <td>...</td>\n    </tr>\n    <tr>\n      <th>5995</th>\n      <td>5995</td>\n      <td>Rachel</td>\n      <td>Hensley</td>\n      <td>RachelHensley38@gmail.com</td>\n      <td>female</td>\n      <td>2017-09-09</td>\n    </tr>\n    <tr>\n      <th>5996</th>\n      <td>5996</td>\n      <td>Leon</td>\n      <td>Harmon</td>\n      <td>Leon.Harmon@gmail.com</td>\n      <td>male</td>\n      <td>2017-09-09</td>\n    </tr>\n    <tr>\n      <th>5997</th>\n      <td>5997</td>\n      <td>Andy</td>\n      <td>Pratt</td>\n      <td>AndyPratt27@gmail.com</td>\n      <td>male</td>\n      <td>2017-09-09</td>\n    </tr>\n    <tr>\n      <th>5998</th>\n      <td>5998</td>\n      <td>Ruben</td>\n      <td>Nielsen</td>\n      <td>RubenNielsen93@hotmail.com</td>\n      <td>male</td>\n      <td>2017-09-09</td>\n    </tr>\n    <tr>\n      <th>5999</th>\n      <td>5999</td>\n      <td>Charles</td>\n      <td>Carver</td>\n      <td>CC2490@gmail.com</td>\n      <td>male</td>\n      <td>2017-09-09</td>\n    </tr>\n  </tbody>\n</table>\n<p>6000 rows × 6 columns</p>\n</div>"
     },
     "metadata": {},
     "execution_count": 5
    }
   ],
   "source": [
    "visits = sql_query('''\n",
    "SELECT *\n",
    "FROM visits\n",
    "''')\n",
    "\n",
    "visits['visit_date'] = pd.to_datetime(visits['visit_date'], infer_datetime_format=True)\n",
    "\n",
    "visits"
   ]
  },
  {
   "cell_type": "code",
   "execution_count": 6,
   "metadata": {
    "collapsed": true
   },
   "outputs": [
    {
     "output_type": "execute_result",
     "data": {
      "text/plain": [
       "      index first_name last_name                   email  gender  \\\n",
       "0         0        Kim    Walter   KimWalter58@gmail.com  female   \n",
       "1         1        Tom   Webster        TW3857@gmail.com    male   \n",
       "2         2     Marcus     Bauer  Marcus.Bauer@gmail.com    male   \n",
       "3         3    Roberta      Best      RB6305@hotmail.com  female   \n",
       "4         4     Carrie   Francis      CF1896@hotmail.com  female   \n",
       "...     ...        ...       ...                     ...     ...   \n",
       "2495   2495       Dean     Mejia        DM7848@gmail.com    male   \n",
       "2496   2496       Sara    Malone   SMalone1995@gmail.com  female   \n",
       "2497   2497       Leon    Harmon   Leon.Harmon@gmail.com    male   \n",
       "2498   2498       Andy     Pratt   AndyPratt27@gmail.com    male   \n",
       "2499   2499    Charles    Carver        CC2490@gmail.com    male   \n",
       "\n",
       "     fitness_test_date  \n",
       "0           2017-07-03  \n",
       "1           2017-07-02  \n",
       "2           2017-07-01  \n",
       "3           2017-07-02  \n",
       "4           2017-07-05  \n",
       "...                ...  \n",
       "2495        2017-09-13  \n",
       "2496        2017-09-13  \n",
       "2497        2017-09-15  \n",
       "2498        2017-09-15  \n",
       "2499        2017-09-12  \n",
       "\n",
       "[2500 rows x 6 columns]"
      ],
      "text/html": "<div>\n<style scoped>\n    .dataframe tbody tr th:only-of-type {\n        vertical-align: middle;\n    }\n\n    .dataframe tbody tr th {\n        vertical-align: top;\n    }\n\n    .dataframe thead th {\n        text-align: right;\n    }\n</style>\n<table border=\"1\" class=\"dataframe\">\n  <thead>\n    <tr style=\"text-align: right;\">\n      <th></th>\n      <th>index</th>\n      <th>first_name</th>\n      <th>last_name</th>\n      <th>email</th>\n      <th>gender</th>\n      <th>fitness_test_date</th>\n    </tr>\n  </thead>\n  <tbody>\n    <tr>\n      <th>0</th>\n      <td>0</td>\n      <td>Kim</td>\n      <td>Walter</td>\n      <td>KimWalter58@gmail.com</td>\n      <td>female</td>\n      <td>2017-07-03</td>\n    </tr>\n    <tr>\n      <th>1</th>\n      <td>1</td>\n      <td>Tom</td>\n      <td>Webster</td>\n      <td>TW3857@gmail.com</td>\n      <td>male</td>\n      <td>2017-07-02</td>\n    </tr>\n    <tr>\n      <th>2</th>\n      <td>2</td>\n      <td>Marcus</td>\n      <td>Bauer</td>\n      <td>Marcus.Bauer@gmail.com</td>\n      <td>male</td>\n      <td>2017-07-01</td>\n    </tr>\n    <tr>\n      <th>3</th>\n      <td>3</td>\n      <td>Roberta</td>\n      <td>Best</td>\n      <td>RB6305@hotmail.com</td>\n      <td>female</td>\n      <td>2017-07-02</td>\n    </tr>\n    <tr>\n      <th>4</th>\n      <td>4</td>\n      <td>Carrie</td>\n      <td>Francis</td>\n      <td>CF1896@hotmail.com</td>\n      <td>female</td>\n      <td>2017-07-05</td>\n    </tr>\n    <tr>\n      <th>...</th>\n      <td>...</td>\n      <td>...</td>\n      <td>...</td>\n      <td>...</td>\n      <td>...</td>\n      <td>...</td>\n    </tr>\n    <tr>\n      <th>2495</th>\n      <td>2495</td>\n      <td>Dean</td>\n      <td>Mejia</td>\n      <td>DM7848@gmail.com</td>\n      <td>male</td>\n      <td>2017-09-13</td>\n    </tr>\n    <tr>\n      <th>2496</th>\n      <td>2496</td>\n      <td>Sara</td>\n      <td>Malone</td>\n      <td>SMalone1995@gmail.com</td>\n      <td>female</td>\n      <td>2017-09-13</td>\n    </tr>\n    <tr>\n      <th>2497</th>\n      <td>2497</td>\n      <td>Leon</td>\n      <td>Harmon</td>\n      <td>Leon.Harmon@gmail.com</td>\n      <td>male</td>\n      <td>2017-09-15</td>\n    </tr>\n    <tr>\n      <th>2498</th>\n      <td>2498</td>\n      <td>Andy</td>\n      <td>Pratt</td>\n      <td>AndyPratt27@gmail.com</td>\n      <td>male</td>\n      <td>2017-09-15</td>\n    </tr>\n    <tr>\n      <th>2499</th>\n      <td>2499</td>\n      <td>Charles</td>\n      <td>Carver</td>\n      <td>CC2490@gmail.com</td>\n      <td>male</td>\n      <td>2017-09-12</td>\n    </tr>\n  </tbody>\n</table>\n<p>2500 rows × 6 columns</p>\n</div>"
     },
     "metadata": {},
     "execution_count": 6
    }
   ],
   "source": [
    "fitness_tests = sql_query('''\n",
    "SELECT *\n",
    "FROM fitness_tests\n",
    "''')\n",
    "\n",
    "fitness_tests['fitness_test_date'] = pd.to_datetime(fitness_tests['fitness_test_date'], infer_datetime_format=True)\n",
    "\n",
    "fitness_tests"
   ]
  },
  {
   "cell_type": "code",
   "execution_count": 7,
   "metadata": {
    "collapsed": true
   },
   "outputs": [
    {
     "output_type": "execute_result",
     "data": {
      "text/plain": [
       "     index first_name last_name                      email  gender  \\\n",
       "0        0        Roy    Abbott      RoyAbbott32@gmail.com    male   \n",
       "1        1      Agnes   Acevedo    AgnesAcevedo1@gmail.com  female   \n",
       "2        2    Roberta   Acevedo           RA8063@gmail.com  female   \n",
       "3        3     Darren    Acosta    DAcosta1996@hotmail.com    male   \n",
       "4        4     Vernon    Acosta      VAcosta1975@gmail.com    male   \n",
       "..     ...        ...       ...                        ...     ...   \n",
       "570    570       Rosa   Woodard  RosaWoodard27@outlook.com  female   \n",
       "571    571       Gary      Yang           GY3609@gmail.com    male   \n",
       "572    572     Sharon     Yates     Sharon.Yates@gmail.com  female   \n",
       "573    573     Billie     Yates  BillieYates91@hotmail.com  female   \n",
       "574    574    Jeffery    Zamora           JZ2811@gmail.com    male   \n",
       "\n",
       "    application_date  \n",
       "0         2017-08-12  \n",
       "1         2017-09-29  \n",
       "2         2017-09-15  \n",
       "3         2017-07-26  \n",
       "4         2017-07-14  \n",
       "..               ...  \n",
       "570       2017-09-08  \n",
       "571       2017-08-16  \n",
       "572       2017-07-18  \n",
       "573       2017-08-10  \n",
       "574       2017-07-24  \n",
       "\n",
       "[575 rows x 6 columns]"
      ],
      "text/html": "<div>\n<style scoped>\n    .dataframe tbody tr th:only-of-type {\n        vertical-align: middle;\n    }\n\n    .dataframe tbody tr th {\n        vertical-align: top;\n    }\n\n    .dataframe thead th {\n        text-align: right;\n    }\n</style>\n<table border=\"1\" class=\"dataframe\">\n  <thead>\n    <tr style=\"text-align: right;\">\n      <th></th>\n      <th>index</th>\n      <th>first_name</th>\n      <th>last_name</th>\n      <th>email</th>\n      <th>gender</th>\n      <th>application_date</th>\n    </tr>\n  </thead>\n  <tbody>\n    <tr>\n      <th>0</th>\n      <td>0</td>\n      <td>Roy</td>\n      <td>Abbott</td>\n      <td>RoyAbbott32@gmail.com</td>\n      <td>male</td>\n      <td>2017-08-12</td>\n    </tr>\n    <tr>\n      <th>1</th>\n      <td>1</td>\n      <td>Agnes</td>\n      <td>Acevedo</td>\n      <td>AgnesAcevedo1@gmail.com</td>\n      <td>female</td>\n      <td>2017-09-29</td>\n    </tr>\n    <tr>\n      <th>2</th>\n      <td>2</td>\n      <td>Roberta</td>\n      <td>Acevedo</td>\n      <td>RA8063@gmail.com</td>\n      <td>female</td>\n      <td>2017-09-15</td>\n    </tr>\n    <tr>\n      <th>3</th>\n      <td>3</td>\n      <td>Darren</td>\n      <td>Acosta</td>\n      <td>DAcosta1996@hotmail.com</td>\n      <td>male</td>\n      <td>2017-07-26</td>\n    </tr>\n    <tr>\n      <th>4</th>\n      <td>4</td>\n      <td>Vernon</td>\n      <td>Acosta</td>\n      <td>VAcosta1975@gmail.com</td>\n      <td>male</td>\n      <td>2017-07-14</td>\n    </tr>\n    <tr>\n      <th>...</th>\n      <td>...</td>\n      <td>...</td>\n      <td>...</td>\n      <td>...</td>\n      <td>...</td>\n      <td>...</td>\n    </tr>\n    <tr>\n      <th>570</th>\n      <td>570</td>\n      <td>Rosa</td>\n      <td>Woodard</td>\n      <td>RosaWoodard27@outlook.com</td>\n      <td>female</td>\n      <td>2017-09-08</td>\n    </tr>\n    <tr>\n      <th>571</th>\n      <td>571</td>\n      <td>Gary</td>\n      <td>Yang</td>\n      <td>GY3609@gmail.com</td>\n      <td>male</td>\n      <td>2017-08-16</td>\n    </tr>\n    <tr>\n      <th>572</th>\n      <td>572</td>\n      <td>Sharon</td>\n      <td>Yates</td>\n      <td>Sharon.Yates@gmail.com</td>\n      <td>female</td>\n      <td>2017-07-18</td>\n    </tr>\n    <tr>\n      <th>573</th>\n      <td>573</td>\n      <td>Billie</td>\n      <td>Yates</td>\n      <td>BillieYates91@hotmail.com</td>\n      <td>female</td>\n      <td>2017-08-10</td>\n    </tr>\n    <tr>\n      <th>574</th>\n      <td>574</td>\n      <td>Jeffery</td>\n      <td>Zamora</td>\n      <td>JZ2811@gmail.com</td>\n      <td>male</td>\n      <td>2017-07-24</td>\n    </tr>\n  </tbody>\n</table>\n<p>575 rows × 6 columns</p>\n</div>"
     },
     "metadata": {},
     "execution_count": 7
    }
   ],
   "source": [
    "applications = sql_query('''\n",
    "SELECT *\n",
    "FROM applications\n",
    "''')\n",
    "\n",
    "applications['application_date'] = pd.to_datetime(applications['application_date'], infer_datetime_format=True)\n",
    "\n",
    "applications"
   ]
  },
  {
   "cell_type": "code",
   "execution_count": 8,
   "metadata": {
    "collapsed": true
   },
   "outputs": [
    {
     "output_type": "execute_result",
     "data": {
      "text/plain": [
       "     index first_name last_name                      email  gender  \\\n",
       "0        0        Roy    Abbott      RoyAbbott32@gmail.com    male   \n",
       "1        1    Roberta   Acevedo           RA8063@gmail.com  female   \n",
       "2        2     Vernon    Acosta      VAcosta1975@gmail.com    male   \n",
       "3        3     Darren    Acosta    DAcosta1996@hotmail.com    male   \n",
       "4        4       Dawn    Adkins      Dawn.Adkins@gmail.com  female   \n",
       "..     ...        ...       ...                        ...     ...   \n",
       "445    445       Rosa   Woodard  RosaWoodard27@outlook.com  female   \n",
       "446    446       Gary      Yang           GY3609@gmail.com    male   \n",
       "447    447     Sharon     Yates     Sharon.Yates@gmail.com  female   \n",
       "448    448     Billie     Yates  BillieYates91@hotmail.com  female   \n",
       "449    449    Jeffery    Zamora           JZ2811@gmail.com    male   \n",
       "\n",
       "    purchase_date  \n",
       "0      2017-08-18  \n",
       "1      2017-09-16  \n",
       "2      2017-07-20  \n",
       "3      2017-07-27  \n",
       "4      2017-08-24  \n",
       "..            ...  \n",
       "445    2017-09-14  \n",
       "446    2017-08-19  \n",
       "447    2017-07-22  \n",
       "448    2017-08-10  \n",
       "449    2017-07-26  \n",
       "\n",
       "[450 rows x 6 columns]"
      ],
      "text/html": "<div>\n<style scoped>\n    .dataframe tbody tr th:only-of-type {\n        vertical-align: middle;\n    }\n\n    .dataframe tbody tr th {\n        vertical-align: top;\n    }\n\n    .dataframe thead th {\n        text-align: right;\n    }\n</style>\n<table border=\"1\" class=\"dataframe\">\n  <thead>\n    <tr style=\"text-align: right;\">\n      <th></th>\n      <th>index</th>\n      <th>first_name</th>\n      <th>last_name</th>\n      <th>email</th>\n      <th>gender</th>\n      <th>purchase_date</th>\n    </tr>\n  </thead>\n  <tbody>\n    <tr>\n      <th>0</th>\n      <td>0</td>\n      <td>Roy</td>\n      <td>Abbott</td>\n      <td>RoyAbbott32@gmail.com</td>\n      <td>male</td>\n      <td>2017-08-18</td>\n    </tr>\n    <tr>\n      <th>1</th>\n      <td>1</td>\n      <td>Roberta</td>\n      <td>Acevedo</td>\n      <td>RA8063@gmail.com</td>\n      <td>female</td>\n      <td>2017-09-16</td>\n    </tr>\n    <tr>\n      <th>2</th>\n      <td>2</td>\n      <td>Vernon</td>\n      <td>Acosta</td>\n      <td>VAcosta1975@gmail.com</td>\n      <td>male</td>\n      <td>2017-07-20</td>\n    </tr>\n    <tr>\n      <th>3</th>\n      <td>3</td>\n      <td>Darren</td>\n      <td>Acosta</td>\n      <td>DAcosta1996@hotmail.com</td>\n      <td>male</td>\n      <td>2017-07-27</td>\n    </tr>\n    <tr>\n      <th>4</th>\n      <td>4</td>\n      <td>Dawn</td>\n      <td>Adkins</td>\n      <td>Dawn.Adkins@gmail.com</td>\n      <td>female</td>\n      <td>2017-08-24</td>\n    </tr>\n    <tr>\n      <th>...</th>\n      <td>...</td>\n      <td>...</td>\n      <td>...</td>\n      <td>...</td>\n      <td>...</td>\n      <td>...</td>\n    </tr>\n    <tr>\n      <th>445</th>\n      <td>445</td>\n      <td>Rosa</td>\n      <td>Woodard</td>\n      <td>RosaWoodard27@outlook.com</td>\n      <td>female</td>\n      <td>2017-09-14</td>\n    </tr>\n    <tr>\n      <th>446</th>\n      <td>446</td>\n      <td>Gary</td>\n      <td>Yang</td>\n      <td>GY3609@gmail.com</td>\n      <td>male</td>\n      <td>2017-08-19</td>\n    </tr>\n    <tr>\n      <th>447</th>\n      <td>447</td>\n      <td>Sharon</td>\n      <td>Yates</td>\n      <td>Sharon.Yates@gmail.com</td>\n      <td>female</td>\n      <td>2017-07-22</td>\n    </tr>\n    <tr>\n      <th>448</th>\n      <td>448</td>\n      <td>Billie</td>\n      <td>Yates</td>\n      <td>BillieYates91@hotmail.com</td>\n      <td>female</td>\n      <td>2017-08-10</td>\n    </tr>\n    <tr>\n      <th>449</th>\n      <td>449</td>\n      <td>Jeffery</td>\n      <td>Zamora</td>\n      <td>JZ2811@gmail.com</td>\n      <td>male</td>\n      <td>2017-07-26</td>\n    </tr>\n  </tbody>\n</table>\n<p>450 rows × 6 columns</p>\n</div>"
     },
     "metadata": {},
     "execution_count": 8
    }
   ],
   "source": [
    "purchases = sql_query('''\n",
    "SELECT *\n",
    "FROM purchases\n",
    "''')\n",
    "\n",
    "purchases['purchase_date'] = pd.to_datetime(purchases['purchase_date'], infer_datetime_format=True)\n",
    "\n",
    "purchases"
   ]
  },
  {
   "cell_type": "markdown",
   "metadata": {},
   "source": [
    "We'd like to download a giant DataFrame containing all of this data.  You'll need to write a query that does the following things:\n",
    "\n",
    "1. Not all visits in  `visits` occurred during the A/B test.  You'll only want to pull data where `visit_date` is on or after `7-1-17`.\n",
    "\n",
    "2. You'll want to perform a series of `LEFT JOIN` commands to combine the four tables that we care about.  You'll need to perform the joins on `first_name`, `last_name`, and `email`.  Pull the following columns:\n",
    "\n",
    "\n",
    "- `visits.first_name`\n",
    "- `visits.last_name`\n",
    "- `visits.gender`\n",
    "- `visits.email`\n",
    "- `visits.visit_date`\n",
    "- `fitness_tests.fitness_test_date`\n",
    "- `applications.application_date`\n",
    "- `purchases.purchase_date`\n",
    "\n",
    "Save the result of this query to a variable called `df`.\n",
    "\n",
    "Hint: your result should have 5004 rows.  Does it?"
   ]
  },
  {
   "cell_type": "code",
   "execution_count": 9,
   "metadata": {},
   "outputs": [],
   "source": [
    "df = sql_query('''\n",
    "SELECT  visits.first_name\n",
    "       ,visits.last_name\n",
    "       ,visits.gender\n",
    "       ,visits.email\n",
    "       ,visits.visit_date\n",
    "       ,fitness_tests.fitness_test_date\n",
    "       ,applications.application_date\n",
    "       ,purchases.purchase_date\n",
    "FROM visits\n",
    "LEFT JOIN fitness_tests\n",
    "ON fitness_tests.first_name = visits.first_name AND fitness_tests.last_name = visits.last_name AND fitness_tests.email = visits.email\n",
    "LEFT JOIN applications\n",
    "ON applications.first_name = visits.first_name AND applications.last_name = visits.last_name AND applications.email = visits.email\n",
    "LEFT JOIN purchases\n",
    "ON purchases.first_name = visits.first_name AND purchases.last_name = visits.last_name AND purchases.email = visits.email\n",
    "WHERE visits.visit_date >= '7-1-17' \n",
    "''')"
   ]
  },
  {
   "cell_type": "markdown",
   "metadata": {},
   "source": [
    "## Step 3: Investigate the A and B groups"
   ]
  },
  {
   "cell_type": "markdown",
   "metadata": {},
   "source": [
    "We have some data to work with! Import the following modules so that we can start doing analysis:\n",
    "- `import pandas as pd`\n",
    "- `from matplotlib import pyplot as plt`"
   ]
  },
  {
   "cell_type": "code",
   "execution_count": 10,
   "metadata": {
    "collapsed": true
   },
   "outputs": [],
   "source": [
    "#TODO"
   ]
  },
  {
   "cell_type": "markdown",
   "metadata": {},
   "source": [
    "We're going to add some columns to `df` to help us with our analysis.\n",
    "\n",
    "Start by adding a column called `ab_test_group`.  It should be `A` if `fitness_test_date` is not `None`, and `B` if `fitness_test_date` is `None`."
   ]
  },
  {
   "cell_type": "code",
   "execution_count": null,
   "metadata": {},
   "outputs": [],
   "source": []
  },
  {
   "cell_type": "markdown",
   "metadata": {},
   "source": [
    "Let's do a quick sanity check that Janet split her visitors such that about half are in A and half are in B.\n",
    "\n",
    "Start by using `groupby` to count how many users are in each `ab_test_group`.  Save the results to `ab_counts`."
   ]
  },
  {
   "cell_type": "code",
   "execution_count": null,
   "metadata": {},
   "outputs": [],
   "source": []
  },
  {
   "cell_type": "markdown",
   "metadata": {},
   "source": [
    "We'll want to include this information in our presentation.  Let's create a pie cart using `plt.pie`.  Make sure to include:\n",
    "- Use `plt.axis('equal')` so that your pie chart looks nice\n",
    "- Add a legend labeling `A` and `B`\n",
    "- Use `autopct` to label the percentage of each group\n",
    "- Save your figure as `ab_test_pie_chart.png`"
   ]
  },
  {
   "cell_type": "code",
   "execution_count": null,
   "metadata": {},
   "outputs": [],
   "source": []
  },
  {
   "cell_type": "markdown",
   "metadata": {},
   "source": [
    "## Step 4: Who picks up an application?"
   ]
  },
  {
   "cell_type": "markdown",
   "metadata": {},
   "source": [
    "Recall that the sign-up process for MuscleHub has several steps:\n",
    "1. Take a fitness test with a personal trainer (only Group A)\n",
    "2. Fill out an application for the gym\n",
    "3. Send in their payment for their first month's membership\n",
    "\n",
    "Let's examine how many people make it to Step 2, filling out an application.\n",
    "\n",
    "Start by creating a new column in `df` called `is_application` which is `Application` if `application_date` is not `None` and `No Application`, otherwise."
   ]
  },
  {
   "cell_type": "code",
   "execution_count": null,
   "metadata": {
    "collapsed": true
   },
   "outputs": [],
   "source": []
  },
  {
   "cell_type": "markdown",
   "metadata": {},
   "source": [
    "Now, using `groupby`, count how many people from Group A and Group B either do or don't pick up an application.  You'll want to group by `ab_test_group` and `is_application`.  Save this new DataFrame as `app_counts`"
   ]
  },
  {
   "cell_type": "code",
   "execution_count": null,
   "metadata": {},
   "outputs": [],
   "source": []
  },
  {
   "cell_type": "markdown",
   "metadata": {},
   "source": [
    "We're going to want to calculate the percent of people in each group who complete an application.  It's going to be much easier to do this if we pivot `app_counts` such that:\n",
    "- The `index` is `ab_test_group`\n",
    "- The `columns` are `is_application`\n",
    "Perform this pivot and save it to the variable `app_pivot`.  Remember to call `reset_index()` at the end of the pivot!"
   ]
  },
  {
   "cell_type": "code",
   "execution_count": null,
   "metadata": {},
   "outputs": [],
   "source": []
  },
  {
   "cell_type": "markdown",
   "metadata": {},
   "source": [
    "Define a new column called `Total`, which is the sum of `Application` and `No Application`."
   ]
  },
  {
   "cell_type": "code",
   "execution_count": null,
   "metadata": {
    "collapsed": true
   },
   "outputs": [],
   "source": []
  },
  {
   "cell_type": "markdown",
   "metadata": {},
   "source": [
    "Calculate another column called `Percent with Application`, which is equal to `Application` divided by `Total`."
   ]
  },
  {
   "cell_type": "code",
   "execution_count": null,
   "metadata": {},
   "outputs": [],
   "source": []
  },
  {
   "cell_type": "markdown",
   "metadata": {},
   "source": [
    "It looks like more people from Group B turned in an application.  Why might that be?\n",
    "\n",
    "We need to know if this difference is statistically significant.\n",
    "\n",
    "Choose a hypothesis tests, import it from `scipy` and perform it.  Be sure to note the p-value.\n",
    "Is this result significant?"
   ]
  },
  {
   "cell_type": "code",
   "execution_count": null,
   "metadata": {},
   "outputs": [],
   "source": []
  },
  {
   "cell_type": "markdown",
   "metadata": {},
   "source": [
    "## Step 4: Who purchases a membership?"
   ]
  },
  {
   "cell_type": "markdown",
   "metadata": {},
   "source": [
    "Of those who picked up an application, how many purchased a membership?\n",
    "\n",
    "Let's begin by adding a column to `df` called `is_member` which is `Member` if `purchase_date` is not `None`, and `Not Member` otherwise."
   ]
  },
  {
   "cell_type": "code",
   "execution_count": null,
   "metadata": {
    "collapsed": true
   },
   "outputs": [],
   "source": []
  },
  {
   "cell_type": "markdown",
   "metadata": {},
   "source": [
    "Now, let's create a DataFrame called `just_apps` the contains only people who picked up an application."
   ]
  },
  {
   "cell_type": "code",
   "execution_count": null,
   "metadata": {
    "collapsed": true
   },
   "outputs": [],
   "source": []
  },
  {
   "cell_type": "markdown",
   "metadata": {},
   "source": [
    "Great! Now, let's do a `groupby` to find out how many people in `just_apps` are and aren't members from each group.  Follow the same process that we did in Step 4, including pivoting the data.  You should end up with a DataFrame that looks like this:\n",
    "\n",
    "|is_member|ab_test_group|Member|Not Member|Total|Percent Purchase|\n",
    "|-|-|-|-|-|-|\n",
    "|0|A|?|?|?|?|\n",
    "|1|B|?|?|?|?|\n",
    "\n",
    "Save your final DataFrame as `member_pivot`."
   ]
  },
  {
   "cell_type": "code",
   "execution_count": null,
   "metadata": {},
   "outputs": [],
   "source": []
  },
  {
   "cell_type": "markdown",
   "metadata": {},
   "source": [
    "It looks like people who took the fitness test were more likely to purchase a membership **if** they picked up an application.  Why might that be?\n",
    "\n",
    "Just like before, we need to know if this difference is statistically significant.  Choose a hypothesis tests, import it from `scipy` and perform it.  Be sure to note the p-value.\n",
    "Is this result significant?"
   ]
  },
  {
   "cell_type": "code",
   "execution_count": null,
   "metadata": {},
   "outputs": [],
   "source": []
  },
  {
   "cell_type": "markdown",
   "metadata": {},
   "source": [
    "Previously, we looked at what percent of people **who picked up applications** purchased memberships.  What we really care about is what percentage of **all visitors** purchased memberships.  Return to `df` and do a `groupby` to find out how many people in `df` are and aren't members from each group.  Follow the same process that we did in Step 4, including pivoting the data.  You should end up with a DataFrame that looks like this:\n",
    "\n",
    "|is_member|ab_test_group|Member|Not Member|Total|Percent Purchase|\n",
    "|-|-|-|-|-|-|\n",
    "|0|A|?|?|?|?|\n",
    "|1|B|?|?|?|?|\n",
    "\n",
    "Save your final DataFrame as `final_member_pivot`."
   ]
  },
  {
   "cell_type": "code",
   "execution_count": null,
   "metadata": {},
   "outputs": [],
   "source": []
  },
  {
   "cell_type": "markdown",
   "metadata": {},
   "source": [
    "Previously, when we only considered people who had **already picked up an application**, we saw that there was no significant difference in membership between Group A and Group B.\n",
    "\n",
    "Now, when we consider all people who **visit MuscleHub**, we see that there might be a significant different in memberships between Group A and Group B.  Perform a significance test and check."
   ]
  },
  {
   "cell_type": "code",
   "execution_count": null,
   "metadata": {},
   "outputs": [],
   "source": []
  },
  {
   "cell_type": "markdown",
   "metadata": {},
   "source": [
    "## Step 5: Summarize the acquisition funel with a chart"
   ]
  },
  {
   "cell_type": "markdown",
   "metadata": {},
   "source": [
    "We'd like to make a bar chart for Janet that shows the difference between Group A (people who were given the fitness test) and Group B (people who were not given the fitness test) at each state of the process:\n",
    "- Percent of visitors who apply\n",
    "- Percent of applicants who purchase a membership\n",
    "- Percent of visitors who purchase a membership\n",
    "\n",
    "Create one plot for **each** of the three sets of percentages that you calculated in `app_pivot`, `member_pivot` and `final_member_pivot`.  Each plot should:\n",
    "- Label the two bars as `Fitness Test` and `No Fitness Test`\n",
    "- Make sure that the y-axis ticks are expressed as percents (i.e., `5%`)\n",
    "- Have a title"
   ]
  },
  {
   "cell_type": "code",
   "execution_count": null,
   "metadata": {},
   "outputs": [],
   "source": []
  },
  {
   "cell_type": "code",
   "execution_count": null,
   "metadata": {},
   "outputs": [],
   "source": []
  },
  {
   "cell_type": "code",
   "execution_count": null,
   "metadata": {},
   "outputs": [],
   "source": []
  }
 ],
 "metadata": {
  "kernelspec": {
   "name": "python3",
   "display_name": "Python 3.9.1 64-bit",
   "metadata": {
    "interpreter": {
     "hash": "ac59ebe37160ed0dfa835113d9b8498d9f09ceb179beaac4002f036b9467c963"
    }
   }
  },
  "language_info": {
   "codemirror_mode": {
    "name": "ipython",
    "version": 2
   },
   "file_extension": ".py",
   "mimetype": "text/x-python",
   "name": "python",
   "nbconvert_exporter": "python",
   "pygments_lexer": "ipython2",
   "version": "3.9.1-final"
  }
 },
 "nbformat": 4,
 "nbformat_minor": 2
}