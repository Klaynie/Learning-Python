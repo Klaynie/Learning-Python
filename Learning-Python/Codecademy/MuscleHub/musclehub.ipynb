{
 "cells": [
  {
   "cell_type": "markdown",
   "metadata": {},
   "source": [
    "# Capstone Project 1: MuscleHub AB Test"
   ]
  },
  {
   "cell_type": "markdown",
   "metadata": {},
   "source": [
    "## Step 1: Get started with SQL"
   ]
  },
  {
   "cell_type": "markdown",
   "metadata": {},
   "source": [
    "Like most businesses, Janet keeps her data in a SQL database.  Normally, you'd download the data from her database to a csv file, and then load it into a Jupyter Notebook using Pandas.\n",
    "\n",
    "For this project, you'll have to access SQL in a slightly different way.  You'll be using a special Codecademy library that lets you type SQL queries directly into this Jupyter notebook.  You'll have pass each SQL query as an argument to a function called `sql_query`.  Each query will return a Pandas DataFrame.  Here's an example:"
   ]
  },
  {
   "cell_type": "code",
   "execution_count": 1,
   "metadata": {
    "collapsed": true
   },
   "outputs": [],
   "source": [
    "# This import only needs to happen once, at the beginning of the notebook\n",
    "from codecademySQL import sql_query"
   ]
  },
  {
   "cell_type": "code",
   "execution_count": 2,
   "metadata": {},
   "outputs": [
    {
     "output_type": "execute_result",
     "data": {
      "text/plain": [
       "   index first_name last_name                          email  gender  \\\n",
       "0      0      Karen   Manning        Karen.Manning@gmail.com  female   \n",
       "1      1    Annette     Boone               AB9982@gmail.com  female   \n",
       "2      2   Salvador   Merritt  SalvadorMerritt12@outlook.com    male   \n",
       "3      3     Martha   Maxwell       Martha.Maxwell@gmail.com  female   \n",
       "4      4      Andre     Mayer         AndreMayer90@gmail.com    male   \n",
       "\n",
       "  visit_date  \n",
       "0     5-1-17  \n",
       "1     5-1-17  \n",
       "2     5-1-17  \n",
       "3     5-1-17  \n",
       "4     5-1-17  "
      ],
      "text/html": "<div>\n<style scoped>\n    .dataframe tbody tr th:only-of-type {\n        vertical-align: middle;\n    }\n\n    .dataframe tbody tr th {\n        vertical-align: top;\n    }\n\n    .dataframe thead th {\n        text-align: right;\n    }\n</style>\n<table border=\"1\" class=\"dataframe\">\n  <thead>\n    <tr style=\"text-align: right;\">\n      <th></th>\n      <th>index</th>\n      <th>first_name</th>\n      <th>last_name</th>\n      <th>email</th>\n      <th>gender</th>\n      <th>visit_date</th>\n    </tr>\n  </thead>\n  <tbody>\n    <tr>\n      <th>0</th>\n      <td>0</td>\n      <td>Karen</td>\n      <td>Manning</td>\n      <td>Karen.Manning@gmail.com</td>\n      <td>female</td>\n      <td>5-1-17</td>\n    </tr>\n    <tr>\n      <th>1</th>\n      <td>1</td>\n      <td>Annette</td>\n      <td>Boone</td>\n      <td>AB9982@gmail.com</td>\n      <td>female</td>\n      <td>5-1-17</td>\n    </tr>\n    <tr>\n      <th>2</th>\n      <td>2</td>\n      <td>Salvador</td>\n      <td>Merritt</td>\n      <td>SalvadorMerritt12@outlook.com</td>\n      <td>male</td>\n      <td>5-1-17</td>\n    </tr>\n    <tr>\n      <th>3</th>\n      <td>3</td>\n      <td>Martha</td>\n      <td>Maxwell</td>\n      <td>Martha.Maxwell@gmail.com</td>\n      <td>female</td>\n      <td>5-1-17</td>\n    </tr>\n    <tr>\n      <th>4</th>\n      <td>4</td>\n      <td>Andre</td>\n      <td>Mayer</td>\n      <td>AndreMayer90@gmail.com</td>\n      <td>male</td>\n      <td>5-1-17</td>\n    </tr>\n  </tbody>\n</table>\n</div>"
     },
     "metadata": {},
     "execution_count": 2
    }
   ],
   "source": [
    "# Here's an example of a query that just displays some data\n",
    "sql_query('''\n",
    "SELECT *\n",
    "FROM visits\n",
    "LIMIT 5\n",
    "''')"
   ]
  },
  {
   "cell_type": "code",
   "execution_count": 3,
   "metadata": {},
   "outputs": [],
   "source": [
    "# Here's an example where we save the data to a DataFrame\n",
    "df = sql_query('''\n",
    "SELECT *\n",
    "FROM applications\n",
    "LIMIT 5\n",
    "''')"
   ]
  },
  {
   "cell_type": "markdown",
   "metadata": {},
   "source": [
    "## Step 2: Get your dataset"
   ]
  },
  {
   "cell_type": "code",
   "execution_count": 4,
   "metadata": {},
   "outputs": [],
   "source": [
    "import pandas as pd\n",
    "import numpy as np"
   ]
  },
  {
   "cell_type": "markdown",
   "metadata": {},
   "source": [
    "Let's get started!\n",
    "\n",
    "Janet of MuscleHub has a SQLite database, which contains several tables that will be helpful to you in this investigation:\n",
    "- `visits` contains information about potential gym customers who have visited MuscleHub\n",
    "- `fitness_tests` contains information about potential customers in \"Group A\", who were given a fitness test\n",
    "- `applications` contains information about any potential customers (both \"Group A\" and \"Group B\") who filled out an application.  Not everyone in `visits` will have filled out an application.\n",
    "- `purchases` contains information about customers who purchased a membership to MuscleHub.\n",
    "\n",
    "Use the space below to examine each table."
   ]
  },
  {
   "cell_type": "code",
   "execution_count": 5,
   "metadata": {
    "collapsed": true
   },
   "outputs": [
    {
     "output_type": "execute_result",
     "data": {
      "text/plain": [
       "      index first_name last_name                          email  gender  \\\n",
       "0         0      Karen   Manning        Karen.Manning@gmail.com  female   \n",
       "1         1    Annette     Boone               AB9982@gmail.com  female   \n",
       "2         2   Salvador   Merritt  SalvadorMerritt12@outlook.com    male   \n",
       "3         3     Martha   Maxwell       Martha.Maxwell@gmail.com  female   \n",
       "4         4      Andre     Mayer         AndreMayer90@gmail.com    male   \n",
       "...     ...        ...       ...                            ...     ...   \n",
       "5995   5995     Rachel   Hensley      RachelHensley38@gmail.com  female   \n",
       "5996   5996       Leon    Harmon          Leon.Harmon@gmail.com    male   \n",
       "5997   5997       Andy     Pratt          AndyPratt27@gmail.com    male   \n",
       "5998   5998      Ruben   Nielsen     RubenNielsen93@hotmail.com    male   \n",
       "5999   5999    Charles    Carver               CC2490@gmail.com    male   \n",
       "\n",
       "     visit_date  \n",
       "0    2017-05-01  \n",
       "1    2017-05-01  \n",
       "2    2017-05-01  \n",
       "3    2017-05-01  \n",
       "4    2017-05-01  \n",
       "...         ...  \n",
       "5995 2017-09-09  \n",
       "5996 2017-09-09  \n",
       "5997 2017-09-09  \n",
       "5998 2017-09-09  \n",
       "5999 2017-09-09  \n",
       "\n",
       "[6000 rows x 6 columns]"
      ],
      "text/html": "<div>\n<style scoped>\n    .dataframe tbody tr th:only-of-type {\n        vertical-align: middle;\n    }\n\n    .dataframe tbody tr th {\n        vertical-align: top;\n    }\n\n    .dataframe thead th {\n        text-align: right;\n    }\n</style>\n<table border=\"1\" class=\"dataframe\">\n  <thead>\n    <tr style=\"text-align: right;\">\n      <th></th>\n      <th>index</th>\n      <th>first_name</th>\n      <th>last_name</th>\n      <th>email</th>\n      <th>gender</th>\n      <th>visit_date</th>\n    </tr>\n  </thead>\n  <tbody>\n    <tr>\n      <th>0</th>\n      <td>0</td>\n      <td>Karen</td>\n      <td>Manning</td>\n      <td>Karen.Manning@gmail.com</td>\n      <td>female</td>\n      <td>2017-05-01</td>\n    </tr>\n    <tr>\n      <th>1</th>\n      <td>1</td>\n      <td>Annette</td>\n      <td>Boone</td>\n      <td>AB9982@gmail.com</td>\n      <td>female</td>\n      <td>2017-05-01</td>\n    </tr>\n    <tr>\n      <th>2</th>\n      <td>2</td>\n      <td>Salvador</td>\n      <td>Merritt</td>\n      <td>SalvadorMerritt12@outlook.com</td>\n      <td>male</td>\n      <td>2017-05-01</td>\n    </tr>\n    <tr>\n      <th>3</th>\n      <td>3</td>\n      <td>Martha</td>\n      <td>Maxwell</td>\n      <td>Martha.Maxwell@gmail.com</td>\n      <td>female</td>\n      <td>2017-05-01</td>\n    </tr>\n    <tr>\n      <th>4</th>\n      <td>4</td>\n      <td>Andre</td>\n      <td>Mayer</td>\n      <td>AndreMayer90@gmail.com</td>\n      <td>male</td>\n      <td>2017-05-01</td>\n    </tr>\n    <tr>\n      <th>...</th>\n      <td>...</td>\n      <td>...</td>\n      <td>...</td>\n      <td>...</td>\n      <td>...</td>\n      <td>...</td>\n    </tr>\n    <tr>\n      <th>5995</th>\n      <td>5995</td>\n      <td>Rachel</td>\n      <td>Hensley</td>\n      <td>RachelHensley38@gmail.com</td>\n      <td>female</td>\n      <td>2017-09-09</td>\n    </tr>\n    <tr>\n      <th>5996</th>\n      <td>5996</td>\n      <td>Leon</td>\n      <td>Harmon</td>\n      <td>Leon.Harmon@gmail.com</td>\n      <td>male</td>\n      <td>2017-09-09</td>\n    </tr>\n    <tr>\n      <th>5997</th>\n      <td>5997</td>\n      <td>Andy</td>\n      <td>Pratt</td>\n      <td>AndyPratt27@gmail.com</td>\n      <td>male</td>\n      <td>2017-09-09</td>\n    </tr>\n    <tr>\n      <th>5998</th>\n      <td>5998</td>\n      <td>Ruben</td>\n      <td>Nielsen</td>\n      <td>RubenNielsen93@hotmail.com</td>\n      <td>male</td>\n      <td>2017-09-09</td>\n    </tr>\n    <tr>\n      <th>5999</th>\n      <td>5999</td>\n      <td>Charles</td>\n      <td>Carver</td>\n      <td>CC2490@gmail.com</td>\n      <td>male</td>\n      <td>2017-09-09</td>\n    </tr>\n  </tbody>\n</table>\n<p>6000 rows × 6 columns</p>\n</div>"
     },
     "metadata": {},
     "execution_count": 5
    }
   ],
   "source": [
    "visits = sql_query('''\n",
    "SELECT *\n",
    "FROM visits\n",
    "''')\n",
    "\n",
    "visits['visit_date'] = pd.to_datetime(visits['visit_date'], infer_datetime_format=True)\n",
    "\n",
    "visits"
   ]
  },
  {
   "cell_type": "code",
   "execution_count": 6,
   "metadata": {
    "collapsed": true
   },
   "outputs": [
    {
     "output_type": "execute_result",
     "data": {
      "text/plain": [
       "      index first_name last_name                   email  gender  \\\n",
       "0         0        Kim    Walter   KimWalter58@gmail.com  female   \n",
       "1         1        Tom   Webster        TW3857@gmail.com    male   \n",
       "2         2     Marcus     Bauer  Marcus.Bauer@gmail.com    male   \n",
       "3         3    Roberta      Best      RB6305@hotmail.com  female   \n",
       "4         4     Carrie   Francis      CF1896@hotmail.com  female   \n",
       "...     ...        ...       ...                     ...     ...   \n",
       "2495   2495       Dean     Mejia        DM7848@gmail.com    male   \n",
       "2496   2496       Sara    Malone   SMalone1995@gmail.com  female   \n",
       "2497   2497       Leon    Harmon   Leon.Harmon@gmail.com    male   \n",
       "2498   2498       Andy     Pratt   AndyPratt27@gmail.com    male   \n",
       "2499   2499    Charles    Carver        CC2490@gmail.com    male   \n",
       "\n",
       "     fitness_test_date  \n",
       "0           2017-07-03  \n",
       "1           2017-07-02  \n",
       "2           2017-07-01  \n",
       "3           2017-07-02  \n",
       "4           2017-07-05  \n",
       "...                ...  \n",
       "2495        2017-09-13  \n",
       "2496        2017-09-13  \n",
       "2497        2017-09-15  \n",
       "2498        2017-09-15  \n",
       "2499        2017-09-12  \n",
       "\n",
       "[2500 rows x 6 columns]"
      ],
      "text/html": "<div>\n<style scoped>\n    .dataframe tbody tr th:only-of-type {\n        vertical-align: middle;\n    }\n\n    .dataframe tbody tr th {\n        vertical-align: top;\n    }\n\n    .dataframe thead th {\n        text-align: right;\n    }\n</style>\n<table border=\"1\" class=\"dataframe\">\n  <thead>\n    <tr style=\"text-align: right;\">\n      <th></th>\n      <th>index</th>\n      <th>first_name</th>\n      <th>last_name</th>\n      <th>email</th>\n      <th>gender</th>\n      <th>fitness_test_date</th>\n    </tr>\n  </thead>\n  <tbody>\n    <tr>\n      <th>0</th>\n      <td>0</td>\n      <td>Kim</td>\n      <td>Walter</td>\n      <td>KimWalter58@gmail.com</td>\n      <td>female</td>\n      <td>2017-07-03</td>\n    </tr>\n    <tr>\n      <th>1</th>\n      <td>1</td>\n      <td>Tom</td>\n      <td>Webster</td>\n      <td>TW3857@gmail.com</td>\n      <td>male</td>\n      <td>2017-07-02</td>\n    </tr>\n    <tr>\n      <th>2</th>\n      <td>2</td>\n      <td>Marcus</td>\n      <td>Bauer</td>\n      <td>Marcus.Bauer@gmail.com</td>\n      <td>male</td>\n      <td>2017-07-01</td>\n    </tr>\n    <tr>\n      <th>3</th>\n      <td>3</td>\n      <td>Roberta</td>\n      <td>Best</td>\n      <td>RB6305@hotmail.com</td>\n      <td>female</td>\n      <td>2017-07-02</td>\n    </tr>\n    <tr>\n      <th>4</th>\n      <td>4</td>\n      <td>Carrie</td>\n      <td>Francis</td>\n      <td>CF1896@hotmail.com</td>\n      <td>female</td>\n      <td>2017-07-05</td>\n    </tr>\n    <tr>\n      <th>...</th>\n      <td>...</td>\n      <td>...</td>\n      <td>...</td>\n      <td>...</td>\n      <td>...</td>\n      <td>...</td>\n    </tr>\n    <tr>\n      <th>2495</th>\n      <td>2495</td>\n      <td>Dean</td>\n      <td>Mejia</td>\n      <td>DM7848@gmail.com</td>\n      <td>male</td>\n      <td>2017-09-13</td>\n    </tr>\n    <tr>\n      <th>2496</th>\n      <td>2496</td>\n      <td>Sara</td>\n      <td>Malone</td>\n      <td>SMalone1995@gmail.com</td>\n      <td>female</td>\n      <td>2017-09-13</td>\n    </tr>\n    <tr>\n      <th>2497</th>\n      <td>2497</td>\n      <td>Leon</td>\n      <td>Harmon</td>\n      <td>Leon.Harmon@gmail.com</td>\n      <td>male</td>\n      <td>2017-09-15</td>\n    </tr>\n    <tr>\n      <th>2498</th>\n      <td>2498</td>\n      <td>Andy</td>\n      <td>Pratt</td>\n      <td>AndyPratt27@gmail.com</td>\n      <td>male</td>\n      <td>2017-09-15</td>\n    </tr>\n    <tr>\n      <th>2499</th>\n      <td>2499</td>\n      <td>Charles</td>\n      <td>Carver</td>\n      <td>CC2490@gmail.com</td>\n      <td>male</td>\n      <td>2017-09-12</td>\n    </tr>\n  </tbody>\n</table>\n<p>2500 rows × 6 columns</p>\n</div>"
     },
     "metadata": {},
     "execution_count": 6
    }
   ],
   "source": [
    "fitness_tests = sql_query('''\n",
    "SELECT *\n",
    "FROM fitness_tests\n",
    "''')\n",
    "\n",
    "fitness_tests['fitness_test_date'] = pd.to_datetime(fitness_tests['fitness_test_date'], infer_datetime_format=True)\n",
    "\n",
    "fitness_tests"
   ]
  },
  {
   "cell_type": "code",
   "execution_count": 7,
   "metadata": {
    "collapsed": true
   },
   "outputs": [
    {
     "output_type": "execute_result",
     "data": {
      "text/plain": [
       "     index first_name last_name                      email  gender  \\\n",
       "0        0        Roy    Abbott      RoyAbbott32@gmail.com    male   \n",
       "1        1      Agnes   Acevedo    AgnesAcevedo1@gmail.com  female   \n",
       "2        2    Roberta   Acevedo           RA8063@gmail.com  female   \n",
       "3        3     Darren    Acosta    DAcosta1996@hotmail.com    male   \n",
       "4        4     Vernon    Acosta      VAcosta1975@gmail.com    male   \n",
       "..     ...        ...       ...                        ...     ...   \n",
       "570    570       Rosa   Woodard  RosaWoodard27@outlook.com  female   \n",
       "571    571       Gary      Yang           GY3609@gmail.com    male   \n",
       "572    572     Sharon     Yates     Sharon.Yates@gmail.com  female   \n",
       "573    573     Billie     Yates  BillieYates91@hotmail.com  female   \n",
       "574    574    Jeffery    Zamora           JZ2811@gmail.com    male   \n",
       "\n",
       "    application_date  \n",
       "0         2017-08-12  \n",
       "1         2017-09-29  \n",
       "2         2017-09-15  \n",
       "3         2017-07-26  \n",
       "4         2017-07-14  \n",
       "..               ...  \n",
       "570       2017-09-08  \n",
       "571       2017-08-16  \n",
       "572       2017-07-18  \n",
       "573       2017-08-10  \n",
       "574       2017-07-24  \n",
       "\n",
       "[575 rows x 6 columns]"
      ],
      "text/html": "<div>\n<style scoped>\n    .dataframe tbody tr th:only-of-type {\n        vertical-align: middle;\n    }\n\n    .dataframe tbody tr th {\n        vertical-align: top;\n    }\n\n    .dataframe thead th {\n        text-align: right;\n    }\n</style>\n<table border=\"1\" class=\"dataframe\">\n  <thead>\n    <tr style=\"text-align: right;\">\n      <th></th>\n      <th>index</th>\n      <th>first_name</th>\n      <th>last_name</th>\n      <th>email</th>\n      <th>gender</th>\n      <th>application_date</th>\n    </tr>\n  </thead>\n  <tbody>\n    <tr>\n      <th>0</th>\n      <td>0</td>\n      <td>Roy</td>\n      <td>Abbott</td>\n      <td>RoyAbbott32@gmail.com</td>\n      <td>male</td>\n      <td>2017-08-12</td>\n    </tr>\n    <tr>\n      <th>1</th>\n      <td>1</td>\n      <td>Agnes</td>\n      <td>Acevedo</td>\n      <td>AgnesAcevedo1@gmail.com</td>\n      <td>female</td>\n      <td>2017-09-29</td>\n    </tr>\n    <tr>\n      <th>2</th>\n      <td>2</td>\n      <td>Roberta</td>\n      <td>Acevedo</td>\n      <td>RA8063@gmail.com</td>\n      <td>female</td>\n      <td>2017-09-15</td>\n    </tr>\n    <tr>\n      <th>3</th>\n      <td>3</td>\n      <td>Darren</td>\n      <td>Acosta</td>\n      <td>DAcosta1996@hotmail.com</td>\n      <td>male</td>\n      <td>2017-07-26</td>\n    </tr>\n    <tr>\n      <th>4</th>\n      <td>4</td>\n      <td>Vernon</td>\n      <td>Acosta</td>\n      <td>VAcosta1975@gmail.com</td>\n      <td>male</td>\n      <td>2017-07-14</td>\n    </tr>\n    <tr>\n      <th>...</th>\n      <td>...</td>\n      <td>...</td>\n      <td>...</td>\n      <td>...</td>\n      <td>...</td>\n      <td>...</td>\n    </tr>\n    <tr>\n      <th>570</th>\n      <td>570</td>\n      <td>Rosa</td>\n      <td>Woodard</td>\n      <td>RosaWoodard27@outlook.com</td>\n      <td>female</td>\n      <td>2017-09-08</td>\n    </tr>\n    <tr>\n      <th>571</th>\n      <td>571</td>\n      <td>Gary</td>\n      <td>Yang</td>\n      <td>GY3609@gmail.com</td>\n      <td>male</td>\n      <td>2017-08-16</td>\n    </tr>\n    <tr>\n      <th>572</th>\n      <td>572</td>\n      <td>Sharon</td>\n      <td>Yates</td>\n      <td>Sharon.Yates@gmail.com</td>\n      <td>female</td>\n      <td>2017-07-18</td>\n    </tr>\n    <tr>\n      <th>573</th>\n      <td>573</td>\n      <td>Billie</td>\n      <td>Yates</td>\n      <td>BillieYates91@hotmail.com</td>\n      <td>female</td>\n      <td>2017-08-10</td>\n    </tr>\n    <tr>\n      <th>574</th>\n      <td>574</td>\n      <td>Jeffery</td>\n      <td>Zamora</td>\n      <td>JZ2811@gmail.com</td>\n      <td>male</td>\n      <td>2017-07-24</td>\n    </tr>\n  </tbody>\n</table>\n<p>575 rows × 6 columns</p>\n</div>"
     },
     "metadata": {},
     "execution_count": 7
    }
   ],
   "source": [
    "applications = sql_query('''\n",
    "SELECT *\n",
    "FROM applications\n",
    "''')\n",
    "\n",
    "applications['application_date'] = pd.to_datetime(applications['application_date'], infer_datetime_format=True)\n",
    "\n",
    "applications"
   ]
  },
  {
   "cell_type": "code",
   "execution_count": 8,
   "metadata": {
    "collapsed": true
   },
   "outputs": [
    {
     "output_type": "execute_result",
     "data": {
      "text/plain": [
       "     index first_name last_name                      email  gender  \\\n",
       "0        0        Roy    Abbott      RoyAbbott32@gmail.com    male   \n",
       "1        1    Roberta   Acevedo           RA8063@gmail.com  female   \n",
       "2        2     Vernon    Acosta      VAcosta1975@gmail.com    male   \n",
       "3        3     Darren    Acosta    DAcosta1996@hotmail.com    male   \n",
       "4        4       Dawn    Adkins      Dawn.Adkins@gmail.com  female   \n",
       "..     ...        ...       ...                        ...     ...   \n",
       "445    445       Rosa   Woodard  RosaWoodard27@outlook.com  female   \n",
       "446    446       Gary      Yang           GY3609@gmail.com    male   \n",
       "447    447     Sharon     Yates     Sharon.Yates@gmail.com  female   \n",
       "448    448     Billie     Yates  BillieYates91@hotmail.com  female   \n",
       "449    449    Jeffery    Zamora           JZ2811@gmail.com    male   \n",
       "\n",
       "    purchase_date  \n",
       "0      2017-08-18  \n",
       "1      2017-09-16  \n",
       "2      2017-07-20  \n",
       "3      2017-07-27  \n",
       "4      2017-08-24  \n",
       "..            ...  \n",
       "445    2017-09-14  \n",
       "446    2017-08-19  \n",
       "447    2017-07-22  \n",
       "448    2017-08-10  \n",
       "449    2017-07-26  \n",
       "\n",
       "[450 rows x 6 columns]"
      ],
      "text/html": "<div>\n<style scoped>\n    .dataframe tbody tr th:only-of-type {\n        vertical-align: middle;\n    }\n\n    .dataframe tbody tr th {\n        vertical-align: top;\n    }\n\n    .dataframe thead th {\n        text-align: right;\n    }\n</style>\n<table border=\"1\" class=\"dataframe\">\n  <thead>\n    <tr style=\"text-align: right;\">\n      <th></th>\n      <th>index</th>\n      <th>first_name</th>\n      <th>last_name</th>\n      <th>email</th>\n      <th>gender</th>\n      <th>purchase_date</th>\n    </tr>\n  </thead>\n  <tbody>\n    <tr>\n      <th>0</th>\n      <td>0</td>\n      <td>Roy</td>\n      <td>Abbott</td>\n      <td>RoyAbbott32@gmail.com</td>\n      <td>male</td>\n      <td>2017-08-18</td>\n    </tr>\n    <tr>\n      <th>1</th>\n      <td>1</td>\n      <td>Roberta</td>\n      <td>Acevedo</td>\n      <td>RA8063@gmail.com</td>\n      <td>female</td>\n      <td>2017-09-16</td>\n    </tr>\n    <tr>\n      <th>2</th>\n      <td>2</td>\n      <td>Vernon</td>\n      <td>Acosta</td>\n      <td>VAcosta1975@gmail.com</td>\n      <td>male</td>\n      <td>2017-07-20</td>\n    </tr>\n    <tr>\n      <th>3</th>\n      <td>3</td>\n      <td>Darren</td>\n      <td>Acosta</td>\n      <td>DAcosta1996@hotmail.com</td>\n      <td>male</td>\n      <td>2017-07-27</td>\n    </tr>\n    <tr>\n      <th>4</th>\n      <td>4</td>\n      <td>Dawn</td>\n      <td>Adkins</td>\n      <td>Dawn.Adkins@gmail.com</td>\n      <td>female</td>\n      <td>2017-08-24</td>\n    </tr>\n    <tr>\n      <th>...</th>\n      <td>...</td>\n      <td>...</td>\n      <td>...</td>\n      <td>...</td>\n      <td>...</td>\n      <td>...</td>\n    </tr>\n    <tr>\n      <th>445</th>\n      <td>445</td>\n      <td>Rosa</td>\n      <td>Woodard</td>\n      <td>RosaWoodard27@outlook.com</td>\n      <td>female</td>\n      <td>2017-09-14</td>\n    </tr>\n    <tr>\n      <th>446</th>\n      <td>446</td>\n      <td>Gary</td>\n      <td>Yang</td>\n      <td>GY3609@gmail.com</td>\n      <td>male</td>\n      <td>2017-08-19</td>\n    </tr>\n    <tr>\n      <th>447</th>\n      <td>447</td>\n      <td>Sharon</td>\n      <td>Yates</td>\n      <td>Sharon.Yates@gmail.com</td>\n      <td>female</td>\n      <td>2017-07-22</td>\n    </tr>\n    <tr>\n      <th>448</th>\n      <td>448</td>\n      <td>Billie</td>\n      <td>Yates</td>\n      <td>BillieYates91@hotmail.com</td>\n      <td>female</td>\n      <td>2017-08-10</td>\n    </tr>\n    <tr>\n      <th>449</th>\n      <td>449</td>\n      <td>Jeffery</td>\n      <td>Zamora</td>\n      <td>JZ2811@gmail.com</td>\n      <td>male</td>\n      <td>2017-07-26</td>\n    </tr>\n  </tbody>\n</table>\n<p>450 rows × 6 columns</p>\n</div>"
     },
     "metadata": {},
     "execution_count": 8
    }
   ],
   "source": [
    "purchases = sql_query('''\n",
    "SELECT *\n",
    "FROM purchases\n",
    "''')\n",
    "\n",
    "purchases['purchase_date'] = pd.to_datetime(purchases['purchase_date'], infer_datetime_format=True)\n",
    "\n",
    "purchases"
   ]
  },
  {
   "cell_type": "markdown",
   "metadata": {},
   "source": [
    "We'd like to download a giant DataFrame containing all of this data.  You'll need to write a query that does the following things:\n",
    "\n",
    "1. Not all visits in  `visits` occurred during the A/B test.  You'll only want to pull data where `visit_date` is on or after `7-1-17`.\n",
    "\n",
    "2. You'll want to perform a series of `LEFT JOIN` commands to combine the four tables that we care about.  You'll need to perform the joins on `first_name`, `last_name`, and `email`.  Pull the following columns:\n",
    "\n",
    "\n",
    "- `visits.first_name`\n",
    "- `visits.last_name`\n",
    "- `visits.gender`\n",
    "- `visits.email`\n",
    "- `visits.visit_date`\n",
    "- `fitness_tests.fitness_test_date`\n",
    "- `applications.application_date`\n",
    "- `purchases.purchase_date`\n",
    "\n",
    "Save the result of this query to a variable called `df`.\n",
    "\n",
    "Hint: your result should have 5004 rows.  Does it?"
   ]
  },
  {
   "cell_type": "code",
   "execution_count": 9,
   "metadata": {},
   "outputs": [],
   "source": [
    "df = sql_query('''\n",
    "SELECT  visits.first_name\n",
    "       ,visits.last_name\n",
    "       ,visits.gender\n",
    "       ,visits.email\n",
    "       ,visits.visit_date\n",
    "       ,fitness_tests.fitness_test_date\n",
    "       ,applications.application_date\n",
    "       ,purchases.purchase_date\n",
    "FROM visits\n",
    "LEFT JOIN fitness_tests\n",
    "ON fitness_tests.first_name = visits.first_name AND fitness_tests.last_name = visits.last_name AND fitness_tests.email = visits.email\n",
    "LEFT JOIN applications\n",
    "ON applications.first_name = visits.first_name AND applications.last_name = visits.last_name AND applications.email = visits.email\n",
    "LEFT JOIN purchases\n",
    "ON purchases.first_name = visits.first_name AND purchases.last_name = visits.last_name AND purchases.email = visits.email\n",
    "WHERE visits.visit_date >= '7-1-17' \n",
    "''')"
   ]
  },
  {
   "cell_type": "code",
   "execution_count": 10,
   "metadata": {},
   "outputs": [
    {
     "output_type": "execute_result",
     "data": {
      "text/plain": [
       "     first_name last_name  gender                       email visit_date  \\\n",
       "0           Kim    Walter  female       KimWalter58@gmail.com     7-1-17   \n",
       "1           Tom   Webster    male            TW3857@gmail.com     7-1-17   \n",
       "2        Edward     Bowen    male      Edward.Bowen@gmail.com     7-1-17   \n",
       "3        Marcus     Bauer    male      Marcus.Bauer@gmail.com     7-1-17   \n",
       "4       Roberta      Best  female          RB6305@hotmail.com     7-1-17   \n",
       "...         ...       ...     ...                         ...        ...   \n",
       "4999     Rachel   Hensley  female   RachelHensley38@gmail.com     9-9-17   \n",
       "5000       Leon    Harmon    male       Leon.Harmon@gmail.com     9-9-17   \n",
       "5001       Andy     Pratt    male       AndyPratt27@gmail.com     9-9-17   \n",
       "5002      Ruben   Nielsen    male  RubenNielsen93@hotmail.com     9-9-17   \n",
       "5003    Charles    Carver    male            CC2490@gmail.com     9-9-17   \n",
       "\n",
       "     fitness_test_date application_date purchase_date  \n",
       "0           2017-07-03             None          None  \n",
       "1           2017-07-02             None          None  \n",
       "2                 None       2017-07-04    2017-07-04  \n",
       "3           2017-07-01       2017-07-03    2017-07-05  \n",
       "4           2017-07-02             None          None  \n",
       "...                ...              ...           ...  \n",
       "4999              None             None          None  \n",
       "5000        2017-09-15             None          None  \n",
       "5001        2017-09-15             None          None  \n",
       "5002              None       2017-09-13          None  \n",
       "5003        2017-09-12             None          None  \n",
       "\n",
       "[5004 rows x 8 columns]"
      ],
      "text/html": "<div>\n<style scoped>\n    .dataframe tbody tr th:only-of-type {\n        vertical-align: middle;\n    }\n\n    .dataframe tbody tr th {\n        vertical-align: top;\n    }\n\n    .dataframe thead th {\n        text-align: right;\n    }\n</style>\n<table border=\"1\" class=\"dataframe\">\n  <thead>\n    <tr style=\"text-align: right;\">\n      <th></th>\n      <th>first_name</th>\n      <th>last_name</th>\n      <th>gender</th>\n      <th>email</th>\n      <th>visit_date</th>\n      <th>fitness_test_date</th>\n      <th>application_date</th>\n      <th>purchase_date</th>\n    </tr>\n  </thead>\n  <tbody>\n    <tr>\n      <th>0</th>\n      <td>Kim</td>\n      <td>Walter</td>\n      <td>female</td>\n      <td>KimWalter58@gmail.com</td>\n      <td>7-1-17</td>\n      <td>2017-07-03</td>\n      <td>None</td>\n      <td>None</td>\n    </tr>\n    <tr>\n      <th>1</th>\n      <td>Tom</td>\n      <td>Webster</td>\n      <td>male</td>\n      <td>TW3857@gmail.com</td>\n      <td>7-1-17</td>\n      <td>2017-07-02</td>\n      <td>None</td>\n      <td>None</td>\n    </tr>\n    <tr>\n      <th>2</th>\n      <td>Edward</td>\n      <td>Bowen</td>\n      <td>male</td>\n      <td>Edward.Bowen@gmail.com</td>\n      <td>7-1-17</td>\n      <td>None</td>\n      <td>2017-07-04</td>\n      <td>2017-07-04</td>\n    </tr>\n    <tr>\n      <th>3</th>\n      <td>Marcus</td>\n      <td>Bauer</td>\n      <td>male</td>\n      <td>Marcus.Bauer@gmail.com</td>\n      <td>7-1-17</td>\n      <td>2017-07-01</td>\n      <td>2017-07-03</td>\n      <td>2017-07-05</td>\n    </tr>\n    <tr>\n      <th>4</th>\n      <td>Roberta</td>\n      <td>Best</td>\n      <td>female</td>\n      <td>RB6305@hotmail.com</td>\n      <td>7-1-17</td>\n      <td>2017-07-02</td>\n      <td>None</td>\n      <td>None</td>\n    </tr>\n    <tr>\n      <th>...</th>\n      <td>...</td>\n      <td>...</td>\n      <td>...</td>\n      <td>...</td>\n      <td>...</td>\n      <td>...</td>\n      <td>...</td>\n      <td>...</td>\n    </tr>\n    <tr>\n      <th>4999</th>\n      <td>Rachel</td>\n      <td>Hensley</td>\n      <td>female</td>\n      <td>RachelHensley38@gmail.com</td>\n      <td>9-9-17</td>\n      <td>None</td>\n      <td>None</td>\n      <td>None</td>\n    </tr>\n    <tr>\n      <th>5000</th>\n      <td>Leon</td>\n      <td>Harmon</td>\n      <td>male</td>\n      <td>Leon.Harmon@gmail.com</td>\n      <td>9-9-17</td>\n      <td>2017-09-15</td>\n      <td>None</td>\n      <td>None</td>\n    </tr>\n    <tr>\n      <th>5001</th>\n      <td>Andy</td>\n      <td>Pratt</td>\n      <td>male</td>\n      <td>AndyPratt27@gmail.com</td>\n      <td>9-9-17</td>\n      <td>2017-09-15</td>\n      <td>None</td>\n      <td>None</td>\n    </tr>\n    <tr>\n      <th>5002</th>\n      <td>Ruben</td>\n      <td>Nielsen</td>\n      <td>male</td>\n      <td>RubenNielsen93@hotmail.com</td>\n      <td>9-9-17</td>\n      <td>None</td>\n      <td>2017-09-13</td>\n      <td>None</td>\n    </tr>\n    <tr>\n      <th>5003</th>\n      <td>Charles</td>\n      <td>Carver</td>\n      <td>male</td>\n      <td>CC2490@gmail.com</td>\n      <td>9-9-17</td>\n      <td>2017-09-12</td>\n      <td>None</td>\n      <td>None</td>\n    </tr>\n  </tbody>\n</table>\n<p>5004 rows × 8 columns</p>\n</div>"
     },
     "metadata": {},
     "execution_count": 10
    }
   ],
   "source": [
    "df"
   ]
  },
  {
   "cell_type": "markdown",
   "metadata": {},
   "source": [
    "## Step 3: Investigate the A and B groups"
   ]
  },
  {
   "cell_type": "markdown",
   "metadata": {},
   "source": [
    "We have some data to work with! Import the following modules so that we can start doing analysis:\n",
    "- `import pandas as pd`\n",
    "- `from matplotlib import pyplot as plt`"
   ]
  },
  {
   "cell_type": "code",
   "execution_count": 11,
   "metadata": {
    "collapsed": true
   },
   "outputs": [],
   "source": [
    "import pandas as pd\n",
    "from matplotlib import pyplot as plt"
   ]
  },
  {
   "cell_type": "markdown",
   "metadata": {},
   "source": [
    "We're going to add some columns to `df` to help us with our analysis.\n",
    "\n",
    "Start by adding a column called `ab_test_group`.  It should be `A` if `fitness_test_date` is not `None`, and `B` if `fitness_test_date` is `None`."
   ]
  },
  {
   "cell_type": "code",
   "execution_count": 12,
   "metadata": {},
   "outputs": [
    {
     "output_type": "execute_result",
     "data": {
      "text/plain": [
       "     first_name last_name  gender                       email visit_date  \\\n",
       "0           Kim    Walter  female       KimWalter58@gmail.com     7-1-17   \n",
       "1           Tom   Webster    male            TW3857@gmail.com     7-1-17   \n",
       "2        Edward     Bowen    male      Edward.Bowen@gmail.com     7-1-17   \n",
       "3        Marcus     Bauer    male      Marcus.Bauer@gmail.com     7-1-17   \n",
       "4       Roberta      Best  female          RB6305@hotmail.com     7-1-17   \n",
       "...         ...       ...     ...                         ...        ...   \n",
       "4999     Rachel   Hensley  female   RachelHensley38@gmail.com     9-9-17   \n",
       "5000       Leon    Harmon    male       Leon.Harmon@gmail.com     9-9-17   \n",
       "5001       Andy     Pratt    male       AndyPratt27@gmail.com     9-9-17   \n",
       "5002      Ruben   Nielsen    male  RubenNielsen93@hotmail.com     9-9-17   \n",
       "5003    Charles    Carver    male            CC2490@gmail.com     9-9-17   \n",
       "\n",
       "     fitness_test_date application_date purchase_date ab_test_group  \n",
       "0           2017-07-03             None          None             A  \n",
       "1           2017-07-02             None          None             A  \n",
       "2                 None       2017-07-04    2017-07-04             B  \n",
       "3           2017-07-01       2017-07-03    2017-07-05             A  \n",
       "4           2017-07-02             None          None             A  \n",
       "...                ...              ...           ...           ...  \n",
       "4999              None             None          None             B  \n",
       "5000        2017-09-15             None          None             A  \n",
       "5001        2017-09-15             None          None             A  \n",
       "5002              None       2017-09-13          None             B  \n",
       "5003        2017-09-12             None          None             A  \n",
       "\n",
       "[5004 rows x 9 columns]"
      ],
      "text/html": "<div>\n<style scoped>\n    .dataframe tbody tr th:only-of-type {\n        vertical-align: middle;\n    }\n\n    .dataframe tbody tr th {\n        vertical-align: top;\n    }\n\n    .dataframe thead th {\n        text-align: right;\n    }\n</style>\n<table border=\"1\" class=\"dataframe\">\n  <thead>\n    <tr style=\"text-align: right;\">\n      <th></th>\n      <th>first_name</th>\n      <th>last_name</th>\n      <th>gender</th>\n      <th>email</th>\n      <th>visit_date</th>\n      <th>fitness_test_date</th>\n      <th>application_date</th>\n      <th>purchase_date</th>\n      <th>ab_test_group</th>\n    </tr>\n  </thead>\n  <tbody>\n    <tr>\n      <th>0</th>\n      <td>Kim</td>\n      <td>Walter</td>\n      <td>female</td>\n      <td>KimWalter58@gmail.com</td>\n      <td>7-1-17</td>\n      <td>2017-07-03</td>\n      <td>None</td>\n      <td>None</td>\n      <td>A</td>\n    </tr>\n    <tr>\n      <th>1</th>\n      <td>Tom</td>\n      <td>Webster</td>\n      <td>male</td>\n      <td>TW3857@gmail.com</td>\n      <td>7-1-17</td>\n      <td>2017-07-02</td>\n      <td>None</td>\n      <td>None</td>\n      <td>A</td>\n    </tr>\n    <tr>\n      <th>2</th>\n      <td>Edward</td>\n      <td>Bowen</td>\n      <td>male</td>\n      <td>Edward.Bowen@gmail.com</td>\n      <td>7-1-17</td>\n      <td>None</td>\n      <td>2017-07-04</td>\n      <td>2017-07-04</td>\n      <td>B</td>\n    </tr>\n    <tr>\n      <th>3</th>\n      <td>Marcus</td>\n      <td>Bauer</td>\n      <td>male</td>\n      <td>Marcus.Bauer@gmail.com</td>\n      <td>7-1-17</td>\n      <td>2017-07-01</td>\n      <td>2017-07-03</td>\n      <td>2017-07-05</td>\n      <td>A</td>\n    </tr>\n    <tr>\n      <th>4</th>\n      <td>Roberta</td>\n      <td>Best</td>\n      <td>female</td>\n      <td>RB6305@hotmail.com</td>\n      <td>7-1-17</td>\n      <td>2017-07-02</td>\n      <td>None</td>\n      <td>None</td>\n      <td>A</td>\n    </tr>\n    <tr>\n      <th>...</th>\n      <td>...</td>\n      <td>...</td>\n      <td>...</td>\n      <td>...</td>\n      <td>...</td>\n      <td>...</td>\n      <td>...</td>\n      <td>...</td>\n      <td>...</td>\n    </tr>\n    <tr>\n      <th>4999</th>\n      <td>Rachel</td>\n      <td>Hensley</td>\n      <td>female</td>\n      <td>RachelHensley38@gmail.com</td>\n      <td>9-9-17</td>\n      <td>None</td>\n      <td>None</td>\n      <td>None</td>\n      <td>B</td>\n    </tr>\n    <tr>\n      <th>5000</th>\n      <td>Leon</td>\n      <td>Harmon</td>\n      <td>male</td>\n      <td>Leon.Harmon@gmail.com</td>\n      <td>9-9-17</td>\n      <td>2017-09-15</td>\n      <td>None</td>\n      <td>None</td>\n      <td>A</td>\n    </tr>\n    <tr>\n      <th>5001</th>\n      <td>Andy</td>\n      <td>Pratt</td>\n      <td>male</td>\n      <td>AndyPratt27@gmail.com</td>\n      <td>9-9-17</td>\n      <td>2017-09-15</td>\n      <td>None</td>\n      <td>None</td>\n      <td>A</td>\n    </tr>\n    <tr>\n      <th>5002</th>\n      <td>Ruben</td>\n      <td>Nielsen</td>\n      <td>male</td>\n      <td>RubenNielsen93@hotmail.com</td>\n      <td>9-9-17</td>\n      <td>None</td>\n      <td>2017-09-13</td>\n      <td>None</td>\n      <td>B</td>\n    </tr>\n    <tr>\n      <th>5003</th>\n      <td>Charles</td>\n      <td>Carver</td>\n      <td>male</td>\n      <td>CC2490@gmail.com</td>\n      <td>9-9-17</td>\n      <td>2017-09-12</td>\n      <td>None</td>\n      <td>None</td>\n      <td>A</td>\n    </tr>\n  </tbody>\n</table>\n<p>5004 rows × 9 columns</p>\n</div>"
     },
     "metadata": {},
     "execution_count": 12
    }
   ],
   "source": [
    "df['ab_test_group'] = df.fitness_test_date.apply(lambda x: 'A' if not pd.isna(x) else 'B')\n",
    "df"
   ]
  },
  {
   "cell_type": "markdown",
   "metadata": {},
   "source": [
    "Let's do a quick sanity check that Janet split her visitors such that about half are in A and half are in B.\n",
    "\n",
    "Start by using `groupby` to count how many users are in each `ab_test_group`.  Save the results to `ab_counts`."
   ]
  },
  {
   "cell_type": "code",
   "execution_count": 15,
   "metadata": {},
   "outputs": [
    {
     "output_type": "execute_result",
     "data": {
      "text/plain": [
       "  group  count\n",
       "0     A   2504\n",
       "1     B   2500"
      ],
      "text/html": "<div>\n<style scoped>\n    .dataframe tbody tr th:only-of-type {\n        vertical-align: middle;\n    }\n\n    .dataframe tbody tr th {\n        vertical-align: top;\n    }\n\n    .dataframe thead th {\n        text-align: right;\n    }\n</style>\n<table border=\"1\" class=\"dataframe\">\n  <thead>\n    <tr style=\"text-align: right;\">\n      <th></th>\n      <th>group</th>\n      <th>count</th>\n    </tr>\n  </thead>\n  <tbody>\n    <tr>\n      <th>0</th>\n      <td>A</td>\n      <td>2504</td>\n    </tr>\n    <tr>\n      <th>1</th>\n      <td>B</td>\n      <td>2500</td>\n    </tr>\n  </tbody>\n</table>\n</div>"
     },
     "metadata": {},
     "execution_count": 15
    }
   ],
   "source": [
    "ab_counts = df.groupby('ab_test_group').first_name.count().reset_index()\n",
    "ab_counts.columns = ['group', 'count']\n",
    "ab_counts"
   ]
  },
  {
   "cell_type": "markdown",
   "metadata": {},
   "source": [
    "We'll want to include this information in our presentation.  Let's create a pie cart using `plt.pie`.  Make sure to include:\n",
    "- Use `plt.axis('equal')` so that your pie chart looks nice\n",
    "- Add a legend labeling `A` and `B`\n",
    "- Use `autopct` to label the percentage of each group\n",
    "- Save your figure as `ab_test_pie_chart.png`"
   ]
  },
  {
   "cell_type": "code",
   "execution_count": 16,
   "metadata": {},
   "outputs": [
    {
     "output_type": "display_data",
     "data": {
      "text/plain": "<Figure size 432x288 with 1 Axes>",
      "image/svg+xml": "<?xml version=\"1.0\" encoding=\"utf-8\" standalone=\"no\"?>\n<!DOCTYPE svg PUBLIC \"-//W3C//DTD SVG 1.1//EN\"\n  \"http://www.w3.org/Graphics/SVG/1.1/DTD/svg11.dtd\">\n<!-- Created with matplotlib (https://matplotlib.org/) -->\n<svg height=\"261.639826pt\" version=\"1.1\" viewBox=\"0 0 349.2 261.639826\" width=\"349.2pt\" xmlns=\"http://www.w3.org/2000/svg\" xmlns:xlink=\"http://www.w3.org/1999/xlink\">\n <metadata>\n  <rdf:RDF xmlns:cc=\"http://creativecommons.org/ns#\" xmlns:dc=\"http://purl.org/dc/elements/1.1/\" xmlns:rdf=\"http://www.w3.org/1999/02/22-rdf-syntax-ns#\">\n   <cc:Work>\n    <dc:type rdf:resource=\"http://purl.org/dc/dcmitype/StillImage\"/>\n    <dc:date>2021-03-06T09:28:09.098079</dc:date>\n    <dc:format>image/svg+xml</dc:format>\n    <dc:creator>\n     <cc:Agent>\n      <dc:title>Matplotlib v3.3.4, https://matplotlib.org/</dc:title>\n     </cc:Agent>\n    </dc:creator>\n   </cc:Work>\n  </rdf:RDF>\n </metadata>\n <defs>\n  <style type=\"text/css\">*{stroke-linecap:butt;stroke-linejoin:round;}</style>\n </defs>\n <g id=\"figure_1\">\n  <g id=\"patch_1\">\n   <path d=\"M 0 261.639826 \nL 349.2 261.639826 \nL 349.2 0 \nL 0 0 \nz\n\" style=\"fill:none;\"/>\n  </g>\n  <g id=\"axes_1\">\n   <g id=\"patch_2\">\n    <path d=\"M 273.428001 140.907812 \nC 273.428001 127.921519 270.867927 115.061705 265.894522 103.065496 \nC 260.921116 91.069287 253.631256 80.170354 244.442797 70.993426 \nC 235.254338 61.816497 224.34626 54.540329 212.343815 49.581992 \nC 200.341369 44.623654 187.478351 42.07973 174.492069 42.096037 \nC 161.505786 42.112344 148.649197 44.688565 136.659243 49.677031 \nC 124.669288 54.665496 113.779518 61.969036 104.614135 71.169012 \nC 95.448752 80.368987 88.186287 91.286194 83.243025 103.294856 \nC 78.299763 115.303518 75.771994 128.16972 75.804608 141.155972 \nL 174.616149 140.907812 \nL 273.428001 140.907812 \nz\n\" style=\"fill:#1f77b4;\"/>\n   </g>\n   <g id=\"patch_3\">\n    <path d=\"M 75.804608 141.155972 \nC 75.870345 167.330916 86.333983 192.436186 104.877352 210.909829 \nC 123.420721 229.383472 148.565232 239.752457 174.740238 239.719586 \nC 200.915244 239.686715 226.033633 229.254609 244.530545 210.73445 \nC 263.027457 192.214292 273.428006 167.08282 273.428001 140.907793 \nL 174.616149 140.907812 \nL 75.804608 141.155972 \nz\n\" style=\"fill:#ff7f0e;\"/>\n   </g>\n   <g id=\"matplotlib.axis_1\"/>\n   <g id=\"matplotlib.axis_2\"/>\n   <g id=\"text_1\">\n    <!-- A -->\n    <g transform=\"translate(167.639036 34.974235)scale(0.1 -0.1)\">\n     <defs>\n      <path d=\"M 34.1875 63.1875 \nL 20.796875 26.90625 \nL 47.609375 26.90625 \nz\nM 28.609375 72.90625 \nL 39.796875 72.90625 \nL 67.578125 0 \nL 57.328125 0 \nL 50.6875 18.703125 \nL 17.828125 18.703125 \nL 11.1875 0 \nL 0.78125 0 \nz\n\" id=\"DejaVuSans-65\"/>\n     </defs>\n     <use xlink:href=\"#DejaVuSans-65\"/>\n    </g>\n   </g>\n   <g id=\"text_2\">\n    <!-- 50% -->\n    <g transform=\"translate(163.42842 84.380122)scale(0.1 -0.1)\">\n     <defs>\n      <path d=\"M 10.796875 72.90625 \nL 49.515625 72.90625 \nL 49.515625 64.59375 \nL 19.828125 64.59375 \nL 19.828125 46.734375 \nQ 21.96875 47.46875 24.109375 47.828125 \nQ 26.265625 48.1875 28.421875 48.1875 \nQ 40.625 48.1875 47.75 41.5 \nQ 54.890625 34.8125 54.890625 23.390625 \nQ 54.890625 11.625 47.5625 5.09375 \nQ 40.234375 -1.421875 26.90625 -1.421875 \nQ 22.3125 -1.421875 17.546875 -0.640625 \nQ 12.796875 0.140625 7.71875 1.703125 \nL 7.71875 11.625 \nQ 12.109375 9.234375 16.796875 8.0625 \nQ 21.484375 6.890625 26.703125 6.890625 \nQ 35.15625 6.890625 40.078125 11.328125 \nQ 45.015625 15.765625 45.015625 23.390625 \nQ 45.015625 31 40.078125 35.4375 \nQ 35.15625 39.890625 26.703125 39.890625 \nQ 22.75 39.890625 18.8125 39.015625 \nQ 14.890625 38.140625 10.796875 36.28125 \nz\n\" id=\"DejaVuSans-53\"/>\n      <path d=\"M 31.78125 66.40625 \nQ 24.171875 66.40625 20.328125 58.90625 \nQ 16.5 51.421875 16.5 36.375 \nQ 16.5 21.390625 20.328125 13.890625 \nQ 24.171875 6.390625 31.78125 6.390625 \nQ 39.453125 6.390625 43.28125 13.890625 \nQ 47.125 21.390625 47.125 36.375 \nQ 47.125 51.421875 43.28125 58.90625 \nQ 39.453125 66.40625 31.78125 66.40625 \nz\nM 31.78125 74.21875 \nQ 44.046875 74.21875 50.515625 64.515625 \nQ 56.984375 54.828125 56.984375 36.375 \nQ 56.984375 17.96875 50.515625 8.265625 \nQ 44.046875 -1.421875 31.78125 -1.421875 \nQ 19.53125 -1.421875 13.0625 8.265625 \nQ 6.59375 17.96875 6.59375 36.375 \nQ 6.59375 54.828125 13.0625 64.515625 \nQ 19.53125 74.21875 31.78125 74.21875 \nz\n\" id=\"DejaVuSans-48\"/>\n      <path d=\"M 72.703125 32.078125 \nQ 68.453125 32.078125 66.03125 28.46875 \nQ 63.625 24.859375 63.625 18.40625 \nQ 63.625 12.0625 66.03125 8.421875 \nQ 68.453125 4.78125 72.703125 4.78125 \nQ 76.859375 4.78125 79.265625 8.421875 \nQ 81.6875 12.0625 81.6875 18.40625 \nQ 81.6875 24.8125 79.265625 28.4375 \nQ 76.859375 32.078125 72.703125 32.078125 \nz\nM 72.703125 38.28125 \nQ 80.421875 38.28125 84.953125 32.90625 \nQ 89.5 27.546875 89.5 18.40625 \nQ 89.5 9.28125 84.9375 3.921875 \nQ 80.375 -1.421875 72.703125 -1.421875 \nQ 64.890625 -1.421875 60.34375 3.921875 \nQ 55.8125 9.28125 55.8125 18.40625 \nQ 55.8125 27.59375 60.375 32.9375 \nQ 64.9375 38.28125 72.703125 38.28125 \nz\nM 22.3125 68.015625 \nQ 18.109375 68.015625 15.6875 64.375 \nQ 13.28125 60.75 13.28125 54.390625 \nQ 13.28125 47.953125 15.671875 44.328125 \nQ 18.0625 40.71875 22.3125 40.71875 \nQ 26.5625 40.71875 28.96875 44.328125 \nQ 31.390625 47.953125 31.390625 54.390625 \nQ 31.390625 60.6875 28.953125 64.34375 \nQ 26.515625 68.015625 22.3125 68.015625 \nz\nM 66.40625 74.21875 \nL 74.21875 74.21875 \nL 28.609375 -1.421875 \nL 20.796875 -1.421875 \nz\nM 22.3125 74.21875 \nQ 30.03125 74.21875 34.609375 68.875 \nQ 39.203125 63.53125 39.203125 54.390625 \nQ 39.203125 45.171875 34.640625 39.84375 \nQ 30.078125 34.515625 22.3125 34.515625 \nQ 14.546875 34.515625 10.03125 39.859375 \nQ 5.515625 45.21875 5.515625 54.390625 \nQ 5.515625 63.484375 10.046875 68.84375 \nQ 14.59375 74.21875 22.3125 74.21875 \nz\n\" id=\"DejaVuSans-37\"/>\n     </defs>\n     <use xlink:href=\"#DejaVuSans-53\"/>\n     <use x=\"63.623047\" xlink:href=\"#DejaVuSans-48\"/>\n     <use x=\"127.246094\" xlink:href=\"#DejaVuSans-37\"/>\n    </g>\n   </g>\n   <g id=\"text_3\">\n    <!-- B -->\n    <g transform=\"translate(174.752647 252.360139)scale(0.1 -0.1)\">\n     <defs>\n      <path d=\"M 19.671875 34.8125 \nL 19.671875 8.109375 \nL 35.5 8.109375 \nQ 43.453125 8.109375 47.28125 11.40625 \nQ 51.125 14.703125 51.125 21.484375 \nQ 51.125 28.328125 47.28125 31.5625 \nQ 43.453125 34.8125 35.5 34.8125 \nz\nM 19.671875 64.796875 \nL 19.671875 42.828125 \nL 34.28125 42.828125 \nQ 41.5 42.828125 45.03125 45.53125 \nQ 48.578125 48.25 48.578125 53.8125 \nQ 48.578125 59.328125 45.03125 62.0625 \nQ 41.5 64.796875 34.28125 64.796875 \nz\nM 9.8125 72.90625 \nL 35.015625 72.90625 \nQ 46.296875 72.90625 52.390625 68.21875 \nQ 58.5 63.53125 58.5 54.890625 \nQ 58.5 48.1875 55.375 44.234375 \nQ 52.25 40.28125 46.1875 39.3125 \nQ 53.46875 37.75 57.5 32.78125 \nQ 61.53125 27.828125 61.53125 20.40625 \nQ 61.53125 10.640625 54.890625 5.3125 \nQ 48.25 0 35.984375 0 \nL 9.8125 0 \nz\n\" id=\"DejaVuSans-66\"/>\n     </defs>\n     <use xlink:href=\"#DejaVuSans-66\"/>\n    </g>\n   </g>\n   <g id=\"text_4\">\n    <!-- 49% -->\n    <g transform=\"translate(163.577321 202.954252)scale(0.1 -0.1)\">\n     <defs>\n      <path d=\"M 37.796875 64.3125 \nL 12.890625 25.390625 \nL 37.796875 25.390625 \nz\nM 35.203125 72.90625 \nL 47.609375 72.90625 \nL 47.609375 25.390625 \nL 58.015625 25.390625 \nL 58.015625 17.1875 \nL 47.609375 17.1875 \nL 47.609375 0 \nL 37.796875 0 \nL 37.796875 17.1875 \nL 4.890625 17.1875 \nL 4.890625 26.703125 \nz\n\" id=\"DejaVuSans-52\"/>\n      <path d=\"M 10.984375 1.515625 \nL 10.984375 10.5 \nQ 14.703125 8.734375 18.5 7.8125 \nQ 22.3125 6.890625 25.984375 6.890625 \nQ 35.75 6.890625 40.890625 13.453125 \nQ 46.046875 20.015625 46.78125 33.40625 \nQ 43.953125 29.203125 39.59375 26.953125 \nQ 35.25 24.703125 29.984375 24.703125 \nQ 19.046875 24.703125 12.671875 31.3125 \nQ 6.296875 37.9375 6.296875 49.421875 \nQ 6.296875 60.640625 12.9375 67.421875 \nQ 19.578125 74.21875 30.609375 74.21875 \nQ 43.265625 74.21875 49.921875 64.515625 \nQ 56.59375 54.828125 56.59375 36.375 \nQ 56.59375 19.140625 48.40625 8.859375 \nQ 40.234375 -1.421875 26.421875 -1.421875 \nQ 22.703125 -1.421875 18.890625 -0.6875 \nQ 15.09375 0.046875 10.984375 1.515625 \nz\nM 30.609375 32.421875 \nQ 37.25 32.421875 41.125 36.953125 \nQ 45.015625 41.5 45.015625 49.421875 \nQ 45.015625 57.28125 41.125 61.84375 \nQ 37.25 66.40625 30.609375 66.40625 \nQ 23.96875 66.40625 20.09375 61.84375 \nQ 16.21875 57.28125 16.21875 49.421875 \nQ 16.21875 41.5 20.09375 36.953125 \nQ 23.96875 32.421875 30.609375 32.421875 \nz\n\" id=\"DejaVuSans-57\"/>\n     </defs>\n     <use xlink:href=\"#DejaVuSans-52\"/>\n     <use x=\"63.623047\" xlink:href=\"#DejaVuSans-57\"/>\n     <use x=\"127.246094\" xlink:href=\"#DejaVuSans-37\"/>\n    </g>\n   </g>\n   <g id=\"text_5\">\n    <!-- Group Distribution -->\n    <g transform=\"translate(59.656641 26.196094)scale(0.25 -0.25)\">\n     <defs>\n      <path d=\"M 59.515625 10.40625 \nL 59.515625 29.984375 \nL 43.40625 29.984375 \nL 43.40625 38.09375 \nL 69.28125 38.09375 \nL 69.28125 6.78125 \nQ 63.578125 2.734375 56.6875 0.65625 \nQ 49.8125 -1.421875 42 -1.421875 \nQ 24.90625 -1.421875 15.25 8.5625 \nQ 5.609375 18.5625 5.609375 36.375 \nQ 5.609375 54.25 15.25 64.234375 \nQ 24.90625 74.21875 42 74.21875 \nQ 49.125 74.21875 55.546875 72.453125 \nQ 61.96875 70.703125 67.390625 67.28125 \nL 67.390625 56.78125 \nQ 61.921875 61.421875 55.765625 63.765625 \nQ 49.609375 66.109375 42.828125 66.109375 \nQ 29.4375 66.109375 22.71875 58.640625 \nQ 16.015625 51.171875 16.015625 36.375 \nQ 16.015625 21.625 22.71875 14.15625 \nQ 29.4375 6.6875 42.828125 6.6875 \nQ 48.046875 6.6875 52.140625 7.59375 \nQ 56.25 8.5 59.515625 10.40625 \nz\n\" id=\"DejaVuSans-71\"/>\n      <path d=\"M 41.109375 46.296875 \nQ 39.59375 47.171875 37.8125 47.578125 \nQ 36.03125 48 33.890625 48 \nQ 26.265625 48 22.1875 43.046875 \nQ 18.109375 38.09375 18.109375 28.8125 \nL 18.109375 0 \nL 9.078125 0 \nL 9.078125 54.6875 \nL 18.109375 54.6875 \nL 18.109375 46.1875 \nQ 20.953125 51.171875 25.484375 53.578125 \nQ 30.03125 56 36.53125 56 \nQ 37.453125 56 38.578125 55.875 \nQ 39.703125 55.765625 41.0625 55.515625 \nz\n\" id=\"DejaVuSans-114\"/>\n      <path d=\"M 30.609375 48.390625 \nQ 23.390625 48.390625 19.1875 42.75 \nQ 14.984375 37.109375 14.984375 27.296875 \nQ 14.984375 17.484375 19.15625 11.84375 \nQ 23.34375 6.203125 30.609375 6.203125 \nQ 37.796875 6.203125 41.984375 11.859375 \nQ 46.1875 17.53125 46.1875 27.296875 \nQ 46.1875 37.015625 41.984375 42.703125 \nQ 37.796875 48.390625 30.609375 48.390625 \nz\nM 30.609375 56 \nQ 42.328125 56 49.015625 48.375 \nQ 55.71875 40.765625 55.71875 27.296875 \nQ 55.71875 13.875 49.015625 6.21875 \nQ 42.328125 -1.421875 30.609375 -1.421875 \nQ 18.84375 -1.421875 12.171875 6.21875 \nQ 5.515625 13.875 5.515625 27.296875 \nQ 5.515625 40.765625 12.171875 48.375 \nQ 18.84375 56 30.609375 56 \nz\n\" id=\"DejaVuSans-111\"/>\n      <path d=\"M 8.5 21.578125 \nL 8.5 54.6875 \nL 17.484375 54.6875 \nL 17.484375 21.921875 \nQ 17.484375 14.15625 20.5 10.265625 \nQ 23.53125 6.390625 29.59375 6.390625 \nQ 36.859375 6.390625 41.078125 11.03125 \nQ 45.3125 15.671875 45.3125 23.6875 \nL 45.3125 54.6875 \nL 54.296875 54.6875 \nL 54.296875 0 \nL 45.3125 0 \nL 45.3125 8.40625 \nQ 42.046875 3.421875 37.71875 1 \nQ 33.40625 -1.421875 27.6875 -1.421875 \nQ 18.265625 -1.421875 13.375 4.4375 \nQ 8.5 10.296875 8.5 21.578125 \nz\nM 31.109375 56 \nz\n\" id=\"DejaVuSans-117\"/>\n      <path d=\"M 18.109375 8.203125 \nL 18.109375 -20.796875 \nL 9.078125 -20.796875 \nL 9.078125 54.6875 \nL 18.109375 54.6875 \nL 18.109375 46.390625 \nQ 20.953125 51.265625 25.265625 53.625 \nQ 29.59375 56 35.59375 56 \nQ 45.5625 56 51.78125 48.09375 \nQ 58.015625 40.1875 58.015625 27.296875 \nQ 58.015625 14.40625 51.78125 6.484375 \nQ 45.5625 -1.421875 35.59375 -1.421875 \nQ 29.59375 -1.421875 25.265625 0.953125 \nQ 20.953125 3.328125 18.109375 8.203125 \nz\nM 48.6875 27.296875 \nQ 48.6875 37.203125 44.609375 42.84375 \nQ 40.53125 48.484375 33.40625 48.484375 \nQ 26.265625 48.484375 22.1875 42.84375 \nQ 18.109375 37.203125 18.109375 27.296875 \nQ 18.109375 17.390625 22.1875 11.75 \nQ 26.265625 6.109375 33.40625 6.109375 \nQ 40.53125 6.109375 44.609375 11.75 \nQ 48.6875 17.390625 48.6875 27.296875 \nz\n\" id=\"DejaVuSans-112\"/>\n      <path id=\"DejaVuSans-32\"/>\n      <path d=\"M 19.671875 64.796875 \nL 19.671875 8.109375 \nL 31.59375 8.109375 \nQ 46.6875 8.109375 53.6875 14.9375 \nQ 60.6875 21.78125 60.6875 36.53125 \nQ 60.6875 51.171875 53.6875 57.984375 \nQ 46.6875 64.796875 31.59375 64.796875 \nz\nM 9.8125 72.90625 \nL 30.078125 72.90625 \nQ 51.265625 72.90625 61.171875 64.09375 \nQ 71.09375 55.28125 71.09375 36.53125 \nQ 71.09375 17.671875 61.125 8.828125 \nQ 51.171875 0 30.078125 0 \nL 9.8125 0 \nz\n\" id=\"DejaVuSans-68\"/>\n      <path d=\"M 9.421875 54.6875 \nL 18.40625 54.6875 \nL 18.40625 0 \nL 9.421875 0 \nz\nM 9.421875 75.984375 \nL 18.40625 75.984375 \nL 18.40625 64.59375 \nL 9.421875 64.59375 \nz\n\" id=\"DejaVuSans-105\"/>\n      <path d=\"M 44.28125 53.078125 \nL 44.28125 44.578125 \nQ 40.484375 46.53125 36.375 47.5 \nQ 32.28125 48.484375 27.875 48.484375 \nQ 21.1875 48.484375 17.84375 46.4375 \nQ 14.5 44.390625 14.5 40.28125 \nQ 14.5 37.15625 16.890625 35.375 \nQ 19.28125 33.59375 26.515625 31.984375 \nL 29.59375 31.296875 \nQ 39.15625 29.25 43.1875 25.515625 \nQ 47.21875 21.78125 47.21875 15.09375 \nQ 47.21875 7.46875 41.1875 3.015625 \nQ 35.15625 -1.421875 24.609375 -1.421875 \nQ 20.21875 -1.421875 15.453125 -0.5625 \nQ 10.6875 0.296875 5.421875 2 \nL 5.421875 11.28125 \nQ 10.40625 8.6875 15.234375 7.390625 \nQ 20.0625 6.109375 24.8125 6.109375 \nQ 31.15625 6.109375 34.5625 8.28125 \nQ 37.984375 10.453125 37.984375 14.40625 \nQ 37.984375 18.0625 35.515625 20.015625 \nQ 33.0625 21.96875 24.703125 23.78125 \nL 21.578125 24.515625 \nQ 13.234375 26.265625 9.515625 29.90625 \nQ 5.8125 33.546875 5.8125 39.890625 \nQ 5.8125 47.609375 11.28125 51.796875 \nQ 16.75 56 26.8125 56 \nQ 31.78125 56 36.171875 55.265625 \nQ 40.578125 54.546875 44.28125 53.078125 \nz\n\" id=\"DejaVuSans-115\"/>\n      <path d=\"M 18.3125 70.21875 \nL 18.3125 54.6875 \nL 36.8125 54.6875 \nL 36.8125 47.703125 \nL 18.3125 47.703125 \nL 18.3125 18.015625 \nQ 18.3125 11.328125 20.140625 9.421875 \nQ 21.96875 7.515625 27.59375 7.515625 \nL 36.8125 7.515625 \nL 36.8125 0 \nL 27.59375 0 \nQ 17.1875 0 13.234375 3.875 \nQ 9.28125 7.765625 9.28125 18.015625 \nL 9.28125 47.703125 \nL 2.6875 47.703125 \nL 2.6875 54.6875 \nL 9.28125 54.6875 \nL 9.28125 70.21875 \nz\n\" id=\"DejaVuSans-116\"/>\n      <path d=\"M 48.6875 27.296875 \nQ 48.6875 37.203125 44.609375 42.84375 \nQ 40.53125 48.484375 33.40625 48.484375 \nQ 26.265625 48.484375 22.1875 42.84375 \nQ 18.109375 37.203125 18.109375 27.296875 \nQ 18.109375 17.390625 22.1875 11.75 \nQ 26.265625 6.109375 33.40625 6.109375 \nQ 40.53125 6.109375 44.609375 11.75 \nQ 48.6875 17.390625 48.6875 27.296875 \nz\nM 18.109375 46.390625 \nQ 20.953125 51.265625 25.265625 53.625 \nQ 29.59375 56 35.59375 56 \nQ 45.5625 56 51.78125 48.09375 \nQ 58.015625 40.1875 58.015625 27.296875 \nQ 58.015625 14.40625 51.78125 6.484375 \nQ 45.5625 -1.421875 35.59375 -1.421875 \nQ 29.59375 -1.421875 25.265625 0.953125 \nQ 20.953125 3.328125 18.109375 8.203125 \nL 18.109375 0 \nL 9.078125 0 \nL 9.078125 75.984375 \nL 18.109375 75.984375 \nz\n\" id=\"DejaVuSans-98\"/>\n      <path d=\"M 54.890625 33.015625 \nL 54.890625 0 \nL 45.90625 0 \nL 45.90625 32.71875 \nQ 45.90625 40.484375 42.875 44.328125 \nQ 39.84375 48.1875 33.796875 48.1875 \nQ 26.515625 48.1875 22.3125 43.546875 \nQ 18.109375 38.921875 18.109375 30.90625 \nL 18.109375 0 \nL 9.078125 0 \nL 9.078125 54.6875 \nL 18.109375 54.6875 \nL 18.109375 46.1875 \nQ 21.34375 51.125 25.703125 53.5625 \nQ 30.078125 56 35.796875 56 \nQ 45.21875 56 50.046875 50.171875 \nQ 54.890625 44.34375 54.890625 33.015625 \nz\n\" id=\"DejaVuSans-110\"/>\n     </defs>\n     <use xlink:href=\"#DejaVuSans-71\"/>\n     <use x=\"77.490234\" xlink:href=\"#DejaVuSans-114\"/>\n     <use x=\"116.353516\" xlink:href=\"#DejaVuSans-111\"/>\n     <use x=\"177.535156\" xlink:href=\"#DejaVuSans-117\"/>\n     <use x=\"240.914062\" xlink:href=\"#DejaVuSans-112\"/>\n     <use x=\"304.390625\" xlink:href=\"#DejaVuSans-32\"/>\n     <use x=\"336.177734\" xlink:href=\"#DejaVuSans-68\"/>\n     <use x=\"413.179688\" xlink:href=\"#DejaVuSans-105\"/>\n     <use x=\"440.962891\" xlink:href=\"#DejaVuSans-115\"/>\n     <use x=\"493.0625\" xlink:href=\"#DejaVuSans-116\"/>\n     <use x=\"532.271484\" xlink:href=\"#DejaVuSans-114\"/>\n     <use x=\"573.384766\" xlink:href=\"#DejaVuSans-105\"/>\n     <use x=\"601.167969\" xlink:href=\"#DejaVuSans-98\"/>\n     <use x=\"664.644531\" xlink:href=\"#DejaVuSans-117\"/>\n     <use x=\"728.023438\" xlink:href=\"#DejaVuSans-116\"/>\n     <use x=\"767.232422\" xlink:href=\"#DejaVuSans-105\"/>\n     <use x=\"795.015625\" xlink:href=\"#DejaVuSans-111\"/>\n     <use x=\"856.197266\" xlink:href=\"#DejaVuSans-110\"/>\n    </g>\n   </g>\n  </g>\n </g>\n</svg>\n",
      "image/png": "[encoded data removed]"
     },
     "metadata": {}
    }
   ],
   "source": [
    "plt.pie(ab_counts['count'],\n",
    "        labels=ab_counts['group'],\n",
    "        autopct='%d%%')\n",
    "plt.axis('equal')\n",
    "plt.title('Group Distribution', fontsize=25)\n",
    "plt.savefig('ab_test_pie_chart.png')\n",
    "plt.show()"
   ]
  },
  {
   "cell_type": "markdown",
   "metadata": {},
   "source": [
    "## Step 4: Who picks up an application?"
   ]
  },
  {
   "cell_type": "markdown",
   "metadata": {},
   "source": [
    "Recall that the sign-up process for MuscleHub has several steps:\n",
    "1. Take a fitness test with a personal trainer (only Group A)\n",
    "2. Fill out an application for the gym\n",
    "3. Send in their payment for their first month's membership\n",
    "\n",
    "Let's examine how many people make it to Step 2, filling out an application.\n",
    "\n",
    "Start by creating a new column in `df` called `is_application` which is `Application` if `application_date` is not `None` and `No Application`, otherwise."
   ]
  },
  {
   "cell_type": "code",
   "execution_count": 17,
   "metadata": {
    "collapsed": true
   },
   "outputs": [
    {
     "output_type": "execute_result",
     "data": {
      "text/plain": [
       "     first_name last_name  gender                       email visit_date  \\\n",
       "0           Kim    Walter  female       KimWalter58@gmail.com     7-1-17   \n",
       "1           Tom   Webster    male            TW3857@gmail.com     7-1-17   \n",
       "2        Edward     Bowen    male      Edward.Bowen@gmail.com     7-1-17   \n",
       "3        Marcus     Bauer    male      Marcus.Bauer@gmail.com     7-1-17   \n",
       "4       Roberta      Best  female          RB6305@hotmail.com     7-1-17   \n",
       "...         ...       ...     ...                         ...        ...   \n",
       "4999     Rachel   Hensley  female   RachelHensley38@gmail.com     9-9-17   \n",
       "5000       Leon    Harmon    male       Leon.Harmon@gmail.com     9-9-17   \n",
       "5001       Andy     Pratt    male       AndyPratt27@gmail.com     9-9-17   \n",
       "5002      Ruben   Nielsen    male  RubenNielsen93@hotmail.com     9-9-17   \n",
       "5003    Charles    Carver    male            CC2490@gmail.com     9-9-17   \n",
       "\n",
       "     fitness_test_date application_date purchase_date ab_test_group  \\\n",
       "0           2017-07-03             None          None             A   \n",
       "1           2017-07-02             None          None             A   \n",
       "2                 None       2017-07-04    2017-07-04             B   \n",
       "3           2017-07-01       2017-07-03    2017-07-05             A   \n",
       "4           2017-07-02             None          None             A   \n",
       "...                ...              ...           ...           ...   \n",
       "4999              None             None          None             B   \n",
       "5000        2017-09-15             None          None             A   \n",
       "5001        2017-09-15             None          None             A   \n",
       "5002              None       2017-09-13          None             B   \n",
       "5003        2017-09-12             None          None             A   \n",
       "\n",
       "      is_application  \n",
       "0     No Application  \n",
       "1     No Application  \n",
       "2        Application  \n",
       "3        Application  \n",
       "4     No Application  \n",
       "...              ...  \n",
       "4999  No Application  \n",
       "5000  No Application  \n",
       "5001  No Application  \n",
       "5002     Application  \n",
       "5003  No Application  \n",
       "\n",
       "[5004 rows x 10 columns]"
      ],
      "text/html": "<div>\n<style scoped>\n    .dataframe tbody tr th:only-of-type {\n        vertical-align: middle;\n    }\n\n    .dataframe tbody tr th {\n        vertical-align: top;\n    }\n\n    .dataframe thead th {\n        text-align: right;\n    }\n</style>\n<table border=\"1\" class=\"dataframe\">\n  <thead>\n    <tr style=\"text-align: right;\">\n      <th></th>\n      <th>first_name</th>\n      <th>last_name</th>\n      <th>gender</th>\n      <th>email</th>\n      <th>visit_date</th>\n      <th>fitness_test_date</th>\n      <th>application_date</th>\n      <th>purchase_date</th>\n      <th>ab_test_group</th>\n      <th>is_application</th>\n    </tr>\n  </thead>\n  <tbody>\n    <tr>\n      <th>0</th>\n      <td>Kim</td>\n      <td>Walter</td>\n      <td>female</td>\n      <td>KimWalter58@gmail.com</td>\n      <td>7-1-17</td>\n      <td>2017-07-03</td>\n      <td>None</td>\n      <td>None</td>\n      <td>A</td>\n      <td>No Application</td>\n    </tr>\n    <tr>\n      <th>1</th>\n      <td>Tom</td>\n      <td>Webster</td>\n      <td>male</td>\n      <td>TW3857@gmail.com</td>\n      <td>7-1-17</td>\n      <td>2017-07-02</td>\n      <td>None</td>\n      <td>None</td>\n      <td>A</td>\n      <td>No Application</td>\n    </tr>\n    <tr>\n      <th>2</th>\n      <td>Edward</td>\n      <td>Bowen</td>\n      <td>male</td>\n      <td>Edward.Bowen@gmail.com</td>\n      <td>7-1-17</td>\n      <td>None</td>\n      <td>2017-07-04</td>\n      <td>2017-07-04</td>\n      <td>B</td>\n      <td>Application</td>\n    </tr>\n    <tr>\n      <th>3</th>\n      <td>Marcus</td>\n      <td>Bauer</td>\n      <td>male</td>\n      <td>Marcus.Bauer@gmail.com</td>\n      <td>7-1-17</td>\n      <td>2017-07-01</td>\n      <td>2017-07-03</td>\n      <td>2017-07-05</td>\n      <td>A</td>\n      <td>Application</td>\n    </tr>\n    <tr>\n      <th>4</th>\n      <td>Roberta</td>\n      <td>Best</td>\n      <td>female</td>\n      <td>RB6305@hotmail.com</td>\n      <td>7-1-17</td>\n      <td>2017-07-02</td>\n      <td>None</td>\n      <td>None</td>\n      <td>A</td>\n      <td>No Application</td>\n    </tr>\n    <tr>\n      <th>...</th>\n      <td>...</td>\n      <td>...</td>\n      <td>...</td>\n      <td>...</td>\n      <td>...</td>\n      <td>...</td>\n      <td>...</td>\n      <td>...</td>\n      <td>...</td>\n      <td>...</td>\n    </tr>\n    <tr>\n      <th>4999</th>\n      <td>Rachel</td>\n      <td>Hensley</td>\n      <td>female</td>\n      <td>RachelHensley38@gmail.com</td>\n      <td>9-9-17</td>\n      <td>None</td>\n      <td>None</td>\n      <td>None</td>\n      <td>B</td>\n      <td>No Application</td>\n    </tr>\n    <tr>\n      <th>5000</th>\n      <td>Leon</td>\n      <td>Harmon</td>\n      <td>male</td>\n      <td>Leon.Harmon@gmail.com</td>\n      <td>9-9-17</td>\n      <td>2017-09-15</td>\n      <td>None</td>\n      <td>None</td>\n      <td>A</td>\n      <td>No Application</td>\n    </tr>\n    <tr>\n      <th>5001</th>\n      <td>Andy</td>\n      <td>Pratt</td>\n      <td>male</td>\n      <td>AndyPratt27@gmail.com</td>\n      <td>9-9-17</td>\n      <td>2017-09-15</td>\n      <td>None</td>\n      <td>None</td>\n      <td>A</td>\n      <td>No Application</td>\n    </tr>\n    <tr>\n      <th>5002</th>\n      <td>Ruben</td>\n      <td>Nielsen</td>\n      <td>male</td>\n      <td>RubenNielsen93@hotmail.com</td>\n      <td>9-9-17</td>\n      <td>None</td>\n      <td>2017-09-13</td>\n      <td>None</td>\n      <td>B</td>\n      <td>Application</td>\n    </tr>\n    <tr>\n      <th>5003</th>\n      <td>Charles</td>\n      <td>Carver</td>\n      <td>male</td>\n      <td>CC2490@gmail.com</td>\n      <td>9-9-17</td>\n      <td>2017-09-12</td>\n      <td>None</td>\n      <td>None</td>\n      <td>A</td>\n      <td>No Application</td>\n    </tr>\n  </tbody>\n</table>\n<p>5004 rows × 10 columns</p>\n</div>"
     },
     "metadata": {},
     "execution_count": 17
    }
   ],
   "source": [
    "df['is_application'] = df.application_date.apply(lambda x: 'Application' if not pd.isna(x) else 'No Application')\n",
    "df"
   ]
  },
  {
   "cell_type": "markdown",
   "metadata": {},
   "source": [
    "Now, using `groupby`, count how many people from Group A and Group B either do or don't pick up an application.  You'll want to group by `ab_test_group` and `is_application`.  Save this new DataFrame as `app_counts`"
   ]
  },
  {
   "cell_type": "code",
   "execution_count": 19,
   "metadata": {},
   "outputs": [
    {
     "output_type": "execute_result",
     "data": {
      "text/plain": [
       "  group  is_application  count\n",
       "0     A     Application    250\n",
       "1     A  No Application   2254\n",
       "2     B     Application    325\n",
       "3     B  No Application   2175"
      ],
      "text/html": "<div>\n<style scoped>\n    .dataframe tbody tr th:only-of-type {\n        vertical-align: middle;\n    }\n\n    .dataframe tbody tr th {\n        vertical-align: top;\n    }\n\n    .dataframe thead th {\n        text-align: right;\n    }\n</style>\n<table border=\"1\" class=\"dataframe\">\n  <thead>\n    <tr style=\"text-align: right;\">\n      <th></th>\n      <th>group</th>\n      <th>is_application</th>\n      <th>count</th>\n    </tr>\n  </thead>\n  <tbody>\n    <tr>\n      <th>0</th>\n      <td>A</td>\n      <td>Application</td>\n      <td>250</td>\n    </tr>\n    <tr>\n      <th>1</th>\n      <td>A</td>\n      <td>No Application</td>\n      <td>2254</td>\n    </tr>\n    <tr>\n      <th>2</th>\n      <td>B</td>\n      <td>Application</td>\n      <td>325</td>\n    </tr>\n    <tr>\n      <th>3</th>\n      <td>B</td>\n      <td>No Application</td>\n      <td>2175</td>\n    </tr>\n  </tbody>\n</table>\n</div>"
     },
     "metadata": {},
     "execution_count": 19
    }
   ],
   "source": [
    "app_counts = df.groupby(['ab_test_group', 'is_application']).first_name.count().reset_index()\n",
    "app_counts.columns = ['group', 'is_application', 'count']\n",
    "app_counts"
   ]
  },
  {
   "cell_type": "markdown",
   "metadata": {},
   "source": [
    "We're going to want to calculate the percent of people in each group who complete an application.  It's going to be much easier to do this if we pivot `app_counts` such that:\n",
    "- The `index` is `ab_test_group`\n",
    "- The `columns` are `is_application`\n",
    "Perform this pivot and save it to the variable `app_pivot`.  Remember to call `reset_index()` at the end of the pivot!"
   ]
  },
  {
   "cell_type": "code",
   "execution_count": 23,
   "metadata": {},
   "outputs": [
    {
     "output_type": "execute_result",
     "data": {
      "text/plain": [
       "  Group  Application  No Application\n",
       "0     A          250            2254\n",
       "1     B          325            2175"
      ],
      "text/html": "<div>\n<style scoped>\n    .dataframe tbody tr th:only-of-type {\n        vertical-align: middle;\n    }\n\n    .dataframe tbody tr th {\n        vertical-align: top;\n    }\n\n    .dataframe thead th {\n        text-align: right;\n    }\n</style>\n<table border=\"1\" class=\"dataframe\">\n  <thead>\n    <tr style=\"text-align: right;\">\n      <th></th>\n      <th>Group</th>\n      <th>Application</th>\n      <th>No Application</th>\n    </tr>\n  </thead>\n  <tbody>\n    <tr>\n      <th>0</th>\n      <td>A</td>\n      <td>250</td>\n      <td>2254</td>\n    </tr>\n    <tr>\n      <th>1</th>\n      <td>B</td>\n      <td>325</td>\n      <td>2175</td>\n    </tr>\n  </tbody>\n</table>\n</div>"
     },
     "metadata": {},
     "execution_count": 23
    }
   ],
   "source": [
    "app_pivot = df.pivot_table(\n",
    "    index='ab_test_group',\n",
    "    columns='is_application',\n",
    "    values='first_name',\n",
    "    aggfunc='count'\n",
    ").reset_index()\n",
    "app_pivot.columns = ['Group', 'Application', 'No Application']\n",
    "app_pivot"
   ]
  },
  {
   "cell_type": "markdown",
   "metadata": {},
   "source": [
    "Define a new column called `Total`, which is the sum of `Application` and `No Application`."
   ]
  },
  {
   "cell_type": "code",
   "execution_count": 24,
   "metadata": {
    "collapsed": true
   },
   "outputs": [
    {
     "output_type": "execute_result",
     "data": {
      "text/plain": [
       "  Group  Application  No Application  Total\n",
       "0     A          250            2254   2504\n",
       "1     B          325            2175   2500"
      ],
      "text/html": "<div>\n<style scoped>\n    .dataframe tbody tr th:only-of-type {\n        vertical-align: middle;\n    }\n\n    .dataframe tbody tr th {\n        vertical-align: top;\n    }\n\n    .dataframe thead th {\n        text-align: right;\n    }\n</style>\n<table border=\"1\" class=\"dataframe\">\n  <thead>\n    <tr style=\"text-align: right;\">\n      <th></th>\n      <th>Group</th>\n      <th>Application</th>\n      <th>No Application</th>\n      <th>Total</th>\n    </tr>\n  </thead>\n  <tbody>\n    <tr>\n      <th>0</th>\n      <td>A</td>\n      <td>250</td>\n      <td>2254</td>\n      <td>2504</td>\n    </tr>\n    <tr>\n      <th>1</th>\n      <td>B</td>\n      <td>325</td>\n      <td>2175</td>\n      <td>2500</td>\n    </tr>\n  </tbody>\n</table>\n</div>"
     },
     "metadata": {},
     "execution_count": 24
    }
   ],
   "source": [
    "app_pivot['Total'] = app_pivot['Application'] + app_pivot['No Application']\n",
    "app_pivot"
   ]
  },
  {
   "cell_type": "markdown",
   "metadata": {},
   "source": [
    "Calculate another column called `Percent with Application`, which is equal to `Application` divided by `Total`."
   ]
  },
  {
   "cell_type": "code",
   "execution_count": 25,
   "metadata": {},
   "outputs": [
    {
     "output_type": "execute_result",
     "data": {
      "text/plain": [
       "  Group  Application  No Application  Total  Percent with Application\n",
       "0     A          250            2254   2504                   0.09984\n",
       "1     B          325            2175   2500                   0.13000"
      ],
      "text/html": "<div>\n<style scoped>\n    .dataframe tbody tr th:only-of-type {\n        vertical-align: middle;\n    }\n\n    .dataframe tbody tr th {\n        vertical-align: top;\n    }\n\n    .dataframe thead th {\n        text-align: right;\n    }\n</style>\n<table border=\"1\" class=\"dataframe\">\n  <thead>\n    <tr style=\"text-align: right;\">\n      <th></th>\n      <th>Group</th>\n      <th>Application</th>\n      <th>No Application</th>\n      <th>Total</th>\n      <th>Percent with Application</th>\n    </tr>\n  </thead>\n  <tbody>\n    <tr>\n      <th>0</th>\n      <td>A</td>\n      <td>250</td>\n      <td>2254</td>\n      <td>2504</td>\n      <td>0.09984</td>\n    </tr>\n    <tr>\n      <th>1</th>\n      <td>B</td>\n      <td>325</td>\n      <td>2175</td>\n      <td>2500</td>\n      <td>0.13000</td>\n    </tr>\n  </tbody>\n</table>\n</div>"
     },
     "metadata": {},
     "execution_count": 25
    }
   ],
   "source": [
    "app_pivot['Percent with Application'] = app_pivot['Application'] / app_pivot['Total']\n",
    "app_pivot"
   ]
  },
  {
   "cell_type": "markdown",
   "metadata": {},
   "source": [
    "It looks like more people from Group B turned in an application.  Why might that be?\n",
    "\n",
    "We need to know if this difference is statistically significant.\n",
    "\n",
    "Choose a hypothesis tests, import it from `scipy` and perform it.  Be sure to note the p-value.\n",
    "Is this result significant?"
   ]
  },
  {
   "cell_type": "code",
   "execution_count": 26,
   "metadata": {},
   "outputs": [],
   "source": [
    "from scipy.stats import chi2_contingency"
   ]
  },
  {
   "cell_type": "code",
   "execution_count": 27,
   "metadata": {},
   "outputs": [
    {
     "output_type": "stream",
     "name": "stdout",
     "text": [
      "[250, 2254]\n[325, 2175]\n"
     ]
    }
   ],
   "source": [
    "contingency = []\n",
    "for _, row in app_pivot.iterrows():\n",
    "    contingency.append([row['Application'], row['No Application']])\n",
    "\n",
    "for item in contingency:\n",
    "    print(item)"
   ]
  },
  {
   "cell_type": "code",
   "execution_count": 28,
   "metadata": {},
   "outputs": [
    {
     "output_type": "execute_result",
     "data": {
      "text/plain": [
       "0.0009647827600722304"
      ]
     },
     "metadata": {},
     "execution_count": 28
    }
   ],
   "source": [
    "_, pvalue, _, _ = chi2_contingency(contingency)\n",
    "\n",
    "pvalue"
   ]
  },
  {
   "cell_type": "markdown",
   "metadata": {},
   "source": [
    "## Step 4: Who purchases a membership?"
   ]
  },
  {
   "cell_type": "markdown",
   "metadata": {},
   "source": [
    "Of those who picked up an application, how many purchased a membership?\n",
    "\n",
    "Let's begin by adding a column to `df` called `is_member` which is `Member` if `purchase_date` is not `None`, and `Not Member` otherwise."
   ]
  },
  {
   "cell_type": "code",
   "execution_count": null,
   "metadata": {
    "collapsed": true
   },
   "outputs": [],
   "source": []
  },
  {
   "cell_type": "markdown",
   "metadata": {},
   "source": [
    "Now, let's create a DataFrame called `just_apps` the contains only people who picked up an application."
   ]
  },
  {
   "cell_type": "code",
   "execution_count": null,
   "metadata": {
    "collapsed": true
   },
   "outputs": [],
   "source": []
  },
  {
   "cell_type": "markdown",
   "metadata": {},
   "source": [
    "Great! Now, let's do a `groupby` to find out how many people in `just_apps` are and aren't members from each group.  Follow the same process that we did in Step 4, including pivoting the data.  You should end up with a DataFrame that looks like this:\n",
    "\n",
    "|is_member|ab_test_group|Member|Not Member|Total|Percent Purchase|\n",
    "|-|-|-|-|-|-|\n",
    "|0|A|?|?|?|?|\n",
    "|1|B|?|?|?|?|\n",
    "\n",
    "Save your final DataFrame as `member_pivot`."
   ]
  },
  {
   "cell_type": "code",
   "execution_count": null,
   "metadata": {},
   "outputs": [],
   "source": []
  },
  {
   "cell_type": "markdown",
   "metadata": {},
   "source": [
    "It looks like people who took the fitness test were more likely to purchase a membership **if** they picked up an application.  Why might that be?\n",
    "\n",
    "Just like before, we need to know if this difference is statistically significant.  Choose a hypothesis tests, import it from `scipy` and perform it.  Be sure to note the p-value.\n",
    "Is this result significant?"
   ]
  },
  {
   "cell_type": "code",
   "execution_count": null,
   "metadata": {},
   "outputs": [],
   "source": []
  },
  {
   "cell_type": "markdown",
   "metadata": {},
   "source": [
    "Previously, we looked at what percent of people **who picked up applications** purchased memberships.  What we really care about is what percentage of **all visitors** purchased memberships.  Return to `df` and do a `groupby` to find out how many people in `df` are and aren't members from each group.  Follow the same process that we did in Step 4, including pivoting the data.  You should end up with a DataFrame that looks like this:\n",
    "\n",
    "|is_member|ab_test_group|Member|Not Member|Total|Percent Purchase|\n",
    "|-|-|-|-|-|-|\n",
    "|0|A|?|?|?|?|\n",
    "|1|B|?|?|?|?|\n",
    "\n",
    "Save your final DataFrame as `final_member_pivot`."
   ]
  },
  {
   "cell_type": "code",
   "execution_count": null,
   "metadata": {},
   "outputs": [],
   "source": []
  },
  {
   "cell_type": "markdown",
   "metadata": {},
   "source": [
    "Previously, when we only considered people who had **already picked up an application**, we saw that there was no significant difference in membership between Group A and Group B.\n",
    "\n",
    "Now, when we consider all people who **visit MuscleHub**, we see that there might be a significant different in memberships between Group A and Group B.  Perform a significance test and check."
   ]
  },
  {
   "cell_type": "code",
   "execution_count": null,
   "metadata": {},
   "outputs": [],
   "source": []
  },
  {
   "cell_type": "markdown",
   "metadata": {},
   "source": [
    "## Step 5: Summarize the acquisition funel with a chart"
   ]
  },
  {
   "cell_type": "markdown",
   "metadata": {},
   "source": [
    "We'd like to make a bar chart for Janet that shows the difference between Group A (people who were given the fitness test) and Group B (people who were not given the fitness test) at each state of the process:\n",
    "- Percent of visitors who apply\n",
    "- Percent of applicants who purchase a membership\n",
    "- Percent of visitors who purchase a membership\n",
    "\n",
    "Create one plot for **each** of the three sets of percentages that you calculated in `app_pivot`, `member_pivot` and `final_member_pivot`.  Each plot should:\n",
    "- Label the two bars as `Fitness Test` and `No Fitness Test`\n",
    "- Make sure that the y-axis ticks are expressed as percents (i.e., `5%`)\n",
    "- Have a title"
   ]
  },
  {
   "cell_type": "code",
   "execution_count": null,
   "metadata": {},
   "outputs": [],
   "source": []
  },
  {
   "cell_type": "code",
   "execution_count": null,
   "metadata": {},
   "outputs": [],
   "source": []
  },
  {
   "cell_type": "code",
   "execution_count": null,
   "metadata": {},
   "outputs": [],
   "source": []
  }
 ],
 "metadata": {
  "kernelspec": {
   "name": "python38564bit78dd1c8fe20d43c58f42364ad82f1c62",
   "display_name": "Python 3.8.5 64-bit",
   "language": "python"
  },
  "language_info": {
   "codemirror_mode": {
    "name": "ipython",
    "version": 2
   },
   "file_extension": ".py",
   "mimetype": "text/x-python",
   "name": "python",
   "nbconvert_exporter": "python",
   "pygments_lexer": "ipython2",
   "version": "3.8.5-final"
  }
 },
 "nbformat": 4,
 "nbformat_minor": 2
}