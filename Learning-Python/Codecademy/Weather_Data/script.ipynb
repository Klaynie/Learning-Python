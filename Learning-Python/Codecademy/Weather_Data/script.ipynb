{
 "metadata": {
  "language_info": {
   "codemirror_mode": {
    "name": "ipython",
    "version": 3
   },
   "file_extension": ".py",
   "mimetype": "text/x-python",
   "name": "python",
   "nbconvert_exporter": "python",
   "pygments_lexer": "ipython3",
   "version": "3.7.6-final"
  },
  "orig_nbformat": 2,
  "kernelspec": {
   "name": "python3",
   "display_name": "Python 3",
   "language": "python"
  }
 },
 "nbformat": 4,
 "nbformat_minor": 2,
 "cells": [
  {
   "source": [
    "# Variance in Weather\n",
    "\n",
    "You are planning a trip to Basel and want to get a sense of the best time of the year to visit. Luckily, you got your hands on a dataset starting from 2015 that contains over 52,000 data points about weather conditions in Basel. Surely, with this much information, you can discover something useful about when to make your trip!"
   ],
   "cell_type": "markdown",
   "metadata": {}
  },
  {
   "cell_type": "code",
   "execution_count": 1,
   "metadata": {},
   "outputs": [],
   "source": [
    "import pandas as pd\n",
    "import numpy as np\n",
    "\n",
    "basel_data = pd.read_csv('basel_weather_dataexport_20210212T141159.csv', skiprows=9, delimiter=\",\")\n",
    "basel_data['timestamp'] = pd.to_datetime(basel_data.timestamp)"
   ]
  },
  {
   "source": [
    "## Explore the Data\n",
    "\n",
    "1. All of the weather data is stored in a variable named london_data.\n",
    "\n",
    "    Print the first few rows of the dataset by calling print(london_data.head()).\n",
    "\n",
    "    Take a look at the browser to see the columns of this dataset. Here are two questions to ask yourself:\n",
    "\n",
    "    * How often were measurements taken?\n",
    "    * Which columns might be the most useful when thinking about planning a trip."
   ],
   "cell_type": "markdown",
   "metadata": {}
  },
  {
   "cell_type": "code",
   "execution_count": 2,
   "metadata": {},
   "outputs": [
    {
     "output_type": "execute_result",
     "data": {
      "text/plain": [
       "            timestamp  Basel Temperature [2 m elevation corrected]  \\\n",
       "0 2015-02-01 00:00:00                                     0.670529   \n",
       "1 2015-02-01 01:00:00                                     2.120528   \n",
       "2 2015-02-01 02:00:00                                     1.090529   \n",
       "3 2015-02-01 03:00:00                                     1.020529   \n",
       "4 2015-02-01 04:00:00                                     0.430529   \n",
       "\n",
       "   Basel Relative Humidity [2 m]  Basel Wind Speed [10 m]  \\\n",
       "0                           78.0                16.299694   \n",
       "1                           72.0                17.610588   \n",
       "2                           91.0                30.070238   \n",
       "3                           89.0                31.667723   \n",
       "4                           90.0                31.394394   \n",
       "\n",
       "   Basel Wind Direction [10 m]  Basel Wind Speed [500 mb]  \\\n",
       "0                    226.78992                  53.630333   \n",
       "1                    229.14462                  53.050858   \n",
       "2                    238.21275                  50.814860   \n",
       "3                    261.50146                  60.055290   \n",
       "4                    266.05480                  70.298700   \n",
       "\n",
       "   Basel Wind Direction [500 mb]  Basel Mean Sea Level Pressure [MSL]  \n",
       "0                      276.55255                                986.7  \n",
       "1                      262.19983                                986.3  \n",
       "2                      277.32642                                986.4  \n",
       "3                      295.95065                                986.1  \n",
       "4                      302.87628                                986.7  "
      ],
      "text/html": "<div>\n<style scoped>\n    .dataframe tbody tr th:only-of-type {\n        vertical-align: middle;\n    }\n\n    .dataframe tbody tr th {\n        vertical-align: top;\n    }\n\n    .dataframe thead th {\n        text-align: right;\n    }\n</style>\n<table border=\"1\" class=\"dataframe\">\n  <thead>\n    <tr style=\"text-align: right;\">\n      <th></th>\n      <th>timestamp</th>\n      <th>Basel Temperature [2 m elevation corrected]</th>\n      <th>Basel Relative Humidity [2 m]</th>\n      <th>Basel Wind Speed [10 m]</th>\n      <th>Basel Wind Direction [10 m]</th>\n      <th>Basel Wind Speed [500 mb]</th>\n      <th>Basel Wind Direction [500 mb]</th>\n      <th>Basel Mean Sea Level Pressure [MSL]</th>\n    </tr>\n  </thead>\n  <tbody>\n    <tr>\n      <th>0</th>\n      <td>2015-02-01 00:00:00</td>\n      <td>0.670529</td>\n      <td>78.0</td>\n      <td>16.299694</td>\n      <td>226.78992</td>\n      <td>53.630333</td>\n      <td>276.55255</td>\n      <td>986.7</td>\n    </tr>\n    <tr>\n      <th>1</th>\n      <td>2015-02-01 01:00:00</td>\n      <td>2.120528</td>\n      <td>72.0</td>\n      <td>17.610588</td>\n      <td>229.14462</td>\n      <td>53.050858</td>\n      <td>262.19983</td>\n      <td>986.3</td>\n    </tr>\n    <tr>\n      <th>2</th>\n      <td>2015-02-01 02:00:00</td>\n      <td>1.090529</td>\n      <td>91.0</td>\n      <td>30.070238</td>\n      <td>238.21275</td>\n      <td>50.814860</td>\n      <td>277.32642</td>\n      <td>986.4</td>\n    </tr>\n    <tr>\n      <th>3</th>\n      <td>2015-02-01 03:00:00</td>\n      <td>1.020529</td>\n      <td>89.0</td>\n      <td>31.667723</td>\n      <td>261.50146</td>\n      <td>60.055290</td>\n      <td>295.95065</td>\n      <td>986.1</td>\n    </tr>\n    <tr>\n      <th>4</th>\n      <td>2015-02-01 04:00:00</td>\n      <td>0.430529</td>\n      <td>90.0</td>\n      <td>31.394394</td>\n      <td>266.05480</td>\n      <td>70.298700</td>\n      <td>302.87628</td>\n      <td>986.7</td>\n    </tr>\n  </tbody>\n</table>\n</div>"
     },
     "metadata": {},
     "execution_count": 2
    }
   ],
   "source": [
    "basel_data.head()"
   ]
  },
  {
   "cell_type": "code",
   "execution_count": 3,
   "metadata": {},
   "outputs": [
    {
     "output_type": "execute_result",
     "data": {
      "text/plain": [
       "                timestamp  Basel Temperature [2 m elevation corrected]  \\\n",
       "52891 2021-02-12 19:00:00                                    -1.619471   \n",
       "52892 2021-02-12 20:00:00                                    -2.839471   \n",
       "52893 2021-02-12 21:00:00                                    -3.459471   \n",
       "52894 2021-02-12 22:00:00                                    -4.029471   \n",
       "52895 2021-02-12 23:00:00                                    -4.479472   \n",
       "\n",
       "       Basel Relative Humidity [2 m]  Basel Wind Speed [10 m]  \\\n",
       "52891                           60.0                29.381382   \n",
       "52892                           60.0                32.283787   \n",
       "52893                           60.0                35.543507   \n",
       "52894                           61.0                36.973244   \n",
       "52895                           62.0                36.932910   \n",
       "\n",
       "       Basel Wind Direction [10 m]  Basel Wind Speed [500 mb]  \\\n",
       "52891                     97.03793                  66.794310   \n",
       "52892                     97.04577                  67.074090   \n",
       "52893                     96.98105                  67.635940   \n",
       "52894                     96.70984                  66.008730   \n",
       "52895                     96.15517                  65.835724   \n",
       "\n",
       "       Basel Wind Direction [500 mb]  Basel Mean Sea Level Pressure [MSL]  \n",
       "52891                      309.09387                               1025.0  \n",
       "52892                      308.89996                               1025.3  \n",
       "52893                      308.51690                               1026.5  \n",
       "52894                      309.24542                               1026.8  \n",
       "52895                      311.00910                               1027.5  "
      ],
      "text/html": "<div>\n<style scoped>\n    .dataframe tbody tr th:only-of-type {\n        vertical-align: middle;\n    }\n\n    .dataframe tbody tr th {\n        vertical-align: top;\n    }\n\n    .dataframe thead th {\n        text-align: right;\n    }\n</style>\n<table border=\"1\" class=\"dataframe\">\n  <thead>\n    <tr style=\"text-align: right;\">\n      <th></th>\n      <th>timestamp</th>\n      <th>Basel Temperature [2 m elevation corrected]</th>\n      <th>Basel Relative Humidity [2 m]</th>\n      <th>Basel Wind Speed [10 m]</th>\n      <th>Basel Wind Direction [10 m]</th>\n      <th>Basel Wind Speed [500 mb]</th>\n      <th>Basel Wind Direction [500 mb]</th>\n      <th>Basel Mean Sea Level Pressure [MSL]</th>\n    </tr>\n  </thead>\n  <tbody>\n    <tr>\n      <th>52891</th>\n      <td>2021-02-12 19:00:00</td>\n      <td>-1.619471</td>\n      <td>60.0</td>\n      <td>29.381382</td>\n      <td>97.03793</td>\n      <td>66.794310</td>\n      <td>309.09387</td>\n      <td>1025.0</td>\n    </tr>\n    <tr>\n      <th>52892</th>\n      <td>2021-02-12 20:00:00</td>\n      <td>-2.839471</td>\n      <td>60.0</td>\n      <td>32.283787</td>\n      <td>97.04577</td>\n      <td>67.074090</td>\n      <td>308.89996</td>\n      <td>1025.3</td>\n    </tr>\n    <tr>\n      <th>52893</th>\n      <td>2021-02-12 21:00:00</td>\n      <td>-3.459471</td>\n      <td>60.0</td>\n      <td>35.543507</td>\n      <td>96.98105</td>\n      <td>67.635940</td>\n      <td>308.51690</td>\n      <td>1026.5</td>\n    </tr>\n    <tr>\n      <th>52894</th>\n      <td>2021-02-12 22:00:00</td>\n      <td>-4.029471</td>\n      <td>61.0</td>\n      <td>36.973244</td>\n      <td>96.70984</td>\n      <td>66.008730</td>\n      <td>309.24542</td>\n      <td>1026.8</td>\n    </tr>\n    <tr>\n      <th>52895</th>\n      <td>2021-02-12 23:00:00</td>\n      <td>-4.479472</td>\n      <td>62.0</td>\n      <td>36.932910</td>\n      <td>96.15517</td>\n      <td>65.835724</td>\n      <td>311.00910</td>\n      <td>1027.5</td>\n    </tr>\n  </tbody>\n</table>\n</div>"
     },
     "metadata": {},
     "execution_count": 3
    }
   ],
   "source": [
    "basel_data.tail()"
   ]
  },
  {
   "source": [
    "2. Let us also take a look at how many data points we have. Print len(basel_data)"
   ],
   "cell_type": "markdown",
   "metadata": {}
  },
  {
   "cell_type": "code",
   "execution_count": 4,
   "metadata": {},
   "outputs": [
    {
     "output_type": "execute_result",
     "data": {
      "text/plain": [
       "52896"
      ]
     },
     "metadata": {},
     "execution_count": 4
    }
   ],
   "source": [
    "len(basel_data)"
   ]
  },
  {
   "cell_type": "code",
   "execution_count": 5,
   "metadata": {},
   "outputs": [
    {
     "output_type": "execute_result",
     "data": {
      "text/plain": [
       "                timestamp  Basel Temperature [2 m elevation corrected]  \\\n",
       "0     2015-02-01 00:00:00                                     0.670529   \n",
       "1     2015-02-01 01:00:00                                     2.120528   \n",
       "2     2015-02-01 02:00:00                                     1.090529   \n",
       "3     2015-02-01 03:00:00                                     1.020529   \n",
       "4     2015-02-01 04:00:00                                     0.430529   \n",
       "...                   ...                                          ...   \n",
       "51859 2020-12-31 19:00:00                                     4.990529   \n",
       "51860 2020-12-31 20:00:00                                     4.360529   \n",
       "51861 2020-12-31 21:00:00                                     3.820529   \n",
       "51862 2020-12-31 22:00:00                                     3.170529   \n",
       "51863 2020-12-31 23:00:00                                     3.290529   \n",
       "\n",
       "       Basel Relative Humidity [2 m]  Basel Wind Speed [10 m]  \\\n",
       "0                               78.0                16.299694   \n",
       "1                               72.0                17.610588   \n",
       "2                               91.0                30.070238   \n",
       "3                               89.0                31.667723   \n",
       "4                               90.0                31.394394   \n",
       "...                              ...                      ...   \n",
       "51859                           74.0                 3.259938   \n",
       "51860                           84.0                10.587917   \n",
       "51861                           88.0                 8.435069   \n",
       "51862                           89.0                 6.792466   \n",
       "51863                           89.0                 5.091168   \n",
       "\n",
       "       Basel Wind Direction [10 m]  Basel Wind Speed [500 mb]  \\\n",
       "0                        226.78992                  53.630333   \n",
       "1                        229.14462                  53.050858   \n",
       "2                        238.21275                  50.814860   \n",
       "3                        261.50146                  60.055290   \n",
       "4                        266.05480                  70.298700   \n",
       "...                            ...                        ...   \n",
       "51859                    186.34020                  92.671860   \n",
       "51860                    252.18112                  87.935110   \n",
       "51861                    219.80557                  78.100090   \n",
       "51862                    212.00539                  84.240770   \n",
       "51863                    225.00000                  76.095510   \n",
       "\n",
       "       Basel Wind Direction [500 mb]  Basel Mean Sea Level Pressure [MSL]  \\\n",
       "0                          276.55255                                986.7   \n",
       "1                          262.19983                                986.3   \n",
       "2                          277.32642                                986.4   \n",
       "3                          295.95065                                986.1   \n",
       "4                          302.87628                                986.7   \n",
       "...                              ...                                  ...   \n",
       "51859                      252.12814                               1001.1   \n",
       "51860                      255.05347                               1001.5   \n",
       "51861                      244.61615                               1002.5   \n",
       "51862                      241.68266                               1002.8   \n",
       "51863                      237.36249                               1003.1   \n",
       "\n",
       "       Year  \n",
       "0      2015  \n",
       "1      2015  \n",
       "2      2015  \n",
       "3      2015  \n",
       "4      2015  \n",
       "...     ...  \n",
       "51859  2020  \n",
       "51860  2020  \n",
       "51861  2020  \n",
       "51862  2020  \n",
       "51863  2020  \n",
       "\n",
       "[51864 rows x 9 columns]"
      ],
      "text/html": "<div>\n<style scoped>\n    .dataframe tbody tr th:only-of-type {\n        vertical-align: middle;\n    }\n\n    .dataframe tbody tr th {\n        vertical-align: top;\n    }\n\n    .dataframe thead th {\n        text-align: right;\n    }\n</style>\n<table border=\"1\" class=\"dataframe\">\n  <thead>\n    <tr style=\"text-align: right;\">\n      <th></th>\n      <th>timestamp</th>\n      <th>Basel Temperature [2 m elevation corrected]</th>\n      <th>Basel Relative Humidity [2 m]</th>\n      <th>Basel Wind Speed [10 m]</th>\n      <th>Basel Wind Direction [10 m]</th>\n      <th>Basel Wind Speed [500 mb]</th>\n      <th>Basel Wind Direction [500 mb]</th>\n      <th>Basel Mean Sea Level Pressure [MSL]</th>\n      <th>Year</th>\n    </tr>\n  </thead>\n  <tbody>\n    <tr>\n      <th>0</th>\n      <td>2015-02-01 00:00:00</td>\n      <td>0.670529</td>\n      <td>78.0</td>\n      <td>16.299694</td>\n      <td>226.78992</td>\n      <td>53.630333</td>\n      <td>276.55255</td>\n      <td>986.7</td>\n      <td>2015</td>\n    </tr>\n    <tr>\n      <th>1</th>\n      <td>2015-02-01 01:00:00</td>\n      <td>2.120528</td>\n      <td>72.0</td>\n      <td>17.610588</td>\n      <td>229.14462</td>\n      <td>53.050858</td>\n      <td>262.19983</td>\n      <td>986.3</td>\n      <td>2015</td>\n    </tr>\n    <tr>\n      <th>2</th>\n      <td>2015-02-01 02:00:00</td>\n      <td>1.090529</td>\n      <td>91.0</td>\n      <td>30.070238</td>\n      <td>238.21275</td>\n      <td>50.814860</td>\n      <td>277.32642</td>\n      <td>986.4</td>\n      <td>2015</td>\n    </tr>\n    <tr>\n      <th>3</th>\n      <td>2015-02-01 03:00:00</td>\n      <td>1.020529</td>\n      <td>89.0</td>\n      <td>31.667723</td>\n      <td>261.50146</td>\n      <td>60.055290</td>\n      <td>295.95065</td>\n      <td>986.1</td>\n      <td>2015</td>\n    </tr>\n    <tr>\n      <th>4</th>\n      <td>2015-02-01 04:00:00</td>\n      <td>0.430529</td>\n      <td>90.0</td>\n      <td>31.394394</td>\n      <td>266.05480</td>\n      <td>70.298700</td>\n      <td>302.87628</td>\n      <td>986.7</td>\n      <td>2015</td>\n    </tr>\n    <tr>\n      <th>...</th>\n      <td>...</td>\n      <td>...</td>\n      <td>...</td>\n      <td>...</td>\n      <td>...</td>\n      <td>...</td>\n      <td>...</td>\n      <td>...</td>\n      <td>...</td>\n    </tr>\n    <tr>\n      <th>51859</th>\n      <td>2020-12-31 19:00:00</td>\n      <td>4.990529</td>\n      <td>74.0</td>\n      <td>3.259938</td>\n      <td>186.34020</td>\n      <td>92.671860</td>\n      <td>252.12814</td>\n      <td>1001.1</td>\n      <td>2020</td>\n    </tr>\n    <tr>\n      <th>51860</th>\n      <td>2020-12-31 20:00:00</td>\n      <td>4.360529</td>\n      <td>84.0</td>\n      <td>10.587917</td>\n      <td>252.18112</td>\n      <td>87.935110</td>\n      <td>255.05347</td>\n      <td>1001.5</td>\n      <td>2020</td>\n    </tr>\n    <tr>\n      <th>51861</th>\n      <td>2020-12-31 21:00:00</td>\n      <td>3.820529</td>\n      <td>88.0</td>\n      <td>8.435069</td>\n      <td>219.80557</td>\n      <td>78.100090</td>\n      <td>244.61615</td>\n      <td>1002.5</td>\n      <td>2020</td>\n    </tr>\n    <tr>\n      <th>51862</th>\n      <td>2020-12-31 22:00:00</td>\n      <td>3.170529</td>\n      <td>89.0</td>\n      <td>6.792466</td>\n      <td>212.00539</td>\n      <td>84.240770</td>\n      <td>241.68266</td>\n      <td>1002.8</td>\n      <td>2020</td>\n    </tr>\n    <tr>\n      <th>51863</th>\n      <td>2020-12-31 23:00:00</td>\n      <td>3.290529</td>\n      <td>89.0</td>\n      <td>5.091168</td>\n      <td>225.00000</td>\n      <td>76.095510</td>\n      <td>237.36249</td>\n      <td>1003.1</td>\n      <td>2020</td>\n    </tr>\n  </tbody>\n</table>\n<p>51864 rows × 9 columns</p>\n</div>"
     },
     "metadata": {},
     "execution_count": 5
    }
   ],
   "source": [
    "basel_data[\"Year\"] = basel_data.timestamp.dt.year\n",
    "basel_data_full_years = basel_data[basel_data[\"Year\"] < 2021]\n",
    "basel_data_full_years"
   ]
  },
  {
   "source": [
    "## Looking At Temperature\n",
    "\n",
    "3. Now that we have seen what the data looks like, let us dive into one of the more promising columns — \"Basel Temperature\". This column stores the temperature in Celsius.\n",
    "\n",
    "    To get a single column from a DataFrame, you can use this syntax:\n",
    "\n",
    "        one_column = basel_data[\"column_name\"]\n",
    "\n",
    "    Create a variable named `temp` and set it equal to the \"Basel Temperature\" column of `basel_data`."
   ],
   "cell_type": "markdown",
   "metadata": {}
  },
  {
   "cell_type": "code",
   "execution_count": 6,
   "metadata": {},
   "outputs": [
    {
     "output_type": "execute_result",
     "data": {
      "text/plain": [
       "   year   avg_temp\n",
       "0  2015  13.435288\n",
       "1  2016  11.954561\n",
       "2  2017  12.385270\n",
       "3  2018  13.408479\n",
       "4  2019  12.695016\n",
       "5  2020  13.111039"
      ],
      "text/html": "<div>\n<style scoped>\n    .dataframe tbody tr th:only-of-type {\n        vertical-align: middle;\n    }\n\n    .dataframe tbody tr th {\n        vertical-align: top;\n    }\n\n    .dataframe thead th {\n        text-align: right;\n    }\n</style>\n<table border=\"1\" class=\"dataframe\">\n  <thead>\n    <tr style=\"text-align: right;\">\n      <th></th>\n      <th>year</th>\n      <th>avg_temp</th>\n    </tr>\n  </thead>\n  <tbody>\n    <tr>\n      <th>0</th>\n      <td>2015</td>\n      <td>13.435288</td>\n    </tr>\n    <tr>\n      <th>1</th>\n      <td>2016</td>\n      <td>11.954561</td>\n    </tr>\n    <tr>\n      <th>2</th>\n      <td>2017</td>\n      <td>12.385270</td>\n    </tr>\n    <tr>\n      <th>3</th>\n      <td>2018</td>\n      <td>13.408479</td>\n    </tr>\n    <tr>\n      <th>4</th>\n      <td>2019</td>\n      <td>12.695016</td>\n    </tr>\n    <tr>\n      <th>5</th>\n      <td>2020</td>\n      <td>13.111039</td>\n    </tr>\n  </tbody>\n</table>\n</div>"
     },
     "metadata": {},
     "execution_count": 6
    }
   ],
   "source": [
    "temps = basel_data_full_years.groupby(\"Year\")[\"Basel Temperature [2 m elevation corrected]\"].mean().reset_index()\n",
    "temps.rename(columns = {\"Year\": \"year\", \"Basel Temperature [2 m elevation corrected]\": \"avg_temp\"}, inplace=True)\n",
    "temps"
   ]
  },
  {
   "cell_type": "code",
   "execution_count": 7,
   "metadata": {},
   "outputs": [
    {
     "output_type": "execute_result",
     "data": {
      "text/plain": [
       "13.435288213615856"
      ]
     },
     "metadata": {},
     "execution_count": 7
    }
   ],
   "source": [
    "average_temp = float(temps.avg_temp[temps.year == 2015])\n",
    "\n",
    "average_temp"
   ]
  },
  {
   "source": [
    "5. Calculate the variance of the temperature column and store the results in the variable `temperature_var`. Print the results."
   ],
   "cell_type": "markdown",
   "metadata": {}
  },
  {
   "cell_type": "code",
   "execution_count": 8,
   "metadata": {},
   "outputs": [
    {
     "output_type": "execute_result",
     "data": {
      "text/plain": [
       "   year   temp_var\n",
       "0  2015  55.440864\n",
       "1  2016  54.304040\n",
       "2  2017  65.461749\n",
       "3  2018  68.607550\n",
       "4  2019  62.055132\n",
       "5  2020  54.225040"
      ],
      "text/html": "<div>\n<style scoped>\n    .dataframe tbody tr th:only-of-type {\n        vertical-align: middle;\n    }\n\n    .dataframe tbody tr th {\n        vertical-align: top;\n    }\n\n    .dataframe thead th {\n        text-align: right;\n    }\n</style>\n<table border=\"1\" class=\"dataframe\">\n  <thead>\n    <tr style=\"text-align: right;\">\n      <th></th>\n      <th>year</th>\n      <th>temp_var</th>\n    </tr>\n  </thead>\n  <tbody>\n    <tr>\n      <th>0</th>\n      <td>2015</td>\n      <td>55.440864</td>\n    </tr>\n    <tr>\n      <th>1</th>\n      <td>2016</td>\n      <td>54.304040</td>\n    </tr>\n    <tr>\n      <th>2</th>\n      <td>2017</td>\n      <td>65.461749</td>\n    </tr>\n    <tr>\n      <th>3</th>\n      <td>2018</td>\n      <td>68.607550</td>\n    </tr>\n    <tr>\n      <th>4</th>\n      <td>2019</td>\n      <td>62.055132</td>\n    </tr>\n    <tr>\n      <th>5</th>\n      <td>2020</td>\n      <td>54.225040</td>\n    </tr>\n  </tbody>\n</table>\n</div>"
     },
     "metadata": {},
     "execution_count": 8
    }
   ],
   "source": [
    "variances = basel_data_full_years.groupby(\"Year\")[\"Basel Temperature [2 m elevation corrected]\"].var().reset_index()\n",
    "variances.rename(columns = {\"Year\": \"year\", \"Basel Temperature [2 m elevation corrected]\": \"temp_var\"}, inplace=True)\n",
    "variances"
   ]
  },
  {
   "cell_type": "code",
   "execution_count": 9,
   "metadata": {},
   "outputs": [
    {
     "output_type": "execute_result",
     "data": {
      "text/plain": [
       "55.44086390079679"
      ]
     },
     "metadata": {},
     "execution_count": 9
    }
   ],
   "source": [
    "temperature_var = float(variances.temp_var[variances.year == 2015])\n",
    "\n",
    "temperature_var"
   ]
  },
  {
   "source": [
    "6. Calculate the standard deviation of the temperature column and store a variable named `temperature_standard_deviation`. Print this variable.\n",
    "\n",
    "    How would the variance and standard deviation help you plan a trip?"
   ],
   "cell_type": "markdown",
   "metadata": {}
  },
  {
   "cell_type": "code",
   "execution_count": 10,
   "metadata": {},
   "outputs": [
    {
     "output_type": "execute_result",
     "data": {
      "text/plain": [
       "   year  temp_std\n",
       "0  2015  7.445862\n",
       "1  2016  7.369128\n",
       "2  2017  8.090844\n",
       "3  2018  8.282967\n",
       "4  2019  7.877508\n",
       "5  2020  7.363765"
      ],
      "text/html": "<div>\n<style scoped>\n    .dataframe tbody tr th:only-of-type {\n        vertical-align: middle;\n    }\n\n    .dataframe tbody tr th {\n        vertical-align: top;\n    }\n\n    .dataframe thead th {\n        text-align: right;\n    }\n</style>\n<table border=\"1\" class=\"dataframe\">\n  <thead>\n    <tr style=\"text-align: right;\">\n      <th></th>\n      <th>year</th>\n      <th>temp_std</th>\n    </tr>\n  </thead>\n  <tbody>\n    <tr>\n      <th>0</th>\n      <td>2015</td>\n      <td>7.445862</td>\n    </tr>\n    <tr>\n      <th>1</th>\n      <td>2016</td>\n      <td>7.369128</td>\n    </tr>\n    <tr>\n      <th>2</th>\n      <td>2017</td>\n      <td>8.090844</td>\n    </tr>\n    <tr>\n      <th>3</th>\n      <td>2018</td>\n      <td>8.282967</td>\n    </tr>\n    <tr>\n      <th>4</th>\n      <td>2019</td>\n      <td>7.877508</td>\n    </tr>\n    <tr>\n      <th>5</th>\n      <td>2020</td>\n      <td>7.363765</td>\n    </tr>\n  </tbody>\n</table>\n</div>"
     },
     "metadata": {},
     "execution_count": 10
    }
   ],
   "source": [
    "standard_deviations = basel_data_full_years.groupby(\"Year\")[\"Basel Temperature [2 m elevation corrected]\"].std().reset_index()\n",
    "standard_deviations.rename(columns = {\"Year\": \"year\", \"Basel Temperature [2 m elevation corrected]\": \"temp_std\"}, inplace=True)\n",
    "standard_deviations"
   ]
  },
  {
   "cell_type": "code",
   "execution_count": 11,
   "metadata": {},
   "outputs": [
    {
     "output_type": "execute_result",
     "data": {
      "text/plain": [
       "7.445862199960243"
      ]
     },
     "metadata": {},
     "execution_count": 11
    }
   ],
   "source": [
    "temperature_standard_deviation = float(standard_deviations.temp_std[standard_deviations.year == 2015])\n",
    "\n",
    "temperature_standard_deviation"
   ]
  },
  {
   "source": [
    "## Filtering By Month\n",
    "\n",
    "7. The statistics we just calculated are not very helpful when trying to plan a vacation since they describe the weather throughout an entire year.\n",
    "\n",
    "    If we could find a way to use the rows from only a certain month, that might help us find the best month to plan our trip."
   ],
   "cell_type": "markdown",
   "metadata": {}
  },
  {
   "cell_type": "code",
   "execution_count": 12,
   "metadata": {},
   "outputs": [
    {
     "output_type": "execute_result",
     "data": {
      "text/plain": [
       "            timestamp  Basel Temperature [2 m elevation corrected]  \\\n",
       "0 2015-02-01 00:00:00                                     0.670529   \n",
       "1 2015-02-01 01:00:00                                     2.120528   \n",
       "2 2015-02-01 02:00:00                                     1.090529   \n",
       "3 2015-02-01 03:00:00                                     1.020529   \n",
       "4 2015-02-01 04:00:00                                     0.430529   \n",
       "\n",
       "   Basel Relative Humidity [2 m]  Basel Wind Speed [10 m]  \\\n",
       "0                           78.0                16.299694   \n",
       "1                           72.0                17.610588   \n",
       "2                           91.0                30.070238   \n",
       "3                           89.0                31.667723   \n",
       "4                           90.0                31.394394   \n",
       "\n",
       "   Basel Wind Direction [10 m]  Basel Wind Speed [500 mb]  \\\n",
       "0                    226.78992                  53.630333   \n",
       "1                    229.14462                  53.050858   \n",
       "2                    238.21275                  50.814860   \n",
       "3                    261.50146                  60.055290   \n",
       "4                    266.05480                  70.298700   \n",
       "\n",
       "   Basel Wind Direction [500 mb]  Basel Mean Sea Level Pressure [MSL]  Year  \\\n",
       "0                      276.55255                                986.7  2015   \n",
       "1                      262.19983                                986.3  2015   \n",
       "2                      277.32642                                986.4  2015   \n",
       "3                      295.95065                                986.1  2015   \n",
       "4                      302.87628                                986.7  2015   \n",
       "\n",
       "   Month  \n",
       "0      2  \n",
       "1      2  \n",
       "2      2  \n",
       "3      2  \n",
       "4      2  "
      ],
      "text/html": "<div>\n<style scoped>\n    .dataframe tbody tr th:only-of-type {\n        vertical-align: middle;\n    }\n\n    .dataframe tbody tr th {\n        vertical-align: top;\n    }\n\n    .dataframe thead th {\n        text-align: right;\n    }\n</style>\n<table border=\"1\" class=\"dataframe\">\n  <thead>\n    <tr style=\"text-align: right;\">\n      <th></th>\n      <th>timestamp</th>\n      <th>Basel Temperature [2 m elevation corrected]</th>\n      <th>Basel Relative Humidity [2 m]</th>\n      <th>Basel Wind Speed [10 m]</th>\n      <th>Basel Wind Direction [10 m]</th>\n      <th>Basel Wind Speed [500 mb]</th>\n      <th>Basel Wind Direction [500 mb]</th>\n      <th>Basel Mean Sea Level Pressure [MSL]</th>\n      <th>Year</th>\n      <th>Month</th>\n    </tr>\n  </thead>\n  <tbody>\n    <tr>\n      <th>0</th>\n      <td>2015-02-01 00:00:00</td>\n      <td>0.670529</td>\n      <td>78.0</td>\n      <td>16.299694</td>\n      <td>226.78992</td>\n      <td>53.630333</td>\n      <td>276.55255</td>\n      <td>986.7</td>\n      <td>2015</td>\n      <td>2</td>\n    </tr>\n    <tr>\n      <th>1</th>\n      <td>2015-02-01 01:00:00</td>\n      <td>2.120528</td>\n      <td>72.0</td>\n      <td>17.610588</td>\n      <td>229.14462</td>\n      <td>53.050858</td>\n      <td>262.19983</td>\n      <td>986.3</td>\n      <td>2015</td>\n      <td>2</td>\n    </tr>\n    <tr>\n      <th>2</th>\n      <td>2015-02-01 02:00:00</td>\n      <td>1.090529</td>\n      <td>91.0</td>\n      <td>30.070238</td>\n      <td>238.21275</td>\n      <td>50.814860</td>\n      <td>277.32642</td>\n      <td>986.4</td>\n      <td>2015</td>\n      <td>2</td>\n    </tr>\n    <tr>\n      <th>3</th>\n      <td>2015-02-01 03:00:00</td>\n      <td>1.020529</td>\n      <td>89.0</td>\n      <td>31.667723</td>\n      <td>261.50146</td>\n      <td>60.055290</td>\n      <td>295.95065</td>\n      <td>986.1</td>\n      <td>2015</td>\n      <td>2</td>\n    </tr>\n    <tr>\n      <th>4</th>\n      <td>2015-02-01 04:00:00</td>\n      <td>0.430529</td>\n      <td>90.0</td>\n      <td>31.394394</td>\n      <td>266.05480</td>\n      <td>70.298700</td>\n      <td>302.87628</td>\n      <td>986.7</td>\n      <td>2015</td>\n      <td>2</td>\n    </tr>\n  </tbody>\n</table>\n</div>"
     },
     "metadata": {},
     "execution_count": 12
    }
   ],
   "source": [
    "basel_data_full_years['Month'] = basel_data.timestamp.dt.month\n",
    "basel_data_full_years.head()"
   ]
  },
  {
   "source": [
    "8. We want to filter by the \"month\" column! The following line of code will create a variable that gets the temperature from the rows where \"month\" is 6. These will be all of the rows from the month of June.<br>\n",
    "<br>\n",
    "`june = basel_data.loc[basel_data[\"month\"] == 6][\"Basel Temperature [2 m elevation corrected]\"]`<br>\n",
    "<br>\n",
    "Create this variable for June 2015."
   ],
   "cell_type": "markdown",
   "metadata": {}
  },
  {
   "cell_type": "code",
   "execution_count": 13,
   "metadata": {},
   "outputs": [
    {
     "output_type": "execute_result",
     "data": {
      "text/plain": [
       "2880    18.560530\n",
       "2881    17.250528\n",
       "2882    16.540530\n",
       "2883    16.270529\n",
       "2884    15.410529\n",
       "          ...    \n",
       "3595    29.050530\n",
       "3596    27.740528\n",
       "3597    26.500528\n",
       "3598    24.390530\n",
       "3599    22.920528\n",
       "Name: Basel Temperature [2 m elevation corrected], Length: 720, dtype: float64"
      ]
     },
     "metadata": {},
     "execution_count": 13
    }
   ],
   "source": [
    "june_2015 = basel_data_full_years.loc[(basel_data_full_years[\"Month\"] == 6) & (basel_data_full_years[\"Year\"] == 2015)][\"Basel Temperature [2 m elevation corrected]\"]\n",
    "june_2015"
   ]
  },
  {
   "source": [
    "9. Create a variable named `july_2015` that contains all of the data points from July. The code to do this should look very similar to your code that created the June variable. This time, we are interested in month `7`."
   ],
   "cell_type": "markdown",
   "metadata": {}
  },
  {
   "cell_type": "code",
   "execution_count": 14,
   "metadata": {},
   "outputs": [
    {
     "output_type": "execute_result",
     "data": {
      "text/plain": [
       "3600    22.370530\n",
       "3601    21.440529\n",
       "3602    20.720530\n",
       "3603    20.440529\n",
       "3604    19.950530\n",
       "          ...    \n",
       "4339    23.140530\n",
       "4340    22.110529\n",
       "4341    20.770529\n",
       "4342    19.370530\n",
       "4343    18.620530\n",
       "Name: Basel Temperature [2 m elevation corrected], Length: 744, dtype: float64"
      ]
     },
     "metadata": {},
     "execution_count": 14
    }
   ],
   "source": [
    "july_2015 = basel_data_full_years.loc[(basel_data_full_years[\"Month\"] == 7) & (basel_data_full_years[\"Year\"] == 2015)][\"Basel Temperature [2 m elevation corrected]\"]\n",
    "july_2015"
   ]
  },
  {
   "source": [
    "10. Calculate and print the mean temperature in Basel for both June and July using the `np.mean()` function.\n",
    "\n",
    "    What do these numbers tell you? If you wanted to visit Basel on the month that was, on average, cooler, which month would you pick?"
   ],
   "cell_type": "markdown",
   "metadata": {}
  },
  {
   "cell_type": "code",
   "execution_count": 15,
   "metadata": {},
   "outputs": [
    {
     "output_type": "stream",
     "name": "stdout",
     "text": [
      "19.295056941666726\n23.313768432123755\n"
     ]
    }
   ],
   "source": [
    "print(np.mean(june_2015))\n",
    "print(np.mean(july_2015))"
   ]
  },
  {
   "source": [
    "On average June is the cooler month."
   ],
   "cell_type": "markdown",
   "metadata": {}
  },
  {
   "source": [
    "11. Calculate and print the standard deviation of temperature in Basel for both June and July. Remember, the function you should use is `np.std()`.<br>\n",
    "<br>\n",
    "What do these numbers tell you? How might the standard deviation change your decision on when to visit Basel?"
   ],
   "cell_type": "markdown",
   "metadata": {}
  },
  {
   "cell_type": "code",
   "execution_count": 16,
   "metadata": {},
   "outputs": [
    {
     "output_type": "stream",
     "name": "stdout",
     "text": [
      "4.627485275240127\n5.620416183662221\n"
     ]
    }
   ],
   "source": [
    "print(np.std(june_2015))\n",
    "print(np.std(july_2015))"
   ]
  },
  {
   "source": [
    "The temperature spread in June is much smaller than in July"
   ],
   "cell_type": "markdown",
   "metadata": {}
  },
  {
   "source": [
    "12. Calculate the mean and standard deviation of every month."
   ],
   "cell_type": "markdown",
   "metadata": {}
  },
  {
   "cell_type": "code",
   "execution_count": 18,
   "metadata": {},
   "outputs": [
    {
     "output_type": "execute_result",
     "data": {
      "text/plain": [
       "Month\n",
       "1      4.181037\n",
       "2      5.326100\n",
       "3      8.077005\n",
       "4     12.111804\n",
       "5     15.178502\n",
       "6     19.539939\n",
       "7     21.971495\n",
       "8     21.837763\n",
       "9     17.409050\n",
       "10    12.698412\n",
       "11     8.140121\n",
       "12     5.506355\n",
       "Name: Basel Temperature [2 m elevation corrected], dtype: float64"
      ]
     },
     "metadata": {},
     "execution_count": 18
    }
   ],
   "source": [
    "basel_data_full_years.groupby('Month')[\"Basel Temperature [2 m elevation corrected]\"].mean()"
   ]
  },
  {
   "cell_type": "code",
   "execution_count": 17,
   "metadata": {},
   "outputs": [
    {
     "output_type": "execute_result",
     "data": {
      "text/plain": [
       "Month\n",
       "1     3.992862\n",
       "2     4.362341\n",
       "3     4.401967\n",
       "4     5.444015\n",
       "5     5.135352\n",
       "6     4.959667\n",
       "7     4.937764\n",
       "8     5.075603\n",
       "9     4.980971\n",
       "10    4.392005\n",
       "11    4.487989\n",
       "12    3.687319\n",
       "Name: Basel Temperature [2 m elevation corrected], dtype: float64"
      ]
     },
     "metadata": {},
     "execution_count": 17
    }
   ],
   "source": [
    "basel_data_full_years.groupby('Month')[\"Basel Temperature [2 m elevation corrected]\"].std()"
   ]
  },
  {
   "source": [
    "## Optional\n",
    "\n",
    "13. By looking at the mean and standard deviation of the temperature in London during each month of the year, we can get a sense of the best time to visit.\n",
    "\n",
    "    Looking at the spread of the data is an important statistic to consider if you are particularly sensitive to extreme days. For example, if you pick a month with a large standard deviation, you might have one day that is relatively cold while the following day is very hot.\n",
    "\n",
    "    Take some time to see if you can find more insights in this dataset. Here are some ideas we have for you:\n",
    "\n",
    "    * Look at columns other than temperature. Can you find something interesting about the humidity or the air pressure? Can you find the rainiest month?\n",
    "    * Filter based on `\"hour\"`. Similar to how you filtered based on the month, are there certain hours that have higher variance than others?"
   ],
   "cell_type": "markdown",
   "metadata": {}
  }
 ]
}