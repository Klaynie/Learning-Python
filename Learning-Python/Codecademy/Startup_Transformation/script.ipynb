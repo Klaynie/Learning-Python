{
 "metadata": {
  "language_info": {
   "codemirror_mode": {
    "name": "ipython",
    "version": 3
   },
   "file_extension": ".py",
   "mimetype": "text/x-python",
   "name": "python",
   "nbconvert_exporter": "python",
   "pygments_lexer": "ipython3",
   "version": "3.9.1"
  },
  "orig_nbformat": 2,
  "kernelspec": {
   "name": "python391jvsc74a57bd0ac59ebe37160ed0dfa835113d9b8498d9f09ceb179beaac4002f036b9467c963",
   "display_name": "Python 3.9.1 64-bit"
  },
  "metadata": {
   "interpreter": {
    "hash": "ac59ebe37160ed0dfa835113d9b8498d9f09ceb179beaac4002f036b9467c963"
   }
  }
 },
 "nbformat": 4,
 "nbformat_minor": 2,
 "cells": [
  {
   "source": [
    "# Startup Transformation\n",
    "\n",
    "In this project, you will work as a data analyst for a tech startup that is looking to improve its operations after a global pandemic has taken the world by storm.\n",
    "\n",
    "You will apply data transformation techniques to make better sense of the company's data and help answer important questions such as:\n",
    "\n",
    "* Is the company in good financial health?\n",
    "* Does the company need to let go of any employees?\n",
    "* Should the company allow employees to work from home permanently?\n",
    "\n",
    "Let us get started!"
   ],
   "cell_type": "markdown",
   "metadata": {}
  },
  {
   "cell_type": "code",
   "execution_count": 1,
   "metadata": {},
   "outputs": [],
   "source": [
    "from sklearn import preprocessing\n",
    "import matplotlib.pyplot as plt\n",
    "import pandas as pd\n",
    "import seaborn as sns\n",
    "import numpy as np\n",
    "\n",
    "financial_data = pd.read_csv('financial_data.csv')"
   ]
  },
  {
   "source": [
    "## Analyzing Revenue and Expenses\n",
    "\n",
    "1. The management team of the company you work for is concerned about the status of the company after a global pandemic.\n",
    "\n",
    "    The CFO (Chief Financial Officer) asks you to perform some data analysis on the past six months of the company's financial data, which has been loaded in the variable `financial_data`.\n",
    "\n",
    "    First, examine the first few rows of the data using `.head()`."
   ],
   "cell_type": "markdown",
   "metadata": {}
  },
  {
   "cell_type": "code",
   "execution_count": null,
   "metadata": {},
   "outputs": [],
   "source": []
  },
  {
   "source": [
    "2. Notice that `financial_data` has three columns – `Month`, `Revenue`, and `Expenses`.\n",
    "\n",
    "    Store each column in three separate variables called `month`, `revenue`, and `expenses`."
   ],
   "cell_type": "markdown",
   "metadata": {}
  },
  {
   "cell_type": "code",
   "execution_count": null,
   "metadata": {},
   "outputs": [],
   "source": []
  },
  {
   "source": [
    "3. Next, use the following code to create a plot of revenue over the past six months:\n",
    "\n",
    "        plt.plot(month,revenue)\n",
    "        plt.show()"
   ],
   "cell_type": "markdown",
   "metadata": {}
  },
  {
   "cell_type": "code",
   "execution_count": null,
   "metadata": {},
   "outputs": [],
   "source": []
  },
  {
   "source": [
    "4. On the right, you should now see a plot of revenue over time. You can label and format the figure using the following functions:\n",
    "\n",
    "        plt.xlabel('Month')\n",
    "        plt.ylabel('Amount ($)')\n",
    "        plt.title('Revenue')\n",
    "\n",
    "    These should be added before `plt.show()`. Add the labels to your plot."
   ],
   "cell_type": "markdown",
   "metadata": {}
  },
  {
   "cell_type": "code",
   "execution_count": null,
   "metadata": {},
   "outputs": [],
   "source": []
  },
  {
   "source": [
    "5. Repeat steps 3 and 4 for monthly expenses. In other words, create a second plot of monthly expenses over the past 6 months. Note that you will need to use the function `plot.clf()` prior to creating this new plot. Otherwise, it will be plotted on-top of the revenue plot. The code should look something like this:\n",
    "\n",
    "        plt.clf()\n",
    "        #insert code to create plot here\n",
    "        #add labels to the plot here\n",
    "        plt.show()\n",
    "\n",
    "    How are monthly expenses changing over time?"
   ],
   "cell_type": "markdown",
   "metadata": {}
  },
  {
   "cell_type": "code",
   "execution_count": null,
   "metadata": {},
   "outputs": [],
   "source": []
  },
  {
   "source": [
    "6. As shown, revenue seems to be quickly decreasing while expenses are increasing. If the current trend continues, expenses will soon surpass revenues, putting the company at risk.\n",
    "\n",
    "    After you show this chart to the management team, they are alarmed. They conclude that expenses must be cut immediately and give you a new file to analyze called `expenses.csv`.\n",
    "\n",
    "    Use `pandas` to read in `expenses.csv` and store it in a variable called `expense_overview`.\n",
    "\n",
    "    Print the first seven rows of the data."
   ],
   "cell_type": "markdown",
   "metadata": {}
  },
  {
   "cell_type": "code",
   "execution_count": null,
   "metadata": {},
   "outputs": [],
   "source": []
  },
  {
   "source": [
    "## Pie Chart and Collapsing Categories\n",
    "\n",
    "7. Notice that there are two columns:\n",
    "\n",
    "    * `Expense`: indicates the expense category\n",
    "    * `Proportion`: indicates how much of the overall expenses a specific category takes up\n",
    "\n",
    "    Store the `Expense` column in a variable called `expense_categories` and the `Proportion` column in a variable called `proportions`."
   ],
   "cell_type": "markdown",
   "metadata": {}
  },
  {
   "cell_type": "code",
   "execution_count": null,
   "metadata": {},
   "outputs": [],
   "source": []
  },
  {
   "source": [
    "8. Next, we want to create a pie chart of the different expense categories. Use `plt.clf()` again to clear the previous plot, then create a pie chart using the `plt.pie()` method, passing in two arguments:\n",
    "\n",
    "    * `proportions`\n",
    "    * `labels = expense_categories`\n",
    "\n",
    "    Give your pie chart a title using `plt.title()`, then use `plt.show()` at the end to show the plot."
   ],
   "cell_type": "markdown",
   "metadata": {}
  },
  {
   "cell_type": "code",
   "execution_count": null,
   "metadata": {},
   "outputs": [],
   "source": []
  },
  {
   "source": [
    "9. Notice that the pie chart currently looks deformed.\n",
    "\n",
    "    Above `plt.show()`, add in the following two lines of code to set the axis and adjust the spacing:\n",
    "\n",
    "        plt.axis('Equal')\n",
    "        plt.tight_layout()\n",
    "\n",
    "    Take a moment to look at the pie chart. Which expense categories make up most of the data, and which ones are not so significant?"
   ],
   "cell_type": "markdown",
   "metadata": {}
  },
  {
   "cell_type": "code",
   "execution_count": null,
   "metadata": {},
   "outputs": [],
   "source": []
  },
  {
   "source": [
    "10. It seems that `Salaries`, `Advertising`, and `Office Rent` make up most of the expenses, while the rest of the categories make up a small percentage.\n",
    "\n",
    "    Before you hand this pie chart back to management, you would like to update the pie chart so that all categories making up less than 5% of the overall expenses (`Equipment`, `Utilities`, `Supplies`, and `Food`) are collapsed into an \"Other\" category.\n",
    "\n",
    "    Update the pie chart accordingly."
   ],
   "cell_type": "markdown",
   "metadata": {}
  },
  {
   "cell_type": "code",
   "execution_count": null,
   "metadata": {},
   "outputs": [],
   "source": []
  },
  {
   "source": [
    "11. You should now see four categories in your updated pie chart:\n",
    "\n",
    "    * `Salaries`\n",
    "    * `Advertising`\n",
    "    * `Office Rent`\n",
    "    * `Other`\n",
    "\n",
    "    This simplified pie chart helps the management team see a big picture view of the company's expenses without getting distracted by noisy data.\n",
    "\n",
    "    If the company wants to cut costs in a big way, which category do you think they should focus on? Put your answer in a string variable called `expense_cut`."
   ],
   "cell_type": "markdown",
   "metadata": {}
  },
  {
   "cell_type": "code",
   "execution_count": null,
   "metadata": {},
   "outputs": [],
   "source": []
  },
  {
   "source": [
    "## Employee Productivity\n",
    "\n",
    "12. Salaries make up 62% of expenses. The management team determines that to cut costs in a meaningful way, they must let go of some employees.\n",
    "\n",
    "    Each employee at the company is assigned a productivity score based on their work. The management would like to keep the most highly productive employees and let go of the least productive employees.\n",
    "\n",
    "    First, use `pandas` to load in `employees.csv` and store it in a variable called `employees`.\n",
    "\n",
    "    Print the first few rows of the data."
   ],
   "cell_type": "markdown",
   "metadata": {}
  },
  {
   "cell_type": "code",
   "execution_count": null,
   "metadata": {},
   "outputs": [],
   "source": []
  },
  {
   "source": [
    "13. Notice that there is a `Productivity` column, which indicates the productivity score assigned to that employee.\n",
    "\n",
    "    Sort the `employees` data frame (in ascending order) by the `Productivity` column and store the result in a variable called `sorted_productivity`.\n",
    "\n",
    "    To sort a data frame, you can do the following:\n",
    "\n",
    "    `sorted_data = dataframe_name.sort_values(by=['Column Name'])`\n",
    "\n",
    "    Print `sorted_productivity`."
   ],
   "cell_type": "markdown",
   "metadata": {}
  },
  {
   "cell_type": "code",
   "execution_count": null,
   "metadata": {},
   "outputs": [],
   "source": []
  },
  {
   "source": [
    "14. You should now see the employees with the lowest productivity scores at the top of the data frame.\n",
    "\n",
    "    The company decides to let go of the 100 least productive employees.\n",
    "\n",
    "    Store the first 100 rows of `sorted_productivity` in a new variable called `employees_cut` and print out the result.\n",
    "\n",
    "    Unfortunately, this batch of employees won’t be so lucky."
   ],
   "cell_type": "markdown",
   "metadata": {}
  },
  {
   "cell_type": "code",
   "execution_count": null,
   "metadata": {},
   "outputs": [],
   "source": []
  },
  {
   "source": [
    "15. Your colleague Sarah, a data scientist at the company, would like to explore the relationship between `Income` and `Productivity` more in depth, but she points out that these two features are on vastly different scales.\n",
    "\n",
    "    For example, productivity is a feature that ranges from 0-100, but income is measured in the thousands of dollars.\n",
    "\n",
    "    Moreover, there are outliers in the data that add an additional layer of complexity.\n",
    "\n",
    "    She asks you for advice on how she should transform the data. Should she perform normalization, standardization, log transformation, or something else?\n",
    "\n",
    "    Put your answer in a string in a variable called `transformation`."
   ],
   "cell_type": "markdown",
   "metadata": {}
  },
  {
   "cell_type": "code",
   "execution_count": null,
   "metadata": {},
   "outputs": [],
   "source": []
  },
  {
   "source": [
    "## Commute Times and Log Transformation\n",
    "\n",
    "16. The COO (Chief Operating Officer) is debating whether to allow employees to continue to work from home post-pandemic.\n",
    "\n",
    "    He first wants to take a look at roughly how long the average commute time is for employees at the company. He asks for your help to analyze this data.\n",
    "\n",
    "    The `employees` data frame has a column called `Commute Time` that stores the commute time (in minutes) for each employee.\n",
    "\n",
    "    Create a variable called `commute_times` that stores the `Commute Time` column."
   ],
   "cell_type": "markdown",
   "metadata": {}
  },
  {
   "cell_type": "code",
   "execution_count": null,
   "metadata": {},
   "outputs": [],
   "source": []
  },
  {
   "source": [
    "17. Let us do some quick analysis on the commute times of employees.\n",
    "\n",
    "    Use `print()` and `.describe()` to print out descriptive statistics for `commute_times`.\n",
    "\n",
    "    What are the average and median commute times? Might it be worth it for the company to explore allowing remote work indefinitely so employees can save time during the day?"
   ],
   "cell_type": "markdown",
   "metadata": {}
  },
  {
   "cell_type": "code",
   "execution_count": null,
   "metadata": {},
   "outputs": [],
   "source": []
  },
  {
   "source": [
    "18. Let us explore the shape of the commute time data using a histogram.\n",
    "\n",
    "    First, use `plt.clf()` to clear the previous plots. Then use `plt.hist()` to plot the histogram of `commute_times`. Finally, use `plt.show()` to show the plot. Feel free to add labels above `plt.show()` if you would like to practice!\n",
    "\n",
    "    What do you notice about the shape of the data? Is it symmetric, left skewed, or right skewed?\n",
    "\n",
    "*Hint: The commute time data appears to be right-skewed.*"
   ],
   "cell_type": "markdown",
   "metadata": {}
  },
  {
   "cell_type": "code",
   "execution_count": null,
   "metadata": {},
   "outputs": [],
   "source": []
  },
  {
   "source": [
    "19. The data seems to be skewed to the right. To make it more symmetrical, we might try applying a log transformation.\n",
    "\n",
    "    Right under the `commute_times` variable, create a variable called `commute_times_log` that stores a log-transformed version of `commute_times`.\n",
    "\n",
    "    To apply log-transform, you can use `numpy`'s `log()` function."
   ],
   "cell_type": "markdown",
   "metadata": {}
  },
  {
   "cell_type": "code",
   "execution_count": null,
   "metadata": {},
   "outputs": [],
   "source": []
  },
  {
   "source": [
    "20. Replace the histogram for `commute_times` with one for `commute_times_log`.\n",
    "\n",
    "    Notice how the shape of the data changes from being right skewed to a more symmetrical (and even slightly left-skewed) in shape. After applying log transformation, the transformed data is more \"normal\" than before."
   ],
   "cell_type": "markdown",
   "metadata": {}
  },
  {
   "cell_type": "code",
   "execution_count": null,
   "metadata": {},
   "outputs": [],
   "source": []
  },
  {
   "source": [
    "## Extra\n",
    "\n",
    "21. Congratulations! In this project, you performed data analysis to help a management team answer important questions about the status of the company during a difficult time.\n",
    "\n",
    "    You did this by analyzing data sets and applying common data transformation techniques. These are important skills to have as a data analyst.\n",
    "\n",
    "    If you would like extra practice with data transformations, here are some suggestions to extend this project:\n",
    "\n",
    "    * Apply standardization to the employees data using `StandardScaler()` from `sklearn`. Refer to <a href=\"https://www.codecademy.com/content-items/4c13a3c614d59b1cdb78293ac2b1d656?latest_draft_applied=true&preview=true\">this</a> article if you need help.\n",
    "    * Explore the income and productivity features in more detail. Can you find a relationship between productivity and income?"
   ],
   "cell_type": "markdown",
   "metadata": {}
  }
 ]
}