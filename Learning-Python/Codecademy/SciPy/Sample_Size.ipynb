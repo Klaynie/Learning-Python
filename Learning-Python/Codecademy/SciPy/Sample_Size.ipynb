{
 "metadata": {
  "language_info": {
   "codemirror_mode": {
    "name": "ipython",
    "version": 3
   },
   "file_extension": ".py",
   "mimetype": "text/x-python",
   "name": "python",
   "nbconvert_exporter": "python",
   "pygments_lexer": "ipython3",
   "version": "3.7.6-final"
  },
  "orig_nbformat": 2,
  "kernelspec": {
   "name": "python3",
   "display_name": "Python 3",
   "language": "python"
  }
 },
 "nbformat": 4,
 "nbformat_minor": 2,
 "cells": [
  {
   "source": [
    "# Learn Sample Size Determination with SciPy\n",
    "\n",
    "## A/B Testing: Using a Calculator\n",
    "\n",
    "An _A/B Test_ is a scientific method of choosing between two options (Option A and Option B). Some examples of A/B tests include:\n",
    "\n",
    "* What number of sale items on a website makes customers most likely to purchase something: $25$ or $50$?\n",
    "* What color button are customers more likely to click on: blue or green?\n",
    "\n",
    "In order to determine the sample size necessary for an A/B test, a sample size calculator requires three numbers:\n",
    "\n",
    "* The _Baseline conversion rate_\n",
    "* The _Minimum desired lift_ (also called the _Minimum detectable effect_)\n",
    "* The _Statistical significance threshold_"
   ],
   "cell_type": "markdown",
   "metadata": {}
  },
  {
   "source": [
    "***"
   ],
   "cell_type": "markdown",
   "metadata": {}
  },
  {
   "source": [
    "1. Use an A/B testing <a href=\"https://content.codecademy.com/courses/learn-hypothesis-testing/a_b_sample_size/index4.html\">sample size calculator</a> to find out what the sample size would be to detect at least a `30%` increase from a `20%` baseline with a `10%` statistical significance threshold? Save the results in the variable called `sample_size`."
   ],
   "cell_type": "markdown",
   "metadata": {}
  },
  {
   "cell_type": "code",
   "execution_count": 1,
   "metadata": {},
   "outputs": [],
   "source": [
    "sample_size = 1210"
   ]
  },
  {
   "source": [
    "## A/B Testing: Understanding the Baseline\n",
    "\n",
    "A/B tests compare an option that we are currently using to a new option that we suspect might be better. In order to compare the two options, we need a metric. Generally, our metric will be the percent of users who take a certain action after interacting with one of our options. For instance:\n",
    "\n",
    "* The percent of customers who **buy a t-shirt after** visiting one of two versions of a website\n",
    "* The percent of users who **click** on one of two versions of an ad\n",
    "* The percent of readers who **open an email** with one of two subject lines\n",
    "\n",
    "Suppose we are running an A/B test to understand whether customers are more likely to buy a shirt after visiting the current version of a website or a new version with a more brightly colored design. The _baseline conversion rate_ is our estimate for the percent of people who will buy a shirt under the current website design. This number may be written as a proportion (eg., $.5$) or a percent (eg., $50%$).\n",
    "\n",
    "We can generally calculate a baseline by looking at historical data for the option that we are currently using."
   ],
   "cell_type": "markdown",
   "metadata": {}
  },
  {
   "source": [
    "***"
   ],
   "cell_type": "markdown",
   "metadata": {}
  },
  {
   "source": [
    "### Exercise\n",
    "\n",
    "1. Viral Villanelle is an American internet media company specializing in social news and digital media. Here we looked at how many people visited the website within a ten minute window and how many engaged in our top headline this week: _Seventeen Gross Facts About Your Elbows, Number Three Will Astound You_. We have calculated the quantity of each, saving the values in `number_of_site_visitors` and `number_of_converted_visitors`, but would like to know what our **conversion rate** is."
   ],
   "cell_type": "markdown",
   "metadata": {}
  },
  {
   "cell_type": "code",
   "execution_count": 2,
   "metadata": {},
   "outputs": [],
   "source": [
    "number_of_site_visitors = 2000.0\n",
    "number_of_converted_visitors = 1300.0"
   ]
  },
  {
   "cell_type": "code",
   "execution_count": 3,
   "metadata": {},
   "outputs": [
    {
     "output_type": "execute_result",
     "data": {
      "text/plain": [
       "0.65"
      ]
     },
     "metadata": {},
     "execution_count": 3
    }
   ],
   "source": [
    "conversion_rate = number_of_converted_visitors / number_of_site_visitors\n",
    "conversion_rate"
   ]
  },
  {
   "source": [
    "***"
   ],
   "cell_type": "markdown",
   "metadata": {}
  },
  {
   "source": [
    "## A/B Testing: Determining Lift\n",
    "\n",
    "We are running an A/B Test in order to know if Option B is better than Option A but if Option B were only a tiny percent better, would we really care? In order to detect precise differences, we need a very large sample size. In order to choose a sample size, we need to know the smallest difference that we actually care to measure. This \"smallest difference\" is our desired _lift_. This is also sometimes referred to as the \"minimum detectable effect\" for the test.\n",
    "\n",
    "Lift is generally expressed as a percent of the baseline conversion rate. Suppose that $6\\%$ of our customers currently buy socks on our website Sock Hops (that is our baseline conversion rate). We think that a new website layout would increase this. Changing a website layout is hard, so we only think that it is worth doing if at least $8\\%$ of our customers would buy socks on Sock Hops with the new layout. That means that we want to increase our conversions by 2%. To calculate lift:\n",
    "\n",
    "    100 * (new - old) / old\n",
    "    100 * (8 - 6) / 6\n",
    "    33%\n",
    "\n",
    "Sock Hops' desired lift is $33\\%$."
   ],
   "cell_type": "markdown",
   "metadata": {}
  },
  {
   "source": [
    "****"
   ],
   "cell_type": "markdown",
   "metadata": {}
  },
  {
   "source": [
    "### Exercise\n",
    "\n",
    "1. From $8\\%$, calculate what lift you would need to get to $12\\%$. Save that number into a variable called `lift_eight_percent_to_twelve_percent`."
   ],
   "cell_type": "markdown",
   "metadata": {}
  },
  {
   "cell_type": "code",
   "execution_count": 4,
   "metadata": {},
   "outputs": [
    {
     "output_type": "execute_result",
     "data": {
      "text/plain": [
       "50.0"
      ]
     },
     "metadata": {},
     "execution_count": 4
    }
   ],
   "source": [
    "lift_eight_percent_to_twelve_percent = 100 * (12 - 8) / 8\n",
    "\n",
    "lift_eight_percent_to_twelve_percent"
   ]
  },
  {
   "source": [
    "2. From $10\\%$, calculate what a $50\\%$ increase would be. Save that number into a variable called `ten_percent_up_fifty_percent`."
   ],
   "cell_type": "markdown",
   "metadata": {}
  },
  {
   "cell_type": "code",
   "execution_count": 5,
   "metadata": {},
   "outputs": [
    {
     "output_type": "execute_result",
     "data": {
      "text/plain": [
       "15.0"
      ]
     },
     "metadata": {},
     "execution_count": 5
    }
   ],
   "source": [
    "# 50 = 100 * (x - 10) / 10\n",
    "# 500 = 100 * (x - 10)\n",
    "# 5 = x - 10\n",
    "# 15 = x\n",
    "# x = (50 * 10) / 100 + 10\n",
    "\n",
    "ten_percent_up_fifty_percent = (50 * 10) / 100 + 10\n",
    "ten_percent_up_fifty_percent"
   ]
  },
  {
   "source": [
    "## A/B Testing: Do Not Interfere With Your Tests\n",
    "\n",
    "Brian the Product Manager has been running an A/B Test for a redesign of Viral Villanelle's landing page. Brian used the principles in the Sample Size Determination course on Codecademy to calculate a sample size. He needs $1,100$ users to view each variant of the landing page in order to be able to detect his desired lift. When he reaches a total of $2,200$ visits to both variants, he runs a Chi-Square test. The new website design performs slightly better, but the results are not statistically significant. Brian decides to run the test for another week to see if he can get to significance. He really wants to launch the redesigned website and he needs statistical validation to show to his boss.\n",
    "\n",
    "Brian has made a big mistake! By choosing to extend the A/B test past the sample size he needs, he introduces personal bias to the results of the test.\n",
    "\n",
    "If the results had already been significant, he would not have run the test any longer. If he continues this pattern of preferentially extending the test when he wants a different answer, he will be more likely to get the results he wants, regardless if these desired results reflect reality.\n",
    "\n",
    "It is sad, but Brian will need to accept that the redesigned website is not significantly better than the original website.\n",
    "\n",
    "Here are two important rules for making sure that A/B tests remain unbiased:\n",
    "\n",
    "* Do not continue to run the test after the predetermined sample size, until \"significant\" results are found.\n",
    "* Do not stop a test before reaching the predetermined sample size, just because your results reach significance early (unless there are ethical reasons that require you to stop, like a prescription drug trial).\n",
    "\n",
    "Test data is sensitive to changes in sample size, which is why it is important to calculate beforehand."
   ],
   "cell_type": "markdown",
   "metadata": {}
  },
  {
   "source": [
    "***\n",
    "### Exercise"
   ],
   "cell_type": "markdown",
   "metadata": {}
  },
  {
   "source": [
    "1. Inspect the graph below. It shows an A/B Test where the baseline was $5\\%$, and we want to see a lift of $50\\%$ (i.e., we want our second option to have at least a $7.5\\%$ conversion rate). A sample size calculator tells us that we need $210$ samples. The chart shows the cumulative conversion rate after each new sample. When we reach our desired $210$ samples, our cumulative conversion rate is slightly higher than $5\\%$, but the difference is not significantly different (indicated by red). By extending the experiment to $320$ samples, the difference becomes significantly different (indicated by green). We might conclude that our results are significant if we stopped the experiment at this point. However, we can see this is a temporary fluctuation. After this brief moment of \"significance\" the conversion rate decreases and our results become insignificant again. By arbitrarily extending the study until it reaches significance, we fool ourselves!"
   ],
   "cell_type": "markdown",
   "metadata": {}
  },
  {
   "source": [
    "<img src=\"https://content.codecademy.com/courses/updated_images/conversion_rate_x_samples_Updated_1-01.svg\" alt=\"Conversion Rate x-samples\" width=1000></img><br>"
   ],
   "cell_type": "markdown",
   "metadata": {}
  },
  {
   "source": [
    "Try this: Flip a coin five times. Which side came up more frequently? Perhaps you now suspect that the coin is biased. Keep flipping the coin until that side shows up even more frequently. By changing your sample size in the middle of an experiment, you can easily convince yourself that a fair coin is biased."
   ],
   "cell_type": "markdown",
   "metadata": {}
  },
  {
   "cell_type": "code",
   "execution_count": 6,
   "metadata": {},
   "outputs": [],
   "source": [
    "from random import randint\n",
    "\n",
    "head = 'H'\n",
    "tail = 'T'\n",
    "\n",
    "def flip_coin_n_times(n):\n",
    "    result = []\n",
    "    for _ in range(n):\n",
    "        flip = randint(0, 1)\n",
    "        if flip == 0:\n",
    "            result.append(head)\n",
    "        else:\n",
    "            result.append(tail)\n",
    "    return result\n",
    "\n",
    "def print_results(list_in):\n",
    "    ratio = list_in.count(head) / len(list_in)\n",
    "    print(f\"Threw the coin {len(list_in)} times. {list_in.count(head)} Head, {list_in.count(tail)} Tail. Head to Tail Ratio {ratio:.2%}\")\n",
    "\n",
    "def calculate_bias(list_in):\n",
    "    result = 'Balanced'\n",
    "    ratio = list_in.count(head) / len(list_in)\n",
    "    if ratio > 0.52:\n",
    "        result = 'Biased to Head'\n",
    "    elif ratio > 0.6:\n",
    "        result = 'Very biased to Head'\n",
    "    elif ratio > 0.65:\n",
    "        result = 'Extremly biased to Head'\n",
    "    elif ratio < 0.35:\n",
    "        result = 'Extremly biased to Tail'\n",
    "    elif ratio < 0.4:\n",
    "        result = 'Very biased to Tail'\n",
    "    elif ratio < 0.48:\n",
    "        result = 'Biased to Tail'\n",
    "    return result"
   ]
  },
  {
   "cell_type": "code",
   "execution_count": 7,
   "metadata": {},
   "outputs": [
    {
     "output_type": "stream",
     "name": "stdout",
     "text": [
      "Threw the coin 5 times. 4 Head, 1 Tail. Head to Tail Ratio 80.00%\nBiased to Head\nThrew the coin 10 times. 5 Head, 5 Tail. Head to Tail Ratio 50.00%\nBalanced\nThrew the coin 15 times. 9 Head, 6 Tail. Head to Tail Ratio 60.00%\nBiased to Head\nThrew the coin 20 times. 7 Head, 13 Tail. Head to Tail Ratio 35.00%\nVery biased to Tail\nThrew the coin 25 times. 15 Head, 10 Tail. Head to Tail Ratio 60.00%\nBiased to Head\nThrew the coin 30 times. 16 Head, 14 Tail. Head to Tail Ratio 53.33%\nBiased to Head\nThrew the coin 35 times. 18 Head, 17 Tail. Head to Tail Ratio 51.43%\nBalanced\nThrew the coin 40 times. 23 Head, 17 Tail. Head to Tail Ratio 57.50%\nBiased to Head\nThrew the coin 45 times. 23 Head, 22 Tail. Head to Tail Ratio 51.11%\nBalanced\nThrew the coin 50 times. 26 Head, 24 Tail. Head to Tail Ratio 52.00%\nBalanced\nThrew the coin 55 times. 27 Head, 28 Tail. Head to Tail Ratio 49.09%\nBalanced\nThrew the coin 60 times. 28 Head, 32 Tail. Head to Tail Ratio 46.67%\nBiased to Tail\nThrew the coin 65 times. 30 Head, 35 Tail. Head to Tail Ratio 46.15%\nBiased to Tail\nThrew the coin 70 times. 38 Head, 32 Tail. Head to Tail Ratio 54.29%\nBiased to Head\nThrew the coin 75 times. 32 Head, 43 Tail. Head to Tail Ratio 42.67%\nBiased to Tail\nThrew the coin 80 times. 41 Head, 39 Tail. Head to Tail Ratio 51.25%\nBalanced\nThrew the coin 85 times. 41 Head, 44 Tail. Head to Tail Ratio 48.24%\nBalanced\nThrew the coin 90 times. 48 Head, 42 Tail. Head to Tail Ratio 53.33%\nBiased to Head\nThrew the coin 95 times. 44 Head, 51 Tail. Head to Tail Ratio 46.32%\nBiased to Tail\nThrew the coin 100 times. 46 Head, 54 Tail. Head to Tail Ratio 46.00%\nBiased to Tail\n"
     ]
    }
   ],
   "source": [
    "for i in range(5, 101, 5):\n",
    "    coin_flip = flip_coin_n_times(i)\n",
    "    print_results(coin_flip)\n",
    "    bias = calculate_bias(coin_flip)\n",
    "    print(bias)"
   ]
  },
  {
   "source": [
    "**A:** Without taking into account the probability calculation of a binominal test for coin tossing once might suspect a bias based on very few coin tosses."
   ],
   "cell_type": "markdown",
   "metadata": {}
  },
  {
   "source": [
    "## A/B Testing: Splitting a Test\n",
    "\n",
    "Viral Villanelle's social media presence drives visits to its website. Product Manager Brian wants to test a new ad. Using a sample size calculator, he finds that he will need a sample size of $1,100$. Viral Villanelle's current advertisement is shown to $500$ users per day. What is the best way for Brian to get his desired sample size?\n",
    "\n",
    "It is important to remember that Brian will need to show both the old and the new ad to $1,100$ users _each_. If Brian wants to complete this test as quickly as possible, he could randomly divide users into two groups: half of users would see the old ad and half would see the new ad. It would take a little more than $4$ days for $2,200$ users to see one of the two ads.\n",
    "\n",
    "What if Brian does not want to divide Viral Villanelle's audience evenly? If Brian is running many different types of A/B tests, he might not want to expose users to a barrage of different tests. Maybe only $10\\%$ of users should be shown the new ad, in case it performs terribly. By doing this, he would only be getting $50$ users per day towards the $1,100$ users that need to see the new ad. In this case, he would need to wait for $22$ days ($1100 / 50 = 22$) in order to get his results, even though he would have gotten the $1,100$ views for the old ad $3$ days into the experiment.\n",
    "\n",
    "For his final analysis, Brian should use all of the data from the $22$ days. The Chi-Square test will correctly take into account that there is more data from the original ad than from the new ad."
   ],
   "cell_type": "markdown",
   "metadata": {}
  },
  {
   "source": [
    "***"
   ],
   "cell_type": "markdown",
   "metadata": {}
  },
  {
   "source": [
    "### Ecercise\n",
    "\n",
    "1. Here at the Viral Villanelle, we found an amazing video of a hamster that appears to be rapping along to a chart-topping hip-hop song from 1979. We have been running it under the headline _This Hamster Gets On The Microphone And What Happens Next Will Amaze You_. This is reliably seen by $350$ users daily. We are curious to see if our new headline _Hamster's Delight: Watch This Fuzzy Friend's Rhythm To The Boogie (The Beat)_ will perform much better.\n",
    "\n",
    "    There are concerns that this new headline will alienate the jaded millennial generation so we would like to hedge our bets in case our new version performs poorly. If we only show $20\\%$ of our users the new headline, how many days will it take for us to get a sample size of at least $910$ for each headline? Save your results in the variable called `hamster_headline_experiment_length`."
   ],
   "cell_type": "markdown",
   "metadata": {}
  },
  {
   "cell_type": "code",
   "execution_count": 8,
   "metadata": {},
   "outputs": [
    {
     "output_type": "execute_result",
     "data": {
      "text/plain": [
       "13.0"
      ]
     },
     "metadata": {},
     "execution_count": 8
    }
   ],
   "source": [
    "daily_users = 350\n",
    "required_views = 910\n",
    "percentage_b_test = 0.2\n",
    "\n",
    "hamster_headline_experiment_length = required_views / (daily_users * percentage_b_test)\n",
    "\n",
    "hamster_headline_experiment_length"
   ]
  },
  {
   "source": [
    "***"
   ],
   "cell_type": "markdown",
   "metadata": {}
  },
  {
   "source": [
    "## Sample Size Calculator for Margin of Error\n",
    "\n",
    "Let us imagine that we own a juice bar called BeetsMe in the small town of Vancucumber. We want to know what our customers' favorite vegetable is so that we know what to base our next juice recipe around. How many people do we need to survey to be confident in our results?\n",
    "\n",
    "It is easy to find a sample size calculator online, but it is difficult to determine what parameters to input. Generally, sample size calculators use 4 parameters:\n",
    "\n",
    "* Margin of error\n",
    "* Confidence level\n",
    "* Population size\n",
    "* Expected proportion\n",
    "\n",
    "We have provided an example of a <a href=\"https://content.codecademy.com/courses/learn-hypothesis-testing/margin_of_error/index.html\">sample size calculator</a>. In the next 4 exercises, we will explain what these parameters mean and how we can choose them to accurately represent our experiment"
   ],
   "cell_type": "markdown",
   "metadata": {}
  },
  {
   "source": [
    "***"
   ],
   "cell_type": "markdown",
   "metadata": {}
  },
  {
   "source": [
    "### Exercise\n",
    "\n",
    "Play around with the <a href=\"https://content.codecademy.com/courses/learn-hypothesis-testing/margin_of_error/index.html\">sample size calculator</a>! When you are ready to move on."
   ],
   "cell_type": "markdown",
   "metadata": {}
  },
  {
   "source": [
    "***"
   ],
   "cell_type": "markdown",
   "metadata": {}
  },
  {
   "source": [
    "## Margin of Error\n",
    "\n",
    "What does it mean to have \"enough\" people for a survey? Generally, we are making sure that our results are within a _margin of error_ of the correct answer.\n",
    "\n",
    "The margin of error is the furthest we expect the true value to be from what we measure in our survey. For example, let us say we choose a margin of error of $4\\%$. If we get results showing $40\\%$ of people love beets the most, we can be confident that the true proportion in the population lies somewhere between $36\\%$ and $44\\%$. Thus, the smaller we make the margin of error, the more certainty we have in the results. The larger we make the margin of error, more uncertain we are that they represent the views of the total population.\n",
    "\n",
    "In order to make our margin of error smaller, we will need a larger sample size."
   ],
   "cell_type": "markdown",
   "metadata": {}
  },
  {
   "source": [
    "### Exercise\n",
    "\n",
    "Play around with the <a href=\"https://content.codecademy.com/courses/learn-hypothesis-testing/margin_of_error/index.html\">calculator</a>!\n",
    "\n",
    "* Try increasing the margin of error. How does it affect the sample size?\n",
    "* Try decreasing the margin of error. How does it affect the sample size?"
   ],
   "cell_type": "markdown",
   "metadata": {}
  },
  {
   "source": [
    "**A:**\n",
    "* Increasing the margin of error decreases the sample size.\n",
    "* Decreasing the margin of error increases the sample size."
   ],
   "cell_type": "markdown",
   "metadata": {}
  },
  {
   "source": [
    "***"
   ],
   "cell_type": "markdown",
   "metadata": {}
  },
  {
   "source": [
    "## Population Size\n",
    "\n",
    "Our sample should accurately represent the population as a whole. So, when we are dealing with a larger population, we should probably be sampling more people.\n",
    "\n",
    "It is sometimes tricky to determine what the effective population size is. For example, suppose there are $200$ people who currently visit BeetsMe regularly. Is $200$ the population size for our vegetable survey?\n",
    "\n",
    "If BeetsMe wants to appeal to the tourists that frequently visit Vancucumber, or if they ever want to launch an online store to ship healthy treats all over the world, the real population size is closer to $8$ billion (or infinity, really, if we think about the number of humans who could eventually exist and have vegetable preferences). So, for experiments like this, we use the highest population size we can. Normally, $100,000$ will suffice, as changes become negligible beyond that.\n",
    "\n",
    "Often, for decisions that require extrapolation to an unknown customer base, it is important to understand the preferences of a typical person out in the world, whether or not they are part of your customer base right now. Generally, we use this larger population size of $100,000$ or greater instead of focusing on the amount of current customers.\n",
    "\n",
    "However, if the small town of Vancucumber is holding an election for a new mayor, and we want to project the results of the election, _then_ the $1700$ citizens would be the only important people. In this case, $1700$ is the population size we would use in a sample size calculator."
   ],
   "cell_type": "markdown",
   "metadata": {}
  },
  {
   "source": [
    "***"
   ],
   "cell_type": "markdown",
   "metadata": {}
  },
  {
   "source": [
    "### Exercise\n",
    "\n",
    "1. You have a subscription service called **Flow-etry**, which sends customers a recording of a random poem being read rhythmically over a random beat once per day. There have been $100$ cancellations in the past month, and $96$ of them have answered a cancellation survey.\n",
    "\n",
    "    If you are conducting a survey about reasons for cancellation, what is a good choice for population size? Store your answer in a variable called `flow_population`."
   ],
   "cell_type": "markdown",
   "metadata": {}
  },
  {
   "cell_type": "code",
   "execution_count": 9,
   "metadata": {},
   "outputs": [],
   "source": [
    "flow_population = 100000"
   ]
  },
  {
   "source": [
    "2. You are doing a company-wide survey to determine what the team-bonding outing should be for this quarter. The options are laser tag, bowling, and karaoke. The company has $643$ employees.\n",
    "\n",
    "    What is the population size for this survey? Store your answer in a variable called `outing_pop`."
   ],
   "cell_type": "markdown",
   "metadata": {}
  },
  {
   "cell_type": "code",
   "execution_count": 10,
   "metadata": {},
   "outputs": [],
   "source": [
    "outing_pop = 643"
   ]
  },
  {
   "source": [
    "***"
   ],
   "cell_type": "markdown",
   "metadata": {}
  },
  {
   "source": [
    "## Likely Sample Proportion\n",
    "\n",
    "Often, before we conduct a survey, we have a guess of what we expect the results to be. This guess could be based upon the results from a previous survey, or perhaps the results of a small pilot study before the real study.\n",
    "\n",
    "As the expected proportion of people with the desired trait decreases, we can survey fewer people. For example, if we are projecting election results and Candidate $C$ has $1\\%$ of the voter base, taking a small sample of only $5$ people might be fine, because it is very likely that no one we have chosen is voting for Candidate $C$. This is close enough to the true proportion.\n",
    "\n",
    "As the expected proportion increases, it is rarer that we hit that proportion accurately with the random sample we choose.\n",
    "\n",
    "If we do not have historical data, we normally use $50\\%$, which gives the most conservative (i.e., largest required) sample size."
   ],
   "cell_type": "markdown",
   "metadata": {}
  },
  {
   "source": [
    "***"
   ],
   "cell_type": "markdown",
   "metadata": {}
  },
  {
   "source": [
    "### Exercise\n",
    "\n",
    "Input a small probability of success, like $10\\%$, into the <a href=\"https://content.codecademy.com/courses/learn-hypothesis-testing/binomial/index.html\">binomial calculator</a>.\n",
    "\n",
    "1. Observe the likelihood of getting $1$ success out of $10$ people sampled.\n",
    "\n",
    "2. Use $50\\%$ as the probability of success. What is the likelihood of getting exactly $5$ people with this trait? Is this higher or lower than it was in the previous situation."
   ],
   "cell_type": "markdown",
   "metadata": {}
  },
  {
   "source": [
    "**A:**\n",
    "\n",
    "1. The likelihood of getting $1$ success out of $10$ people sampled for a $10\\%$ probability of success is **$39\\%$**\n",
    "2. The likelihood of getting $5$ success out of $10$ people sampled for a $10\\%$ probability of success is **$25\\%$**"
   ],
   "cell_type": "markdown",
   "metadata": {}
  },
  {
   "source": [
    "***"
   ],
   "cell_type": "markdown",
   "metadata": {}
  },
  {
   "source": [
    "## Confidence Level\n",
    "\n",
    "We also need to choose a confidence level. The confidence level is the probability that the margin of error contains the true proportion. For example, if we choose a confidence level of $99\\%$, we can expect that after multiple repetitions of the survey, the true value will lie within our specified range $99\\%$ of the time. As we increase the confidence level, we must have a larger sample size.\n",
    "\n",
    "We normally use a confidence level of $95\\%$."
   ],
   "cell_type": "markdown",
   "metadata": {}
  },
  {
   "source": [
    "***"
   ],
   "cell_type": "markdown",
   "metadata": {}
  },
  {
   "source": [
    "### Exercise\n",
    "\n",
    "Try changing the confidence level on the <a href=\"https://content.codecademy.com/courses/learn-hypothesis-testing/margin_of_error/index.html\">calculator</a> to be 90%, 95%, and 99%. Note how the sample size changes."
   ],
   "cell_type": "markdown",
   "metadata": {}
  },
  {
   "source": [
    "<table>\n",
    "    <tr align=\"right\">\n",
    "        <td></td>\n",
    "        <td></td>\n",
    "        <th style=\"background-color:#4cb28d;color:black;\">Confidence Level</th>\n",
    "        <th style=\"background-color:#4cb28d;color:black;\">Sample size</th>\n",
    "    </tr>\n",
    "    <tr align=\"right\">\n",
    "        <th>Margin of error</th>\n",
    "        <td>5%</td>\n",
    "        <td style=\"background-color:#afca82;color:black;\">90%</td>\n",
    "        <td style=\"background-color:#afca82;color:black;\">270</td>\n",
    "    </tr>\n",
    "    <tr align=\"right\">\n",
    "        <th>Population size</th>\n",
    "        <td>100000</td>\n",
    "        <td style=\"background-color:white;color:black;\">95%</td>\n",
    "        <td style=\"background-color:white;color:black;\">383</td>\n",
    "    </tr>\n",
    "    <tr align=\"right\">\n",
    "        <th>Likely sample proportion</th>\n",
    "        <td>50%</td>\n",
    "        <td style=\"background-color:#afca82;color:black;\">99%</td>\n",
    "        <td style=\"background-color:#afca82;color:black;\">659</td>\n",
    "    </tr>\n",
    "</table>"
   ],
   "cell_type": "markdown",
   "metadata": {}
  },
  {
   "source": [
    "***"
   ],
   "cell_type": "markdown",
   "metadata": {}
  },
  {
   "source": [
    "## Sample Size of a Survey\n",
    "\n",
    "Once we determine appropriate values for the margin of error, confidence level, population size, and expected proportion values for our experiment, we can use a sample size calculator to determine the minimum sample size we need to survey to get the desired confidence in our answer.\n",
    "\n",
    "Let us put together what we have learned so far and determine the appropriate sample size for BeetsMe's vegetable survey."
   ],
   "cell_type": "markdown",
   "metadata": {}
  },
  {
   "source": [
    "***"
   ],
   "cell_type": "markdown",
   "metadata": {}
  },
  {
   "source": [
    "### Exercise\n",
    "\n",
    "1. We are now conducting the survey to see if beets are the best vegetable to choose as a base for our new juice. Our product manager tells us that we want to be within $4\\%$ of the correct answer, with a $95\\%$ confidence level.\n",
    "\n",
    "    The town of Vancucumber is made up of $1700$ people. We estimate that $40\\%$ of people think that the beet is the best vegetable.\n",
    "\n",
    "    Create variables `margin_of_error`, `confidence_level`, `likely_proportion`, and `population_size`. Store the values that will give you the most conservative sample size for this survey. For the percentages, use integers (e.g. $70\\%$ becomes `70`)."
   ],
   "cell_type": "markdown",
   "metadata": {}
  },
  {
   "cell_type": "code",
   "execution_count": 11,
   "metadata": {},
   "outputs": [],
   "source": [
    "margin_of_error = 4\n",
    "confidence_level = 95\n",
    "likely_proportion = 40\n",
    "population_size = 100000"
   ]
  },
  {
   "source": [
    "2. Enter the values you decided on for margin of error, confidence level, population size, and likely population proportion into the sample size calculator. What sample size do we need?\n",
    "\n",
    "    Store your answer in a variable called `sample_size`."
   ],
   "cell_type": "markdown",
   "metadata": {}
  },
  {
   "cell_type": "code",
   "execution_count": 12,
   "metadata": {},
   "outputs": [],
   "source": [
    "sample_size = 573"
   ]
  },
  {
   "source": [
    "3. You know that you get $600$ customers into BeetsMe per week. We estimate that $20\\%$ (or $120$) of them will answer the written survey that we hand them with their receipt. How many weeks will it take to get the appropriate number of survey responses?\n",
    "\n",
    "    Store your answer in a variable called `weeks_of_survey`."
   ],
   "cell_type": "markdown",
   "metadata": {}
  },
  {
   "cell_type": "code",
   "execution_count": 13,
   "metadata": {},
   "outputs": [
    {
     "output_type": "execute_result",
     "data": {
      "text/plain": [
       "5"
      ]
     },
     "metadata": {},
     "execution_count": 13
    }
   ],
   "source": [
    "import math\n",
    "\n",
    "customers_per_week = 600\n",
    "percentage_answering_survey = 20\n",
    "\n",
    "weeks_of_survey = math.ceil(sample_size / (customers_per_week * percentage_answering_survey / 100))\n",
    "\n",
    "weeks_of_survey"
   ]
  },
  {
   "source": [
    "***"
   ],
   "cell_type": "markdown",
   "metadata": {}
  },
  {
   "source": [
    "## Differing Survey Results\n",
    "\n",
    "Suppose we are going to survey a group of high school students to see what programming language they want to learn. In the survey, we give the students two choices: JavaScript or Python. This seems like a problem where we would use a Sample Size Survey Calculator.\n",
    "\n",
    "But what if we do not care about getting a specific margin of error? What if instead, we want to make a comparison: Are girls more likely to want to learn Python than boys are?\n",
    "\n",
    "This survey is more similar to an A/B Test. Our _baseline_ is the approximate percent of boys who want to learn Python, and our desired _lift_ is the minimum difference between boys and girls that we want to be able to detect.\n",
    "\n",
    "Whenever we want to make comparisons between subpopulations in our survey, we can use the <a href=\"https://content.codecademy.com/courses/learn-hypothesis-testing/a_b_sample_size/index4.html\">A/B Test Calculator</a> in order to get our desired survey size."
   ],
   "cell_type": "markdown",
   "metadata": {}
  },
  {
   "source": [
    "***"
   ],
   "cell_type": "markdown",
   "metadata": {}
  },
  {
   "source": [
    "### Exercise\n",
    "\n",
    "1. A local high school is having a battle of the bands because they cannot decide who should play the Junior/Senior dance. All the big names are going to give it a shot: _The Secretariats_, _Frank & Stein's Monsters_, _Bad Words_, even _Sour Candy_. We suspect that _Sour Candy_ is more popular with seniors than with juniors. In previous years, about $35\\%$ of juniors preferred _Sour Candy_. We are worried about a difference of more than $14$ percentage points ($40\\%$ difference), and plan to use a $15\\%$ (`0.15`) significance level for our test. How many students should we invite to the battle of the bands in order to test our hypothesis? Save your answer to `band_battle_sample_size`."
   ],
   "cell_type": "markdown",
   "metadata": {}
  },
  {
   "cell_type": "code",
   "execution_count": 14,
   "metadata": {},
   "outputs": [],
   "source": [
    "band_battle_sample_size = 253"
   ]
  }
 ]
}