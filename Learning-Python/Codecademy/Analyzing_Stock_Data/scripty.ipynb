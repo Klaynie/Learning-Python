{
 "metadata": {
  "language_info": {
   "codemirror_mode": {
    "name": "ipython",
    "version": 3
   },
   "file_extension": ".py",
   "mimetype": "text/x-python",
   "name": "python",
   "nbconvert_exporter": "python",
   "pygments_lexer": "ipython3",
   "version": "3.9.1-final"
  },
  "orig_nbformat": 2,
  "kernelspec": {
   "name": "python3",
   "display_name": "Python 3.9.1 64-bit",
   "metadata": {
    "interpreter": {
     "hash": "ac59ebe37160ed0dfa835113d9b8498d9f09ceb179beaac4002f036b9467c963"
    }
   }
  }
 },
 "nbformat": 4,
 "nbformat_minor": 2,
 "cells": [
  {
   "source": [
    "# Analyzing Stock Data\n",
    "\n",
    "It is time to put your Python skills and financial knowledge to the test!\n",
    "\n",
    "You are given the monthly stock prices of two e-commerce companies, Amazon (AMZN) and eBay (EBAY). Help us analyze the risk and return for each investment! You will calculate the rates of return from this data, as well as other key statistics such as variance and correlation for assessing risk.\n",
    "\n",
    "Let us get started!"
   ],
   "cell_type": "markdown",
   "metadata": {}
  },
  {
   "source": [
    "1. In the cell below, you are provided with the monthly stock prices of Amazon (AMZN) and eBay (EBAY) over the course of a year (June 2018 to June 2019). You are also given a helper function that displays decimal values (such as `0.075`) in percentage form ($7.5\\%$).\n",
    "\n",
    "    In utils.py, you will find functions for calculating the log rate of return, variance, standard deviation, and correlation coefficient. They are imported at the top of script.py.\n",
    "\n",
    "    Take a moment to familiarize yourself with these functions!"
   ],
   "cell_type": "markdown",
   "metadata": {}
  },
  {
   "cell_type": "code",
   "execution_count": 1,
   "metadata": {},
   "outputs": [],
   "source": [
    "from utils import *\n",
    "\n",
    "def display_as_percentage(val):\n",
    "  return '{:.1f}%'.format(val * 100)\n",
    "\n",
    "amazon_prices = [1699.8, 1777.44, 2012.71, 2003.0, 1598.01, 1690.17, 1501.97, 1718.73, 1639.83, 1780.75, 1926.52, 1775.07, 1893.63]\n",
    "ebay_prices = [35.98, 33.2, 34.35, 32.77, 28.81, 29.62, 27.86, 33.39, 37.01, 37.0, 38.6, 35.93, 39.5]"
   ]
  },
  {
   "source": [
    "2. Let us start by calculating the logarithmic rates of return from the stock prices. Define a function called `get_returns()` that takes a parameter called prices, which will be a list of stock prices.\n",
    "\n",
    "    The function will eventually return a list of log returns calculated from each adjacent pair of prices. For now, create a variable called `returns` inside the function body, and set it equal to an empty list."
   ],
   "cell_type": "markdown",
   "metadata": {}
  },
  {
   "cell_type": "code",
   "execution_count": 2,
   "metadata": {},
   "outputs": [],
   "source": [
    "def get_returns(prices):\n",
    "    returns = []"
   ]
  },
  {
   "source": [
    "3. Next, use a `for` loop to iterate over the prices list, from the 1st element to the 2nd to last.\n",
    "\n",
    "    You will be accessing the elements by their indices, so use the `range()` function to help generate the sequence of numbers to iterate over. Recall that Python uses zero-based indexing, meaning the index numbering of the list starts with `0` and ends with `n - 1`, where `n` is the number of elements in the list."
   ],
   "cell_type": "markdown",
   "metadata": {}
  },
  {
   "cell_type": "code",
   "execution_count": 3,
   "metadata": {},
   "outputs": [],
   "source": [
    "def get_returns(prices):\n",
    "    returns = []\n",
    "    n = len(prices)\n",
    "    for i in range(n - 1):\n",
    "        pass"
   ]
  },
  {
   "source": [
    "4. As you iterate over each index `i`, the element in the `prices` list that is at position `i` will be the start price and the element with index `i + 1` will be the end price. Use the `calculate_log_return()` function imported from `utils.py` to calculate the rate of return from the start and end prices. Then, append the rate of return to the `returns` list.\n",
    "\n",
    "    After your for loop, return `returns` from the `get_returns()` function."
   ],
   "cell_type": "markdown",
   "metadata": {}
  },
  {
   "cell_type": "code",
   "execution_count": 4,
   "metadata": {},
   "outputs": [],
   "source": [
    "def get_returns(prices):\n",
    "    returns = []\n",
    "    n = len(prices)\n",
    "    for i in range(n - 1):\n",
    "        returns.append(calculate_log_return(prices[i], prices[i + 1]))\n",
    "    return returns"
   ]
  },
  {
   "source": [
    "5. Use the `get_returns()` function to find the monthly log rates of return from the Amazon and eBay stock prices. Store those list of returns in the variables `amazon_returns` and `ebay_returns`, respectively."
   ],
   "cell_type": "markdown",
   "metadata": {}
  },
  {
   "cell_type": "code",
   "execution_count": 5,
   "metadata": {},
   "outputs": [],
   "source": [
    "amazon_returns = get_returns(amazon_prices)\n",
    "ebay_returns = get_returns(ebay_prices)"
   ]
  },
  {
   "source": [
    "6. Time to print out the lists of monthly returns! Since rates of return is often expressed as a percentage, use the display_as_percentage() function and list comprehension to display each value in amazon_returns and ebay_returns as a percentage.\n",
    "\n",
    "    How do the monthly returns of the two stocks compare? Are they on average profitable?"
   ],
   "cell_type": "markdown",
   "metadata": {}
  },
  {
   "cell_type": "code",
   "execution_count": 6,
   "metadata": {},
   "outputs": [
    {
     "output_type": "stream",
     "name": "stdout",
     "text": [
      "['4.5%', '12.4%', '-0.5%', '-22.6%', '5.6%', '-11.8%', '13.5%', '-4.7%', '8.2%', '7.9%', '-8.2%', '6.5%']\n['-8.0%', '3.4%', '-4.7%', '-12.9%', '2.8%', '-6.1%', '18.1%', '10.3%', '-0.0%', '4.2%', '-7.2%', '9.5%']\n"
     ]
    }
   ],
   "source": [
    "print([display_as_percentage(item) for item in amazon_returns])\n",
    "print([display_as_percentage(item) for item in ebay_returns])"
   ]
  },
  {
   "source": [
    "**A**: For both stocks, there are more months where the rate of return is positive (indicating a profit) rather than negative (indicating a loss). Amazon has more profitable months than eBay."
   ],
   "cell_type": "markdown",
   "metadata": {}
  },
  {
   "source": [
    "7. Now, let us calculate the annual rate of return for each stock!\n",
    "\n",
    "    Recall that log returns can easily be aggregated over time. Since amazon_returns and ebay_returns contain the monthly log returns for all 12 months in the past year, the annual return is simply the sum of all monthly returns. Use the display_as_percentage() function to help format the annual return as a percentage when you print out the results.\n",
    "\n",
    "    How do the annual returns of the two stocks compare?"
   ],
   "cell_type": "markdown",
   "metadata": {}
  },
  {
   "cell_type": "code",
   "execution_count": 7,
   "metadata": {},
   "outputs": [
    {
     "output_type": "stream",
     "name": "stdout",
     "text": [
      "10.8%\n9.3%\n"
     ]
    }
   ],
   "source": [
    "print(display_as_percentage(sum(amazon_returns)))\n",
    "print(display_as_percentage(sum(ebay_returns)))"
   ]
  },
  {
   "source": [
    "**A**: We can see that Amazon's annual return is slightly higher than eBay's annual return."
   ],
   "cell_type": "markdown",
   "metadata": {}
  },
  {
   "source": [
    "## Assess Investment Risk\n",
    "\n",
    "8. Let us move on to assessing the risk of each investment! Start by calculating the variance of each stock's monthly returns. Use the `calculate_variance() `function imported at the top of script.py, and print out the results.\n",
    "\n",
    "    How do the variance for each stock compare? What does this tell you about their relative risk?"
   ],
   "cell_type": "markdown",
   "metadata": {}
  },
  {
   "cell_type": "code",
   "execution_count": 8,
   "metadata": {},
   "outputs": [
    {
     "output_type": "stream",
     "name": "stdout",
     "text": [
      "0.010738060556609724\n0.007459046435081462\n"
     ]
    }
   ],
   "source": [
    "print(calculate_variance(amazon_returns))\n",
    "print(calculate_variance(ebay_returns))"
   ]
  },
  {
   "source": [
    "**A**: The variance for Amazon's monthly returns is slightly higher than eBay's. A greater variance generally signifies a riskier investment."
   ],
   "cell_type": "markdown",
   "metadata": {}
  },
  {
   "source": [
    "9. Now, calculate the standard deviation of each stock's monthly returns using the `calculate_stddev()` function, and print out the results.\n",
    "\n",
    "    Recall that the standard deviation has the same unit of measurement as the original dataset, or the monthly returns in this case. Since rates of return are often expressed as a percentage, use `display_as_percentage()` to help format the standard deviation for easier interpretation."
   ],
   "cell_type": "markdown",
   "metadata": {}
  },
  {
   "cell_type": "code",
   "execution_count": 9,
   "metadata": {},
   "outputs": [
    {
     "output_type": "stream",
     "name": "stdout",
     "text": [
      "10.4%\n8.6%\n"
     ]
    }
   ],
   "source": [
    "print(display_as_percentage(calculate_stddev(amazon_returns)))\n",
    "print(display_as_percentage(calculate_stddev(ebay_returns)))"
   ]
  },
  {
   "source": [
    "**A**: Amazon's monthly returns have a greater standard deviation than eBay's. As we have already seen previously, investing in Amazon stock is likely riskier.\n",
    "\n",
    "It is worthwhile to note again that Amazon also has the higher rate of return. This demonstrates the risk-return tradeoff that often exists in investments."
   ],
   "cell_type": "markdown",
   "metadata": {}
  },
  {
   "source": [
    "10. Finally, calculate the correlation between the stock returns using the `calculate_correlation()` function, and print out the results.\n",
    "\n",
    "    Are Amazon and eBay stock returns strongly or weakly correlated? Is the correlation positive or negative?"
   ],
   "cell_type": "markdown",
   "metadata": {}
  },
  {
   "cell_type": "code",
   "execution_count": 10,
   "metadata": {},
   "outputs": [
    {
     "output_type": "stream",
     "name": "stdout",
     "text": [
      "0.6776978564073072\n"
     ]
    }
   ],
   "source": [
    "print(calculate_correlation(amazon_returns, ebay_returns))"
   ]
  },
  {
   "source": [
    "**A**: The correlation coefficient between Amazon and eBay stock returns is around `0.67`, so there is a moderate positive correlation. Stocks from the same industry tend to have a positive correlation because they are affected by similar external conditions.\n",
    "\n",
    "We should be careful about investing in highly correlated stocks to avoid putting all our eggs in one basket, so to speak. Instead, it is wise to invest in uncorrelated stocks, such that a loss in one does not automatically mean a loss in the other. This diversifies the investment portfolio and reduces overall risk."
   ],
   "cell_type": "markdown",
   "metadata": {}
  }
 ]
}