{
 "metadata": {
  "language_info": {
   "codemirror_mode": {
    "name": "ipython",
    "version": 3
   },
   "file_extension": ".py",
   "mimetype": "text/x-python",
   "name": "python",
   "nbconvert_exporter": "python",
   "pygments_lexer": "ipython3",
   "version": "3.9.1-final"
  },
  "orig_nbformat": 2,
  "kernelspec": {
   "name": "python3",
   "display_name": "Python 3.9.1 64-bit",
   "metadata": {
    "interpreter": {
     "hash": "ac59ebe37160ed0dfa835113d9b8498d9f09ceb179beaac4002f036b9467c963"
    }
   }
  }
 },
 "nbformat": 4,
 "nbformat_minor": 2,
 "cells": [
  {
   "source": [
    "#Importing Finance Data\n",
    "\n",
    "## Importing CSV Data Manually\n",
    "\n",
    "The easiest way to import financial data into Python is to get it from a file that is stored locally on your computer.\n",
    "```\n",
    "date,open,close,volume\n",
    "2013-02-08,54.38,54.66,9584224\n",
    "2013-02-11,54.65,54.75,6358524\n",
    "2013-02-12,54.77,54.95,8758025\n",
    "2013-02-13,55.08,54.96,5701775\n",
    "…\n",
    "```\n",
    "In the above csv file we have comma separated historical stock price data for Disney (DIS) which includes date, open, close and volume fields.\n",
    "\n",
    "In order to import data from a csv like this, the pandas module has a useful function: `read_csv`.\n",
    "```\n",
    "import pandas as pd\n",
    "data = pd.read_csv(\"data.csv\")\n",
    "```\n",
    "This function takes as an argument the location of the csv file you want to import, and outputs a pandas DataFrame containing the data from the file"
   ],
   "cell_type": "markdown",
   "metadata": {}
  },
  {
   "source": [
    "***\n",
    "### Exercise"
   ],
   "cell_type": "markdown",
   "metadata": {}
  },
  {
   "source": [
    "1. Let us try importing data from the csv included in the workspace to the right, `disney_prices.csv`. Look at the file and familiarize yourself with its structure (It is the full version of the file that we looked at in the narrative).\n",
    "\n",
    "    Import the pandas module in a variable called pd."
   ],
   "cell_type": "markdown",
   "metadata": {}
  },
  {
   "cell_type": "code",
   "execution_count": 1,
   "metadata": {},
   "outputs": [],
   "source": [
    "import pandas as pd"
   ]
  },
  {
   "source": [
    "2. Using pandas, import the disney prices data into a variable called `disney_prices` and print the results."
   ],
   "cell_type": "markdown",
   "metadata": {}
  },
  {
   "cell_type": "code",
   "execution_count": 2,
   "metadata": {},
   "outputs": [
    {
     "output_type": "execute_result",
     "data": {
      "text/plain": [
       "            date    open   close    volume\n",
       "0     2013-02-08   54.38   54.66   9584224\n",
       "1     2013-02-11   54.65   54.75   6358524\n",
       "2     2013-02-12   54.77   54.95   8758025\n",
       "3     2013-02-13   55.08   54.96   5701775\n",
       "4     2013-02-14   54.92   54.88   8564486\n",
       "...          ...     ...     ...       ...\n",
       "1254  2018-02-01  108.62  110.49   9518857\n",
       "1255  2018-02-02  109.95  108.70   9947657\n",
       "1256  2018-02-05  107.10  104.70  15107942\n",
       "1257  2018-02-06  102.88  106.17  17765068\n",
       "1258  2018-02-07  107.83  104.76  12444982\n",
       "\n",
       "[1259 rows x 4 columns]"
      ],
      "text/html": "<div>\n<style scoped>\n    .dataframe tbody tr th:only-of-type {\n        vertical-align: middle;\n    }\n\n    .dataframe tbody tr th {\n        vertical-align: top;\n    }\n\n    .dataframe thead th {\n        text-align: right;\n    }\n</style>\n<table border=\"1\" class=\"dataframe\">\n  <thead>\n    <tr style=\"text-align: right;\">\n      <th></th>\n      <th>date</th>\n      <th>open</th>\n      <th>close</th>\n      <th>volume</th>\n    </tr>\n  </thead>\n  <tbody>\n    <tr>\n      <th>0</th>\n      <td>2013-02-08</td>\n      <td>54.38</td>\n      <td>54.66</td>\n      <td>9584224</td>\n    </tr>\n    <tr>\n      <th>1</th>\n      <td>2013-02-11</td>\n      <td>54.65</td>\n      <td>54.75</td>\n      <td>6358524</td>\n    </tr>\n    <tr>\n      <th>2</th>\n      <td>2013-02-12</td>\n      <td>54.77</td>\n      <td>54.95</td>\n      <td>8758025</td>\n    </tr>\n    <tr>\n      <th>3</th>\n      <td>2013-02-13</td>\n      <td>55.08</td>\n      <td>54.96</td>\n      <td>5701775</td>\n    </tr>\n    <tr>\n      <th>4</th>\n      <td>2013-02-14</td>\n      <td>54.92</td>\n      <td>54.88</td>\n      <td>8564486</td>\n    </tr>\n    <tr>\n      <th>...</th>\n      <td>...</td>\n      <td>...</td>\n      <td>...</td>\n      <td>...</td>\n    </tr>\n    <tr>\n      <th>1254</th>\n      <td>2018-02-01</td>\n      <td>108.62</td>\n      <td>110.49</td>\n      <td>9518857</td>\n    </tr>\n    <tr>\n      <th>1255</th>\n      <td>2018-02-02</td>\n      <td>109.95</td>\n      <td>108.70</td>\n      <td>9947657</td>\n    </tr>\n    <tr>\n      <th>1256</th>\n      <td>2018-02-05</td>\n      <td>107.10</td>\n      <td>104.70</td>\n      <td>15107942</td>\n    </tr>\n    <tr>\n      <th>1257</th>\n      <td>2018-02-06</td>\n      <td>102.88</td>\n      <td>106.17</td>\n      <td>17765068</td>\n    </tr>\n    <tr>\n      <th>1258</th>\n      <td>2018-02-07</td>\n      <td>107.83</td>\n      <td>104.76</td>\n      <td>12444982</td>\n    </tr>\n  </tbody>\n</table>\n<p>1259 rows × 4 columns</p>\n</div>"
     },
     "metadata": {},
     "execution_count": 2
    }
   ],
   "source": [
    "disney_prices = pd.read_csv(\"disney_prices.csv\")\n",
    "disney_prices"
   ]
  },
  {
   "source": [
    "***"
   ],
   "cell_type": "markdown",
   "metadata": {}
  },
  {
   "source": [
    "## Importing Data Using Datareader\n",
    "\n",
    "Many financial institutions, stock markets, and world banks provide large amounts of the data they store to the public.\n",
    "\n",
    "Most of this data is well organized, live updated, and accessible through the use of an application programming interface (API), which gives programming languages like Python a way to download and import it.\n",
    "\n",
    "### Pandas-Datareader Module\n",
    "\n",
    "The **pandas-datareader** module is designed specifically to interact with some of the world's most popular finance data APIs, and import their data into an easily digestible pandas DataFrame.\n",
    "\n",
    "Each finance API is accessed using a different function exposed by pandas-datareader. Generally accessing each API requires a different set of arguments and information that needs to be provided by the programmer.\n",
    "\n",
    "Throughout this lesson we will be importing data from several of these APIs and playing around with it.\n",
    "\n",
    "For a full list of all the data pandas-datareader is able to access you can check out the official <a href=\"https://pandas-datareader.readthedocs.io/en/latest/index.html\">documentation</a>."
   ],
   "cell_type": "markdown",
   "metadata": {}
  },
  {
   "source": [
    "***\n",
    "### Exercise"
   ],
   "cell_type": "markdown",
   "metadata": {}
  },
  {
   "source": [
    "1. In the cell below there is a small program which uses `pandas_datareader` to get gdp data from the <a href=\"https://www.worldbank.org/en/home\">World Bank API</a>.\n",
    "\n",
    "    Take a moment to look it over. It is okay if it does not make sense right now, but notice some of the variables that are being created, start and end dates, a data indicator id and a list of countries.\n",
    "\n",
    "    Now run the code. It should print out the DataFrame of data that got imported from the World Bank."
   ],
   "cell_type": "markdown",
   "metadata": {}
  },
  {
   "cell_type": "code",
   "execution_count": 3,
   "metadata": {},
   "outputs": [
    {
     "output_type": "stream",
     "name": "stdout",
     "text": [
      "                    NY.GDP.PCAP.KD\ncountry       year                \nCanada        2008    48495.204040\n              2007    48534.174477\n              2006    45857.996552\n              2005    44471.080060\nMexico        2008     9587.636339\n              2007     9622.047957\n              2006     9547.333571\n              2005     9270.656542\nUnited States 2008    49319.478865\n              2007    49856.281490\n              2006    49405.767296\n              2005    48499.812374\n"
     ]
    }
   ],
   "source": [
    "from pandas_datareader import wb\n",
    "from datetime import datetime\n",
    "\n",
    "start = datetime(2005, 1, 1)\n",
    "end = datetime(2008, 1, 1)\n",
    "indicator_id = 'NY.GDP.PCAP.KD'\n",
    "\n",
    "gdp_per_capita = wb.download(indicator=indicator_id, start=start, end=end, country=['US', 'CA', 'MX'])\n",
    "\n",
    "print(gdp_per_capita)"
   ]
  },
  {
   "source": [
    "***"
   ],
   "cell_type": "markdown",
   "metadata": {}
  },
  {
   "source": [
    "## Getting NASDAQ Symbols\n",
    "\n",
    "The NASDAQ stock exchange identifies each of its stocks using a unique symbol:\n",
    "\n",
    "* Apple - **APPL**\n",
    "* Google - **GOOGL**\n",
    "* Tesla - **TSLA**\n",
    "\n",
    "It also provides a useful API for accessing the symbols that are currently trading on it.\n",
    "\n",
    "Pandas-datareader provides several functions for importing data from NASDAQ's API through its `nasdaq_trader` sub-module.\n",
    "```\n",
    "from pandas-datareader.nasdaq_trader import func\n",
    "```\n",
    "In the code above we are importing a function called `func` from the NASDAQ submodule.\n",
    "\n",
    "In order to import the list of stock symbols, we will want to use nasdaq_trader's `get_nasdaq_symbols` function.\n",
    "```\n",
    "symbols = get_nasdaq_symbols()\n",
    "```\n",
    "When called, it will go off to NASDAQ's API, and import the list of symbols trading at that moment.\n",
    "\n",
    "The benefit of using pandas-datareader is that all of the logic for interacting with NASDAQ's API or any other API is encapsulated into easy to use sub-modules and functions like the ones above."
   ],
   "cell_type": "markdown",
   "metadata": {}
  },
  {
   "source": [
    "***\n",
    "### Exercise"
   ],
   "cell_type": "markdown",
   "metadata": {}
  },
  {
   "source": [
    "1. First we will need to import the correct function from pandas_datareader. In the text editor write the code for importing the `get_nasdaq_symbols` function from the `pandas_datareader.nasdaq_trader` submodule."
   ],
   "cell_type": "markdown",
   "metadata": {}
  },
  {
   "cell_type": "code",
   "execution_count": 4,
   "metadata": {},
   "outputs": [],
   "source": [
    "from pandas_datareader.nasdaq_trader import get_nasdaq_symbols"
   ]
  },
  {
   "source": [
    "2. Now that we have the `get_nasdaq_symbols` function imported let us use it. Call the function (it does not take any arguments), store the resulting DataFrame in a variable called `symbols` and print it out."
   ],
   "cell_type": "markdown",
   "metadata": {}
  },
  {
   "cell_type": "code",
   "execution_count": 5,
   "metadata": {},
   "outputs": [
    {
     "output_type": "execute_result",
     "data": {
      "text/plain": [
       "        Nasdaq Traded                                      Security Name  \\\n",
       "Symbol                                                                     \n",
       "A                True            Agilent Technologies, Inc. Common Stock   \n",
       "AA               True                    Alcoa Corporation Common Stock    \n",
       "AAA              True  Listed Funds Trust AAF First Priority CLO Bond...   \n",
       "AAAU             True             Goldman Sachs Physical Gold ETF Shares   \n",
       "AAC.U            True  Ares Acquisition Corporation Units, each consi...   \n",
       "...               ...                                                ...   \n",
       "ZXYZ.A           True                 Nasdaq Symbology Test Common Stock   \n",
       "ZXZZT            True                                  NASDAQ TEST STOCK   \n",
       "ZYME             True                       Zymeworks Inc. Common Shares   \n",
       "ZYNE             True       Zynerba Pharmaceuticals, Inc. - Common Stock   \n",
       "ZYXI             True                         Zynex, Inc. - Common Stock   \n",
       "\n",
       "       Listing Exchange Market Category    ETF  Round Lot Size  Test Issue  \\\n",
       "Symbol                                                                       \n",
       "A                     N                  False           100.0       False   \n",
       "AA                    N                  False           100.0       False   \n",
       "AAA                   P                   True           100.0       False   \n",
       "AAAU                  P                   True           100.0       False   \n",
       "AAC.U                 N                  False           100.0       False   \n",
       "...                 ...             ...    ...             ...         ...   \n",
       "ZXYZ.A                Q               Q  False           100.0        True   \n",
       "ZXZZT                 Q               G  False           100.0        True   \n",
       "ZYME                  N                  False           100.0       False   \n",
       "ZYNE                  Q               G  False           100.0       False   \n",
       "ZYXI                  Q               S  False           100.0       False   \n",
       "\n",
       "       Financial Status CQS Symbol NASDAQ Symbol  NextShares  \n",
       "Symbol                                                        \n",
       "A                   NaN          A             A       False  \n",
       "AA                  NaN         AA            AA       False  \n",
       "AAA                 NaN        AAA           AAA       False  \n",
       "AAAU                NaN       AAAU          AAAU       False  \n",
       "AAC.U               NaN      AAC.U          AAC=       False  \n",
       "...                 ...        ...           ...         ...  \n",
       "ZXYZ.A                N        NaN        ZXYZ.A       False  \n",
       "ZXZZT                 N        NaN         ZXZZT       False  \n",
       "ZYME                NaN       ZYME          ZYME       False  \n",
       "ZYNE                  N        NaN          ZYNE       False  \n",
       "ZYXI                  N        NaN          ZYXI       False  \n",
       "\n",
       "[10087 rows x 11 columns]"
      ],
      "text/html": "<div>\n<style scoped>\n    .dataframe tbody tr th:only-of-type {\n        vertical-align: middle;\n    }\n\n    .dataframe tbody tr th {\n        vertical-align: top;\n    }\n\n    .dataframe thead th {\n        text-align: right;\n    }\n</style>\n<table border=\"1\" class=\"dataframe\">\n  <thead>\n    <tr style=\"text-align: right;\">\n      <th></th>\n      <th>Nasdaq Traded</th>\n      <th>Security Name</th>\n      <th>Listing Exchange</th>\n      <th>Market Category</th>\n      <th>ETF</th>\n      <th>Round Lot Size</th>\n      <th>Test Issue</th>\n      <th>Financial Status</th>\n      <th>CQS Symbol</th>\n      <th>NASDAQ Symbol</th>\n      <th>NextShares</th>\n    </tr>\n    <tr>\n      <th>Symbol</th>\n      <th></th>\n      <th></th>\n      <th></th>\n      <th></th>\n      <th></th>\n      <th></th>\n      <th></th>\n      <th></th>\n      <th></th>\n      <th></th>\n      <th></th>\n    </tr>\n  </thead>\n  <tbody>\n    <tr>\n      <th>A</th>\n      <td>True</td>\n      <td>Agilent Technologies, Inc. Common Stock</td>\n      <td>N</td>\n      <td></td>\n      <td>False</td>\n      <td>100.0</td>\n      <td>False</td>\n      <td>NaN</td>\n      <td>A</td>\n      <td>A</td>\n      <td>False</td>\n    </tr>\n    <tr>\n      <th>AA</th>\n      <td>True</td>\n      <td>Alcoa Corporation Common Stock</td>\n      <td>N</td>\n      <td></td>\n      <td>False</td>\n      <td>100.0</td>\n      <td>False</td>\n      <td>NaN</td>\n      <td>AA</td>\n      <td>AA</td>\n      <td>False</td>\n    </tr>\n    <tr>\n      <th>AAA</th>\n      <td>True</td>\n      <td>Listed Funds Trust AAF First Priority CLO Bond...</td>\n      <td>P</td>\n      <td></td>\n      <td>True</td>\n      <td>100.0</td>\n      <td>False</td>\n      <td>NaN</td>\n      <td>AAA</td>\n      <td>AAA</td>\n      <td>False</td>\n    </tr>\n    <tr>\n      <th>AAAU</th>\n      <td>True</td>\n      <td>Goldman Sachs Physical Gold ETF Shares</td>\n      <td>P</td>\n      <td></td>\n      <td>True</td>\n      <td>100.0</td>\n      <td>False</td>\n      <td>NaN</td>\n      <td>AAAU</td>\n      <td>AAAU</td>\n      <td>False</td>\n    </tr>\n    <tr>\n      <th>AAC.U</th>\n      <td>True</td>\n      <td>Ares Acquisition Corporation Units, each consi...</td>\n      <td>N</td>\n      <td></td>\n      <td>False</td>\n      <td>100.0</td>\n      <td>False</td>\n      <td>NaN</td>\n      <td>AAC.U</td>\n      <td>AAC=</td>\n      <td>False</td>\n    </tr>\n    <tr>\n      <th>...</th>\n      <td>...</td>\n      <td>...</td>\n      <td>...</td>\n      <td>...</td>\n      <td>...</td>\n      <td>...</td>\n      <td>...</td>\n      <td>...</td>\n      <td>...</td>\n      <td>...</td>\n      <td>...</td>\n    </tr>\n    <tr>\n      <th>ZXYZ.A</th>\n      <td>True</td>\n      <td>Nasdaq Symbology Test Common Stock</td>\n      <td>Q</td>\n      <td>Q</td>\n      <td>False</td>\n      <td>100.0</td>\n      <td>True</td>\n      <td>N</td>\n      <td>NaN</td>\n      <td>ZXYZ.A</td>\n      <td>False</td>\n    </tr>\n    <tr>\n      <th>ZXZZT</th>\n      <td>True</td>\n      <td>NASDAQ TEST STOCK</td>\n      <td>Q</td>\n      <td>G</td>\n      <td>False</td>\n      <td>100.0</td>\n      <td>True</td>\n      <td>N</td>\n      <td>NaN</td>\n      <td>ZXZZT</td>\n      <td>False</td>\n    </tr>\n    <tr>\n      <th>ZYME</th>\n      <td>True</td>\n      <td>Zymeworks Inc. Common Shares</td>\n      <td>N</td>\n      <td></td>\n      <td>False</td>\n      <td>100.0</td>\n      <td>False</td>\n      <td>NaN</td>\n      <td>ZYME</td>\n      <td>ZYME</td>\n      <td>False</td>\n    </tr>\n    <tr>\n      <th>ZYNE</th>\n      <td>True</td>\n      <td>Zynerba Pharmaceuticals, Inc. - Common Stock</td>\n      <td>Q</td>\n      <td>G</td>\n      <td>False</td>\n      <td>100.0</td>\n      <td>False</td>\n      <td>N</td>\n      <td>NaN</td>\n      <td>ZYNE</td>\n      <td>False</td>\n    </tr>\n    <tr>\n      <th>ZYXI</th>\n      <td>True</td>\n      <td>Zynex, Inc. - Common Stock</td>\n      <td>Q</td>\n      <td>S</td>\n      <td>False</td>\n      <td>100.0</td>\n      <td>False</td>\n      <td>N</td>\n      <td>NaN</td>\n      <td>ZYXI</td>\n      <td>False</td>\n    </tr>\n  </tbody>\n</table>\n<p>10087 rows × 11 columns</p>\n</div>"
     },
     "metadata": {},
     "execution_count": 5
    }
   ],
   "source": [
    "symbols = get_nasdaq_symbols()\n",
    "symbols"
   ]
  },
  {
   "source": [
    "***"
   ],
   "cell_type": "markdown",
   "metadata": {}
  },
  {
   "source": [
    "## Filtering Data by Date\n",
    "\n",
    "Many of the APIs pandas-datareader connects with allow us to filter the data we get back by time.\n",
    "\n",
    "Financial institutions tend to keep track of data dating back several decades, and when we are importing that data, it is useful to be able to specify exactly when we want it to be from.\n",
    "\n",
    "One API that does just that is the Federal Reserve Bank of St. Louis (FRED), which we can access by first importing the `pandas_datareader.data` sub-module and then calling its DataReader function:\n",
    "```\n",
    "import pandas_datareader.data as web\n",
    " \n",
    "web.DataReader('MORTGAGE30US', 'fred', start_date, end_date)\n",
    "```\n",
    "The DataReader function takes 4 arguments:\n",
    "\n",
    "* `'MORTGAGE30US'` - An identifier provided by the API specifying the data we want back, in this case 30 year mortgage data in the US\n",
    "* `'fred'` - The name of the API we want to access\n",
    "* `start_date`, `end_date` - The date range we want the data to be from\n",
    "\n",
    "The start and end dates are special data types called `datetime`s, which can be created using the Python `datetime` module.\n",
    "```\n",
    "from datetime import datetime\n",
    " \n",
    "start_date = datetime(2018, 7, 8) # year, month, day\n",
    "end_date = datetime(2019, 4, 13)\n",
    "```\n",
    "More info on creating datetimes can be found in the <a href=\"https://docs.python.org/3/library/datetime.html\">documentation here</a>.\n",
    "\n",
    "By changing up the start and end datetimes, you can easily filter when the data you get back is from."
   ],
   "cell_type": "markdown",
   "metadata": {}
  },
  {
   "source": [
    "***\n",
    "### Exercise"
   ],
   "cell_type": "markdown",
   "metadata": {}
  },
  {
   "source": [
    "1. Similar to the mortgage data, FRED also exposes data about the S&P 500, specifically the index's daily market cap. Let us grab this data from FRED. Start by importing the `pandas_datareader.data` module as `web`."
   ],
   "cell_type": "markdown",
   "metadata": {}
  },
  {
   "cell_type": "code",
   "execution_count": 6,
   "metadata": {},
   "outputs": [],
   "source": [
    "import pandas_datareader.data as web"
   ]
  },
  {
   "source": [
    "2. Now let us create two variables, our start and end times. We will track the market cap for the first month of 2019. `start` should be a datetime representing January 1, 2019, and `end` should represent February 1, 2019."
   ],
   "cell_type": "markdown",
   "metadata": {}
  },
  {
   "cell_type": "code",
   "execution_count": 7,
   "metadata": {},
   "outputs": [],
   "source": [
    "start = datetime(2019, 1, 1)\n",
    "end = datetime(2019, 2, 1)"
   ]
  },
  {
   "source": [
    "3. Now call the `web.DataReader` function to get the S&P data from FRED, store it in a variable called `sap_data` (the data id code is SP500), and print the results."
   ],
   "cell_type": "markdown",
   "metadata": {}
  },
  {
   "cell_type": "code",
   "execution_count": 8,
   "metadata": {},
   "outputs": [
    {
     "output_type": "execute_result",
     "data": {
      "text/plain": [
       "              SP500\n",
       "DATE               \n",
       "2019-01-01      NaN\n",
       "2019-01-02  2510.03\n",
       "2019-01-03  2447.89\n",
       "2019-01-04  2531.94\n",
       "2019-01-07  2549.69\n",
       "2019-01-08  2574.41\n",
       "2019-01-09  2584.96\n",
       "2019-01-10  2596.64\n",
       "2019-01-11  2596.26\n",
       "2019-01-14  2582.61\n",
       "2019-01-15  2610.30\n",
       "2019-01-16  2616.10\n",
       "2019-01-17  2635.96\n",
       "2019-01-18  2670.71\n",
       "2019-01-21      NaN\n",
       "2019-01-22  2632.90\n",
       "2019-01-23  2638.70\n",
       "2019-01-24  2642.33\n",
       "2019-01-25  2664.76\n",
       "2019-01-28  2643.85\n",
       "2019-01-29  2640.00\n",
       "2019-01-30  2681.05\n",
       "2019-01-31  2704.10\n",
       "2019-02-01  2706.53"
      ],
      "text/html": "<div>\n<style scoped>\n    .dataframe tbody tr th:only-of-type {\n        vertical-align: middle;\n    }\n\n    .dataframe tbody tr th {\n        vertical-align: top;\n    }\n\n    .dataframe thead th {\n        text-align: right;\n    }\n</style>\n<table border=\"1\" class=\"dataframe\">\n  <thead>\n    <tr style=\"text-align: right;\">\n      <th></th>\n      <th>SP500</th>\n    </tr>\n    <tr>\n      <th>DATE</th>\n      <th></th>\n    </tr>\n  </thead>\n  <tbody>\n    <tr>\n      <th>2019-01-01</th>\n      <td>NaN</td>\n    </tr>\n    <tr>\n      <th>2019-01-02</th>\n      <td>2510.03</td>\n    </tr>\n    <tr>\n      <th>2019-01-03</th>\n      <td>2447.89</td>\n    </tr>\n    <tr>\n      <th>2019-01-04</th>\n      <td>2531.94</td>\n    </tr>\n    <tr>\n      <th>2019-01-07</th>\n      <td>2549.69</td>\n    </tr>\n    <tr>\n      <th>2019-01-08</th>\n      <td>2574.41</td>\n    </tr>\n    <tr>\n      <th>2019-01-09</th>\n      <td>2584.96</td>\n    </tr>\n    <tr>\n      <th>2019-01-10</th>\n      <td>2596.64</td>\n    </tr>\n    <tr>\n      <th>2019-01-11</th>\n      <td>2596.26</td>\n    </tr>\n    <tr>\n      <th>2019-01-14</th>\n      <td>2582.61</td>\n    </tr>\n    <tr>\n      <th>2019-01-15</th>\n      <td>2610.30</td>\n    </tr>\n    <tr>\n      <th>2019-01-16</th>\n      <td>2616.10</td>\n    </tr>\n    <tr>\n      <th>2019-01-17</th>\n      <td>2635.96</td>\n    </tr>\n    <tr>\n      <th>2019-01-18</th>\n      <td>2670.71</td>\n    </tr>\n    <tr>\n      <th>2019-01-21</th>\n      <td>NaN</td>\n    </tr>\n    <tr>\n      <th>2019-01-22</th>\n      <td>2632.90</td>\n    </tr>\n    <tr>\n      <th>2019-01-23</th>\n      <td>2638.70</td>\n    </tr>\n    <tr>\n      <th>2019-01-24</th>\n      <td>2642.33</td>\n    </tr>\n    <tr>\n      <th>2019-01-25</th>\n      <td>2664.76</td>\n    </tr>\n    <tr>\n      <th>2019-01-28</th>\n      <td>2643.85</td>\n    </tr>\n    <tr>\n      <th>2019-01-29</th>\n      <td>2640.00</td>\n    </tr>\n    <tr>\n      <th>2019-01-30</th>\n      <td>2681.05</td>\n    </tr>\n    <tr>\n      <th>2019-01-31</th>\n      <td>2704.10</td>\n    </tr>\n    <tr>\n      <th>2019-02-01</th>\n      <td>2706.53</td>\n    </tr>\n  </tbody>\n</table>\n</div>"
     },
     "metadata": {},
     "execution_count": 8
    }
   ],
   "source": [
    "sap_data = web.DataReader('SP500', 'fred', start, end)\n",
    "sap_data"
   ]
  },
  {
   "source": [
    "***"
   ],
   "cell_type": "markdown",
   "metadata": {}
  },
  {
   "source": [
    "## API Keys\n",
    "\n",
    "Many finance APIs require us to pass along extra information when requesting data, one common argument is an API key.\n",
    "\n",
    "An API key is a unique string used to identify and authenticate entities requesting data.\n",
    "\n",
    "`003026bbc133714df1834b8638bb496e-8f4b3d9a-e931`\n",
    "\n",
    "Like the example above, API keys are generally long, randomly generated strings provided by the API.\n",
    "\n",
    "Some APIs, like the ones we have looked at so far, do not require a key to access data, but in general, most do.\n",
    "\n",
    "You can obtain a key by signing up with the website or organization hosting the API.\n",
    "\n",
    "A good rule is to treat your API keys like you would a password. You do not want to share them with anyone, and in the case of software development, you do not want to check them into source control systems like GitHub.\n",
    "\n",
    "## Using API Keys\n",
    "\n",
    "In some cases you will pass the API key directly into the pandas-datareader function you are using to access the API.\n",
    "\n",
    "Other times you will be required to set the API key as a more secure operating system (os) environment variable like with the quandl API below:\n",
    "``` \n",
    "os.environ[\"QUANDL_API_KEY\"] = \"demo\"\n",
    "df = web.DataReader('AAPL.US', 'quandl', start, end)\n",
    "```\n",
    "More info on `os.enviorn` can be found in the <a href=\"\">documentation here</a>.\n",
    "\n",
    "Note: It is never a good idea to enter an API key on a website you do not own. If you want to run this code with an actual API key do so on your local machine. Writing code with an API key on any online code editor including Codecademy is a bad practice."
   ],
   "cell_type": "markdown",
   "metadata": {}
  },
  {
   "source": [
    "***\n",
    "### Exercise"
   ],
   "cell_type": "markdown",
   "metadata": {}
  },
  {
   "source": [
    "1. In the cell below there is code for grabbing Google's stock price data from the Tiingo finance API. The `get_data_tiingo` function requires us to pass an `api_key` in order to access the stock data.\n",
    "\n",
    "Run the code and you should get an error which indicates that we are using an invalid API key. To get this to work you would need to replace 'my-api-key' with a valid key obtained from Tiingo.\n",
    "\n",
    "<i>If you would like to try this with an actual API key feel free to sign up for one on Tiingo's website, then on your own local environment (remember it is bad practice to do this on an online code editor) you can just copy and paste the code from here and watch it work!</i>"
   ],
   "cell_type": "markdown",
   "metadata": {}
  },
  {
   "cell_type": "code",
   "execution_count": 9,
   "metadata": {},
   "outputs": [
    {
     "output_type": "execute_result",
     "data": {
      "text/plain": [
       "                                    close     high       low     open  \\\n",
       "symbol date                                                             \n",
       "GOOG   2016-03-14 00:00:00+00:00   730.49   735.50   725.150   726.81   \n",
       "       2016-03-15 00:00:00+00:00   728.33   732.29   724.770   726.92   \n",
       "       2016-03-16 00:00:00+00:00   736.09   737.47   724.510   726.37   \n",
       "       2016-03-17 00:00:00+00:00   737.78   743.07   736.000   736.45   \n",
       "       2016-03-18 00:00:00+00:00   737.60   742.00   731.830   741.86   \n",
       "...                                   ...      ...       ...      ...   \n",
       "       2021-03-04 00:00:00+00:00  2049.09  2089.24  2020.270  2023.37   \n",
       "       2021-03-05 00:00:00+00:00  2108.54  2118.11  2046.415  2073.12   \n",
       "       2021-03-08 00:00:00+00:00  2024.17  2128.81  2021.610  2101.13   \n",
       "       2021-03-09 00:00:00+00:00  2052.70  2078.04  2047.830  2070.00   \n",
       "       2021-03-10 00:00:00+00:00  2055.03  2075.00  2033.370  2071.76   \n",
       "\n",
       "                                   volume  adjClose  adjHigh    adjLow  \\\n",
       "symbol date                                                              \n",
       "GOOG   2016-03-14 00:00:00+00:00  1718252    730.49   735.50   725.150   \n",
       "       2016-03-15 00:00:00+00:00  1720965    728.33   732.29   724.770   \n",
       "       2016-03-16 00:00:00+00:00  1624370    736.09   737.47   724.510   \n",
       "       2016-03-17 00:00:00+00:00  1860834    737.78   743.07   736.000   \n",
       "       2016-03-18 00:00:00+00:00  2980709    737.60   742.00   731.830   \n",
       "...                                   ...       ...      ...       ...   \n",
       "       2021-03-04 00:00:00+00:00  2118006   2049.09  2089.24  2020.270   \n",
       "       2021-03-05 00:00:00+00:00  2195218   2108.54  2118.11  2046.415   \n",
       "       2021-03-08 00:00:00+00:00  1647429   2024.17  2128.81  2021.610   \n",
       "       2021-03-09 00:00:00+00:00  1697306   2052.70  2078.04  2047.830   \n",
       "       2021-03-10 00:00:00+00:00  1268592   2055.03  2075.00  2033.370   \n",
       "\n",
       "                                  adjOpen  adjVolume  divCash  splitFactor  \n",
       "symbol date                                                                 \n",
       "GOOG   2016-03-14 00:00:00+00:00   726.81    1718252      0.0          1.0  \n",
       "       2016-03-15 00:00:00+00:00   726.92    1720965      0.0          1.0  \n",
       "       2016-03-16 00:00:00+00:00   726.37    1624370      0.0          1.0  \n",
       "       2016-03-17 00:00:00+00:00   736.45    1860834      0.0          1.0  \n",
       "       2016-03-18 00:00:00+00:00   741.86    2980709      0.0          1.0  \n",
       "...                                   ...        ...      ...          ...  \n",
       "       2021-03-04 00:00:00+00:00  2023.37    2118006      0.0          1.0  \n",
       "       2021-03-05 00:00:00+00:00  2073.12    2195218      0.0          1.0  \n",
       "       2021-03-08 00:00:00+00:00  2101.13    1647429      0.0          1.0  \n",
       "       2021-03-09 00:00:00+00:00  2070.00    1697306      0.0          1.0  \n",
       "       2021-03-10 00:00:00+00:00  2071.76    1268592      0.0          1.0  \n",
       "\n",
       "[1257 rows x 12 columns]"
      ],
      "text/html": "<div>\n<style scoped>\n    .dataframe tbody tr th:only-of-type {\n        vertical-align: middle;\n    }\n\n    .dataframe tbody tr th {\n        vertical-align: top;\n    }\n\n    .dataframe thead th {\n        text-align: right;\n    }\n</style>\n<table border=\"1\" class=\"dataframe\">\n  <thead>\n    <tr style=\"text-align: right;\">\n      <th></th>\n      <th></th>\n      <th>close</th>\n      <th>high</th>\n      <th>low</th>\n      <th>open</th>\n      <th>volume</th>\n      <th>adjClose</th>\n      <th>adjHigh</th>\n      <th>adjLow</th>\n      <th>adjOpen</th>\n      <th>adjVolume</th>\n      <th>divCash</th>\n      <th>splitFactor</th>\n    </tr>\n    <tr>\n      <th>symbol</th>\n      <th>date</th>\n      <th></th>\n      <th></th>\n      <th></th>\n      <th></th>\n      <th></th>\n      <th></th>\n      <th></th>\n      <th></th>\n      <th></th>\n      <th></th>\n      <th></th>\n      <th></th>\n    </tr>\n  </thead>\n  <tbody>\n    <tr>\n      <th rowspan=\"11\" valign=\"top\">GOOG</th>\n      <th>2016-03-14 00:00:00+00:00</th>\n      <td>730.49</td>\n      <td>735.50</td>\n      <td>725.150</td>\n      <td>726.81</td>\n      <td>1718252</td>\n      <td>730.49</td>\n      <td>735.50</td>\n      <td>725.150</td>\n      <td>726.81</td>\n      <td>1718252</td>\n      <td>0.0</td>\n      <td>1.0</td>\n    </tr>\n    <tr>\n      <th>2016-03-15 00:00:00+00:00</th>\n      <td>728.33</td>\n      <td>732.29</td>\n      <td>724.770</td>\n      <td>726.92</td>\n      <td>1720965</td>\n      <td>728.33</td>\n      <td>732.29</td>\n      <td>724.770</td>\n      <td>726.92</td>\n      <td>1720965</td>\n      <td>0.0</td>\n      <td>1.0</td>\n    </tr>\n    <tr>\n      <th>2016-03-16 00:00:00+00:00</th>\n      <td>736.09</td>\n      <td>737.47</td>\n      <td>724.510</td>\n      <td>726.37</td>\n      <td>1624370</td>\n      <td>736.09</td>\n      <td>737.47</td>\n      <td>724.510</td>\n      <td>726.37</td>\n      <td>1624370</td>\n      <td>0.0</td>\n      <td>1.0</td>\n    </tr>\n    <tr>\n      <th>2016-03-17 00:00:00+00:00</th>\n      <td>737.78</td>\n      <td>743.07</td>\n      <td>736.000</td>\n      <td>736.45</td>\n      <td>1860834</td>\n      <td>737.78</td>\n      <td>743.07</td>\n      <td>736.000</td>\n      <td>736.45</td>\n      <td>1860834</td>\n      <td>0.0</td>\n      <td>1.0</td>\n    </tr>\n    <tr>\n      <th>2016-03-18 00:00:00+00:00</th>\n      <td>737.60</td>\n      <td>742.00</td>\n      <td>731.830</td>\n      <td>741.86</td>\n      <td>2980709</td>\n      <td>737.60</td>\n      <td>742.00</td>\n      <td>731.830</td>\n      <td>741.86</td>\n      <td>2980709</td>\n      <td>0.0</td>\n      <td>1.0</td>\n    </tr>\n    <tr>\n      <th>...</th>\n      <td>...</td>\n      <td>...</td>\n      <td>...</td>\n      <td>...</td>\n      <td>...</td>\n      <td>...</td>\n      <td>...</td>\n      <td>...</td>\n      <td>...</td>\n      <td>...</td>\n      <td>...</td>\n      <td>...</td>\n    </tr>\n    <tr>\n      <th>2021-03-04 00:00:00+00:00</th>\n      <td>2049.09</td>\n      <td>2089.24</td>\n      <td>2020.270</td>\n      <td>2023.37</td>\n      <td>2118006</td>\n      <td>2049.09</td>\n      <td>2089.24</td>\n      <td>2020.270</td>\n      <td>2023.37</td>\n      <td>2118006</td>\n      <td>0.0</td>\n      <td>1.0</td>\n    </tr>\n    <tr>\n      <th>2021-03-05 00:00:00+00:00</th>\n      <td>2108.54</td>\n      <td>2118.11</td>\n      <td>2046.415</td>\n      <td>2073.12</td>\n      <td>2195218</td>\n      <td>2108.54</td>\n      <td>2118.11</td>\n      <td>2046.415</td>\n      <td>2073.12</td>\n      <td>2195218</td>\n      <td>0.0</td>\n      <td>1.0</td>\n    </tr>\n    <tr>\n      <th>2021-03-08 00:00:00+00:00</th>\n      <td>2024.17</td>\n      <td>2128.81</td>\n      <td>2021.610</td>\n      <td>2101.13</td>\n      <td>1647429</td>\n      <td>2024.17</td>\n      <td>2128.81</td>\n      <td>2021.610</td>\n      <td>2101.13</td>\n      <td>1647429</td>\n      <td>0.0</td>\n      <td>1.0</td>\n    </tr>\n    <tr>\n      <th>2021-03-09 00:00:00+00:00</th>\n      <td>2052.70</td>\n      <td>2078.04</td>\n      <td>2047.830</td>\n      <td>2070.00</td>\n      <td>1697306</td>\n      <td>2052.70</td>\n      <td>2078.04</td>\n      <td>2047.830</td>\n      <td>2070.00</td>\n      <td>1697306</td>\n      <td>0.0</td>\n      <td>1.0</td>\n    </tr>\n    <tr>\n      <th>2021-03-10 00:00:00+00:00</th>\n      <td>2055.03</td>\n      <td>2075.00</td>\n      <td>2033.370</td>\n      <td>2071.76</td>\n      <td>1268592</td>\n      <td>2055.03</td>\n      <td>2075.00</td>\n      <td>2033.370</td>\n      <td>2071.76</td>\n      <td>1268592</td>\n      <td>0.0</td>\n      <td>1.0</td>\n    </tr>\n  </tbody>\n</table>\n<p>1257 rows × 12 columns</p>\n</div>"
     },
     "metadata": {},
     "execution_count": 9
    }
   ],
   "source": [
    "import pandas_datareader as dr \n",
    "\n",
    "dr.get_data_tiingo('GOOG', api_key='my_api_key)"
   ]
  },
  {
   "source": [
    "***"
   ],
   "cell_type": "markdown",
   "metadata": {}
  },
  {
   "source": [
    "## Flaky APIs and Changing Contracts\n",
    "\n",
    "One of the risks of using public APIs is that you are relying on an external service to work as expected at all times, and they often do not.\n",
    "\n",
    "When an API is intermittently offline or not working we call it flaky.\n",
    "\n",
    "You cannot control if an API acts flaky, but here is a few tips to help ensure it does not prevent you from building something great.\n",
    "\n",
    "1. **Test your code** - Testing as often as possible will ensure your code works from day to day and will help to identify any APIs that are consistently acting flaky.\n",
    "2. **Keep up to date with the datareader documentation** - Because we are accessing these finance APIs through <a href=\"https://pandas-datareader.readthedocs.io/en/latest/#\">pandas-datareader</a>, that is a good place to look if an API starts acting unexpectedly.\n",
    "3. **Actively monitoring the pandas-datareader project on GitHub** - Sometimes there are bugs in the pandas-datareader project, instead of the APIs it is calling. The <a href=\"https://github.com/pydata/pandas-datareader\">github page</a> for the project is a good place to ask questions and stay up to date on the latest issues identified in the project."
   ],
   "cell_type": "markdown",
   "metadata": {}
  },
  {
   "source": [
    "***"
   ],
   "cell_type": "markdown",
   "metadata": {}
  },
  {
   "source": [
    "## Using the Shift Operation\n",
    "\n",
    "Once we have imported a DataFrame full of finance data, there is some pretty cool ways we can manipulate it.\n",
    "\n",
    "In this exercise we will look at the shift operation, a DataFrame function which shifts all the rows in a column up or down.\n",
    "\n",
    "<img src=\"https://content.codecademy.com/programs/python-for-finance/importing-finance-data/data-frame-shift.gif\" alt=\"DataFrame Column Shifted Down 1 Row\" style=\"background-color:white;\" width=500></img><br>\n",
    "\n",
    "Shift can be called on a single column (like in the gif above), or on the entire DataFrame where all columns will be shifted.\n",
    "\n",
    "You can also shift by more than one row, and in either direction.\n",
    "```\n",
    "# shifts all rows down by 1\n",
    "dataframe.shift(1); \n",
    "# shifts all rows in name column up 5\n",
    "dataframe['name'].shift(-5); \n",
    "# shifts all rows in the price column down 3\n",
    "dataframe['price'].shift(3); \n",
    "```\n",
    "Shift is particularly useful when dealing with financial data. For example, it can be used to help calculate the percentage of growth between one row and the next, or find the difference in stock prices over a series of days.\n",
    "\n",
    "Let us take a look at an example of that in the exercises below."
   ],
   "cell_type": "markdown",
   "metadata": {}
  },
  {
   "source": [
    "***\n",
    "### Exercise"
   ],
   "cell_type": "markdown",
   "metadata": {}
  },
  {
   "source": [
    "1. To demonstrate shift's power, let us use it on some financial data. Using data from the FRED API we will calculate the amount of GDP growth over the last 10 years.\n",
    "\n",
    "    Start by creating two datetime variables, `start` and `end`. Set `start` as January 1 2008, and `end` as January 1, 2018."
   ],
   "cell_type": "markdown",
   "metadata": {}
  },
  {
   "cell_type": "code",
   "execution_count": 10,
   "metadata": {},
   "outputs": [],
   "source": [
    "start = datetime(2008, 1, 1)\n",
    "end = datetime(2018, 1, 1)"
   ]
  },
  {
   "source": [
    "2. Now call the `web.DataReader` function to get the GDP data from FRED, and store it in a variable called `gdp`.\n",
    "\n",
    "    The data id code is <a href=\"https://fred.stlouisfed.org/series/GDP\">GDP</a>\n",
    "\n",
    "    Print the results and take note of the GDP column. This is the column we will be using to calculate the incremental percentage of GDP growth. There should be GDP data reported every 3 months."
   ],
   "cell_type": "markdown",
   "metadata": {}
  },
  {
   "cell_type": "code",
   "execution_count": 11,
   "metadata": {},
   "outputs": [
    {
     "output_type": "execute_result",
     "data": {
      "text/plain": [
       "                  GDP\n",
       "DATE                 \n",
       "2008-01-01  14651.039\n",
       "2008-04-01  14805.611\n",
       "2008-07-01  14835.187\n",
       "2008-10-01  14559.543\n",
       "2009-01-01  14394.547\n",
       "2009-04-01  14352.850\n",
       "2009-07-01  14420.312\n",
       "2009-10-01  14628.021\n",
       "2010-01-01  14721.350\n",
       "2010-04-01  14926.098\n",
       "2010-07-01  15079.917\n",
       "2010-10-01  15240.843\n",
       "2011-01-01  15285.828\n",
       "2011-04-01  15496.189\n",
       "2011-07-01  15591.850\n",
       "2011-10-01  15796.460\n",
       "2012-01-01  16019.758\n",
       "2012-04-01  16152.257\n",
       "2012-07-01  16257.151\n",
       "2012-10-01  16358.863\n",
       "2013-01-01  16569.591\n",
       "2013-04-01  16637.926\n",
       "2013-07-01  16848.748\n",
       "2013-10-01  17083.137\n",
       "2014-01-01  17104.555\n",
       "2014-04-01  17432.909\n",
       "2014-07-01  17721.657\n",
       "2014-10-01  17849.912\n",
       "2015-01-01  18003.399\n",
       "2015-04-01  18223.577\n",
       "2015-07-01  18347.425\n",
       "2015-10-01  18378.803\n",
       "2016-01-01  18470.156\n",
       "2016-04-01  18656.207\n",
       "2016-07-01  18821.359\n",
       "2016-10-01  19032.580\n",
       "2017-01-01  19237.435\n",
       "2017-04-01  19379.232\n",
       "2017-07-01  19617.288\n",
       "2017-10-01  19937.963\n",
       "2018-01-01  20242.215"
      ],
      "text/html": "<div>\n<style scoped>\n    .dataframe tbody tr th:only-of-type {\n        vertical-align: middle;\n    }\n\n    .dataframe tbody tr th {\n        vertical-align: top;\n    }\n\n    .dataframe thead th {\n        text-align: right;\n    }\n</style>\n<table border=\"1\" class=\"dataframe\">\n  <thead>\n    <tr style=\"text-align: right;\">\n      <th></th>\n      <th>GDP</th>\n    </tr>\n    <tr>\n      <th>DATE</th>\n      <th></th>\n    </tr>\n  </thead>\n  <tbody>\n    <tr>\n      <th>2008-01-01</th>\n      <td>14651.039</td>\n    </tr>\n    <tr>\n      <th>2008-04-01</th>\n      <td>14805.611</td>\n    </tr>\n    <tr>\n      <th>2008-07-01</th>\n      <td>14835.187</td>\n    </tr>\n    <tr>\n      <th>2008-10-01</th>\n      <td>14559.543</td>\n    </tr>\n    <tr>\n      <th>2009-01-01</th>\n      <td>14394.547</td>\n    </tr>\n    <tr>\n      <th>2009-04-01</th>\n      <td>14352.850</td>\n    </tr>\n    <tr>\n      <th>2009-07-01</th>\n      <td>14420.312</td>\n    </tr>\n    <tr>\n      <th>2009-10-01</th>\n      <td>14628.021</td>\n    </tr>\n    <tr>\n      <th>2010-01-01</th>\n      <td>14721.350</td>\n    </tr>\n    <tr>\n      <th>2010-04-01</th>\n      <td>14926.098</td>\n    </tr>\n    <tr>\n      <th>2010-07-01</th>\n      <td>15079.917</td>\n    </tr>\n    <tr>\n      <th>2010-10-01</th>\n      <td>15240.843</td>\n    </tr>\n    <tr>\n      <th>2011-01-01</th>\n      <td>15285.828</td>\n    </tr>\n    <tr>\n      <th>2011-04-01</th>\n      <td>15496.189</td>\n    </tr>\n    <tr>\n      <th>2011-07-01</th>\n      <td>15591.850</td>\n    </tr>\n    <tr>\n      <th>2011-10-01</th>\n      <td>15796.460</td>\n    </tr>\n    <tr>\n      <th>2012-01-01</th>\n      <td>16019.758</td>\n    </tr>\n    <tr>\n      <th>2012-04-01</th>\n      <td>16152.257</td>\n    </tr>\n    <tr>\n      <th>2012-07-01</th>\n      <td>16257.151</td>\n    </tr>\n    <tr>\n      <th>2012-10-01</th>\n      <td>16358.863</td>\n    </tr>\n    <tr>\n      <th>2013-01-01</th>\n      <td>16569.591</td>\n    </tr>\n    <tr>\n      <th>2013-04-01</th>\n      <td>16637.926</td>\n    </tr>\n    <tr>\n      <th>2013-07-01</th>\n      <td>16848.748</td>\n    </tr>\n    <tr>\n      <th>2013-10-01</th>\n      <td>17083.137</td>\n    </tr>\n    <tr>\n      <th>2014-01-01</th>\n      <td>17104.555</td>\n    </tr>\n    <tr>\n      <th>2014-04-01</th>\n      <td>17432.909</td>\n    </tr>\n    <tr>\n      <th>2014-07-01</th>\n      <td>17721.657</td>\n    </tr>\n    <tr>\n      <th>2014-10-01</th>\n      <td>17849.912</td>\n    </tr>\n    <tr>\n      <th>2015-01-01</th>\n      <td>18003.399</td>\n    </tr>\n    <tr>\n      <th>2015-04-01</th>\n      <td>18223.577</td>\n    </tr>\n    <tr>\n      <th>2015-07-01</th>\n      <td>18347.425</td>\n    </tr>\n    <tr>\n      <th>2015-10-01</th>\n      <td>18378.803</td>\n    </tr>\n    <tr>\n      <th>2016-01-01</th>\n      <td>18470.156</td>\n    </tr>\n    <tr>\n      <th>2016-04-01</th>\n      <td>18656.207</td>\n    </tr>\n    <tr>\n      <th>2016-07-01</th>\n      <td>18821.359</td>\n    </tr>\n    <tr>\n      <th>2016-10-01</th>\n      <td>19032.580</td>\n    </tr>\n    <tr>\n      <th>2017-01-01</th>\n      <td>19237.435</td>\n    </tr>\n    <tr>\n      <th>2017-04-01</th>\n      <td>19379.232</td>\n    </tr>\n    <tr>\n      <th>2017-07-01</th>\n      <td>19617.288</td>\n    </tr>\n    <tr>\n      <th>2017-10-01</th>\n      <td>19937.963</td>\n    </tr>\n    <tr>\n      <th>2018-01-01</th>\n      <td>20242.215</td>\n    </tr>\n  </tbody>\n</table>\n</div>"
     },
     "metadata": {},
     "execution_count": 11
    }
   ],
   "source": [
    "gdp = web.DataReader('GDP', 'fred', start, end)\n",
    "gdp"
   ]
  },
  {
   "source": [
    "3. To calculate the growth over each three month period, we will want to subtract each increment's GDP data from the data in the next increment.\n",
    "\n",
    "    To do this, subtract the result of shifting the 'GDP' column by 1, from the unshifted 'GDP' column, and store it in a new column on the DataFrame called `growth`\n",
    "\n",
    "    It should look something like this:\n",
    "    ```\n",
    "    df['growth'] = df['COL'] - df['COL'].shift(1)\n",
    "    ```\n",
    "    Print the newly updated `gdp` DataFrame."
   ],
   "cell_type": "markdown",
   "metadata": {}
  },
  {
   "cell_type": "code",
   "execution_count": 12,
   "metadata": {},
   "outputs": [
    {
     "output_type": "execute_result",
     "data": {
      "text/plain": [
       "                  GDP   growth\n",
       "DATE                          \n",
       "2008-01-01  14651.039      NaN\n",
       "2008-04-01  14805.611  154.572\n",
       "2008-07-01  14835.187   29.576\n",
       "2008-10-01  14559.543 -275.644\n",
       "2009-01-01  14394.547 -164.996\n",
       "2009-04-01  14352.850  -41.697\n",
       "2009-07-01  14420.312   67.462\n",
       "2009-10-01  14628.021  207.709\n",
       "2010-01-01  14721.350   93.329\n",
       "2010-04-01  14926.098  204.748\n",
       "2010-07-01  15079.917  153.819\n",
       "2010-10-01  15240.843  160.926\n",
       "2011-01-01  15285.828   44.985\n",
       "2011-04-01  15496.189  210.361\n",
       "2011-07-01  15591.850   95.661\n",
       "2011-10-01  15796.460  204.610\n",
       "2012-01-01  16019.758  223.298\n",
       "2012-04-01  16152.257  132.499\n",
       "2012-07-01  16257.151  104.894\n",
       "2012-10-01  16358.863  101.712\n",
       "2013-01-01  16569.591  210.728\n",
       "2013-04-01  16637.926   68.335\n",
       "2013-07-01  16848.748  210.822\n",
       "2013-10-01  17083.137  234.389\n",
       "2014-01-01  17104.555   21.418\n",
       "2014-04-01  17432.909  328.354\n",
       "2014-07-01  17721.657  288.748\n",
       "2014-10-01  17849.912  128.255\n",
       "2015-01-01  18003.399  153.487\n",
       "2015-04-01  18223.577  220.178\n",
       "2015-07-01  18347.425  123.848\n",
       "2015-10-01  18378.803   31.378\n",
       "2016-01-01  18470.156   91.353\n",
       "2016-04-01  18656.207  186.051\n",
       "2016-07-01  18821.359  165.152\n",
       "2016-10-01  19032.580  211.221\n",
       "2017-01-01  19237.435  204.855\n",
       "2017-04-01  19379.232  141.797\n",
       "2017-07-01  19617.288  238.056\n",
       "2017-10-01  19937.963  320.675\n",
       "2018-01-01  20242.215  304.252"
      ],
      "text/html": "<div>\n<style scoped>\n    .dataframe tbody tr th:only-of-type {\n        vertical-align: middle;\n    }\n\n    .dataframe tbody tr th {\n        vertical-align: top;\n    }\n\n    .dataframe thead th {\n        text-align: right;\n    }\n</style>\n<table border=\"1\" class=\"dataframe\">\n  <thead>\n    <tr style=\"text-align: right;\">\n      <th></th>\n      <th>GDP</th>\n      <th>growth</th>\n    </tr>\n    <tr>\n      <th>DATE</th>\n      <th></th>\n      <th></th>\n    </tr>\n  </thead>\n  <tbody>\n    <tr>\n      <th>2008-01-01</th>\n      <td>14651.039</td>\n      <td>NaN</td>\n    </tr>\n    <tr>\n      <th>2008-04-01</th>\n      <td>14805.611</td>\n      <td>154.572</td>\n    </tr>\n    <tr>\n      <th>2008-07-01</th>\n      <td>14835.187</td>\n      <td>29.576</td>\n    </tr>\n    <tr>\n      <th>2008-10-01</th>\n      <td>14559.543</td>\n      <td>-275.644</td>\n    </tr>\n    <tr>\n      <th>2009-01-01</th>\n      <td>14394.547</td>\n      <td>-164.996</td>\n    </tr>\n    <tr>\n      <th>2009-04-01</th>\n      <td>14352.850</td>\n      <td>-41.697</td>\n    </tr>\n    <tr>\n      <th>2009-07-01</th>\n      <td>14420.312</td>\n      <td>67.462</td>\n    </tr>\n    <tr>\n      <th>2009-10-01</th>\n      <td>14628.021</td>\n      <td>207.709</td>\n    </tr>\n    <tr>\n      <th>2010-01-01</th>\n      <td>14721.350</td>\n      <td>93.329</td>\n    </tr>\n    <tr>\n      <th>2010-04-01</th>\n      <td>14926.098</td>\n      <td>204.748</td>\n    </tr>\n    <tr>\n      <th>2010-07-01</th>\n      <td>15079.917</td>\n      <td>153.819</td>\n    </tr>\n    <tr>\n      <th>2010-10-01</th>\n      <td>15240.843</td>\n      <td>160.926</td>\n    </tr>\n    <tr>\n      <th>2011-01-01</th>\n      <td>15285.828</td>\n      <td>44.985</td>\n    </tr>\n    <tr>\n      <th>2011-04-01</th>\n      <td>15496.189</td>\n      <td>210.361</td>\n    </tr>\n    <tr>\n      <th>2011-07-01</th>\n      <td>15591.850</td>\n      <td>95.661</td>\n    </tr>\n    <tr>\n      <th>2011-10-01</th>\n      <td>15796.460</td>\n      <td>204.610</td>\n    </tr>\n    <tr>\n      <th>2012-01-01</th>\n      <td>16019.758</td>\n      <td>223.298</td>\n    </tr>\n    <tr>\n      <th>2012-04-01</th>\n      <td>16152.257</td>\n      <td>132.499</td>\n    </tr>\n    <tr>\n      <th>2012-07-01</th>\n      <td>16257.151</td>\n      <td>104.894</td>\n    </tr>\n    <tr>\n      <th>2012-10-01</th>\n      <td>16358.863</td>\n      <td>101.712</td>\n    </tr>\n    <tr>\n      <th>2013-01-01</th>\n      <td>16569.591</td>\n      <td>210.728</td>\n    </tr>\n    <tr>\n      <th>2013-04-01</th>\n      <td>16637.926</td>\n      <td>68.335</td>\n    </tr>\n    <tr>\n      <th>2013-07-01</th>\n      <td>16848.748</td>\n      <td>210.822</td>\n    </tr>\n    <tr>\n      <th>2013-10-01</th>\n      <td>17083.137</td>\n      <td>234.389</td>\n    </tr>\n    <tr>\n      <th>2014-01-01</th>\n      <td>17104.555</td>\n      <td>21.418</td>\n    </tr>\n    <tr>\n      <th>2014-04-01</th>\n      <td>17432.909</td>\n      <td>328.354</td>\n    </tr>\n    <tr>\n      <th>2014-07-01</th>\n      <td>17721.657</td>\n      <td>288.748</td>\n    </tr>\n    <tr>\n      <th>2014-10-01</th>\n      <td>17849.912</td>\n      <td>128.255</td>\n    </tr>\n    <tr>\n      <th>2015-01-01</th>\n      <td>18003.399</td>\n      <td>153.487</td>\n    </tr>\n    <tr>\n      <th>2015-04-01</th>\n      <td>18223.577</td>\n      <td>220.178</td>\n    </tr>\n    <tr>\n      <th>2015-07-01</th>\n      <td>18347.425</td>\n      <td>123.848</td>\n    </tr>\n    <tr>\n      <th>2015-10-01</th>\n      <td>18378.803</td>\n      <td>31.378</td>\n    </tr>\n    <tr>\n      <th>2016-01-01</th>\n      <td>18470.156</td>\n      <td>91.353</td>\n    </tr>\n    <tr>\n      <th>2016-04-01</th>\n      <td>18656.207</td>\n      <td>186.051</td>\n    </tr>\n    <tr>\n      <th>2016-07-01</th>\n      <td>18821.359</td>\n      <td>165.152</td>\n    </tr>\n    <tr>\n      <th>2016-10-01</th>\n      <td>19032.580</td>\n      <td>211.221</td>\n    </tr>\n    <tr>\n      <th>2017-01-01</th>\n      <td>19237.435</td>\n      <td>204.855</td>\n    </tr>\n    <tr>\n      <th>2017-04-01</th>\n      <td>19379.232</td>\n      <td>141.797</td>\n    </tr>\n    <tr>\n      <th>2017-07-01</th>\n      <td>19617.288</td>\n      <td>238.056</td>\n    </tr>\n    <tr>\n      <th>2017-10-01</th>\n      <td>19937.963</td>\n      <td>320.675</td>\n    </tr>\n    <tr>\n      <th>2018-01-01</th>\n      <td>20242.215</td>\n      <td>304.252</td>\n    </tr>\n  </tbody>\n</table>\n</div>"
     },
     "metadata": {},
     "execution_count": 12
    }
   ],
   "source": [
    "gdp['growth'] = gdp['GDP'] - gdp['GDP'].shift(1)\n",
    "gdp"
   ]
  },
  {
   "source": [
    "***"
   ],
   "cell_type": "markdown",
   "metadata": {}
  },
  {
   "source": [
    "## Calculating Basic Financial Statistics\n",
    "\n",
    "Two useful calculations that can be made on financial data are variance and covariance.\n",
    "\n",
    "To illustrate these concepts, let us use the example of a DataFrame which measures stock and bond prices over time.\n",
    "\n",
    "|date|stocks|bonds|\n",
    "|:---|:-----|:----|\n",
    "|Jun|998|300|\n",
    "|Jul|1230|275|\n",
    "|Aug|1500|240|\n",
    "|Sep|1750|190|\n",
    "\n",
    "### Variance\n",
    "\n",
    "Variance measures how far a set of numbers are spread out from their average. In finance, this is used to determine the volatility of investments.\n",
    "```\n",
    "dataframe['stocks'].var() # 106427\n",
    "dataframe['bonds'].var() # 2272\n",
    "```\n",
    "In the variance calculations above, stocks have a larger value than bonds.\n",
    "\n",
    "That is because the stock prices are more spread out than bonds, indicating that stocks are a more volatile investment.\n",
    "\n",
    "### Covariance\n",
    "\n",
    "Covariance, in a financial context, describes the relationship between the returns on two different investments over a period of time, and can be used to help balance a portfolio.\n",
    "\n",
    "Calling `cov()` on our stocks/bonds produces a matrix which defines the covariance values between each column pair in the DataFrame.\n",
    "\n",
    "In our example data, when stock prices go up, bonds go down. We can use the covariance function to see this numerically.\n",
    "```\n",
    "dataframe.cov()\n",
    "```\n",
    "The above code produces the following output DataFrame:\n",
    "\n",
    "|type|stocks|bonds|\n",
    "|:---|:-----|:----|\n",
    "|stocks|106427|-15300|\n",
    "|bonds|-15300|2272|\n",
    "\n",
    "Each value above represents the covariance between two columns.\n",
    "\n",
    "The larger the number the more investments tend to move up and down at the same time.\n",
    "\n",
    "The top right and bottom left columns represent the covariance between stocks and bonds. Here we get a negative number, indicating stocks and bonds tend to move in different directions.\n",
    "\n",
    "Notice also the top left and bottom right columns are actually just the variances for stocks and bonds we saw earlier."
   ],
   "cell_type": "markdown",
   "metadata": {}
  },
  {
   "source": [
    "***\n",
    "### Exercise"
   ],
   "cell_type": "markdown",
   "metadata": {}
  },
  {
   "source": [
    "1. In the cell below, there is some data that was originally obtained from the Thrift Savings Plan (TSP) API. Execute the code and examine the DataFrame that comes back."
   ],
   "cell_type": "markdown",
   "metadata": {}
  },
  {
   "cell_type": "code",
   "execution_count": 13,
   "metadata": {},
   "outputs": [
    {
     "output_type": "execute_result",
     "data": {
      "text/plain": [
       "                    L Income   L 2020   L 2030   L 2040   L 2050   G Fund  \\\n",
       "Date                                                                        \n",
       "2019-01-02 0:00:00   19.6889  26.7883  29.6180  31.8164  18.2119  15.9949   \n",
       "2019-01-03 0:00:00   19.6271  26.6553  29.3183  31.4315  17.9603  15.9961   \n",
       "2019-01-04 0:00:00   19.7511  26.9151  29.8906  32.1665  18.4410  15.9973   \n",
       "2019-01-07 0:00:00   19.7808  26.9710  30.0121  32.3227  18.5436  16.0009   \n",
       "2019-01-08 0:00:00   19.8170  27.0415  30.1738  32.5311  18.6806  16.0021   \n",
       "...                      ...      ...      ...      ...      ...      ...   \n",
       "2019-08-28 0:00:00   20.5741  28.3117  32.4076  35.2784  20.4139  16.2529   \n",
       "2019-08-29 0:00:00   20.6181  28.3897  32.6094  35.5411  20.5876  16.2538   \n",
       "2019-08-30 0:00:00   20.6320  28.4128  32.6621  35.6083  20.6313  16.2557   \n",
       "2019-09-03 0:00:00   20.6115  28.3745  32.5518  35.4623  20.5333  16.2586   \n",
       "2019-09-04 0:00:00   20.6596  28.4587  32.7649  35.7390  20.7155  16.2593   \n",
       "\n",
       "                     F Fund   C Fund   S Fund   I Fund  \n",
       "Date                                                    \n",
       "2019-01-02 0:00:00  18.1687  35.9983  43.9762  26.5338  \n",
       "2019-01-03 0:00:00  18.2683  35.1161  43.2176  26.4053  \n",
       "2019-01-04 0:00:00  18.1837  36.3220  44.7812  27.1899  \n",
       "2019-01-07 0:00:00  18.1788  36.5768  45.5472  27.2332  \n",
       "2019-01-08 0:00:00  18.1561  36.9320  46.2188  27.3880  \n",
       "...                     ...      ...      ...      ...  \n",
       "2019-08-28 0:00:00  19.8146  41.9681  50.4062  29.0641  \n",
       "2019-08-29 0:00:00  19.7771  42.5076  51.1661  29.2170  \n",
       "2019-08-30 0:00:00  19.7948  42.5403  51.1623  29.3958  \n",
       "2019-09-03 0:00:00  19.8318  42.2497  50.5547  29.3312  \n",
       "2019-09-04 0:00:00  19.8462  42.7119  51.0723  29.6495  \n",
       "\n",
       "[170 rows x 10 columns]"
      ],
      "text/html": "<div>\n<style scoped>\n    .dataframe tbody tr th:only-of-type {\n        vertical-align: middle;\n    }\n\n    .dataframe tbody tr th {\n        vertical-align: top;\n    }\n\n    .dataframe thead th {\n        text-align: right;\n    }\n</style>\n<table border=\"1\" class=\"dataframe\">\n  <thead>\n    <tr style=\"text-align: right;\">\n      <th></th>\n      <th>L Income</th>\n      <th>L 2020</th>\n      <th>L 2030</th>\n      <th>L 2040</th>\n      <th>L 2050</th>\n      <th>G Fund</th>\n      <th>F Fund</th>\n      <th>C Fund</th>\n      <th>S Fund</th>\n      <th>I Fund</th>\n    </tr>\n    <tr>\n      <th>Date</th>\n      <th></th>\n      <th></th>\n      <th></th>\n      <th></th>\n      <th></th>\n      <th></th>\n      <th></th>\n      <th></th>\n      <th></th>\n      <th></th>\n    </tr>\n  </thead>\n  <tbody>\n    <tr>\n      <th>2019-01-02 0:00:00</th>\n      <td>19.6889</td>\n      <td>26.7883</td>\n      <td>29.6180</td>\n      <td>31.8164</td>\n      <td>18.2119</td>\n      <td>15.9949</td>\n      <td>18.1687</td>\n      <td>35.9983</td>\n      <td>43.9762</td>\n      <td>26.5338</td>\n    </tr>\n    <tr>\n      <th>2019-01-03 0:00:00</th>\n      <td>19.6271</td>\n      <td>26.6553</td>\n      <td>29.3183</td>\n      <td>31.4315</td>\n      <td>17.9603</td>\n      <td>15.9961</td>\n      <td>18.2683</td>\n      <td>35.1161</td>\n      <td>43.2176</td>\n      <td>26.4053</td>\n    </tr>\n    <tr>\n      <th>2019-01-04 0:00:00</th>\n      <td>19.7511</td>\n      <td>26.9151</td>\n      <td>29.8906</td>\n      <td>32.1665</td>\n      <td>18.4410</td>\n      <td>15.9973</td>\n      <td>18.1837</td>\n      <td>36.3220</td>\n      <td>44.7812</td>\n      <td>27.1899</td>\n    </tr>\n    <tr>\n      <th>2019-01-07 0:00:00</th>\n      <td>19.7808</td>\n      <td>26.9710</td>\n      <td>30.0121</td>\n      <td>32.3227</td>\n      <td>18.5436</td>\n      <td>16.0009</td>\n      <td>18.1788</td>\n      <td>36.5768</td>\n      <td>45.5472</td>\n      <td>27.2332</td>\n    </tr>\n    <tr>\n      <th>2019-01-08 0:00:00</th>\n      <td>19.8170</td>\n      <td>27.0415</td>\n      <td>30.1738</td>\n      <td>32.5311</td>\n      <td>18.6806</td>\n      <td>16.0021</td>\n      <td>18.1561</td>\n      <td>36.9320</td>\n      <td>46.2188</td>\n      <td>27.3880</td>\n    </tr>\n    <tr>\n      <th>...</th>\n      <td>...</td>\n      <td>...</td>\n      <td>...</td>\n      <td>...</td>\n      <td>...</td>\n      <td>...</td>\n      <td>...</td>\n      <td>...</td>\n      <td>...</td>\n      <td>...</td>\n    </tr>\n    <tr>\n      <th>2019-08-28 0:00:00</th>\n      <td>20.5741</td>\n      <td>28.3117</td>\n      <td>32.4076</td>\n      <td>35.2784</td>\n      <td>20.4139</td>\n      <td>16.2529</td>\n      <td>19.8146</td>\n      <td>41.9681</td>\n      <td>50.4062</td>\n      <td>29.0641</td>\n    </tr>\n    <tr>\n      <th>2019-08-29 0:00:00</th>\n      <td>20.6181</td>\n      <td>28.3897</td>\n      <td>32.6094</td>\n      <td>35.5411</td>\n      <td>20.5876</td>\n      <td>16.2538</td>\n      <td>19.7771</td>\n      <td>42.5076</td>\n      <td>51.1661</td>\n      <td>29.2170</td>\n    </tr>\n    <tr>\n      <th>2019-08-30 0:00:00</th>\n      <td>20.6320</td>\n      <td>28.4128</td>\n      <td>32.6621</td>\n      <td>35.6083</td>\n      <td>20.6313</td>\n      <td>16.2557</td>\n      <td>19.7948</td>\n      <td>42.5403</td>\n      <td>51.1623</td>\n      <td>29.3958</td>\n    </tr>\n    <tr>\n      <th>2019-09-03 0:00:00</th>\n      <td>20.6115</td>\n      <td>28.3745</td>\n      <td>32.5518</td>\n      <td>35.4623</td>\n      <td>20.5333</td>\n      <td>16.2586</td>\n      <td>19.8318</td>\n      <td>42.2497</td>\n      <td>50.5547</td>\n      <td>29.3312</td>\n    </tr>\n    <tr>\n      <th>2019-09-04 0:00:00</th>\n      <td>20.6596</td>\n      <td>28.4587</td>\n      <td>32.7649</td>\n      <td>35.7390</td>\n      <td>20.7155</td>\n      <td>16.2593</td>\n      <td>19.8462</td>\n      <td>42.7119</td>\n      <td>51.0723</td>\n      <td>29.6495</td>\n    </tr>\n  </tbody>\n</table>\n<p>170 rows × 10 columns</p>\n</div>"
     },
     "metadata": {},
     "execution_count": 13
    }
   ],
   "source": [
    "tsp_data = pd.read_csv(\"tsp_data.csv\", header = 0, index_col = 0)\n",
    "tsp_data"
   ]
  },
  {
   "source": [
    "2. Print the result of calling the variance function on the entire `tsp_data` DataFrame, notice how it outputs a DataFrame with the variance for each column."
   ],
   "cell_type": "markdown",
   "metadata": {}
  },
  {
   "cell_type": "code",
   "execution_count": 14,
   "metadata": {},
   "outputs": [
    {
     "output_type": "execute_result",
     "data": {
      "text/plain": [
       "L Income    0.062194\n",
       "L 2020      0.179628\n",
       "L 2030      0.670104\n",
       "L 2040      1.053787\n",
       "L 2050      0.434321\n",
       "G Fund      0.005991\n",
       "F Fund      0.237778\n",
       "C Fund      3.319402\n",
       "S Fund      3.631685\n",
       "I Fund      0.793820\n",
       "dtype: float64"
      ]
     },
     "metadata": {},
     "execution_count": 14
    }
   ],
   "source": [
    "tsp_data.var()"
   ]
  },
  {
   "source": [
    "3. Finally, print out the result of calling the `cov()` function on the DataFrame and see if you can spot any trends among the columns."
   ],
   "cell_type": "markdown",
   "metadata": {}
  },
  {
   "cell_type": "code",
   "execution_count": 15,
   "metadata": {},
   "outputs": [
    {
     "output_type": "execute_result",
     "data": {
      "text/plain": [
       "          L Income    L 2020    L 2030    L 2040    L 2050    G Fund  \\\n",
       "L Income  0.062194  0.105525  0.200417  0.249990  0.159678  0.017801   \n",
       "L 2020    0.105525  0.179628  0.343624  0.429226  0.274497  0.029519   \n",
       "L 2030    0.200417  0.343624  0.670104  0.840046  0.538868  0.052727   \n",
       "L 2040    0.249990  0.429226  0.840046  1.053787  0.676359  0.064969   \n",
       "L 2050    0.159678  0.274497  0.538868  0.676359  0.434321  0.041061   \n",
       "G Fund    0.017801  0.029519  0.052727  0.064969  0.041061  0.005991   \n",
       "F Fund    0.101581  0.166371  0.286665  0.350549  0.220029  0.036658   \n",
       "C Fund    0.447764  0.766153  1.487608  1.863328  1.194421  0.119597   \n",
       "S Fund    0.406779  0.712232  1.450433  1.833292  1.184367  0.089845   \n",
       "I Fund    0.193118  0.336594  0.685383  0.865807  0.558977  0.043314   \n",
       "\n",
       "            F Fund    C Fund    S Fund    I Fund  \n",
       "L Income  0.101581  0.447764  0.406779  0.193118  \n",
       "L 2020    0.166371  0.766153  0.712232  0.336594  \n",
       "L 2030    0.286665  1.487608  1.450433  0.685383  \n",
       "L 2040    0.350549  1.863328  1.833292  0.865807  \n",
       "L 2050    0.220029  1.194421  1.184367  0.558977  \n",
       "G Fund    0.036658  0.119597  0.089845  0.043314  \n",
       "F Fund    0.237778  0.657265  0.428743  0.207755  \n",
       "C Fund    0.657265  3.319402  3.193075  1.491383  \n",
       "S Fund    0.428743  3.193075  3.631685  1.573206  \n",
       "I Fund    0.207755  1.491383  1.573206  0.793820  "
      ],
      "text/html": "<div>\n<style scoped>\n    .dataframe tbody tr th:only-of-type {\n        vertical-align: middle;\n    }\n\n    .dataframe tbody tr th {\n        vertical-align: top;\n    }\n\n    .dataframe thead th {\n        text-align: right;\n    }\n</style>\n<table border=\"1\" class=\"dataframe\">\n  <thead>\n    <tr style=\"text-align: right;\">\n      <th></th>\n      <th>L Income</th>\n      <th>L 2020</th>\n      <th>L 2030</th>\n      <th>L 2040</th>\n      <th>L 2050</th>\n      <th>G Fund</th>\n      <th>F Fund</th>\n      <th>C Fund</th>\n      <th>S Fund</th>\n      <th>I Fund</th>\n    </tr>\n  </thead>\n  <tbody>\n    <tr>\n      <th>L Income</th>\n      <td>0.062194</td>\n      <td>0.105525</td>\n      <td>0.200417</td>\n      <td>0.249990</td>\n      <td>0.159678</td>\n      <td>0.017801</td>\n      <td>0.101581</td>\n      <td>0.447764</td>\n      <td>0.406779</td>\n      <td>0.193118</td>\n    </tr>\n    <tr>\n      <th>L 2020</th>\n      <td>0.105525</td>\n      <td>0.179628</td>\n      <td>0.343624</td>\n      <td>0.429226</td>\n      <td>0.274497</td>\n      <td>0.029519</td>\n      <td>0.166371</td>\n      <td>0.766153</td>\n      <td>0.712232</td>\n      <td>0.336594</td>\n    </tr>\n    <tr>\n      <th>L 2030</th>\n      <td>0.200417</td>\n      <td>0.343624</td>\n      <td>0.670104</td>\n      <td>0.840046</td>\n      <td>0.538868</td>\n      <td>0.052727</td>\n      <td>0.286665</td>\n      <td>1.487608</td>\n      <td>1.450433</td>\n      <td>0.685383</td>\n    </tr>\n    <tr>\n      <th>L 2040</th>\n      <td>0.249990</td>\n      <td>0.429226</td>\n      <td>0.840046</td>\n      <td>1.053787</td>\n      <td>0.676359</td>\n      <td>0.064969</td>\n      <td>0.350549</td>\n      <td>1.863328</td>\n      <td>1.833292</td>\n      <td>0.865807</td>\n    </tr>\n    <tr>\n      <th>L 2050</th>\n      <td>0.159678</td>\n      <td>0.274497</td>\n      <td>0.538868</td>\n      <td>0.676359</td>\n      <td>0.434321</td>\n      <td>0.041061</td>\n      <td>0.220029</td>\n      <td>1.194421</td>\n      <td>1.184367</td>\n      <td>0.558977</td>\n    </tr>\n    <tr>\n      <th>G Fund</th>\n      <td>0.017801</td>\n      <td>0.029519</td>\n      <td>0.052727</td>\n      <td>0.064969</td>\n      <td>0.041061</td>\n      <td>0.005991</td>\n      <td>0.036658</td>\n      <td>0.119597</td>\n      <td>0.089845</td>\n      <td>0.043314</td>\n    </tr>\n    <tr>\n      <th>F Fund</th>\n      <td>0.101581</td>\n      <td>0.166371</td>\n      <td>0.286665</td>\n      <td>0.350549</td>\n      <td>0.220029</td>\n      <td>0.036658</td>\n      <td>0.237778</td>\n      <td>0.657265</td>\n      <td>0.428743</td>\n      <td>0.207755</td>\n    </tr>\n    <tr>\n      <th>C Fund</th>\n      <td>0.447764</td>\n      <td>0.766153</td>\n      <td>1.487608</td>\n      <td>1.863328</td>\n      <td>1.194421</td>\n      <td>0.119597</td>\n      <td>0.657265</td>\n      <td>3.319402</td>\n      <td>3.193075</td>\n      <td>1.491383</td>\n    </tr>\n    <tr>\n      <th>S Fund</th>\n      <td>0.406779</td>\n      <td>0.712232</td>\n      <td>1.450433</td>\n      <td>1.833292</td>\n      <td>1.184367</td>\n      <td>0.089845</td>\n      <td>0.428743</td>\n      <td>3.193075</td>\n      <td>3.631685</td>\n      <td>1.573206</td>\n    </tr>\n    <tr>\n      <th>I Fund</th>\n      <td>0.193118</td>\n      <td>0.336594</td>\n      <td>0.685383</td>\n      <td>0.865807</td>\n      <td>0.558977</td>\n      <td>0.043314</td>\n      <td>0.207755</td>\n      <td>1.491383</td>\n      <td>1.573206</td>\n      <td>0.793820</td>\n    </tr>\n  </tbody>\n</table>\n</div>"
     },
     "metadata": {},
     "execution_count": 15
    }
   ],
   "source": [
    "tsp_data.cov()"
   ]
  },
  {
   "source": [
    "## Review\n",
    "\n",
    "You are now ready to import your own financial data for analysis! Before you move on, let us take a minute to review what we have covered in this lesson.\n",
    "\n",
    "* Python is able to import financial data from csv files as well as public financial APIs.\n",
    "* The pandas `read_csv` function can be used to import data from a csv file into a pandas dataframe.\n",
    "* Pandas-datareader makes it easy to import data from public financial APIs.\n",
    "* Python's datetime function can be used to create datetime objects which are often used to specify time ranges for financial data.\n",
    "* API keys are unique identifiers required for some APIs in order to access data.\n",
    "* Sometimes APIs can be flaky. To mitigate the damage this might cause it is best to test your code often and keep up to date with the pandas-datareader documentation and GitHub page.\n",
    "* The `shift` function can be used on the rows in a DataFrame column to shift them up or down.\n",
    "* Pandas provides common statistical functions like `var` and `cov` to make it easy to calculate variance and covariance on a dataset."
   ],
   "cell_type": "markdown",
   "metadata": {}
  },
  {
   "source": [
    "***\n",
    "### Exercise"
   ],
   "cell_type": "markdown",
   "metadata": {}
  },
  {
   "source": [
    "1. Let us review importing a csv file. In the workspace we have an `apple_prices.csv` file which has historical stock price data for Apple.\n",
    "\n",
    "    Use pandas to import this file into a variable called `apple_prices` and print out the resulting DataFrame."
   ],
   "cell_type": "markdown",
   "metadata": {}
  },
  {
   "cell_type": "code",
   "execution_count": 16,
   "metadata": {},
   "outputs": [
    {
     "output_type": "execute_result",
     "data": {
      "text/plain": [
       "          date   close      volume    open      high     low\n",
       "0   2019/08/13  208.97  47539790.0  201.02  212.1400  200.83\n",
       "1   2019/08/12  200.48  22481890.0  199.62  202.0516  199.15\n",
       "2   2019/08/09  200.99  24619750.0  201.30  202.7600  199.29\n",
       "3   2019/08/08  203.43  27009520.0  200.20  203.5300  199.39\n",
       "4   2019/08/07  199.04  33364400.0  195.41  199.5600  193.82\n",
       "..         ...     ...         ...     ...       ...     ...\n",
       "60  2019/05/17  189.00  32879090.0  186.93  190.9000  186.76\n",
       "61  2019/05/16  190.08  33031360.0  189.91  192.4689  188.84\n",
       "62  2019/05/15  190.92  26544720.0  186.27  191.7500  186.02\n",
       "63  2019/05/14  188.66  36529680.0  186.41  189.7000  185.41\n",
       "64  2019/05/13  185.72  57430620.0  187.71  189.4800  182.85\n",
       "\n",
       "[65 rows x 6 columns]"
      ],
      "text/html": "<div>\n<style scoped>\n    .dataframe tbody tr th:only-of-type {\n        vertical-align: middle;\n    }\n\n    .dataframe tbody tr th {\n        vertical-align: top;\n    }\n\n    .dataframe thead th {\n        text-align: right;\n    }\n</style>\n<table border=\"1\" class=\"dataframe\">\n  <thead>\n    <tr style=\"text-align: right;\">\n      <th></th>\n      <th>date</th>\n      <th>close</th>\n      <th>volume</th>\n      <th>open</th>\n      <th>high</th>\n      <th>low</th>\n    </tr>\n  </thead>\n  <tbody>\n    <tr>\n      <th>0</th>\n      <td>2019/08/13</td>\n      <td>208.97</td>\n      <td>47539790.0</td>\n      <td>201.02</td>\n      <td>212.1400</td>\n      <td>200.83</td>\n    </tr>\n    <tr>\n      <th>1</th>\n      <td>2019/08/12</td>\n      <td>200.48</td>\n      <td>22481890.0</td>\n      <td>199.62</td>\n      <td>202.0516</td>\n      <td>199.15</td>\n    </tr>\n    <tr>\n      <th>2</th>\n      <td>2019/08/09</td>\n      <td>200.99</td>\n      <td>24619750.0</td>\n      <td>201.30</td>\n      <td>202.7600</td>\n      <td>199.29</td>\n    </tr>\n    <tr>\n      <th>3</th>\n      <td>2019/08/08</td>\n      <td>203.43</td>\n      <td>27009520.0</td>\n      <td>200.20</td>\n      <td>203.5300</td>\n      <td>199.39</td>\n    </tr>\n    <tr>\n      <th>4</th>\n      <td>2019/08/07</td>\n      <td>199.04</td>\n      <td>33364400.0</td>\n      <td>195.41</td>\n      <td>199.5600</td>\n      <td>193.82</td>\n    </tr>\n    <tr>\n      <th>...</th>\n      <td>...</td>\n      <td>...</td>\n      <td>...</td>\n      <td>...</td>\n      <td>...</td>\n      <td>...</td>\n    </tr>\n    <tr>\n      <th>60</th>\n      <td>2019/05/17</td>\n      <td>189.00</td>\n      <td>32879090.0</td>\n      <td>186.93</td>\n      <td>190.9000</td>\n      <td>186.76</td>\n    </tr>\n    <tr>\n      <th>61</th>\n      <td>2019/05/16</td>\n      <td>190.08</td>\n      <td>33031360.0</td>\n      <td>189.91</td>\n      <td>192.4689</td>\n      <td>188.84</td>\n    </tr>\n    <tr>\n      <th>62</th>\n      <td>2019/05/15</td>\n      <td>190.92</td>\n      <td>26544720.0</td>\n      <td>186.27</td>\n      <td>191.7500</td>\n      <td>186.02</td>\n    </tr>\n    <tr>\n      <th>63</th>\n      <td>2019/05/14</td>\n      <td>188.66</td>\n      <td>36529680.0</td>\n      <td>186.41</td>\n      <td>189.7000</td>\n      <td>185.41</td>\n    </tr>\n    <tr>\n      <th>64</th>\n      <td>2019/05/13</td>\n      <td>185.72</td>\n      <td>57430620.0</td>\n      <td>187.71</td>\n      <td>189.4800</td>\n      <td>182.85</td>\n    </tr>\n  </tbody>\n</table>\n<p>65 rows × 6 columns</p>\n</div>"
     },
     "metadata": {},
     "execution_count": 16
    }
   ],
   "source": [
    "apple_prices = pd.read_csv('apple_prices.csv')\n",
    "apple_prices"
   ]
  },
  {
   "source": [
    "2. Now, let us calculate the variance on our Apple stock data to see how volatile the stock is.\n",
    "\n",
    "    Print the results of calling the `var()` function on the `open` column of the `apple_prices` DataFrame."
   ],
   "cell_type": "markdown",
   "metadata": {}
  },
  {
   "cell_type": "code",
   "execution_count": 17,
   "metadata": {},
   "outputs": [
    {
     "output_type": "execute_result",
     "data": {
      "text/plain": [
       "103.82291877403847"
      ]
     },
     "metadata": {},
     "execution_count": 17
    }
   ],
   "source": [
    "apple_prices['open'].var()"
   ]
  },
  {
   "source": [
    "3. Finally, let us grab some finance data from the FRED API.\n",
    "\n",
    "    FRED stores historical prices on gasoline for New York State identified by the code <a href=\"https://fred.stlouisfed.org/series/APUS12A74714\">APUS12A74714</a>. Use the `web.DataReader` function to grab historical data between January 1, 2008 and January 1, 2018 and store it in a variable called `gas_prices`.\n",
    "\n",
    "    Print the result."
   ],
   "cell_type": "markdown",
   "metadata": {}
  },
  {
   "cell_type": "code",
   "execution_count": 18,
   "metadata": {},
   "outputs": [
    {
     "output_type": "execute_result",
     "data": {
      "text/plain": [
       "            APUS12A74714\n",
       "DATE                    \n",
       "2008-01-01         3.125\n",
       "2008-02-01         3.081\n",
       "2008-03-01         3.221\n",
       "2008-04-01         3.411\n",
       "2008-05-01         3.856\n",
       "...                  ...\n",
       "2017-09-01         2.778\n",
       "2017-10-01         2.597\n",
       "2017-11-01         2.605\n",
       "2017-12-01         2.568\n",
       "2018-01-01         2.632\n",
       "\n",
       "[121 rows x 1 columns]"
      ],
      "text/html": "<div>\n<style scoped>\n    .dataframe tbody tr th:only-of-type {\n        vertical-align: middle;\n    }\n\n    .dataframe tbody tr th {\n        vertical-align: top;\n    }\n\n    .dataframe thead th {\n        text-align: right;\n    }\n</style>\n<table border=\"1\" class=\"dataframe\">\n  <thead>\n    <tr style=\"text-align: right;\">\n      <th></th>\n      <th>APUS12A74714</th>\n    </tr>\n    <tr>\n      <th>DATE</th>\n      <th></th>\n    </tr>\n  </thead>\n  <tbody>\n    <tr>\n      <th>2008-01-01</th>\n      <td>3.125</td>\n    </tr>\n    <tr>\n      <th>2008-02-01</th>\n      <td>3.081</td>\n    </tr>\n    <tr>\n      <th>2008-03-01</th>\n      <td>3.221</td>\n    </tr>\n    <tr>\n      <th>2008-04-01</th>\n      <td>3.411</td>\n    </tr>\n    <tr>\n      <th>2008-05-01</th>\n      <td>3.856</td>\n    </tr>\n    <tr>\n      <th>...</th>\n      <td>...</td>\n    </tr>\n    <tr>\n      <th>2017-09-01</th>\n      <td>2.778</td>\n    </tr>\n    <tr>\n      <th>2017-10-01</th>\n      <td>2.597</td>\n    </tr>\n    <tr>\n      <th>2017-11-01</th>\n      <td>2.605</td>\n    </tr>\n    <tr>\n      <th>2017-12-01</th>\n      <td>2.568</td>\n    </tr>\n    <tr>\n      <th>2018-01-01</th>\n      <td>2.632</td>\n    </tr>\n  </tbody>\n</table>\n<p>121 rows × 1 columns</p>\n</div>"
     },
     "metadata": {},
     "execution_count": 18
    }
   ],
   "source": [
    "start = datetime(2008, 1, 1)\n",
    "end = datetime(2018, 1, 1)\n",
    "gas_prices = web.DataReader('APUS12A74714', 'fred', start, end)\n",
    "gas_prices"
   ]
  }
 ]
}