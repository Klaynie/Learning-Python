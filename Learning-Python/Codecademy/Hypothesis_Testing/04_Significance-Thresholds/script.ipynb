{
 "cells": [
  {
   "cell_type": "markdown",
   "source": [
    "# Significance Thresholds\r\n",
    "\r\n",
    "## Introduction to Significance Thresholds\r\n",
    "\r\n",
    "Sometimes, when we run a hypothesis test, we simply report a p-value or a confidence interval and give an interpretation (eg., the p-value was 0.05, which means that there is a 5% chance of observing two or fewer heads in 10 coin flips).\r\n",
    "\r\n",
    "In other situations, we want to use our p-value to make a decision or answer a yes/no question. For example, suppose that we are developing a new quiz question at Codecademy and want learners to have a 70% chance of getting the question right (higher would mean the question is too easy, lower would mean the question is too hard). We show our quiz question to a sample of 100 learners and 60 of them get it right. Is this significantly different from our target of 70%? If so, we want to remove the question and try to rewrite it.\r\n",
    "\r\n",
    "In order to turn a p-value, which is a probability, into a yes or no answer, data scientists often use a pre-set significance threshold. The significance threshold can be any number between 0 and 1, but a common choice is 0.05. P-values that are less than this threshold are considered \"significant\", while larger p-values are considered \"not significant\"."
   ],
   "metadata": {}
  },
  {
   "cell_type": "markdown",
   "source": [
    "***\r\n",
    "### Exercise"
   ],
   "metadata": {}
  },
  {
   "cell_type": "markdown",
   "source": [
    "1. Suppose that we ran a hypothesis test and calculated a p-value of .062 (saved as `p_value1` in the cell below). For a significance level of 0.05, is this p-value significant? Change the value of `p_value1_significance` in the cell below to `'significant'` or `'not significant'` to indicate your answer."
   ],
   "metadata": {}
  },
  {
   "cell_type": "markdown",
   "source": [
    "*Hint: If the p-value is greater than 0.05, then it is 'not significant'; if the p-value is less than 0.05, it is 'significant'.*"
   ],
   "metadata": {}
  },
  {
   "cell_type": "code",
   "execution_count": 1,
   "source": [
    "# P-Value for first Hypothesis Test\r\n",
    "p_value1 = .062\r\n",
    "# Set the correct value for p_value1_significance\r\n",
    "p_value1_significance = 'not significant'"
   ],
   "outputs": [],
   "metadata": {}
  },
  {
   "cell_type": "markdown",
   "source": [
    "2. Now, suppose that we ran another hypothesis test and calculated a p-value of .013 (saved as `p_value2` in the cell below). For a significance level of 0.05, is this p-value significant? Change the value of `p_value2_significance` in the cell below to `'significant'` or `'not significant'` to indicate your answer."
   ],
   "metadata": {}
  },
  {
   "cell_type": "markdown",
   "source": [
    "*Hint: If the p-value is greater than 0.05, then it is 'not significant'; if the p-value is less than 0.05, it is 'significant'.*"
   ],
   "metadata": {}
  },
  {
   "cell_type": "code",
   "execution_count": 2,
   "source": [
    "# P-Value for second Hypothesis Test\r\n",
    "p_value2 = 0.013\r\n",
    "# Set the correct value for p_value2_significance\r\n",
    "p_value2_significance = 'significant'"
   ],
   "outputs": [],
   "metadata": {}
  },
  {
   "cell_type": "markdown",
   "source": [
    "***"
   ],
   "metadata": {}
  },
  {
   "cell_type": "markdown",
   "source": [
    "## Interpreting a P-Value based on a Significance Threshold\r\n",
    "\r\n",
    "Let us return to the quiz question example from the previous exercise — we want to remove our quiz question from our website if the probability of a correct response is different from 70%. Suppose we collected data from 100 learners and ran a binomial hypothesis test with the following null and alternative hypotheses:\r\n",
    "\r\n",
    "* Null: The probability that a learner gets the question correct is 70%.\r\n",
    "* Alternative: The probability that a learner gets the question correct is **not** 70%.\r\n",
    "\r\n",
    "Assuming that we set a *significance threshold* of 0.05 for this test:\r\n",
    "\r\n",
    "* If the p-value is less than 0.05, the p-value is significant. We will \"reject the null hypothesis\" and conclude that the probability of a correct answer is significantly different from 70%. This would lead us to re-rewrite the question.\r\n",
    "* If the p-value is greater than 0.05, the p-value is not significant. We will not be able to reject the null hypothesis, and will conclude that the probability of a correct answer is not significantly different from 70%. This would lead us to leave the question on the site."
   ],
   "metadata": {}
  },
  {
   "cell_type": "markdown",
   "source": [
    "1. Suppose that we ran the binomial hypothesis test described in this exercise and calculated a p-value of 0.062. Using a significance threshold of 0.05, should we remove the question from our site? Change the value of `remove_question_1` to `'yes'` or `'no'` to indicate your answer."
   ],
   "metadata": {}
  },
  {
   "cell_type": "markdown",
   "source": [
    "*Hint: If the p-value is significant (less than 0.05), then the correct response rate is significantly different from 70% and we want to remove the question from the site. If the p-value is not significant (greater than 0.05), the response rate is not significantly different from 70% and the question can stay.*"
   ],
   "metadata": {}
  },
  {
   "cell_type": "code",
   "execution_count": 3,
   "source": [
    "# P-Value for first Hypothesis Test\r\n",
    "p_value1 = .062\r\n",
    "# Set the correct value for remove_question_1\r\n",
    "remove_question_1 = 'no'"
   ],
   "outputs": [],
   "metadata": {}
  },
  {
   "cell_type": "markdown",
   "source": [
    "2. We ran the same hypothesis test for a different question and calculated a p-value of 0.013. Again using a significance threshold of 0.05, should we remove this question from our site? Change the value of `remove_question_2` to `'yes'` or `'no'` to indicate your answer."
   ],
   "metadata": {}
  },
  {
   "cell_type": "markdown",
   "source": [
    "*Hint: If the p-value is significant (less than 0.05), then the correct response rate is significantly different from 70% and we want to remove the question from the site. If the p-value is not significant (greater than 0.05), the response rate is not significantly different from 70% and the question can stay.*"
   ],
   "metadata": {}
  },
  {
   "cell_type": "code",
   "execution_count": 4,
   "source": [
    "# P-Value for second Hypothesis Test\r\n",
    "p_value2 = 0.013\r\n",
    "# Set the correct value for remove_question_2\r\n",
    "remove_question_2 = 'yes'"
   ],
   "outputs": [],
   "metadata": {}
  },
  {
   "cell_type": "markdown",
   "source": [
    "***"
   ],
   "metadata": {}
  },
  {
   "cell_type": "markdown",
   "source": [
    "## Error Types\r\n",
    "\r\n",
    "Whenever we run a hypothesis test using a significance threshold, we expose ourselves to making two different kinds of mistakes: *type I errors* (false positives) and *type II errors* (false negatives):\r\n",
    "\r\n",
    "With the significance threshold $\\alpha$ we can create the following table:\r\n",
    "\r\n",
    "|Null hypothesis:|is true|is false|\r\n",
    "|:---------------|:------|:-------|\r\n",
    "|P-value significant (p-value $> \\alpha$) |Type I Error|Correct!|\r\n",
    "|P-value not significant (p-value $<= \\alpha$)|Correct!|Type II error|\r\n",
    "\r\n",
    "Consider the quiz question hypothesis test described in the previous exercises:\r\n",
    "\r\n",
    "* Null: The probability that a learner answers a question correctly is 70%.\r\n",
    "* Alternative: The probability that a learner answers a question correctly is not 70%.\r\n",
    "\r\n",
    "Suppose, for a moment, that the true probability of a learner answering the question correctly **is** 70% (if we showed the question to ALL learners, exactly 70% would answer it correctly). This puts us in the first column of the table above (the null hypothesis \"is true\"). If we run a test and calculate a significant p-value, we will make type I error (also called a false positive because the p-value is falsely significant), leading us to remove the question when we do not need to.\r\n",
    "\r\n",
    "On the other hand, if the true probability of getting the question correct **is not** 70%, the null hypothesis \"is false\" (the right-most column of our table). If we run a test and calculate a non-significant p-value, we make a type II error, leading us to leave the question on our site when we should have taken it down."
   ],
   "metadata": {}
  },
  {
   "cell_type": "markdown",
   "source": [
    "***\r\n",
    "### Exercise"
   ],
   "metadata": {}
  },
  {
   "cell_type": "markdown",
   "source": [
    "1. Suppose that the average score on a standardized test is 50 points. A researcher wants to know whether students who take this test in an ergonomically designed chair score significantly differently from the general population of test-takers. The researcher randomly assigns 100 students to take the test in an ergonomic chair. Then, the researcher runs a hypothesis test with a significance threshold of 0.05 and the following null and alternative hypotheses:\r\n",
    "\r\n",
    "    * Null: The mean score for students who take the test in an ergonomic chair **is** 50 points.\r\n",
    "    * Alternative: The mean score for students who take the test in an ergonomic chair **is not** 50 points.\r\n",
    "\r\n",
    "    Suppose that the truth (which the researcher does not know) is: if every student took the test in an ergonomic chair, the average score for all test-takers would be 52 points.\r\n",
    "\r\n",
    "    Based on their sample of only 100 students, the researcher calculates a p-value of 0.07. In the cell below, change the value of outcome to:\r\n",
    "\r\n",
    "    * `'correct'` if the researcher will come to the correct conclusion based on this test\r\n",
    "    * `'type one'` if the researcher will make a type I error based on this test\r\n",
    "    * `'type two'` if the researcher will make a type II error based on this test"
   ],
   "metadata": {}
  },
  {
   "cell_type": "markdown",
   "source": [
    "*Hint: Note that the true average score for students who take the test in an ergonomic chair is 52 points. The null hypothesis for our test is that the average score is 50 points. Therefore, the researcher is running a hypothesis test where the null hypothesis is false. A p-value of 0.07 is greater than the significance threshold, and would lead the researcher to conclude (incorrectly) that the average score for students in an ergonomic chair is not significantly different from 50 points.*"
   ],
   "metadata": {}
  },
  {
   "cell_type": "code",
   "execution_count": 5,
   "source": [
    "# Set the correct value for outcome\r\n",
    "outcome = 'type two'"
   ],
   "outputs": [],
   "metadata": {}
  },
  {
   "cell_type": "markdown",
   "source": [
    "***"
   ],
   "metadata": {}
  },
  {
   "cell_type": "markdown",
   "source": [
    "## Setting the Type I Error Rate\r\n",
    "\r\n",
    "It turns out that, when we run a hypothesis test with a significance threshold, the significance threshold is equal to the type I error (false positive) rate for the test. To see this, we can use a simulation.\r\n",
    "\r\n",
    "Recall our quiz question example: the null hypothesis is that the probability of getting a quiz question correct is equal to 70%. We’ll make a type I error if the null hypothesis is correct (the true probability of a correct answer is 70%), but we get a significant p-value anyways.\r\n",
    "\r\n",
    "Now, consider the following simulation code:\r\n",
    "\r\n",
    "```\r\n",
    "false_positives = 0\r\n",
    "sig_threshold = 0.05\r\n",
    " \r\n",
    "for i in range(1000):\r\n",
    "    sim_sample = np.random.choice(['correct', 'incorrect'], size=100, p=[0.7, 0.3])\r\n",
    "    num_correct = np.sum(sim_sample == 'correct')\r\n",
    "    p_val = binom_test(num_correct, 100, 0.7)\r\n",
    "    if p_val < sig_threshold:\r\n",
    "        false_positives += 1\r\n",
    " \r\n",
    "print(false_positives/1000) #Output: 0.0512\r\n",
    "```\r\n",
    "\r\n",
    "This code does the following:\r\n",
    "\r\n",
    "* Set the significance threshold equal to 0.05 and a counter for false positives equal to zero.\r\n",
    "* Repeat these steps 1000 times:\r\n",
    "    * Simulate 100 learners, where each learner has a 70% chance of answering a quiz question correctly.\r\n",
    "    * Calculate the number of simulated learners who answered the question correctly. Note that, because each learner has a 70% chance of answering correctly, this number will likely be around 70, but will vary every time by random chance.\r\n",
    "    * Run a binomial test for the simulated sample where the null hypothesis is that the probability of a correct answer is 70% (0.7). Note that, every time we run this test, the null hypothesis is true because we simulated our data so that the probability of a correct answer is 70%.\r\n",
    "    * Add `1` to our false positives counter every time we make a type I error (the p-value is significant).\r\n",
    "* Print the proportion of our 1000 tests (on simulated samples) that resulted in a false positive.\r\n",
    "\r\n",
    "Note that the proportion of false positive tests is very similar to the value of the significance threshold (0.05)."
   ],
   "metadata": {}
  },
  {
   "cell_type": "markdown",
   "source": [
    "***"
   ],
   "metadata": {}
  },
  {
   "cell_type": "code",
   "execution_count": 6,
   "source": [
    "import numpy as np\r\n",
    "from scipy.stats import binom_test\r\n",
    "\r\n",
    "# Initialize num_errors\r\n",
    "false_positives = 0\r\n",
    "# Set significance threshold value\r\n",
    "sig_threshold = 0.05\r\n",
    "\r\n",
    "# Run binomial tests & record errors\r\n",
    "for i in range(1000):\r\n",
    "    sim_sample = np.random.choice(['correct', 'incorrect'], size=100, p=[0.8, 0.2])\r\n",
    "    num_correct = np.sum(sim_sample == 'correct')\r\n",
    "    p_val = binom_test(num_correct, 100, 0.7)\r\n",
    "    if p_val < sig_threshold:\r\n",
    "        false_positives += 1\r\n",
    "\r\n",
    "# Print proportion of type I errors \r\n",
    "print(false_positives / 1000)"
   ],
   "outputs": [
    {
     "output_type": "stream",
     "name": "stdout",
     "text": [
      "0.672\n"
     ]
    }
   ],
   "metadata": {}
  },
  {
   "cell_type": "markdown",
   "source": [
    "1. The code from the narrative has been provided for you in the cell above with one small change: the code to create `sim_sample` has been altered so that the simulated learners each have an 80% chance of answering the question correctly. Change the call to `binom_test()` so that, for each simulated dataset, you are running a binomial test where the null hypothesis is true. Press \"Run\".\r\n",
    "\r\n",
    "    If you have done this correctly, you should see that the proportion of tests resulting in a false positive is close to the significance threshold (0.05).\r\n"
   ],
   "metadata": {}
  },
  {
   "cell_type": "code",
   "execution_count": 7,
   "source": [
    "# Initialize num_errors\r\n",
    "false_positives = 0\r\n",
    "# Set significance threshold value\r\n",
    "sig_threshold = 0.05\r\n",
    "\r\n",
    "# Run binomial tests & record errors\r\n",
    "for i in range(1000):\r\n",
    "    sim_sample = np.random.choice(['correct', 'incorrect'], size=100, p=[0.8, 0.2])\r\n",
    "    num_correct = np.sum(sim_sample == 'correct')\r\n",
    "    p_val = binom_test(num_correct, 100, 0.8)\r\n",
    "    if p_val < sig_threshold:\r\n",
    "        false_positives += 1\r\n",
    "\r\n",
    "# Print proportion of type I errors \r\n",
    "print(false_positives / 1000)"
   ],
   "outputs": [
    {
     "output_type": "stream",
     "name": "stdout",
     "text": [
      "0.046\n"
     ]
    }
   ],
   "metadata": {}
  },
  {
   "cell_type": "markdown",
   "source": [
    "2. Now, change the significance threshold to 0.01 and press \"Run\".\r\n",
    "\r\n",
    "    Note that the proportion of simulations that result in a type I error should now be close to 0.01."
   ],
   "metadata": {}
  },
  {
   "cell_type": "code",
   "execution_count": 8,
   "source": [
    "# Initialize num_errors\r\n",
    "false_positives = 0\r\n",
    "# Set significance threshold value\r\n",
    "sig_threshold = 0.01\r\n",
    "\r\n",
    "# Run binomial tests & record errors\r\n",
    "for i in range(1000):\r\n",
    "    sim_sample = np.random.choice(['correct', 'incorrect'], size=100, p=[0.8, 0.2])\r\n",
    "    num_correct = np.sum(sim_sample == 'correct')\r\n",
    "    p_val = binom_test(num_correct, 100, 0.8)\r\n",
    "    if p_val < sig_threshold:\r\n",
    "        false_positives += 1\r\n",
    "\r\n",
    "# Print proportion of type I errors \r\n",
    "print(false_positives / 1000)"
   ],
   "outputs": [
    {
     "output_type": "stream",
     "name": "stdout",
     "text": [
      "0.01\n"
     ]
    }
   ],
   "metadata": {}
  },
  {
   "cell_type": "markdown",
   "source": [
    "***"
   ],
   "metadata": {}
  },
  {
   "cell_type": "markdown",
   "source": [
    "## Problems with Multiple Hypothesis Tests\r\n",
    "\r\n",
    "While significance thresholds allow a data scientist to control the false positive rate for a single hypothesis test, this starts to break when performing multiple tests as part of a single study.\r\n",
    "\r\n",
    "For example, suppose that we are writing a quiz at codecademy that is going to include 10 questions. For each question, we want to know whether the probability of a learner answering the question correctly is different from 70%. We now have to run 10 hypothesis tests, one for each question.\r\n",
    "\r\n",
    "If the null hypothesis is true for every hypothesis test (the probability of a correct answer is 70% for every question) and we use a .05 significance level for each test, then:\r\n",
    "\r\n",
    "* When we run a hypothesis test for a single question, we have a 95% chance of getting the right answer (a p-value > 0.05) — and a 5% chance of making a type I error.\r\n",
    "* When we run hypothesis tests for two questions, we have only a 90% chance of getting the right answer for both hypothesis tests (.95*.95 = 0.90) — and a 10% chance of making at least one type I error.\r\n",
    "* When we run hypothesis tests for all 10 questions, we have a 60% chance of getting the right answer for all ten hypothesis tests (0.95^10 = 0.60) — and a 40% chance of making at least one type I error.\r\n",
    "\r\n",
    "To address this problem, it is important to plan research out ahead of time: decide what questions you want to address and figure out how many hypothesis tests you need to run. When running multiple tests, use a lower significance threshold (eg., 0.01) for each test to reduce the probability of making a type I error."
   ],
   "metadata": {}
  },
  {
   "cell_type": "markdown",
   "source": [
    "***"
   ],
   "metadata": {}
  },
  {
   "cell_type": "code",
   "execution_count": 9,
   "source": [
    "import numpy as np\r\n",
    "import matplotlib.pyplot as plt\r\n",
    "\r\n",
    "# Set pyplot style to dark\r\n",
    "plt.style.use('dark_background')\r\n",
    "\r\n",
    "# Create the plot\r\n",
    "sig_threshold = 0.05\r\n",
    "num_tests = np.array(range(50))\r\n",
    "probabilities = 1-((1 - sig_threshold) ** num_tests)\r\n",
    "plt.plot(num_tests, probabilities, color='#1F85DE')\r\n",
    "\r\n",
    "# Edit title and axis labels\r\n",
    "plt.title('Type I Error Rate for Multiple Tests', fontsize=15)\r\n",
    "# Label the y-axis\r\n",
    "plt.ylabel('Probability of at Least One Type I Error', fontsize=12)\r\n",
    "# Label the x-axis\r\n",
    "plt.xlabel('Number of Tests', fontsize=12)\r\n",
    "\r\n",
    "# Show the plot                \r\n",
    "plt.show()"
   ],
   "outputs": [
    {
     "output_type": "display_data",
     "data": {
      "text/plain": [
       "<Figure size 432x288 with 1 Axes>"
      ],
      "image/png": "[encoded data removed]"
     },
     "metadata": {}
    }
   ],
   "metadata": {}
  },
  {
   "cell_type": "markdown",
   "source": [
    "1. In the workspace, code has been provided to create a graph that shows the probability of making at least one type I error among some number of tests with a significance threshold of 0.05.\r\n",
    "\r\n",
    "    Approximately how many tests would we have to run at a 0.05 significance level so that the probability of at least one type I error would be 50%? Save your answer as the variable `num_tests_50percent` (note: this can be approximate; it does not need to be exact!)"
   ],
   "metadata": {}
  },
  {
   "cell_type": "code",
   "execution_count": null,
   "source": [
    "# Set a correct value for num_tests_50percent\r\n",
    "num_tests_50percent = 12"
   ],
   "outputs": [],
   "metadata": {}
  },
  {
   "cell_type": "markdown",
   "source": [
    "2. Change the code to create the plot so that it shows the probability of at least one type I error for multiple tests with a significance threshold of 0.10 (instead of 0.05).\r\n",
    "\r\n",
    "Inspect your new plot. Now how many tests would lead to a probability of a type I error of 50%?"
   ],
   "metadata": {}
  },
  {
   "cell_type": "code",
   "execution_count": 10,
   "source": [
    "# Create the plot\r\n",
    "sig_threshold = 0.1\r\n",
    "num_tests = np.array(range(50))\r\n",
    "probabilities = 1-((1 - sig_threshold) ** num_tests)\r\n",
    "plt.plot(num_tests, probabilities, color='#1F85DE')\r\n",
    "\r\n",
    "# Edit title and axis labels\r\n",
    "plt.title('Type I Error Rate for Multiple Tests', fontsize=15)\r\n",
    "# Label the y-axis\r\n",
    "plt.ylabel('Probability of at Least One Type I Error', fontsize=12)\r\n",
    "# Label the x-axis\r\n",
    "plt.xlabel('Number of Tests', fontsize=12)\r\n",
    "\r\n",
    "# Show the plot                \r\n",
    "plt.show()"
   ],
   "outputs": [
    {
     "output_type": "display_data",
     "data": {
      "text/plain": [
       "<Figure size 432x288 with 1 Axes>"
      ],
      "image/png": "[encoded data removed]"
     },
     "metadata": {}
    }
   ],
   "metadata": {}
  },
  {
   "cell_type": "code",
   "execution_count": 11,
   "source": [
    "# Set a correct value for num_tests_50percent\r\n",
    "num_tests_50percent = 8"
   ],
   "outputs": [],
   "metadata": {}
  },
  {
   "cell_type": "markdown",
   "source": [
    "## Significance Thresholds Review\r\n",
    "\r\n",
    "Excellent work! In this lesson you have:\r\n",
    "\r\n",
    "* Learned to interpret a p-value using a significance threshold\r\n",
    "* Explored type I and type II errors in hypothesis testing\r\n",
    "* Shown that the significance threshold for a hypothesis test is equal to the type I error rate\r\n",
    "* Seen how multiple hypothesis tests lead to an increased probability of a type I error\r\n",
    "\r\n",
    "In the workspace, we have borrowed a comic strip from xkcd that describes (with a little humor!) the problem of multiple hypothesis tests. The initial question asked in the comic is whether or not there is a link between jelly beans and acne. At first, scientists find no link — but then they run 20 more hypothesis tests looking for a link between specific colors of jelly beans and acne. One of those tests results in a significant p-value — and the final panel of the comic shows that this one test is the only test that gets published. The comic perfectly describes how running multiple hypothesis tests and only reporting significant results is extremely problematic. This has contributed to the *reproducibility crisis* in statistics. At a .05 significance level, approximately 5% of hypothesis tests will result in a false positive; but if we only report those false positives, we end up with a lot of published results that cannot be replicated."
   ],
   "metadata": {}
  },
  {
   "cell_type": "markdown",
   "source": [
    "<img src=\"https://static-assets.codecademy.com/Courses/Hypothesis-Testing/jelly_beans.png\" style=\"background-color:white;\"></img>"
   ],
   "metadata": {}
  }
 ],
 "metadata": {
  "orig_nbformat": 4,
  "language_info": {
   "name": "python",
   "version": "3.9.1",
   "mimetype": "text/x-python",
   "codemirror_mode": {
    "name": "ipython",
    "version": 3
   },
   "pygments_lexer": "ipython3",
   "nbconvert_exporter": "python",
   "file_extension": ".py"
  },
  "kernelspec": {
   "name": "python3",
   "display_name": "Python 3.9.1 64-bit"
  },
  "interpreter": {
   "hash": "ac59ebe37160ed0dfa835113d9b8498d9f09ceb179beaac4002f036b9467c963"
  }
 },
 "nbformat": 4,
 "nbformat_minor": 2
}