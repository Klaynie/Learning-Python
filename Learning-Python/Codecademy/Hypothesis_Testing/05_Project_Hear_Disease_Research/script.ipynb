{
 "cells": [
  {
   "cell_type": "markdown",
   "source": [
    "# Heart Disease Research Part I\r\n",
    "\r\n",
    "In this project, you will investigate some data from a sample patients who were evaluated for heart disease at the Cleveland Clinic Foundation. The data was downloaded from the <a href=\"https://archive.ics.uci.edu/ml/datasets/Heart+Disease\">UCI Machine Learning Repository</a> and then cleaned for analysis. The principal investigators responsible for data collection were:\r\n",
    "\r\n",
    "* Hungarian Institute of Cardiology. Budapest: Andras Janosi, M.D.\r\n",
    "* University Hospital, Zurich, Switzerland: William Steinbrunn, M.D.\r\n",
    "* University Hospital, Basel, Switzerland: Matthias Pfisterer, M.D.\r\n",
    "* V.A. Medical Center, Long Beach and Cleveland Clinic Foundation: Robert Detrano, M.D., Ph.D.\r\n"
   ],
   "metadata": {}
  },
  {
   "cell_type": "code",
   "execution_count": 1,
   "source": [
    "# import libraries\r\n",
    "import pandas as pd\r\n",
    "import numpy as np\r\n",
    "\r\n",
    "# load data\r\n",
    "heart = pd.read_csv('heart_disease.csv')\r\n",
    "yes_hd = heart[heart.heart_disease == 'presence']\r\n",
    "no_hd = heart[heart.heart_disease == 'absence']"
   ],
   "outputs": [],
   "metadata": {}
  },
  {
   "cell_type": "markdown",
   "source": [
    "## Cholesterol Analysis\r\n",
    "1. The full dataset has been loaded for you as heart, then split into two subsets:\r\n",
    "\r\n",
    "    * `yes_hd`, which contains data for patients with heart disease\r\n",
    "    * `no_hd`, which contains data for patients without heart disease\r\n",
    "\r\n",
    "    For this project, we will investigate the following variables:\r\n",
    "\r\n",
    "    * `chol`: serum cholestorol in mg/dl\r\n",
    "    * `fbs`: An indicator for whether fasting blood sugar is greater than 120 mg/dl (1 = true; 0 = false)\r\n",
    "\r\n",
    "    To start, we will investigate cholesterol levels for patients with heart disease. Use the dataset `yes_hd` to save cholesterol levels for patients with heart disease as a variable named `chol_hd`."
   ],
   "metadata": {}
  },
  {
   "cell_type": "code",
   "execution_count": 2,
   "source": [
    "chol_hd = yes_hd.chol\r\n",
    "\r\n",
    "chol_hd"
   ],
   "outputs": [
    {
     "output_type": "execute_result",
     "data": {
      "text/plain": [
       "1      286.0\n",
       "2      229.0\n",
       "6      268.0\n",
       "8      254.0\n",
       "9      203.0\n",
       "       ...  \n",
       "297    241.0\n",
       "298    264.0\n",
       "299    193.0\n",
       "300    131.0\n",
       "301    236.0\n",
       "Name: chol, Length: 139, dtype: float64"
      ]
     },
     "metadata": {},
     "execution_count": 2
    }
   ],
   "metadata": {}
  },
  {
   "cell_type": "markdown",
   "source": [
    "2. In general, total cholesterol over 240 mg/dl is considered \"high\" (and therefore unhealthy). Calculate the mean cholesterol level for patients who were diagnosed with heart disease and print it out. Is it higher than 240 mg/dl?"
   ],
   "metadata": {}
  },
  {
   "cell_type": "code",
   "execution_count": 3,
   "source": [
    "np.mean(chol_hd)"
   ],
   "outputs": [
    {
     "output_type": "execute_result",
     "data": {
      "text/plain": [
       "251.4748201438849"
      ]
     },
     "metadata": {},
     "execution_count": 3
    }
   ],
   "metadata": {}
  },
  {
   "cell_type": "markdown",
   "source": [
    "3. Do people with heart disease have high cholesterol levels (greater than or equal to 240 mg/dl) on average? Import the function from scipy.stats that you can use to test the following null and alternative hypotheses:\r\n",
    "\r\n",
    "    * Null: People with heart disease have an average cholesterol level equal to 240 mg/dl\r\n",
    "    * Alternative: People with heart disease have an average cholesterol level that is greater than 240 mg/dl\r\n",
    "\r\n",
    "    Note: Unfortunately, the scipy.stats function we have been using does not (at the time of writing) have an alternative parameter to change the alternative hypothesis for this test. Therefore, you will have to run a two-sided test. However, since you calculated earlier that the average cholesterol level for heart disease patients is greater than 240 mg/dl, you can calculate the p-value for the one-sided test indicated above simply by dividing the two-sided p-value in half."
   ],
   "metadata": {}
  },
  {
   "cell_type": "code",
   "execution_count": 4,
   "source": [
    "from scipy.stats import ttest_1samp"
   ],
   "outputs": [],
   "metadata": {}
  },
  {
   "cell_type": "markdown",
   "source": [
    "4. Run the hypothesis test indicated in task 3 and print out the p-value. Can you conclude that heart disease patients have an average cholesterol level significantly greater than 240 mg/dl? Use a significance threshold of 0.05."
   ],
   "metadata": {}
  },
  {
   "cell_type": "code",
   "execution_count": 5,
   "source": [
    "cholesterol_cutoff = 240\r\n",
    "_, pval = ttest_1samp(chol_hd, cholesterol_cutoff)\r\n",
    "\r\n",
    "print(f'{pval / 2:0.4f}')"
   ],
   "outputs": [
    {
     "output_type": "stream",
     "name": "stdout",
     "text": [
      "0.0035\n"
     ]
    }
   ],
   "metadata": {}
  },
  {
   "cell_type": "markdown",
   "source": [
    "5. Repeat steps 1-4 in order to run the same hypothesis test, but for patients in the sample who were **not** diagnosed with heart disease. Do patients without heart disease have average cholesterol levels significantly above 240 mg/dl?"
   ],
   "metadata": {}
  },
  {
   "cell_type": "code",
   "execution_count": 6,
   "source": [
    "chol_no_hd = no_hd.chol\r\n",
    "np.mean(chol_no_hd)"
   ],
   "outputs": [
    {
     "output_type": "execute_result",
     "data": {
      "text/plain": [
       "242.640243902439"
      ]
     },
     "metadata": {},
     "execution_count": 6
    }
   ],
   "metadata": {}
  },
  {
   "cell_type": "code",
   "execution_count": 7,
   "source": [
    "_, pval = ttest_1samp(chol_no_hd, cholesterol_cutoff)\r\n",
    "\r\n",
    "print(f'{pval / 2:0.4f}')"
   ],
   "outputs": [
    {
     "output_type": "stream",
     "name": "stdout",
     "text": [
      "0.2640\n"
     ]
    }
   ],
   "metadata": {}
  },
  {
   "cell_type": "markdown",
   "source": [
    "## Fasting Blood Sugar Analysis\r\n",
    "\r\n",
    "6. Let us now return to the full dataset (saved as `heart`). How many patients are there in this dataset? Save the number of patients as `num_patients` and print it out."
   ],
   "metadata": {}
  },
  {
   "cell_type": "code",
   "execution_count": 8,
   "source": [
    "num_patients = len(heart)\r\n",
    "\r\n",
    "print(f'The number of patients is {num_patients}')"
   ],
   "outputs": [
    {
     "output_type": "stream",
     "name": "stdout",
     "text": [
      "The number of patients is 303\n"
     ]
    }
   ],
   "metadata": {}
  },
  {
   "cell_type": "markdown",
   "source": [
    "7. Remember that the `fbs` column of this dataset indicates whether or not a patient's fasting blood sugar was greater than 120 mg/dl (1 means that their fasting blood sugar was greater than 120 mg/dl; 0 means it was less than or equal to 120 mg/dl).\r\n",
    "\r\n",
    "    Calculate the number of patients with fasting blood sugar greater than 120. Save this number as `num_highfbs_patients` and print it out."
   ],
   "metadata": {}
  },
  {
   "cell_type": "code",
   "execution_count": 9,
   "source": [
    "num_highfbs_patients = int(np.sum(heart.fbs))\r\n",
    "\r\n",
    "print(f'The number of patients with fasting blood sugar greater than 120 is {num_highfbs_patients}')"
   ],
   "outputs": [
    {
     "output_type": "stream",
     "name": "stdout",
     "text": [
      "The number of patients with fasting blood sugar greater than 120 is 45\n"
     ]
    }
   ],
   "metadata": {}
  },
  {
   "cell_type": "markdown",
   "source": [
    "8. Sometimes, part of an analysis will involve comparing a sample to known population values to see if the sample appears to be representative of the general population.\r\n",
    "\r\n",
    "    By some estimates, about 8% of the U.S. population had diabetes (diagnosed or undiagnosed) in 1988 when this data was collected. While there are multiple tests that contribute to a diabetes diagnosis, fasting blood sugar levels greater than 120 mg/dl can be indicative of diabetes (or at least, pre-diabetes). If this sample were representative of the population, approximately how many people would you expect to have diabetes? Calculate and print out this number.\r\n",
    "\r\n",
    "    Is this value similar to the number of patients with a resting blood sugar above 120 mg/dl — or different?"
   ],
   "metadata": {}
  },
  {
   "cell_type": "code",
   "execution_count": 10,
   "source": [
    "estimated_diabetes_percentage = 0.08\r\n",
    "expected_occurences = num_patients * estimated_diabetes_percentage\r\n",
    "print(f'8% of the sample size {num_patients} is {expected_occurences:0.0f}')"
   ],
   "outputs": [
    {
     "output_type": "stream",
     "name": "stdout",
     "text": [
      "8% of the sample size 303 is 24\n"
     ]
    }
   ],
   "metadata": {}
  },
  {
   "cell_type": "code",
   "execution_count": 11,
   "source": [
    "print('This is almost half the number with high fasting blood sugar than the sample ({num_highfbs_patients:0.0f})')"
   ],
   "outputs": [
    {
     "output_type": "stream",
     "name": "stdout",
     "text": [
      "This is almost half the number with high fasting blood sugar than the sample ({num_highfbs_patients:0.0f})\n"
     ]
    }
   ],
   "metadata": {}
  },
  {
   "cell_type": "markdown",
   "source": [
    "9. Does this sample come from a population in which the rate of fbs > 120 mg/dl is equal to 8%? Import the function from `scipy.stats` that you can use to test the following null and alternative hypotheses:\r\n",
    "\r\n",
    "    * Null: This sample was drawn from a population where 8% of people have fasting blood sugar > 120 mg/dl\r\n",
    "    * Alternative: This sample was drawn from a population where more than 8% of people have fasting blood sugar > 120 mg/dl"
   ],
   "metadata": {}
  },
  {
   "cell_type": "code",
   "execution_count": 12,
   "source": [
    "from scipy.stats import binom_test"
   ],
   "outputs": [],
   "metadata": {}
  },
  {
   "cell_type": "markdown",
   "source": [
    "10. Run the hypothesis test indicated in task 9 and print out the p-value. Using a significance threshold of 0.05, can you conclude that this sample was drawn from a population where the rate of fasting blood sugar > 120 mg/dl is significantly greater than 8%?"
   ],
   "metadata": {}
  },
  {
   "cell_type": "code",
   "execution_count": 14,
   "source": [
    "pval = binom_test(x=num_highfbs_patients, n=num_patients, p=estimated_diabetes_percentage, alternative='greater')\r\n",
    "pval"
   ],
   "outputs": [
    {
     "output_type": "execute_result",
     "data": {
      "text/plain": [
       "4.689471951449078e-05"
      ]
     },
     "metadata": {},
     "execution_count": 14
    }
   ],
   "metadata": {}
  },
  {
   "cell_type": "markdown",
   "source": [
    "This is less than 0.05, indicating that this sample likely comes from a population where more than 8% of people have fbs > 120 mg/dl."
   ],
   "metadata": {}
  }
 ],
 "metadata": {
  "orig_nbformat": 4,
  "language_info": {
   "name": "python",
   "version": "3.9.1",
   "mimetype": "text/x-python",
   "codemirror_mode": {
    "name": "ipython",
    "version": 3
   },
   "pygments_lexer": "ipython3",
   "nbconvert_exporter": "python",
   "file_extension": ".py"
  },
  "kernelspec": {
   "name": "python3",
   "display_name": "Python 3.9.1 64-bit"
  },
  "interpreter": {
   "hash": "ac59ebe37160ed0dfa835113d9b8498d9f09ceb179beaac4002f036b9467c963"
  }
 },
 "nbformat": 4,
 "nbformat_minor": 2
}