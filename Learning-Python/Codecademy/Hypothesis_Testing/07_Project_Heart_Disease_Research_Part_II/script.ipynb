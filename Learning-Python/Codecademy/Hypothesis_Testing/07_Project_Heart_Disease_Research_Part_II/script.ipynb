{
 "cells": [
  {
   "cell_type": "markdown",
   "source": [
    "# Heart Disease Research Part II\r\n",
    "\r\n",
    "In this project, you will investigate some data from a sample patients who were evaluated for heart disease at the Cleveland Clinic Foundation. The data was downloaded from the <a href=\"https://archive.ics.uci.edu/ml/datasets/Heart+Disease\">UCI Machine Learning Repository</a> and then cleaned for analysis. The principal investigators responsible for data collection were:\r\n",
    "\r\n",
    "* Hungarian Institute of Cardiology. Budapest: Andras Janosi, M.D.\r\n",
    "* University Hospital, Zurich, Switzerland: William Steinbrunn, M.D.\r\n",
    "* University Hospital, Basel, Switzerland: Matthias Pfisterer, M.D.\r\n",
    "* V.A. Medical Center, Long Beach and Cleveland Clinic Foundation: Robert Detrano, M.D., Ph.D."
   ],
   "metadata": {}
  },
  {
   "cell_type": "code",
   "execution_count": 1,
   "source": [
    "# import libraries\r\n",
    "import pandas as pd\r\n",
    "import numpy as np\r\n",
    "import matplotlib.pyplot as plt \r\n",
    "import seaborn as sns\r\n",
    "\r\n",
    "# load data\r\n",
    "heart = pd.read_csv('heart_disease.csv')"
   ],
   "outputs": [],
   "metadata": {}
  },
  {
   "cell_type": "markdown",
   "source": [
    "## Inspect the Data\r\n",
    "\r\n",
    "1. The data has been saved as a dataframe named heart in script.py. It contains the following variables:\r\n",
    "\r\n",
    "    * `age`: age in years\r\n",
    "    * `sex`: sex assigned at birth; `'male'` or `'female'`\r\n",
    "    * `trestbps`: resting blood pressure in mm Hg\r\n",
    "    * `chol`: serum cholesterol in mg/dl\r\n",
    "    * `cp`: chest pain type (`'typical angina'`, `'atypical angina'`, `'non-anginal pain'`, or `'asymptomatic'`)\r\n",
    "    * `exang`: whether the patient experiences exercise-induced angina (`1`: yes; `0`: no)\r\n",
    "    * `fbs`: whether the patient’s fasting blood sugar is >120 mg/dl (`1`: yes; `0`: no)\r\n",
    "    * `thalach`: maximum heart rate achieved in exercise test\r\n",
    "    * `heart_disease`: whether the patient is found to have heart disease (`'presence'`: diagnosed with heart disease; `'absence'`: no heart disease)\r\n",
    "\r\n",
    "    Inspect the first few rows of data using the `.head()` method."
   ],
   "metadata": {}
  },
  {
   "cell_type": "code",
   "execution_count": 2,
   "source": [
    "heart.head()"
   ],
   "outputs": [
    {
     "output_type": "execute_result",
     "data": {
      "text/plain": [
       "    age     sex  trestbps   chol                cp  exang  fbs  thalach  \\\n",
       "0  63.0    male     145.0  233.0    typical angina    0.0  1.0    150.0   \n",
       "1  67.0    male     160.0  286.0      asymptomatic    1.0  0.0    108.0   \n",
       "2  67.0    male     120.0  229.0      asymptomatic    1.0  0.0    129.0   \n",
       "3  37.0    male     130.0  250.0  non-anginal pain    0.0  0.0    187.0   \n",
       "4  41.0  female     130.0  204.0   atypical angina    0.0  0.0    172.0   \n",
       "\n",
       "  heart_disease  \n",
       "0       absence  \n",
       "1      presence  \n",
       "2      presence  \n",
       "3       absence  \n",
       "4       absence  "
      ],
      "text/html": [
       "<div>\n",
       "<style scoped>\n",
       "    .dataframe tbody tr th:only-of-type {\n",
       "        vertical-align: middle;\n",
       "    }\n",
       "\n",
       "    .dataframe tbody tr th {\n",
       "        vertical-align: top;\n",
       "    }\n",
       "\n",
       "    .dataframe thead th {\n",
       "        text-align: right;\n",
       "    }\n",
       "</style>\n",
       "<table border=\"1\" class=\"dataframe\">\n",
       "  <thead>\n",
       "    <tr style=\"text-align: right;\">\n",
       "      <th></th>\n",
       "      <th>age</th>\n",
       "      <th>sex</th>\n",
       "      <th>trestbps</th>\n",
       "      <th>chol</th>\n",
       "      <th>cp</th>\n",
       "      <th>exang</th>\n",
       "      <th>fbs</th>\n",
       "      <th>thalach</th>\n",
       "      <th>heart_disease</th>\n",
       "    </tr>\n",
       "  </thead>\n",
       "  <tbody>\n",
       "    <tr>\n",
       "      <th>0</th>\n",
       "      <td>63.0</td>\n",
       "      <td>male</td>\n",
       "      <td>145.0</td>\n",
       "      <td>233.0</td>\n",
       "      <td>typical angina</td>\n",
       "      <td>0.0</td>\n",
       "      <td>1.0</td>\n",
       "      <td>150.0</td>\n",
       "      <td>absence</td>\n",
       "    </tr>\n",
       "    <tr>\n",
       "      <th>1</th>\n",
       "      <td>67.0</td>\n",
       "      <td>male</td>\n",
       "      <td>160.0</td>\n",
       "      <td>286.0</td>\n",
       "      <td>asymptomatic</td>\n",
       "      <td>1.0</td>\n",
       "      <td>0.0</td>\n",
       "      <td>108.0</td>\n",
       "      <td>presence</td>\n",
       "    </tr>\n",
       "    <tr>\n",
       "      <th>2</th>\n",
       "      <td>67.0</td>\n",
       "      <td>male</td>\n",
       "      <td>120.0</td>\n",
       "      <td>229.0</td>\n",
       "      <td>asymptomatic</td>\n",
       "      <td>1.0</td>\n",
       "      <td>0.0</td>\n",
       "      <td>129.0</td>\n",
       "      <td>presence</td>\n",
       "    </tr>\n",
       "    <tr>\n",
       "      <th>3</th>\n",
       "      <td>37.0</td>\n",
       "      <td>male</td>\n",
       "      <td>130.0</td>\n",
       "      <td>250.0</td>\n",
       "      <td>non-anginal pain</td>\n",
       "      <td>0.0</td>\n",
       "      <td>0.0</td>\n",
       "      <td>187.0</td>\n",
       "      <td>absence</td>\n",
       "    </tr>\n",
       "    <tr>\n",
       "      <th>4</th>\n",
       "      <td>41.0</td>\n",
       "      <td>female</td>\n",
       "      <td>130.0</td>\n",
       "      <td>204.0</td>\n",
       "      <td>atypical angina</td>\n",
       "      <td>0.0</td>\n",
       "      <td>0.0</td>\n",
       "      <td>172.0</td>\n",
       "      <td>absence</td>\n",
       "    </tr>\n",
       "  </tbody>\n",
       "</table>\n",
       "</div>"
      ]
     },
     "metadata": {},
     "execution_count": 2
    }
   ],
   "metadata": {}
  },
  {
   "cell_type": "markdown",
   "source": [
    "## Predictors of Heart Disease\r\n",
    "\r\n",
    "2. Each of the patients in this dataset underwent an exercise test, during which their heart rate was monitored. For each patient, `thalach` gives us the highest heart rate that the patient achieved during this test.\r\n",
    "\r\n",
    "    Is `thalach` associated with whether or not a patient will ultimately be diagnosed with heart disease? Use `sns.boxplot()` to plot side by side box plots of `thalach` for patients who were and were not diagnosed with heart disease (indicated by the `heart_disease` variable). Do you think there is a relationship between these variables?"
   ],
   "metadata": {}
  },
  {
   "cell_type": "code",
   "execution_count": 3,
   "source": [
    "PROPS = {\r\n",
    "    'boxprops': {'edgecolor':'white'},\r\n",
    "    'medianprops': {'color':'white'},\r\n",
    "    'whiskerprops': {'color':'white'},\r\n",
    "    'capprops': {'color':'white'},\r\n",
    "    'flierprops': {\r\n",
    "                    'markerfacecolor':'white',\r\n",
    "                    'markeredgecolor': 'white',\r\n",
    "                    'markersize': 12\r\n",
    "                }\r\n",
    "}\r\n",
    "\r\n",
    "EXOTIC_ORCHIDS_COLOR_SCHEME = {\r\n",
    "    'dark_blue': '#192E5B',\r\n",
    "    'medium_blue': '#1D65A6',\r\n",
    "    'light_blue': '#72A2C0',\r\n",
    "    'green': '#00743F',\r\n",
    "    'yellow': '#F2A104'   \r\n",
    "}\r\n",
    "\r\n",
    "my_pal = {\r\n",
    "    \"absence\": EXOTIC_ORCHIDS_COLOR_SCHEME['green'],\r\n",
    "    \"presence\": EXOTIC_ORCHIDS_COLOR_SCHEME['yellow'],\r\n",
    "}\r\n",
    "\r\n",
    "plt.style.use('dark_background')\r\n",
    "\r\n",
    "sns.boxplot(x=heart.heart_disease, y=heart.thalach, palette=my_pal , **PROPS).set_title('Maximum Heart Rate Distribution for Heart Disease Diagnosis')\r\n",
    "plt.show()"
   ],
   "outputs": [
    {
     "output_type": "display_data",
     "data": {
      "text/plain": [
       "<Figure size 432x288 with 1 Axes>"
      ],
      "image/png": "[encoded data removed]"
     },
     "metadata": {}
    }
   ],
   "metadata": {}
  },
  {
   "cell_type": "markdown",
   "source": [
    "3. In order to investigate this question further, save the values for `thalach` among patients who were diagnosed with heart disease as a variable named `thalach_hd`. Then save the values of `thalach` among patients who were not diagnosed with heart disease as `thalach_no_hd`."
   ],
   "metadata": {}
  },
  {
   "cell_type": "code",
   "execution_count": 4,
   "source": [
    "thalach_hd = heart.thalach[heart.heart_disease == 'presence']\r\n",
    "thalach_no_hd = heart.thalach[heart.heart_disease == 'absence']"
   ],
   "outputs": [],
   "metadata": {}
  },
  {
   "cell_type": "markdown",
   "source": [
    "4. Calculate and print the difference in mean `thalach` for patients diagnosed with heart disease compared to patients without heart disease. Then do the same for the median difference."
   ],
   "metadata": {}
  },
  {
   "cell_type": "code",
   "execution_count": 5,
   "source": [
    "mean_diff = np.mean(thalach_no_hd) - np.mean(thalach_hd)\r\n",
    "print(f'thalach mean Difference: {mean_diff:0.2f}')\r\n",
    "\r\n",
    "median_diff = np.median(thalach_no_hd) - np.median(thalach_hd)\r\n",
    "print(f'thalach median Difference: {median_diff:0.2f}')"
   ],
   "outputs": [
    {
     "output_type": "stream",
     "name": "stdout",
     "text": [
      "thalach mean Difference: 19.12\n",
      "thalach median Difference: 19.00\n"
     ]
    }
   ],
   "metadata": {}
  },
  {
   "cell_type": "markdown",
   "source": [
    "5. We would like to find out if the average `thalach` of a heart disease patient is *significantly different* from the average `thalach` for a person without heart disease.\r\n",
    "\r\n",
    "    Import the statistical test from `scipy.stats` that we would use to test the following null and alternative hypotheses:\r\n",
    "    * Null: The average `thalach` for a person with heart disease is equal to the average `thalach` for a person without heart disease.\r\n",
    "    * Alternative: The average `thalach` for a person with heart disease is NOT equal to the average   `thalach` for a person without heart disease.\r\n"
   ],
   "metadata": {}
  },
  {
   "cell_type": "code",
   "execution_count": 6,
   "source": [
    "from scipy.stats import ttest_ind"
   ],
   "outputs": [],
   "metadata": {}
  },
  {
   "cell_type": "markdown",
   "source": [
    "6. Run the hypothesis test from task 5 and print out the p-value. Using a significance threshold of 0.05, is there a significant difference in average `thalach` for people with heart disease compared to people with no heart disease?"
   ],
   "metadata": {}
  },
  {
   "cell_type": "code",
   "execution_count": 7,
   "source": [
    "_, pval = ttest_ind(a=thalach_hd, b=thalach_no_hd)\r\n",
    "pval"
   ],
   "outputs": [
    {
     "output_type": "execute_result",
     "data": {
      "text/plain": [
       "3.456964908430172e-14"
      ]
     },
     "metadata": {},
     "execution_count": 7
    }
   ],
   "metadata": {}
  },
  {
   "cell_type": "code",
   "execution_count": 8,
   "source": [
    "significance_threshold = 0.05\r\n",
    "print(f'The difference in average thalach is significant: {pval < significance_threshold}')"
   ],
   "outputs": [
    {
     "output_type": "stream",
     "name": "stdout",
     "text": [
      "The difference in average thalach is significant: True\n"
     ]
    }
   ],
   "metadata": {}
  },
  {
   "cell_type": "markdown",
   "source": [
    "7. Using the same process, investigate at least one other quantitative variable. Options include age, trestbps (resting blood pressure), and chol (cholesterol). Are any of these variables also significantly associated with heart disease?"
   ],
   "metadata": {}
  },
  {
   "cell_type": "code",
   "execution_count": 9,
   "source": [
    "sns.boxplot(x=heart.heart_disease, y=heart.age, palette=my_pal , **PROPS).set_title('Age Distribution for Heart Disease Diagnosis')\r\n",
    "plt.show()"
   ],
   "outputs": [
    {
     "output_type": "display_data",
     "data": {
      "text/plain": [
       "<Figure size 432x288 with 1 Axes>"
      ],
      "image/png": "[encoded data removed]"
     },
     "metadata": {}
    }
   ],
   "metadata": {}
  },
  {
   "cell_type": "code",
   "execution_count": 10,
   "source": [
    "age_hd = heart.age[heart.heart_disease == 'presence']\r\n",
    "age_no_hd = heart.age[heart.heart_disease == 'absence']\r\n",
    "\r\n",
    "mean_diff = np.mean(age_no_hd) - np.mean(age_hd)\r\n",
    "print(f'age mean Difference: {mean_diff:0.2f}')\r\n",
    "\r\n",
    "median_diff = np.median(age_no_hd) - np.median(age_hd)\r\n",
    "print(f'age median Difference: {median_diff:0.2f}')\r\n",
    "\r\n",
    "_, pval = ttest_ind(a=age_hd, b=age_no_hd)\r\n",
    "print(f'pval: {pval:0.2e}')\r\n",
    "\r\n",
    "significance_threshold = 0.05\r\n",
    "print(f'The difference in average age is significant: {pval < significance_threshold}')"
   ],
   "outputs": [
    {
     "output_type": "stream",
     "name": "stdout",
     "text": [
      "age mean Difference: -4.04\n",
      "age median Difference: -6.00\n",
      "pval: 8.96e-05\n",
      "The difference in average age is significant: True\n"
     ]
    }
   ],
   "metadata": {}
  },
  {
   "cell_type": "markdown",
   "source": [
    "## Chest Pain and Max Heart Rate\r\n",
    "\r\n",
    "8. Next, let us investigate the relationship between `thalach` (maximum heart rate achieved during exercise) and the type of heart pain a person experiences. Create a set of side-by-side box plots of thalach for each chest pain type in the data.\r\n",
    "\r\n",
    "    Are there any chest pain types for which average thalach is significantly higher or lower (compared to other chest pain types)?"
   ],
   "metadata": {}
  },
  {
   "cell_type": "code",
   "execution_count": 11,
   "source": [
    "my_pal = {\r\n",
    "    'typical angina': EXOTIC_ORCHIDS_COLOR_SCHEME['dark_blue'],\r\n",
    "    'atypical angina': EXOTIC_ORCHIDS_COLOR_SCHEME['light_blue'],\r\n",
    "    'non-anginal pain': EXOTIC_ORCHIDS_COLOR_SCHEME['green'],\r\n",
    "    'asymptomatic': EXOTIC_ORCHIDS_COLOR_SCHEME['yellow']\r\n",
    "}\r\n",
    "\r\n",
    "sns.boxplot(\r\n",
    "    x=heart.cp,\r\n",
    "    y=heart.thalach,\r\n",
    "    palette=my_pal,\r\n",
    "    order = [\r\n",
    "        'typical angina',\r\n",
    "        'atypical angina',\r\n",
    "        'non-anginal pain',\r\n",
    "        'asymptomatic'        \r\n",
    "        ],\r\n",
    "    **PROPS)\\\r\n",
    ".set_title('Maximum Heart Rate Distribution for Chest Pain Type')"
   ],
   "outputs": [
    {
     "output_type": "execute_result",
     "data": {
      "text/plain": [
       "Text(0.5, 1.0, 'Maximum Heart Rate Distribution for Chest Pain Type')"
      ]
     },
     "metadata": {},
     "execution_count": 11
    },
    {
     "output_type": "display_data",
     "data": {
      "text/plain": [
       "<Figure size 432x288 with 1 Axes>"
      ],
      "image/png": "[encoded data removed]"
     },
     "metadata": {}
    }
   ],
   "metadata": {}
  },
  {
   "cell_type": "markdown",
   "source": [
    "10. Run a single hypothesis test to address the following null and alternative hypotheses:\r\n",
    "\r\n",
    "    * Null: People with typical angina, non-anginal pain, atypical angina, and asymptomatic people all have the same average `thalach`.\r\n",
    "    * Alternative: People with typical angina, non-anginal pain, atypical angina, and asymptomatic people **do not** all have the same average `thalach`.\r\n",
    "\r\n",
    "    Save the resulting p-value as `pval` and print it out. Using a significance threshold of 0.05, is there at least one pair of chest pain categories for which people in those categories have significantly different `thalach`?"
   ],
   "metadata": {}
  },
  {
   "cell_type": "code",
   "execution_count": 12,
   "source": [
    "from scipy.stats import f_oneway\r\n",
    "\r\n",
    "\r\n",
    "typical_angina_thalach = heart.thalach[heart.cp == 'typical angina']\r\n",
    "atypical_angina_thalach = heart.thalach[heart.cp == 'atypical angina']\r\n",
    "non_anginal_pain_thalach = heart.thalach[heart.cp == 'non-anginal pain']\r\n",
    "asymptomatic_thalach = heart.thalach[heart.cp == 'asymptomatic']\r\n",
    "\r\n",
    "_, pval = f_oneway(\r\n",
    "    typical_angina_thalach,\r\n",
    "    atypical_angina_thalach,\r\n",
    "    non_anginal_pain_thalach,\r\n",
    "    asymptomatic_thalach\r\n",
    "    )\r\n",
    "\r\n",
    "print(f'{pval:0.2e}')"
   ],
   "outputs": [
    {
     "output_type": "stream",
     "name": "stdout",
     "text": [
      "1.91e-10\n"
     ]
    }
   ],
   "metadata": {}
  },
  {
   "cell_type": "markdown",
   "source": [
    "11. If you completed the previous step correctly, you should have concluded that there is at least one pair of chest pain types (`cp`) for which people with those pain types have significantly different average max heart rates during exercise ( `thalach`).\r\n",
    "\r\n",
    "    Run another hypothesis test to determine which of those pairs are significantly different. Use an overall type I error rate of 0.05 for all six comparisons.\r\n",
    "\r\n",
    "*Hint: For any pair where `reject` is `True`, we conclude that people with those chest pain types have significantly different maximum heart rates during exercise.*"
   ],
   "metadata": {}
  },
  {
   "cell_type": "code",
   "execution_count": 13,
   "source": [
    "from statsmodels.stats.multicomp import pairwise_tukeyhsd\r\n",
    "\r\n",
    "tukey_results = pairwise_tukeyhsd(\r\n",
    "    endog=heart.thalach,\r\n",
    "    groups=heart.cp,\r\n",
    "    alpha=significance_threshold\r\n",
    "    )\r\n",
    "\r\n",
    "print(tukey_results)"
   ],
   "outputs": [
    {
     "output_type": "stream",
     "name": "stdout",
     "text": [
      "           Multiple Comparison of Means - Tukey HSD, FWER=0.05           \n",
      "=========================================================================\n",
      "     group1           group2      meandiff p-adj   lower    upper  reject\n",
      "-------------------------------------------------------------------------\n",
      "    asymptomatic  atypical angina  21.7394  0.001  12.7439  30.735   True\n",
      "    asymptomatic non-anginal pain  14.7264  0.001    7.258 22.1948   True\n",
      "    asymptomatic   typical angina   15.276 0.0081   2.9702 27.5817   True\n",
      " atypical angina non-anginal pain   -7.013 0.2481 -16.7591   2.733  False\n",
      " atypical angina   typical angina  -6.4635 0.6069 -20.2707  7.3438  False\n",
      "non-anginal pain   typical angina   0.5495    0.9  -12.315 13.4141  False\n",
      "-------------------------------------------------------------------------\n"
     ]
    }
   ],
   "metadata": {}
  },
  {
   "cell_type": "markdown",
   "source": [
    "## Heart Disease and Chest Pain\r\n",
    "\r\n",
    "12. Finally, let us investigate the relationship between the kind of chest pain a person experiences and whether or not they have heart disease. Create a contingency table of `cp` and `heart_disease` and save it as `xtab`, then print it out."
   ],
   "metadata": {}
  },
  {
   "cell_type": "code",
   "execution_count": 14,
   "source": [
    "xtab = pd.crosstab(heart.cp, heart.heart_disease)\r\n",
    "xtab"
   ],
   "outputs": [
    {
     "output_type": "execute_result",
     "data": {
      "text/plain": [
       "heart_disease     absence  presence\n",
       "cp                                 \n",
       "asymptomatic           39       105\n",
       "atypical angina        41         9\n",
       "non-anginal pain       68        18\n",
       "typical angina         16         7"
      ],
      "text/html": [
       "<div>\n",
       "<style scoped>\n",
       "    .dataframe tbody tr th:only-of-type {\n",
       "        vertical-align: middle;\n",
       "    }\n",
       "\n",
       "    .dataframe tbody tr th {\n",
       "        vertical-align: top;\n",
       "    }\n",
       "\n",
       "    .dataframe thead th {\n",
       "        text-align: right;\n",
       "    }\n",
       "</style>\n",
       "<table border=\"1\" class=\"dataframe\">\n",
       "  <thead>\n",
       "    <tr style=\"text-align: right;\">\n",
       "      <th>heart_disease</th>\n",
       "      <th>absence</th>\n",
       "      <th>presence</th>\n",
       "    </tr>\n",
       "    <tr>\n",
       "      <th>cp</th>\n",
       "      <th></th>\n",
       "      <th></th>\n",
       "    </tr>\n",
       "  </thead>\n",
       "  <tbody>\n",
       "    <tr>\n",
       "      <th>asymptomatic</th>\n",
       "      <td>39</td>\n",
       "      <td>105</td>\n",
       "    </tr>\n",
       "    <tr>\n",
       "      <th>atypical angina</th>\n",
       "      <td>41</td>\n",
       "      <td>9</td>\n",
       "    </tr>\n",
       "    <tr>\n",
       "      <th>non-anginal pain</th>\n",
       "      <td>68</td>\n",
       "      <td>18</td>\n",
       "    </tr>\n",
       "    <tr>\n",
       "      <th>typical angina</th>\n",
       "      <td>16</td>\n",
       "      <td>7</td>\n",
       "    </tr>\n",
       "  </tbody>\n",
       "</table>\n",
       "</div>"
      ]
     },
     "metadata": {},
     "execution_count": 14
    }
   ],
   "metadata": {}
  },
  {
   "cell_type": "markdown",
   "source": [
    "13. Run a hypothesis test for the following null and alternative hypotheses:\r\n",
    "\r\n",
    "    * Null: There is **not** an association between chest pain type and whether or not someone is diagnosed with heart disease.\r\n",
    "    * Alternative: There is an association between chest pain type and whether or not someone is diagnosed with heart disease.\r\n",
    "\r\n",
    "    Save the p-value as `pval` and print it out. Using a significance threshold of 0.05, is there a significant association between chest pain type and whether or not someone is diagnosed with heart disease?"
   ],
   "metadata": {}
  },
  {
   "cell_type": "code",
   "execution_count": 15,
   "source": [
    "from scipy.stats import chi2_contingency\r\n",
    "_, pval, _, _ = chi2_contingency(xtab)\r\n",
    "pval"
   ],
   "outputs": [
    {
     "output_type": "execute_result",
     "data": {
      "text/plain": [
       "1.2517106007837527e-17"
      ]
     },
     "metadata": {},
     "execution_count": 15
    }
   ],
   "metadata": {}
  },
  {
   "cell_type": "code",
   "execution_count": 16,
   "source": [
    "significant = pval < significance_threshold\r\n",
    "significant"
   ],
   "outputs": [
    {
     "output_type": "execute_result",
     "data": {
      "text/plain": [
       "True"
      ]
     },
     "metadata": {},
     "execution_count": 16
    }
   ],
   "metadata": {}
  },
  {
   "cell_type": "markdown",
   "source": [
    "14. Congratulations! You have used a sample of data to understand how health related outcomes are associated with heart disease. Now that you have gotten your feet wet, there are a number of additional variables in this dataset that we have not looked at yet! If you want additional practice, use this space to continue your investigation. What other variables might be predictive of heart disease? Can you identify which hypothesis test to use for each variable? "
   ],
   "metadata": {}
  }
 ],
 "metadata": {
  "orig_nbformat": 4,
  "language_info": {
   "name": "python",
   "version": "3.9.1",
   "mimetype": "text/x-python",
   "codemirror_mode": {
    "name": "ipython",
    "version": 3
   },
   "pygments_lexer": "ipython3",
   "nbconvert_exporter": "python",
   "file_extension": ".py"
  },
  "kernelspec": {
   "name": "python3",
   "display_name": "Python 3.9.1 64-bit"
  },
  "interpreter": {
   "hash": "ac59ebe37160ed0dfa835113d9b8498d9f09ceb179beaac4002f036b9467c963"
  }
 },
 "nbformat": 4,
 "nbformat_minor": 2
}