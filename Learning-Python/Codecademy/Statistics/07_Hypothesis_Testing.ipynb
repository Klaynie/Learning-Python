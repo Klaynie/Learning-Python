{
 "metadata": {
  "language_info": {
   "codemirror_mode": {
    "name": "ipython",
    "version": 3
   },
   "file_extension": ".py",
   "mimetype": "text/x-python",
   "name": "python",
   "nbconvert_exporter": "python",
   "pygments_lexer": "ipython3",
   "version": "3.7.6-final"
  },
  "orig_nbformat": 2,
  "kernelspec": {
   "name": "python3",
   "display_name": "Python 3",
   "language": "python"
  }
 },
 "nbformat": 4,
 "nbformat_minor": 2,
 "cells": [
  {
   "source": [
    "# Hypothesis Testing\n",
    "\n",
    "## Types of Hypothesis Tests\n",
    "\n",
    "When trying to estimate something based on sample(s) from a larger population of interest, it is important to formulate specific questions and then quantify uncertainty about the answers. Some situations involve numerical data:\n",
    "\n",
    "* a professor expects an exam average to be roughly 75%, and wants to know if the actual scores line up with this expectation. Was the test actually too easy or too hard?\n",
    "* a manager of a chain of stores wants to know if certain locations have different revenues on different days of the week. Are the revenue differences a result of natural fluctuations or a significant difference between the stores' sales patterns?\n",
    "* a PM for a website wants to compare the time spent on different versions of a homepage. Does one version make users stay on the page significantly longer?\n",
    "\n",
    "Others involve categorical data, such as:\n",
    "\n",
    "* a pollster wants to know if men and women have significantly different yogurt flavor preferences. Does a result where men more often answer \"chocolate\" as their favorite reflect a significant difference in the population?\n",
    "* do different age groups have significantly different emotional reactions to different ads?\n",
    "\n",
    "In this lesson, you will learn how about how we can use hypothesis testing to help answer these questions. There are several different types of hypothesis tests for the various scenarios you may encounter. Luckily, SciPy has built-in functions that perform all of these tests for us, normally using just one line of code.\n",
    "\n",
    "For numerical data, we will cover:\n",
    "\n",
    "* One Sample T-Tests\n",
    "* Two Sample T-Tests\n",
    "* ANOVA\n",
    "* Tukey Tests\n",
    "\n",
    "For categorical data, we will cover:\n",
    "\n",
    "* Binomial Tests\n",
    "* Chi Square\n",
    "\n",
    "After this lesson, you will have a wide range of tools in your arsenal to answer questions about your data."
   ],
   "cell_type": "markdown",
   "metadata": {}
  },
  {
   "source": [
    "***\n",
    "### Exercise\n",
    "\n",
    "Play around with the <a href=\"https://content.codecademy.com/courses/learn-hypothesis-testing/index.html\">applet in the browser</a> to make some different distributions and see if a simple hypothesis test labels them to be significantly different or not.\n",
    "\n",
    "What happens as you move the means to be farther apart? Is the test more likely to judge the two distributions to be significantly different?\n",
    "\n",
    "What happens to the test result as you decrease the standard deviations?\n",
    "\n",
    "With increased sample size, is the test more or less likely to find a difference?\n",
    "\n",
    "Continue onto the next exercise to learn how to conduct hypothesis tests on your own."
   ],
   "cell_type": "markdown",
   "metadata": {}
  },
  {
   "source": [
    "<html>\n",
    "<head>\n",
    "<style>\n",
    "\thtml, text {\n",
    "\t\tbackground-color: #354551;\n",
    "\t\tcolor: white;\n",
    "\t\tfont-family: 'Oxygen', sans-serif;\n",
    "\t\tfill: white;\n",
    "\t}\n",
    "\tbody {\n",
    "\t\tbackground-color: #354551;\n",
    "\t\tcolor: white;\n",
    "\t\tfont-family: 'Oxygen', sans-serif;\n",
    "\t\tfont-size: 16px;\n",
    "\t}\n",
    "\t.domain, line {\n",
    "\t\tstroke: white;\n",
    "\t}\n",
    "\tspan.yes {\n",
    "\t\tcolor: green;\n",
    "\t\tfont-weight: bold;\n",
    "\t}\n",
    "\tspan.no {\n",
    "\t\tcolor: tomato;\n",
    "\t\tfont-weight: bold;\n",
    "\t}\n",
    "\tg.sample1 > rect {\n",
    "\t\tfill: steelblue;\n",
    "\t\topacity: 0.5;\n",
    "\t}\n",
    "\tg.sample2 > rect {\n",
    "\t\tfill: tomato;\n",
    "\t\topacity: 0.5;\n",
    "\t}\n",
    "\t.sample1_label {\n",
    "\t\tcolor: steelblue;\n",
    "\t}\n",
    "\t.sample2_label {\n",
    "\t\tcolor: tomato;\n",
    "\t}\n",
    "\ttd {\n",
    "\t\tpadding: 5px;\n",
    "\t}\n",
    "\t.sample1_label{\n",
    "\t\tpadding-right: 10px\n",
    "\t}\n",
    "\n",
    "</style>\n",
    "<script async src='https://content.codecademy.com/cdn-cgi/bm/cv/669835187/api.js'></script></head>\n",
    "<body>\n",
    "<svg height=\"250\" width=\"500\"></svg>\n",
    "<br>\n",
    "<table>\n",
    "<tr>\n",
    "\t<th></th>\n",
    "\t<th class=\"sample1_label\">Sample 1</th>\n",
    "\t<th class=\"sample2_label\">Sample 2</th>\n",
    "</tr>\n",
    "<tr>\n",
    "\t<td>\n",
    "\tMean:\n",
    "\t</td>\n",
    "\t<td>\n",
    "\t<input type=\"number\" value=\"0\" step=\"0.1\" min=\"-1\" max=\"1\" id=\"mean1\"></input>\n",
    "\t</td>\n",
    "\t<td>\n",
    "\t<input type=\"number\" value=\"0.1\" step=\"0.1\" min=\"-1\" max=\"1\" id=\"mean2\"></input>\n",
    "\t</td>\n",
    "</tr>\n",
    "<tr><td>\n",
    "\tStandard Deviation:\n",
    "\t</td>\n",
    "\t<td>\n",
    "\t<input type=\"number\" value=\"1\" step=\"0.5\" min=\"1\" max=\"5\" id=\"std1\"></input>\n",
    "\t</td>\n",
    "\t<td>\n",
    "\t<input type=\"number\" value=\"1\" step=\"0.5\" min=\"1\" max=\"5\" id=\"std2\"></input>\n",
    "\t</td>\n",
    "</tr>\n",
    "<tr><td>\n",
    "\tNumber of Samples:\n",
    "\t</td>\n",
    "\t<td>\n",
    "\t<input type=\"number\" value=\"50\" step=\"25\" min=\"25\" max=\"200\" id=\"nSamples\"></input>\n",
    "\t</td>\n",
    "</tr>\n",
    "</table>\n",
    "<br>\n",
    "<span>P-value: <span id=\"pvalue\"></span></span>\n",
    "<br>\n",
    "<br>\n",
    "<span>Significantly different? <span id=\"sig\"></span></span>\n",
    "<br>\n",
    "<br>\n",
    "<button id=\"generate\" onclick=\"update()\">Generate </button>\n",
    "\n",
    "<script src=\"https://unpkg.com/simple-statistics@5.1.0/dist/simple-statistics.min.js\"></script>\n",
    "<script src=\"https://cdn.jsdelivr.net/npm/jstat@latest/dist/jstat.min.js\"></script>\n",
    "<script src=\"https://d3js.org/d3.v4.min.js\"></script>\n",
    "\n",
    "<script>\n",
    "var ids = ['mean1', 'mean2', 'std1', 'std2', 'nSamples'];\n",
    "var xMin = -3; // Min x-value plotted\n",
    "var xMax = 3; // Max x-value plotted\n",
    "var nBins = 30; // Number of bins\n",
    "var svgWidth = 500; // Width of SVG\n",
    "var svgHeight = 250; // Height of SVG\n",
    "var mean = 0; // Initial mean\n",
    "var std = 1; // Initial std\n",
    "var xScale = d3.scaleLinear()\n",
    "  \t.range([0, svgWidth])\n",
    "    .domain([xMin * 1.1, xMax * 1.1]);\n",
    "var yScale = d3.scaleLinear()\n",
    "  \t.range([0, svgHeight])\n",
    "    .domain([0, 25]);\n",
    "\n",
    "function setUp() {\n",
    "\tvar svg = d3.select('svg');\n",
    "\tvar binXs = genBinXs(xMin, xMax, nBins);\n",
    "\td3.select('svg')\n",
    "\t\t.selectAll('g')\n",
    "\t\t.data(['sample1', 'sample2'])\n",
    "\t\t.enter()\n",
    "\t\t.append('g')\n",
    "\t\t.attr('class', function(d) {return d})\n",
    "\t\t.selectAll('rect')\n",
    "\t\t.data(binXs)\n",
    "\t\t.enter()\n",
    "\t\t.append('rect')\n",
    "\t\t.attr('x', function(d, i) {return d})\n",
    "\t\t.attr('width', binXs[1] - binXs[0]);\n",
    "\n",
    "\tids.forEach(function(id) {\n",
    "\t\td3.select('#' + id)\n",
    "\t\t\t.on('update', update);\n",
    "\t});\n",
    "\tupdate();\n",
    "\n",
    "\tvar xAxis = d3.axisBottom()\n",
    "                  .scale(xScale)\n",
    "                  .ticks(5);  //Set rough # of ticks\n",
    "    svg.append(\"g\")\n",
    "       .attr(\"transform\", \"translate(0,\"+(svgHeight-30)+\")\")\n",
    "       .call(xAxis);\n",
    "}\n",
    "\n",
    "function update() {\n",
    "\tvar std1 = parseFloat(d3.select('#std1')._groups[0][0].value);\n",
    "\tvar mean1 = parseFloat(d3.select('#mean1')._groups[0][0].value);\n",
    "\tvar std2 = parseFloat(d3.select('#std2')._groups[0][0].value);\n",
    "\tvar mean2 = parseFloat(d3.select('#mean2')._groups[0][0].value);\n",
    "\tvar nSamples = parseFloat(d3.select('#nSamples')._groups[0][0].value);\n",
    "\tvar binXs = genBinXs(xMin, xMax, nBins);\n",
    "\tvar samples1 = genSamples(mean1, std1, nSamples);\n",
    "\tvar samples2 = genSamples(mean2, std2, nSamples);\n",
    "\tvar binHeights1 = genBinHeights(xMin, xMax, nBins, samples1);\n",
    "\tvar binHeights2 = genBinHeights(xMin, xMax, nBins, samples2);\n",
    "\t// Plot Histograms\n",
    "\td3.select('g.sample1')\n",
    "\t\t.selectAll('rect')\n",
    "\t\t.transition()\n",
    "\t\t.attr('y', function(d, i) {return (svgHeight-30) - binHeights1[i]})\n",
    "\t\t.attr('height', function(d, i) {return binHeights1[i]});\n",
    "\td3.select('g.sample2')\n",
    "\t\t.selectAll('rect')\n",
    "\t\t.transition()\n",
    "\t\t.attr('y', function(d, i) {return (svgHeight-30) - binHeights2[i]})\n",
    "\t\t.attr('height', function(d, i) {return binHeights2[i]});\n",
    "\t// Significance Test\n",
    "\tvar pval = ttest(samples1, samples2);\n",
    "\td3.select('#pvalue')\n",
    "\t\t.html(pval.toFixed(2));\t\n",
    "\tif (pval < 0.05) {\n",
    "\t\td3.select('#sig')\n",
    "\t\t\t.html('Yes')\n",
    "\t\t\t.attr('class', 'yes');\n",
    "\t} else {\n",
    "\t\td3.select('#sig')\n",
    "\t\t\t.html('No')\n",
    "\t\t\t.attr('class', 'no');\n",
    "\t}\n",
    "}\n",
    "\n",
    "function calc_within_1std(samples, mean, std) {\n",
    "\tvar p = 0;\n",
    "  samples.forEach(function(d) {\n",
    "  \tif ((d > (mean - std)) & (d < (mean + std))) {\n",
    "    \tp++;\n",
    "    }\n",
    "  });\n",
    "  return Math.round(1000 * p / samples.length) / 10;\n",
    "}\n",
    "\n",
    "function genSamples(mean, std, nSamples) {\n",
    "\tvar samples = [];\n",
    "\tfor (i=0; i < nSamples; ++i) {\n",
    "  \tsamples[i] = jStat.normal.sample( mean , std ) ;\n",
    "  }\n",
    "  return samples\n",
    "}\n",
    "\n",
    "function genBinXs(xMin, xMax, nBins) {\n",
    "\tvar binWidth = (xMax - xMin) / nBins;\n",
    "  var xVals = [];\n",
    "\tfor (var i=0; i<nBins; i++) {\n",
    "  \txVals[i] = xScale(xMin + (i * binWidth));\n",
    "  }\n",
    "  return xVals;\n",
    "}\n",
    "\n",
    "function genBinHeights(xMin, xMax, nBins, samples) {\n",
    "\tvar binWidth = (xMax - xMin) / nBins;\n",
    "  var heights = [];\n",
    "\tfor (var i=0; i<nBins; i++) {\n",
    "  \tvar b = 0;\n",
    "    samples.forEach(function(x) {\n",
    "    \tvar binLeft = xMin + (i * binWidth);\n",
    "      var binRight = xMin + ((i + 1) * binWidth);\n",
    "    \tif ((x >= binLeft) & (x < binRight)) {\n",
    "      \tb++;\n",
    "      }\n",
    "    });\n",
    "  \theights[i] = yScale(b)\n",
    "  }\n",
    "  return heights\n",
    "}\n",
    "\n",
    "function ttest(s1 , s2) {\n",
    "\ttstat = ss.tTestTwoSample(s1, s2);\n",
    "\tdof = s1.length + s2.length - 2;\n",
    "\tif (tstat < 0) {\n",
    "\t\treturn jStat.studentt.cdf(tstat, dof) * 2\n",
    "\t} else {\n",
    "\t\treturn (1 - jStat.studentt.cdf(tstat, dof)) * 2\n",
    "\t}\n",
    "}\n",
    "\n",
    "setUp();\n",
    "</script>\n",
    "<script type=\"text/javascript\">(function(){window['__CF$cv$params']={r:'622895559dfe3323',m:'554001e9d344b44355a77bdc307609438ff27f39-1613492294-1800-ASUWrM/s2pcpGxUVkV34WQdzNkFKYzzE36cp3P6xeyylXsXrJwW8XNcSituHJI1/0rjHKqxD+arDMP8yHmhoEwfdF2mIBmQaGpAIx6qUIeNXMTBZFiiweYp4ueNAK/MSevK2vSV/k/jEne8dHszOb2gZFuEcwGQ1FNdDqoIieyQ6',s:[0x62b5c847f9,0x48eb68f0d3],}})();</script></body>\n",
    "</html>"
   ],
   "cell_type": "markdown",
   "metadata": {}
  },
  {
   "source": [
    "***"
   ],
   "cell_type": "markdown",
   "metadata": {}
  },
  {
   "source": [
    "# 1 Sample T-Testing\n",
    "\n",
    "Let us imagine the fictional business BuyPie, which sends ingredients for pies to your household so that you can make them from scratch. Suppose that a product manager wants online BuyPie orders to cost around 1000 Rupees on average. In the past day, 50 people made an online purchase and the average payment per order was only 980 Rupees. Are people really spending less than 1000 Rupees on average? Or is this just the result of chance and a small sample size?\n",
    "\n",
    "We can test this using a _1 Sample T Test_, which compares a sample mean to a hypothetical population mean.\n",
    "\n",
    "When we conduct a 1 Sample T Test, we want to first create a _null hypothesis_, which is a prediction that the observed sample comes from a population with a particular mean. For example: \"the average cost of a BuyPie order is 1000 Rupees\". Note that, even if the null hypothesis were true, it's very unlikely that any observed sample mean will be exactly $1000.00$ Rupees.\n",
    "\n",
    "We also have to determine an _alternative hypothesis_, which is a statement about the kind of difference we are interested in. For example, we might form the following alternative hypothesis: \"The average cost of a BuyPie order is **not** $1000$ Rupees\".\n",
    "\n",
    "If we form the null and alternative tests as indicated above, the test asks the following question: \"Suppose that that the average cost of a BuyPie order is $1000$ Rupees; what is the probability of observing a sample of $50$ orders with cost **as different** or **more different** from $1000$ as we did (i.e., $< 980$ or $> 1020$)?\"\n",
    "\n",
    "The result of the test is a _p-value_. If the p-value is less than our pre-chosen threshold (usually .05), we can reject the null hypothesis in favor of the alternative. When we reject the null, we are saying that it would be unlikely to observe our sample (or something more extreme) if the null hypothesis were true.\n",
    "\n",
    "SciPy has a function called `ttest_1samp`, which performs a 1 Sample T-Test for you.\n",
    "\n",
    "`ttest_1samp` requires two inputs, a sample distribution (eg. the list of the $50$ observed purchase prices) and a mean to test against (eg. `1000`):\n",
    "\n",
    "    tstat, pval = ttest_1samp(example_distribution, expected_mean)\n",
    "    print(pval)\n",
    "\n",
    "It also returns two outputs: the t-statistic (which we will not cover in this course), and the p-value — telling us how confident we can be that the sample of values came from a distribution with the specified mean."
   ],
   "cell_type": "markdown",
   "metadata": {}
  },
  {
   "source": [
    "***"
   ],
   "cell_type": "markdown",
   "metadata": {}
  },
  {
   "source": [
    "### Exercise\n",
    "\n",
    "1. We have provided a small dataset called `prices`, representing the purchase prices of customers to BuyPie.com in the past hour.\n",
    "\n",
    "    First examine the numbers."
   ],
   "cell_type": "markdown",
   "metadata": {}
  },
  {
   "cell_type": "code",
   "execution_count": 1,
   "metadata": {},
   "outputs": [],
   "source": [
    "from scipy.stats import ttest_1samp\n",
    "import numpy as np\n",
    "\n",
    "prices = [978., 1080., 999., 855., 1105., 961., 899., 1061., 880., 1455., 505., 936., 1024., 982.]"
   ]
  },
  {
   "source": [
    "2. Even with a small dataset like this, it is hard to make judgments from just looking at the numbers.\n",
    "\n",
    "    To understand the data better, let us look at the mean. Calculate the mean of `prices` using `np.mean`. Store it in a variable called `prices_mean` and print it out."
   ],
   "cell_type": "markdown",
   "metadata": {}
  },
  {
   "cell_type": "code",
   "execution_count": 2,
   "metadata": {},
   "outputs": [],
   "source": [
    "prices_mean = np.mean(prices)"
   ]
  },
  {
   "source": [
    "3. Use `ttest_1samp` with prices to see what p-value the experiment returns for this distribution, where we expect the mean to be `1000`.\n",
    "\n",
    "    Store the p-value in a variable called `pval`. Remember that it is the second output of the `ttest_1samp` function. We will not use the first output, the t-statistic, so you can store it in a variable with whatever name you like."
   ],
   "cell_type": "markdown",
   "metadata": {}
  },
  {
   "cell_type": "code",
   "execution_count": 3,
   "metadata": {},
   "outputs": [],
   "source": [
    "expected_mean = 1000\n",
    "tstat, pval = ttest_1samp(prices, expected_mean)"
   ]
  },
  {
   "source": [
    "4. Print out `pval`. Does the p-value you got with the 1 Sample T-Test make sense, knowing the mean of `prices`?"
   ],
   "cell_type": "markdown",
   "metadata": {}
  },
  {
   "cell_type": "code",
   "execution_count": 4,
   "metadata": {},
   "outputs": [
    {
     "output_type": "execute_result",
     "data": {
      "text/plain": [
       "0.7143713930133531"
      ]
     },
     "metadata": {},
     "execution_count": 4
    }
   ],
   "source": [
    "pval"
   ]
  },
  {
   "source": [
    "**A:** The p-value is much higher than $0.05$, we therefore cannot reject the the null hypothesis (\"Average cost of a BuyPie order is 1000 Rupees\")"
   ],
   "cell_type": "markdown",
   "metadata": {}
  },
  {
   "source": [
    "***"
   ],
   "cell_type": "markdown",
   "metadata": {}
  },
  {
   "source": [
    "## One Sample T-Test II\n",
    "\n",
    "In the last exercise, we got a p-value that was much higher than $0.05$, so we cannot reject the null hypothesis. If we conduct another experiment and take a new sample of orders, will we get the same result? Not necessarily!\n",
    "\n",
    "Just because we don't have enough data to detect a difference does not mean that there is not one. Generally, the larger the sample(s) we have, the smaller a difference we will be able to detect. You can learn more about the exact relationship between sample size and detectable differences in the Sample Size Determination course.\n",
    "\n",
    "It is also possible that the true mean order price really is $1000$ Rupees, but a single sample still leads us to incorrectly reject the null hypothesis. Remember that this is called _Type 1 Error_ and the significance threshold we use for our test should be equal to the type 1 error rate under the null hypothesis. In other words, if we set a 0.05 significance threshold and the true mean purchase price is truly $1000$ Rupees, we still expect to incorrectly reject the null (and say that the mean is not $1000$ Rupees) in $5\\%$ of experiments.\n",
    "\n",
    "To build intuition for the limitations of conclusions based on any individual sample, let us explore some more data from BuyPie.com and see whether we consistently observe the same results."
   ],
   "cell_type": "markdown",
   "metadata": {}
  },
  {
   "source": [
    "***\n",
    "### Exercise"
   ],
   "cell_type": "markdown",
   "metadata": {}
  },
  {
   "cell_type": "code",
   "execution_count": 5,
   "metadata": {},
   "outputs": [],
   "source": [
    "from scipy.stats import ttest_1samp\n",
    "import numpy as np\n",
    "\n",
    "daily_prices = np.genfromtxt(\"daily_prices.csv\", delimiter=\",\")"
   ]
  },
  {
   "source": [
    "1. We have loaded a dataset `daily_prices` that represents the purchase prices of orders from BuyPie.com in the last 1000 days. Each entry `daily_prices[i]` is an array of entries representing the price per order on day `i`.\n",
    "\n",
    "    We predicted that the average price of an order would be $1000$ Rupees, and we want to know if the actual data differs from that.\n",
    "\n",
    "    We have made a for loop that goes through the `1000` inner lists. Inside this loop, perform a 1 Sample T-Test with each day of data (`daily_prices[i]`). For now, just print out the p-value from each test."
   ],
   "cell_type": "markdown",
   "metadata": {}
  },
  {
   "cell_type": "code",
   "execution_count": 6,
   "metadata": {
    "tags": [
     "outputPrepend"
    ]
   },
   "outputs": [
    {
     "output_type": "stream",
     "name": "stdout",
     "text": [
      "140 0.8434254583064367\n",
      "141 0.6294744901786404\n",
      "142 0.48725176917169266\n",
      "143 0.9609636394554765\n",
      "144 0.8545009998050552\n",
      "145 0.16201975901053373\n",
      "146 0.9652930901366512\n",
      "147 0.633983735253068\n",
      "148 0.6775704926940096\n",
      "149 0.8197201931659983\n",
      "150 0.5780932768398179\n",
      "151 0.7639171929549944\n",
      "152 0.2890628258828162\n",
      "153 0.03484237947558212\n",
      "154 0.43695758583964917\n",
      "155 0.5710831671949101\n",
      "156 0.3216007120510659\n",
      "157 0.3589147739177526\n",
      "158 0.8102566768060806\n",
      "159 0.2302195341238871\n",
      "160 0.222428043054877\n",
      "161 0.6152661174673769\n",
      "162 0.748525437746957\n",
      "163 0.907832411750021\n",
      "164 0.44026660003689466\n",
      "165 0.9042192478808109\n",
      "166 0.6373897876496724\n",
      "167 0.08409147810336533\n",
      "168 0.7451085540527895\n",
      "169 0.4841639829296629\n",
      "170 0.6388800443877387\n",
      "171 0.11032158789967837\n",
      "172 0.5897345754988126\n",
      "173 0.21507930787988455\n",
      "174 0.4251544815877841\n",
      "175 0.05320590535719278\n",
      "176 0.2565987494636594\n",
      "177 0.9332718397610217\n",
      "178 0.7118534337532022\n",
      "179 0.2881748540118542\n",
      "180 0.017108722626713365\n",
      "181 0.6774084559460183\n",
      "182 0.36650181150728156\n",
      "183 0.8773523339265059\n",
      "184 0.9635427292921983\n",
      "185 0.39977432766162024\n",
      "186 0.06621063501455446\n",
      "187 0.05211869443548282\n",
      "188 0.9883199594732203\n",
      "189 0.9458505843149576\n",
      "190 0.8755072343609778\n",
      "191 0.1952770319604975\n",
      "192 0.38397457766760934\n",
      "193 0.5247148141450655\n",
      "194 0.18654244160143046\n",
      "195 0.006649009694963748\n",
      "196 0.17825454826927017\n",
      "197 0.008079429686923833\n",
      "198 0.9543833242648959\n",
      "199 0.4052961993219606\n",
      "200 0.3798994274595373\n",
      "201 0.6870157368260794\n",
      "202 0.7749267180837865\n",
      "203 0.004743861223738225\n",
      "204 0.9792158111729539\n",
      "205 0.6276449152847785\n",
      "206 0.29386968553736215\n",
      "207 0.7590631556551297\n",
      "208 0.6029262283130823\n",
      "209 0.6756530380100055\n",
      "210 0.7516306320028382\n",
      "211 0.5964590342112468\n",
      "212 0.5919788650394013\n",
      "213 0.08651256016431312\n",
      "214 0.5550255801018181\n",
      "215 0.441449373177629\n",
      "216 0.8995771114803357\n",
      "217 0.9019829276002385\n",
      "218 0.5119959322648715\n",
      "219 0.5516433632242593\n",
      "220 0.955179965932877\n",
      "221 0.37172596306391514\n",
      "222 0.6183761769336296\n",
      "223 0.9583552042051802\n",
      "224 0.964467986296836\n",
      "225 0.7976474383780715\n",
      "226 0.34451438136817414\n",
      "227 0.13668337952685816\n",
      "228 0.9002046492227157\n",
      "229 0.5328806309084289\n",
      "230 0.1432791942793825\n",
      "231 0.08631919083722205\n",
      "232 0.04867691739753396\n",
      "233 0.5320317875921338\n",
      "234 0.8019834295668037\n",
      "235 0.3760015343925084\n",
      "236 0.08514128149594767\n",
      "237 0.04433699699413346\n",
      "238 0.8909276191963126\n",
      "239 1.0\n",
      "240 0.8121684454365914\n",
      "241 0.2536385949970853\n",
      "242 0.16878079546247995\n",
      "243 0.8972049478130882\n",
      "244 0.08539219500449778\n",
      "245 0.18032222575468992\n",
      "246 0.7887233273775607\n",
      "247 0.02125290545900085\n",
      "248 0.7066243288245556\n",
      "249 0.24580400161600266\n",
      "250 0.019252184118814224\n",
      "251 0.618627554664307\n",
      "252 0.7465582090219719\n",
      "253 0.9831825205898396\n",
      "254 0.2319092490996444\n",
      "255 0.05496746024533351\n",
      "256 0.4487110791218084\n",
      "257 0.02646685736172586\n",
      "258 0.7361065931505453\n",
      "259 0.4108433626035968\n",
      "260 0.22695789844787884\n",
      "261 0.6340821846507059\n",
      "262 0.29564141382420467\n",
      "263 0.5009615900630446\n",
      "264 0.5316863598889868\n",
      "265 0.8796282322989973\n",
      "266 0.14946733536365372\n",
      "267 0.9292088947918822\n",
      "268 0.5401947144489925\n",
      "269 0.31614575710232856\n",
      "270 0.23496374728441274\n",
      "271 0.7982308176292228\n",
      "272 0.03002842716584643\n",
      "273 0.11491853211566992\n",
      "274 0.3233462140449306\n",
      "275 0.9406956703563444\n",
      "276 0.5610978801451453\n",
      "277 0.2301562420791762\n",
      "278 0.922927174235747\n",
      "279 0.577702143698335\n",
      "280 0.49239632656842625\n",
      "281 0.09048692592923589\n",
      "282 0.7055916793040617\n",
      "283 0.5314598381539741\n",
      "284 0.8137034592162437\n",
      "285 0.7436997154655101\n",
      "286 0.5454366998197775\n",
      "287 0.5851676971025029\n",
      "288 0.6511673147364078\n",
      "289 0.052400908489922536\n",
      "290 0.1363960374604576\n",
      "291 0.09613146597253783\n",
      "292 0.1416647296211072\n",
      "293 0.1233275427674559\n",
      "294 0.8746000174254085\n",
      "295 0.06993765468360966\n",
      "296 0.977107373421981\n",
      "297 0.7850075320061187\n",
      "298 0.13657255044113475\n",
      "299 0.519750692061194\n",
      "300 0.5681317363049732\n",
      "301 0.6914620724323766\n",
      "302 0.5367228646755156\n",
      "303 0.4057457486463315\n",
      "304 0.14187837543083764\n",
      "305 0.17956072073970084\n",
      "306 0.77955013628078\n",
      "307 0.49010620544921135\n",
      "308 0.6240263413797746\n",
      "309 0.5539473365021832\n",
      "310 0.290553592361834\n",
      "311 0.6404058078944472\n",
      "312 0.5834539001351451\n",
      "313 0.6243491336075824\n",
      "314 0.9541968749089594\n",
      "315 0.5230797248739429\n",
      "316 0.4781033346667344\n",
      "317 0.7322078217571342\n",
      "318 0.7734723908397705\n",
      "319 0.5380632225512731\n",
      "320 0.3699598630919272\n",
      "321 0.738583397572047\n",
      "322 0.2836723492608368\n",
      "323 0.2422562838072501\n",
      "324 0.462594280964582\n",
      "325 0.5973720872381334\n",
      "326 0.17823564983434637\n",
      "327 0.7332445325911832\n",
      "328 0.08744253854680642\n",
      "329 0.7722168366231699\n",
      "330 0.809818920663352\n",
      "331 0.14575567187647226\n",
      "332 0.07394758346983683\n",
      "333 0.013873697205482588\n",
      "334 0.653762247745632\n",
      "335 0.6695218133787757\n",
      "336 0.07339223207236262\n",
      "337 0.0005321473923849302\n",
      "338 0.7529440938934702\n",
      "339 0.2403425081548051\n",
      "340 0.37780566029200635\n",
      "341 0.06794145868508779\n",
      "342 0.05442427505408738\n",
      "343 0.831196920749675\n",
      "344 0.6275234862149268\n",
      "345 0.01080745048701237\n",
      "346 0.8504443336201783\n",
      "347 0.6438379854281524\n",
      "348 0.45240923495558283\n",
      "349 0.532659643698\n",
      "350 0.8506460976993426\n",
      "351 0.2517932302540928\n",
      "352 0.8975661476149608\n",
      "353 0.6770739831799824\n",
      "354 0.7430095865549011\n",
      "355 0.05189221976540866\n",
      "356 0.7675151563547093\n",
      "357 0.8112725131764333\n",
      "358 0.761306968853901\n",
      "359 0.03834558192684563\n",
      "360 0.0327521923133942\n",
      "361 0.08260346415583998\n",
      "362 0.45956166034680734\n",
      "363 0.42370471910737295\n",
      "364 0.9806526765465987\n",
      "365 0.5816498141939113\n",
      "366 0.13978979950783918\n",
      "367 0.6028380014514845\n",
      "368 0.47529906518805\n",
      "369 0.26917120357581664\n",
      "370 0.7151816864836122\n",
      "371 0.6415147614374038\n",
      "372 0.01769684096894106\n",
      "373 0.6755654554714345\n",
      "374 0.6985310255963709\n",
      "375 0.10786792246687193\n",
      "376 0.9563182044097095\n",
      "377 0.6571072355573564\n",
      "378 0.8312324671649725\n",
      "379 0.25614088083442\n",
      "380 0.678514236126734\n",
      "381 0.13462566752492958\n",
      "382 0.7639537219391208\n",
      "383 0.0921997152522775\n",
      "384 0.9749111248685514\n",
      "385 0.03362629870161388\n",
      "386 0.4433542517771809\n",
      "387 0.13989557536968056\n",
      "388 0.9523908109456917\n",
      "389 0.7423687005905664\n",
      "390 0.07190637301828602\n",
      "391 0.1491112188646116\n",
      "392 0.9600897706520781\n",
      "393 0.7843794683463674\n",
      "394 0.9955798156916669\n",
      "395 0.9626581622546394\n",
      "396 0.5681306636819325\n",
      "397 0.33485343132258927\n",
      "398 0.17066068687553868\n",
      "399 0.1731405425076783\n",
      "400 0.20639737114966367\n",
      "401 0.30727646987252893\n",
      "402 0.7305193610813976\n",
      "403 0.606462901003954\n",
      "404 0.13956625526726632\n",
      "405 0.8713325625029845\n",
      "406 0.9348113980528444\n",
      "407 0.812882819227103\n",
      "408 0.8756104190323646\n",
      "409 0.23474087120545895\n",
      "410 0.6472197934780985\n",
      "411 0.5307375437473141\n",
      "412 0.4943070978981834\n",
      "413 0.01891264711203511\n",
      "414 0.49729916276620745\n",
      "415 0.06491636354158045\n",
      "416 0.42140494554198615\n",
      "417 0.23035635712714195\n",
      "418 0.47548271947822784\n",
      "419 0.8267863651487269\n",
      "420 0.8258697011658551\n",
      "421 0.939779271535363\n",
      "422 0.9358636085631619\n",
      "423 0.7313434705522859\n",
      "424 0.6639206536640041\n",
      "425 0.10107365106256792\n",
      "426 0.1887274139961982\n",
      "427 0.905885703413161\n",
      "428 0.8242309425686721\n",
      "429 0.1930852457699523\n",
      "430 0.7045813980861465\n",
      "431 0.07574432648327953\n",
      "432 0.5029314137541676\n",
      "433 0.24046393401155383\n",
      "434 0.7292342003413791\n",
      "435 0.8757356090516819\n",
      "436 0.491957915973642\n",
      "437 0.10677907834200578\n",
      "438 0.23596791120110322\n",
      "439 0.8252245486158222\n",
      "440 0.6882772803680135\n",
      "441 0.02903823427471597\n",
      "442 0.8080660282104781\n",
      "443 0.851200740754541\n",
      "444 0.057663827220157386\n",
      "445 0.6678641062982829\n",
      "446 0.38953132044802474\n",
      "447 0.5806581479358718\n",
      "448 0.07638986482572915\n",
      "449 0.7314331906789118\n",
      "450 0.11974602728367195\n",
      "451 0.05711815434861896\n",
      "452 0.8103087896903403\n",
      "453 0.42109823400474156\n",
      "454 0.3052454417428671\n",
      "455 0.06396909305723121\n",
      "456 0.3647775561343526\n",
      "457 0.9871896104069653\n",
      "458 0.8159261522258238\n",
      "459 0.4366201035567332\n",
      "460 0.480789319877873\n",
      "461 0.41388825078441693\n",
      "462 0.010784562184903462\n",
      "463 0.07220449689670302\n",
      "464 0.8735054864271354\n",
      "465 0.6034863558631067\n",
      "466 0.8369993144305765\n",
      "467 0.041203110377235876\n",
      "468 0.5170536949535294\n",
      "469 0.27013744349234087\n",
      "470 0.06233985809351094\n",
      "471 0.3735954204398484\n",
      "472 0.009633300655783805\n",
      "473 0.019234967525813686\n",
      "474 0.25988159374427655\n",
      "475 0.6529010258828449\n",
      "476 0.7385806471639693\n",
      "477 0.3954952456301414\n",
      "478 0.4997896895095876\n",
      "479 0.7731234105636009\n",
      "480 0.8661860616298118\n",
      "481 0.7278481877450815\n",
      "482 0.2912309460090961\n",
      "483 0.13072506623564636\n",
      "484 0.26661240430745525\n",
      "485 0.44807156973252127\n",
      "486 0.6100211855436383\n",
      "487 0.5177532387634618\n",
      "488 0.7392536647464822\n",
      "489 0.9008062359899571\n",
      "490 0.3773751126855268\n",
      "491 0.2716047784732325\n",
      "492 0.2541150434570373\n",
      "493 0.12624490905562816\n",
      "494 0.7600801246255801\n",
      "495 0.5410697024248674\n",
      "496 0.01197668621345794\n",
      "497 0.3150651846427412\n",
      "498 0.9842688674791649\n",
      "499 0.3251064292412662\n",
      "500 0.8150495032589892\n",
      "501 0.6772786478533619\n",
      "502 0.8978230667451994\n",
      "503 0.051104948131465246\n",
      "504 0.3598461578264237\n",
      "505 0.6252936628224804\n",
      "506 0.8899591234752864\n",
      "507 0.579391919209006\n",
      "508 0.12493815630946033\n",
      "509 0.7812214337691992\n",
      "510 0.10592364908781102\n",
      "511 0.16985876924866755\n",
      "512 0.8737573001641357\n",
      "513 0.7024958980215563\n",
      "514 0.6839334019473156\n",
      "515 0.3127091438969757\n",
      "516 0.0797225186551527\n",
      "517 0.18791450644033433\n",
      "518 0.8676241491265806\n",
      "519 0.4004727573173943\n",
      "520 0.28274592556587275\n",
      "521 0.6686291245183937\n",
      "522 0.05409287225609986\n",
      "523 0.9110287623435676\n",
      "524 0.5700967234778327\n",
      "525 0.8259253605661103\n",
      "526 0.6980008757104756\n",
      "527 0.15143144049327467\n",
      "528 0.39501819398546034\n",
      "529 0.4647575721225393\n",
      "530 0.7671555789923408\n",
      "531 0.7710720312804736\n",
      "532 0.9044809454869367\n",
      "533 0.3021192623193575\n",
      "534 0.18588907296908636\n",
      "535 0.6690480434743356\n",
      "536 0.2312680974065557\n",
      "537 0.3966901960362058\n",
      "538 0.6402154146962586\n",
      "539 0.4732984111207055\n",
      "540 0.6237247710205017\n",
      "541 0.8816326381268422\n",
      "542 0.8700437783846966\n",
      "543 0.055851436067015904\n",
      "544 0.37045107892240137\n",
      "545 0.5816998775898001\n",
      "546 0.18305480832121274\n",
      "547 0.26203297371328266\n",
      "548 0.13600886989560698\n",
      "549 0.8954625920764749\n",
      "550 0.9435056482448632\n",
      "551 0.7936664649049797\n",
      "552 0.9845193383850066\n",
      "553 0.26404507330439475\n",
      "554 0.8075913089250202\n",
      "555 0.3642265783216071\n",
      "556 0.8495166094079276\n",
      "557 0.6149309097665558\n",
      "558 0.22428291146251123\n",
      "559 0.3838243469060195\n",
      "560 0.9039836196909821\n",
      "561 0.46647184385193374\n",
      "562 0.37782032397734955\n",
      "563 0.32839889633294606\n",
      "564 0.7606901495824108\n",
      "565 0.8610196327903412\n",
      "566 0.04762038408111886\n",
      "567 0.6887319516136616\n",
      "568 0.6853026044236901\n",
      "569 0.9668168142871174\n",
      "570 0.7962558904699556\n",
      "571 0.06874841342758331\n",
      "572 0.6030373859478144\n",
      "573 0.23751705988610944\n",
      "574 0.9777788223593727\n",
      "575 0.41692294897323656\n",
      "576 0.5203452428628451\n",
      "577 0.2072730615802621\n",
      "578 0.5238189485219593\n",
      "579 0.631875818371057\n",
      "580 0.5977558005846005\n",
      "581 0.7542371987523105\n",
      "582 0.6741899593787333\n",
      "583 0.25573950187083855\n",
      "584 0.3403508584271787\n",
      "585 0.28855630395769005\n",
      "586 0.3293867980018922\n",
      "587 0.7890006197517183\n",
      "588 0.5035981038407104\n",
      "589 0.7828584849201596\n",
      "590 0.49219527955459197\n",
      "591 0.6179859036295965\n",
      "592 0.6699812270477841\n",
      "593 0.6278391415809438\n",
      "594 0.5208524267830693\n",
      "595 0.5345174980502838\n",
      "596 0.8171932121658271\n",
      "597 0.7280039063471652\n",
      "598 0.16306369432511683\n",
      "599 0.8559337061468557\n",
      "600 0.3280845904569746\n",
      "601 0.9601626770686765\n",
      "602 0.7238147576392788\n",
      "603 0.8668811440291115\n",
      "604 0.241997302660067\n",
      "605 0.10925330890780857\n",
      "606 0.6666893302047272\n",
      "607 0.4065987233317335\n",
      "608 0.5019110860968301\n",
      "609 0.18106876983573864\n",
      "610 0.9456843093809593\n",
      "611 0.911204511666977\n",
      "612 0.9347294535878574\n",
      "613 0.7208462303219816\n",
      "614 0.9589046691128854\n",
      "615 0.5112890245764204\n",
      "616 0.645899191220681\n",
      "617 0.5451062982047216\n",
      "618 0.465394084485496\n",
      "619 0.6901009490992784\n",
      "620 0.7029664954702334\n",
      "621 0.8113471237005723\n",
      "622 0.898716950875188\n",
      "623 0.8648308427199114\n",
      "624 0.9899750345180823\n",
      "625 0.4986793004986535\n",
      "626 0.7654614586541293\n",
      "627 0.595892683952444\n",
      "628 0.18612127630469477\n",
      "629 0.4337942861422571\n",
      "630 0.5339326455560276\n",
      "631 0.9780839565378455\n",
      "632 0.3064564276109663\n",
      "633 0.026238482020731483\n",
      "634 0.8608532577287193\n",
      "635 0.11114403864448026\n",
      "636 0.23643822999892963\n",
      "637 0.40509110025545403\n",
      "638 0.14139610318765397\n",
      "639 0.6617693341314161\n",
      "640 0.803414739557699\n",
      "641 0.30748994025871434\n",
      "642 0.5159422956873895\n",
      "643 0.09959636060014916\n",
      "644 0.9419384251714685\n",
      "645 0.931589573954764\n",
      "646 0.7226649377405013\n",
      "647 0.17802525951880907\n",
      "648 0.3049857105571958\n",
      "649 0.3659208192655363\n",
      "650 0.05534038371166969\n",
      "651 0.2458696151939065\n",
      "652 0.0728888379919408\n",
      "653 0.8649822327516858\n",
      "654 0.7669662115904924\n",
      "655 0.4317148727995541\n",
      "656 0.053265534851619126\n",
      "657 0.8775135208125917\n",
      "658 0.28721937874534637\n",
      "659 0.6994140469725459\n",
      "660 0.8970133014113474\n",
      "661 0.5435267750231517\n",
      "662 0.059858383639866196\n",
      "663 0.4844024050490201\n",
      "664 0.25804685158936674\n",
      "665 0.9857809170637063\n",
      "666 0.581149518031821\n",
      "667 0.27605039861796554\n",
      "668 0.25023169077065455\n",
      "669 0.7174400586385705\n",
      "670 0.1741977662248156\n",
      "671 0.480346476974005\n",
      "672 0.5713053195889151\n",
      "673 0.9276716697576155\n",
      "674 0.7788326715151842\n",
      "675 0.5587895672134999\n",
      "676 0.15953847516793326\n",
      "677 0.26092369062540033\n",
      "678 0.3602015841617835\n",
      "679 0.9284444963212091\n",
      "680 0.707121522176159\n",
      "681 0.019895773753005438\n",
      "682 0.5988868626733513\n",
      "683 0.01121495067370481\n",
      "684 0.891800988308563\n",
      "685 0.1347881817882623\n",
      "686 0.7325799386857316\n",
      "687 0.0003839083457451461\n",
      "688 0.5172619618097569\n",
      "689 0.0030612800619558276\n",
      "690 0.07382172486067688\n",
      "691 0.7359155305221576\n",
      "692 0.49712350077478473\n",
      "693 0.4190008496359813\n",
      "694 0.4338058519516361\n",
      "695 0.2838488348573191\n",
      "696 0.5494541891797938\n",
      "697 0.9257593191798218\n",
      "698 0.9378894045487405\n",
      "699 0.7328981796146739\n",
      "700 0.5802749022839437\n",
      "701 0.3903251365463992\n",
      "702 0.21931215545128513\n",
      "703 0.33149203335158484\n",
      "704 0.37573241193554585\n",
      "705 0.7816409818115713\n",
      "706 0.12736216708137807\n",
      "707 0.3423952126549874\n",
      "708 0.150784509940136\n",
      "709 0.2866577797462175\n",
      "710 0.6640107480095515\n",
      "711 0.6628647092751923\n",
      "712 0.5430596763237867\n",
      "713 0.5800324402608159\n",
      "714 0.600079896575302\n",
      "715 0.514439749118019\n",
      "716 0.39039920538522965\n",
      "717 0.8565514693150148\n",
      "718 0.5527495747650557\n",
      "719 0.7551174713560834\n",
      "720 0.8932246817109261\n",
      "721 0.4868782668424684\n",
      "722 0.020494953266733503\n",
      "723 0.4637369720740896\n",
      "724 0.23746030855093034\n",
      "725 0.2235442952791779\n",
      "726 0.5236432563444755\n",
      "727 0.3610497809269301\n",
      "728 0.475865275656445\n",
      "729 0.7618763513097891\n",
      "730 0.7520735525095656\n",
      "731 0.6635566329065206\n",
      "732 0.35368197819169034\n",
      "733 0.8819954979964676\n",
      "734 0.8504944564947701\n",
      "735 0.2943229231120433\n",
      "736 0.2720235561705593\n",
      "737 0.9676011323059848\n",
      "738 0.6578299090448162\n",
      "739 0.8548949877740102\n",
      "740 0.47761654508852425\n",
      "741 0.23555723380140958\n",
      "742 0.07182604901852827\n",
      "743 0.07896275314418211\n",
      "744 0.012881926326493374\n",
      "745 0.34256345010732825\n",
      "746 0.3393458670140651\n",
      "747 0.9376040735964495\n",
      "748 0.44905167749458297\n",
      "749 0.9333357003766487\n",
      "750 0.7326617114896641\n",
      "751 0.7740385932575351\n",
      "752 0.87955291134582\n",
      "753 0.8967423908568793\n",
      "754 0.2286256859572659\n",
      "755 0.04620305852018227\n",
      "756 0.6634439087290547\n",
      "757 0.360574275799993\n",
      "758 0.9243538019055175\n",
      "759 0.21883117002126307\n",
      "760 0.047948241540400116\n",
      "761 0.29982771377558\n",
      "762 0.5744229076647978\n",
      "763 0.24495822354245708\n",
      "764 0.6213911439750941\n",
      "765 0.5981649597010856\n",
      "766 0.7526233848171682\n",
      "767 0.5884452204918038\n",
      "768 0.0744239943480462\n",
      "769 0.28425322438996226\n",
      "770 0.07566584662313856\n",
      "771 0.14206100510930042\n",
      "772 0.13081172622753093\n",
      "773 0.2768228140239241\n",
      "774 0.020332516024578036\n",
      "775 0.9800967863839597\n",
      "776 0.8634870394850367\n",
      "777 0.9238020454977521\n",
      "778 0.7086651794864939\n",
      "779 0.23680815836226726\n",
      "780 0.17012034741928173\n",
      "781 0.9610002090443667\n",
      "782 0.8803661571700105\n",
      "783 0.23430268741975768\n",
      "784 0.30562555097413646\n",
      "785 0.4362872325829472\n",
      "786 0.466389464045752\n",
      "787 0.6343958745359705\n",
      "788 0.015484960726921626\n",
      "789 0.8190591960004753\n",
      "790 0.6820770596617933\n",
      "791 0.8944845070940072\n",
      "792 0.3706221841441919\n",
      "793 0.2594100296598639\n",
      "794 0.8897919097012721\n",
      "795 0.06315229568649873\n",
      "796 0.43946570695899556\n",
      "797 0.9802603239926726\n",
      "798 0.5386216424921255\n",
      "799 0.7659226302414405\n",
      "800 0.23226312952767092\n",
      "801 0.876318424440831\n",
      "802 0.6733087756056175\n",
      "803 0.5324267027243557\n",
      "804 0.9173423023405173\n",
      "805 0.8498714862853886\n",
      "806 0.00022303357775030997\n",
      "807 0.8063263320453369\n",
      "808 0.502723372520625\n",
      "809 0.8525427968052817\n",
      "810 0.8062764870977001\n",
      "811 0.28249294199755953\n",
      "812 0.4067579364489764\n",
      "813 0.5151218459619857\n",
      "814 0.17918634036236233\n",
      "815 0.11502172083285392\n",
      "816 0.43929572951373375\n",
      "817 0.07976518603417096\n",
      "818 0.5842310417587879\n",
      "819 0.5718573943924139\n",
      "820 0.3247941936346699\n",
      "821 0.3172658580479297\n",
      "822 0.25889922264326465\n",
      "823 0.7097182265895254\n",
      "824 0.68447626053434\n",
      "825 0.7634047937420716\n",
      "826 0.09222729365059879\n",
      "827 0.32334667481049806\n",
      "828 0.6436679642907901\n",
      "829 0.8084154335561504\n",
      "830 0.011951126003906026\n",
      "831 0.7896552457852912\n",
      "832 0.012311270014699999\n",
      "833 0.23383913728692088\n",
      "834 0.9339794156352793\n",
      "835 0.6513816252436568\n",
      "836 0.13286073654794744\n",
      "837 0.8694487467754919\n",
      "838 0.6064976913474932\n",
      "839 0.9330247603286844\n",
      "840 0.35438283521174263\n",
      "841 0.9722277775050407\n",
      "842 0.12196485701340064\n",
      "843 0.010291922773680441\n",
      "844 0.5462336419830186\n",
      "845 0.9906636210534898\n",
      "846 0.008036400676365504\n",
      "847 0.7339568339056838\n",
      "848 0.9450487825523047\n",
      "849 0.1276239699834091\n",
      "850 0.6355426949398082\n",
      "851 0.913143621501937\n",
      "852 0.9939474337555353\n",
      "853 0.21893919055462338\n",
      "854 0.055671264181100785\n",
      "855 0.9209636648741376\n",
      "856 0.6366658362815587\n",
      "857 0.4342933562515894\n",
      "858 0.240182687711871\n",
      "859 0.00373415729020018\n",
      "860 0.4026275411987922\n",
      "861 0.824666816520427\n",
      "862 0.39552974537996366\n",
      "863 0.13213317149249895\n",
      "864 0.02972607774597135\n",
      "865 0.781875287385657\n",
      "866 0.14019271115083076\n",
      "867 0.6939123873808939\n",
      "868 0.9188833447329983\n",
      "869 0.8754922105794093\n",
      "870 0.63358134715978\n",
      "871 0.11924408941780755\n",
      "872 0.34205662669450754\n",
      "873 0.7220449817792811\n",
      "874 0.09518783212857146\n",
      "875 0.8083538540351134\n",
      "876 0.8464278235970939\n",
      "877 0.06443869749047418\n",
      "878 0.4702925076335257\n",
      "879 0.7045828359030264\n",
      "880 0.269168749054845\n",
      "881 0.9528615545184111\n",
      "882 0.7348316017037715\n",
      "883 0.19981632634249297\n",
      "884 0.3007337917163272\n",
      "885 0.2696210020246488\n",
      "886 0.24305313823326277\n",
      "887 0.06902159597913567\n",
      "888 0.1015649370919482\n",
      "889 0.6497683954615661\n",
      "890 0.3397985226210115\n",
      "891 0.7764414158317116\n",
      "892 0.07287725583595465\n",
      "893 0.5567388794375772\n",
      "894 0.25944222626807195\n",
      "895 0.12707638338867477\n",
      "896 0.22780846160926993\n",
      "897 0.5959968569714101\n",
      "898 0.14057822984840565\n",
      "899 0.6652058519223529\n",
      "900 0.6855413808819999\n",
      "901 0.26450752794359195\n",
      "902 0.26867003740918594\n",
      "903 0.14577462847002165\n",
      "904 0.5415793353211014\n",
      "905 0.525475493258766\n",
      "906 0.05941133356082419\n",
      "907 0.760140731128677\n",
      "908 0.09554471402485172\n",
      "909 0.7239535019309363\n",
      "910 0.8383153280814514\n",
      "911 0.014721618433949746\n",
      "912 0.7155853377751227\n",
      "913 0.8146370113670441\n",
      "914 0.0013631539276441455\n",
      "915 0.45867227338710925\n",
      "916 0.9736847309301951\n",
      "917 0.547722441854551\n",
      "918 0.0454909924667075\n",
      "919 0.7608648205685706\n",
      "920 0.4335997639907576\n",
      "921 0.4796678025998068\n",
      "922 0.010478670061544949\n",
      "923 0.2768504545456004\n",
      "924 0.8238343958827201\n",
      "925 0.3593589836831056\n",
      "926 0.0039329537375858495\n",
      "927 0.3882586838639436\n",
      "928 0.8631100093403898\n",
      "929 0.2600810276113301\n",
      "930 0.1642281925968746\n",
      "931 0.3681405428872422\n",
      "932 0.6531383738072727\n",
      "933 0.5220620489300715\n",
      "934 0.03737190304124743\n",
      "935 0.6216052480287813\n",
      "936 0.11946480987795076\n",
      "937 0.2290128917484678\n",
      "938 0.7692853004269418\n",
      "939 0.27118818005358664\n",
      "940 0.8093217639783108\n",
      "941 0.6625837601218696\n",
      "942 0.3521403014179567\n",
      "943 0.44763832117262037\n",
      "944 0.7813991246545\n",
      "945 0.5497318903551947\n",
      "946 0.5347580647190353\n",
      "947 0.8794783237657102\n",
      "948 0.9571776343287121\n",
      "949 0.2048193435510422\n",
      "950 0.27365755736792613\n",
      "951 0.03759880546025141\n",
      "952 0.4887827364963383\n",
      "953 0.2521593540395933\n",
      "954 0.07077343784581108\n",
      "955 0.2946062283771232\n",
      "956 0.9903802243483896\n",
      "957 0.8634610610914314\n",
      "958 0.13860454356849516\n",
      "959 0.8592767422953441\n",
      "960 0.13589974855836515\n",
      "961 0.3074663232432223\n",
      "962 0.9741074837668061\n",
      "963 0.41789017118134697\n",
      "964 0.8808373094205999\n",
      "965 0.42367394914986767\n",
      "966 0.8401219771519461\n",
      "967 0.987785485857127\n",
      "968 0.15630405866141006\n",
      "969 0.8211390847706126\n",
      "970 0.6507267984880855\n",
      "971 0.3121194930776971\n",
      "972 0.07932568852463498\n",
      "973 0.5789216313939793\n",
      "974 0.3194545719396961\n",
      "975 0.41512823802398613\n",
      "976 0.3164804844245003\n",
      "977 0.14281406611419814\n",
      "978 0.012149210279052055\n",
      "979 0.756476296830478\n",
      "980 0.42024377650392464\n",
      "981 0.4040815303679607\n",
      "982 0.0872998481045259\n",
      "983 0.21266905723314075\n",
      "984 0.9140981186976852\n",
      "985 0.2252073373762582\n",
      "986 0.2829020880413078\n",
      "987 0.18773815116229717\n",
      "988 0.8843407160900313\n",
      "989 0.15715518967364148\n",
      "990 0.9732927843164478\n",
      "991 0.5151327271579034\n",
      "992 0.20266273283780759\n",
      "993 0.41020135662658463\n",
      "994 0.31824910836841175\n",
      "995 0.48750382944573845\n",
      "996 0.70155674703918\n",
      "997 0.6280210685482465\n",
      "998 0.7048275615841451\n",
      "999 0.9113585106678874\n"
     ]
    }
   ],
   "source": [
    "expected_mean = 1000\n",
    "\n",
    "for i in range(1000): # 1000 experiments\n",
    "   #your ttest here:\n",
    "   tstat, pval = ttest_1samp(daily_prices[i], expected_mean)\n",
    "   #print the pvalue here:\n",
    "   print(i, pval)"
   ]
  },
  {
   "source": [
    "2. If we get a `pval` < $0.05$, we can conclude that it is unlikely that our sample has a true mean of $1000$. Suppose that the true mean purchase price really is $1000$ Rupees. Thus, if we get a p-value less than $0.05$, we will incorrectly reject the null hypothesis test and say that the experiment indicates the mean purchase price is **not** 1000 Rupees.\n",
    "\n",
    "    Below the t-test, add some code to check whether the outcome of the hypothesis test is incorrect (i.e., the p-value is less than $.05$). If so, add `1` to `incorrect_results`.\n",
    "\n",
    "    Now, `incorrect_results` is a count of the number of times the outcome of the test was incorrect. Code has been provided for you to print this number to the console. Since our significance threshold was $0.05$, we expect about $5\\%$ or $50$ of the $1000$ experiments to return an incorrect result. Is the number you observe close to $50$?"
   ],
   "cell_type": "markdown",
   "metadata": {}
  },
  {
   "cell_type": "code",
   "execution_count": 7,
   "metadata": {},
   "outputs": [
    {
     "output_type": "execute_result",
     "data": {
      "text/plain": [
       "55"
      ]
     },
     "metadata": {},
     "execution_count": 7
    }
   ],
   "source": [
    "incorrect_results = 0\n",
    "\n",
    "for i in range(1000):\n",
    "   tstat, pval = ttest_1samp(daily_prices[i], 1000)\n",
    "   if pval < 0.05:\n",
    "       incorrect_results += 1\n",
    "\n",
    "incorrect_results"
   ]
  },
  {
   "source": [
    "***"
   ],
   "cell_type": "markdown",
   "metadata": {}
  },
  {
   "source": [
    "## 2 Sample T-Test\n",
    "\n",
    "Suppose that a company has recently updated their website to make it more colorful and inviting. The company wants to know whether the new design is resulting in visitors staying on the site for a longer period of time. A sample of $100$ visitors who saw the old design spent an average of 25 minutes on the site. A second sample of $100$ visitors who saw the new version spent an average of $28$ minutes on the site. Did the average time spent per visitor vary across groups? Or is this difference attributable to random chance?\n",
    "\n",
    "One way of testing whether this difference is significant is by using a _2 Sample T-Test_. A 2 Sample T-Test compares two sets of numerical data.\n",
    "\n",
    "The null hypothesis of a 2 Sample T-Test is that the two observed samples come from populations with the same mean. In the example above, this means: if we could observe all site visitors in two alternate universes (one where they see each version of the site), the average visiting times in these universes would be equal.\n",
    "\n",
    "The alternative hypothesis could be: The two observed samples come from populations with **different** means. In the example above, this would mean that the average visiting times in our two alternate universes are actually different, hence why we observed a difference in our samples.\n",
    "\n",
    "We can use SciPy's `ttest_ind` function to perform a 2 Sample T-Test. It takes the two samples as inputs and returns the t-statistic and a p-value, which we can use to assess the probability of an observed difference happening by chance if the null hypothesis were true. For more information about p-values, refer to the earlier exercise on univariate t-tests."
   ],
   "cell_type": "markdown",
   "metadata": {}
  },
  {
   "source": [
    "***\n",
    "### Exercise"
   ],
   "cell_type": "markdown",
   "metadata": {}
  },
  {
   "cell_type": "code",
   "execution_count": 8,
   "metadata": {},
   "outputs": [],
   "source": [
    "week1 = np.genfromtxt(\"week1.csv\",  delimiter=\",\")\n",
    "week2 = np.genfromtxt(\"week2.csv\",  delimiter=\",\")"
   ]
  },
  {
   "source": [
    "1. We have created two distributions representing the time spent per visitor to BuyPie.com last week, `week1`, and the time spent per visitor to BuyPie.com this week, `week2`.\n",
    "\n",
    "    Find the means of these two distributions. Store them in `week1_mean` and `week2_mean.` Print the values."
   ],
   "cell_type": "markdown",
   "metadata": {}
  },
  {
   "cell_type": "code",
   "execution_count": 9,
   "metadata": {},
   "outputs": [
    {
     "output_type": "stream",
     "name": "stdout",
     "text": [
      "25.448059395144654\n29.021568107746155\n"
     ]
    }
   ],
   "source": [
    "week1_mean = np.mean(week1)\n",
    "week2_mean = np.mean(week2)\n",
    "\n",
    "print(week1_mean)\n",
    "print(week2_mean)"
   ]
  },
  {
   "source": [
    "2. Find the standard deviations of these two distributions. Store them in `week1_std` and `week2_std`. Print the values."
   ],
   "cell_type": "markdown",
   "metadata": {}
  },
  {
   "cell_type": "code",
   "execution_count": 10,
   "metadata": {},
   "outputs": [
    {
     "output_type": "stream",
     "name": "stdout",
     "text": [
      "4.531693387084315\n5.497966708653651\n"
     ]
    }
   ],
   "source": [
    "week1_std = np.std(week1)\n",
    "week2_std = np.std(week2)\n",
    "\n",
    "print(week1_std)\n",
    "print(week2_std)"
   ]
  },
  {
   "source": [
    "3. Run a 2 Sample T-Test using the SciPy function `ttest_ind`.\n",
    "\n",
    "    Save the p-value in a variable called `pval` and print it out. Does this value make sense, knowing what you know about these datasets?"
   ],
   "cell_type": "markdown",
   "metadata": {}
  },
  {
   "cell_type": "code",
   "execution_count": 11,
   "metadata": {},
   "outputs": [
    {
     "output_type": "execute_result",
     "data": {
      "text/plain": [
       "0.0006767676900067757"
      ]
     },
     "metadata": {},
     "execution_count": 11
    }
   ],
   "source": [
    "from scipy.stats import ttest_ind\n",
    "\n",
    "tstat, pval = ttest_ind(week1, week2)\n",
    "\n",
    "pval"
   ]
  },
  {
   "source": [
    "**A:** Even though the mean of week2 is higher it also has a higher standard deviation. With a very low p-value (much lower than $0.05$) returned from `ttest_ind` we cannot be sure the population mean is actually different between these two samples."
   ],
   "cell_type": "markdown",
   "metadata": {}
  },
  {
   "source": [
    "***"
   ],
   "cell_type": "markdown",
   "metadata": {}
  },
  {
   "source": [
    "## Dangers of Multiple T-Tests\n",
    "\n",
    "Suppose that we own a chain of stores that sell ants, called VeryAnts. There are three different locations: $A$, $B$, and $C$. We want to know if the average ant sales over the past year are significantly different between the three locations.\n",
    "\n",
    "At first, it seems that we could perform t-tests between each pair of stores.\n",
    "\n",
    "We know that the p-value is the probability that we incorrectly reject the null hypothesis on each t-test. The more t-tests we perform, the more likely that we are to get a false positive, a Type I error.\n",
    "\n",
    "For a significance threshold of $0.05$, if the null hypothesis is true, then the probability of correctly failing to reject the null is $1 – 0.05 = 0.95$. When we run another t-test where the null is true, the probability of correctly failing to reject the null on both of those tests is $0.95 * 0.95$, or $0.9025$. That means our probability of making an error is now $1 - 0.9025$, or close to 10%! This error probability only gets bigger with the more t-tests we do."
   ],
   "cell_type": "markdown",
   "metadata": {}
  },
  {
   "source": [
    "***\n",
    "### Exercise"
   ],
   "cell_type": "markdown",
   "metadata": {}
  },
  {
   "cell_type": "code",
   "execution_count": 12,
   "metadata": {},
   "outputs": [],
   "source": [
    "a_sample = np.genfromtxt(\"store_a.csv\",  delimiter=\",\")\n",
    "b_sample = np.genfromtxt(\"store_b.csv\",  delimiter=\",\")\n",
    "c_sample = np.genfromtxt(\"store_c.csv\",  delimiter=\",\")"
   ]
  },
  {
   "source": [
    "1. We have created samples `a_sample`, `b_sample`, and `c_sample`, representing the sales at VeryAnts at locations $A$, $B$, and $C$, respectively. We want to see if there is a significant difference in sales between the three locations.\n",
    "\n",
    "    Explore datasets `a_sample`, `b_sample`, and `c_sample` by finding and printing the means and standard deviations of each one. Store the means in variables called `a_mean`, `b_mean`, and `c_mean`. Store the standard deviations in variables called `a_std`, `b_std`, and `c_std`."
   ],
   "cell_type": "markdown",
   "metadata": {}
  },
  {
   "cell_type": "code",
   "execution_count": 13,
   "metadata": {},
   "outputs": [
    {
     "output_type": "stream",
     "name": "stdout",
     "text": [
      "Dataset 'a' - Mean: 58.35, Standard Deviation: 14.75\nDataset 'b' - Mean: 65.63, Standard Deviation: 14.75\nDataset 'c' - Mean: 62.36, Standard Deviation: 15.09\n"
     ]
    }
   ],
   "source": [
    "a_mean, a_std = np.mean(a_sample), np.std(a_sample)\n",
    "b_mean, b_std = np.mean(b_sample), np.std(b_sample)\n",
    "c_mean, c_std = np.mean(c_sample), np.std(c_sample)\n",
    "\n",
    "print(f\"Dataset 'a' - Mean: {a_mean:.2f}, Standard Deviation: {a_std:.2f}\")\n",
    "print(f\"Dataset 'b' - Mean: {b_mean:.2f}, Standard Deviation: {b_std:.2f}\")\n",
    "print(f\"Dataset 'c' - Mean: {c_mean:.2f}, Standard Deviation: {c_std:.2f}\")"
   ]
  },
  {
   "source": [
    "2. Perform a 2-Sample T-test between each pair of location data.\n",
    "\n",
    "    Store the p-values in variables called `a_b_pval`, `a_c_pval`, and `b_c_pval`. Print the values."
   ],
   "cell_type": "markdown",
   "metadata": {}
  },
  {
   "cell_type": "code",
   "execution_count": 14,
   "metadata": {},
   "outputs": [
    {
     "output_type": "stream",
     "name": "stdout",
     "text": [
      "Comparison 'a-b' - p-Value: -4.26\nComparison 'a-c' - p-Value: -2.32\nComparison 'b-c' - p-Value: 1.89\n"
     ]
    }
   ],
   "source": [
    "a_b_tstat, a_b_pval = ttest_ind(a_sample, b_sample)\n",
    "a_c_tstat, a_c_pval = ttest_ind(a_sample, c_sample)\n",
    "b_c_tstat, b_c_pval = ttest_ind(b_sample, c_sample)\n",
    "\n",
    "print(f\"Comparison 'a-b' - p-Value: {a_b_tstat:.2f}\")\n",
    "print(f\"Comparison 'a-c' - p-Value: {a_c_tstat:.2f}\")\n",
    "print(f\"Comparison 'b-c' - p-Value: {b_c_tstat:.2f}\")"
   ]
  },
  {
   "source": [
    "3. Store the probability of error in a variable called `error_prob`. Print it out to the console."
   ],
   "cell_type": "markdown",
   "metadata": {}
  },
  {
   "cell_type": "code",
   "execution_count": 15,
   "metadata": {},
   "outputs": [
    {
     "output_type": "stream",
     "name": "stdout",
     "text": [
      "14.26%\n"
     ]
    }
   ],
   "source": [
    "error_prob = 1 - 0.95 ** 3\n",
    "print(f\"{error_prob:.2%}\")"
   ]
  },
  {
   "source": [
    "## ANOVA\n",
    "\n",
    "In the last exercise, we saw that the probability of making a Type I error got dangerously high as we performed more t-tests.\n",
    "\n",
    "When comparing more than two numerical datasets, one way to preserve a Type I error probability of $0.05$ is to use _ANOVA_. ANOVA (Analysis of Variance) tests the null hypothesis that all of the samples come from populations with the same mean. If we reject the null hypothesis with ANOVA, we are saying that at least one pair of populations (from which the samples were drawn) have different means; however, we cannot determine exactly which pair(s).\n",
    "\n",
    "We can use the SciPy function `f_oneway` to perform ANOVA on multiple datasets. `f_oneway` takes in each dataset as a different input and returns the F-statistic and the p-value. For example, if we were comparing scores on a videogame between math majors, writing majors, and psychology majors, we could run an ANOVA test with this line:\n",
    "\n",
    "    fstat, pval = f_oneway(scores_mathematicians, scores_writers, scores_psychologists)\n",
    "\n",
    "The null hypothesis, in this case, is that all three populations have the same mean score on this videogame. If we reject this null hypothesis (if we get a p-value less than $0.05$), we can say that we are reasonably confident that at least one pair of populations is significantly different. After using only ANOVA, we cannot make any conclusions on which two populations have a significant difference.\n",
    "\n",
    "Let us look at an example of ANOVA in action."
   ],
   "cell_type": "markdown",
   "metadata": {}
  },
  {
   "source": [
    "***\n",
    "### Exercise"
   ],
   "cell_type": "markdown",
   "metadata": {}
  },
  {
   "cell_type": "code",
   "execution_count": 16,
   "metadata": {},
   "outputs": [],
   "source": [
    "from scipy.stats import ttest_ind\n",
    "from scipy.stats import f_oneway\n",
    "import numpy as np\n",
    "\n",
    "a_sample = np.genfromtxt(\"store_a.csv\",  delimiter=\",\")\n",
    "b_sample = np.genfromtxt(\"store_b.csv\",  delimiter=\",\")\n",
    "c_sample = np.genfromtxt(\"store_c.csv\",  delimiter=\",\")"
   ]
  },
  {
   "source": [
    "1. Perform an ANOVA test on `a_sample`, `b_sample`, and `c_sample` and store the p-value in a variable called `pval`."
   ],
   "cell_type": "markdown",
   "metadata": {}
  },
  {
   "cell_type": "code",
   "execution_count": 17,
   "metadata": {},
   "outputs": [],
   "source": [
    "fstat, pval = f_oneway(a_sample, b_sample, c_sample)"
   ]
  },
  {
   "source": [
    "2. Print out your `pval`. Does this p-value lead you to reject the null hypothesis?"
   ],
   "cell_type": "markdown",
   "metadata": {}
  },
  {
   "cell_type": "code",
   "execution_count": 18,
   "metadata": {},
   "outputs": [
    {
     "output_type": "execute_result",
     "data": {
      "text/plain": [
       "0.0001534116600777967"
      ]
     },
     "metadata": {},
     "execution_count": 18
    }
   ],
   "source": [
    "pval"
   ]
  },
  {
   "source": [
    "**A:** Since our p-Value is much smaller than $0.05$ we have to reject the null hypothesis that the sales between the three stores come from a population with the same mean."
   ],
   "cell_type": "markdown",
   "metadata": {}
  },
  {
   "source": [
    "3. Let us say the sales at location $B$ have suddenly _soared_ (maybe there is an ant convention happening nearby). Change the mean of the `b_sample` distribution to be loaded from 'store_b_new.csv', instead of 'store_b.csv'.\n",
    "\n",
    "    Re-run the ANOVA test and see what the p-value is now. Does this new value make sense?"
   ],
   "cell_type": "markdown",
   "metadata": {}
  },
  {
   "cell_type": "code",
   "execution_count": 19,
   "metadata": {},
   "outputs": [
    {
     "output_type": "execute_result",
     "data": {
      "text/plain": [
       "8.49989098083282e-215"
      ]
     },
     "metadata": {},
     "execution_count": 19
    }
   ],
   "source": [
    "a_sample = np.genfromtxt(\"store_a.csv\",  delimiter=\",\")\n",
    "b_sample = np.genfromtxt(\"store_b_new.csv\",  delimiter=\",\")\n",
    "c_sample = np.genfromtxt(\"store_c.csv\",  delimiter=\",\")\n",
    "\n",
    "fstat, pval = f_oneway(a_sample, b_sample, c_sample)\n",
    "pval"
   ]
  },
  {
   "source": [
    "**A:** Since the sales for store $B$ are much higher we expect our p-value to be even lower."
   ],
   "cell_type": "markdown",
   "metadata": {}
  },
  {
   "source": [
    "***"
   ],
   "cell_type": "markdown",
   "metadata": {}
  },
  {
   "source": [
    "## Assumptions of T-Tests and ANOVA\n",
    "\n",
    "Before we use one or two sample t-tests or ANOVA, we need to be sure that the following things are true:\n",
    "\n",
    "### 1. The sample(s) should be normally distributed…ish\n",
    "\n",
    "Data analysts in the real world often still perform t-tests or ANOVAs on data that are not normally distributed. This is usually not a problem if sample size is large, but it depends on how non-normal the data is. In general, the bigger the sample size, the safer you are!\n",
    "\n",
    "### 2. The standard deviations of the samples should be equal\n",
    "\n",
    "For ANOVA and 2-Sample T-Tests, using datasets with standard deviations that are significantly different from each other will often obscure the differences in group means. That said, there is also a way to run a 2-Sample T-Test without assuming equal standard deviations (for example, by setting the `equal_var` parameter in the `scipy.stats.ttest_ind()` function equal to `False`). Running the test in this way has some disadvantages (it essentially makes it harder to reject the null hypothesis even when there is a true difference between groups), so it’s important to check for equal standard deviations before running a test.\n",
    "\n",
    "To check this assumption, it is normally sufficient to divide the two standard deviations and see if the ratio is \"close enough\" to $1$. \"Close enough\" may differ in different contexts but generally staying within $10\\%$ should suffice. This equates to a ratio between $0.9$ and $1.1$.\n",
    "\n",
    "### 3. The samples must be independent\n",
    "\n",
    "When comparing two or more datasets, the values in one distribution should not affect the values in another distribution. In other words, knowing more about one distribution should not give you any information about any other distribution.\n",
    "\n",
    "Here are some examples where it would seem the samples are not independent:\n",
    "\n",
    "* the number of goals scored per soccer player before, during, and after undergoing a rigorous training regimen\n",
    "* a group of patients' blood pressure levels before, during, and after the administration of a drug\n",
    "\n",
    "It is important to understand your datasets before you begin conducting hypothesis tests on them so that you know you are choosing the right test."
   ],
   "cell_type": "markdown",
   "metadata": {}
  },
  {
   "source": [
    "***\n",
    "### Exercise"
   ],
   "cell_type": "markdown",
   "metadata": {}
  },
  {
   "cell_type": "code",
   "execution_count": 20,
   "metadata": {},
   "outputs": [],
   "source": [
    "import numpy as np\n",
    "import matplotlib.pyplot as plt\n",
    "\n",
    "dist_1 = np.genfromtxt(\"dist_1.csv\",  delimiter=\",\")\n",
    "dist_2 = np.genfromtxt(\"dist_2.csv\",  delimiter=\",\")"
   ]
  },
  {
   "source": [
    "1. Use Matplotlib's `plt.hist()` function to display `dist_1` before the call to `plt.show()`. Does it look like this distribution is normal? (note: a normal distribution has a single mode or hump and is symmetric)"
   ],
   "cell_type": "markdown",
   "metadata": {}
  },
  {
   "cell_type": "code",
   "execution_count": 21,
   "metadata": {},
   "outputs": [
    {
     "output_type": "display_data",
     "data": {
      "text/plain": "<Figure size 432x288 with 1 Axes>",
      "image/svg+xml": "<?xml version=\"1.0\" encoding=\"utf-8\" standalone=\"no\"?>\r\n<!DOCTYPE svg PUBLIC \"-//W3C//DTD SVG 1.1//EN\"\r\n  \"http://www.w3.org/Graphics/SVG/1.1/DTD/svg11.dtd\">\r\n<!-- Created with matplotlib (https://matplotlib.org/) -->\r\n<svg height=\"248.518125pt\" version=\"1.1\" viewBox=\"0 0 380.100993 248.518125\" width=\"380.100993pt\" xmlns=\"http://www.w3.org/2000/svg\" xmlns:xlink=\"http://www.w3.org/1999/xlink\">\r\n <defs>\r\n  <style type=\"text/css\">\r\n*{stroke-linecap:butt;stroke-linejoin:round;}\r\n  </style>\r\n </defs>\r\n <g id=\"figure_1\">\r\n  <g id=\"patch_1\">\r\n   <path d=\"M 0 248.518125 \r\nL 380.100993 248.518125 \r\nL 380.100993 0 \r\nL 0 0 \r\nz\r\n\" style=\"fill:none;\"/>\r\n  </g>\r\n  <g id=\"axes_1\">\r\n   <g id=\"patch_2\">\r\n    <path d=\"M 36.465625 224.64 \r\nL 371.265625 224.64 \r\nL 371.265625 7.2 \r\nL 36.465625 7.2 \r\nz\r\n\" style=\"fill:#ffffff;\"/>\r\n   </g>\r\n   <g id=\"patch_3\">\r\n    <path clip-path=\"url(#pa01ac5b28d)\" d=\"M 51.683807 224.64 \r\nL 82.12017 224.64 \r\nL 82.12017 191.942256 \r\nL 51.683807 191.942256 \r\nz\r\n\" style=\"fill:#1f77b4;\"/>\r\n   </g>\r\n   <g id=\"patch_4\">\r\n    <path clip-path=\"url(#pa01ac5b28d)\" d=\"M 82.12017 224.64 \r\nL 112.556534 224.64 \r\nL 112.556534 170.143759 \r\nL 82.12017 170.143759 \r\nz\r\n\" style=\"fill:#1f77b4;\"/>\r\n   </g>\r\n   <g id=\"patch_5\">\r\n    <path clip-path=\"url(#pa01ac5b28d)\" d=\"M 112.556534 224.64 \r\nL 142.992898 224.64 \r\nL 142.992898 115.647519 \r\nL 112.556534 115.647519 \r\nz\r\n\" style=\"fill:#1f77b4;\"/>\r\n   </g>\r\n   <g id=\"patch_6\">\r\n    <path clip-path=\"url(#pa01ac5b28d)\" d=\"M 142.992898 224.64 \r\nL 173.429261 224.64 \r\nL 173.429261 50.25203 \r\nL 142.992898 50.25203 \r\nz\r\n\" style=\"fill:#1f77b4;\"/>\r\n   </g>\r\n   <g id=\"patch_7\">\r\n    <path clip-path=\"url(#pa01ac5b28d)\" d=\"M 173.429261 224.64 \r\nL 203.865625 224.64 \r\nL 203.865625 17.554286 \r\nL 173.429261 17.554286 \r\nz\r\n\" style=\"fill:#1f77b4;\"/>\r\n   </g>\r\n   <g id=\"patch_8\">\r\n    <path clip-path=\"url(#pa01ac5b28d)\" d=\"M 203.865625 224.64 \r\nL 234.301989 224.64 \r\nL 234.301989 39.352782 \r\nL 203.865625 39.352782 \r\nz\r\n\" style=\"fill:#1f77b4;\"/>\r\n   </g>\r\n   <g id=\"patch_9\">\r\n    <path clip-path=\"url(#pa01ac5b28d)\" d=\"M 234.301989 224.64 \r\nL 264.738352 224.64 \r\nL 264.738352 72.050526 \r\nL 234.301989 72.050526 \r\nz\r\n\" style=\"fill:#1f77b4;\"/>\r\n   </g>\r\n   <g id=\"patch_10\">\r\n    <path clip-path=\"url(#pa01ac5b28d)\" d=\"M 264.738352 224.64 \r\nL 295.174716 224.64 \r\nL 295.174716 104.748271 \r\nL 264.738352 104.748271 \r\nz\r\n\" style=\"fill:#1f77b4;\"/>\r\n   </g>\r\n   <g id=\"patch_11\">\r\n    <path clip-path=\"url(#pa01ac5b28d)\" d=\"M 295.174716 224.64 \r\nL 325.61108 224.64 \r\nL 325.61108 191.942256 \r\nL 295.174716 191.942256 \r\nz\r\n\" style=\"fill:#1f77b4;\"/>\r\n   </g>\r\n   <g id=\"patch_12\">\r\n    <path clip-path=\"url(#pa01ac5b28d)\" d=\"M 325.61108 224.64 \r\nL 356.047443 224.64 \r\nL 356.047443 202.841504 \r\nL 325.61108 202.841504 \r\nz\r\n\" style=\"fill:#1f77b4;\"/>\r\n   </g>\r\n   <g id=\"matplotlib.axis_1\">\r\n    <g id=\"xtick_1\">\r\n     <g id=\"line2d_1\">\r\n      <defs>\r\n       <path d=\"M 0 0 \r\nL 0 3.5 \r\n\" id=\"m34c87f5b07\" style=\"stroke:#000000;stroke-width:0.8;\"/>\r\n      </defs>\r\n      <g>\r\n       <use style=\"stroke:#000000;stroke-width:0.8;\" x=\"68.518889\" xlink:href=\"#m34c87f5b07\" y=\"224.64\"/>\r\n      </g>\r\n     </g>\r\n     <g id=\"text_1\">\r\n      <!-- 12 -->\r\n      <defs>\r\n       <path d=\"M 12.40625 8.296875 \r\nL 28.515625 8.296875 \r\nL 28.515625 63.921875 \r\nL 10.984375 60.40625 \r\nL 10.984375 69.390625 \r\nL 28.421875 72.90625 \r\nL 38.28125 72.90625 \r\nL 38.28125 8.296875 \r\nL 54.390625 8.296875 \r\nL 54.390625 0 \r\nL 12.40625 0 \r\nz\r\n\" id=\"DejaVuSans-49\"/>\r\n       <path d=\"M 19.1875 8.296875 \r\nL 53.609375 8.296875 \r\nL 53.609375 0 \r\nL 7.328125 0 \r\nL 7.328125 8.296875 \r\nQ 12.9375 14.109375 22.625 23.890625 \r\nQ 32.328125 33.6875 34.8125 36.53125 \r\nQ 39.546875 41.84375 41.421875 45.53125 \r\nQ 43.3125 49.21875 43.3125 52.78125 \r\nQ 43.3125 58.59375 39.234375 62.25 \r\nQ 35.15625 65.921875 28.609375 65.921875 \r\nQ 23.96875 65.921875 18.8125 64.3125 \r\nQ 13.671875 62.703125 7.8125 59.421875 \r\nL 7.8125 69.390625 \r\nQ 13.765625 71.78125 18.9375 73 \r\nQ 24.125 74.21875 28.421875 74.21875 \r\nQ 39.75 74.21875 46.484375 68.546875 \r\nQ 53.21875 62.890625 53.21875 53.421875 \r\nQ 53.21875 48.921875 51.53125 44.890625 \r\nQ 49.859375 40.875 45.40625 35.40625 \r\nQ 44.1875 33.984375 37.640625 27.21875 \r\nQ 31.109375 20.453125 19.1875 8.296875 \r\nz\r\n\" id=\"DejaVuSans-50\"/>\r\n      </defs>\r\n      <g transform=\"translate(62.156389 239.238437)scale(0.1 -0.1)\">\r\n       <use xlink:href=\"#DejaVuSans-49\"/>\r\n       <use x=\"63.623047\" xlink:href=\"#DejaVuSans-50\"/>\r\n      </g>\r\n     </g>\r\n    </g>\r\n    <g id=\"xtick_2\">\r\n     <g id=\"line2d_2\">\r\n      <g>\r\n       <use style=\"stroke:#000000;stroke-width:0.8;\" x=\"111.093118\" xlink:href=\"#m34c87f5b07\" y=\"224.64\"/>\r\n      </g>\r\n     </g>\r\n     <g id=\"text_2\">\r\n      <!-- 14 -->\r\n      <defs>\r\n       <path d=\"M 37.796875 64.3125 \r\nL 12.890625 25.390625 \r\nL 37.796875 25.390625 \r\nz\r\nM 35.203125 72.90625 \r\nL 47.609375 72.90625 \r\nL 47.609375 25.390625 \r\nL 58.015625 25.390625 \r\nL 58.015625 17.1875 \r\nL 47.609375 17.1875 \r\nL 47.609375 0 \r\nL 37.796875 0 \r\nL 37.796875 17.1875 \r\nL 4.890625 17.1875 \r\nL 4.890625 26.703125 \r\nz\r\n\" id=\"DejaVuSans-52\"/>\r\n      </defs>\r\n      <g transform=\"translate(104.730618 239.238437)scale(0.1 -0.1)\">\r\n       <use xlink:href=\"#DejaVuSans-49\"/>\r\n       <use x=\"63.623047\" xlink:href=\"#DejaVuSans-52\"/>\r\n      </g>\r\n     </g>\r\n    </g>\r\n    <g id=\"xtick_3\">\r\n     <g id=\"line2d_3\">\r\n      <g>\r\n       <use style=\"stroke:#000000;stroke-width:0.8;\" x=\"153.667347\" xlink:href=\"#m34c87f5b07\" y=\"224.64\"/>\r\n      </g>\r\n     </g>\r\n     <g id=\"text_3\">\r\n      <!-- 16 -->\r\n      <defs>\r\n       <path d=\"M 33.015625 40.375 \r\nQ 26.375 40.375 22.484375 35.828125 \r\nQ 18.609375 31.296875 18.609375 23.390625 \r\nQ 18.609375 15.53125 22.484375 10.953125 \r\nQ 26.375 6.390625 33.015625 6.390625 \r\nQ 39.65625 6.390625 43.53125 10.953125 \r\nQ 47.40625 15.53125 47.40625 23.390625 \r\nQ 47.40625 31.296875 43.53125 35.828125 \r\nQ 39.65625 40.375 33.015625 40.375 \r\nz\r\nM 52.59375 71.296875 \r\nL 52.59375 62.3125 \r\nQ 48.875 64.0625 45.09375 64.984375 \r\nQ 41.3125 65.921875 37.59375 65.921875 \r\nQ 27.828125 65.921875 22.671875 59.328125 \r\nQ 17.53125 52.734375 16.796875 39.40625 \r\nQ 19.671875 43.65625 24.015625 45.921875 \r\nQ 28.375 48.1875 33.59375 48.1875 \r\nQ 44.578125 48.1875 50.953125 41.515625 \r\nQ 57.328125 34.859375 57.328125 23.390625 \r\nQ 57.328125 12.15625 50.6875 5.359375 \r\nQ 44.046875 -1.421875 33.015625 -1.421875 \r\nQ 20.359375 -1.421875 13.671875 8.265625 \r\nQ 6.984375 17.96875 6.984375 36.375 \r\nQ 6.984375 53.65625 15.1875 63.9375 \r\nQ 23.390625 74.21875 37.203125 74.21875 \r\nQ 40.921875 74.21875 44.703125 73.484375 \r\nQ 48.484375 72.75 52.59375 71.296875 \r\nz\r\n\" id=\"DejaVuSans-54\"/>\r\n      </defs>\r\n      <g transform=\"translate(147.304847 239.238437)scale(0.1 -0.1)\">\r\n       <use xlink:href=\"#DejaVuSans-49\"/>\r\n       <use x=\"63.623047\" xlink:href=\"#DejaVuSans-54\"/>\r\n      </g>\r\n     </g>\r\n    </g>\r\n    <g id=\"xtick_4\">\r\n     <g id=\"line2d_4\">\r\n      <g>\r\n       <use style=\"stroke:#000000;stroke-width:0.8;\" x=\"196.241576\" xlink:href=\"#m34c87f5b07\" y=\"224.64\"/>\r\n      </g>\r\n     </g>\r\n     <g id=\"text_4\">\r\n      <!-- 18 -->\r\n      <defs>\r\n       <path d=\"M 31.78125 34.625 \r\nQ 24.75 34.625 20.71875 30.859375 \r\nQ 16.703125 27.09375 16.703125 20.515625 \r\nQ 16.703125 13.921875 20.71875 10.15625 \r\nQ 24.75 6.390625 31.78125 6.390625 \r\nQ 38.8125 6.390625 42.859375 10.171875 \r\nQ 46.921875 13.96875 46.921875 20.515625 \r\nQ 46.921875 27.09375 42.890625 30.859375 \r\nQ 38.875 34.625 31.78125 34.625 \r\nz\r\nM 21.921875 38.8125 \r\nQ 15.578125 40.375 12.03125 44.71875 \r\nQ 8.5 49.078125 8.5 55.328125 \r\nQ 8.5 64.0625 14.71875 69.140625 \r\nQ 20.953125 74.21875 31.78125 74.21875 \r\nQ 42.671875 74.21875 48.875 69.140625 \r\nQ 55.078125 64.0625 55.078125 55.328125 \r\nQ 55.078125 49.078125 51.53125 44.71875 \r\nQ 48 40.375 41.703125 38.8125 \r\nQ 48.828125 37.15625 52.796875 32.3125 \r\nQ 56.78125 27.484375 56.78125 20.515625 \r\nQ 56.78125 9.90625 50.3125 4.234375 \r\nQ 43.84375 -1.421875 31.78125 -1.421875 \r\nQ 19.734375 -1.421875 13.25 4.234375 \r\nQ 6.78125 9.90625 6.78125 20.515625 \r\nQ 6.78125 27.484375 10.78125 32.3125 \r\nQ 14.796875 37.15625 21.921875 38.8125 \r\nz\r\nM 18.3125 54.390625 \r\nQ 18.3125 48.734375 21.84375 45.5625 \r\nQ 25.390625 42.390625 31.78125 42.390625 \r\nQ 38.140625 42.390625 41.71875 45.5625 \r\nQ 45.3125 48.734375 45.3125 54.390625 \r\nQ 45.3125 60.0625 41.71875 63.234375 \r\nQ 38.140625 66.40625 31.78125 66.40625 \r\nQ 25.390625 66.40625 21.84375 63.234375 \r\nQ 18.3125 60.0625 18.3125 54.390625 \r\nz\r\n\" id=\"DejaVuSans-56\"/>\r\n      </defs>\r\n      <g transform=\"translate(189.879076 239.238437)scale(0.1 -0.1)\">\r\n       <use xlink:href=\"#DejaVuSans-49\"/>\r\n       <use x=\"63.623047\" xlink:href=\"#DejaVuSans-56\"/>\r\n      </g>\r\n     </g>\r\n    </g>\r\n    <g id=\"xtick_5\">\r\n     <g id=\"line2d_5\">\r\n      <g>\r\n       <use style=\"stroke:#000000;stroke-width:0.8;\" x=\"238.815805\" xlink:href=\"#m34c87f5b07\" y=\"224.64\"/>\r\n      </g>\r\n     </g>\r\n     <g id=\"text_5\">\r\n      <!-- 20 -->\r\n      <defs>\r\n       <path d=\"M 31.78125 66.40625 \r\nQ 24.171875 66.40625 20.328125 58.90625 \r\nQ 16.5 51.421875 16.5 36.375 \r\nQ 16.5 21.390625 20.328125 13.890625 \r\nQ 24.171875 6.390625 31.78125 6.390625 \r\nQ 39.453125 6.390625 43.28125 13.890625 \r\nQ 47.125 21.390625 47.125 36.375 \r\nQ 47.125 51.421875 43.28125 58.90625 \r\nQ 39.453125 66.40625 31.78125 66.40625 \r\nz\r\nM 31.78125 74.21875 \r\nQ 44.046875 74.21875 50.515625 64.515625 \r\nQ 56.984375 54.828125 56.984375 36.375 \r\nQ 56.984375 17.96875 50.515625 8.265625 \r\nQ 44.046875 -1.421875 31.78125 -1.421875 \r\nQ 19.53125 -1.421875 13.0625 8.265625 \r\nQ 6.59375 17.96875 6.59375 36.375 \r\nQ 6.59375 54.828125 13.0625 64.515625 \r\nQ 19.53125 74.21875 31.78125 74.21875 \r\nz\r\n\" id=\"DejaVuSans-48\"/>\r\n      </defs>\r\n      <g transform=\"translate(232.453305 239.238437)scale(0.1 -0.1)\">\r\n       <use xlink:href=\"#DejaVuSans-50\"/>\r\n       <use x=\"63.623047\" xlink:href=\"#DejaVuSans-48\"/>\r\n      </g>\r\n     </g>\r\n    </g>\r\n    <g id=\"xtick_6\">\r\n     <g id=\"line2d_6\">\r\n      <g>\r\n       <use style=\"stroke:#000000;stroke-width:0.8;\" x=\"281.390034\" xlink:href=\"#m34c87f5b07\" y=\"224.64\"/>\r\n      </g>\r\n     </g>\r\n     <g id=\"text_6\">\r\n      <!-- 22 -->\r\n      <g transform=\"translate(275.027534 239.238437)scale(0.1 -0.1)\">\r\n       <use xlink:href=\"#DejaVuSans-50\"/>\r\n       <use x=\"63.623047\" xlink:href=\"#DejaVuSans-50\"/>\r\n      </g>\r\n     </g>\r\n    </g>\r\n    <g id=\"xtick_7\">\r\n     <g id=\"line2d_7\">\r\n      <g>\r\n       <use style=\"stroke:#000000;stroke-width:0.8;\" x=\"323.964263\" xlink:href=\"#m34c87f5b07\" y=\"224.64\"/>\r\n      </g>\r\n     </g>\r\n     <g id=\"text_7\">\r\n      <!-- 24 -->\r\n      <g transform=\"translate(317.601763 239.238437)scale(0.1 -0.1)\">\r\n       <use xlink:href=\"#DejaVuSans-50\"/>\r\n       <use x=\"63.623047\" xlink:href=\"#DejaVuSans-52\"/>\r\n      </g>\r\n     </g>\r\n    </g>\r\n    <g id=\"xtick_8\">\r\n     <g id=\"line2d_8\">\r\n      <g>\r\n       <use style=\"stroke:#000000;stroke-width:0.8;\" x=\"366.538493\" xlink:href=\"#m34c87f5b07\" y=\"224.64\"/>\r\n      </g>\r\n     </g>\r\n     <g id=\"text_8\">\r\n      <!-- 26 -->\r\n      <g transform=\"translate(360.175993 239.238437)scale(0.1 -0.1)\">\r\n       <use xlink:href=\"#DejaVuSans-50\"/>\r\n       <use x=\"63.623047\" xlink:href=\"#DejaVuSans-54\"/>\r\n      </g>\r\n     </g>\r\n    </g>\r\n   </g>\r\n   <g id=\"matplotlib.axis_2\">\r\n    <g id=\"ytick_1\">\r\n     <g id=\"line2d_9\">\r\n      <defs>\r\n       <path d=\"M 0 0 \r\nL -3.5 0 \r\n\" id=\"m667a164167\" style=\"stroke:#000000;stroke-width:0.8;\"/>\r\n      </defs>\r\n      <g>\r\n       <use style=\"stroke:#000000;stroke-width:0.8;\" x=\"36.465625\" xlink:href=\"#m667a164167\" y=\"224.64\"/>\r\n      </g>\r\n     </g>\r\n     <g id=\"text_9\">\r\n      <!-- 0.0 -->\r\n      <defs>\r\n       <path d=\"M 10.6875 12.40625 \r\nL 21 12.40625 \r\nL 21 0 \r\nL 10.6875 0 \r\nz\r\n\" id=\"DejaVuSans-46\"/>\r\n      </defs>\r\n      <g transform=\"translate(13.5625 228.439219)scale(0.1 -0.1)\">\r\n       <use xlink:href=\"#DejaVuSans-48\"/>\r\n       <use x=\"63.623047\" xlink:href=\"#DejaVuSans-46\"/>\r\n       <use x=\"95.410156\" xlink:href=\"#DejaVuSans-48\"/>\r\n      </g>\r\n     </g>\r\n    </g>\r\n    <g id=\"ytick_2\">\r\n     <g id=\"line2d_10\">\r\n      <g>\r\n       <use style=\"stroke:#000000;stroke-width:0.8;\" x=\"36.465625\" xlink:href=\"#m667a164167\" y=\"197.39188\"/>\r\n      </g>\r\n     </g>\r\n     <g id=\"text_10\">\r\n      <!-- 2.5 -->\r\n      <defs>\r\n       <path d=\"M 10.796875 72.90625 \r\nL 49.515625 72.90625 \r\nL 49.515625 64.59375 \r\nL 19.828125 64.59375 \r\nL 19.828125 46.734375 \r\nQ 21.96875 47.46875 24.109375 47.828125 \r\nQ 26.265625 48.1875 28.421875 48.1875 \r\nQ 40.625 48.1875 47.75 41.5 \r\nQ 54.890625 34.8125 54.890625 23.390625 \r\nQ 54.890625 11.625 47.5625 5.09375 \r\nQ 40.234375 -1.421875 26.90625 -1.421875 \r\nQ 22.3125 -1.421875 17.546875 -0.640625 \r\nQ 12.796875 0.140625 7.71875 1.703125 \r\nL 7.71875 11.625 \r\nQ 12.109375 9.234375 16.796875 8.0625 \r\nQ 21.484375 6.890625 26.703125 6.890625 \r\nQ 35.15625 6.890625 40.078125 11.328125 \r\nQ 45.015625 15.765625 45.015625 23.390625 \r\nQ 45.015625 31 40.078125 35.4375 \r\nQ 35.15625 39.890625 26.703125 39.890625 \r\nQ 22.75 39.890625 18.8125 39.015625 \r\nQ 14.890625 38.140625 10.796875 36.28125 \r\nz\r\n\" id=\"DejaVuSans-53\"/>\r\n      </defs>\r\n      <g transform=\"translate(13.5625 201.191098)scale(0.1 -0.1)\">\r\n       <use xlink:href=\"#DejaVuSans-50\"/>\r\n       <use x=\"63.623047\" xlink:href=\"#DejaVuSans-46\"/>\r\n       <use x=\"95.410156\" xlink:href=\"#DejaVuSans-53\"/>\r\n      </g>\r\n     </g>\r\n    </g>\r\n    <g id=\"ytick_3\">\r\n     <g id=\"line2d_11\">\r\n      <g>\r\n       <use style=\"stroke:#000000;stroke-width:0.8;\" x=\"36.465625\" xlink:href=\"#m667a164167\" y=\"170.143759\"/>\r\n      </g>\r\n     </g>\r\n     <g id=\"text_11\">\r\n      <!-- 5.0 -->\r\n      <g transform=\"translate(13.5625 173.942978)scale(0.1 -0.1)\">\r\n       <use xlink:href=\"#DejaVuSans-53\"/>\r\n       <use x=\"63.623047\" xlink:href=\"#DejaVuSans-46\"/>\r\n       <use x=\"95.410156\" xlink:href=\"#DejaVuSans-48\"/>\r\n      </g>\r\n     </g>\r\n    </g>\r\n    <g id=\"ytick_4\">\r\n     <g id=\"line2d_12\">\r\n      <g>\r\n       <use style=\"stroke:#000000;stroke-width:0.8;\" x=\"36.465625\" xlink:href=\"#m667a164167\" y=\"142.895639\"/>\r\n      </g>\r\n     </g>\r\n     <g id=\"text_12\">\r\n      <!-- 7.5 -->\r\n      <defs>\r\n       <path d=\"M 8.203125 72.90625 \r\nL 55.078125 72.90625 \r\nL 55.078125 68.703125 \r\nL 28.609375 0 \r\nL 18.3125 0 \r\nL 43.21875 64.59375 \r\nL 8.203125 64.59375 \r\nz\r\n\" id=\"DejaVuSans-55\"/>\r\n      </defs>\r\n      <g transform=\"translate(13.5625 146.694858)scale(0.1 -0.1)\">\r\n       <use xlink:href=\"#DejaVuSans-55\"/>\r\n       <use x=\"63.623047\" xlink:href=\"#DejaVuSans-46\"/>\r\n       <use x=\"95.410156\" xlink:href=\"#DejaVuSans-53\"/>\r\n      </g>\r\n     </g>\r\n    </g>\r\n    <g id=\"ytick_5\">\r\n     <g id=\"line2d_13\">\r\n      <g>\r\n       <use style=\"stroke:#000000;stroke-width:0.8;\" x=\"36.465625\" xlink:href=\"#m667a164167\" y=\"115.647519\"/>\r\n      </g>\r\n     </g>\r\n     <g id=\"text_13\">\r\n      <!-- 10.0 -->\r\n      <g transform=\"translate(7.2 119.446738)scale(0.1 -0.1)\">\r\n       <use xlink:href=\"#DejaVuSans-49\"/>\r\n       <use x=\"63.623047\" xlink:href=\"#DejaVuSans-48\"/>\r\n       <use x=\"127.246094\" xlink:href=\"#DejaVuSans-46\"/>\r\n       <use x=\"159.033203\" xlink:href=\"#DejaVuSans-48\"/>\r\n      </g>\r\n     </g>\r\n    </g>\r\n    <g id=\"ytick_6\">\r\n     <g id=\"line2d_14\">\r\n      <g>\r\n       <use style=\"stroke:#000000;stroke-width:0.8;\" x=\"36.465625\" xlink:href=\"#m667a164167\" y=\"88.399398\"/>\r\n      </g>\r\n     </g>\r\n     <g id=\"text_14\">\r\n      <!-- 12.5 -->\r\n      <g transform=\"translate(7.2 92.198617)scale(0.1 -0.1)\">\r\n       <use xlink:href=\"#DejaVuSans-49\"/>\r\n       <use x=\"63.623047\" xlink:href=\"#DejaVuSans-50\"/>\r\n       <use x=\"127.246094\" xlink:href=\"#DejaVuSans-46\"/>\r\n       <use x=\"159.033203\" xlink:href=\"#DejaVuSans-53\"/>\r\n      </g>\r\n     </g>\r\n    </g>\r\n    <g id=\"ytick_7\">\r\n     <g id=\"line2d_15\">\r\n      <g>\r\n       <use style=\"stroke:#000000;stroke-width:0.8;\" x=\"36.465625\" xlink:href=\"#m667a164167\" y=\"61.151278\"/>\r\n      </g>\r\n     </g>\r\n     <g id=\"text_15\">\r\n      <!-- 15.0 -->\r\n      <g transform=\"translate(7.2 64.950497)scale(0.1 -0.1)\">\r\n       <use xlink:href=\"#DejaVuSans-49\"/>\r\n       <use x=\"63.623047\" xlink:href=\"#DejaVuSans-53\"/>\r\n       <use x=\"127.246094\" xlink:href=\"#DejaVuSans-46\"/>\r\n       <use x=\"159.033203\" xlink:href=\"#DejaVuSans-48\"/>\r\n      </g>\r\n     </g>\r\n    </g>\r\n    <g id=\"ytick_8\">\r\n     <g id=\"line2d_16\">\r\n      <g>\r\n       <use style=\"stroke:#000000;stroke-width:0.8;\" x=\"36.465625\" xlink:href=\"#m667a164167\" y=\"33.903158\"/>\r\n      </g>\r\n     </g>\r\n     <g id=\"text_16\">\r\n      <!-- 17.5 -->\r\n      <g transform=\"translate(7.2 37.702377)scale(0.1 -0.1)\">\r\n       <use xlink:href=\"#DejaVuSans-49\"/>\r\n       <use x=\"63.623047\" xlink:href=\"#DejaVuSans-55\"/>\r\n       <use x=\"127.246094\" xlink:href=\"#DejaVuSans-46\"/>\r\n       <use x=\"159.033203\" xlink:href=\"#DejaVuSans-53\"/>\r\n      </g>\r\n     </g>\r\n    </g>\r\n   </g>\r\n   <g id=\"patch_13\">\r\n    <path d=\"M 36.465625 224.64 \r\nL 36.465625 7.2 \r\n\" style=\"fill:none;stroke:#000000;stroke-linecap:square;stroke-linejoin:miter;stroke-width:0.8;\"/>\r\n   </g>\r\n   <g id=\"patch_14\">\r\n    <path d=\"M 371.265625 224.64 \r\nL 371.265625 7.2 \r\n\" style=\"fill:none;stroke:#000000;stroke-linecap:square;stroke-linejoin:miter;stroke-width:0.8;\"/>\r\n   </g>\r\n   <g id=\"patch_15\">\r\n    <path d=\"M 36.465625 224.64 \r\nL 371.265625 224.64 \r\n\" style=\"fill:none;stroke:#000000;stroke-linecap:square;stroke-linejoin:miter;stroke-width:0.8;\"/>\r\n   </g>\r\n   <g id=\"patch_16\">\r\n    <path d=\"M 36.465625 7.2 \r\nL 371.265625 7.2 \r\n\" style=\"fill:none;stroke:#000000;stroke-linecap:square;stroke-linejoin:miter;stroke-width:0.8;\"/>\r\n   </g>\r\n  </g>\r\n </g>\r\n <defs>\r\n  <clipPath id=\"pa01ac5b28d\">\r\n   <rect height=\"217.44\" width=\"334.8\" x=\"36.465625\" y=\"7.2\"/>\r\n  </clipPath>\r\n </defs>\r\n</svg>\r\n",
      "image/png": "[encoded data removed]"
     },
     "metadata": {
      "needs_background": "light"
     }
    }
   ],
   "source": [
    "plt.hist(dist_1)\n",
    "plt.show()"
   ]
  },
  {
   "source": [
    "**A:** Yes, `dist_1` looks like a normal distribution."
   ],
   "cell_type": "markdown",
   "metadata": {}
  },
  {
   "source": [
    "2. Calculate the ratio of standard deviations between `dist_1` and `dist_2` and store it in a variable called `ratio`. Print it to the console. Is this \"close enough\" to perform a numerical hypothesis test between the two datasets?"
   ],
   "cell_type": "markdown",
   "metadata": {}
  },
  {
   "cell_type": "code",
   "execution_count": 22,
   "metadata": {},
   "outputs": [
    {
     "output_type": "execute_result",
     "data": {
      "text/plain": [
       "0.5814221080397466"
      ]
     },
     "metadata": {},
     "execution_count": 22
    }
   ],
   "source": [
    "ratio = np.std(dist_1) / np.std(dist_2)\n",
    "ratio"
   ]
  },
  {
   "source": [
    "**A:** For the ratio to be considered \"close enough\" it should be between $0.9$ and $1.1$. The calculated ratio is around $0.58$ and therefore not \"close enough\"."
   ],
   "cell_type": "markdown",
   "metadata": {}
  },
  {
   "source": [
    "***"
   ],
   "cell_type": "markdown",
   "metadata": {}
  },
  {
   "source": [
    "## Tukey's Range Test\n",
    "\n",
    "Let us say that we have performed ANOVA to compare three sets of data from the three VeryAnts stores. We received the result that there is some significant difference between datasets.\n",
    "\n",
    "Now, we have to find out _which_ datasets are different.\n",
    "\n",
    "We can perform a _Tukey's Range Test_ to determine the difference between datasets.\n",
    "\n",
    "If we feed in three datasets, such as the sales at the VeryAnts store locations $A$, $B$, and $C$, Tukey's Test can tell us which pairs of locations are distinguishable from each other.\n",
    "\n",
    "The function to perform Tukey's Range Test is `pairwise_tukeyhsd`, which is found in `statsmodel`, not `scipy`. We have to provide the function with one list of all of the data and a list of labels that tell the function which elements of the list are from which set. We also provide the significance level we want, which is usually `0.05`.\n",
    "\n",
    "For example, if we were looking to compare mean scores of movies that are dramas, comedies, or documentaries, we would make a call to `pairwise_tukeyhsd` like this:\n",
    "\n",
    "    movie_scores = np.concatenate([drama_scores, comedy_scores, documentary_scores])\n",
    "    labels = ['drama'] * len(drama_scores) + ['comedy'] * len(comedy_scores) + ['documentary'] * len(documentary_scores)\n",
    " \n",
    "    tukey_results = pairwise_tukeyhsd(movie_scores, labels, 0.05)\n",
    "\n",
    "It will return a table of information, telling you whether or not to reject the null hypothesis for each pair of datasets."
   ],
   "cell_type": "markdown",
   "metadata": {}
  },
  {
   "source": [
    "***\n",
    "### Exercise"
   ],
   "cell_type": "markdown",
   "metadata": {}
  },
  {
   "cell_type": "code",
   "execution_count": 23,
   "metadata": {},
   "outputs": [
    {
     "output_type": "execute_result",
     "data": {
      "text/plain": [
       "0.0001534116600777967"
      ]
     },
     "metadata": {},
     "execution_count": 23
    }
   ],
   "source": [
    "from statsmodels.stats.multicomp import pairwise_tukeyhsd\n",
    "from scipy.stats import f_oneway\n",
    "import numpy as np\n",
    "\n",
    "a_sample = np.genfromtxt(\"store_a.csv\",  delimiter=\",\")\n",
    "b_sample = np.genfromtxt(\"store_b.csv\",  delimiter=\",\")\n",
    "c_sample = np.genfromtxt(\"store_c.csv\",  delimiter=\",\")\n",
    "\n",
    "stat, pval = f_oneway(a_sample, b_sample, c_sample)\n",
    "\n",
    "pval"
   ]
  },
  {
   "cell_type": "code",
   "execution_count": 24,
   "metadata": {},
   "outputs": [],
   "source": [
    "# Using our data from ANOVA, we create values and labels\n",
    "values = np.concatenate([a_sample, b_sample, c_sample])\n",
    "labels = ['store_a'] * len(a_sample) + ['store_b'] * len(b_sample) + ['store_c'] * len(c_sample)"
   ]
  },
  {
   "source": [
    "1. We have concatenated the sales data in lists `a_sample`, `b_sample`, and `c_sample` and put it into list `values`. We have also provided a `labels` list that keeps track of which elements of `values` come from `a_sample`, `b_sample`, or `c_sample`.\n",
    "\n",
    "    Use `pairwise_tukeyhsd` with these two lists and `0.05` (the desired significance level) as inputs. Store the results in a variable called `tukey_results`."
   ],
   "cell_type": "markdown",
   "metadata": {}
  },
  {
   "cell_type": "code",
   "execution_count": 25,
   "metadata": {},
   "outputs": [
    {
     "output_type": "stream",
     "name": "stdout",
     "text": [
      " Multiple Comparison of Means - Tukey HSD, FWER=0.05  \n======================================================\n group1  group2 meandiff p-adj   lower   upper  reject\n------------------------------------------------------\nstore_a store_b   7.2767  0.001  3.2266 11.3267   True\nstore_a store_c   4.0115 0.0529 -0.0385  8.0616  False\nstore_b store_c  -3.2651 0.1411 -7.3152  0.7849  False\n------------------------------------------------------\n"
     ]
    }
   ],
   "source": [
    "significance_level = 0.05\n",
    "tukey_results = pairwise_tukeyhsd(values, labels, significance_level)\n",
    "\n",
    "print(tukey_results)"
   ]
  },
  {
   "source": [
    "***"
   ],
   "cell_type": "markdown",
   "metadata": {}
  },
  {
   "source": [
    "## Binomial Test\n",
    "\n",
    "Let us imagine that we are analyzing the percentage of customers who make a purchase after visiting a website. $1000$ customers visited the site this month, and $58$ of them made a purchase. The marketing department reports that historical data suggests about $72$ of every $1000$ visitors make a purchase. Thus, they estimate that the probability of any particular customer making a purchase is $7.2\\%$. We would like to know if this month's number, $58$ purchases, is significantly different from normal or a reasonable fluctuation due to random chance.\n",
    "\n",
    "In previous exercises, we collected samples of numerical information (eg. order price) and then used the mean and standard deviation of those samples to make comparisons. In contrast, we now have a sample where each unit (a visitor) falls into one of two discrete categories:\n",
    "\n",
    "* \"made a purchase\"\n",
    "* \"did not make a purchase\"\n",
    "\n",
    "Instead of comparing sample means, we want to compare the percent in the \"made a purchase\" category to some expectation. This can be done with a _Binomial Test_. The binomial distribution describes the number of expected \"successes\" in an experiment with some number of \"trials\". In this case, our experiment consists of $1000$ people visiting the site. For each of those trials (visitors), we expect that there is a $7.2\\%$ chance of a purchase (success).\n",
    "\n",
    "SciPy has a function called `binom_test()`, which performs a Binomial Test for you. In this example, the null hypothesis is that the true probability of a purchase is $7.2\\%$. The default alternative hypothesis for the `binom_test()` function in this example is that the true probability is not $7.2\\%$.\n",
    "\n",
    "`binom_test()` requires three inputs, the number of observed successes, the number of total trials, and an expected probability of success. For example, with $1000$ coin flips of a fair coin, we would expect a \"success rate\" (the rate of getting heads), to be $0.5$, and the number of trials to be $1000$. Let us imagine we get $525$ heads. Is the coin weighted? This function call would look like:\n",
    "\n",
    "    pval = binom_test(525, n=1000, p=0.5)\n",
    "\n",
    "It returns a p-value, telling us how likely we are to observe at least this much deviation from expectation ($> 525$ heads or $< 475$ heads) given that the true probability of heads on any flip was $0.5$ (meaning our expectation was $500$ heads). If we get a p-value less than $0.05$, we can reject the null hypothesis and say it is unlikely that the true probability of heads was $0.5$ on each flip, suggesting that the coin is weighted."
   ],
   "cell_type": "markdown",
   "metadata": {}
  },
  {
   "source": [
    "***\n",
    "### Exercise"
   ],
   "cell_type": "markdown",
   "metadata": {}
  },
  {
   "cell_type": "code",
   "execution_count": 26,
   "metadata": {},
   "outputs": [],
   "source": [
    "from scipy.stats import binom_test"
   ]
  },
  {
   "source": [
    "1. Suppose the goal of VeryAnts's marketing team this quarter was to have $6\\%$ of customers click a link that was emailed to them. They sent out a link to $10,000$ customers and $510$ clicked the link, which comes out to $5.1\\%$ instead of $6\\%$. Did they do significantly worse than the target? Let us use a binomial test to answer this question.\n",
    "\n",
    "    Use SciPy's `binom_test` function to calculate the p-value the experiment returns for this distribution, where we wanted the mean to be $6\\%$ of emails opened, or `p=0.06`, but only saw $5.1\\%$ of emails opened.\n",
    "\n",
    "    Store the p-value in a variable called `pval` and print it out."
   ],
   "cell_type": "markdown",
   "metadata": {}
  },
  {
   "cell_type": "code",
   "execution_count": 27,
   "metadata": {},
   "outputs": [
    {
     "output_type": "execute_result",
     "data": {
      "text/plain": [
       "0.00011592032724546606"
      ]
     },
     "metadata": {},
     "execution_count": 27
    }
   ],
   "source": [
    "pval = binom_test(510, n=10000, p=0.06)\n",
    "pval"
   ]
  },
  {
   "source": [
    "2. For the next quarter, marketing has tried out a new email tactic, including puns in every line of every email. As a result, $590$ people out of $10000$ opened the link in the newest email.\n",
    "\n",
    "    If we still wanted the mean to be $6\\%$ of emails opened, but now have $5.9\\%$ of emails opened, what is the new p-value. Save your results to the variable `pval2`\n",
    "\n",
    "    Does this new p-value make sense?"
   ],
   "cell_type": "markdown",
   "metadata": {}
  },
  {
   "cell_type": "code",
   "execution_count": 28,
   "metadata": {},
   "outputs": [
    {
     "output_type": "execute_result",
     "data": {
      "text/plain": [
       "0.6891529835730346"
      ]
     },
     "metadata": {},
     "execution_count": 28
    }
   ],
   "source": [
    "pval2 = binom_test(590, n=10000, p=0.06)\n",
    "pval2"
   ]
  },
  {
   "source": [
    "**A:** For 1. it is very unlikely that the target of $6\\%$ was hit as the p-value is much smaller than $0.05$. For 2. it is very likely that the target of $6\\%$ was hit as the p-value is much greater than $0.05$."
   ],
   "cell_type": "markdown",
   "metadata": {}
  },
  {
   "source": [
    "***"
   ],
   "cell_type": "markdown",
   "metadata": {}
  },
  {
   "source": [
    "## Chi Square Test\n",
    "\n",
    "In the last exercise, we looked at data where customers visited a website and either made a purchase or did not make a purchase. What if we also wanted to understand if the probability of making a purchase depends on some other categorical variable, like gender? If we want to understand whether the outcomes of two categorical variables are associated, we should use a _Chi Square_ test. It is useful in situations like:\n",
    "\n",
    "* An A/B test where half of users were shown a green submit button and the other half were shown a purple submit button. Was one group more likely to click the submit button?\n",
    "* People under and over age 40 were given a survey asking “Which of the following three products is your favorite?” Did these age groups have significantly different preferences?\n",
    "\n",
    "In SciPy, you can use the function `chi2_contingency` to perform a Chi Square test.\n",
    "\n",
    "The input to `chi2_contingency` is a contingency table where:\n",
    "\n",
    "* The columns are each a different condition, such as Interface A vs. Interface B\n",
    "* The rows represent different outcomes, like \"Clicked a Link\" vs. \"Did not Click\"\n",
    "\n",
    "This table can have as many rows and columns as you need.\n",
    "\n",
    "Let us return to the question of whether gender is associated with the probability of a website visitor making a purchase. The null hypothesis is that there is no association between the variables (eg. males, females, and non-binary people are all equally likely to make a purchase on the website, so gender and purchase-status are not associated). If the p-value is below our chosen threshold (often $0.05$), we reject the null hypothesis and can conclude there is a statistically significant association between the two variables (eg. men, women, and non-binary people appear to have different probabilities of making a purchase, so gender is associated with purchase-status)."
   ],
   "cell_type": "markdown",
   "metadata": {}
  },
  {
   "source": [
    "***"
   ],
   "cell_type": "markdown",
   "metadata": {}
  },
  {
   "source": [
    "### Exercise\n",
    "\n",
    "1. The management at the VeryAnts ant store wants to know if their two most popular species of ants, the Leaf Cutter and the Harvester, vary in popularity between 1st, 2nd, and 3rd graders.\n",
    "\n",
    "    We have created a table representing the different ants bought by the children in grades 1, 2, and 3 after the last big field trip to VeryAnts. Run the code to see what happens when we enter this table into SciPy's chi-square test.\n",
    "\n",
    "    Does the resulting p-value mean that we should reject or accept the null hypothesis?"
   ],
   "cell_type": "markdown",
   "metadata": {}
  },
  {
   "cell_type": "code",
   "execution_count": 29,
   "metadata": {},
   "outputs": [
    {
     "output_type": "execute_result",
     "data": {
      "text/plain": [
       "0.15508230807673704"
      ]
     },
     "metadata": {},
     "execution_count": 29
    }
   ],
   "source": [
    "from scipy.stats import chi2_contingency\n",
    "\n",
    "# Contingency table\n",
    "#        | harvester| leaf cutter\n",
    "# -------+----------+------------\n",
    "# 1st gr | 30       | 10\n",
    "# 2nd gr | 35       | 5\n",
    "# 3rd gr | 28       | 12\n",
    "\n",
    "X = [[30, 10],\n",
    "     [35, 5],\n",
    "     [28, 12]]\n",
    "\n",
    "chi2, pval, dof, expected = chi2_contingency(X)\n",
    "pval"
   ]
  },
  {
   "source": [
    "**A:** As the p-value is much greater than $0.05$ we cannot reject the null hypothesis and therefore can conclude that there is **no** statistically significant association between the different grades and the most popular ant species."
   ],
   "cell_type": "markdown",
   "metadata": {}
  },
  {
   "source": [
    "2. A class of $40$ 4th graders comes into VeryAnts in the next week and buys $20$ sets of Leaf Cutter ants and $20$ sets of Harvester ants.\n",
    "\n",
    "    Add this data to the contingency table, rerun the chi-square test, and see if there is now a low enough value to reject the null hypothesis."
   ],
   "cell_type": "markdown",
   "metadata": {}
  },
  {
   "cell_type": "code",
   "execution_count": 30,
   "metadata": {},
   "outputs": [
    {
     "output_type": "execute_result",
     "data": {
      "text/plain": [
       "0.002812834559546625"
      ]
     },
     "metadata": {},
     "execution_count": 30
    }
   ],
   "source": [
    "# Contingency table\n",
    "#        | harvester| leaf cutter\n",
    "# -------+----------+------------\n",
    "# 1st gr | 30       | 10\n",
    "# 2nd gr | 35       | 5\n",
    "# 3rd gr | 28       | 12\n",
    "# 4th gr | 20       | 20\n",
    "\n",
    "X = [[30, 10],\n",
    "     [35, 5],\n",
    "     [28, 12],\n",
    "     [20, 20]]\n",
    "\n",
    "chi2, pval, dof, expected = chi2_contingency(X)\n",
    "pval"
   ]
  },
  {
   "source": [
    "**A:** As the p-value is much smaller than $0.05$ we can reject the null hypothesis and therefore can conclude that there **is** a statistically significant association between the different grades and the most popular ant species."
   ],
   "cell_type": "markdown",
   "metadata": {}
  }
 ]
}