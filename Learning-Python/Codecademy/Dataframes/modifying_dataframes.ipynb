{
 "metadata": {
  "language_info": {
   "codemirror_mode": {
    "name": "ipython",
    "version": 3
   },
   "file_extension": ".py",
   "mimetype": "text/x-python",
   "name": "python",
   "nbconvert_exporter": "python",
   "pygments_lexer": "ipython3",
   "version": "3.7.6-final"
  },
  "orig_nbformat": 2,
  "kernelspec": {
   "name": "python3",
   "display_name": "Python 3",
   "language": "python"
  }
 },
 "nbformat": 4,
 "nbformat_minor": 2,
 "cells": [
  {
   "source": [
    "# Modifying DataFrames\n",
    "## Adding a Column I\n",
    "\n",
    "Sometimes, we want to add a column to an existing DataFrame. We might want to add new information or perform a calculation based on the data that we already have.<br>\n",
    "<br>\n",
    "One way that we can add a new column is by giving a list of the same length as the existing DataFrame.<br>\n",
    "<br>\n",
    "Suppose we own a hardware store called The Handy Woman and have a DataFrame containing inventory information:\n",
    "<table>\n",
    "    <tr align=\"right\">\n",
    "        <th>Product ID</th>\n",
    "        <th>Product Description</th>\n",
    "        <th>Cost to Manufacture</th>\n",
    "        <th>Price</th>\n",
    "    </tr>\n",
    "    <tr align=\"right\">\n",
    "        <td>1</td>\n",
    "        <td>3 inch screw</td>\n",
    "        <td>0.50</td>\n",
    "        <td>0.75</td>\n",
    "    </tr>\n",
    "    <tr align=\"right\">\n",
    "        <td>2</td>\n",
    "        <td>2 inch nail</td>\n",
    "        <td>0.10</td>\n",
    "        <td>0.25</td>\n",
    "    </tr>\n",
    "    <tr align=\"right\">\n",
    "        <td>3</td>\n",
    "        <td>hammer</td>\n",
    "        <td>3.00</td>\n",
    "        <td>5.00</td>\n",
    "    </tr>\n",
    "    <tr align=\"right\">\n",
    "        <td>4</td>\n",
    "        <td>screwdriver</td>\n",
    "        <td>2.50</td>\n",
    "        <td>3.00</td>\n",
    "    </tr>\n",
    "</table>"
   ],
   "cell_type": "markdown",
   "metadata": {}
  },
  {
   "cell_type": "code",
   "execution_count": 1,
   "metadata": {},
   "outputs": [],
   "source": [
    "import pandas as pd"
   ]
  },
  {
   "cell_type": "code",
   "execution_count": 2,
   "metadata": {},
   "outputs": [
    {
     "output_type": "execute_result",
     "data": {
      "text/plain": [
       "   Product ID   Description  Cost to Manufacture  Price\n",
       "0           1  3 inch screw                  0.5   0.75\n",
       "1           2   2 inch nail                  0.1   0.25\n",
       "2           3        hammer                  3.0   5.50\n",
       "3           4   screwdriver                  2.5   3.00"
      ],
      "text/html": "<div>\n<style scoped>\n    .dataframe tbody tr th:only-of-type {\n        vertical-align: middle;\n    }\n\n    .dataframe tbody tr th {\n        vertical-align: top;\n    }\n\n    .dataframe thead th {\n        text-align: right;\n    }\n</style>\n<table border=\"1\" class=\"dataframe\">\n  <thead>\n    <tr style=\"text-align: right;\">\n      <th></th>\n      <th>Product ID</th>\n      <th>Description</th>\n      <th>Cost to Manufacture</th>\n      <th>Price</th>\n    </tr>\n  </thead>\n  <tbody>\n    <tr>\n      <th>0</th>\n      <td>1</td>\n      <td>3 inch screw</td>\n      <td>0.5</td>\n      <td>0.75</td>\n    </tr>\n    <tr>\n      <th>1</th>\n      <td>2</td>\n      <td>2 inch nail</td>\n      <td>0.1</td>\n      <td>0.25</td>\n    </tr>\n    <tr>\n      <th>2</th>\n      <td>3</td>\n      <td>hammer</td>\n      <td>3.0</td>\n      <td>5.50</td>\n    </tr>\n    <tr>\n      <th>3</th>\n      <td>4</td>\n      <td>screwdriver</td>\n      <td>2.5</td>\n      <td>3.00</td>\n    </tr>\n  </tbody>\n</table>\n</div>"
     },
     "metadata": {},
     "execution_count": 2
    }
   ],
   "source": [
    "df = pd.DataFrame([\n",
    "  [1, '3 inch screw', 0.5, 0.75],\n",
    "  [2, '2 inch nail', 0.10, 0.25],\n",
    "  [3, 'hammer', 3.00, 5.50],\n",
    "  [4, 'screwdriver', 2.50, 3.00]\n",
    "],\n",
    "  columns=['Product ID', 'Description', 'Cost to Manufacture', 'Price']\n",
    ")\n",
    "df"
   ]
  },
  {
   "source": [
    "It looks like the actual quantity of each product in our warehouse is missing!<br>\n",
    "<br>\n",
    "Let us use the following code to add that information to our DataFrame."
   ],
   "cell_type": "markdown",
   "metadata": {}
  },
  {
   "cell_type": "code",
   "execution_count": 3,
   "metadata": {},
   "outputs": [],
   "source": [
    "df['Quantity'] = [100, 150, 50, 35]"
   ]
  },
  {
   "source": [
    "Our new DataFrame looks like this:"
   ],
   "cell_type": "markdown",
   "metadata": {}
  },
  {
   "cell_type": "code",
   "execution_count": 4,
   "metadata": {},
   "outputs": [
    {
     "output_type": "execute_result",
     "data": {
      "text/plain": [
       "   Product ID   Description  Cost to Manufacture  Price  Quantity\n",
       "0           1  3 inch screw                  0.5   0.75       100\n",
       "1           2   2 inch nail                  0.1   0.25       150\n",
       "2           3        hammer                  3.0   5.50        50\n",
       "3           4   screwdriver                  2.5   3.00        35"
      ],
      "text/html": "<div>\n<style scoped>\n    .dataframe tbody tr th:only-of-type {\n        vertical-align: middle;\n    }\n\n    .dataframe tbody tr th {\n        vertical-align: top;\n    }\n\n    .dataframe thead th {\n        text-align: right;\n    }\n</style>\n<table border=\"1\" class=\"dataframe\">\n  <thead>\n    <tr style=\"text-align: right;\">\n      <th></th>\n      <th>Product ID</th>\n      <th>Description</th>\n      <th>Cost to Manufacture</th>\n      <th>Price</th>\n      <th>Quantity</th>\n    </tr>\n  </thead>\n  <tbody>\n    <tr>\n      <th>0</th>\n      <td>1</td>\n      <td>3 inch screw</td>\n      <td>0.5</td>\n      <td>0.75</td>\n      <td>100</td>\n    </tr>\n    <tr>\n      <th>1</th>\n      <td>2</td>\n      <td>2 inch nail</td>\n      <td>0.1</td>\n      <td>0.25</td>\n      <td>150</td>\n    </tr>\n    <tr>\n      <th>2</th>\n      <td>3</td>\n      <td>hammer</td>\n      <td>3.0</td>\n      <td>5.50</td>\n      <td>50</td>\n    </tr>\n    <tr>\n      <th>3</th>\n      <td>4</td>\n      <td>screwdriver</td>\n      <td>2.5</td>\n      <td>3.00</td>\n      <td>35</td>\n    </tr>\n  </tbody>\n</table>\n</div>"
     },
     "metadata": {},
     "execution_count": 4
    }
   ],
   "source": [
    "df"
   ]
  },
  {
   "source": [
    "***"
   ],
   "cell_type": "markdown",
   "metadata": {}
  },
  {
   "source": [
    "### Exercise\n",
    "\n",
    "The DataFrame `df` contains information on products sold at a hardware store. Add a column to `df` called 'Sold in Bulk?', which indicates if the product is sold in bulk or individually. The final table should look like this:\n",
    "<table>\n",
    "    <tr align=\"right\">\n",
    "        <th>Product ID</th>\n",
    "        <th>Product Description</th>\n",
    "        <th>Cost to Manufacture</th>\n",
    "        <th>Price</th>\n",
    "        <th>Sold in Bulk?<th>\n",
    "    </tr>\n",
    "    <tr align=\"right\">\n",
    "        <td>1</td>\n",
    "        <td>3 inch screw</td>\n",
    "        <td>0.50</td>\n",
    "        <td>0.75</td>\n",
    "        <td>Yes</td>\n",
    "    </tr>\n",
    "    <tr align=\"right\">\n",
    "        <td>2</td>\n",
    "        <td>2 inch nail</td>\n",
    "        <td>0.10</td>\n",
    "        <td>0.25</td>\n",
    "        <td>Yes</td>\n",
    "    </tr>\n",
    "    <tr align=\"right\">\n",
    "        <td>3</td>\n",
    "        <td>hammer</td>\n",
    "        <td>3.00</td>\n",
    "        <td>5.00</td>\n",
    "        <td>No</td>\n",
    "    </tr>\n",
    "    <tr align=\"right\">\n",
    "        <td>4</td>\n",
    "        <td>screwdriver</td>\n",
    "        <td>2.50</td>\n",
    "        <td>3.00</td>\n",
    "        <td>No</td>\n",
    "    </tr>\n",
    "</table>"
   ],
   "cell_type": "markdown",
   "metadata": {}
  },
  {
   "cell_type": "code",
   "execution_count": 5,
   "metadata": {},
   "outputs": [],
   "source": [
    "df = pd.DataFrame([\n",
    "  [1, '3 inch screw', 0.5, 0.75],\n",
    "  [2, '2 inch nail', 0.10, 0.25],\n",
    "  [3, 'hammer', 3.00, 5.50],\n",
    "  [4, 'screwdriver', 2.50, 3.00]\n",
    "],\n",
    "  columns=['Product ID', 'Description', 'Cost to Manufacture', 'Price']\n",
    ")"
   ]
  },
  {
   "cell_type": "code",
   "execution_count": 6,
   "metadata": {},
   "outputs": [],
   "source": [
    "df['Sold in Bulk?'] = ['Yes', 'Yes', 'No', 'No']"
   ]
  },
  {
   "cell_type": "code",
   "execution_count": 7,
   "metadata": {},
   "outputs": [
    {
     "output_type": "stream",
     "name": "stdout",
     "text": [
      "   Product ID   Description  Cost to Manufacture  Price Sold in Bulk?\n0           1  3 inch screw                  0.5   0.75           Yes\n1           2   2 inch nail                  0.1   0.25           Yes\n2           3        hammer                  3.0   5.50            No\n3           4   screwdriver                  2.5   3.00            No\n"
     ]
    }
   ],
   "source": [
    "print(df)"
   ]
  },
  {
   "source": [
    "***"
   ],
   "cell_type": "markdown",
   "metadata": {}
  },
  {
   "source": [
    "## Adding a Column II\n",
    "\n",
    "We can also add a new column that is the same for all rows in the DataFrame. Let us return to our inventory example:\n",
    "<table>\n",
    "    <tr align=\"right\">\n",
    "        <th>Product ID</th>\n",
    "        <th>Product Description</th>\n",
    "        <th>Cost to Manufacture</th>\n",
    "        <th>Price</th>\n",
    "    </tr>\n",
    "    <tr align=\"right\">\n",
    "        <td>1</td>\n",
    "        <td>3 inch screw</td>\n",
    "        <td>0.50</td>\n",
    "        <td>0.75</td>\n",
    "    </tr>\n",
    "    <tr align=\"right\">\n",
    "        <td>2</td>\n",
    "        <td>2 inch nail</td>\n",
    "        <td>0.10</td>\n",
    "        <td>0.25</td>\n",
    "    </tr>\n",
    "    <tr align=\"right\">\n",
    "        <td>3</td>\n",
    "        <td>hammer</td>\n",
    "        <td>3.00</td>\n",
    "        <td>5.00</td>\n",
    "    </tr>\n",
    "    <tr align=\"right\">\n",
    "        <td>4</td>\n",
    "        <td>screwdriver</td>\n",
    "        <td>2.50</td>\n",
    "        <td>3.00</td>\n",
    "    </tr>\n",
    "</table>"
   ],
   "cell_type": "markdown",
   "metadata": {}
  },
  {
   "cell_type": "code",
   "execution_count": 8,
   "metadata": {},
   "outputs": [],
   "source": [
    "df = pd.DataFrame([\n",
    "  [1, '3 inch screw', 0.5, 0.75],\n",
    "  [2, '2 inch nail', 0.10, 0.25],\n",
    "  [3, 'hammer', 3.00, 5.50],\n",
    "  [4, 'screwdriver', 2.50, 3.00]\n",
    "],\n",
    "  columns=['Product ID', 'Description', 'Cost to Manufacture', 'Price']\n",
    ")"
   ]
  },
  {
   "source": [
    "Suppose we know that all of our products are currently in-stock. We can add a column that says this:"
   ],
   "cell_type": "markdown",
   "metadata": {}
  },
  {
   "cell_type": "code",
   "execution_count": 9,
   "metadata": {},
   "outputs": [],
   "source": [
    "df['In Stock?'] = True"
   ]
  },
  {
   "source": [
    "Now all of the rows have a column called `In Stock?` with value `True`."
   ],
   "cell_type": "markdown",
   "metadata": {}
  },
  {
   "cell_type": "code",
   "execution_count": 10,
   "metadata": {},
   "outputs": [
    {
     "output_type": "execute_result",
     "data": {
      "text/plain": [
       "   Product ID   Description  Cost to Manufacture  Price  In Stock?\n",
       "0           1  3 inch screw                  0.5   0.75       True\n",
       "1           2   2 inch nail                  0.1   0.25       True\n",
       "2           3        hammer                  3.0   5.50       True\n",
       "3           4   screwdriver                  2.5   3.00       True"
      ],
      "text/html": "<div>\n<style scoped>\n    .dataframe tbody tr th:only-of-type {\n        vertical-align: middle;\n    }\n\n    .dataframe tbody tr th {\n        vertical-align: top;\n    }\n\n    .dataframe thead th {\n        text-align: right;\n    }\n</style>\n<table border=\"1\" class=\"dataframe\">\n  <thead>\n    <tr style=\"text-align: right;\">\n      <th></th>\n      <th>Product ID</th>\n      <th>Description</th>\n      <th>Cost to Manufacture</th>\n      <th>Price</th>\n      <th>In Stock?</th>\n    </tr>\n  </thead>\n  <tbody>\n    <tr>\n      <th>0</th>\n      <td>1</td>\n      <td>3 inch screw</td>\n      <td>0.5</td>\n      <td>0.75</td>\n      <td>True</td>\n    </tr>\n    <tr>\n      <th>1</th>\n      <td>2</td>\n      <td>2 inch nail</td>\n      <td>0.1</td>\n      <td>0.25</td>\n      <td>True</td>\n    </tr>\n    <tr>\n      <th>2</th>\n      <td>3</td>\n      <td>hammer</td>\n      <td>3.0</td>\n      <td>5.50</td>\n      <td>True</td>\n    </tr>\n    <tr>\n      <th>3</th>\n      <td>4</td>\n      <td>screwdriver</td>\n      <td>2.5</td>\n      <td>3.00</td>\n      <td>True</td>\n    </tr>\n  </tbody>\n</table>\n</div>"
     },
     "metadata": {},
     "execution_count": 10
    }
   ],
   "source": [
    "df"
   ]
  },
  {
   "source": [
    "***"
   ],
   "cell_type": "markdown",
   "metadata": {}
  },
  {
   "source": [
    "### Exercise\n",
    "\n",
    "Add a column to df called `Is taxed?`, which indicates whether or not to collect sales tax on the product. It should be `'Yes'` for all rows."
   ],
   "cell_type": "markdown",
   "metadata": {}
  },
  {
   "cell_type": "code",
   "execution_count": 11,
   "metadata": {},
   "outputs": [],
   "source": [
    "df = pd.DataFrame([\n",
    "  [1, '3 inch screw', 0.5, 0.75],\n",
    "  [2, '2 inch nail', 0.10, 0.25],\n",
    "  [3, 'hammer', 3.00, 5.50],\n",
    "  [4, 'screwdriver', 2.50, 3.00]\n",
    "],\n",
    "  columns=['Product ID', 'Description', 'Cost to Manufacture', 'Price']\n",
    ")"
   ]
  },
  {
   "cell_type": "code",
   "execution_count": 12,
   "metadata": {},
   "outputs": [],
   "source": [
    "df['Is taxed?'] = 'Yes'"
   ]
  },
  {
   "cell_type": "code",
   "execution_count": 13,
   "metadata": {},
   "outputs": [
    {
     "output_type": "execute_result",
     "data": {
      "text/plain": [
       "   Product ID   Description  Cost to Manufacture  Price Is taxed?\n",
       "0           1  3 inch screw                  0.5   0.75       Yes\n",
       "1           2   2 inch nail                  0.1   0.25       Yes\n",
       "2           3        hammer                  3.0   5.50       Yes\n",
       "3           4   screwdriver                  2.5   3.00       Yes"
      ],
      "text/html": "<div>\n<style scoped>\n    .dataframe tbody tr th:only-of-type {\n        vertical-align: middle;\n    }\n\n    .dataframe tbody tr th {\n        vertical-align: top;\n    }\n\n    .dataframe thead th {\n        text-align: right;\n    }\n</style>\n<table border=\"1\" class=\"dataframe\">\n  <thead>\n    <tr style=\"text-align: right;\">\n      <th></th>\n      <th>Product ID</th>\n      <th>Description</th>\n      <th>Cost to Manufacture</th>\n      <th>Price</th>\n      <th>Is taxed?</th>\n    </tr>\n  </thead>\n  <tbody>\n    <tr>\n      <th>0</th>\n      <td>1</td>\n      <td>3 inch screw</td>\n      <td>0.5</td>\n      <td>0.75</td>\n      <td>Yes</td>\n    </tr>\n    <tr>\n      <th>1</th>\n      <td>2</td>\n      <td>2 inch nail</td>\n      <td>0.1</td>\n      <td>0.25</td>\n      <td>Yes</td>\n    </tr>\n    <tr>\n      <th>2</th>\n      <td>3</td>\n      <td>hammer</td>\n      <td>3.0</td>\n      <td>5.50</td>\n      <td>Yes</td>\n    </tr>\n    <tr>\n      <th>3</th>\n      <td>4</td>\n      <td>screwdriver</td>\n      <td>2.5</td>\n      <td>3.00</td>\n      <td>Yes</td>\n    </tr>\n  </tbody>\n</table>\n</div>"
     },
     "metadata": {},
     "execution_count": 13
    }
   ],
   "source": [
    "df"
   ]
  },
  {
   "source": [
    "***"
   ],
   "cell_type": "markdown",
   "metadata": {}
  },
  {
   "source": [
    "## Adding a Column III\n",
    "\n",
    "Finally, you can add a new column by performing a function on the existing columns.<br>\n",
    "<br>\n",
    "Maybe we want to add a column to our inventory table with the amount of sales tax that we need to charge for each item. The following code multiplies each `Price` by `0.075`, the sales tax for our state:"
   ],
   "cell_type": "markdown",
   "metadata": {}
  },
  {
   "cell_type": "code",
   "execution_count": 14,
   "metadata": {},
   "outputs": [],
   "source": [
    "df = pd.DataFrame([\n",
    "  [1, '3 inch screw', 0.5, 0.75],\n",
    "  [2, '2 inch nail', 0.10, 0.25],\n",
    "  [3, 'hammer', 3.00, 5.50],\n",
    "  [4, 'screwdriver', 2.50, 3.00]\n",
    "],\n",
    "  columns=['Product ID', 'Description', 'Cost to Manufacture', 'Price']\n",
    ")"
   ]
  },
  {
   "cell_type": "code",
   "execution_count": 15,
   "metadata": {},
   "outputs": [],
   "source": [
    "df['Sales Tax'] = df.Price * 0.075"
   ]
  },
  {
   "source": [
    "Now our table has a column called Sales Tax:"
   ],
   "cell_type": "markdown",
   "metadata": {}
  },
  {
   "cell_type": "code",
   "execution_count": 16,
   "metadata": {},
   "outputs": [
    {
     "output_type": "execute_result",
     "data": {
      "text/plain": [
       "   Product ID   Description  Cost to Manufacture  Price  Sales Tax\n",
       "0           1  3 inch screw                  0.5   0.75    0.05625\n",
       "1           2   2 inch nail                  0.1   0.25    0.01875\n",
       "2           3        hammer                  3.0   5.50    0.41250\n",
       "3           4   screwdriver                  2.5   3.00    0.22500"
      ],
      "text/html": "<div>\n<style scoped>\n    .dataframe tbody tr th:only-of-type {\n        vertical-align: middle;\n    }\n\n    .dataframe tbody tr th {\n        vertical-align: top;\n    }\n\n    .dataframe thead th {\n        text-align: right;\n    }\n</style>\n<table border=\"1\" class=\"dataframe\">\n  <thead>\n    <tr style=\"text-align: right;\">\n      <th></th>\n      <th>Product ID</th>\n      <th>Description</th>\n      <th>Cost to Manufacture</th>\n      <th>Price</th>\n      <th>Sales Tax</th>\n    </tr>\n  </thead>\n  <tbody>\n    <tr>\n      <th>0</th>\n      <td>1</td>\n      <td>3 inch screw</td>\n      <td>0.5</td>\n      <td>0.75</td>\n      <td>0.05625</td>\n    </tr>\n    <tr>\n      <th>1</th>\n      <td>2</td>\n      <td>2 inch nail</td>\n      <td>0.1</td>\n      <td>0.25</td>\n      <td>0.01875</td>\n    </tr>\n    <tr>\n      <th>2</th>\n      <td>3</td>\n      <td>hammer</td>\n      <td>3.0</td>\n      <td>5.50</td>\n      <td>0.41250</td>\n    </tr>\n    <tr>\n      <th>3</th>\n      <td>4</td>\n      <td>screwdriver</td>\n      <td>2.5</td>\n      <td>3.00</td>\n      <td>0.22500</td>\n    </tr>\n  </tbody>\n</table>\n</div>"
     },
     "metadata": {},
     "execution_count": 16
    }
   ],
   "source": [
    "df"
   ]
  },
  {
   "source": [
    "***"
   ],
   "cell_type": "markdown",
   "metadata": {}
  },
  {
   "source": [
    "### Exercise:\n",
    "\n",
    "Add a column to `df` called `'Margin'`, which is equal to the difference between the `Price` and the `Cost to Manufacture`."
   ],
   "cell_type": "markdown",
   "metadata": {}
  },
  {
   "cell_type": "code",
   "execution_count": 17,
   "metadata": {},
   "outputs": [],
   "source": [
    "df = pd.DataFrame([\n",
    "  [1, '3 inch screw', 0.5, 0.75],\n",
    "  [2, '2 inch nail', 0.10, 0.25],\n",
    "  [3, 'hammer', 3.00, 5.50],\n",
    "  [4, 'screwdriver', 2.50, 3.00]\n",
    "],\n",
    "  columns=['Product ID', 'Description', 'Cost to Manufacture', 'Price']\n",
    ")"
   ]
  },
  {
   "cell_type": "code",
   "execution_count": 18,
   "metadata": {},
   "outputs": [],
   "source": [
    "df['Margin'] = df['Price'] - df['Cost to Manufacture']"
   ]
  },
  {
   "cell_type": "code",
   "execution_count": 19,
   "metadata": {},
   "outputs": [
    {
     "output_type": "execute_result",
     "data": {
      "text/plain": [
       "   Product ID   Description  Cost to Manufacture  Price  Margin\n",
       "0           1  3 inch screw                  0.5   0.75    0.25\n",
       "1           2   2 inch nail                  0.1   0.25    0.15\n",
       "2           3        hammer                  3.0   5.50    2.50\n",
       "3           4   screwdriver                  2.5   3.00    0.50"
      ],
      "text/html": "<div>\n<style scoped>\n    .dataframe tbody tr th:only-of-type {\n        vertical-align: middle;\n    }\n\n    .dataframe tbody tr th {\n        vertical-align: top;\n    }\n\n    .dataframe thead th {\n        text-align: right;\n    }\n</style>\n<table border=\"1\" class=\"dataframe\">\n  <thead>\n    <tr style=\"text-align: right;\">\n      <th></th>\n      <th>Product ID</th>\n      <th>Description</th>\n      <th>Cost to Manufacture</th>\n      <th>Price</th>\n      <th>Margin</th>\n    </tr>\n  </thead>\n  <tbody>\n    <tr>\n      <th>0</th>\n      <td>1</td>\n      <td>3 inch screw</td>\n      <td>0.5</td>\n      <td>0.75</td>\n      <td>0.25</td>\n    </tr>\n    <tr>\n      <th>1</th>\n      <td>2</td>\n      <td>2 inch nail</td>\n      <td>0.1</td>\n      <td>0.25</td>\n      <td>0.15</td>\n    </tr>\n    <tr>\n      <th>2</th>\n      <td>3</td>\n      <td>hammer</td>\n      <td>3.0</td>\n      <td>5.50</td>\n      <td>2.50</td>\n    </tr>\n    <tr>\n      <th>3</th>\n      <td>4</td>\n      <td>screwdriver</td>\n      <td>2.5</td>\n      <td>3.00</td>\n      <td>0.50</td>\n    </tr>\n  </tbody>\n</table>\n</div>"
     },
     "metadata": {},
     "execution_count": 19
    }
   ],
   "source": [
    "df"
   ]
  },
  {
   "source": [
    "***"
   ],
   "cell_type": "markdown",
   "metadata": {}
  },
  {
   "source": [
    "## Performing Column Operations\n",
    "\n",
    "In the previous exercise, we learned how to add columns to a DataFrame.<br>\n",
    "<br>\n",
    "Often, the column that we want to add is related to existing columns, but requires a calculation more complex than multiplication or addition.<br>\n",
    "<br>\n",
    "For example, imagine that we have the following table of customers.<br>\n",
    "<table>\n",
    "    <tr align=\"left\">\n",
    "        <th>Name</th>\n",
    "        <th>Email</th>\n",
    "    </tr>\n",
    "    <tr>\n",
    "        <td>JOHN SMITH</td>\n",
    "        <td>john.smith@gmail.com</td>\n",
    "    </tr>\n",
    "    <tr>\n",
    "        <td>Jane Doe</td>\n",
    "        <td>jdoe@yahoo.com</td>\n",
    "    </tr>\n",
    "    <tr>\n",
    "        <td>joe schmo</td>\n",
    "        <td>joeschmo@hotmail.com</td>\n",
    "    </tr>\n",
    "</table>"
   ],
   "cell_type": "markdown",
   "metadata": {}
  },
  {
   "cell_type": "code",
   "execution_count": 20,
   "metadata": {},
   "outputs": [],
   "source": [
    "df = pd.DataFrame([\n",
    "  ['JOHN SMITH', 'john.smith@gmail.com'],\n",
    "  ['Jane Doe', 'jdoe@yahoo.com'],\n",
    "  ['joe schmo', 'joeschmo@hotmail.com']\n",
    "],\n",
    "columns=['Name', 'Email'])"
   ]
  },
  {
   "source": [
    "It is a little annoying that the capitalization is different for each row. Perhaps we wouldd like to make it more consistent by making all of the letters uppercase.<br>\n",
    "<br>\n",
    "We can use the `apply` function to apply a function to every value in a particular column. For example, this code overwrites the existing `'Name'` columns by applying the `str.upper` method to every row in `'Name'`."
   ],
   "cell_type": "markdown",
   "metadata": {}
  },
  {
   "cell_type": "code",
   "execution_count": 21,
   "metadata": {},
   "outputs": [],
   "source": [
    "df['Name'] = df.Name.apply(str.upper)"
   ]
  },
  {
   "source": [
    "The result:"
   ],
   "cell_type": "markdown",
   "metadata": {}
  },
  {
   "cell_type": "code",
   "execution_count": 22,
   "metadata": {},
   "outputs": [
    {
     "output_type": "execute_result",
     "data": {
      "text/plain": [
       "         Name                 Email\n",
       "0  JOHN SMITH  john.smith@gmail.com\n",
       "1    JANE DOE        jdoe@yahoo.com\n",
       "2   JOE SCHMO  joeschmo@hotmail.com"
      ],
      "text/html": "<div>\n<style scoped>\n    .dataframe tbody tr th:only-of-type {\n        vertical-align: middle;\n    }\n\n    .dataframe tbody tr th {\n        vertical-align: top;\n    }\n\n    .dataframe thead th {\n        text-align: right;\n    }\n</style>\n<table border=\"1\" class=\"dataframe\">\n  <thead>\n    <tr style=\"text-align: right;\">\n      <th></th>\n      <th>Name</th>\n      <th>Email</th>\n    </tr>\n  </thead>\n  <tbody>\n    <tr>\n      <th>0</th>\n      <td>JOHN SMITH</td>\n      <td>john.smith@gmail.com</td>\n    </tr>\n    <tr>\n      <th>1</th>\n      <td>JANE DOE</td>\n      <td>jdoe@yahoo.com</td>\n    </tr>\n    <tr>\n      <th>2</th>\n      <td>JOE SCHMO</td>\n      <td>joeschmo@hotmail.com</td>\n    </tr>\n  </tbody>\n</table>\n</div>"
     },
     "metadata": {},
     "execution_count": 22
    }
   ],
   "source": [
    "df"
   ]
  },
  {
   "source": [
    "***"
   ],
   "cell_type": "markdown",
   "metadata": {}
  },
  {
   "source": [
    "Apply the `str.lower` to all names in column `'Name'` in `df`. Assign these new names to a new column of `df` called `'Lowercase Name'`. The final DataFrame should look like this:<br>\n",
    "<table>\n",
    "    <tr align=\"left\">\n",
    "        <th>Name</th>\n",
    "        <th>Email</th>\n",
    "        <th>Lowercase Name<th>\n",
    "    </tr>\n",
    "    <tr>\n",
    "        <td>JOHN SMITH</td>\n",
    "        <td>john.smith@gmail.com</td>\n",
    "        <td>john smith</td>\n",
    "    </tr>\n",
    "    <tr>\n",
    "        <td>Jane Doe</td>\n",
    "        <td>jdoe@yahoo.com</td>\n",
    "        <td>jane doe</td>\n",
    "    </tr>\n",
    "    <tr>\n",
    "        <td>joe schmo</td>\n",
    "        <td>joeschmo@hotmail.com</td>\n",
    "        <td>joe schmo</td>\n",
    "    </tr>\n",
    "</table>"
   ],
   "cell_type": "markdown",
   "metadata": {}
  },
  {
   "cell_type": "code",
   "execution_count": 23,
   "metadata": {},
   "outputs": [],
   "source": [
    "df = pd.DataFrame([\n",
    "  ['JOHN SMITH', 'john.smith@gmail.com'],\n",
    "  ['Jane Doe', 'jdoe@yahoo.com'],\n",
    "  ['joe schmo', 'joeschmo@hotmail.com']\n",
    "],\n",
    "columns=['Name', 'Email'])"
   ]
  },
  {
   "cell_type": "code",
   "execution_count": 24,
   "metadata": {},
   "outputs": [],
   "source": [
    "df['Lowercase Name'] = df.Name.apply(str.lower)"
   ]
  },
  {
   "cell_type": "code",
   "execution_count": 25,
   "metadata": {},
   "outputs": [
    {
     "output_type": "execute_result",
     "data": {
      "text/plain": [
       "         Name                 Email Lowercase Name\n",
       "0  JOHN SMITH  john.smith@gmail.com     john smith\n",
       "1    Jane Doe        jdoe@yahoo.com       jane doe\n",
       "2   joe schmo  joeschmo@hotmail.com      joe schmo"
      ],
      "text/html": "<div>\n<style scoped>\n    .dataframe tbody tr th:only-of-type {\n        vertical-align: middle;\n    }\n\n    .dataframe tbody tr th {\n        vertical-align: top;\n    }\n\n    .dataframe thead th {\n        text-align: right;\n    }\n</style>\n<table border=\"1\" class=\"dataframe\">\n  <thead>\n    <tr style=\"text-align: right;\">\n      <th></th>\n      <th>Name</th>\n      <th>Email</th>\n      <th>Lowercase Name</th>\n    </tr>\n  </thead>\n  <tbody>\n    <tr>\n      <th>0</th>\n      <td>JOHN SMITH</td>\n      <td>john.smith@gmail.com</td>\n      <td>john smith</td>\n    </tr>\n    <tr>\n      <th>1</th>\n      <td>Jane Doe</td>\n      <td>jdoe@yahoo.com</td>\n      <td>jane doe</td>\n    </tr>\n    <tr>\n      <th>2</th>\n      <td>joe schmo</td>\n      <td>joeschmo@hotmail.com</td>\n      <td>joe schmo</td>\n    </tr>\n  </tbody>\n</table>\n</div>"
     },
     "metadata": {},
     "execution_count": 25
    }
   ],
   "source": [
    "df"
   ]
  },
  {
   "source": [
    "***"
   ],
   "cell_type": "markdown",
   "metadata": {}
  },
  {
   "source": [
    "## Reviewing Lambda Function\n",
    "\n",
    "A <i>lambda function</i> is a way of defining a function in a single line of code. Usually, we would assign them to a variable.<br>\n",
    "<br>\n",
    "For example, the following lambda function multiplies a number by $2$ and then adds $3$:"
   ],
   "cell_type": "markdown",
   "metadata": {}
  },
  {
   "cell_type": "code",
   "execution_count": 26,
   "metadata": {},
   "outputs": [
    {
     "output_type": "stream",
     "name": "stdout",
     "text": [
      "13\n"
     ]
    }
   ],
   "source": [
    "mylambda = lambda x: (x * 2) + 3\n",
    "print(mylambda(5))"
   ]
  },
  {
   "source": [
    "Lambda functions work with all types of variables, not just integers! Here is an example that takes in a string, assigns it to the temporary variable `x`, and then converts it into lowercase:"
   ],
   "cell_type": "markdown",
   "metadata": {}
  },
  {
   "cell_type": "code",
   "execution_count": 27,
   "metadata": {},
   "outputs": [
    {
     "output_type": "stream",
     "name": "stdout",
     "text": [
      "oh hi mark!\n"
     ]
    }
   ],
   "source": [
    "stringlambda = lambda x: x.lower()\n",
    "print(stringlambda(\"Oh Hi Mark!\"))"
   ]
  },
  {
   "source": [
    "***"
   ],
   "cell_type": "markdown",
   "metadata": {}
  },
  {
   "source": [
    "### Exercise\n",
    "\n",
    "Create a lambda function `mylambda` that returns the first and last letters of a string, assuming the string is at least 2 characters long. For example,<br>\n",
    "<br>\n",
    "`print(mylambda('This is a string'))`<br>\n",
    "<br>\n",
    "should produce:<br>\n",
    "<br>\n",
    "`'Tg'`"
   ],
   "cell_type": "markdown",
   "metadata": {}
  },
  {
   "cell_type": "code",
   "execution_count": 28,
   "metadata": {},
   "outputs": [],
   "source": [
    "mylambda = lambda x: x[0] + x[-1]"
   ]
  },
  {
   "cell_type": "code",
   "execution_count": 29,
   "metadata": {},
   "outputs": [
    {
     "output_type": "stream",
     "name": "stdout",
     "text": [
      "Tg\n"
     ]
    }
   ],
   "source": [
    "print(mylambda('This is a string'))"
   ]
  },
  {
   "source": [
    "***"
   ],
   "cell_type": "markdown",
   "metadata": {}
  },
  {
   "source": [
    "## Reviewing Lambda Function: If Statements\n",
    "\n",
    "We can make our lambdas more complex by using a modified form of an if statement.<br>\n",
    "<br>\n",
    "Suppose we want to pay workers time-and-a-half for overtime (any work above 40 hours per week). The following function will convert the number of hours into time-and-a-half hours using an if statement:"
   ],
   "cell_type": "markdown",
   "metadata": {}
  },
  {
   "cell_type": "code",
   "execution_count": 30,
   "metadata": {},
   "outputs": [],
   "source": [
    "def myfunction(x):\n",
    "    if x > 40:\n",
    "        return 40 + (x - 40) * 1.50\n",
    "    else:\n",
    "        return x"
   ]
  },
  {
   "source": [
    "Below is a lambda function that does the same thing:"
   ],
   "cell_type": "markdown",
   "metadata": {}
  },
  {
   "cell_type": "code",
   "execution_count": 31,
   "metadata": {},
   "outputs": [],
   "source": [
    "myfunction = lambda x: 40 + (x - 40) * 1.50 if x > 40 else x"
   ]
  },
  {
   "source": [
    "In general, the syntax for an if function in a lambda function is:<br>\n",
    "`lambda x: [OUTCOME IF TRUE] if [CONDITIONAL] else [OUTCOME IF FALSE]`"
   ],
   "cell_type": "markdown",
   "metadata": {}
  },
  {
   "source": [
    "***"
   ],
   "cell_type": "markdown",
   "metadata": {}
  },
  {
   "source": [
    "### Exercise\n",
    "\n",
    "You are managing the webpage of a somewhat violent video game and you want to check that each user's age is 13 or greater when they visit the site.<br>\n",
    "<br>\n",
    "Write a lambda function that takes an inputted age and either returns `Welcome to BattleCity!` if the user is 13 or older or `You must be over 13` if they are younger than 13. Your lambda function should be called `mylambda`."
   ],
   "cell_type": "markdown",
   "metadata": {}
  },
  {
   "cell_type": "code",
   "execution_count": 32,
   "metadata": {},
   "outputs": [],
   "source": [
    "mylambda = lambda x: 'Welcome to BattleCity' if x >= 13 else 'You must be over 13'"
   ]
  },
  {
   "source": [
    "***"
   ],
   "cell_type": "markdown",
   "metadata": {}
  },
  {
   "source": [
    "## Applying a Lambda to a Column\n",
    "\n",
    "In Pandas, we often use lambda functions to perform complex operations on columns. For example, suppose that we want to create a column containing the email provider for each email address in the following table:"
   ],
   "cell_type": "markdown",
   "metadata": {}
  },
  {
   "cell_type": "code",
   "execution_count": 33,
   "metadata": {},
   "outputs": [
    {
     "output_type": "execute_result",
     "data": {
      "text/plain": [
       "         Name                 Email\n",
       "0  JOHN SMITH  john.smith@gmail.com\n",
       "1    Jane Doe        jdoe@yahoo.com\n",
       "2   joe schmo  joeschmo@hotmail.com"
      ],
      "text/html": "<div>\n<style scoped>\n    .dataframe tbody tr th:only-of-type {\n        vertical-align: middle;\n    }\n\n    .dataframe tbody tr th {\n        vertical-align: top;\n    }\n\n    .dataframe thead th {\n        text-align: right;\n    }\n</style>\n<table border=\"1\" class=\"dataframe\">\n  <thead>\n    <tr style=\"text-align: right;\">\n      <th></th>\n      <th>Name</th>\n      <th>Email</th>\n    </tr>\n  </thead>\n  <tbody>\n    <tr>\n      <th>0</th>\n      <td>JOHN SMITH</td>\n      <td>john.smith@gmail.com</td>\n    </tr>\n    <tr>\n      <th>1</th>\n      <td>Jane Doe</td>\n      <td>jdoe@yahoo.com</td>\n    </tr>\n    <tr>\n      <th>2</th>\n      <td>joe schmo</td>\n      <td>joeschmo@hotmail.com</td>\n    </tr>\n  </tbody>\n</table>\n</div>"
     },
     "metadata": {},
     "execution_count": 33
    }
   ],
   "source": [
    "df = pd.DataFrame([\n",
    "  ['JOHN SMITH', 'john.smith@gmail.com'],\n",
    "  ['Jane Doe', 'jdoe@yahoo.com'],\n",
    "  ['joe schmo', 'joeschmo@hotmail.com']\n",
    "],\n",
    "columns=['Name', 'Email'])\n",
    "\n",
    "df"
   ]
  },
  {
   "source": [
    "We could use the following code with a lambda function and the string method `.split()`:"
   ],
   "cell_type": "markdown",
   "metadata": {}
  },
  {
   "cell_type": "code",
   "execution_count": 34,
   "metadata": {},
   "outputs": [],
   "source": [
    "df['Email Provider'] = df.Email.apply(\n",
    "    lambda x: x.split('@')[-1]\n",
    "    )"
   ]
  },
  {
   "source": [
    "The result is:"
   ],
   "cell_type": "markdown",
   "metadata": {}
  },
  {
   "cell_type": "code",
   "execution_count": 35,
   "metadata": {},
   "outputs": [
    {
     "output_type": "execute_result",
     "data": {
      "text/plain": [
       "         Name                 Email Email Provider\n",
       "0  JOHN SMITH  john.smith@gmail.com      gmail.com\n",
       "1    Jane Doe        jdoe@yahoo.com      yahoo.com\n",
       "2   joe schmo  joeschmo@hotmail.com    hotmail.com"
      ],
      "text/html": "<div>\n<style scoped>\n    .dataframe tbody tr th:only-of-type {\n        vertical-align: middle;\n    }\n\n    .dataframe tbody tr th {\n        vertical-align: top;\n    }\n\n    .dataframe thead th {\n        text-align: right;\n    }\n</style>\n<table border=\"1\" class=\"dataframe\">\n  <thead>\n    <tr style=\"text-align: right;\">\n      <th></th>\n      <th>Name</th>\n      <th>Email</th>\n      <th>Email Provider</th>\n    </tr>\n  </thead>\n  <tbody>\n    <tr>\n      <th>0</th>\n      <td>JOHN SMITH</td>\n      <td>john.smith@gmail.com</td>\n      <td>gmail.com</td>\n    </tr>\n    <tr>\n      <th>1</th>\n      <td>Jane Doe</td>\n      <td>jdoe@yahoo.com</td>\n      <td>yahoo.com</td>\n    </tr>\n    <tr>\n      <th>2</th>\n      <td>joe schmo</td>\n      <td>joeschmo@hotmail.com</td>\n      <td>hotmail.com</td>\n    </tr>\n  </tbody>\n</table>\n</div>"
     },
     "metadata": {},
     "execution_count": 35
    }
   ],
   "source": [
    "df"
   ]
  },
  {
   "source": [
    "***"
   ],
   "cell_type": "markdown",
   "metadata": {}
  },
  {
   "source": [
    "### Exercise\n",
    "\n",
    "Create a lambda function `get_last_name` which takes a string with someone's first and last name (i.e., `John Smith`), and returns just the last name (i.e., `Smith`)."
   ],
   "cell_type": "markdown",
   "metadata": {}
  },
  {
   "cell_type": "code",
   "execution_count": 36,
   "metadata": {},
   "outputs": [],
   "source": [
    "get_last_name = lambda x: x.split()[-1]"
   ]
  },
  {
   "cell_type": "code",
   "execution_count": 37,
   "metadata": {},
   "outputs": [
    {
     "output_type": "stream",
     "name": "stdout",
     "text": [
      "Smith\n"
     ]
    }
   ],
   "source": [
    "print(get_last_name('John Smith'))"
   ]
  },
  {
   "source": [
    "***"
   ],
   "cell_type": "markdown",
   "metadata": {}
  },
  {
   "source": [
    "The DataFrame `df` represents the hours worked by different employees over the course of the week. It contains the following columns:\n",
    "\n",
    "* `'name'`: The employee’s name\n",
    "* `'hourly_wage'`: The employee’s hourly wage\n",
    "* `'hours_worked'`: The number of hours worked this week\n",
    "\n",
    "Use the lambda function `get_last_name` to create a new column `last_name` with only the employees' last name."
   ],
   "cell_type": "markdown",
   "metadata": {}
  },
  {
   "cell_type": "code",
   "execution_count": 38,
   "metadata": {},
   "outputs": [
    {
     "output_type": "execute_result",
     "data": {
      "text/plain": [
       "      id               name  hourly_wage  hours_worked\n",
       "0  10310      Lauren Durham           19            43\n",
       "1  18656      Grace Sellers           17            40\n",
       "2  61254  Shirley Rasmussen           16            30\n",
       "3  16886        Brian Rojas           18            47\n",
       "4  89010    Samantha Mosley           11            38"
      ],
      "text/html": "<div>\n<style scoped>\n    .dataframe tbody tr th:only-of-type {\n        vertical-align: middle;\n    }\n\n    .dataframe tbody tr th {\n        vertical-align: top;\n    }\n\n    .dataframe thead th {\n        text-align: right;\n    }\n</style>\n<table border=\"1\" class=\"dataframe\">\n  <thead>\n    <tr style=\"text-align: right;\">\n      <th></th>\n      <th>id</th>\n      <th>name</th>\n      <th>hourly_wage</th>\n      <th>hours_worked</th>\n    </tr>\n  </thead>\n  <tbody>\n    <tr>\n      <th>0</th>\n      <td>10310</td>\n      <td>Lauren Durham</td>\n      <td>19</td>\n      <td>43</td>\n    </tr>\n    <tr>\n      <th>1</th>\n      <td>18656</td>\n      <td>Grace Sellers</td>\n      <td>17</td>\n      <td>40</td>\n    </tr>\n    <tr>\n      <th>2</th>\n      <td>61254</td>\n      <td>Shirley Rasmussen</td>\n      <td>16</td>\n      <td>30</td>\n    </tr>\n    <tr>\n      <th>3</th>\n      <td>16886</td>\n      <td>Brian Rojas</td>\n      <td>18</td>\n      <td>47</td>\n    </tr>\n    <tr>\n      <th>4</th>\n      <td>89010</td>\n      <td>Samantha Mosley</td>\n      <td>11</td>\n      <td>38</td>\n    </tr>\n  </tbody>\n</table>\n</div>"
     },
     "metadata": {},
     "execution_count": 38
    }
   ],
   "source": [
    "df = pd.read_csv('employees.csv')\n",
    "df.head()"
   ]
  },
  {
   "cell_type": "code",
   "execution_count": 39,
   "metadata": {},
   "outputs": [
    {
     "output_type": "execute_result",
     "data": {
      "text/plain": [
       "      id               name  hourly_wage  hours_worked  last_name\n",
       "0  10310      Lauren Durham           19            43     Durham\n",
       "1  18656      Grace Sellers           17            40    Sellers\n",
       "2  61254  Shirley Rasmussen           16            30  Rasmussen\n",
       "3  16886        Brian Rojas           18            47      Rojas\n",
       "4  89010    Samantha Mosley           11            38     Mosley"
      ],
      "text/html": "<div>\n<style scoped>\n    .dataframe tbody tr th:only-of-type {\n        vertical-align: middle;\n    }\n\n    .dataframe tbody tr th {\n        vertical-align: top;\n    }\n\n    .dataframe thead th {\n        text-align: right;\n    }\n</style>\n<table border=\"1\" class=\"dataframe\">\n  <thead>\n    <tr style=\"text-align: right;\">\n      <th></th>\n      <th>id</th>\n      <th>name</th>\n      <th>hourly_wage</th>\n      <th>hours_worked</th>\n      <th>last_name</th>\n    </tr>\n  </thead>\n  <tbody>\n    <tr>\n      <th>0</th>\n      <td>10310</td>\n      <td>Lauren Durham</td>\n      <td>19</td>\n      <td>43</td>\n      <td>Durham</td>\n    </tr>\n    <tr>\n      <th>1</th>\n      <td>18656</td>\n      <td>Grace Sellers</td>\n      <td>17</td>\n      <td>40</td>\n      <td>Sellers</td>\n    </tr>\n    <tr>\n      <th>2</th>\n      <td>61254</td>\n      <td>Shirley Rasmussen</td>\n      <td>16</td>\n      <td>30</td>\n      <td>Rasmussen</td>\n    </tr>\n    <tr>\n      <th>3</th>\n      <td>16886</td>\n      <td>Brian Rojas</td>\n      <td>18</td>\n      <td>47</td>\n      <td>Rojas</td>\n    </tr>\n    <tr>\n      <th>4</th>\n      <td>89010</td>\n      <td>Samantha Mosley</td>\n      <td>11</td>\n      <td>38</td>\n      <td>Mosley</td>\n    </tr>\n  </tbody>\n</table>\n</div>"
     },
     "metadata": {},
     "execution_count": 39
    }
   ],
   "source": [
    "df['last_name'] = df.name.apply(\n",
    "    get_last_name\n",
    ")\n",
    "\n",
    "df.head()"
   ]
  },
  {
   "source": [
    "***"
   ],
   "cell_type": "markdown",
   "metadata": {}
  },
  {
   "source": [
    "## Applying a Lambda to a Row\n",
    "\n",
    "We can also operate on multiple columns at once. If we use `apply` without specifying a single column and add the argument `axis=1`, the input to our lambda function will be an entire row, not a column. To access particular values of the row, we use the syntax `row.column_name` or `row['column_name']`.<br>\n",
    "<br>\n",
    "Suppose we have a table representing a grocery list:"
   ],
   "cell_type": "markdown",
   "metadata": {}
  },
  {
   "cell_type": "code",
   "execution_count": 40,
   "metadata": {},
   "outputs": [
    {
     "output_type": "execute_result",
     "data": {
      "text/plain": [
       "           Item  Price Is taxed?\n",
       "0         Apple   1.00        No\n",
       "1          Milk   4.20        No\n",
       "2  Paper Towels   5.00       Yes\n",
       "3   Light Bulbs   3.75       Yes"
      ],
      "text/html": "<div>\n<style scoped>\n    .dataframe tbody tr th:only-of-type {\n        vertical-align: middle;\n    }\n\n    .dataframe tbody tr th {\n        vertical-align: top;\n    }\n\n    .dataframe thead th {\n        text-align: right;\n    }\n</style>\n<table border=\"1\" class=\"dataframe\">\n  <thead>\n    <tr style=\"text-align: right;\">\n      <th></th>\n      <th>Item</th>\n      <th>Price</th>\n      <th>Is taxed?</th>\n    </tr>\n  </thead>\n  <tbody>\n    <tr>\n      <th>0</th>\n      <td>Apple</td>\n      <td>1.00</td>\n      <td>No</td>\n    </tr>\n    <tr>\n      <th>1</th>\n      <td>Milk</td>\n      <td>4.20</td>\n      <td>No</td>\n    </tr>\n    <tr>\n      <th>2</th>\n      <td>Paper Towels</td>\n      <td>5.00</td>\n      <td>Yes</td>\n    </tr>\n    <tr>\n      <th>3</th>\n      <td>Light Bulbs</td>\n      <td>3.75</td>\n      <td>Yes</td>\n    </tr>\n  </tbody>\n</table>\n</div>"
     },
     "metadata": {},
     "execution_count": 40
    }
   ],
   "source": [
    "df = pd.DataFrame([\n",
    "  ['Apple', 1.00, 'No'],\n",
    "  ['Milk', 4.20, 'No'],\n",
    "  ['Paper Towels', 5.00, 'Yes'],\n",
    "  ['Light Bulbs', 3.75, 'Yes']\n",
    "],\n",
    "columns=['Item', 'Price', 'Is taxed?'])\n",
    "\n",
    "df"
   ]
  },
  {
   "source": [
    "If we want to add in the price with tax for each line, we'll need to look at two columns: `Price` and `Is taxed?`.<br>\n",
    "<br>\n",
    "If `Is taxed?` is `Yes`, then we'll want to multiply `Price` by `1.075` (for $7.5\\%$ sales tax).<br>\n",
    "<br>\n",
    "If `Is taxed?` is `No`, we'll just have `Price` without multiplying it.<br>\n",
    "<br>\n",
    "We can create this column using a lambda function and the keyword `axis=1`:"
   ],
   "cell_type": "markdown",
   "metadata": {}
  },
  {
   "cell_type": "code",
   "execution_count": 41,
   "metadata": {},
   "outputs": [
    {
     "output_type": "execute_result",
     "data": {
      "text/plain": [
       "           Item  Price Is taxed?  Price with Tax\n",
       "0         Apple   1.00        No         1.00000\n",
       "1          Milk   4.20        No         4.20000\n",
       "2  Paper Towels   5.00       Yes         5.37500\n",
       "3   Light Bulbs   3.75       Yes         4.03125"
      ],
      "text/html": "<div>\n<style scoped>\n    .dataframe tbody tr th:only-of-type {\n        vertical-align: middle;\n    }\n\n    .dataframe tbody tr th {\n        vertical-align: top;\n    }\n\n    .dataframe thead th {\n        text-align: right;\n    }\n</style>\n<table border=\"1\" class=\"dataframe\">\n  <thead>\n    <tr style=\"text-align: right;\">\n      <th></th>\n      <th>Item</th>\n      <th>Price</th>\n      <th>Is taxed?</th>\n      <th>Price with Tax</th>\n    </tr>\n  </thead>\n  <tbody>\n    <tr>\n      <th>0</th>\n      <td>Apple</td>\n      <td>1.00</td>\n      <td>No</td>\n      <td>1.00000</td>\n    </tr>\n    <tr>\n      <th>1</th>\n      <td>Milk</td>\n      <td>4.20</td>\n      <td>No</td>\n      <td>4.20000</td>\n    </tr>\n    <tr>\n      <th>2</th>\n      <td>Paper Towels</td>\n      <td>5.00</td>\n      <td>Yes</td>\n      <td>5.37500</td>\n    </tr>\n    <tr>\n      <th>3</th>\n      <td>Light Bulbs</td>\n      <td>3.75</td>\n      <td>Yes</td>\n      <td>4.03125</td>\n    </tr>\n  </tbody>\n</table>\n</div>"
     },
     "metadata": {},
     "execution_count": 41
    }
   ],
   "source": [
    "df['Price with Tax'] = df.apply(lambda row:\n",
    "     row['Price'] * 1.075\n",
    "     if row['Is taxed?'] == 'Yes'\n",
    "     else row['Price'],\n",
    "     axis=1\n",
    ")\n",
    "\n",
    "df"
   ]
  },
  {
   "source": [
    "***"
   ],
   "cell_type": "markdown",
   "metadata": {}
  },
  {
   "source": [
    "### Exercise\n",
    "\n",
    "If an employee worked for more than $40$ hours, she needs to be paid overtime ($1.5$ times the normal hourly wage).<br>\n",
    "<br>\n",
    "For instance, if an employee worked for $43$ hours and made \\$$10$/hour, she would receive \\$$400$ for the first $40$ hours that she worked, and an additional \\$$45$ for the $3$ hours of overtime, for a total for \\$$445$.<br>\n",
    "<br>\n",
    "Create a lambda function `total_earned` that accepts an input row with keys `hours_worked` and `hourly_wage` and uses an if statement to calculate the hourly wage."
   ],
   "cell_type": "markdown",
   "metadata": {}
  },
  {
   "cell_type": "code",
   "execution_count": 42,
   "metadata": {},
   "outputs": [],
   "source": [
    "total_earned = lambda row: (row['hours_worked'] * row['hourly_wage']) if row['hours_worked'] < 40 \\\n",
    "                           else \\\n",
    "                           (40 * row['hourly_wage'] + ((row['hours_worked'] - 40) * row['hourly_wage'] * 1.5))"
   ]
  },
  {
   "source": [
    "Use the lambda function `total_earned` and `apply` to add a column `total_earned` to `df` with the total amount earned by each employee."
   ],
   "cell_type": "markdown",
   "metadata": {}
  },
  {
   "cell_type": "code",
   "execution_count": 43,
   "metadata": {},
   "outputs": [
    {
     "output_type": "execute_result",
     "data": {
      "text/plain": [
       "      id               name  hourly_wage  hours_worked\n",
       "0  10310      Lauren Durham           19            43\n",
       "1  18656      Grace Sellers           17            40\n",
       "2  61254  Shirley Rasmussen           16            30\n",
       "3  16886        Brian Rojas           18            47\n",
       "4  89010    Samantha Mosley           11            38"
      ],
      "text/html": "<div>\n<style scoped>\n    .dataframe tbody tr th:only-of-type {\n        vertical-align: middle;\n    }\n\n    .dataframe tbody tr th {\n        vertical-align: top;\n    }\n\n    .dataframe thead th {\n        text-align: right;\n    }\n</style>\n<table border=\"1\" class=\"dataframe\">\n  <thead>\n    <tr style=\"text-align: right;\">\n      <th></th>\n      <th>id</th>\n      <th>name</th>\n      <th>hourly_wage</th>\n      <th>hours_worked</th>\n    </tr>\n  </thead>\n  <tbody>\n    <tr>\n      <th>0</th>\n      <td>10310</td>\n      <td>Lauren Durham</td>\n      <td>19</td>\n      <td>43</td>\n    </tr>\n    <tr>\n      <th>1</th>\n      <td>18656</td>\n      <td>Grace Sellers</td>\n      <td>17</td>\n      <td>40</td>\n    </tr>\n    <tr>\n      <th>2</th>\n      <td>61254</td>\n      <td>Shirley Rasmussen</td>\n      <td>16</td>\n      <td>30</td>\n    </tr>\n    <tr>\n      <th>3</th>\n      <td>16886</td>\n      <td>Brian Rojas</td>\n      <td>18</td>\n      <td>47</td>\n    </tr>\n    <tr>\n      <th>4</th>\n      <td>89010</td>\n      <td>Samantha Mosley</td>\n      <td>11</td>\n      <td>38</td>\n    </tr>\n  </tbody>\n</table>\n</div>"
     },
     "metadata": {},
     "execution_count": 43
    }
   ],
   "source": [
    "df = pd.read_csv('employees.csv')\n",
    "\n",
    "df.head()"
   ]
  },
  {
   "cell_type": "code",
   "execution_count": 44,
   "metadata": {},
   "outputs": [
    {
     "output_type": "execute_result",
     "data": {
      "text/plain": [
       "      id               name  hourly_wage  hours_worked  total_earned\n",
       "0  10310      Lauren Durham           19            43         845.5\n",
       "1  18656      Grace Sellers           17            40         680.0\n",
       "2  61254  Shirley Rasmussen           16            30         480.0\n",
       "3  16886        Brian Rojas           18            47         909.0\n",
       "4  89010    Samantha Mosley           11            38         418.0"
      ],
      "text/html": "<div>\n<style scoped>\n    .dataframe tbody tr th:only-of-type {\n        vertical-align: middle;\n    }\n\n    .dataframe tbody tr th {\n        vertical-align: top;\n    }\n\n    .dataframe thead th {\n        text-align: right;\n    }\n</style>\n<table border=\"1\" class=\"dataframe\">\n  <thead>\n    <tr style=\"text-align: right;\">\n      <th></th>\n      <th>id</th>\n      <th>name</th>\n      <th>hourly_wage</th>\n      <th>hours_worked</th>\n      <th>total_earned</th>\n    </tr>\n  </thead>\n  <tbody>\n    <tr>\n      <th>0</th>\n      <td>10310</td>\n      <td>Lauren Durham</td>\n      <td>19</td>\n      <td>43</td>\n      <td>845.5</td>\n    </tr>\n    <tr>\n      <th>1</th>\n      <td>18656</td>\n      <td>Grace Sellers</td>\n      <td>17</td>\n      <td>40</td>\n      <td>680.0</td>\n    </tr>\n    <tr>\n      <th>2</th>\n      <td>61254</td>\n      <td>Shirley Rasmussen</td>\n      <td>16</td>\n      <td>30</td>\n      <td>480.0</td>\n    </tr>\n    <tr>\n      <th>3</th>\n      <td>16886</td>\n      <td>Brian Rojas</td>\n      <td>18</td>\n      <td>47</td>\n      <td>909.0</td>\n    </tr>\n    <tr>\n      <th>4</th>\n      <td>89010</td>\n      <td>Samantha Mosley</td>\n      <td>11</td>\n      <td>38</td>\n      <td>418.0</td>\n    </tr>\n  </tbody>\n</table>\n</div>"
     },
     "metadata": {},
     "execution_count": 44
    }
   ],
   "source": [
    "df['total_earned'] = df.apply(total_earned, axis=1)\n",
    "\n",
    "df.head()"
   ]
  },
  {
   "source": [
    "***"
   ],
   "cell_type": "markdown",
   "metadata": {}
  },
  {
   "source": [
    "## Renaming Columns\n",
    "\n",
    "When we get our data from other sources, we often want to change the column names. For example, we might want all of the column names to follow variable name rules, so that we can use `df.column_name` (which tab-completes) rather than `df['column_name']` (which takes up extra space).<br>\n",
    "<br>\n",
    "You can change all of the column names at once by setting the `.columns` property to a different list. This is great when you need to change all of the column names at once, but be careful! You can easily mislabel columns if you get the ordering wrong. Here’s an example:"
   ],
   "cell_type": "markdown",
   "metadata": {}
  },
  {
   "cell_type": "code",
   "execution_count": 45,
   "metadata": {},
   "outputs": [
    {
     "output_type": "execute_result",
     "data": {
      "text/plain": [
       "  First Name  Age\n",
       "0       John   23\n",
       "1       Jane   29\n",
       "2        Sue   21\n",
       "3       Fred   18"
      ],
      "text/html": "<div>\n<style scoped>\n    .dataframe tbody tr th:only-of-type {\n        vertical-align: middle;\n    }\n\n    .dataframe tbody tr th {\n        vertical-align: top;\n    }\n\n    .dataframe thead th {\n        text-align: right;\n    }\n</style>\n<table border=\"1\" class=\"dataframe\">\n  <thead>\n    <tr style=\"text-align: right;\">\n      <th></th>\n      <th>First Name</th>\n      <th>Age</th>\n    </tr>\n  </thead>\n  <tbody>\n    <tr>\n      <th>0</th>\n      <td>John</td>\n      <td>23</td>\n    </tr>\n    <tr>\n      <th>1</th>\n      <td>Jane</td>\n      <td>29</td>\n    </tr>\n    <tr>\n      <th>2</th>\n      <td>Sue</td>\n      <td>21</td>\n    </tr>\n    <tr>\n      <th>3</th>\n      <td>Fred</td>\n      <td>18</td>\n    </tr>\n  </tbody>\n</table>\n</div>"
     },
     "metadata": {},
     "execution_count": 45
    }
   ],
   "source": [
    "df = pd.DataFrame({\n",
    "    'name': ['John', 'Jane', 'Sue', 'Fred'],\n",
    "    'age': [23, 29, 21, 18]\n",
    "})\n",
    "df.columns = ['First Name', 'Age']\n",
    "df"
   ]
  },
  {
   "source": [
    "***"
   ],
   "cell_type": "markdown",
   "metadata": {}
  },
  {
   "source": [
    "### Exercise\n",
    "\n",
    "The DataFrame `df` contains data about movies from IMDb.<br>\n",
    "<br>\n",
    "We want to present this data to some film producers. Right now, our column names are in lower case, and are not very descriptive. Let us modify `df` using the `.columns` attribute to make the following changes to the columns:\n",
    "<table width=20%>\n",
    "    <tr align=\"left\">\n",
    "        <th>Old</th>\n",
    "        <th>New</th>\n",
    "    </tr>\n",
    "    <tr>\n",
    "        <td>id</td>\n",
    "        <td>ID</td>\n",
    "    </tr>\n",
    "    <tr>\n",
    "        <td>name</td>\n",
    "        <td>Title</td>\n",
    "    </tr>\n",
    "    <tr>\n",
    "        <td>genre</td>\n",
    "        <td>Category</td>\n",
    "    </tr>\n",
    "    <tr>\n",
    "        <td>year</td>\n",
    "        <td>Year Released</td>\n",
    "    </tr>\n",
    "    <tr>\n",
    "        <td>imdb_rating</td>\n",
    "        <td>Rating</td>\n",
    "    </tr>\n",
    "</table>"
   ],
   "cell_type": "markdown",
   "metadata": {}
  },
  {
   "cell_type": "code",
   "execution_count": 46,
   "metadata": {},
   "outputs": [
    {
     "output_type": "execute_result",
     "data": {
      "text/plain": [
       "   ID                                      Title Category  Year Released  \\\n",
       "0   1                                     Avatar   action           2009   \n",
       "1   2                             Jurassic World   action           2015   \n",
       "2   3                               The Avengers   action           2012   \n",
       "3   4                            The Dark Knight   action           2008   \n",
       "4   5  Star Wars: Episode I - The Phantom Menace   action           1999   \n",
       "\n",
       "   Rating  \n",
       "0     7.9  \n",
       "1     7.3  \n",
       "2     8.1  \n",
       "3     9.0  \n",
       "4     6.6  "
      ],
      "text/html": "<div>\n<style scoped>\n    .dataframe tbody tr th:only-of-type {\n        vertical-align: middle;\n    }\n\n    .dataframe tbody tr th {\n        vertical-align: top;\n    }\n\n    .dataframe thead th {\n        text-align: right;\n    }\n</style>\n<table border=\"1\" class=\"dataframe\">\n  <thead>\n    <tr style=\"text-align: right;\">\n      <th></th>\n      <th>ID</th>\n      <th>Title</th>\n      <th>Category</th>\n      <th>Year Released</th>\n      <th>Rating</th>\n    </tr>\n  </thead>\n  <tbody>\n    <tr>\n      <th>0</th>\n      <td>1</td>\n      <td>Avatar</td>\n      <td>action</td>\n      <td>2009</td>\n      <td>7.9</td>\n    </tr>\n    <tr>\n      <th>1</th>\n      <td>2</td>\n      <td>Jurassic World</td>\n      <td>action</td>\n      <td>2015</td>\n      <td>7.3</td>\n    </tr>\n    <tr>\n      <th>2</th>\n      <td>3</td>\n      <td>The Avengers</td>\n      <td>action</td>\n      <td>2012</td>\n      <td>8.1</td>\n    </tr>\n    <tr>\n      <th>3</th>\n      <td>4</td>\n      <td>The Dark Knight</td>\n      <td>action</td>\n      <td>2008</td>\n      <td>9.0</td>\n    </tr>\n    <tr>\n      <th>4</th>\n      <td>5</td>\n      <td>Star Wars: Episode I - The Phantom Menace</td>\n      <td>action</td>\n      <td>1999</td>\n      <td>6.6</td>\n    </tr>\n  </tbody>\n</table>\n</div>"
     },
     "metadata": {},
     "execution_count": 46
    }
   ],
   "source": [
    "df = pd.read_csv('imdb.csv')\n",
    "\n",
    "df.columns = ['ID', 'Title', 'Category', 'Year Released', 'Rating']\n",
    "\n",
    "df.head()"
   ]
  },
  {
   "source": [
    "## Renaming Columns II\n",
    "\n",
    "You also can rename individual columns by using the `.rename` method. Pass a dictionary like the one below to the `columns` keyword argument:"
   ],
   "cell_type": "markdown",
   "metadata": {}
  },
  {
   "cell_type": "code",
   "execution_count": 47,
   "metadata": {},
   "outputs": [],
   "source": [
    "name_dict = {'old_column_name1': 'new_column_name1', 'old_column_name2': 'new_column_name2'}"
   ]
  },
  {
   "source": [
    "Here's an example:"
   ],
   "cell_type": "markdown",
   "metadata": {}
  },
  {
   "cell_type": "code",
   "execution_count": 48,
   "metadata": {},
   "outputs": [],
   "source": [
    "df = pd.DataFrame({\n",
    "    'name': ['John', 'Jane', 'Sue', 'Fred'],\n",
    "    'age': [23, 29, 21, 18]\n",
    "})\n",
    "df.rename(columns={\n",
    "    'name': 'First Name',\n",
    "    'age': 'Age'},\n",
    "    inplace=True)"
   ]
  },
  {
   "source": [
    "The code above will rename `name` to `First Name` and `age` to `Age`.<br>\n",
    "<br>\n",
    "Using `rename` with only the `columns` keyword will create a <b>new</b> DataFrame, leaving your original DataFrame unchanged. That's why we also passed in the keyword argument <b>`inplace=True`</b>. Using `inplace=True` lets us edit the original DataFrame.<br>\n",
    "<br>\n",
    "There are several reasons why `.rename` is preferable to `.columns`:\n",
    "* You can rename just one column\n",
    "* You can be specific about which column names are getting changed (with `.column` you can accidentally switch column names if you are not careful)\n",
    "\n",
    "<i>*Note:</i> *If you misspell one of the original column names, this command will not fail. It just will not change anything."
   ],
   "cell_type": "markdown",
   "metadata": {}
  },
  {
   "source": [
    "***"
   ],
   "cell_type": "markdown",
   "metadata": {}
  },
  {
   "source": [
    "### Exercise\n",
    "If we did not know that `df` was a table of movie ratings, the column name might be confusing.<br>\n",
    "<br>\n",
    "To clarify, let us rename `name` to `movie_title`.<br>\n",
    "<br>\n",
    "Use the keyword `inplace=True` so that you modify `df` rather than creating a new DataFrame!"
   ],
   "cell_type": "markdown",
   "metadata": {}
  },
  {
   "cell_type": "code",
   "execution_count": 49,
   "metadata": {},
   "outputs": [
    {
     "output_type": "execute_result",
     "data": {
      "text/plain": [
       "   id                                       name   genre  year  imdb_rating\n",
       "0   1                                     Avatar  action  2009          7.9\n",
       "1   2                             Jurassic World  action  2015          7.3\n",
       "2   3                               The Avengers  action  2012          8.1\n",
       "3   4                            The Dark Knight  action  2008          9.0\n",
       "4   5  Star Wars: Episode I - The Phantom Menace  action  1999          6.6"
      ],
      "text/html": "<div>\n<style scoped>\n    .dataframe tbody tr th:only-of-type {\n        vertical-align: middle;\n    }\n\n    .dataframe tbody tr th {\n        vertical-align: top;\n    }\n\n    .dataframe thead th {\n        text-align: right;\n    }\n</style>\n<table border=\"1\" class=\"dataframe\">\n  <thead>\n    <tr style=\"text-align: right;\">\n      <th></th>\n      <th>id</th>\n      <th>name</th>\n      <th>genre</th>\n      <th>year</th>\n      <th>imdb_rating</th>\n    </tr>\n  </thead>\n  <tbody>\n    <tr>\n      <th>0</th>\n      <td>1</td>\n      <td>Avatar</td>\n      <td>action</td>\n      <td>2009</td>\n      <td>7.9</td>\n    </tr>\n    <tr>\n      <th>1</th>\n      <td>2</td>\n      <td>Jurassic World</td>\n      <td>action</td>\n      <td>2015</td>\n      <td>7.3</td>\n    </tr>\n    <tr>\n      <th>2</th>\n      <td>3</td>\n      <td>The Avengers</td>\n      <td>action</td>\n      <td>2012</td>\n      <td>8.1</td>\n    </tr>\n    <tr>\n      <th>3</th>\n      <td>4</td>\n      <td>The Dark Knight</td>\n      <td>action</td>\n      <td>2008</td>\n      <td>9.0</td>\n    </tr>\n    <tr>\n      <th>4</th>\n      <td>5</td>\n      <td>Star Wars: Episode I - The Phantom Menace</td>\n      <td>action</td>\n      <td>1999</td>\n      <td>6.6</td>\n    </tr>\n  </tbody>\n</table>\n</div>"
     },
     "metadata": {},
     "execution_count": 49
    }
   ],
   "source": [
    "df = pd.read_csv('imdb.csv')\n",
    "\n",
    "df.head()"
   ]
  },
  {
   "cell_type": "code",
   "execution_count": 50,
   "metadata": {},
   "outputs": [
    {
     "output_type": "execute_result",
     "data": {
      "text/plain": [
       "   id                                movie_title   genre  year  imdb_rating\n",
       "0   1                                     Avatar  action  2009          7.9\n",
       "1   2                             Jurassic World  action  2015          7.3\n",
       "2   3                               The Avengers  action  2012          8.1\n",
       "3   4                            The Dark Knight  action  2008          9.0\n",
       "4   5  Star Wars: Episode I - The Phantom Menace  action  1999          6.6"
      ],
      "text/html": "<div>\n<style scoped>\n    .dataframe tbody tr th:only-of-type {\n        vertical-align: middle;\n    }\n\n    .dataframe tbody tr th {\n        vertical-align: top;\n    }\n\n    .dataframe thead th {\n        text-align: right;\n    }\n</style>\n<table border=\"1\" class=\"dataframe\">\n  <thead>\n    <tr style=\"text-align: right;\">\n      <th></th>\n      <th>id</th>\n      <th>movie_title</th>\n      <th>genre</th>\n      <th>year</th>\n      <th>imdb_rating</th>\n    </tr>\n  </thead>\n  <tbody>\n    <tr>\n      <th>0</th>\n      <td>1</td>\n      <td>Avatar</td>\n      <td>action</td>\n      <td>2009</td>\n      <td>7.9</td>\n    </tr>\n    <tr>\n      <th>1</th>\n      <td>2</td>\n      <td>Jurassic World</td>\n      <td>action</td>\n      <td>2015</td>\n      <td>7.3</td>\n    </tr>\n    <tr>\n      <th>2</th>\n      <td>3</td>\n      <td>The Avengers</td>\n      <td>action</td>\n      <td>2012</td>\n      <td>8.1</td>\n    </tr>\n    <tr>\n      <th>3</th>\n      <td>4</td>\n      <td>The Dark Knight</td>\n      <td>action</td>\n      <td>2008</td>\n      <td>9.0</td>\n    </tr>\n    <tr>\n      <th>4</th>\n      <td>5</td>\n      <td>Star Wars: Episode I - The Phantom Menace</td>\n      <td>action</td>\n      <td>1999</td>\n      <td>6.6</td>\n    </tr>\n  </tbody>\n</table>\n</div>"
     },
     "metadata": {},
     "execution_count": 50
    }
   ],
   "source": [
    "df.rename(columns={\n",
    "    'name': 'movie_title'},\n",
    "    inplace=True)\n",
    "\n",
    "df.head()"
   ]
  },
  {
   "source": [
    "***"
   ],
   "cell_type": "markdown",
   "metadata": {}
  },
  {
   "source": [
    "## Review\n",
    "\n",
    "Great job! In this lesson, you learned how to modify an existing DataFrame. Some of the skills you have learned include:\n",
    "* Adding columns to a DataFrame\n",
    "* Using lambda functions to calculate complex quantities\n",
    "* Renaming columns\n",
    "\n",
    "Let’s practice what you just learned!\n"
   ],
   "cell_type": "markdown",
   "metadata": {}
  },
  {
   "source": [
    "***"
   ],
   "cell_type": "markdown",
   "metadata": {}
  },
  {
   "source": [
    "Once more, you willl be the data analyst for ShoeFly.com, a fictional online shoe store.<br>\n",
    "<br>\n",
    "More messy order data has been loaded into the variable `orders`. Examine the first 5 rows of the data using `print` and `head`."
   ],
   "cell_type": "markdown",
   "metadata": {}
  },
  {
   "cell_type": "code",
   "execution_count": 51,
   "metadata": {},
   "outputs": [
    {
     "output_type": "execute_result",
     "data": {
      "text/plain": [
       "      id first_name last_name  gender                         email  \\\n",
       "0  54791    Rebecca   Lindsay  female  RebeccaLindsay57@hotmail.com   \n",
       "1  53450      Emily     Joyce  female        EmilyJoyce25@gmail.com   \n",
       "2  91987      Joyce    Waller  female        Joyce.Waller@gmail.com   \n",
       "3  14437     Justin  Erickson    male   Justin.Erickson@outlook.com   \n",
       "4  79357     Andrew     Banks    male              AB4318@gmail.com   \n",
       "\n",
       "      shoe_type shoe_material shoe_color  \n",
       "0         clogs  faux-leather      black  \n",
       "1  ballet flats  faux-leather       navy  \n",
       "2       sandles        fabric      black  \n",
       "3         clogs  faux-leather        red  \n",
       "4         boots       leather      brown  "
      ],
      "text/html": "<div>\n<style scoped>\n    .dataframe tbody tr th:only-of-type {\n        vertical-align: middle;\n    }\n\n    .dataframe tbody tr th {\n        vertical-align: top;\n    }\n\n    .dataframe thead th {\n        text-align: right;\n    }\n</style>\n<table border=\"1\" class=\"dataframe\">\n  <thead>\n    <tr style=\"text-align: right;\">\n      <th></th>\n      <th>id</th>\n      <th>first_name</th>\n      <th>last_name</th>\n      <th>gender</th>\n      <th>email</th>\n      <th>shoe_type</th>\n      <th>shoe_material</th>\n      <th>shoe_color</th>\n    </tr>\n  </thead>\n  <tbody>\n    <tr>\n      <th>0</th>\n      <td>54791</td>\n      <td>Rebecca</td>\n      <td>Lindsay</td>\n      <td>female</td>\n      <td>RebeccaLindsay57@hotmail.com</td>\n      <td>clogs</td>\n      <td>faux-leather</td>\n      <td>black</td>\n    </tr>\n    <tr>\n      <th>1</th>\n      <td>53450</td>\n      <td>Emily</td>\n      <td>Joyce</td>\n      <td>female</td>\n      <td>EmilyJoyce25@gmail.com</td>\n      <td>ballet flats</td>\n      <td>faux-leather</td>\n      <td>navy</td>\n    </tr>\n    <tr>\n      <th>2</th>\n      <td>91987</td>\n      <td>Joyce</td>\n      <td>Waller</td>\n      <td>female</td>\n      <td>Joyce.Waller@gmail.com</td>\n      <td>sandles</td>\n      <td>fabric</td>\n      <td>black</td>\n    </tr>\n    <tr>\n      <th>3</th>\n      <td>14437</td>\n      <td>Justin</td>\n      <td>Erickson</td>\n      <td>male</td>\n      <td>Justin.Erickson@outlook.com</td>\n      <td>clogs</td>\n      <td>faux-leather</td>\n      <td>red</td>\n    </tr>\n    <tr>\n      <th>4</th>\n      <td>79357</td>\n      <td>Andrew</td>\n      <td>Banks</td>\n      <td>male</td>\n      <td>AB4318@gmail.com</td>\n      <td>boots</td>\n      <td>leather</td>\n      <td>brown</td>\n    </tr>\n  </tbody>\n</table>\n</div>"
     },
     "metadata": {},
     "execution_count": 51
    }
   ],
   "source": [
    "orders = pd.read_csv('shoefly.csv')\n",
    "orders.head(5)"
   ]
  },
  {
   "source": [
    "Many of our customers want to buy vegan shoes (shoes made from materials that <i>do not</i> come from animals). Add a new column called `shoe_source`, which is `vegan` if the materials is not `leather` and `animal` otherwise."
   ],
   "cell_type": "markdown",
   "metadata": {}
  },
  {
   "cell_type": "code",
   "execution_count": 52,
   "metadata": {},
   "outputs": [
    {
     "output_type": "execute_result",
     "data": {
      "text/plain": [
       "      id first_name last_name  gender                         email  \\\n",
       "0  54791    Rebecca   Lindsay  female  RebeccaLindsay57@hotmail.com   \n",
       "1  53450      Emily     Joyce  female        EmilyJoyce25@gmail.com   \n",
       "2  91987      Joyce    Waller  female        Joyce.Waller@gmail.com   \n",
       "3  14437     Justin  Erickson    male   Justin.Erickson@outlook.com   \n",
       "4  79357     Andrew     Banks    male              AB4318@gmail.com   \n",
       "\n",
       "      shoe_type shoe_material shoe_color shoe_source  \n",
       "0         clogs  faux-leather      black       vegan  \n",
       "1  ballet flats  faux-leather       navy       vegan  \n",
       "2       sandles        fabric      black       vegan  \n",
       "3         clogs  faux-leather        red       vegan  \n",
       "4         boots       leather      brown      animal  "
      ],
      "text/html": "<div>\n<style scoped>\n    .dataframe tbody tr th:only-of-type {\n        vertical-align: middle;\n    }\n\n    .dataframe tbody tr th {\n        vertical-align: top;\n    }\n\n    .dataframe thead th {\n        text-align: right;\n    }\n</style>\n<table border=\"1\" class=\"dataframe\">\n  <thead>\n    <tr style=\"text-align: right;\">\n      <th></th>\n      <th>id</th>\n      <th>first_name</th>\n      <th>last_name</th>\n      <th>gender</th>\n      <th>email</th>\n      <th>shoe_type</th>\n      <th>shoe_material</th>\n      <th>shoe_color</th>\n      <th>shoe_source</th>\n    </tr>\n  </thead>\n  <tbody>\n    <tr>\n      <th>0</th>\n      <td>54791</td>\n      <td>Rebecca</td>\n      <td>Lindsay</td>\n      <td>female</td>\n      <td>RebeccaLindsay57@hotmail.com</td>\n      <td>clogs</td>\n      <td>faux-leather</td>\n      <td>black</td>\n      <td>vegan</td>\n    </tr>\n    <tr>\n      <th>1</th>\n      <td>53450</td>\n      <td>Emily</td>\n      <td>Joyce</td>\n      <td>female</td>\n      <td>EmilyJoyce25@gmail.com</td>\n      <td>ballet flats</td>\n      <td>faux-leather</td>\n      <td>navy</td>\n      <td>vegan</td>\n    </tr>\n    <tr>\n      <th>2</th>\n      <td>91987</td>\n      <td>Joyce</td>\n      <td>Waller</td>\n      <td>female</td>\n      <td>Joyce.Waller@gmail.com</td>\n      <td>sandles</td>\n      <td>fabric</td>\n      <td>black</td>\n      <td>vegan</td>\n    </tr>\n    <tr>\n      <th>3</th>\n      <td>14437</td>\n      <td>Justin</td>\n      <td>Erickson</td>\n      <td>male</td>\n      <td>Justin.Erickson@outlook.com</td>\n      <td>clogs</td>\n      <td>faux-leather</td>\n      <td>red</td>\n      <td>vegan</td>\n    </tr>\n    <tr>\n      <th>4</th>\n      <td>79357</td>\n      <td>Andrew</td>\n      <td>Banks</td>\n      <td>male</td>\n      <td>AB4318@gmail.com</td>\n      <td>boots</td>\n      <td>leather</td>\n      <td>brown</td>\n      <td>animal</td>\n    </tr>\n  </tbody>\n</table>\n</div>"
     },
     "metadata": {},
     "execution_count": 52
    }
   ],
   "source": [
    "orders['shoe_source'] = orders.shoe_material.apply(lambda x:\n",
    "                        'animal' if x == 'leather' else 'vegan'\n",
    ")\n",
    "orders.head(5)"
   ]
  },
  {
   "source": [
    "Our marketing department wants to send out an email to each customer. Using the columns `last_name` and `gender` create a column called `salutation` which contains `Dear Mr. <last_name>` for `men` and `Dear Ms. <last_name>` for `women`."
   ],
   "cell_type": "markdown",
   "metadata": {}
  },
  {
   "cell_type": "code",
   "execution_count": 53,
   "metadata": {},
   "outputs": [
    {
     "output_type": "execute_result",
     "data": {
      "text/plain": [
       "      id first_name last_name  gender                         email  \\\n",
       "0  54791    Rebecca   Lindsay  female  RebeccaLindsay57@hotmail.com   \n",
       "1  53450      Emily     Joyce  female        EmilyJoyce25@gmail.com   \n",
       "2  91987      Joyce    Waller  female        Joyce.Waller@gmail.com   \n",
       "3  14437     Justin  Erickson    male   Justin.Erickson@outlook.com   \n",
       "4  79357     Andrew     Banks    male              AB4318@gmail.com   \n",
       "\n",
       "      shoe_type shoe_material shoe_color shoe_source         salutation  \n",
       "0         clogs  faux-leather      black       vegan  Dear Mrs. Lindsay  \n",
       "1  ballet flats  faux-leather       navy       vegan    Dear Mrs. Joyce  \n",
       "2       sandles        fabric      black       vegan   Dear Mrs. Waller  \n",
       "3         clogs  faux-leather        red       vegan  Dear Mr. Erickson  \n",
       "4         boots       leather      brown      animal     Dear Mr. Banks  "
      ],
      "text/html": "<div>\n<style scoped>\n    .dataframe tbody tr th:only-of-type {\n        vertical-align: middle;\n    }\n\n    .dataframe tbody tr th {\n        vertical-align: top;\n    }\n\n    .dataframe thead th {\n        text-align: right;\n    }\n</style>\n<table border=\"1\" class=\"dataframe\">\n  <thead>\n    <tr style=\"text-align: right;\">\n      <th></th>\n      <th>id</th>\n      <th>first_name</th>\n      <th>last_name</th>\n      <th>gender</th>\n      <th>email</th>\n      <th>shoe_type</th>\n      <th>shoe_material</th>\n      <th>shoe_color</th>\n      <th>shoe_source</th>\n      <th>salutation</th>\n    </tr>\n  </thead>\n  <tbody>\n    <tr>\n      <th>0</th>\n      <td>54791</td>\n      <td>Rebecca</td>\n      <td>Lindsay</td>\n      <td>female</td>\n      <td>RebeccaLindsay57@hotmail.com</td>\n      <td>clogs</td>\n      <td>faux-leather</td>\n      <td>black</td>\n      <td>vegan</td>\n      <td>Dear Mrs. Lindsay</td>\n    </tr>\n    <tr>\n      <th>1</th>\n      <td>53450</td>\n      <td>Emily</td>\n      <td>Joyce</td>\n      <td>female</td>\n      <td>EmilyJoyce25@gmail.com</td>\n      <td>ballet flats</td>\n      <td>faux-leather</td>\n      <td>navy</td>\n      <td>vegan</td>\n      <td>Dear Mrs. Joyce</td>\n    </tr>\n    <tr>\n      <th>2</th>\n      <td>91987</td>\n      <td>Joyce</td>\n      <td>Waller</td>\n      <td>female</td>\n      <td>Joyce.Waller@gmail.com</td>\n      <td>sandles</td>\n      <td>fabric</td>\n      <td>black</td>\n      <td>vegan</td>\n      <td>Dear Mrs. Waller</td>\n    </tr>\n    <tr>\n      <th>3</th>\n      <td>14437</td>\n      <td>Justin</td>\n      <td>Erickson</td>\n      <td>male</td>\n      <td>Justin.Erickson@outlook.com</td>\n      <td>clogs</td>\n      <td>faux-leather</td>\n      <td>red</td>\n      <td>vegan</td>\n      <td>Dear Mr. Erickson</td>\n    </tr>\n    <tr>\n      <th>4</th>\n      <td>79357</td>\n      <td>Andrew</td>\n      <td>Banks</td>\n      <td>male</td>\n      <td>AB4318@gmail.com</td>\n      <td>boots</td>\n      <td>leather</td>\n      <td>brown</td>\n      <td>animal</td>\n      <td>Dear Mr. Banks</td>\n    </tr>\n  </tbody>\n</table>\n</div>"
     },
     "metadata": {},
     "execution_count": 53
    }
   ],
   "source": [
    "orders['salutation'] = orders.apply(lambda row:\n",
    "    f'Dear Mr. {row.last_name}' if row.gender == 'male' else f'Dear Mrs. {row.last_name}',\n",
    "    axis=1\n",
    ")\n",
    "orders.head(5)"
   ]
  }
 ]
}