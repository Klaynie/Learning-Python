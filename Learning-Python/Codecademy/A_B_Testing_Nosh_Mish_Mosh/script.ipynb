{
 "metadata": {
  "language_info": {
   "codemirror_mode": {
    "name": "ipython",
    "version": 3
   },
   "file_extension": ".py",
   "mimetype": "text/x-python",
   "name": "python",
   "nbconvert_exporter": "python",
   "pygments_lexer": "ipython3",
   "version": "3.9.1-final"
  },
  "orig_nbformat": 2,
  "kernelspec": {
   "name": "python3",
   "display_name": "Python 3.9.1 64-bit",
   "metadata": {
    "interpreter": {
     "hash": "ac59ebe37160ed0dfa835113d9b8498d9f09ceb179beaac4002f036b9467c963"
    }
   }
  }
 },
 "nbformat": 4,
 "nbformat_minor": 2,
 "cells": [
  {
   "source": [
    "# A/B Testing at Nosh Mish Mosh\n",
    "\n",
    "The Nosh Mish Mosh is a recipe and ingredient meal delivery service. They ship the raw materials and you get to cook them at your home! They have decided to hire a data analyst to help make product and interface decisions. Get started to help them figure out the amount of data they will need to make meaningful decisions."
   ],
   "cell_type": "markdown",
   "metadata": {}
  },
  {
   "source": [
    "***"
   ],
   "cell_type": "markdown",
   "metadata": {}
  },
  {
   "source": [
    "# Nosh Mish Mosh: An Assortment of Edible Aliments\n",
    "\n",
    "1. We have collected customer data for the past week and exposed it through a Python library, so first import `noshmishmosh`."
   ],
   "cell_type": "markdown",
   "metadata": {}
  },
  {
   "cell_type": "code",
   "execution_count": 1,
   "metadata": {},
   "outputs": [],
   "source": [
    "import noshmishmosh"
   ]
  },
  {
   "source": [
    "2. Next, we will need to do a little bit of data analysis — let us use `numpy` to help. Import `numpy` into your workspace."
   ],
   "cell_type": "markdown",
   "metadata": {}
  },
  {
   "cell_type": "code",
   "execution_count": 2,
   "metadata": {},
   "outputs": [],
   "source": [
    "import numpy as np"
   ]
  },
  {
   "source": [
    "## A/B Testing at Nosh Mish Mosh\n",
    "3. Nosh Mish Mosh wants to run an experiment to see if we can convince more people to purchase meal plans if we use a more artisanal-looking vegetable selection. We have photographed these modern meals with blush tomatoes and graffiti eggplants, but are not sure if this strategy will sell enough units to benefit from establishing a business relationship with a new provider.\n",
    "\n",
    "Before running this experiment, of course, we need to know the sample size that will be required to detect the difference we are hoping for. There are three things we need to know before we can determine that number.\n",
    "\n",
    "* the **Baseline Conversion Rate**\n",
    "* desired **Lift** (minimum detectable effect)\n",
    "* and the **Statistical Significance Threshold**"
   ],
   "cell_type": "markdown",
   "metadata": {}
  },
  {
   "source": [
    "4. Let us get the ball rolling on finding those numbers! In order to get our baseline, we need to first know how many users visit the site in a typical week. Let us grab that logged information, which is stored in `noshmishmosh.customer_visits`. Assign that to a new variable called `all_visitors`."
   ],
   "cell_type": "markdown",
   "metadata": {}
  },
  {
   "cell_type": "code",
   "execution_count": 3,
   "metadata": {},
   "outputs": [],
   "source": [
    "all_visitors = noshmishmosh.customer_visits"
   ]
  },
  {
   "source": [
    "5. Next we need to know how many visitors to the site ultimately end up buying a meal or set of meals in a typical week. We have that information saved into `purchasing_customers` field on `noshmishmosh`. Save that information into a variable called `paying_visitors`."
   ],
   "cell_type": "markdown",
   "metadata": {}
  },
  {
   "cell_type": "code",
   "execution_count": 4,
   "metadata": {},
   "outputs": [],
   "source": [
    "paying_visitors = noshmishmosh.purchasing_customers"
   ]
  },
  {
   "source": [
    "6. Calculate the lengths of the two lists, saving the results into variables called `total_visitor_count` and `paying_visitor_count`, respectively."
   ],
   "cell_type": "markdown",
   "metadata": {}
  },
  {
   "cell_type": "code",
   "execution_count": 5,
   "metadata": {},
   "outputs": [],
   "source": [
    "total_visitor_count = len(all_visitors)\n",
    "paying_visitor_count = len(paying_visitors)"
   ]
  },
  {
   "source": [
    "7. Now to get the baseline: Divide the number of purchasing visitors by the number of total visitors. Save the result in a variable called baseline_percent. Since we want a percentage as our answer, multiply the result by 100.0."
   ],
   "cell_type": "markdown",
   "metadata": {}
  },
  {
   "cell_type": "code",
   "execution_count": 6,
   "metadata": {},
   "outputs": [],
   "source": [
    "baseline_percent = paying_visitor_count / total_visitor_count * 100"
   ]
  },
  {
   "source": [
    "8. Print out the `baseline_percent` so we know what to use for our baseline percentage in the A/B Sample Size Calculator."
   ],
   "cell_type": "markdown",
   "metadata": {}
  },
  {
   "cell_type": "code",
   "execution_count": 7,
   "metadata": {},
   "outputs": [
    {
     "output_type": "execute_result",
     "data": {
      "text/plain": [
       "18.6"
      ]
     },
     "metadata": {},
     "execution_count": 7
    }
   ],
   "source": [
    "baseline_percent"
   ]
  },
  {
   "source": [
    "## Mish Mosh B'Gosh: the Lift\n",
    "\n",
    "9. These rainbow fingerling potatoes do not come cheap. We would like to know for sure that, with this change, we will be pulling in at least \\$$1240$ more every week. In order to figure out how many more customers we need, we will have to investigate the average revenue generated from a given sale. Luckily we have a list of the money spent by each customer in a typical week: `noshmishmosh.money_spent`. Save that list into a variable called `payment_history`."
   ],
   "cell_type": "markdown",
   "metadata": {}
  },
  {
   "cell_type": "code",
   "execution_count": 8,
   "metadata": {},
   "outputs": [],
   "source": [
    "payment_history = noshmishmosh.money_spent"
   ]
  },
  {
   "source": [
    "10. We need to find how many purchases it would take to reach \\$$1240$ in additional revenue using our historical data.\n",
    "\n",
    "    Let us start with computing the average payment per paying customer using `np.mean`, saving it as `average_payment`."
   ],
   "cell_type": "markdown",
   "metadata": {}
  },
  {
   "cell_type": "code",
   "execution_count": 11,
   "metadata": {},
   "outputs": [
    {
     "output_type": "execute_result",
     "data": {
      "text/plain": [
       "26.543655913978498"
      ]
     },
     "metadata": {},
     "execution_count": 11
    }
   ],
   "source": [
    "average_payment = np.mean(payment_history)\n",
    "\n",
    "average_payment"
   ]
  },
  {
   "source": [
    "11. We want to know how many of these \"usual\" payments it would take to clear our \\$$1240$ mark. Round the number up using `np.ceil` (because that is how many new customers it takes to bring in more than \\$$1240$). Save that value into a `new_customers_needed` variable."
   ],
   "cell_type": "markdown",
   "metadata": {}
  },
  {
   "cell_type": "code",
   "execution_count": 10,
   "metadata": {},
   "outputs": [
    {
     "output_type": "execute_result",
     "data": {
      "text/plain": [
       "47.0"
      ]
     },
     "metadata": {},
     "execution_count": 10
    }
   ],
   "source": [
    "additional_sales_target = 1240\n",
    "\n",
    "new_customers_needed = np.ceil(additional_sales_target / average_payment)\n",
    "\n",
    "new_customers_needed"
   ]
  },
  {
   "source": [
    "12. Now find the additional percent of weekly visitors who must make a purchase in order to make this change worthwhile. Do this by dividing the number of customers by the total visitor count for a typical week (calculated earlier), and multiplying by `100.0`. Save the result in a variable called `percentage_point_increase`. Print `percentage_point_increase` to see what it is."
   ],
   "cell_type": "markdown",
   "metadata": {}
  },
  {
   "cell_type": "code",
   "execution_count": 12,
   "metadata": {},
   "outputs": [
    {
     "output_type": "execute_result",
     "data": {
      "text/plain": [
       "9.4"
      ]
     },
     "metadata": {},
     "execution_count": 12
    }
   ],
   "source": [
    "percentage_point_increase = new_customers_needed / total_visitor_count * 100\n",
    "\n",
    "percentage_point_increase"
   ]
  },
  {
   "source": [
    "13. In order to find our desired lift, we need to express `percentage_point_increase` as a percent of `baseline_percent`. You can do this by dividing `percentage_point_increase` by `baseline_percent` and multiplying by `100.0`.\n",
    "\n",
    "    Store the results in a variable called `lift`."
   ],
   "cell_type": "markdown",
   "metadata": {}
  },
  {
   "cell_type": "code",
   "execution_count": 13,
   "metadata": {},
   "outputs": [],
   "source": [
    "lift = percentage_point_increase / baseline_percent * 100"
   ]
  },
  {
   "source": [
    "14. Print out the result `lift`."
   ],
   "cell_type": "markdown",
   "metadata": {}
  },
  {
   "cell_type": "code",
   "execution_count": 14,
   "metadata": {},
   "outputs": [
    {
     "output_type": "execute_result",
     "data": {
      "text/plain": [
       "50.53763440860215"
      ]
     },
     "metadata": {},
     "execution_count": 14
    }
   ],
   "source": [
    "lift"
   ]
  },
  {
   "source": [
    "## Nosh Mish Mosh: Tying It All Together\n",
    "\n",
    "15. The last thing we need to calculate the sample size for Nosh Mish Mosh's artisanal rebranding is our statistical significance threshold. We would like to be fairly certain, but this is not going to be a million dollar decision, so let us go with $10\\%$."
   ],
   "cell_type": "markdown",
   "metadata": {}
  },
  {
   "source": [
    "16. Now put it all together! Punch the **baseline**, the minimum desired **lift**, and the **statistical significance threshold** into the <a href=\"https://content.codecademy.com/courses/learn-hypothesis-testing/a_b_sample_size/index4.html\">calculator</a> and evaluate how many people need to be shown the new assets before we can check if the results are a significant improvement. Save the results in a variable called `ab_sample_size`."
   ],
   "cell_type": "markdown",
   "metadata": {}
  },
  {
   "cell_type": "code",
   "execution_count": 15,
   "metadata": {},
   "outputs": [],
   "source": [
    "ab_sample_size = 507"
   ]
  }
 ]
}