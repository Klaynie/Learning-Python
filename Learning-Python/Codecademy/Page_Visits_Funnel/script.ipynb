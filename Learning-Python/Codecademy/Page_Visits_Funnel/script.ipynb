{
 "metadata": {
  "language_info": {
   "codemirror_mode": {
    "name": "ipython",
    "version": 3
   },
   "file_extension": ".py",
   "mimetype": "text/x-python",
   "name": "python",
   "nbconvert_exporter": "python",
   "pygments_lexer": "ipython3",
   "version": "3.7.6-final"
  },
  "orig_nbformat": 2,
  "kernelspec": {
   "name": "python3",
   "display_name": "Python 3",
   "language": "python"
  }
 },
 "nbformat": 4,
 "nbformat_minor": 2,
 "cells": [
  {
   "source": [
    "# Data Manipulation with Pandas\n",
    "\n",
    "## Page Visits Funnel\n",
    "\n",
    "Cool T-Shirts Inc. has asked you to analyze data on visits to their website. Your job is to build a funnel, which is a description of how many people continue to the next step of a multi-step process.\n",
    "\n",
    "In this case, our funnel is going to describe the following process:\n",
    "\n",
    "    A user visits CoolTShirts.com\n",
    "    A user adds a t-shirt to their cart\n",
    "    A user clicks “checkout”\n",
    "    A user actually purchases a t-shirt\n",
    "\n",
    "If you get stuck during this project or would like to see an experienced developer work through it, click “Get Help“ to see a project walkthrough video."
   ],
   "cell_type": "markdown",
   "metadata": {}
  },
  {
   "source": [
    "***"
   ],
   "cell_type": "markdown",
   "metadata": {}
  },
  {
   "source": [
    "## Funnel for Cool T-Shirts Inc.\n",
    "\n",
    "1. Inspect the DataFrames using head:\n",
    "\n",
    "* `visits` lists all of the users who have visited the website\n",
    "* `cart` lists all of the users who have added a t-shirt to their cart\n",
    "* `checkout` lists all of the users who have started the checkout\n",
    "* `purchase` lists all of the users who have purchased a t-shirt"
   ],
   "cell_type": "markdown",
   "metadata": {}
  },
  {
   "cell_type": "code",
   "execution_count": 1,
   "metadata": {},
   "outputs": [],
   "source": [
    "import pandas as pd\n",
    "\n",
    "visits = pd.read_csv('visits.csv',\n",
    "                     parse_dates=[1])\n",
    "cart = pd.read_csv('cart.csv',\n",
    "                   parse_dates=[1])\n",
    "checkout = pd.read_csv('checkout.csv',\n",
    "                       parse_dates=[1])\n",
    "purchase = pd.read_csv('purchase.csv',\n",
    "                       parse_dates=[1])"
   ]
  },
  {
   "cell_type": "code",
   "execution_count": 2,
   "metadata": {},
   "outputs": [
    {
     "output_type": "execute_result",
     "data": {
      "text/plain": [
       "                                user_id          visit_time\n",
       "0  943647ef-3682-4750-a2e1-918ba6f16188 2017-04-07 15:14:00\n",
       "1  0c3a3dd0-fb64-4eac-bf84-ba069ce409f2 2017-01-26 14:24:00\n",
       "2  6e0b2d60-4027-4d9a-babd-0e7d40859fb1 2017-08-20 08:23:00\n",
       "3  6879527e-c5a6-4d14-b2da-50b85212b0ab 2017-11-04 18:15:00\n",
       "4  a84327ff-5daa-4ba1-b789-d5b4caf81e96 2017-02-27 11:25:00"
      ],
      "text/html": "<div>\n<style scoped>\n    .dataframe tbody tr th:only-of-type {\n        vertical-align: middle;\n    }\n\n    .dataframe tbody tr th {\n        vertical-align: top;\n    }\n\n    .dataframe thead th {\n        text-align: right;\n    }\n</style>\n<table border=\"1\" class=\"dataframe\">\n  <thead>\n    <tr style=\"text-align: right;\">\n      <th></th>\n      <th>user_id</th>\n      <th>visit_time</th>\n    </tr>\n  </thead>\n  <tbody>\n    <tr>\n      <th>0</th>\n      <td>943647ef-3682-4750-a2e1-918ba6f16188</td>\n      <td>2017-04-07 15:14:00</td>\n    </tr>\n    <tr>\n      <th>1</th>\n      <td>0c3a3dd0-fb64-4eac-bf84-ba069ce409f2</td>\n      <td>2017-01-26 14:24:00</td>\n    </tr>\n    <tr>\n      <th>2</th>\n      <td>6e0b2d60-4027-4d9a-babd-0e7d40859fb1</td>\n      <td>2017-08-20 08:23:00</td>\n    </tr>\n    <tr>\n      <th>3</th>\n      <td>6879527e-c5a6-4d14-b2da-50b85212b0ab</td>\n      <td>2017-11-04 18:15:00</td>\n    </tr>\n    <tr>\n      <th>4</th>\n      <td>a84327ff-5daa-4ba1-b789-d5b4caf81e96</td>\n      <td>2017-02-27 11:25:00</td>\n    </tr>\n  </tbody>\n</table>\n</div>"
     },
     "metadata": {},
     "execution_count": 2
    }
   ],
   "source": [
    "visits.head()"
   ]
  },
  {
   "cell_type": "code",
   "execution_count": 3,
   "metadata": {},
   "outputs": [
    {
     "output_type": "execute_result",
     "data": {
      "text/plain": [
       "                                user_id           cart_time\n",
       "0  2be90e7c-9cca-44e0-bcc5-124b945ff168 2017-11-07 20:45:00\n",
       "1  4397f73f-1da3-4ab3-91af-762792e25973 2017-05-27 01:35:00\n",
       "2  a9db3d4b-0a0a-4398-a55a-ebb2c7adf663 2017-03-04 10:38:00\n",
       "3  b594862a-36c5-47d5-b818-6e9512b939b3 2017-09-27 08:22:00\n",
       "4  a68a16e2-94f0-4ce8-8ce3-784af0bbb974 2017-07-26 15:48:00"
      ],
      "text/html": "<div>\n<style scoped>\n    .dataframe tbody tr th:only-of-type {\n        vertical-align: middle;\n    }\n\n    .dataframe tbody tr th {\n        vertical-align: top;\n    }\n\n    .dataframe thead th {\n        text-align: right;\n    }\n</style>\n<table border=\"1\" class=\"dataframe\">\n  <thead>\n    <tr style=\"text-align: right;\">\n      <th></th>\n      <th>user_id</th>\n      <th>cart_time</th>\n    </tr>\n  </thead>\n  <tbody>\n    <tr>\n      <th>0</th>\n      <td>2be90e7c-9cca-44e0-bcc5-124b945ff168</td>\n      <td>2017-11-07 20:45:00</td>\n    </tr>\n    <tr>\n      <th>1</th>\n      <td>4397f73f-1da3-4ab3-91af-762792e25973</td>\n      <td>2017-05-27 01:35:00</td>\n    </tr>\n    <tr>\n      <th>2</th>\n      <td>a9db3d4b-0a0a-4398-a55a-ebb2c7adf663</td>\n      <td>2017-03-04 10:38:00</td>\n    </tr>\n    <tr>\n      <th>3</th>\n      <td>b594862a-36c5-47d5-b818-6e9512b939b3</td>\n      <td>2017-09-27 08:22:00</td>\n    </tr>\n    <tr>\n      <th>4</th>\n      <td>a68a16e2-94f0-4ce8-8ce3-784af0bbb974</td>\n      <td>2017-07-26 15:48:00</td>\n    </tr>\n  </tbody>\n</table>\n</div>"
     },
     "metadata": {},
     "execution_count": 3
    }
   ],
   "source": [
    "cart.head()"
   ]
  },
  {
   "cell_type": "code",
   "execution_count": 4,
   "metadata": {},
   "outputs": [
    {
     "output_type": "execute_result",
     "data": {
      "text/plain": [
       "                                user_id       checkout_time\n",
       "0  d33bdc47-4afa-45bc-b4e4-dbe948e34c0d 2017-06-25 09:29:00\n",
       "1  4ac186f0-9954-4fea-8a27-c081e428e34e 2017-04-07 20:11:00\n",
       "2  3c9c78a7-124a-4b77-8d2e-e1926e011e7d 2017-07-13 11:38:00\n",
       "3  89fe330a-8966-4756-8f7c-3bdbcd47279a 2017-04-20 16:15:00\n",
       "4  3ccdaf69-2d30-40de-b083-51372881aedd 2017-01-08 20:52:00"
      ],
      "text/html": "<div>\n<style scoped>\n    .dataframe tbody tr th:only-of-type {\n        vertical-align: middle;\n    }\n\n    .dataframe tbody tr th {\n        vertical-align: top;\n    }\n\n    .dataframe thead th {\n        text-align: right;\n    }\n</style>\n<table border=\"1\" class=\"dataframe\">\n  <thead>\n    <tr style=\"text-align: right;\">\n      <th></th>\n      <th>user_id</th>\n      <th>checkout_time</th>\n    </tr>\n  </thead>\n  <tbody>\n    <tr>\n      <th>0</th>\n      <td>d33bdc47-4afa-45bc-b4e4-dbe948e34c0d</td>\n      <td>2017-06-25 09:29:00</td>\n    </tr>\n    <tr>\n      <th>1</th>\n      <td>4ac186f0-9954-4fea-8a27-c081e428e34e</td>\n      <td>2017-04-07 20:11:00</td>\n    </tr>\n    <tr>\n      <th>2</th>\n      <td>3c9c78a7-124a-4b77-8d2e-e1926e011e7d</td>\n      <td>2017-07-13 11:38:00</td>\n    </tr>\n    <tr>\n      <th>3</th>\n      <td>89fe330a-8966-4756-8f7c-3bdbcd47279a</td>\n      <td>2017-04-20 16:15:00</td>\n    </tr>\n    <tr>\n      <th>4</th>\n      <td>3ccdaf69-2d30-40de-b083-51372881aedd</td>\n      <td>2017-01-08 20:52:00</td>\n    </tr>\n  </tbody>\n</table>\n</div>"
     },
     "metadata": {},
     "execution_count": 4
    }
   ],
   "source": [
    "checkout.head()"
   ]
  },
  {
   "cell_type": "code",
   "execution_count": 5,
   "metadata": {},
   "outputs": [
    {
     "output_type": "execute_result",
     "data": {
      "text/plain": [
       "                                user_id       purchase_time\n",
       "0  4b44ace4-2721-47a0-b24b-15fbfa2abf85 2017-05-11 04:25:00\n",
       "1  02e684ae-a448-408f-a9ff-dcb4a5c99aac 2017-09-05 08:45:00\n",
       "2  4b4bc391-749e-4b90-ab8f-4f6e3c84d6dc 2017-11-20 20:49:00\n",
       "3  a5dbb25f-3c36-4103-9030-9f7c6241cd8d 2017-01-22 15:18:00\n",
       "4  46a3186d-7f5a-4ab9-87af-84d05bfd4867 2017-06-11 11:32:00"
      ],
      "text/html": "<div>\n<style scoped>\n    .dataframe tbody tr th:only-of-type {\n        vertical-align: middle;\n    }\n\n    .dataframe tbody tr th {\n        vertical-align: top;\n    }\n\n    .dataframe thead th {\n        text-align: right;\n    }\n</style>\n<table border=\"1\" class=\"dataframe\">\n  <thead>\n    <tr style=\"text-align: right;\">\n      <th></th>\n      <th>user_id</th>\n      <th>purchase_time</th>\n    </tr>\n  </thead>\n  <tbody>\n    <tr>\n      <th>0</th>\n      <td>4b44ace4-2721-47a0-b24b-15fbfa2abf85</td>\n      <td>2017-05-11 04:25:00</td>\n    </tr>\n    <tr>\n      <th>1</th>\n      <td>02e684ae-a448-408f-a9ff-dcb4a5c99aac</td>\n      <td>2017-09-05 08:45:00</td>\n    </tr>\n    <tr>\n      <th>2</th>\n      <td>4b4bc391-749e-4b90-ab8f-4f6e3c84d6dc</td>\n      <td>2017-11-20 20:49:00</td>\n    </tr>\n    <tr>\n      <th>3</th>\n      <td>a5dbb25f-3c36-4103-9030-9f7c6241cd8d</td>\n      <td>2017-01-22 15:18:00</td>\n    </tr>\n    <tr>\n      <th>4</th>\n      <td>46a3186d-7f5a-4ab9-87af-84d05bfd4867</td>\n      <td>2017-06-11 11:32:00</td>\n    </tr>\n  </tbody>\n</table>\n</div>"
     },
     "metadata": {},
     "execution_count": 5
    }
   ],
   "source": [
    "purchase.head()"
   ]
  },
  {
   "source": [
    "2. Combine `visits` and `cart` using a left merge."
   ],
   "cell_type": "markdown",
   "metadata": {}
  },
  {
   "cell_type": "code",
   "execution_count": 6,
   "metadata": {},
   "outputs": [
    {
     "output_type": "execute_result",
     "data": {
      "text/plain": [
       "                                   user_id          visit_time  \\\n",
       "0     943647ef-3682-4750-a2e1-918ba6f16188 2017-04-07 15:14:00   \n",
       "1     0c3a3dd0-fb64-4eac-bf84-ba069ce409f2 2017-01-26 14:24:00   \n",
       "2     6e0b2d60-4027-4d9a-babd-0e7d40859fb1 2017-08-20 08:23:00   \n",
       "3     6879527e-c5a6-4d14-b2da-50b85212b0ab 2017-11-04 18:15:00   \n",
       "4     a84327ff-5daa-4ba1-b789-d5b4caf81e96 2017-02-27 11:25:00   \n",
       "...                                    ...                 ...   \n",
       "1995  33913ac2-03da-45ae-8fc3-fea39df827c6 2017-03-25 03:29:00   \n",
       "1996  4f850132-b99d-4623-80e6-6e61d003577e 2017-01-08 09:57:00   \n",
       "1997  f0830b9b-1f5c-4e74-b63d-3f847cc6ce70 2017-09-07 12:56:00   \n",
       "1998  b01bffa7-63ba-4cd3-9d93-eb1477c23831 2017-07-20 04:37:00   \n",
       "1999  0336ca81-8d68-443f-9248-ac0b8ad147d5 2017-11-15 10:11:00   \n",
       "\n",
       "               cart_time  \n",
       "0                    NaT  \n",
       "1    2017-01-26 14:44:00  \n",
       "2    2017-08-20 08:31:00  \n",
       "3                    NaT  \n",
       "4                    NaT  \n",
       "...                  ...  \n",
       "1995                 NaT  \n",
       "1996                 NaT  \n",
       "1997                 NaT  \n",
       "1998                 NaT  \n",
       "1999                 NaT  \n",
       "\n",
       "[2000 rows x 3 columns]"
      ],
      "text/html": "<div>\n<style scoped>\n    .dataframe tbody tr th:only-of-type {\n        vertical-align: middle;\n    }\n\n    .dataframe tbody tr th {\n        vertical-align: top;\n    }\n\n    .dataframe thead th {\n        text-align: right;\n    }\n</style>\n<table border=\"1\" class=\"dataframe\">\n  <thead>\n    <tr style=\"text-align: right;\">\n      <th></th>\n      <th>user_id</th>\n      <th>visit_time</th>\n      <th>cart_time</th>\n    </tr>\n  </thead>\n  <tbody>\n    <tr>\n      <th>0</th>\n      <td>943647ef-3682-4750-a2e1-918ba6f16188</td>\n      <td>2017-04-07 15:14:00</td>\n      <td>NaT</td>\n    </tr>\n    <tr>\n      <th>1</th>\n      <td>0c3a3dd0-fb64-4eac-bf84-ba069ce409f2</td>\n      <td>2017-01-26 14:24:00</td>\n      <td>2017-01-26 14:44:00</td>\n    </tr>\n    <tr>\n      <th>2</th>\n      <td>6e0b2d60-4027-4d9a-babd-0e7d40859fb1</td>\n      <td>2017-08-20 08:23:00</td>\n      <td>2017-08-20 08:31:00</td>\n    </tr>\n    <tr>\n      <th>3</th>\n      <td>6879527e-c5a6-4d14-b2da-50b85212b0ab</td>\n      <td>2017-11-04 18:15:00</td>\n      <td>NaT</td>\n    </tr>\n    <tr>\n      <th>4</th>\n      <td>a84327ff-5daa-4ba1-b789-d5b4caf81e96</td>\n      <td>2017-02-27 11:25:00</td>\n      <td>NaT</td>\n    </tr>\n    <tr>\n      <th>...</th>\n      <td>...</td>\n      <td>...</td>\n      <td>...</td>\n    </tr>\n    <tr>\n      <th>1995</th>\n      <td>33913ac2-03da-45ae-8fc3-fea39df827c6</td>\n      <td>2017-03-25 03:29:00</td>\n      <td>NaT</td>\n    </tr>\n    <tr>\n      <th>1996</th>\n      <td>4f850132-b99d-4623-80e6-6e61d003577e</td>\n      <td>2017-01-08 09:57:00</td>\n      <td>NaT</td>\n    </tr>\n    <tr>\n      <th>1997</th>\n      <td>f0830b9b-1f5c-4e74-b63d-3f847cc6ce70</td>\n      <td>2017-09-07 12:56:00</td>\n      <td>NaT</td>\n    </tr>\n    <tr>\n      <th>1998</th>\n      <td>b01bffa7-63ba-4cd3-9d93-eb1477c23831</td>\n      <td>2017-07-20 04:37:00</td>\n      <td>NaT</td>\n    </tr>\n    <tr>\n      <th>1999</th>\n      <td>0336ca81-8d68-443f-9248-ac0b8ad147d5</td>\n      <td>2017-11-15 10:11:00</td>\n      <td>NaT</td>\n    </tr>\n  </tbody>\n</table>\n<p>2000 rows × 3 columns</p>\n</div>"
     },
     "metadata": {},
     "execution_count": 6
    }
   ],
   "source": [
    "visits_and_cart = pd.merge(\n",
    "    visits,\n",
    "    cart,\n",
    "    how='left')\n",
    "\n",
    "visits_and_cart"
   ]
  },
  {
   "source": [
    "3. How long is your merged DataFrame?"
   ],
   "cell_type": "markdown",
   "metadata": {}
  },
  {
   "cell_type": "code",
   "execution_count": 7,
   "metadata": {},
   "outputs": [
    {
     "output_type": "stream",
     "name": "stdout",
     "text": [
      "2000\n"
     ]
    }
   ],
   "source": [
    "print(len(visits_and_cart))"
   ]
  },
  {
   "source": [
    "4. How many of the timestamps are `null` for the column `cart_time`?<br>\n",
    "<br>\n",
    "What do these null rows mean?"
   ],
   "cell_type": "markdown",
   "metadata": {}
  },
  {
   "cell_type": "code",
   "execution_count": 8,
   "metadata": {},
   "outputs": [
    {
     "output_type": "execute_result",
     "data": {
      "text/plain": [
       "1652"
      ]
     },
     "metadata": {},
     "execution_count": 8
    }
   ],
   "source": [
    "sum(pd.isna(visits_and_cart.cart_time))"
   ]
  },
  {
   "source": [
    "<b>A</b>: The number of null rows gives us the number of users who did not put a t-shirt into the cart."
   ],
   "cell_type": "markdown",
   "metadata": {}
  },
  {
   "source": [
    "5. What percent of users who visited Cool T-Shirts Inc. ended up not placing a t-shirt in their cart?<br>\n",
    "<br>\n",
    "Note: To calculate percentages, it will be helpful to turn either the numerator or the denominator into a <i>float</i>, by using `float()`, with the number to convert passed in as input. Otherwise, Python will use integer division, which truncates decimal points."
   ],
   "cell_type": "markdown",
   "metadata": {}
  },
  {
   "cell_type": "code",
   "execution_count": 9,
   "metadata": {},
   "outputs": [
    {
     "output_type": "stream",
     "name": "stdout",
     "text": [
      "The percentage of people who visited the website, but did not place a shirt in their cart is 82.60%\n"
     ]
    }
   ],
   "source": [
    "print(f\"The percentage of people who visited the website, but did not place a shirt in their cart is {sum(pd.isna(visits_and_cart.cart_time)) / len(visits_and_cart):.2%}\")"
   ]
  },
  {
   "source": [
    "6. Repeat the left merge for `cart` and `checkout` and count `null` values. What percentage of users put items in their cart, but did not proceed to checkout?"
   ],
   "cell_type": "markdown",
   "metadata": {}
  },
  {
   "cell_type": "code",
   "execution_count": 10,
   "metadata": {},
   "outputs": [
    {
     "output_type": "stream",
     "name": "stdout",
     "text": [
      "The percentage of people who placed a shirt in their cart, but did not proceed to checkout is 25.31%\n"
     ]
    }
   ],
   "source": [
    "cart_and_checkout = pd.merge(\n",
    "    cart,\n",
    "    checkout,\n",
    "    how='left')\n",
    "\n",
    "print(f\"The percentage of people who placed a shirt in their cart, but did not proceed to checkout is {sum(pd.isna(cart_and_checkout.checkout_time)) / len(cart_and_checkout):.2%}\")"
   ]
  },
  {
   "source": [
    "7. Merge all four steps of the funnel, in order, using a series of <i>left merges</i>. Save the results to the variable `all_data`.<br>\n",
    "<br>\n",
    "Examine the result using `head`."
   ],
   "cell_type": "markdown",
   "metadata": {}
  },
  {
   "cell_type": "code",
   "execution_count": 11,
   "metadata": {},
   "outputs": [
    {
     "output_type": "execute_result",
     "data": {
      "text/plain": [
       "                                user_id          visit_time  \\\n",
       "0  943647ef-3682-4750-a2e1-918ba6f16188 2017-04-07 15:14:00   \n",
       "1  0c3a3dd0-fb64-4eac-bf84-ba069ce409f2 2017-01-26 14:24:00   \n",
       "2  6e0b2d60-4027-4d9a-babd-0e7d40859fb1 2017-08-20 08:23:00   \n",
       "3  6879527e-c5a6-4d14-b2da-50b85212b0ab 2017-11-04 18:15:00   \n",
       "4  a84327ff-5daa-4ba1-b789-d5b4caf81e96 2017-02-27 11:25:00   \n",
       "\n",
       "            cart_time       checkout_time       purchase_time  \n",
       "0                 NaT                 NaT                 NaT  \n",
       "1 2017-01-26 14:44:00 2017-01-26 14:54:00 2017-01-26 15:08:00  \n",
       "2 2017-08-20 08:31:00                 NaT                 NaT  \n",
       "3                 NaT                 NaT                 NaT  \n",
       "4                 NaT                 NaT                 NaT  "
      ],
      "text/html": "<div>\n<style scoped>\n    .dataframe tbody tr th:only-of-type {\n        vertical-align: middle;\n    }\n\n    .dataframe tbody tr th {\n        vertical-align: top;\n    }\n\n    .dataframe thead th {\n        text-align: right;\n    }\n</style>\n<table border=\"1\" class=\"dataframe\">\n  <thead>\n    <tr style=\"text-align: right;\">\n      <th></th>\n      <th>user_id</th>\n      <th>visit_time</th>\n      <th>cart_time</th>\n      <th>checkout_time</th>\n      <th>purchase_time</th>\n    </tr>\n  </thead>\n  <tbody>\n    <tr>\n      <th>0</th>\n      <td>943647ef-3682-4750-a2e1-918ba6f16188</td>\n      <td>2017-04-07 15:14:00</td>\n      <td>NaT</td>\n      <td>NaT</td>\n      <td>NaT</td>\n    </tr>\n    <tr>\n      <th>1</th>\n      <td>0c3a3dd0-fb64-4eac-bf84-ba069ce409f2</td>\n      <td>2017-01-26 14:24:00</td>\n      <td>2017-01-26 14:44:00</td>\n      <td>2017-01-26 14:54:00</td>\n      <td>2017-01-26 15:08:00</td>\n    </tr>\n    <tr>\n      <th>2</th>\n      <td>6e0b2d60-4027-4d9a-babd-0e7d40859fb1</td>\n      <td>2017-08-20 08:23:00</td>\n      <td>2017-08-20 08:31:00</td>\n      <td>NaT</td>\n      <td>NaT</td>\n    </tr>\n    <tr>\n      <th>3</th>\n      <td>6879527e-c5a6-4d14-b2da-50b85212b0ab</td>\n      <td>2017-11-04 18:15:00</td>\n      <td>NaT</td>\n      <td>NaT</td>\n      <td>NaT</td>\n    </tr>\n    <tr>\n      <th>4</th>\n      <td>a84327ff-5daa-4ba1-b789-d5b4caf81e96</td>\n      <td>2017-02-27 11:25:00</td>\n      <td>NaT</td>\n      <td>NaT</td>\n      <td>NaT</td>\n    </tr>\n  </tbody>\n</table>\n</div>"
     },
     "metadata": {},
     "execution_count": 11
    }
   ],
   "source": [
    "all_data = visits\\\n",
    "    .merge(cart, how='left')\\\n",
    "    .merge(checkout, how='left')\\\n",
    "    .merge(purchase, how='left')\n",
    "\n",
    "all_data.head()"
   ]
  },
  {
   "source": [
    "8. What percentage of users proceeded to checkout, but did not purchase a t-shirt?"
   ],
   "cell_type": "markdown",
   "metadata": {}
  },
  {
   "cell_type": "code",
   "execution_count": 12,
   "metadata": {},
   "outputs": [
    {
     "output_type": "stream",
     "name": "stdout",
     "text": [
      "The percentage of people who proceeded to checkout, but did not purchase a t-shirt is 16.89%\n"
     ]
    }
   ],
   "source": [
    "checkout_and_purchase = pd.merge(\n",
    "    checkout,\n",
    "    purchase,\n",
    "    how='left')\n",
    "\n",
    "print(f\"The percentage of people who proceeded to checkout, but did not purchase a t-shirt is {sum(pd.isna(checkout_and_purchase.purchase_time)) / len(checkout_and_purchase):.2%}\")"
   ]
  },
  {
   "source": [
    "9. Which step of the funnel is weakest (i.e., has the highest percentage of users not completing it)?<br>\n",
    "<br>\n",
    "How might Cool T-Shirts Inc. change their website to fix this problem?"
   ],
   "cell_type": "markdown",
   "metadata": {}
  },
  {
   "source": [
    "<b>A</b>: Out of the examined metrics the percentage of users who did not place a t-shirt is the highest. This can be changed by:\n",
    "* Checking user behaviour and analyze why users are not placing a t-shirt in the cart\n",
    "* Performing A/B testing and see what increases the percentage\n",
    "* Giving the user incentives to add t-shirts to the cart"
   ],
   "cell_type": "markdown",
   "metadata": {}
  },
  {
   "source": [
    "## Average Time to Purchase\n",
    "\n",
    "Using the giant merged DataFrame `all_data` that you created, let’s calculate the average time from initial visit to final purchase. Start by adding the following column to your DataFrame:\n",
    "\n",
    "`all_data['time_to_purchase'] = all_data.purchase_time - all_data.visit_time`"
   ],
   "cell_type": "markdown",
   "metadata": {}
  },
  {
   "cell_type": "code",
   "execution_count": 13,
   "metadata": {},
   "outputs": [],
   "source": [
    "all_data['time_to_purchase'] = all_data.purchase_time - all_data.visit_time"
   ]
  },
  {
   "source": [
    "11. Examine the results."
   ],
   "cell_type": "markdown",
   "metadata": {}
  },
  {
   "cell_type": "code",
   "execution_count": 14,
   "metadata": {},
   "outputs": [
    {
     "output_type": "execute_result",
     "data": {
      "text/plain": [
       "0           NaT\n",
       "1      00:44:00\n",
       "2           NaT\n",
       "3           NaT\n",
       "4           NaT\n",
       "         ...   \n",
       "2367        NaT\n",
       "2368        NaT\n",
       "2369        NaT\n",
       "2370        NaT\n",
       "2371        NaT\n",
       "Name: time_to_purchase, Length: 2372, dtype: timedelta64[ns]"
      ]
     },
     "metadata": {},
     "execution_count": 14
    }
   ],
   "source": [
    "all_data.time_to_purchase"
   ]
  },
  {
   "source": [
    "12. Calculate the average time to purchase using the following code:<br>\n",
    "<br>\n",
    "`print(all_data.time_to_purchase.mean())`"
   ],
   "cell_type": "markdown",
   "metadata": {}
  },
  {
   "cell_type": "code",
   "execution_count": 15,
   "metadata": {},
   "outputs": [
    {
     "output_type": "stream",
     "name": "stdout",
     "text": [
      "0 days 00:43:53.360160\n"
     ]
    }
   ],
   "source": [
    "print(all_data.time_to_purchase.mean())"
   ]
  }
 ]
}