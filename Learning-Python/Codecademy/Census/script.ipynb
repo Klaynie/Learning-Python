{
 "metadata": {
  "language_info": {
   "codemirror_mode": {
    "name": "ipython",
    "version": 3
   },
   "file_extension": ".py",
   "mimetype": "text/x-python",
   "name": "python",
   "nbconvert_exporter": "python",
   "pygments_lexer": "ipython3",
   "version": "3.9.1-final"
  },
  "orig_nbformat": 2,
  "kernelspec": {
   "name": "python391jvsc74a57bd0ac59ebe37160ed0dfa835113d9b8498d9f09ceb179beaac4002f036b9467c963",
   "display_name": "Python 3.9.1 64-bit"
  },
  "metadata": {
   "interpreter": {
    "hash": "ac59ebe37160ed0dfa835113d9b8498d9f09ceb179beaac4002f036b9467c963"
   }
  }
 },
 "nbformat": 4,
 "nbformat_minor": 2,
 "cells": [
  {
   "source": [
    "# Summary Statistics\n",
    "\n",
    "## Census Variables\n",
    "\n",
    "You have decided to volunteer for your local community by offering to clean their recently collected census data. The description of this dataset is as follows:\n",
    "\n",
    "|column|description|\n",
    "|:-----|:----------|\n",
    "|first_name|The respondent's first name.|\n",
    "|last_name|The respondent's last name.|\n",
    "|birth_year|The respondent's year of birth.|\n",
    "|voted|If the respondent participated in the current voting cycle.|\n",
    "|num_children|The number of children the respondent has.|\n",
    "|income_year|The average yearly income the respondent earns.|\n",
    "|higher_tax|The respondent's answer to the question: \"Rate your agreement with the statement: the wealthy should pay higher taxes.\"|\n",
    "|marital_status|The respondent's current marital status.|"
   ],
   "cell_type": "markdown",
   "metadata": {}
  },
  {
   "source": [
    "***"
   ],
   "cell_type": "markdown",
   "metadata": {}
  },
  {
   "source": [
    "## Assessing Variable Type"
   ],
   "cell_type": "markdown",
   "metadata": {}
  },
  {
   "cell_type": "code",
   "execution_count": 1,
   "metadata": {},
   "outputs": [],
   "source": [
    "import pandas as pd\n",
    "\n",
    "census = pd.read_csv('census_data.csv', index_col=0)"
   ]
  },
  {
   "source": [
    "1. The `census` dataframe is composed of simulated census data to represent demographics of a small community in the U.S. Call the `.head()` method on the `census` dataframe and print the output to view the first five rows."
   ],
   "cell_type": "markdown",
   "metadata": {}
  },
  {
   "cell_type": "code",
   "execution_count": 2,
   "metadata": {},
   "outputs": [
    {
     "output_type": "execute_result",
     "data": {
      "text/plain": [
       "  first_name  last_name birth_year  voted  num_children  income_year  \\\n",
       "0     Denise      Ratke       2005  False             0     92129.41   \n",
       "1       Hali  Cummerata       1987  False             0     75649.17   \n",
       "2    Salomon        Orn       1992   True             2    166313.45   \n",
       "3     Sarina   Schiller       1965  False             2     71704.81   \n",
       "4       Gust  Abernathy       1945  False             2    143316.08   \n",
       "\n",
       "       higher_tax marital_status  \n",
       "0        disagree         single  \n",
       "1         neutral       divorced  \n",
       "2           agree         single  \n",
       "3  strongly agree        married  \n",
       "4           agree        married  "
      ],
      "text/html": "<div>\n<style scoped>\n    .dataframe tbody tr th:only-of-type {\n        vertical-align: middle;\n    }\n\n    .dataframe tbody tr th {\n        vertical-align: top;\n    }\n\n    .dataframe thead th {\n        text-align: right;\n    }\n</style>\n<table border=\"1\" class=\"dataframe\">\n  <thead>\n    <tr style=\"text-align: right;\">\n      <th></th>\n      <th>first_name</th>\n      <th>last_name</th>\n      <th>birth_year</th>\n      <th>voted</th>\n      <th>num_children</th>\n      <th>income_year</th>\n      <th>higher_tax</th>\n      <th>marital_status</th>\n    </tr>\n  </thead>\n  <tbody>\n    <tr>\n      <th>0</th>\n      <td>Denise</td>\n      <td>Ratke</td>\n      <td>2005</td>\n      <td>False</td>\n      <td>0</td>\n      <td>92129.41</td>\n      <td>disagree</td>\n      <td>single</td>\n    </tr>\n    <tr>\n      <th>1</th>\n      <td>Hali</td>\n      <td>Cummerata</td>\n      <td>1987</td>\n      <td>False</td>\n      <td>0</td>\n      <td>75649.17</td>\n      <td>neutral</td>\n      <td>divorced</td>\n    </tr>\n    <tr>\n      <th>2</th>\n      <td>Salomon</td>\n      <td>Orn</td>\n      <td>1992</td>\n      <td>True</td>\n      <td>2</td>\n      <td>166313.45</td>\n      <td>agree</td>\n      <td>single</td>\n    </tr>\n    <tr>\n      <th>3</th>\n      <td>Sarina</td>\n      <td>Schiller</td>\n      <td>1965</td>\n      <td>False</td>\n      <td>2</td>\n      <td>71704.81</td>\n      <td>strongly agree</td>\n      <td>married</td>\n    </tr>\n    <tr>\n      <th>4</th>\n      <td>Gust</td>\n      <td>Abernathy</td>\n      <td>1945</td>\n      <td>False</td>\n      <td>2</td>\n      <td>143316.08</td>\n      <td>agree</td>\n      <td>married</td>\n    </tr>\n  </tbody>\n</table>\n</div>"
     },
     "metadata": {},
     "execution_count": 2
    }
   ],
   "source": [
    "census.head()"
   ]
  },
  {
   "source": [
    "2. Review the dataframe description and values returned by `.head()` to assess the variable types of each of the variables. This is an important step to understand what preprocessing will be necessary to work with the data."
   ],
   "cell_type": "markdown",
   "metadata": {}
  },
  {
   "source": [
    "|column|datatype|\n",
    "|:-----|:-------|\n",
    "|`first_name`|string|\n",
    "|`last_name`|string|\n",
    "|`birth_year`|int|\n",
    "|`voted`|boolean|\n",
    "|`num_children`|int|\n",
    "|`income_year`|float|\n",
    "|`higher_tax`|string|\n",
    "|`marital_status`|string|"
   ],
   "cell_type": "markdown",
   "metadata": {}
  },
  {
   "source": [
    "3. Compare the values returned from the `.head()` method with the data types of each variable by calling `.dtypes` on the `census` dataframe and print the result."
   ],
   "cell_type": "markdown",
   "metadata": {}
  },
  {
   "cell_type": "code",
   "execution_count": 3,
   "metadata": {},
   "outputs": [
    {
     "output_type": "execute_result",
     "data": {
      "text/plain": [
       "first_name         object\n",
       "last_name          object\n",
       "birth_year         object\n",
       "voted                bool\n",
       "num_children        int64\n",
       "income_year       float64\n",
       "higher_tax         object\n",
       "marital_status     object\n",
       "dtype: object"
      ]
     },
     "metadata": {},
     "execution_count": 3
    }
   ],
   "source": [
    "census.dtypes"
   ]
  },
  {
   "source": [
    "## Inspecting Datatypes\n",
    "\n",
    "4. The manager of the census would like to know the average birth year of the respondents. We were able to see from `.dtypes` that `birth_year` has been assigned the `str` datatype whereas it should be expressed in `int`.\n",
    "\n",
    "    Print the unique values of the variable using the `.unique()` method."
   ],
   "cell_type": "markdown",
   "metadata": {}
  },
  {
   "cell_type": "code",
   "execution_count": 4,
   "metadata": {},
   "outputs": [
    {
     "output_type": "execute_result",
     "data": {
      "text/plain": [
       "array(['2005', '1987', '1992', '1965', '1945', '1951', '1963', '1949',\n",
       "       '1950', '1971', '2007', '1944', '1995', '1973', '1946', '1954',\n",
       "       '1994', '1989', '1947', '1993', '1976', '1984', 'missing', '1966',\n",
       "       '1941', '2000', '1953', '1956', '1960', '2001', '1980', '1955',\n",
       "       '1985', '1996', '1968', '1979', '2006', '1962', '1981', '1959',\n",
       "       '1977', '1978', '1983', '1957', '1961', '1982', '2002', '1998',\n",
       "       '1999', '1952', '1940', '1986', '1958'], dtype=object)"
      ]
     },
     "metadata": {},
     "execution_count": 4
    }
   ],
   "source": [
    "census['birth_year'].unique()"
   ]
  },
  {
   "source": [
    "## Altering Data\n",
    "\n",
    "5. There appears to be a missing value in the `birth_year` column. With some research you find that the respondent's birth year is 1967.\n",
    "\n",
    "    Use the `.replace()` method to replace the `missing` value with 1967, so that the data type can be changed to `int`. Then recheck the values in `birth_year` by calling the `.unique()` method and printing the results."
   ],
   "cell_type": "markdown",
   "metadata": {}
  },
  {
   "cell_type": "code",
   "execution_count": 5,
   "metadata": {},
   "outputs": [
    {
     "output_type": "execute_result",
     "data": {
      "text/plain": [
       "array(['2005', '1987', '1992', '1965', '1945', '1951', '1963', '1949',\n",
       "       '1950', '1971', '2007', '1944', '1995', '1973', '1946', '1954',\n",
       "       '1994', '1989', '1947', '1993', '1976', '1984', 1967, '1966',\n",
       "       '1941', '2000', '1953', '1956', '1960', '2001', '1980', '1955',\n",
       "       '1985', '1996', '1968', '1979', '2006', '1962', '1981', '1959',\n",
       "       '1977', '1978', '1983', '1957', '1961', '1982', '2002', '1998',\n",
       "       '1999', '1952', '1940', '1986', '1958'], dtype=object)"
      ]
     },
     "metadata": {},
     "execution_count": 5
    }
   ],
   "source": [
    "census['birth_year'] = census['birth_year'].replace(['missing'], 1967)\n",
    "\n",
    "census['birth_year'].unique()"
   ]
  },
  {
   "source": [
    "6. Now that we have adjusted the values in the `birth_year` variable, change the datatype from `str` to `int` and print the datatypes of the `census` dataframe with `.dtypes`."
   ],
   "cell_type": "markdown",
   "metadata": {}
  },
  {
   "cell_type": "code",
   "execution_count": 6,
   "metadata": {},
   "outputs": [
    {
     "output_type": "execute_result",
     "data": {
      "text/plain": [
       "first_name         object\n",
       "last_name          object\n",
       "birth_year          int32\n",
       "voted                bool\n",
       "num_children        int64\n",
       "income_year       float64\n",
       "higher_tax         object\n",
       "marital_status     object\n",
       "dtype: object"
      ]
     },
     "metadata": {},
     "execution_count": 6
    }
   ],
   "source": [
    "census['birth_year'] = census['birth_year'].astype('int')\n",
    "\n",
    "census.dtypes"
   ]
  },
  {
   "source": [
    "7. Having assigned `birth_year` to the appropriate data type, print the average birth year of the respondents to the census using the pandas `.mean()` method."
   ],
   "cell_type": "markdown",
   "metadata": {}
  },
  {
   "cell_type": "code",
   "execution_count": 7,
   "metadata": {},
   "outputs": [
    {
     "output_type": "execute_result",
     "data": {
      "text/plain": [
       "1973.4"
      ]
     },
     "metadata": {},
     "execution_count": 7
    }
   ],
   "source": [
    "census['birth_year'].mean()"
   ]
  },
  {
   "source": [
    "8. Your manager would like to set an order to the `higher_tax` variable so that: `strongly disagree` < `disagree` < `neutral` < `agree` < `strongly agree`.\n",
    "\n",
    "    Convert the `higher_tax` variable to the `category` data type with the appropriate order, then print the new order using the `.unique()` method."
   ],
   "cell_type": "markdown",
   "metadata": {}
  },
  {
   "cell_type": "code",
   "execution_count": 8,
   "metadata": {},
   "outputs": [
    {
     "output_type": "execute_result",
     "data": {
      "text/plain": [
       "['disagree', 'neutral', 'agree', 'strongly agree', 'strongly disagree']\n",
       "Categories (5, object): ['strongly disagree' < 'disagree' < 'neutral' < 'agree' < 'strongly agree']"
      ]
     },
     "metadata": {},
     "execution_count": 8
    }
   ],
   "source": [
    "census['higher_tax'] = pd.Categorical(census['higher_tax'], ['strongly disagree', 'disagree', 'neutral', 'agree', 'strongly agree'], ordered=True)\n",
    "\n",
    "census['higher_tax'].unique()"
   ]
  },
  {
   "source": [
    "9. Your manager would also like to know the median sentiment of the respondents on the issue of higher taxes for the wealthy. Label encode the `higher_tax` variable and print the median using the pandas `.median()` method."
   ],
   "cell_type": "markdown",
   "metadata": {}
  },
  {
   "cell_type": "code",
   "execution_count": 9,
   "metadata": {},
   "outputs": [
    {
     "output_type": "execute_result",
     "data": {
      "text/plain": [
       "  first_name  last_name  birth_year  voted  num_children  income_year  \\\n",
       "0     Denise      Ratke        2005  False             0     92129.41   \n",
       "1       Hali  Cummerata        1987  False             0     75649.17   \n",
       "2    Salomon        Orn        1992   True             2    166313.45   \n",
       "3     Sarina   Schiller        1965  False             2     71704.81   \n",
       "4       Gust  Abernathy        1945  False             2    143316.08   \n",
       "\n",
       "       higher_tax marital_status  higher_tax_codes  \n",
       "0        disagree         single                 1  \n",
       "1         neutral       divorced                 2  \n",
       "2           agree         single                 3  \n",
       "3  strongly agree        married                 4  \n",
       "4           agree        married                 3  "
      ],
      "text/html": "<div>\n<style scoped>\n    .dataframe tbody tr th:only-of-type {\n        vertical-align: middle;\n    }\n\n    .dataframe tbody tr th {\n        vertical-align: top;\n    }\n\n    .dataframe thead th {\n        text-align: right;\n    }\n</style>\n<table border=\"1\" class=\"dataframe\">\n  <thead>\n    <tr style=\"text-align: right;\">\n      <th></th>\n      <th>first_name</th>\n      <th>last_name</th>\n      <th>birth_year</th>\n      <th>voted</th>\n      <th>num_children</th>\n      <th>income_year</th>\n      <th>higher_tax</th>\n      <th>marital_status</th>\n      <th>higher_tax_codes</th>\n    </tr>\n  </thead>\n  <tbody>\n    <tr>\n      <th>0</th>\n      <td>Denise</td>\n      <td>Ratke</td>\n      <td>2005</td>\n      <td>False</td>\n      <td>0</td>\n      <td>92129.41</td>\n      <td>disagree</td>\n      <td>single</td>\n      <td>1</td>\n    </tr>\n    <tr>\n      <th>1</th>\n      <td>Hali</td>\n      <td>Cummerata</td>\n      <td>1987</td>\n      <td>False</td>\n      <td>0</td>\n      <td>75649.17</td>\n      <td>neutral</td>\n      <td>divorced</td>\n      <td>2</td>\n    </tr>\n    <tr>\n      <th>2</th>\n      <td>Salomon</td>\n      <td>Orn</td>\n      <td>1992</td>\n      <td>True</td>\n      <td>2</td>\n      <td>166313.45</td>\n      <td>agree</td>\n      <td>single</td>\n      <td>3</td>\n    </tr>\n    <tr>\n      <th>3</th>\n      <td>Sarina</td>\n      <td>Schiller</td>\n      <td>1965</td>\n      <td>False</td>\n      <td>2</td>\n      <td>71704.81</td>\n      <td>strongly agree</td>\n      <td>married</td>\n      <td>4</td>\n    </tr>\n    <tr>\n      <th>4</th>\n      <td>Gust</td>\n      <td>Abernathy</td>\n      <td>1945</td>\n      <td>False</td>\n      <td>2</td>\n      <td>143316.08</td>\n      <td>agree</td>\n      <td>married</td>\n      <td>3</td>\n    </tr>\n  </tbody>\n</table>\n</div>"
     },
     "metadata": {},
     "execution_count": 9
    }
   ],
   "source": [
    "census['higher_tax_codes'] = census['higher_tax'].cat.codes\n",
    "\n",
    "census.head()"
   ]
  },
  {
   "cell_type": "code",
   "execution_count": 10,
   "metadata": {},
   "outputs": [
    {
     "output_type": "execute_result",
     "data": {
      "text/plain": [
       "2.0"
      ]
     },
     "metadata": {},
     "execution_count": 10
    }
   ],
   "source": [
    "census['higher_tax_codes'].median()"
   ]
  },
  {
   "source": [
    "10. Your manager is interested in using machine learning models on the census data in the future. To help, let us One-Hot Encode `marital_status` to create binary variables of each category. Use the pandas `get_dummies()` method to One-Hot Encode the `marital_status` variable.\n",
    "\n",
    "Print the first five rows of the new dataframe with the `.head()` method. Note that you will have to scroll to the right or expand the web-browser to see the dummy variables."
   ],
   "cell_type": "markdown",
   "metadata": {}
  },
  {
   "cell_type": "code",
   "execution_count": 11,
   "metadata": {},
   "outputs": [
    {
     "output_type": "execute_result",
     "data": {
      "text/plain": [
       "  first_name  last_name  birth_year  voted  num_children  income_year  \\\n",
       "0     Denise      Ratke        2005  False             0     92129.41   \n",
       "1       Hali  Cummerata        1987  False             0     75649.17   \n",
       "2    Salomon        Orn        1992   True             2    166313.45   \n",
       "3     Sarina   Schiller        1965  False             2     71704.81   \n",
       "4       Gust  Abernathy        1945  False             2    143316.08   \n",
       "\n",
       "       higher_tax  higher_tax_codes  marital_status_divorced  \\\n",
       "0        disagree                 1                        0   \n",
       "1         neutral                 2                        1   \n",
       "2           agree                 3                        0   \n",
       "3  strongly agree                 4                        0   \n",
       "4           agree                 3                        0   \n",
       "\n",
       "   marital_status_married  marital_status_single  marital_status_widowed  \n",
       "0                       0                      1                       0  \n",
       "1                       0                      0                       0  \n",
       "2                       0                      1                       0  \n",
       "3                       1                      0                       0  \n",
       "4                       1                      0                       0  "
      ],
      "text/html": "<div>\n<style scoped>\n    .dataframe tbody tr th:only-of-type {\n        vertical-align: middle;\n    }\n\n    .dataframe tbody tr th {\n        vertical-align: top;\n    }\n\n    .dataframe thead th {\n        text-align: right;\n    }\n</style>\n<table border=\"1\" class=\"dataframe\">\n  <thead>\n    <tr style=\"text-align: right;\">\n      <th></th>\n      <th>first_name</th>\n      <th>last_name</th>\n      <th>birth_year</th>\n      <th>voted</th>\n      <th>num_children</th>\n      <th>income_year</th>\n      <th>higher_tax</th>\n      <th>higher_tax_codes</th>\n      <th>marital_status_divorced</th>\n      <th>marital_status_married</th>\n      <th>marital_status_single</th>\n      <th>marital_status_widowed</th>\n    </tr>\n  </thead>\n  <tbody>\n    <tr>\n      <th>0</th>\n      <td>Denise</td>\n      <td>Ratke</td>\n      <td>2005</td>\n      <td>False</td>\n      <td>0</td>\n      <td>92129.41</td>\n      <td>disagree</td>\n      <td>1</td>\n      <td>0</td>\n      <td>0</td>\n      <td>1</td>\n      <td>0</td>\n    </tr>\n    <tr>\n      <th>1</th>\n      <td>Hali</td>\n      <td>Cummerata</td>\n      <td>1987</td>\n      <td>False</td>\n      <td>0</td>\n      <td>75649.17</td>\n      <td>neutral</td>\n      <td>2</td>\n      <td>1</td>\n      <td>0</td>\n      <td>0</td>\n      <td>0</td>\n    </tr>\n    <tr>\n      <th>2</th>\n      <td>Salomon</td>\n      <td>Orn</td>\n      <td>1992</td>\n      <td>True</td>\n      <td>2</td>\n      <td>166313.45</td>\n      <td>agree</td>\n      <td>3</td>\n      <td>0</td>\n      <td>0</td>\n      <td>1</td>\n      <td>0</td>\n    </tr>\n    <tr>\n      <th>3</th>\n      <td>Sarina</td>\n      <td>Schiller</td>\n      <td>1965</td>\n      <td>False</td>\n      <td>2</td>\n      <td>71704.81</td>\n      <td>strongly agree</td>\n      <td>4</td>\n      <td>0</td>\n      <td>1</td>\n      <td>0</td>\n      <td>0</td>\n    </tr>\n    <tr>\n      <th>4</th>\n      <td>Gust</td>\n      <td>Abernathy</td>\n      <td>1945</td>\n      <td>False</td>\n      <td>2</td>\n      <td>143316.08</td>\n      <td>agree</td>\n      <td>3</td>\n      <td>0</td>\n      <td>1</td>\n      <td>0</td>\n      <td>0</td>\n    </tr>\n  </tbody>\n</table>\n</div>"
     },
     "metadata": {},
     "execution_count": 11
    }
   ],
   "source": [
    "census_one_hot_marital = pd.get_dummies(data=census, columns=['marital_status'])\n",
    "\n",
    "census_one_hot_marital.head()"
   ]
  },
  {
   "source": [
    "11. Congratulations! You have used your variable skills to help the census team with managing their data. Feel free to explore the data further. There are additional operations you can perform on the data, such as:\n",
    "\n",
    "* Create a new variable called `marital_codes` by Label Encoding the `marital_status` variable. This could help the Census team use machine learning to predict if a respondent thinks the wealthy should pay higher taxes based on their marital status.\n",
    "* Create a new variable called `age_group`, which groups respondents based on their birth year. The groups should be in five-year increments, e.g., `25-30`, `31-35`, etc. Then label encode the `age_group` variable to assist the Census team in the event they would like to use machine learning to predict if a respondent thinks the wealthy should pay higher taxes based on their age group."
   ],
   "cell_type": "markdown",
   "metadata": {}
  },
  {
   "cell_type": "code",
   "execution_count": 12,
   "metadata": {},
   "outputs": [
    {
     "output_type": "execute_result",
     "data": {
      "text/plain": [
       "  first_name  last_name  birth_year  voted  num_children  income_year  \\\n",
       "0     Denise      Ratke        2005  False             0     92129.41   \n",
       "1       Hali  Cummerata        1987  False             0     75649.17   \n",
       "2    Salomon        Orn        1992   True             2    166313.45   \n",
       "3     Sarina   Schiller        1965  False             2     71704.81   \n",
       "4       Gust  Abernathy        1945  False             2    143316.08   \n",
       "\n",
       "       higher_tax marital_status  higher_tax_codes  marital_codes  \n",
       "0        disagree         single                 1              2  \n",
       "1         neutral       divorced                 2              0  \n",
       "2           agree         single                 3              2  \n",
       "3  strongly agree        married                 4              1  \n",
       "4           agree        married                 3              1  "
      ],
      "text/html": "<div>\n<style scoped>\n    .dataframe tbody tr th:only-of-type {\n        vertical-align: middle;\n    }\n\n    .dataframe tbody tr th {\n        vertical-align: top;\n    }\n\n    .dataframe thead th {\n        text-align: right;\n    }\n</style>\n<table border=\"1\" class=\"dataframe\">\n  <thead>\n    <tr style=\"text-align: right;\">\n      <th></th>\n      <th>first_name</th>\n      <th>last_name</th>\n      <th>birth_year</th>\n      <th>voted</th>\n      <th>num_children</th>\n      <th>income_year</th>\n      <th>higher_tax</th>\n      <th>marital_status</th>\n      <th>higher_tax_codes</th>\n      <th>marital_codes</th>\n    </tr>\n  </thead>\n  <tbody>\n    <tr>\n      <th>0</th>\n      <td>Denise</td>\n      <td>Ratke</td>\n      <td>2005</td>\n      <td>False</td>\n      <td>0</td>\n      <td>92129.41</td>\n      <td>disagree</td>\n      <td>single</td>\n      <td>1</td>\n      <td>2</td>\n    </tr>\n    <tr>\n      <th>1</th>\n      <td>Hali</td>\n      <td>Cummerata</td>\n      <td>1987</td>\n      <td>False</td>\n      <td>0</td>\n      <td>75649.17</td>\n      <td>neutral</td>\n      <td>divorced</td>\n      <td>2</td>\n      <td>0</td>\n    </tr>\n    <tr>\n      <th>2</th>\n      <td>Salomon</td>\n      <td>Orn</td>\n      <td>1992</td>\n      <td>True</td>\n      <td>2</td>\n      <td>166313.45</td>\n      <td>agree</td>\n      <td>single</td>\n      <td>3</td>\n      <td>2</td>\n    </tr>\n    <tr>\n      <th>3</th>\n      <td>Sarina</td>\n      <td>Schiller</td>\n      <td>1965</td>\n      <td>False</td>\n      <td>2</td>\n      <td>71704.81</td>\n      <td>strongly agree</td>\n      <td>married</td>\n      <td>4</td>\n      <td>1</td>\n    </tr>\n    <tr>\n      <th>4</th>\n      <td>Gust</td>\n      <td>Abernathy</td>\n      <td>1945</td>\n      <td>False</td>\n      <td>2</td>\n      <td>143316.08</td>\n      <td>agree</td>\n      <td>married</td>\n      <td>3</td>\n      <td>1</td>\n    </tr>\n  </tbody>\n</table>\n</div>"
     },
     "metadata": {},
     "execution_count": 12
    }
   ],
   "source": [
    "census['marital_codes'] = census['marital_status'].astype('category')\n",
    "census['marital_codes'] = census['marital_codes'].cat.codes\n",
    "census.head()"
   ]
  },
  {
   "cell_type": "code",
   "execution_count": 13,
   "metadata": {},
   "outputs": [],
   "source": [
    "def get_age_group(age):\n",
    "    result = '1-13'\n",
    "    if age <= 25:\n",
    "        result = '14-25'\n",
    "    elif age <= 30:\n",
    "        result = '25-30'\n",
    "    elif age <= 35:\n",
    "        result = '31-35'\n",
    "    elif age <= 40:\n",
    "        result = '36-40'\n",
    "    elif age <= 45:\n",
    "        result = '41-45'\n",
    "    elif age <= 50:\n",
    "        result = '46-50'\n",
    "    elif age <= 55:\n",
    "        result = '51-55'\n",
    "    elif age <= 60:\n",
    "        result = '56-60'\n",
    "    elif age <= 65:\n",
    "        result = '61-65'\n",
    "    elif age <= 70:\n",
    "        result = '66-70'\n",
    "    else:\n",
    "        result = '70+'\n",
    "    return result"
   ]
  },
  {
   "cell_type": "code",
   "execution_count": 14,
   "metadata": {},
   "outputs": [
    {
     "output_type": "execute_result",
     "data": {
      "text/plain": [
       "  first_name  last_name  birth_year  voted  num_children  income_year  \\\n",
       "0     Denise      Ratke        2005  False             0     92129.41   \n",
       "1       Hali  Cummerata        1987  False             0     75649.17   \n",
       "2    Salomon        Orn        1992   True             2    166313.45   \n",
       "3     Sarina   Schiller        1965  False             2     71704.81   \n",
       "4       Gust  Abernathy        1945  False             2    143316.08   \n",
       "\n",
       "       higher_tax marital_status  higher_tax_codes  marital_codes  age  \\\n",
       "0        disagree         single                 1              2   16   \n",
       "1         neutral       divorced                 2              0   34   \n",
       "2           agree         single                 3              2   29   \n",
       "3  strongly agree        married                 4              1   56   \n",
       "4           agree        married                 3              1   76   \n",
       "\n",
       "  age_group  \n",
       "0     14-25  \n",
       "1     31-35  \n",
       "2     25-30  \n",
       "3     56-60  \n",
       "4       70+  "
      ],
      "text/html": "<div>\n<style scoped>\n    .dataframe tbody tr th:only-of-type {\n        vertical-align: middle;\n    }\n\n    .dataframe tbody tr th {\n        vertical-align: top;\n    }\n\n    .dataframe thead th {\n        text-align: right;\n    }\n</style>\n<table border=\"1\" class=\"dataframe\">\n  <thead>\n    <tr style=\"text-align: right;\">\n      <th></th>\n      <th>first_name</th>\n      <th>last_name</th>\n      <th>birth_year</th>\n      <th>voted</th>\n      <th>num_children</th>\n      <th>income_year</th>\n      <th>higher_tax</th>\n      <th>marital_status</th>\n      <th>higher_tax_codes</th>\n      <th>marital_codes</th>\n      <th>age</th>\n      <th>age_group</th>\n    </tr>\n  </thead>\n  <tbody>\n    <tr>\n      <th>0</th>\n      <td>Denise</td>\n      <td>Ratke</td>\n      <td>2005</td>\n      <td>False</td>\n      <td>0</td>\n      <td>92129.41</td>\n      <td>disagree</td>\n      <td>single</td>\n      <td>1</td>\n      <td>2</td>\n      <td>16</td>\n      <td>14-25</td>\n    </tr>\n    <tr>\n      <th>1</th>\n      <td>Hali</td>\n      <td>Cummerata</td>\n      <td>1987</td>\n      <td>False</td>\n      <td>0</td>\n      <td>75649.17</td>\n      <td>neutral</td>\n      <td>divorced</td>\n      <td>2</td>\n      <td>0</td>\n      <td>34</td>\n      <td>31-35</td>\n    </tr>\n    <tr>\n      <th>2</th>\n      <td>Salomon</td>\n      <td>Orn</td>\n      <td>1992</td>\n      <td>True</td>\n      <td>2</td>\n      <td>166313.45</td>\n      <td>agree</td>\n      <td>single</td>\n      <td>3</td>\n      <td>2</td>\n      <td>29</td>\n      <td>25-30</td>\n    </tr>\n    <tr>\n      <th>3</th>\n      <td>Sarina</td>\n      <td>Schiller</td>\n      <td>1965</td>\n      <td>False</td>\n      <td>2</td>\n      <td>71704.81</td>\n      <td>strongly agree</td>\n      <td>married</td>\n      <td>4</td>\n      <td>1</td>\n      <td>56</td>\n      <td>56-60</td>\n    </tr>\n    <tr>\n      <th>4</th>\n      <td>Gust</td>\n      <td>Abernathy</td>\n      <td>1945</td>\n      <td>False</td>\n      <td>2</td>\n      <td>143316.08</td>\n      <td>agree</td>\n      <td>married</td>\n      <td>3</td>\n      <td>1</td>\n      <td>76</td>\n      <td>70+</td>\n    </tr>\n  </tbody>\n</table>\n</div>"
     },
     "metadata": {},
     "execution_count": 14
    }
   ],
   "source": [
    "census['age'] = 2021 - census['birth_year']\n",
    "\n",
    "census['age_group'] = census['age'].apply(get_age_group)\n",
    "\n",
    "census.head()"
   ]
  }
 ]
}