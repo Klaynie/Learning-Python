{
 "cells": [
  {
   "cell_type": "markdown",
   "source": [
    "# Familiar: A Study In Data Analysis\r\n",
    "\r\n",
    "Welcome to *Familiar*, a startup in the new market of blood transfusion! You’ve joined the team because you appreciate the flexible hours and extremely intelligent team, but the overeager doorman welcoming you into the office is a nice way to start your workday (well, work-evening).\r\n",
    "\r\n",
    "*Familiar* has fallen into some tough times lately, so you’re hoping to help them make some insights about their product and help move the needle (so to speak)."
   ],
   "metadata": {}
  },
  {
   "cell_type": "code",
   "execution_count": 1,
   "source": [
    "import pandas as pd\r\n",
    "import numpy as np\r\n",
    "\r\n",
    "# Load datasets\r\n",
    "lifespans = pd.read_csv('familiar_lifespan.csv')\r\n",
    "iron = pd.read_csv('familiar_iron.csv')"
   ],
   "outputs": [],
   "metadata": {}
  },
  {
   "cell_type": "markdown",
   "source": [
    "## What Can Familiar Do For You?\r\n",
    "\r\n",
    "1. The Familiar team has provided us with some data on lifespans for subscribers to two different packages, the Vein Pack and the Artery Pack! This data has been loaded for you as a dataframe named `lifespans`. Use the `.head()` method to print out the first five rows and take a look!"
   ],
   "metadata": {}
  },
  {
   "cell_type": "code",
   "execution_count": 2,
   "source": [
    "lifespans.head()"
   ],
   "outputs": [
    {
     "output_type": "execute_result",
     "data": {
      "text/plain": [
       "     pack   lifespan\n",
       "0    vein  76.255090\n",
       "1  artery  76.404504\n",
       "2  artery  75.952442\n",
       "3  artery  76.923082\n",
       "4  artery  73.771212"
      ],
      "text/html": [
       "<div>\n",
       "<style scoped>\n",
       "    .dataframe tbody tr th:only-of-type {\n",
       "        vertical-align: middle;\n",
       "    }\n",
       "\n",
       "    .dataframe tbody tr th {\n",
       "        vertical-align: top;\n",
       "    }\n",
       "\n",
       "    .dataframe thead th {\n",
       "        text-align: right;\n",
       "    }\n",
       "</style>\n",
       "<table border=\"1\" class=\"dataframe\">\n",
       "  <thead>\n",
       "    <tr style=\"text-align: right;\">\n",
       "      <th></th>\n",
       "      <th>pack</th>\n",
       "      <th>lifespan</th>\n",
       "    </tr>\n",
       "  </thead>\n",
       "  <tbody>\n",
       "    <tr>\n",
       "      <th>0</th>\n",
       "      <td>vein</td>\n",
       "      <td>76.255090</td>\n",
       "    </tr>\n",
       "    <tr>\n",
       "      <th>1</th>\n",
       "      <td>artery</td>\n",
       "      <td>76.404504</td>\n",
       "    </tr>\n",
       "    <tr>\n",
       "      <th>2</th>\n",
       "      <td>artery</td>\n",
       "      <td>75.952442</td>\n",
       "    </tr>\n",
       "    <tr>\n",
       "      <th>3</th>\n",
       "      <td>artery</td>\n",
       "      <td>76.923082</td>\n",
       "    </tr>\n",
       "    <tr>\n",
       "      <th>4</th>\n",
       "      <td>artery</td>\n",
       "      <td>73.771212</td>\n",
       "    </tr>\n",
       "  </tbody>\n",
       "</table>\n",
       "</div>"
      ]
     },
     "metadata": {},
     "execution_count": 2
    }
   ],
   "metadata": {}
  },
  {
   "cell_type": "markdown",
   "source": [
    "2. The first thing we want to know is whether Familiar's most basic package, the Vein Pack, actually has a significant impact on the subscribers. It would be a marketing goldmine if we can show that subscribers to the Vein Pack live longer than other people.\r\n",
    "\r\n",
    "    Extract the life spans of subscribers to the `'vein'` pack and save the data into a variable called `vein_pack_lifespans`."
   ],
   "metadata": {}
  },
  {
   "cell_type": "code",
   "execution_count": 3,
   "source": [
    "vein_pack_lifespans = lifespans.lifespan[lifespans.pack == 'vein']"
   ],
   "outputs": [],
   "metadata": {}
  },
  {
   "cell_type": "markdown",
   "source": [
    "3. Next, use `np.mean()` to calculate the average lifespan for Vein Pack subscribers and print the result. Is it longer than 73 years?"
   ],
   "metadata": {}
  },
  {
   "cell_type": "code",
   "execution_count": 4,
   "source": [
    "average_vein_pack_lifespan = np.mean(vein_pack_lifespans)\r\n",
    "average_vein_pack_lifespan"
   ],
   "outputs": [
    {
     "output_type": "execute_result",
     "data": {
      "text/plain": [
       "76.16901335636044"
      ]
     },
     "metadata": {},
     "execution_count": 4
    }
   ],
   "metadata": {}
  },
  {
   "cell_type": "markdown",
   "source": [
    "4. We wouldd like to find out if the average lifespan of a Vein Pack subscriber is *significantly different* from the average life expectancy of `73` years.\r\n",
    "\r\n",
    "    Import the statistical test from `scipy.stats` that we would use to test the following null and alternative hypotheses:\r\n",
    "\r\n",
    "    * Null: The average lifespan of a Vein Pack subscriber is 73 years.\r\n",
    "    * Alternative: The average lifespan of a Vein Pack subscriber is NOT 73 years."
   ],
   "metadata": {}
  },
  {
   "cell_type": "code",
   "execution_count": 5,
   "source": [
    "from scipy.stats import ttest_1samp"
   ],
   "outputs": [],
   "metadata": {}
  },
  {
   "cell_type": "markdown",
   "source": [
    "5. Now that you have imported the function you need, run the significance test and print out the p-value! Is the average lifespan of a Vein Pack subscriber significantly longer than 73 years? Use a significance threshold of 0.05."
   ],
   "metadata": {}
  },
  {
   "cell_type": "code",
   "execution_count": 6,
   "source": [
    "average_lifespan = 73\r\n",
    "_, pval = ttest_1samp(vein_pack_lifespans, average_lifespan)\r\n",
    "\r\n",
    "print(f'{pval:0.2e}')"
   ],
   "outputs": [
    {
     "output_type": "stream",
     "name": "stdout",
     "text": [
      "5.97e-07\n"
     ]
    }
   ],
   "metadata": {}
  },
  {
   "cell_type": "markdown",
   "source": [
    "### Conclusion\r\n",
    "\r\n",
    "The average lifespan of Vein Pack subscribers IS significantly different from 73 years."
   ],
   "metadata": {}
  },
  {
   "cell_type": "markdown",
   "source": [
    "## Upselling Familiar: Pumping Life Into The Company\r\n",
    "\r\n",
    "6. In order to differentiate Familiar's different product lines, we would like to compare this lifespan data between our different packages. Our next step up from the Vein Pack is the Artery Pack.\r\n",
    "\r\n",
    "    Let us get the lifespans of Artery Pack subscribers. Using the same `lifespans` dataset, extract the lifespans of subscribers to the Artery Pack and save them as `artery_pack_lifespans`."
   ],
   "metadata": {}
  },
  {
   "cell_type": "code",
   "execution_count": 7,
   "source": [
    "artery_pack_lifespans = lifespans.lifespan[lifespans.pack == 'artery']"
   ],
   "outputs": [],
   "metadata": {}
  },
  {
   "cell_type": "markdown",
   "source": [
    "7. Use `np.mean()` to calculate the average lifespan for Artery Pack subscribers and print the result. Is it longer than for the Vein Pack?"
   ],
   "metadata": {}
  },
  {
   "cell_type": "code",
   "execution_count": 8,
   "source": [
    "average_artery_pack_lifespan = np.mean(artery_pack_lifespans)\r\n",
    "average_artery_pack_lifespan"
   ],
   "outputs": [
    {
     "output_type": "execute_result",
     "data": {
      "text/plain": [
       "74.8736622351704"
      ]
     },
     "metadata": {},
     "execution_count": 8
    }
   ],
   "metadata": {}
  },
  {
   "cell_type": "code",
   "execution_count": 9,
   "source": [
    "average_artery_pack_lifespan > average_vein_pack_lifespan"
   ],
   "outputs": [
    {
     "output_type": "execute_result",
     "data": {
      "text/plain": [
       "False"
      ]
     },
     "metadata": {},
     "execution_count": 9
    }
   ],
   "metadata": {}
  },
  {
   "cell_type": "markdown",
   "source": [
    "8. We would like to find out if the average lifespan of a Vein Pack subscriber is *significantly different* from the average life expectancy for the Artery Pack.\r\n",
    "\r\n",
    "    Import the statistical test from `scipy.stats` that we would use to test the following null and alternative hypotheses:\r\n",
    "    \r\n",
    "    * Null: The average lifespan of a Vein Pack subscriber is equal to the average lifespan of an Artery Pack subscriber.\r\n",
    "    * Alternative: The average lifespan of a Vein Pack subscriber is NOT equal to the average lifespan of an Artery Pack subscriber."
   ],
   "metadata": {}
  },
  {
   "cell_type": "code",
   "execution_count": 10,
   "source": [
    "import matplotlib.pyplot as plt \r\n",
    "import seaborn as sns\r\n",
    "\r\n",
    "PROPS = {\r\n",
    "    'boxprops': {'edgecolor':'white'},\r\n",
    "    'medianprops': {'color':'white'},\r\n",
    "    'whiskerprops': {'color':'white'},\r\n",
    "    'capprops': {'color':'white'},\r\n",
    "    'flierprops': {\r\n",
    "                    'markerfacecolor':'white',\r\n",
    "                    'markeredgecolor': 'white',\r\n",
    "                    'markersize': 12\r\n",
    "                }\r\n",
    "}\r\n",
    "\r\n",
    "VIBRANT_PRIMARY_COLORS = {\r\n",
    "    'Sky': '#375E97',\r\n",
    "    'Sunset': '#FB6542',\r\n",
    "    'Sunflower': '#FFBB00',\r\n",
    "    'Grass': '3F681C'\r\n",
    "}\r\n",
    "\r\n",
    "my_pal = {\r\n",
    "    \"artery\": VIBRANT_PRIMARY_COLORS['Sky'],\r\n",
    "    \"vein\": VIBRANT_PRIMARY_COLORS['Sunset']\r\n",
    "}\r\n",
    "\r\n",
    "plt.style.use('dark_background')\r\n",
    "\r\n",
    "sns.boxplot(\r\n",
    "    x=lifespans.pack,\r\n",
    "    y=lifespans.lifespan,\r\n",
    "    palette=my_pal,    \r\n",
    "    order = [\r\n",
    "        'artery',\r\n",
    "        'vein'\r\n",
    "        ],\r\n",
    "    **PROPS)\\\r\n",
    ".set_title('Lifespan distribution for Blood Transfusion types')\r\n",
    "\r\n",
    "plt.show()"
   ],
   "outputs": [
    {
     "output_type": "display_data",
     "data": {
      "text/plain": [
       "<Figure size 432x288 with 1 Axes>"
      ],
      "image/png": "[encoded data removed]"
     },
     "metadata": {}
    }
   ],
   "metadata": {}
  },
  {
   "cell_type": "code",
   "execution_count": 11,
   "source": [
    "from scipy.stats import ttest_ind"
   ],
   "outputs": [],
   "metadata": {}
  },
  {
   "cell_type": "markdown",
   "source": [
    "9. Now that you have imported the function you need, run the significance test and print out the p-value! Is the average lifespan of a Vein Pack subscriber significantly different from the average lifespan of an Artery Pack subscriber? Use a significance threshold of 0.05."
   ],
   "metadata": {}
  },
  {
   "cell_type": "code",
   "execution_count": 12,
   "source": [
    "_, pval = ttest_ind(a=vein_pack_lifespans, b=artery_pack_lifespans)\r\n",
    "print(f'{pval:0.2e}')"
   ],
   "outputs": [
    {
     "output_type": "stream",
     "name": "stdout",
     "text": [
      "5.59e-02\n"
     ]
    }
   ],
   "metadata": {}
  },
  {
   "cell_type": "markdown",
   "source": [
    "### Conclusion\r\n",
    "\r\n",
    "We conclude that the average lifespan of Vein Pack subscribers is not significantly different from the average lifespan of an Artery Pack subscriber."
   ],
   "metadata": {}
  },
  {
   "cell_type": "markdown",
   "source": [
    "## Side Effects: A Familiar Problem\r\n",
    "\r\n",
    "10. The Familiar team has provided us with another dataset containing survey data about iron counts for our subscribers. This data has been pre-processed to categorize iron counts as \"low\", \"normal\", and \"high\" for each subscriber. Familiar wants to be able to advise potential subscribers about possible side effects of these packs and whether they differ for the Vein vs. the Artery pack.\r\n",
    "\r\n",
    "    The data has been loaded for you as a dataframe named `iron`. Use the `.head()` method to print out the first five rows and take a look!"
   ],
   "metadata": {}
  },
  {
   "cell_type": "code",
   "execution_count": 13,
   "source": [
    "iron.head()"
   ],
   "outputs": [
    {
     "output_type": "execute_result",
     "data": {
      "text/plain": [
       "     pack    iron\n",
       "0    vein     low\n",
       "1  artery  normal\n",
       "2  artery  normal\n",
       "3  artery  normal\n",
       "4  artery    high"
      ],
      "text/html": [
       "<div>\n",
       "<style scoped>\n",
       "    .dataframe tbody tr th:only-of-type {\n",
       "        vertical-align: middle;\n",
       "    }\n",
       "\n",
       "    .dataframe tbody tr th {\n",
       "        vertical-align: top;\n",
       "    }\n",
       "\n",
       "    .dataframe thead th {\n",
       "        text-align: right;\n",
       "    }\n",
       "</style>\n",
       "<table border=\"1\" class=\"dataframe\">\n",
       "  <thead>\n",
       "    <tr style=\"text-align: right;\">\n",
       "      <th></th>\n",
       "      <th>pack</th>\n",
       "      <th>iron</th>\n",
       "    </tr>\n",
       "  </thead>\n",
       "  <tbody>\n",
       "    <tr>\n",
       "      <th>0</th>\n",
       "      <td>vein</td>\n",
       "      <td>low</td>\n",
       "    </tr>\n",
       "    <tr>\n",
       "      <th>1</th>\n",
       "      <td>artery</td>\n",
       "      <td>normal</td>\n",
       "    </tr>\n",
       "    <tr>\n",
       "      <th>2</th>\n",
       "      <td>artery</td>\n",
       "      <td>normal</td>\n",
       "    </tr>\n",
       "    <tr>\n",
       "      <th>3</th>\n",
       "      <td>artery</td>\n",
       "      <td>normal</td>\n",
       "    </tr>\n",
       "    <tr>\n",
       "      <th>4</th>\n",
       "      <td>artery</td>\n",
       "      <td>high</td>\n",
       "    </tr>\n",
       "  </tbody>\n",
       "</table>\n",
       "</div>"
      ]
     },
     "metadata": {},
     "execution_count": 13
    }
   ],
   "metadata": {}
  },
  {
   "cell_type": "markdown",
   "source": [
    "11. Is there an association between the pack that a subscriber gets (Vein vs. Artery) and their iron level? Use the pandas `crosstab()` function to create a contingency table of the `pack` and `iron` columns in the `iron` data. Save the result as `xtab` and print it out."
   ],
   "metadata": {}
  },
  {
   "cell_type": "code",
   "execution_count": 14,
   "source": [
    "levels = ['low', 'normal', 'high']\r\n",
    "xtab = pd.crosstab(iron.pack, iron.iron)\r\n",
    "xtab = xtab[levels]\r\n",
    "xtab"
   ],
   "outputs": [
    {
     "output_type": "execute_result",
     "data": {
      "text/plain": [
       "iron    low  normal  high\n",
       "pack                     \n",
       "artery   29      29    87\n",
       "vein    140      40    20"
      ],
      "text/html": [
       "<div>\n",
       "<style scoped>\n",
       "    .dataframe tbody tr th:only-of-type {\n",
       "        vertical-align: middle;\n",
       "    }\n",
       "\n",
       "    .dataframe tbody tr th {\n",
       "        vertical-align: top;\n",
       "    }\n",
       "\n",
       "    .dataframe thead th {\n",
       "        text-align: right;\n",
       "    }\n",
       "</style>\n",
       "<table border=\"1\" class=\"dataframe\">\n",
       "  <thead>\n",
       "    <tr style=\"text-align: right;\">\n",
       "      <th>iron</th>\n",
       "      <th>low</th>\n",
       "      <th>normal</th>\n",
       "      <th>high</th>\n",
       "    </tr>\n",
       "    <tr>\n",
       "      <th>pack</th>\n",
       "      <th></th>\n",
       "      <th></th>\n",
       "      <th></th>\n",
       "    </tr>\n",
       "  </thead>\n",
       "  <tbody>\n",
       "    <tr>\n",
       "      <th>artery</th>\n",
       "      <td>29</td>\n",
       "      <td>29</td>\n",
       "      <td>87</td>\n",
       "    </tr>\n",
       "    <tr>\n",
       "      <th>vein</th>\n",
       "      <td>140</td>\n",
       "      <td>40</td>\n",
       "      <td>20</td>\n",
       "    </tr>\n",
       "  </tbody>\n",
       "</table>\n",
       "</div>"
      ]
     },
     "metadata": {},
     "execution_count": 14
    }
   ],
   "metadata": {}
  },
  {
   "cell_type": "code",
   "execution_count": 15,
   "source": [
    "sns.catplot(\r\n",
    "    kind='count',\r\n",
    "    x='iron',\r\n",
    "    hue='pack',\r\n",
    "    data=iron,\r\n",
    "    palette=my_pal,\r\n",
    "    edgecolor='white'\r\n",
    ")\r\n",
    "plt.show()"
   ],
   "outputs": [
    {
     "output_type": "display_data",
     "data": {
      "text/plain": [
       "<Figure size 426.25x360 with 1 Axes>"
      ],
      "image/png": "[encoded data removed]"
     },
     "metadata": {}
    }
   ],
   "metadata": {}
  },
  {
   "cell_type": "markdown",
   "source": [
    "12. We would like to find out if there is a significant association between which pack (Vein vs. Artery) someone subscribes to and their iron level.\r\n",
    "\r\n",
    "    Import the statistical test from `scipy.stats` that we would use to test the following null and alternative hypotheses:\r\n",
    "\r\n",
    "    * Null: There is NOT an association between which pack (Vein vs. Artery) someone subscribes to and their iron level.\r\n",
    "    * Alternative: There is an association between which pack (Vein vs. Artery) someone subscribes to and their iron level."
   ],
   "metadata": {}
  },
  {
   "cell_type": "code",
   "execution_count": 16,
   "source": [
    "from scipy.stats import chi2_contingency"
   ],
   "outputs": [],
   "metadata": {}
  },
  {
   "cell_type": "markdown",
   "source": [
    "13. Now that you have imported the function you need, run the significance test and print out the p-value! Is there a significant association between which pack (Vein vs. Artery) someone subscribes to and their iron level? Use a significance threshold of 0.05."
   ],
   "metadata": {}
  },
  {
   "cell_type": "code",
   "execution_count": 17,
   "source": [
    "_, pval, _, _ = chi2_contingency(xtab)\r\n",
    "print(f'{pval:0.2e}')"
   ],
   "outputs": [
    {
     "output_type": "stream",
     "name": "stdout",
     "text": [
      "9.36e-25\n"
     ]
    }
   ],
   "metadata": {}
  },
  {
   "cell_type": "markdown",
   "source": [
    "### Conclusion\r\n",
    "\r\n",
    "We conclude that there IS a significant association between pack and iron level."
   ],
   "metadata": {}
  }
 ],
 "metadata": {
  "orig_nbformat": 4,
  "language_info": {
   "name": "python",
   "version": "3.9.1",
   "mimetype": "text/x-python",
   "codemirror_mode": {
    "name": "ipython",
    "version": 3
   },
   "pygments_lexer": "ipython3",
   "nbconvert_exporter": "python",
   "file_extension": ".py"
  },
  "kernelspec": {
   "name": "python3",
   "display_name": "Python 3.9.1 64-bit"
  },
  "interpreter": {
   "hash": "ac59ebe37160ed0dfa835113d9b8498d9f09ceb179beaac4002f036b9467c963"
  }
 },
 "nbformat": 4,
 "nbformat_minor": 2
}