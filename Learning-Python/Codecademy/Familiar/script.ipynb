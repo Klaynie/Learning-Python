{
 "metadata": {
  "language_info": {
   "codemirror_mode": {
    "name": "ipython",
    "version": 3
   },
   "file_extension": ".py",
   "mimetype": "text/x-python",
   "name": "python",
   "nbconvert_exporter": "python",
   "pygments_lexer": "ipython3",
   "version": "3.7.6-final"
  },
  "orig_nbformat": 2,
  "kernelspec": {
   "name": "python3",
   "display_name": "Python 3",
   "language": "python"
  }
 },
 "nbformat": 4,
 "nbformat_minor": 2,
 "cells": [
  {
   "source": [
    "# Familiar: A Study In Data Analysis\n",
    "\n",
    "Welcome to _Familiar_, a startup in the new market of blood transfusion! You’ve joined the team because you appreciate the flexible hours and extremely intelligent team, but the overeager doorman welcoming you into the office is a nice way to start your workday (well, work-evening).\n",
    "\n",
    "Familiar has fallen into some tough times lately, so you are hoping to help them make some insights about their product and help move the needle (so to speak)."
   ],
   "cell_type": "markdown",
   "metadata": {}
  },
  {
   "cell_type": "code",
   "execution_count": 1,
   "metadata": {},
   "outputs": [
    {
     "output_type": "execute_result",
     "data": {
      "text/plain": [
       "<IPython.lib.display.YouTubeVideo at 0x2c3383565c8>"
      ],
      "text/html": "\n        <iframe\n            width=\"800\"\n            height=\"500\"\n            src=\"https://www.youtube.com/embed/fu65555F2yc\"\n            frameborder=\"0\"\n            allowfullscreen\n        ></iframe>\n        ",
      "image/jpeg": "[encoded data removed]"
     },
     "metadata": {},
     "execution_count": 1
    }
   ],
   "source": [
    "from IPython.display import YouTubeVideo\n",
    "YouTubeVideo('fu65555F2yc', width = 800, height = 500)"
   ]
  },
  {
   "source": [
    "## What Can Familiar Do For You?\n",
    "\n",
    "1. We are going to start by including a data interface that a previous software engineer wrote for you, it is aptly titled familiar, so just import that."
   ],
   "cell_type": "markdown",
   "metadata": {}
  },
  {
   "cell_type": "code",
   "execution_count": 2,
   "metadata": {},
   "outputs": [],
   "source": [
    "import familiar"
   ]
  },
  {
   "source": [
    "2. Perfect, now the first thing we want to show is that our most basic package, the Vein Pack, actually has a significant impact on the subscribers. It would be a marketing goldmine if we can show that subscribers to the Vein Pack live longer than other people.\n",
    "\n",
    "    Lifespans of Vein Pack users are returned by the function `lifespans(package='vein')`, which is part of the `familiar` module. Call that function and save the data into a variable called `vein_pack_lifespans`."
   ],
   "cell_type": "markdown",
   "metadata": {}
  },
  {
   "cell_type": "code",
   "execution_count": 3,
   "metadata": {},
   "outputs": [
    {
     "output_type": "execute_result",
     "data": {
      "text/plain": [
       "[76.93767431371617,\n",
       " 75.99335913014681,\n",
       " 74.79815012354048,\n",
       " 74.50202147158551,\n",
       " 77.48888897587436,\n",
       " 72.14256573154043,\n",
       " 75.99303167191182,\n",
       " 76.34155048095228,\n",
       " 77.48475562999882,\n",
       " 76.5321014800867,\n",
       " 76.25508955276418,\n",
       " 77.58398316566651,\n",
       " 77.04737034962294,\n",
       " 72.87475174594711,\n",
       " 77.43504547002844,\n",
       " 77.4923414107892,\n",
       " 78.32672046879952,\n",
       " 73.34370246887067,\n",
       " 79.96915765236346,\n",
       " 74.83800583300325]"
      ]
     },
     "metadata": {},
     "execution_count": 3
    }
   ],
   "source": [
    "vein_pack_lifespans = familiar.lifespans(package='vein')\n",
    "vein_pack_lifespans"
   ]
  },
  {
   "source": [
    "3. We would like to find out if the average lifespan of a Vein Pack subscriber is _significantly different_ from the average life expectancy of $71$ years.\n",
    "\n",
    "    Import the statistical test we would use to determine if a sample comes from a population that has a given mean from `scipy.stats`."
   ],
   "cell_type": "markdown",
   "metadata": {}
  },
  {
   "cell_type": "code",
   "execution_count": 4,
   "metadata": {},
   "outputs": [],
   "source": [
    "from scipy.stats import ttest_1samp"
   ]
  },
  {
   "source": [
    "4. Now use the 1-Sample T-Test to compare `vein_pack_lifespans` to the average life expectancy $71$. Save the result into a variable called `vein_pack_test`."
   ],
   "cell_type": "markdown",
   "metadata": {}
  },
  {
   "cell_type": "code",
   "execution_count": 5,
   "metadata": {},
   "outputs": [],
   "source": [
    "average_life_expectancy = 71\n",
    "\n",
    "vein_pack_test = ttest_1samp(vein_pack_lifespans, average_life_expectancy)"
   ]
  },
  {
   "source": [
    "5. Let us check if the results are significant! Check the pvalue of `vein_pack_test`. If it is less than $0.05$, we have got significance!"
   ],
   "cell_type": "markdown",
   "metadata": {}
  },
  {
   "cell_type": "code",
   "execution_count": 6,
   "metadata": {},
   "outputs": [
    {
     "output_type": "execute_result",
     "data": {
      "text/plain": [
       "2.7463117986584107e-10"
      ]
     },
     "metadata": {},
     "execution_count": 6
    }
   ],
   "source": [
    "vein_pack_test.pvalue"
   ]
  },
  {
   "cell_type": "code",
   "execution_count": 7,
   "metadata": {},
   "outputs": [],
   "source": [
    "significance_threshold = 0.05"
   ]
  },
  {
   "source": [
    "6. We want to present this information to the CEO, Vlad, of this incredible finding. Let us print some information out! If the test's p-value is **less** than $0.05$, print `\"The Vein Pack Is Proven To Make You Live Longer!\"`. Otherwise print `\"The Vein Pack Is Probably Good For You Somehow!\"`"
   ],
   "cell_type": "markdown",
   "metadata": {}
  },
  {
   "cell_type": "code",
   "execution_count": 8,
   "metadata": {},
   "outputs": [
    {
     "output_type": "stream",
     "name": "stdout",
     "text": [
      "The Vein Pack Is Proven To Make You Live Longer!\n"
     ]
    }
   ],
   "source": [
    "if vein_pack_test.pvalue < significance_threshold:\n",
    "    print(\"The Vein Pack Is Proven To Make You Live Longer!\")\n",
    "else:\n",
    "    print(\"The Vein Pack Is Probably Good For You Somehow!\")"
   ]
  },
  {
   "source": [
    "## Upselling Familiar: Pumping Life Into The Company\n",
    "\n",
    "7. In order to differentiate Familiar's different product lines, we would like to compare this lifespan data between our different packages. Our next step up from the Vein Pack is the Artery Pack. Let us get the lifespans of Artery Pack subscribers using the same method, called with `package='artery'` instead. Save the value into a variable called `artery_pack_lifespans`."
   ],
   "cell_type": "markdown",
   "metadata": {}
  },
  {
   "cell_type": "code",
   "execution_count": 9,
   "metadata": {},
   "outputs": [
    {
     "output_type": "execute_result",
     "data": {
      "text/plain": [
       "[76.33537008426835,\n",
       " 76.92308231559062,\n",
       " 75.9524416448778,\n",
       " 74.5449834807203,\n",
       " 76.4045042754472,\n",
       " 73.07924888636576,\n",
       " 77.02354461052992,\n",
       " 74.1174204200688,\n",
       " 77.38650656208344,\n",
       " 73.04476583718993,\n",
       " 74.96311850866167,\n",
       " 73.31954301933486,\n",
       " 75.85740137696862,\n",
       " 76.15265351351255,\n",
       " 73.3551028632267,\n",
       " 73.90221256458788,\n",
       " 73.77121195092475,\n",
       " 68.31489830285578,\n",
       " 74.63975717775328,\n",
       " 78.38547730843979]"
      ]
     },
     "metadata": {},
     "execution_count": 9
    }
   ],
   "source": [
    "artery_pack_lifespans = familiar.lifespans(package='artery')\n",
    "artery_pack_lifespans"
   ]
  },
  {
   "source": [
    "8. Now we want to show that the subscribers to the Artery Pack experience a significant improvement even beyond what a Vein Pack subscriber's benefits. Import the 2-Sample T-Test and we will use that to see if there is a significant difference between the two subscriptions."
   ],
   "cell_type": "markdown",
   "metadata": {}
  },
  {
   "cell_type": "code",
   "execution_count": 10,
   "metadata": {},
   "outputs": [],
   "source": [
    "from scipy.stats import ttest_ind"
   ]
  },
  {
   "source": [
    "9. Okay let us run the 2-Sample test! Save the results into a variable named `package_comparison_results`."
   ],
   "cell_type": "markdown",
   "metadata": {}
  },
  {
   "cell_type": "code",
   "execution_count": 11,
   "metadata": {},
   "outputs": [],
   "source": [
    "package_comparison_results = ttest_ind(vein_pack_lifespans, artery_pack_lifespans)"
   ]
  },
  {
   "source": [
    "10. Let us see the results! If the p-value from our experiment is less than $0.05$, the results are significant and we should print out `\"The Artery Package guarantees even stronger results!\"`. Otherwise we should print out `\"The Artery Package is also a great product!\"`"
   ],
   "cell_type": "markdown",
   "metadata": {}
  },
  {
   "cell_type": "code",
   "execution_count": 12,
   "metadata": {},
   "outputs": [
    {
     "output_type": "stream",
     "name": "stdout",
     "text": [
      "The Artery Package is also a great product!\n"
     ]
    }
   ],
   "source": [
    "if package_comparison_results.pvalue < significance_threshold:\n",
    "    print(\"The Artery Package guarantees even stronger results!\")\n",
    "else:\n",
    "    print(\"The Artery Package is also a great product!\")"
   ]
  },
  {
   "source": [
    "11. Well, shame that it is not significantly better, but maybe there is a way to demonstrate the benefits of the Artery Package yet."
   ],
   "cell_type": "markdown",
   "metadata": {}
  },
  {
   "source": [
    "## Benefitting Everyone: A Familiar Problem\n",
    "\n",
    "12. If your lifespan is not significantly increased by signing up for the Artery Package, maybe we can make some other claim about the benefits of the package. To that end, we have sent out a survey collecting the iron counts for our subscribers, and filtered that data into \"low\", \"normal\", and \"high\".\n",
    "\n",
    "    We received $200$ responses from our Vein Package subscribers. $70\\%$ of them had low iron counts, $20\\%$ had normal, and $10\\%$ of them have high iron counts.\n",
    "\n",
    "    We were only able to get $145$ responses from our Artery Package subscribers, but only $20\\%$ of them had low iron counts. $60\\%$ had normal, and $20\\%$ have high iron counts."
   ],
   "cell_type": "markdown",
   "metadata": {}
  },
  {
   "source": [
    "| |Vein|Artery|\n",
    "|-|:---|:-----|\n",
    "|low|140|29|\n",
    "|normal|40|87|\n",
    "|high|20|29|"
   ],
   "cell_type": "markdown",
   "metadata": {}
  },
  {
   "source": [
    "13. The data from the survey has been collected and formatted into a contingency table. You can access that data from the function `familiar.iron_counts_for_package()`. Save the survey results into a variable called `iron_contingency_table`."
   ],
   "cell_type": "markdown",
   "metadata": {}
  },
  {
   "cell_type": "code",
   "execution_count": 13,
   "metadata": {},
   "outputs": [
    {
     "output_type": "stream",
     "name": "stdout",
     "text": [
      "[140, 29]\n[40, 87]\n[20, 29]\n"
     ]
    }
   ],
   "source": [
    "iron_contingency_table = familiar.iron_counts_for_package()\n",
    "\n",
    "for item in iron_contingency_table:\n",
    "    print(item)"
   ]
  },
  {
   "source": [
    "14. We want to be able to tell if what seems like a higher number of our Artery Package subscribers is a significant difference from what was reported by Vein Package subscribers. Import the Chi-Squared test so that we can find out."
   ],
   "cell_type": "markdown",
   "metadata": {}
  },
  {
   "cell_type": "code",
   "execution_count": 14,
   "metadata": {},
   "outputs": [],
   "source": [
    "from scipy.stats import chi2_contingency"
   ]
  },
  {
   "source": [
    "15. Run the Chi-Squared test on the `iron_contingency_table` and save the p-value in a variable called `iron_pvalue`. Remember that this test returns four things: the test statistic, the p-value, the number of degrees of freedom, and the expected frequencies."
   ],
   "cell_type": "markdown",
   "metadata": {}
  },
  {
   "cell_type": "code",
   "execution_count": 15,
   "metadata": {},
   "outputs": [],
   "source": [
    "_, iron_pvalue, _, _ = chi2_contingency(iron_contingency_table)"
   ]
  },
  {
   "source": [
    "16. Here is the big moment: if the `iron_pvalue` is less than $0.05$, print out `\"The Artery Package Is Proven To Make You Healthier!\"` otherwise we will have to use our other marketing copy: `\"While We Cannot Say The Artery Package Will Help You, I Bet It is Nice!\"`"
   ],
   "cell_type": "markdown",
   "metadata": {}
  },
  {
   "cell_type": "code",
   "execution_count": 16,
   "metadata": {},
   "outputs": [
    {
     "output_type": "stream",
     "name": "stdout",
     "text": [
      "The Artery Package Is Proven To Make You Healthier!\n"
     ]
    }
   ],
   "source": [
    "if iron_pvalue < significance_threshold:\n",
    "    print(\"The Artery Package Is Proven To Make You Healthier!\")\n",
    "else:\n",
    "    print(\"While We Cannot Say The Artery Package Will Help You, I Bet It is Nice!\")"
   ]
  },
  {
   "source": [
    "17. Fantastic! With proven benefits to both of our product lines, we can definitely ramp up our marketing and sales. Look out for a `Familiar` face in drug stores everywhere."
   ],
   "cell_type": "markdown",
   "metadata": {}
  }
 ]
}