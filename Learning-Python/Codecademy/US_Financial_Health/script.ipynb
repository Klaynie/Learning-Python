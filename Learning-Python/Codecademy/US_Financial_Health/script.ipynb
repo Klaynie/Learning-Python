{
 "metadata": {
  "language_info": {
   "codemirror_mode": {
    "name": "ipython",
    "version": 3
   },
   "file_extension": ".py",
   "mimetype": "text/x-python",
   "name": "python",
   "nbconvert_exporter": "python",
   "pygments_lexer": "ipython3",
   "version": "3.9.1-final"
  },
  "orig_nbformat": 2,
  "kernelspec": {
   "name": "python3",
   "display_name": "Python 3.9.1 64-bit",
   "metadata": {
    "interpreter": {
     "hash": "ac59ebe37160ed0dfa835113d9b8498d9f09ceb179beaac4002f036b9467c963"
    }
   }
  }
 },
 "nbformat": 4,
 "nbformat_minor": 2,
 "cells": [
  {
   "source": [
    "# US Financial Health\n",
    "\n",
    "In this project, we will be importing various types of financial data to try and determine the financial health and volatility of the US between 1999 and 2019.\n",
    "\n",
    "We will use the techniques we have learned for importing financial data, to import stock and commodity pricing data from csv files and the FRED API. Then grab GDP and goods and services export data from the World Bank API.\n",
    "\n",
    "Finally, we will find the log returns of the imported data, and use that to determine the volatility of the data over the 20 year period.\n",
    "\n",
    "Let us get started!"
   ],
   "cell_type": "markdown",
   "metadata": {}
  },
  {
   "source": [
    "## Importing Commodity Prices\n",
    "\n",
    "1. In the workspace there are two csv files with historical commodity data for gold and crude oil.\n",
    "\n",
    "    This is the commodity data we will be importing and operating on.\n",
    "\n",
    "    In order to import csv files, we will need the pandas library imported into our program.\n",
    "\n",
    "    Import pandas in a variable called `pd`."
   ],
   "cell_type": "markdown",
   "metadata": {}
  },
  {
   "cell_type": "code",
   "execution_count": 1,
   "metadata": {},
   "outputs": [],
   "source": [
    "import pandas as pd"
   ]
  },
  {
   "source": [
    "2. Now that pandas is imported, use its `read_csv` function to import data from the `gold_prices.csv` file into a variable called `gold_prices`.\n",
    "\n",
    "    Then print the gold prices DataFrame and look it over."
   ],
   "cell_type": "markdown",
   "metadata": {}
  },
  {
   "cell_type": "code",
   "execution_count": 2,
   "metadata": {},
   "outputs": [
    {
     "output_type": "execute_result",
     "data": {
      "text/plain": [
       "            Date  Gold_Price\n",
       "0     2019-08-30     1528.40\n",
       "1     2019-08-29     1540.20\n",
       "2     2019-08-28     1537.15\n",
       "3     2019-08-27     1532.95\n",
       "4     2019-08-26     1503.80\n",
       "...          ...         ...\n",
       "5386  1999-01-07      289.95\n",
       "5387  1999-01-06      287.65\n",
       "5388  1999-01-05      287.15\n",
       "5389  1999-01-04      287.15\n",
       "5390  1999-01-01      287.80\n",
       "\n",
       "[5391 rows x 2 columns]"
      ],
      "text/html": "<div>\n<style scoped>\n    .dataframe tbody tr th:only-of-type {\n        vertical-align: middle;\n    }\n\n    .dataframe tbody tr th {\n        vertical-align: top;\n    }\n\n    .dataframe thead th {\n        text-align: right;\n    }\n</style>\n<table border=\"1\" class=\"dataframe\">\n  <thead>\n    <tr style=\"text-align: right;\">\n      <th></th>\n      <th>Date</th>\n      <th>Gold_Price</th>\n    </tr>\n  </thead>\n  <tbody>\n    <tr>\n      <th>0</th>\n      <td>2019-08-30</td>\n      <td>1528.40</td>\n    </tr>\n    <tr>\n      <th>1</th>\n      <td>2019-08-29</td>\n      <td>1540.20</td>\n    </tr>\n    <tr>\n      <th>2</th>\n      <td>2019-08-28</td>\n      <td>1537.15</td>\n    </tr>\n    <tr>\n      <th>3</th>\n      <td>2019-08-27</td>\n      <td>1532.95</td>\n    </tr>\n    <tr>\n      <th>4</th>\n      <td>2019-08-26</td>\n      <td>1503.80</td>\n    </tr>\n    <tr>\n      <th>...</th>\n      <td>...</td>\n      <td>...</td>\n    </tr>\n    <tr>\n      <th>5386</th>\n      <td>1999-01-07</td>\n      <td>289.95</td>\n    </tr>\n    <tr>\n      <th>5387</th>\n      <td>1999-01-06</td>\n      <td>287.65</td>\n    </tr>\n    <tr>\n      <th>5388</th>\n      <td>1999-01-05</td>\n      <td>287.15</td>\n    </tr>\n    <tr>\n      <th>5389</th>\n      <td>1999-01-04</td>\n      <td>287.15</td>\n    </tr>\n    <tr>\n      <th>5390</th>\n      <td>1999-01-01</td>\n      <td>287.80</td>\n    </tr>\n  </tbody>\n</table>\n<p>5391 rows × 2 columns</p>\n</div>"
     },
     "metadata": {},
     "execution_count": 2
    }
   ],
   "source": [
    "gold_prices = pd.read_csv('gold_prices.csv')\n",
    "gold_prices"
   ]
  },
  {
   "source": [
    "3. Now let us do the same for the crude oil data.\n",
    "\n",
    "    Import the historical data in `crude_oil_prices.csv` into a variable called `crude_oil_prices`.\n",
    "\n",
    "    Then print it out and look it over as well."
   ],
   "cell_type": "markdown",
   "metadata": {}
  },
  {
   "cell_type": "code",
   "execution_count": 3,
   "metadata": {},
   "outputs": [
    {
     "output_type": "execute_result",
     "data": {
      "text/plain": [
       "              Date  Crude_Oil_Price\n",
       "0     Sep 11, 2018            69.25\n",
       "1     Sep 10, 2018            67.54\n",
       "2     Sep 07, 2018            67.75\n",
       "3     Sep 06, 2018            67.77\n",
       "4     Sep 05, 2018            68.72\n",
       "...            ...              ...\n",
       "4995  Jan 08, 1999            13.07\n",
       "4996  Jan 07, 1999            13.09\n",
       "4997  Jan 06, 1999            12.80\n",
       "4998  Jan 05, 1999            11.99\n",
       "4999  Jan 04, 1999            12.34\n",
       "\n",
       "[5000 rows x 2 columns]"
      ],
      "text/html": "<div>\n<style scoped>\n    .dataframe tbody tr th:only-of-type {\n        vertical-align: middle;\n    }\n\n    .dataframe tbody tr th {\n        vertical-align: top;\n    }\n\n    .dataframe thead th {\n        text-align: right;\n    }\n</style>\n<table border=\"1\" class=\"dataframe\">\n  <thead>\n    <tr style=\"text-align: right;\">\n      <th></th>\n      <th>Date</th>\n      <th>Crude_Oil_Price</th>\n    </tr>\n  </thead>\n  <tbody>\n    <tr>\n      <th>0</th>\n      <td>Sep 11, 2018</td>\n      <td>69.25</td>\n    </tr>\n    <tr>\n      <th>1</th>\n      <td>Sep 10, 2018</td>\n      <td>67.54</td>\n    </tr>\n    <tr>\n      <th>2</th>\n      <td>Sep 07, 2018</td>\n      <td>67.75</td>\n    </tr>\n    <tr>\n      <th>3</th>\n      <td>Sep 06, 2018</td>\n      <td>67.77</td>\n    </tr>\n    <tr>\n      <th>4</th>\n      <td>Sep 05, 2018</td>\n      <td>68.72</td>\n    </tr>\n    <tr>\n      <th>...</th>\n      <td>...</td>\n      <td>...</td>\n    </tr>\n    <tr>\n      <th>4995</th>\n      <td>Jan 08, 1999</td>\n      <td>13.07</td>\n    </tr>\n    <tr>\n      <th>4996</th>\n      <td>Jan 07, 1999</td>\n      <td>13.09</td>\n    </tr>\n    <tr>\n      <th>4997</th>\n      <td>Jan 06, 1999</td>\n      <td>12.80</td>\n    </tr>\n    <tr>\n      <th>4998</th>\n      <td>Jan 05, 1999</td>\n      <td>11.99</td>\n    </tr>\n    <tr>\n      <th>4999</th>\n      <td>Jan 04, 1999</td>\n      <td>12.34</td>\n    </tr>\n  </tbody>\n</table>\n<p>5000 rows × 2 columns</p>\n</div>"
     },
     "metadata": {},
     "execution_count": 3
    }
   ],
   "source": [
    "crude_oil_prices = pd.read_csv('crude_oil_prices.csv')\n",
    "crude_oil_prices"
   ]
  },
  {
   "source": [
    "## Importing Stock Prices\n",
    "\n",
    "4. We have imported the commodity prices from their csv files, now we will focus on historical stock prices.\n",
    "\n",
    "    Pandas datareader is able to import stock pricing data from the FRED API using the `pandas_datareader.data` library.\n",
    "\n",
    "    Import `pandas_datareader.data` as `web`."
   ],
   "cell_type": "markdown",
   "metadata": {}
  },
  {
   "cell_type": "code",
   "execution_count": 4,
   "metadata": {},
   "outputs": [],
   "source": [
    "import pandas_datareader.data as web"
   ]
  },
  {
   "source": [
    "5. Since we only want data between 1999 and 2019, we will also want to create some start and end variables.\n",
    "\n",
    "    Import the `datetime` module and create two datetimes, `start` and `end`, which represent January 1st of 1999 and 2019 respectively."
   ],
   "cell_type": "markdown",
   "metadata": {}
  },
  {
   "cell_type": "code",
   "execution_count": 5,
   "metadata": {},
   "outputs": [],
   "source": [
    "from datetime import datetime\n",
    "\n",
    "start = datetime(1999, 1, 1)\n",
    "end = datetime(2019, 1, 1)"
   ]
  },
  {
   "source": [
    "6. We can use the `web.DataReader` function to get historical prices for the NASDAQ 100 from the FRED API.\n",
    "\n",
    "    `web.DataReader` takes 4 arguments:\n",
    "\n",
    "    * Data id code (`'NASDAQ100' `)\n",
    "    * The name of the API we want to call (`'fred'`)\n",
    "    * Start and end date times\n",
    "\n",
    "    Call `web.DataReader` with the appropriate arguments, and store the resulting DataFrame in a variable called `nasdaq_data`. Then print it out and look at the results."
   ],
   "cell_type": "markdown",
   "metadata": {}
  },
  {
   "cell_type": "code",
   "execution_count": 6,
   "metadata": {},
   "outputs": [
    {
     "output_type": "execute_result",
     "data": {
      "text/plain": [
       "            NASDAQ100\n",
       "DATE                 \n",
       "1999-01-01        NaN\n",
       "1999-01-04   1854.390\n",
       "1999-01-05   1903.000\n",
       "1999-01-06   1963.950\n",
       "1999-01-07   1966.350\n",
       "...               ...\n",
       "2018-12-26   6262.766\n",
       "2018-12-27   6288.301\n",
       "2018-12-28   6285.266\n",
       "2018-12-31   6329.965\n",
       "2019-01-01        NaN\n",
       "\n",
       "[5218 rows x 1 columns]"
      ],
      "text/html": "<div>\n<style scoped>\n    .dataframe tbody tr th:only-of-type {\n        vertical-align: middle;\n    }\n\n    .dataframe tbody tr th {\n        vertical-align: top;\n    }\n\n    .dataframe thead th {\n        text-align: right;\n    }\n</style>\n<table border=\"1\" class=\"dataframe\">\n  <thead>\n    <tr style=\"text-align: right;\">\n      <th></th>\n      <th>NASDAQ100</th>\n    </tr>\n    <tr>\n      <th>DATE</th>\n      <th></th>\n    </tr>\n  </thead>\n  <tbody>\n    <tr>\n      <th>1999-01-01</th>\n      <td>NaN</td>\n    </tr>\n    <tr>\n      <th>1999-01-04</th>\n      <td>1854.390</td>\n    </tr>\n    <tr>\n      <th>1999-01-05</th>\n      <td>1903.000</td>\n    </tr>\n    <tr>\n      <th>1999-01-06</th>\n      <td>1963.950</td>\n    </tr>\n    <tr>\n      <th>1999-01-07</th>\n      <td>1966.350</td>\n    </tr>\n    <tr>\n      <th>...</th>\n      <td>...</td>\n    </tr>\n    <tr>\n      <th>2018-12-26</th>\n      <td>6262.766</td>\n    </tr>\n    <tr>\n      <th>2018-12-27</th>\n      <td>6288.301</td>\n    </tr>\n    <tr>\n      <th>2018-12-28</th>\n      <td>6285.266</td>\n    </tr>\n    <tr>\n      <th>2018-12-31</th>\n      <td>6329.965</td>\n    </tr>\n    <tr>\n      <th>2019-01-01</th>\n      <td>NaN</td>\n    </tr>\n  </tbody>\n</table>\n<p>5218 rows × 1 columns</p>\n</div>"
     },
     "metadata": {},
     "execution_count": 6
    }
   ],
   "source": [
    "nasdaq_data = web.DataReader('NASDAQ100', 'fred', start, end)\n",
    "nasdaq_data"
   ]
  },
  {
   "source": [
    "7. The FRED API also stores data from the S&P 500 Index. Let us import that as well.\n",
    "\n",
    "    Call `web.DataReader` just like in the previous step, except change the data id code from `NASDAQ100` to `SP500`.\n",
    "\n",
    "    Store the results in a variable called `sap_data` and print it out."
   ],
   "cell_type": "markdown",
   "metadata": {}
  },
  {
   "cell_type": "code",
   "execution_count": 7,
   "metadata": {},
   "outputs": [
    {
     "output_type": "execute_result",
     "data": {
      "text/plain": [
       "              SP500\n",
       "DATE               \n",
       "2011-03-14  1296.39\n",
       "2011-03-15  1281.87\n",
       "2011-03-16  1256.88\n",
       "2011-03-17  1273.72\n",
       "2011-03-18  1279.20\n",
       "...             ...\n",
       "2018-12-26  2467.70\n",
       "2018-12-27  2488.83\n",
       "2018-12-28  2485.74\n",
       "2018-12-31  2506.85\n",
       "2019-01-01      NaN\n",
       "\n",
       "[2037 rows x 1 columns]"
      ],
      "text/html": "<div>\n<style scoped>\n    .dataframe tbody tr th:only-of-type {\n        vertical-align: middle;\n    }\n\n    .dataframe tbody tr th {\n        vertical-align: top;\n    }\n\n    .dataframe thead th {\n        text-align: right;\n    }\n</style>\n<table border=\"1\" class=\"dataframe\">\n  <thead>\n    <tr style=\"text-align: right;\">\n      <th></th>\n      <th>SP500</th>\n    </tr>\n    <tr>\n      <th>DATE</th>\n      <th></th>\n    </tr>\n  </thead>\n  <tbody>\n    <tr>\n      <th>2011-03-14</th>\n      <td>1296.39</td>\n    </tr>\n    <tr>\n      <th>2011-03-15</th>\n      <td>1281.87</td>\n    </tr>\n    <tr>\n      <th>2011-03-16</th>\n      <td>1256.88</td>\n    </tr>\n    <tr>\n      <th>2011-03-17</th>\n      <td>1273.72</td>\n    </tr>\n    <tr>\n      <th>2011-03-18</th>\n      <td>1279.20</td>\n    </tr>\n    <tr>\n      <th>...</th>\n      <td>...</td>\n    </tr>\n    <tr>\n      <th>2018-12-26</th>\n      <td>2467.70</td>\n    </tr>\n    <tr>\n      <th>2018-12-27</th>\n      <td>2488.83</td>\n    </tr>\n    <tr>\n      <th>2018-12-28</th>\n      <td>2485.74</td>\n    </tr>\n    <tr>\n      <th>2018-12-31</th>\n      <td>2506.85</td>\n    </tr>\n    <tr>\n      <th>2019-01-01</th>\n      <td>NaN</td>\n    </tr>\n  </tbody>\n</table>\n<p>2037 rows × 1 columns</p>\n</div>"
     },
     "metadata": {},
     "execution_count": 7
    }
   ],
   "source": [
    "sap_data = web.DataReader('SP500', 'fred', start, end)\n",
    "sap_data"
   ]
  },
  {
   "source": [
    "8. In addition to stock and commodity prices, we also want to import more high level economic data like GDP and the total value of goods and services exported in a given year.\n",
    "\n",
    "    Luckily for us, the World Bank API tracks exactly these things.\n",
    "\n",
    "    First things first, let us import the World Bank sub-module form pandas datareader.\n",
    "\n",
    "    Import `pandas_datareader.wb` as `wb`."
   ],
   "cell_type": "markdown",
   "metadata": {}
  },
  {
   "cell_type": "code",
   "execution_count": 8,
   "metadata": {},
   "outputs": [],
   "source": [
    "import pandas_datareader.wb as wb"
   ]
  },
  {
   "source": [
    "9. We can use the `wb.download` function to get GDP data from the World Bank API.\n",
    "\n",
    "    `wb.download` takes 4 arguments:\n",
    "\n",
    "    * A data indicator (`NY.GDP.MKTP.CD`)\n",
    "    * A list of countries to get data for\n",
    "    * Start and end datetimes\n",
    "\n",
    "    A call would look something like this:\n",
    "\n",
    "    `wb.download(indicator='INDICATOR', country=['US'], start=start, end=end)`\n",
    "\n",
    "    Call `wb.download` with the appropriate arguments, and store the resulting DataFrame in a variable called `gdp_data`."
   ],
   "cell_type": "markdown",
   "metadata": {}
  },
  {
   "cell_type": "code",
   "execution_count": 9,
   "metadata": {},
   "outputs": [
    {
     "output_type": "execute_result",
     "data": {
      "text/plain": [
       "                    NY.GDP.MKTP.CD\n",
       "country       year                \n",
       "United States 2019  21433226000000\n",
       "              2018  20580159776000\n",
       "              2017  19519353692000\n",
       "              2016  18714960538000\n",
       "              2015  18224704440000\n",
       "              2014  17527163695000\n",
       "              2013  16784849196000\n",
       "              2012  16197007349000\n",
       "              2011  15542581104000\n",
       "              2010  14992052727000\n",
       "              2009  14448933025000\n",
       "              2008  14712844084000\n",
       "              2007  14451858656000\n",
       "              2006  13814611414000\n",
       "              2005  13036640230000\n",
       "              2004  12213729147000\n",
       "              2003  11458243878000\n",
       "              2002  10936419054000\n",
       "              2001  10581821399000\n",
       "              2000  10252345464000\n",
       "              1999   9630664202000"
      ],
      "text/html": "<div>\n<style scoped>\n    .dataframe tbody tr th:only-of-type {\n        vertical-align: middle;\n    }\n\n    .dataframe tbody tr th {\n        vertical-align: top;\n    }\n\n    .dataframe thead th {\n        text-align: right;\n    }\n</style>\n<table border=\"1\" class=\"dataframe\">\n  <thead>\n    <tr style=\"text-align: right;\">\n      <th></th>\n      <th></th>\n      <th>NY.GDP.MKTP.CD</th>\n    </tr>\n    <tr>\n      <th>country</th>\n      <th>year</th>\n      <th></th>\n    </tr>\n  </thead>\n  <tbody>\n    <tr>\n      <th rowspan=\"21\" valign=\"top\">United States</th>\n      <th>2019</th>\n      <td>21433226000000</td>\n    </tr>\n    <tr>\n      <th>2018</th>\n      <td>20580159776000</td>\n    </tr>\n    <tr>\n      <th>2017</th>\n      <td>19519353692000</td>\n    </tr>\n    <tr>\n      <th>2016</th>\n      <td>18714960538000</td>\n    </tr>\n    <tr>\n      <th>2015</th>\n      <td>18224704440000</td>\n    </tr>\n    <tr>\n      <th>2014</th>\n      <td>17527163695000</td>\n    </tr>\n    <tr>\n      <th>2013</th>\n      <td>16784849196000</td>\n    </tr>\n    <tr>\n      <th>2012</th>\n      <td>16197007349000</td>\n    </tr>\n    <tr>\n      <th>2011</th>\n      <td>15542581104000</td>\n    </tr>\n    <tr>\n      <th>2010</th>\n      <td>14992052727000</td>\n    </tr>\n    <tr>\n      <th>2009</th>\n      <td>14448933025000</td>\n    </tr>\n    <tr>\n      <th>2008</th>\n      <td>14712844084000</td>\n    </tr>\n    <tr>\n      <th>2007</th>\n      <td>14451858656000</td>\n    </tr>\n    <tr>\n      <th>2006</th>\n      <td>13814611414000</td>\n    </tr>\n    <tr>\n      <th>2005</th>\n      <td>13036640230000</td>\n    </tr>\n    <tr>\n      <th>2004</th>\n      <td>12213729147000</td>\n    </tr>\n    <tr>\n      <th>2003</th>\n      <td>11458243878000</td>\n    </tr>\n    <tr>\n      <th>2002</th>\n      <td>10936419054000</td>\n    </tr>\n    <tr>\n      <th>2001</th>\n      <td>10581821399000</td>\n    </tr>\n    <tr>\n      <th>2000</th>\n      <td>10252345464000</td>\n    </tr>\n    <tr>\n      <th>1999</th>\n      <td>9630664202000</td>\n    </tr>\n  </tbody>\n</table>\n</div>"
     },
     "metadata": {},
     "execution_count": 9
    }
   ],
   "source": [
    "gdp_data = wb.download(indicator='NY.GDP.MKTP.CD', country=['US'], start=start, end=end)\n",
    "gdp_data"
   ]
  },
  {
   "source": [
    "10. The World Bank API also stores data about the value of goods and services exported in a given year. Let us import that as well.\n",
    "\n",
    "    Call `wb.download` just like in the previous step, except change the indicator from `NY.GDP.MKTP.CD` to `NE.EXP.GNFS.CN`.\n",
    "\n",
    "    Store the results in a variable called `export_data` and print it out."
   ],
   "cell_type": "markdown",
   "metadata": {}
  },
  {
   "cell_type": "code",
   "execution_count": 10,
   "metadata": {},
   "outputs": [
    {
     "output_type": "execute_result",
     "data": {
      "text/plain": [
       "                    NE.EXP.GNFS.CN\n",
       "country       year                \n",
       "United States 2019   2514751000000\n",
       "              2018   2528704000000\n",
       "              2017   2374560000000\n",
       "              2016   2227174000000\n",
       "              2015   2265862000000\n",
       "              2014   2371704000000\n",
       "              2013   2273428000000\n",
       "              2012   2191280000000\n",
       "              2011   2102995000000\n",
       "              2010   1846280000000\n",
       "              2009   1581996000000\n",
       "              2008   1837055000000\n",
       "              2007   1660853000000\n",
       "              2006   1472613000000\n",
       "              2005   1305225000000\n",
       "              2004   1177631000000\n",
       "              2003   1036177000000\n",
       "              2002    998741000000\n",
       "              2001   1024636000000\n",
       "              2000   1096255000000\n",
       "              1999    992778000000"
      ],
      "text/html": "<div>\n<style scoped>\n    .dataframe tbody tr th:only-of-type {\n        vertical-align: middle;\n    }\n\n    .dataframe tbody tr th {\n        vertical-align: top;\n    }\n\n    .dataframe thead th {\n        text-align: right;\n    }\n</style>\n<table border=\"1\" class=\"dataframe\">\n  <thead>\n    <tr style=\"text-align: right;\">\n      <th></th>\n      <th></th>\n      <th>NE.EXP.GNFS.CN</th>\n    </tr>\n    <tr>\n      <th>country</th>\n      <th>year</th>\n      <th></th>\n    </tr>\n  </thead>\n  <tbody>\n    <tr>\n      <th rowspan=\"21\" valign=\"top\">United States</th>\n      <th>2019</th>\n      <td>2514751000000</td>\n    </tr>\n    <tr>\n      <th>2018</th>\n      <td>2528704000000</td>\n    </tr>\n    <tr>\n      <th>2017</th>\n      <td>2374560000000</td>\n    </tr>\n    <tr>\n      <th>2016</th>\n      <td>2227174000000</td>\n    </tr>\n    <tr>\n      <th>2015</th>\n      <td>2265862000000</td>\n    </tr>\n    <tr>\n      <th>2014</th>\n      <td>2371704000000</td>\n    </tr>\n    <tr>\n      <th>2013</th>\n      <td>2273428000000</td>\n    </tr>\n    <tr>\n      <th>2012</th>\n      <td>2191280000000</td>\n    </tr>\n    <tr>\n      <th>2011</th>\n      <td>2102995000000</td>\n    </tr>\n    <tr>\n      <th>2010</th>\n      <td>1846280000000</td>\n    </tr>\n    <tr>\n      <th>2009</th>\n      <td>1581996000000</td>\n    </tr>\n    <tr>\n      <th>2008</th>\n      <td>1837055000000</td>\n    </tr>\n    <tr>\n      <th>2007</th>\n      <td>1660853000000</td>\n    </tr>\n    <tr>\n      <th>2006</th>\n      <td>1472613000000</td>\n    </tr>\n    <tr>\n      <th>2005</th>\n      <td>1305225000000</td>\n    </tr>\n    <tr>\n      <th>2004</th>\n      <td>1177631000000</td>\n    </tr>\n    <tr>\n      <th>2003</th>\n      <td>1036177000000</td>\n    </tr>\n    <tr>\n      <th>2002</th>\n      <td>998741000000</td>\n    </tr>\n    <tr>\n      <th>2001</th>\n      <td>1024636000000</td>\n    </tr>\n    <tr>\n      <th>2000</th>\n      <td>1096255000000</td>\n    </tr>\n    <tr>\n      <th>1999</th>\n      <td>992778000000</td>\n    </tr>\n  </tbody>\n</table>\n</div>"
     },
     "metadata": {},
     "execution_count": 10
    }
   ],
   "source": [
    "export_data = wb.download(indicator='NE.EXP.GNFS.CN', country=['US'], start=start, end=end)\n",
    "export_data"
   ]
  },
  {
   "source": [
    "## Calculating Log Return\n",
    "\n",
    "11. At this point, we have imported all the data we need. But it is all stored as either daily or yearly dollar amounts.\n",
    "\n",
    "    Pricing data is useful, but in this case, since we want to compare each data set, it would be even better if instead of daily/yearly pricing, we had information on the log returns from the daily/yearly prices.\n",
    "\n",
    "    As a first step, let us define a function called `log_return`, which should accept one parameter, prices. You can leave the function body empty for now."
   ],
   "cell_type": "markdown",
   "metadata": {}
  },
  {
   "cell_type": "code",
   "execution_count": 11,
   "metadata": {},
   "outputs": [],
   "source": [
    "def log_return(prices):\n",
    "    pass"
   ]
  },
  {
   "source": [
    "12. The equation for calculating the log return between two prices is as follows:\n",
    "\n",
    "    **natural_log(current price/previous price)**\n",
    "\n",
    "    In our case we want to run this equation for each day/year of pricing data in our imported DataFrame Series (A Series is a single column in a DataFrame).\n",
    "\n",
    "    The pandas `shift` function can be used to divide each current price by its previous price in the Series.\n",
    "\n",
    "    `prices / prices.shift(1)`\n",
    "\n",
    "    And we can use numpy's natural log function to get the log return for each entry in the new Series.\n",
    "    ```\n",
    "    import numpy as np\n",
    "    np.log(Series)\n",
    "    ```\n",
    "    Using this information, fill in the code in the `log_return` function (be sure to import numpy at the top of the file)."
   ],
   "cell_type": "markdown",
   "metadata": {}
  },
  {
   "cell_type": "code",
   "execution_count": 12,
   "metadata": {},
   "outputs": [],
   "source": [
    "import numpy as np\n",
    "\n",
    "def log_return(prices):\n",
    "    return np.log(prices / prices.shift(1))"
   ]
  },
  {
   "source": [
    "13. Let us use our new `log_return` function to calculate the log return of the `gold_prices` DataFrame we imported.\n",
    "\n",
    "    Create a variable called `gold_returns`, which stores the result of calling `log_return` on the `Gold_Price` column of the `gold_prices` DataFrame."
   ],
   "cell_type": "markdown",
   "metadata": {}
  },
  {
   "cell_type": "code",
   "execution_count": 13,
   "metadata": {},
   "outputs": [
    {
     "output_type": "execute_result",
     "data": {
      "text/plain": [
       "0            NaN\n",
       "1       0.007691\n",
       "2      -0.001982\n",
       "3      -0.002736\n",
       "4      -0.019199\n",
       "          ...   \n",
       "5386   -0.003271\n",
       "5387   -0.007964\n",
       "5388   -0.001740\n",
       "5389    0.000000\n",
       "5390    0.002261\n",
       "Name: Gold_Price, Length: 5391, dtype: float64"
      ]
     },
     "metadata": {},
     "execution_count": 13
    }
   ],
   "source": [
    "gold_returns = log_return(gold_prices['Gold_Price'])\n",
    "gold_returns"
   ]
  },
  {
   "source": [
    "14. Now create log return variables for each additional dataset (`crudeoil_returns`, `sap_returns`, etc.).\n",
    "\n",
    "    Remember that you only need to pass in the column of the DataFrame that contains the pricing data. In the case of gold it was `gold_prices['Gold_Price']`, but the column name will vary for each dataset."
   ],
   "cell_type": "markdown",
   "metadata": {}
  },
  {
   "cell_type": "code",
   "execution_count": 14,
   "metadata": {},
   "outputs": [
    {
     "output_type": "execute_result",
     "data": {
      "text/plain": [
       "0            NaN\n",
       "1      -0.025003\n",
       "2       0.003104\n",
       "3       0.000295\n",
       "4       0.013921\n",
       "          ...   \n",
       "4995   -0.027916\n",
       "4996    0.001529\n",
       "4997   -0.022403\n",
       "4998   -0.065372\n",
       "4999    0.028773\n",
       "Name: Crude_Oil_Price, Length: 5000, dtype: float64"
      ]
     },
     "metadata": {},
     "execution_count": 14
    }
   ],
   "source": [
    "crude_oil_returns = log_return(crude_oil_prices['Crude_Oil_Price'])\n",
    "crude_oil_returns"
   ]
  },
  {
   "cell_type": "code",
   "execution_count": 15,
   "metadata": {},
   "outputs": [
    {
     "output_type": "execute_result",
     "data": {
      "text/plain": [
       "DATE\n",
       "1999-01-01         NaN\n",
       "1999-01-04         NaN\n",
       "1999-01-05    0.025876\n",
       "1999-01-06    0.031526\n",
       "1999-01-07    0.001221\n",
       "                ...   \n",
       "2018-12-26         NaN\n",
       "2018-12-27    0.004069\n",
       "2018-12-28   -0.000483\n",
       "2018-12-31    0.007087\n",
       "2019-01-01         NaN\n",
       "Name: NASDAQ100, Length: 5218, dtype: float64"
      ]
     },
     "metadata": {},
     "execution_count": 15
    }
   ],
   "source": [
    "nasdaq_returns = log_return(nasdaq_data['NASDAQ100'])\n",
    "nasdaq_returns"
   ]
  },
  {
   "cell_type": "code",
   "execution_count": 16,
   "metadata": {},
   "outputs": [
    {
     "output_type": "execute_result",
     "data": {
      "text/plain": [
       "DATE\n",
       "2011-03-14         NaN\n",
       "2011-03-15   -0.011264\n",
       "2011-03-16   -0.019687\n",
       "2011-03-17    0.013309\n",
       "2011-03-18    0.004293\n",
       "                ...   \n",
       "2018-12-26         NaN\n",
       "2018-12-27    0.008526\n",
       "2018-12-28   -0.001242\n",
       "2018-12-31    0.008457\n",
       "2019-01-01         NaN\n",
       "Name: SP500, Length: 2037, dtype: float64"
      ]
     },
     "metadata": {},
     "execution_count": 16
    }
   ],
   "source": [
    "sap_returns = log_return(sap_data['SP500'])\n",
    "sap_returns"
   ]
  },
  {
   "cell_type": "code",
   "execution_count": 17,
   "metadata": {},
   "outputs": [
    {
     "output_type": "execute_result",
     "data": {
      "text/plain": [
       "country        year\n",
       "United States  2019         NaN\n",
       "               2018   -0.040615\n",
       "               2017   -0.052921\n",
       "               2016   -0.042083\n",
       "               2015   -0.026545\n",
       "               2014   -0.039026\n",
       "               2013   -0.043275\n",
       "               2012   -0.035650\n",
       "               2011   -0.041243\n",
       "               2010   -0.036063\n",
       "               2009   -0.036900\n",
       "               2008    0.018100\n",
       "               2007   -0.017898\n",
       "               2006   -0.045096\n",
       "               2005   -0.057963\n",
       "               2004   -0.065203\n",
       "               2003   -0.063851\n",
       "               2002   -0.046611\n",
       "               2001   -0.032961\n",
       "               2000   -0.031631\n",
       "               1999   -0.062554\n",
       "Name: NY.GDP.MKTP.CD, dtype: float64"
      ]
     },
     "metadata": {},
     "execution_count": 17
    }
   ],
   "source": [
    "gdp_returns = log_return(gdp_data['NY.GDP.MKTP.CD'])\n",
    "gdp_returns"
   ]
  },
  {
   "cell_type": "code",
   "execution_count": 18,
   "metadata": {},
   "outputs": [
    {
     "output_type": "execute_result",
     "data": {
      "text/plain": [
       "country        year\n",
       "United States  2019         NaN\n",
       "               2018    0.005533\n",
       "               2017   -0.062895\n",
       "               2016   -0.064079\n",
       "               2015    0.017222\n",
       "               2014    0.045653\n",
       "               2013   -0.042320\n",
       "               2012   -0.036803\n",
       "               2011   -0.041123\n",
       "               2010   -0.130190\n",
       "               2009   -0.154485\n",
       "               2008    0.149476\n",
       "               2007   -0.100832\n",
       "               2006   -0.120293\n",
       "               2005   -0.120663\n",
       "               2004   -0.102871\n",
       "               2003   -0.127967\n",
       "               2002   -0.036798\n",
       "               2001    0.025597\n",
       "               2000    0.067562\n",
       "               1999   -0.099148\n",
       "Name: NE.EXP.GNFS.CN, dtype: float64"
      ]
     },
     "metadata": {},
     "execution_count": 18
    }
   ],
   "source": [
    "export_returns = log_return(export_data['NE.EXP.GNFS.CN'])\n",
    "export_returns"
   ]
  },
  {
   "source": [
    "## Comparing Return Volatility\n",
    "\n",
    "15. We are now ready to compare the volatility of each type of data.\n",
    "\n",
    "    Variance, in the context of financial data, tells us how volatile an investment is. Use Panda's var() function to calculate the variance of the commodities, stocks and World Bank data returns, and print the results.\n",
    "\n",
    "    The results can be interpreted in a number of ways, but generally, the higher the variance the more volatile the data.\n",
    "\n",
    "    What conclusions can you draw from this data? Which dataset was the most volatile? Did any datasets have similar variances?"
   ],
   "cell_type": "markdown",
   "metadata": {}
  },
  {
   "cell_type": "code",
   "execution_count": 19,
   "metadata": {},
   "outputs": [
    {
     "output_type": "execute_result",
     "data": {
      "text/plain": [
       "       Gold  Crude Oil  NASDAQ100   S&P 500       GDP    Export\n",
       "0  0.000114   0.000556   0.000318  0.000085  0.000342  0.006202"
      ],
      "text/html": "<div>\n<style scoped>\n    .dataframe tbody tr th:only-of-type {\n        vertical-align: middle;\n    }\n\n    .dataframe tbody tr th {\n        vertical-align: top;\n    }\n\n    .dataframe thead th {\n        text-align: right;\n    }\n</style>\n<table border=\"1\" class=\"dataframe\">\n  <thead>\n    <tr style=\"text-align: right;\">\n      <th></th>\n      <th>Gold</th>\n      <th>Crude Oil</th>\n      <th>NASDAQ100</th>\n      <th>S&amp;P 500</th>\n      <th>GDP</th>\n      <th>Export</th>\n    </tr>\n  </thead>\n  <tbody>\n    <tr>\n      <th>0</th>\n      <td>0.000114</td>\n      <td>0.000556</td>\n      <td>0.000318</td>\n      <td>0.000085</td>\n      <td>0.000342</td>\n      <td>0.006202</td>\n    </tr>\n  </tbody>\n</table>\n</div>"
     },
     "metadata": {},
     "execution_count": 19
    }
   ],
   "source": [
    "volatility_df = pd.DataFrame(data={\n",
    "    'Gold': [gold_returns.var()],\n",
    "    'Crude Oil': [crude_oil_returns.var()],\n",
    "    'NASDAQ100': [nasdaq_returns.var()], \n",
    "    'S&P 500': [sap_returns.var()],\n",
    "    'GDP': [gdp_returns.var()],\n",
    "    'Export': [export_returns.var()]\n",
    "    })\n",
    "\n",
    "volatility_df"
   ]
  },
  {
   "source": [
    "## Conclusions\n",
    "```\n",
    "gold: 0.00011375928671558508\n",
    "oil: 0.0005563207795629881\n",
    "nasdaq: 0.0003178379833057229\n",
    "sap: 8.860342194008153e-05 which is equivalent to 0.00008860342194008153\n",
    "gdp: 0.0003576341131987123\n",
    "export: 0.006775724487950144\n",
    "```\n",
    "You should have gotten something similar to what we have above, and this is generally in line with what we would expect.\n",
    "\n",
    "The S&P 500, a collection of 500 large companies listed on stock exchanges in the United States, has the smallest variance, and thus is the least volatile. Given that the S&P 500 index is a weighted measurement of many stocks across a variety of industries, it is seen as a safer, diversified investment.\n",
    "\n",
    "Gold, notorious for being a stable investment has the second smallest variance.\n",
    "\n",
    "Crude oil is the most volatile, which makes sense as gas prices are often unpredictable, especially in the last 20 years.\n",
    "\n",
    "The stocks are interesting. The NASDAQ 100 is more volatile than the S&P 500, which, when you think about it makes sense, as the S&P 500 is far more diversified and tracks more of the market.\n",
    "\n",
    "Then finally we have GDP and exports.\n",
    "\n",
    "Exports are very volatile, which could have to do with industries moving overseas in the last 20 years, and global competition for the production of goods.\n",
    "\n",
    "GDP is actually fairly similar to the NASDAQ 100 in terms of volatility, which is perhaps an interesting correlation."
   ],
   "cell_type": "markdown",
   "metadata": {}
  }
 ]
}