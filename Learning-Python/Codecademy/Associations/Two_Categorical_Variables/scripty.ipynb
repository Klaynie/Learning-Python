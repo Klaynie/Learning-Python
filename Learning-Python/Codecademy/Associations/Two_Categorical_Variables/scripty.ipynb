{
 "metadata": {
  "language_info": {
   "codemirror_mode": {
    "name": "ipython",
    "version": 3
   },
   "file_extension": ".py",
   "mimetype": "text/x-python",
   "name": "python",
   "nbconvert_exporter": "python",
   "pygments_lexer": "ipython3",
   "version": "3.9.1"
  },
  "orig_nbformat": 2,
  "kernelspec": {
   "name": "python391jvsc74a57bd0ac59ebe37160ed0dfa835113d9b8498d9f09ceb179beaac4002f036b9467c963",
   "display_name": "Python 3.9.1 64-bit"
  },
  "metadata": {
   "interpreter": {
    "hash": "ac59ebe37160ed0dfa835113d9b8498d9f09ceb179beaac4002f036b9467c963"
   }
  }
 },
 "nbformat": 4,
 "nbformat_minor": 2,
 "cells": [
  {
   "source": [
    "# Introduction\n",
    "\n",
    "In this lesson, we will cover ways of examining an association between two categorical variables.\n",
    "\n",
    "As an example, we will explore a sample of data from the Narcissistic Personality Inventory (NPI-40), a personality test with 40 questions about personal preferences and self-view. There are two possible responses to each question. The sample we’ll be working with contains responses to the following:\n",
    "\n",
    "* `influence`: `yes` = I have a natural talent for influencing people; `no` = I am not good at influencing people.\n",
    "* `blend_in`: `yes` = I prefer to blend in with the crowd; `no` = I like to be the center of attention.\n",
    "* `special`: `yes` = I think I am a special person; `no` = I am `no` better or worse than most people.\n",
    "* `leader`: `yes` = I see myself as a good leader; `no` = I am not sure if I would make a good leader.\n",
    "* `authority`: `yes` = I like to have authority over other people; `no` = I do not mind following orders.\n",
    "\n",
    "As you might guess, responses to some of these questions are associated. For example, if we know whether someone views themself as a good leader, we may also find that they are more likely to like having authority. In this lesson we will learn how to assess whether an association exists between any two of these variables."
   ],
   "cell_type": "markdown",
   "metadata": {}
  },
  {
   "source": [
    "### Exercise"
   ],
   "cell_type": "markdown",
   "metadata": {}
  },
  {
   "cell_type": "code",
   "execution_count": 1,
   "metadata": {},
   "outputs": [],
   "source": [
    "import pandas as pd\n",
    "import numpy as np\n",
    "\n",
    "npi = pd.read_csv(\"npi_sample.csv\")"
   ]
  },
  {
   "source": [
    "1. Data from the Narcissistic Personality Inventory (NPI) has been loaded in the workspace as a dataframe named `npi`. Print the first five rows of this dataframe using the `.head()`.\n",
    "\n",
    "    Which of these variables do you think might be associated?"
   ],
   "cell_type": "markdown",
   "metadata": {}
  },
  {
   "cell_type": "code",
   "execution_count": 2,
   "metadata": {},
   "outputs": [
    {
     "output_type": "execute_result",
     "data": {
      "text/plain": [
       "  influence blend_in special leader authority\n",
       "0        no      yes     yes    yes       yes\n",
       "1        no      yes      no     no        no\n",
       "2       yes       no     yes    yes       yes\n",
       "3       yes       no      no    yes       yes\n",
       "4       yes      yes      no    yes        no"
      ],
      "text/html": "<div>\n<style scoped>\n    .dataframe tbody tr th:only-of-type {\n        vertical-align: middle;\n    }\n\n    .dataframe tbody tr th {\n        vertical-align: top;\n    }\n\n    .dataframe thead th {\n        text-align: right;\n    }\n</style>\n<table border=\"1\" class=\"dataframe\">\n  <thead>\n    <tr style=\"text-align: right;\">\n      <th></th>\n      <th>influence</th>\n      <th>blend_in</th>\n      <th>special</th>\n      <th>leader</th>\n      <th>authority</th>\n    </tr>\n  </thead>\n  <tbody>\n    <tr>\n      <th>0</th>\n      <td>no</td>\n      <td>yes</td>\n      <td>yes</td>\n      <td>yes</td>\n      <td>yes</td>\n    </tr>\n    <tr>\n      <th>1</th>\n      <td>no</td>\n      <td>yes</td>\n      <td>no</td>\n      <td>no</td>\n      <td>no</td>\n    </tr>\n    <tr>\n      <th>2</th>\n      <td>yes</td>\n      <td>no</td>\n      <td>yes</td>\n      <td>yes</td>\n      <td>yes</td>\n    </tr>\n    <tr>\n      <th>3</th>\n      <td>yes</td>\n      <td>no</td>\n      <td>no</td>\n      <td>yes</td>\n      <td>yes</td>\n    </tr>\n    <tr>\n      <th>4</th>\n      <td>yes</td>\n      <td>yes</td>\n      <td>no</td>\n      <td>yes</td>\n      <td>no</td>\n    </tr>\n  </tbody>\n</table>\n</div>"
     },
     "metadata": {},
     "execution_count": 2
    }
   ],
   "source": [
    "npi.head()"
   ]
  },
  {
   "source": [
    "***"
   ],
   "cell_type": "markdown",
   "metadata": {}
  },
  {
   "source": [
    "## Contingency Tables: Frequencies\n",
    "\n",
    "Contingency tables, also known as two-way tables or cross-tabulations, are useful for summarizing two variables at the same time. For example, suppose we are interested in understanding whether there is an association between `influence` (whether a person thinks they have a talent for influencing people) and `leader` (whether they see themself as a leader). We can use the `crosstab` function from pandas to create a contingency table:\n",
    "\n",
    "    inluence_leader_freq = pd.crosstab(npi.influence, npi.leader)\n",
    "    print(inluence_leader_freq)\n",
    "\n",
    "Output:\n",
    "\n",
    "<table>\n",
    "<tr>\n",
    " <th align=\"left\">leader</th>\n",
    " <th align=\"right\">no</th>\n",
    " <th align=\"right\">yes</th>\n",
    "</tr>\n",
    "<tr>\n",
    " <th align=\"left\">influence</th>\n",
    " <th></th>\n",
    " <th></th>\n",
    "</tr>\n",
    "<tr>\n",
    " <th align=\"left\">no</th>\n",
    " <td>3015</td>\n",
    " <td>1293</td>\n",
    "</tr>\n",
    "<tr>\n",
    " <th align=\"left\">yes</th>\n",
    " <td>2630</td>\n",
    " <td>4429</td>\n",
    "</tr>\n",
    "</table>\n",
    "\n",
    "This table tells us the number of people who gave each possible combination of responses to these two questions. For example, 2360 people said that they do not see themselves as a leader but have a talent for influencing people.\n",
    "\n",
    "To assess whether there is an association between these two variables, we need to ask whether information about one variable gives us information about the other. In this example, we see that among people who **do not** see themselves as a leader (the first column), a larger number (3015) **do not** think they have a talent for influencing people. Meanwhile, among people who **do** see themselves as a leader (the second column), a larger number (4429) **do** think they have a talent for influencing people.\n",
    "\n",
    "So, if we know how someone responded to the leadership question, we have some information about how they are likely to respond to the influence question. This suggests that the variables are associated."
   ],
   "cell_type": "markdown",
   "metadata": {}
  },
  {
   "source": [
    "### Exercise\n",
    "\n",
    "1. Do you think there will be an association between `special` (whether or not a person sees themself as \"special\") and `authority` (whether or not a person likes to have authority)? Create a contingency table for these two variables and store the table as `special_authority_freq`, then print out the result.\n",
    "\n",
    "    Based on this table, do you think the variables are associated?"
   ],
   "cell_type": "markdown",
   "metadata": {}
  },
  {
   "cell_type": "code",
   "execution_count": 3,
   "metadata": {},
   "outputs": [
    {
     "output_type": "stream",
     "name": "stdout",
     "text": [
      "authority    no   yes\nspecial              \nno         4069  1905\nyes        2229  2894\n"
     ]
    }
   ],
   "source": [
    "special_authority_freq = pd.crosstab(npi.special, npi.authority)\n",
    "print(special_authority_freq)"
   ]
  },
  {
   "source": [
    "***"
   ],
   "cell_type": "markdown",
   "metadata": {}
  },
  {
   "source": [
    "## Contingency Tables: Proportions\n",
    "\n",
    "In the previous exercise, we looked at an association between the `influence` and `leader` questions using a contingency table of frequencies. However, sometimes it’s helpful to convert those frequencies to proportions. We can accomplish this simply by dividing the all the frequencies in a contingency table by the total number of observations (the sum of the frequencies):\n",
    "\n",
    "    influence_leader_freq = pd.crosstab(npi.influence, npi.leader)\n",
    "    influence_leader_prop = influence_leader_freq/len(npi)\n",
    "    print(influence_leader_prop)\n",
    "\n",
    "Output:\n",
    "\n",
    "<table>\n",
    "<tr>\n",
    " <th align=\"left\">leader</th>\n",
    " <th align=\"right\">no</th>\n",
    " <th align=\"right\">yes</th>\n",
    "</tr>\n",
    "<tr>\n",
    " <th align=\"left\">influence</th>\n",
    " <th></th>\n",
    " <th></th>\n",
    "</tr>\n",
    "<tr>\n",
    " <th align=\"left\">no</th>\n",
    " <td>0.271695</td>\n",
    " <td>0.116518</td>\n",
    "</tr>\n",
    "<tr>\n",
    " <th align=\"left\">yes</th>\n",
    " <td>0.212670</td>\n",
    " <td>0.399117</td>\n",
    "</tr>\n",
    "</table>\n",
    "\n",
    "The resulting contingency table makes it slightly easier to compare the proportion of people in each category. For example, we see that the two largest proportions in the table (.399 and .271) are in the yes/yes and no/no cells of the table. We can also see that almost 40% of the surveyed population (by far the largest proportion) both see themselves as leaders and think they have a talent for influencing people."
   ],
   "cell_type": "markdown",
   "metadata": {}
  },
  {
   "source": [
    "### Exercise\n",
    "\n",
    "1. The contingency table of frequencies for `special` (whether or not a person sees themself as \"special\") and `authority` (whether or not a person likes to have authority) is saved for you as `special_authority_freq`.\n",
    "\n",
    "    Convert this table of frequencies to a table of proportions and save the result as `special_authority_prop`, then print it out."
   ],
   "cell_type": "markdown",
   "metadata": {}
  },
  {
   "cell_type": "code",
   "execution_count": 4,
   "metadata": {},
   "outputs": [
    {
     "output_type": "execute_result",
     "data": {
      "text/plain": [
       "authority        no       yes\n",
       "special                      \n",
       "no         0.366676  0.171668\n",
       "yes        0.200865  0.260791"
      ],
      "text/html": "<div>\n<style scoped>\n    .dataframe tbody tr th:only-of-type {\n        vertical-align: middle;\n    }\n\n    .dataframe tbody tr th {\n        vertical-align: top;\n    }\n\n    .dataframe thead th {\n        text-align: right;\n    }\n</style>\n<table border=\"1\" class=\"dataframe\">\n  <thead>\n    <tr style=\"text-align: right;\">\n      <th>authority</th>\n      <th>no</th>\n      <th>yes</th>\n    </tr>\n    <tr>\n      <th>special</th>\n      <th></th>\n      <th></th>\n    </tr>\n  </thead>\n  <tbody>\n    <tr>\n      <th>no</th>\n      <td>0.366676</td>\n      <td>0.171668</td>\n    </tr>\n    <tr>\n      <th>yes</th>\n      <td>0.200865</td>\n      <td>0.260791</td>\n    </tr>\n  </tbody>\n</table>\n</div>"
     },
     "metadata": {},
     "execution_count": 4
    }
   ],
   "source": [
    "special_authority_prop = special_authority_freq / len(npi)\n",
    "special_authority_prop"
   ]
  },
  {
   "source": [
    "***"
   ],
   "cell_type": "markdown",
   "metadata": {}
  },
  {
   "source": [
    "## Marginal Proportions\n",
    "\n",
    "In the previous exercises, we looked at an association between the `influence` and `leader` questions using a contingency table. We saw some evidence of an association between these questions.\n",
    "\n",
    "Now, let us take a moment to think about what the tables would look like if there were no association between the variables. Our first instinct may be that there would be .25 (25%) of the data in each of the four cells of the table, but that is not the case. Let’s take another look at our contingency table.\n",
    "\n",
    "<table>\n",
    "<tr>\n",
    " <th align=\"left\">leader</th>\n",
    " <th align=\"right\">no</th>\n",
    " <th align=\"right\">yes</th>\n",
    "</tr>\n",
    "<tr>\n",
    " <th align=\"left\">influence</th>\n",
    " <th></th>\n",
    " <th></th>\n",
    "</tr>\n",
    "<tr>\n",
    " <th align=\"left\">no</th>\n",
    " <td>0.271695</td>\n",
    " <td>0.116518</td>\n",
    "</tr>\n",
    "<tr>\n",
    " <th align=\"left\">yes</th>\n",
    " <td>0.212670</td>\n",
    " <td>0.399117</td>\n",
    "</tr>\n",
    "</table>\n",
    "\n",
    "We might notice that the bottom row, which corresponds to people who think they have a talent for influencing people, accounts for 0.213 + 0.399 = 0.612 (or 61.2%) of surveyed people — more than half! This means that we can expect higher proportions in the bottom row, regardless of whether the questions are associated.\n",
    "\n",
    "The proportion of respondents in each category of a single question is called a *marginal proportion*. For example, the marginal proportion of the population that has a talent for influencing people is 0.612. We can calculate all the marginal proportions from the contingency table of proportions (saved as `influence_leader_prop`) using row and column sums as follows:\n",
    "\n",
    "    leader_marginals = influence_leader_prop.sum(axis=0)\n",
    "    print(leader_marginals)\n",
    "    influence_marginals =  influence_leader_prop.sum(axis=1)\n",
    "    print(influence_marginals)\n",
    "\n",
    "Output:\n",
    "\n",
    "|leader| |\n",
    "|:-----|:|\n",
    "|no|0.484365|\n",
    "|yes|0.515635|\n",
    "|dtype:|float64|\n",
    "\n",
    "|influence| |\n",
    "|:--------|:|\n",
    "|no|0.388213|\n",
    "|yes|0.611787|\n",
    "|dtype:|float64|\n",
    "\n",
    "While respondents are approximately split on whether they see themselves as a leader, more people think they have a talent for influencing people than not."
   ],
   "cell_type": "markdown",
   "metadata": {}
  },
  {
   "source": [
    "### Exercise\n",
    "\n",
    "1. Use the contingency table of proportions (saved as `special_authority_prop`) to calculate the marginal proportions for the authority variable and save the result as `authority_marginals`.\n",
    "\n",
    "    Print out `authority_marginals`. Do more people like to have authority over people or not?"
   ],
   "cell_type": "markdown",
   "metadata": {}
  },
  {
   "cell_type": "code",
   "execution_count": 5,
   "metadata": {},
   "outputs": [
    {
     "output_type": "execute_result",
     "data": {
      "text/plain": [
       "authority\n",
       "no     0.567541\n",
       "yes    0.432459\n",
       "dtype: float64"
      ]
     },
     "metadata": {},
     "execution_count": 5
    }
   ],
   "source": [
    "authority_marginals = special_authority_prop.sum(axis=0)\n",
    "authority_marginals"
   ]
  },
  {
   "source": [
    "2. Use `special_authority_prop` to calculate the marginal proportions for the special variable and save the result as `special_marginals`.\n",
    "\n",
    "    Print out `special_marginals`. Do more people see themselves as special or not special?"
   ],
   "cell_type": "markdown",
   "metadata": {}
  },
  {
   "cell_type": "code",
   "execution_count": 6,
   "metadata": {},
   "outputs": [
    {
     "output_type": "execute_result",
     "data": {
      "text/plain": [
       "special\n",
       "no     0.538344\n",
       "yes    0.461656\n",
       "dtype: float64"
      ]
     },
     "metadata": {},
     "execution_count": 6
    }
   ],
   "source": [
    "special_marginals = special_authority_prop.sum(axis=1)\n",
    "special_marginals"
   ]
  },
  {
   "source": [
    "***"
   ],
   "cell_type": "markdown",
   "metadata": {}
  },
  {
   "source": [
    "## Expected Contingency Tables\n",
    "\n",
    "In the previous exercise we calculated the following marginal proportions for the `leader` and `influence` questions:\n",
    "\n",
    "|leader|  |influence|  |\n",
    "|:-----|:-|:--------|:-|\n",
    "|no|0.484|no|0.388|\n",
    "|yes|0.516|yes|0.612|\n",
    "\n",
    "In order to understand whether these questions are associated, we can use the marginal proportions to create a contingency table of *expected proportions* if there were **no association** between these variables. To calculate these expected proportions, we need to multiply the marginal proportions for each combination of categories:\n",
    "\n",
    "|\t|leader = no|leader = yes|\n",
    "|:--|:----------|:-----------|\n",
    "|influence = no|0.484*0.388 = 0.188|0.516*0.388 = .200|\n",
    "|influence = yes|0.484*0.612 = 0.296|0.516*0.612 = 0.315|\n",
    "\n",
    "These proportions can then be converted to frequencies by multiplying each one by the sample size (11097 for this data):\n",
    "\n",
    "|\t|leader = no|leader = yes|\n",
    "|:--|:----------|:-----------|\n",
    "|influence = no|0.188*11097 = 2087|0.200*11097 = 2221|\n",
    "|influence = yes|0.296*11097 = 3288|0.315*11097 = 3501|\n",
    "\n",
    "This table tells us that **if** there were no association between the `leader` and `influence` questions, we would expect 2087 people to answer `no` to both.\n",
    "\n",
    "In python, we can calculate this table using the `chi2_contingency()` function from SciPy, by passing in the observed frequency table. There are actually four outputs from this function, but for now, we illl only look at the fourth one:\n",
    "\n",
    "\tfrom scipy.stats import chi2_contingency\n",
    "\tchi2, pval, dof, expected = chi2_contingency(influence_leader_freq)\n",
    "\tprint(np.round(expected))\n",
    "\n",
    "Output:\n",
    "\n",
    "`[[2087. 2221.]`<br>\n",
    "`[3288. 3501.]]`\n",
    "\n",
    "Note that the ScyPy function returned the same expected frequencies as we calculated \"by hand\" above! Now that we have the expected contingency table if there is no association, we can compare it to our observed contingency table:\n",
    "\n",
    "<table>\n",
    "<tr>\n",
    " <th align=\"left\">leader</th>\n",
    " <th align=\"right\">no</th>\n",
    " <th align=\"right\">yes</th>\n",
    "</tr>\n",
    "<tr>\n",
    " <th align=\"left\">influence</th>\n",
    " <th></th>\n",
    " <th></th>\n",
    "</tr>\n",
    "<tr>\n",
    " <th align=\"left\">no</th>\n",
    " <td>3015</td>\n",
    " <td>1293</td>\n",
    "</tr>\n",
    "<tr>\n",
    " <th align=\"left\">yes</th>\n",
    " <td>2360</td>\n",
    " <td>4429</td>\n",
    "</tr>\n",
    "</table>\n",
    "\n",
    "The more that the expected and observed tables differ, the more sure we can be that the variables are associated. In this example, we see some pretty big differences (eg., 3015 in the observed table compared to 2087 in the expected table). This provides additional evidence that these variables are associated."
   ],
   "cell_type": "markdown",
   "metadata": {}
  },
  {
   "source": [
    "### Exercise"
   ],
   "cell_type": "markdown",
   "metadata": {}
  },
  {
   "cell_type": "code",
   "execution_count": 7,
   "metadata": {},
   "outputs": [],
   "source": [
    "from scipy.stats import chi2_contingency"
   ]
  },
  {
   "source": [
    "1. The contingency table of frequencies for the `special` and `authority` questions is saved in `special_authority_freq`.\n",
    "\n",
    "    Use the `chi2_contingency()` function to calculate the expected frequency table for these two questions if there were no association. Save the result as `expected`."
   ],
   "cell_type": "markdown",
   "metadata": {}
  },
  {
   "cell_type": "code",
   "execution_count": 8,
   "metadata": {},
   "outputs": [],
   "source": [
    "chi2, pval, dof, expected = chi2_contingency(special_authority_freq)"
   ]
  },
  {
   "source": [
    "2. Use `np.round()` to print out the expected contingency table, with values rounded to the nearest whole number. Compare this to the observed frequency table. How much do the numbers in these tables differ?"
   ],
   "cell_type": "markdown",
   "metadata": {}
  },
  {
   "cell_type": "code",
   "execution_count": 9,
   "metadata": {},
   "outputs": [
    {
     "output_type": "stream",
     "name": "stdout",
     "text": [
      "[[3390. 2584.]\n [2908. 2215.]]\n"
     ]
    }
   ],
   "source": [
    "print(np.round(expected))"
   ]
  },
  {
   "source": [
    "***"
   ],
   "cell_type": "markdown",
   "metadata": {}
  },
  {
   "source": [
    "## The Chi-Square Statistic\n",
    "\n",
    "In the previous exercise, we calculated a contingency table of expected frequencies **if** there were no association between the `leader` and `influence` questions. We then compared this to the observed contingency table. Because the tables looked somewhat different, we concluded that responses to these questions are probably associated.\n",
    "\n",
    "While we can inspect these tables visually, many data scientists use the *Chi-Square* statistic to summarize *how* different these two tables are. To calculate the Chi Square statistic, we simply find the squared difference between each value in the observed table and its corresponding value in the expected table; then add up those numbers:\n",
    "\n",
    "$$\n",
    "ChiSquare = sum((observed - expected)^2)\n",
    "$$\n",
    "\n",
    "The Chi-Square statistic is also the first output of the SciPy function `chi2_contingency()`:\n",
    "\n",
    "    from scipy.stats import chi2_contingency\n",
    "    chi2, pval, dof, expected = chi2_contingency(influence_leader_freq)\n",
    "    print(chi2)\n",
    "    output: 1307.88\n",
    "\n",
    "The interpretation of the Chi-Square statistic is dependent on the size of the contingency table. For a 2x2 table (like the one we have been investigating), a Chi-Square statistic larger than around 4 would strongly suggest an association between the variables. In this example, our Chi-Square statistic is much larger than that — 1307.88! This adds to our evidence that the variables are highly associated."
   ],
   "cell_type": "markdown",
   "metadata": {}
  },
  {
   "source": [
    "### Exercise\n",
    "\n",
    "1. The contingency table of frequencies for the special and authority questions is saved as `special_authority_freq`.\n",
    "\n",
    "    Use the `chi2_contingency()` function to calculate Chi-Square statistic for these two variables. Save the result as `chi2` and print it out. Do these variables appear to be associated?"
   ],
   "cell_type": "markdown",
   "metadata": {}
  },
  {
   "cell_type": "code",
   "execution_count": 10,
   "metadata": {},
   "outputs": [
    {
     "output_type": "execute_result",
     "data": {
      "text/plain": [
       "679.1219526170606"
      ]
     },
     "metadata": {},
     "execution_count": 10
    }
   ],
   "source": [
    "chi2, pval, dof, expected = chi2_contingency(special_authority_freq)\n",
    "chi2"
   ]
  },
  {
   "source": [
    "***"
   ],
   "cell_type": "markdown",
   "metadata": {}
  },
  {
   "source": [
    "## Review\n",
    "\n",
    "In this lesson we used a few different methods to assess whether there was an association between two categorical variables. Although we used binary variables (only 2 options per category), it is important to note that the same techniques can be used for non-binary categorical variables. The methods we used in this lesson included:\n",
    "\n",
    "* Contingency tables of frequencies\n",
    "* Contingency tables of proportions\n",
    "* Marginal proportions\n",
    "* Expected contingency tables\n",
    "* The Chi-Square statistic\n",
    "\n",
    "Note that the data in this lesson was downloaded from <a href=\"https://www.kaggle.com/lucasgreenwell/narcissistic-personality-inventory-responses\">Kaggle</a>, then cleaned and subsetted. The data was originally collected and made public by the <a href=\"https://openpsychometrics.org/\">Open-Source Psychometrics Project</a>."
   ],
   "cell_type": "markdown",
   "metadata": {}
  }
 ]
}