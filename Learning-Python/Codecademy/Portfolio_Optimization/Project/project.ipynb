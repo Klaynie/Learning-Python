{
 "metadata": {
  "language_info": {
   "codemirror_mode": {
    "name": "ipython",
    "version": 3
   },
   "file_extension": ".py",
   "mimetype": "text/x-python",
   "name": "python",
   "nbconvert_exporter": "python",
   "pygments_lexer": "ipython3",
   "version": 3
  },
  "orig_nbformat": 2
 },
 "nbformat": 4,
 "nbformat_minor": 2,
 "cells": [
  {
   "source": [
    "# Mean Variance Optimization\n",
    "\n",
    "You are an investment analyst at a large fund. You specialize in calculating efficient frontiers and selecting assets for portfolios.\n",
    "\n",
    "This project is split into three tasks, each with its own Python file:\n",
    "\n",
    "* Follow the steps to calculate the efficient frontier of a portfolio with five assets (`script1.py`)\n",
    "* See how two additional assets affect the efficient frontier from part one (`script2.py`)\n",
    "* Use the covariance matrix and expected returns from ten assets to select the five assets that produce the best efficient frontier (`script3.py`)"
   ],
   "cell_type": "markdown",
   "metadata": {}
  },
  {
   "source": [
    "## Task One: `script1.py`\n",
    "\n",
    "1. Load `stock_data_weak.csv` file as a DataFrame and save it to a variable called `stock_data`.\n",
    "\n",
    "    Use `print(stock_data)` to visualize the data."
   ],
   "cell_type": "markdown",
   "metadata": {}
  },
  {
   "cell_type": "code",
   "execution_count": null,
   "metadata": {},
   "outputs": [],
   "source": []
  },
  {
   "source": [
    "2. Find the quarterly returns over each period for all assets in `stock_data`. Save the result to `returns_quarterly`."
   ],
   "cell_type": "markdown",
   "metadata": {}
  },
  {
   "cell_type": "code",
   "execution_count": null,
   "metadata": {},
   "outputs": [],
   "source": []
  },
  {
   "source": [
    "3. Find the expected return for each asset and save the result to `expected_returns`."
   ],
   "cell_type": "markdown",
   "metadata": {}
  },
  {
   "cell_type": "code",
   "execution_count": null,
   "metadata": {},
   "outputs": [],
   "source": []
  },
  {
   "source": [
    "4. Find the covariance of the quarterly returns over each period and save the result to `cov_quarterly`."
   ],
   "cell_type": "markdown",
   "metadata": {}
  },
  {
   "cell_type": "code",
   "execution_count": null,
   "metadata": {},
   "outputs": [],
   "source": []
  },
  {
   "source": [
    "5. We loaded the function `return_portfolios()` from `rf.py`, which accepts the expected return and quarterly covariance of a set of assets and returns a random collection of 5,000 portfolios. The return is formatted as a DataFrame with columns: `'Volatility'` and `'Returns'`.\n",
    "\n",
    "    Use the expected returns and covariances to find a set of random portfolios. Save the result to `random_portfolios`."
   ],
   "cell_type": "markdown",
   "metadata": {}
  },
  {
   "cell_type": "code",
   "execution_count": null,
   "metadata": {},
   "outputs": [],
   "source": []
  },
  {
   "source": [
    "6. Plot the random portfolios."
   ],
   "cell_type": "markdown",
   "metadata": {}
  },
  {
   "cell_type": "code",
   "execution_count": null,
   "metadata": {},
   "outputs": [],
   "source": []
  },
  {
   "source": [
    "7. We loaded the function `optimal_portfolio()` from `rf.py`, which accepts the quarterly returns of a set of assets. The function returns the `weights`, `returns`, and `risks` of portfolios on the efficient frontiers. The returns are formatted as NumPy arrays.\n",
    "\n",
    "    Use the `optimal_portfolio()` function to calculate the `weights`, `returns`, and `risks` of portfolios on the efficient frontier."
   ],
   "cell_type": "markdown",
   "metadata": {}
  },
  {
   "cell_type": "code",
   "execution_count": null,
   "metadata": {},
   "outputs": [],
   "source": []
  },
  {
   "source": [
    "8. Plot the efficient frontier as a yellow line, with dots on the plot.\n",
    "\n",
    "    Use the following code to set the x-label, y-label, and title:\n",
    "    ```\n",
    "    plt.ylabel('Expected Returns',fontsize=14)\n",
    "    plt.xlabel('Volatility (Std. Deviation)',fontsize=14)\n",
    "    plt.title('Efficient Frontier', fontsize=24)\n",
    "    ```"
   ],
   "cell_type": "markdown",
   "metadata": {}
  },
  {
   "cell_type": "code",
   "execution_count": null,
   "metadata": {},
   "outputs": [],
   "source": []
  },
  {
   "source": [
    "## Task Two: `script2.py`\n",
    "\n",
    "9. You inherited a portfolio with five assets, stored in `stock_data_weak.csv`:\n",
    "    \n",
    "    |Asset|Expected Return|\n",
    "    |:----|:--------------|\n",
    "    |General Electric|-0.0120|\n",
    "    |Chesapeake Energy|-0.0306|\n",
    "    |AT&T|-0.0014|\n",
    "    |Cisco Systems|0.0184|\n",
    "    |Campbell Soup|0.0084|\n",
    "    \n",
    "    Run `script2.py` to visualize the efficient frontier for these assets."
   ],
   "cell_type": "markdown",
   "metadata": {}
  },
  {
   "cell_type": "code",
   "execution_count": null,
   "metadata": {},
   "outputs": [],
   "source": []
  },
  {
   "source": [
    "10. You decide to diversify the portfolio with a couple of assets to increase the expected return of portfolios on the efficient frontier.\n",
    "\n",
    "    You choose to add Bank of America and Marvel, so your assets are:\n",
    "    \n",
    "    |Asset|Expected Return|\n",
    "    |:----|:--------------|\n",
    "    |General Electric|-0.0120|\n",
    "    |Chesapeake Energy|-0.0306|\n",
    "    |AT&T|-0.0014|\n",
    "    |Cisco Systems|0.0184|\n",
    "    |Campbell Soup|0.0084|\n",
    "    |Bank of America|0.0341|\n",
    "    |Marvel|0.0369|\n",
    "    \n",
    "    Change the path variable to `stock_data2.csv` to visualize this new efficient frontier."
   ],
   "cell_type": "markdown",
   "metadata": {}
  },
  {
   "cell_type": "code",
   "execution_count": null,
   "metadata": {},
   "outputs": [],
   "source": []
  },
  {
   "source": [
    "11. It is hard to visualize how much the efficient frontier improved with these assets. Let us plot the original efficient frontier on the same figure. Use the following code to do this:\n",
    "    ```\n",
    "    weak_EF = pd.read_csv('weak_risks_returns.csv')\n",
    "    plt.plot(weak_EF['Risks'], weak_EF['Returns'], 'g-o')\n",
    "    ```\n",
    "    To get a better view of the efficient frontier, you may want to comment out the following line:\n",
    "    ```\n",
    "    random_portfolios.plot.scatter(x='Volatility', y='Returns', fontsize=12)\n",
    "    ```\n",
    "    By adding the two high-return assets, we increased the expected return of portfolios on the efficient frontier."
   ],
   "cell_type": "markdown",
   "metadata": {}
  },
  {
   "cell_type": "code",
   "execution_count": null,
   "metadata": {},
   "outputs": [],
   "source": []
  },
  {
   "source": [
    "12. If you look at the expected returns of assets in your portfolio, you will notice that General Electric and Chesapeake Energy have a large negative return (i.e. you expect to lose money).\n",
    "\n",
    "    |Asset|Expected Return|\n",
    "    |:----|:--------------|\n",
    "    |General Electric|-0.0120|\n",
    "    |Chesapeake Energy|-0.0306|\n",
    "    |AT&T|-0.0014|\n",
    "    |Cisco Systems|0.0184|\n",
    "    |Campbell Soup|0.0084|\n",
    "    |Bank of America|0.0341|\n",
    "    |Marvel|0.0369|\n",
    "    \n",
    "    This begs the questions: do we need these assets in our portfolio? Given their poor expected return, we should only keep them if they are uniquely uncorrelated to the rest of the assets in the portfolio.\n",
    "    \n",
    "    To check the effects of these assets, we calculated the efficient frontier for a portfolio **without** General Electric and Chesapeake Energy. Add the following code to the bottom of `script2.py` to visualize this efficient frontier on the same  plot:\n",
    "    ```\n",
    "    strong_EF = pd.read_csv('strong_risks_returns.csv')\n",
    "    plt.plot(strong_EF['Risks'], strong_EF['Returns'], 'k-x')\n",
    "    ```\n",
    "    What do you notice when you run the code?"
   ],
   "cell_type": "markdown",
   "metadata": {}
  },
  {
   "source": [
    "*Hint: The efficient frontier did not change when you removed the two low return assets. Because these assets had low returns and were correlated to other assets in the portfolio, they did not improve the possible portfolios.*"
   ],
   "cell_type": "markdown",
   "metadata": {}
  },
  {
   "cell_type": "code",
   "execution_count": null,
   "metadata": {},
   "outputs": [],
   "source": []
  },
  {
   "source": [
    "## Task Three: `script3.py`\n",
    "\n",
    "13. Next, you will use your understanding of expected returns and covariances to inform portfolio decisions. We have asset data for 10 stocks, stored in `stock_data3.csv`.\n",
    "\n",
    "    Open `script3.py` and run the code.\n",
    "    \n",
    "    You should see two efficient frontiers. We calculate the better efficient frontier (green dots) using all ten assets. We calculate the other efficient frontier using only five assets from the portfolio.\n",
    "    \n",
    "    Your job is to choose five assets from the following list to create the best efficient frontier.\n",
    "    ```\n",
    "    ['PFE', 'TGT', 'M', 'VZ', 'JPM', 'MRO', 'KO', 'PG', 'CVS', 'HPQ']\n",
    "    ```\n",
    "    Use the expected returns and covariance table, and set the selected variable equal to a list with five of these assets.\n",
    "    \n",
    "    In the hint, we provide our best solution and explain how we arrived there."
   ],
   "cell_type": "markdown",
   "metadata": {}
  },
  {
   "source": [
    "*Hint: Using the following five assets will result in an efficient frontier that closely resembles a portfolio with all ten assets.*\n",
    "\n",
    "`selected = ['TGT', 'CVS', 'M', 'VZ', 'JPM']`\n",
    "\n",
    "*We used the following approach to select these assets:*\n",
    "\n",
    "* *`JPM` has the largest expected return, so we knew to include it.*\n",
    "* *We added the asset that was the least correlated to `JPM` – `VZ` has a small negative covariance.*\n",
    "* *We selected the assets with the next three highest expected returns: `M`, `CVS`, and `TGT`.*"
   ],
   "cell_type": "markdown",
   "metadata": {}
  }
 ]
}