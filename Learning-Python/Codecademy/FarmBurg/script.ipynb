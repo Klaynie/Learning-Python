{
 "metadata": {
  "language_info": {
   "codemirror_mode": {
    "name": "ipython",
    "version": 3
   },
   "file_extension": ".py",
   "mimetype": "text/x-python",
   "name": "python",
   "nbconvert_exporter": "python",
   "pygments_lexer": "ipython3",
   "version": "3.9.1-final"
  },
  "orig_nbformat": 2,
  "kernelspec": {
   "name": "python3",
   "display_name": "Python 3.9.1 64-bit",
   "metadata": {
    "interpreter": {
     "hash": "ac59ebe37160ed0dfa835113d9b8498d9f09ceb179beaac4002f036b9467c963"
    }
   }
  }
 },
 "nbformat": 4,
 "nbformat_minor": 2,
 "cells": [
  {
   "source": [
    "# Getting Familiar with FarmBurg\n",
    "\n",
    "Brian is a Product Manager at FarmBurg, a company that makes a farming simulation social network game. In the FarmBurg game, you can plow, plant, and harvest different crops.\n",
    "\n",
    "Today, you will be acting as Brian's data analyst for an A/B Test that he has been conducting.\n",
    "\n",
    "Brian tells you that he ran an A/B test with three different groups: A, B, and C. You are kind of busy today, so you do not ask too many questions about the differences between A, B, and C. Maybe they were shown three different versions of an ad. Who cares?\n",
    "\n",
    "(HINT: you will care later)\n",
    "\n",
    "Brian gives you a CSV of results called **clicks.csv**. It has the following columns:\n",
    "\n",
    "* `user_id`: a unique id for each visitor to the FarmBurg site\n",
    "* `ab_test_group`: either A, B, or C depending on which group the visitor was assigned to\n",
    "* `click_day`: only filled in if the user clicked on a link to purchase"
   ],
   "cell_type": "markdown",
   "metadata": {}
  },
  {
   "source": [
    "***"
   ],
   "cell_type": "markdown",
   "metadata": {}
  },
  {
   "source": [
    "1. Start by importing `pandas` as `pd`. You will be using this module for most of this project."
   ],
   "cell_type": "markdown",
   "metadata": {}
  },
  {
   "cell_type": "code",
   "execution_count": 1,
   "metadata": {},
   "outputs": [],
   "source": [
    "import pandas as pd"
   ]
  },
  {
   "source": [
    "2. Load `clicks.csv` into the variable `df`."
   ],
   "cell_type": "markdown",
   "metadata": {}
  },
  {
   "cell_type": "code",
   "execution_count": 2,
   "metadata": {},
   "outputs": [],
   "source": [
    "df = pd.read_csv('clicks.csv')"
   ]
  },
  {
   "source": [
    "3. Examine the first few rows of df using `.head()`"
   ],
   "cell_type": "markdown",
   "metadata": {}
  },
  {
   "cell_type": "code",
   "execution_count": 3,
   "metadata": {},
   "outputs": [
    {
     "output_type": "execute_result",
     "data": {
      "text/plain": [
       "                                user_id group click_day\n",
       "0  8e27bf9a-5b6e-41ed-801a-a59979c0ca98     A       NaN\n",
       "1  eb89e6f0-e682-4f79-99b1-161cc1c096f1     A       NaN\n",
       "2  7119106a-7a95-417b-8c4c-092c12ee5ef7     A       NaN\n",
       "3  e53781ff-ff7a-4fcd-af1a-adba02b2b954     A       NaN\n",
       "4  02d48cf1-1ae6-40b3-9d8b-8208884a0904     A  Saturday"
      ],
      "text/html": "<div>\n<style scoped>\n    .dataframe tbody tr th:only-of-type {\n        vertical-align: middle;\n    }\n\n    .dataframe tbody tr th {\n        vertical-align: top;\n    }\n\n    .dataframe thead th {\n        text-align: right;\n    }\n</style>\n<table border=\"1\" class=\"dataframe\">\n  <thead>\n    <tr style=\"text-align: right;\">\n      <th></th>\n      <th>user_id</th>\n      <th>group</th>\n      <th>click_day</th>\n    </tr>\n  </thead>\n  <tbody>\n    <tr>\n      <th>0</th>\n      <td>8e27bf9a-5b6e-41ed-801a-a59979c0ca98</td>\n      <td>A</td>\n      <td>NaN</td>\n    </tr>\n    <tr>\n      <th>1</th>\n      <td>eb89e6f0-e682-4f79-99b1-161cc1c096f1</td>\n      <td>A</td>\n      <td>NaN</td>\n    </tr>\n    <tr>\n      <th>2</th>\n      <td>7119106a-7a95-417b-8c4c-092c12ee5ef7</td>\n      <td>A</td>\n      <td>NaN</td>\n    </tr>\n    <tr>\n      <th>3</th>\n      <td>e53781ff-ff7a-4fcd-af1a-adba02b2b954</td>\n      <td>A</td>\n      <td>NaN</td>\n    </tr>\n    <tr>\n      <th>4</th>\n      <td>02d48cf1-1ae6-40b3-9d8b-8208884a0904</td>\n      <td>A</td>\n      <td>Saturday</td>\n    </tr>\n  </tbody>\n</table>\n</div>"
     },
     "metadata": {},
     "execution_count": 3
    }
   ],
   "source": [
    "df.head()"
   ]
  },
  {
   "source": [
    "## Calculating Purchase Rates\n",
    "\n",
    "We need to help Brian determine whether or not there is a significant difference in the percent of users who purchased the upgrade package among groups A, B, and C."
   ],
   "cell_type": "markdown",
   "metadata": {}
  },
  {
   "source": [
    "***"
   ],
   "cell_type": "markdown",
   "metadata": {}
  },
  {
   "source": [
    "1. Define a new column called `is_purchase` which is `\"Purchase\"` if `click_day` is not `None` and `\"No Purchase\"` if `click_day` is `None`. This will tell us if each visitor clicked on the purchase link."
   ],
   "cell_type": "markdown",
   "metadata": {}
  },
  {
   "cell_type": "code",
   "execution_count": 4,
   "metadata": {},
   "outputs": [
    {
     "output_type": "execute_result",
     "data": {
      "text/plain": [
       "                                user_id group click_day  is_purchase\n",
       "0  8e27bf9a-5b6e-41ed-801a-a59979c0ca98     A       NaN  No Purchase\n",
       "1  eb89e6f0-e682-4f79-99b1-161cc1c096f1     A       NaN  No Purchase\n",
       "2  7119106a-7a95-417b-8c4c-092c12ee5ef7     A       NaN  No Purchase\n",
       "3  e53781ff-ff7a-4fcd-af1a-adba02b2b954     A       NaN  No Purchase\n",
       "4  02d48cf1-1ae6-40b3-9d8b-8208884a0904     A  Saturday     Purchase"
      ],
      "text/html": "<div>\n<style scoped>\n    .dataframe tbody tr th:only-of-type {\n        vertical-align: middle;\n    }\n\n    .dataframe tbody tr th {\n        vertical-align: top;\n    }\n\n    .dataframe thead th {\n        text-align: right;\n    }\n</style>\n<table border=\"1\" class=\"dataframe\">\n  <thead>\n    <tr style=\"text-align: right;\">\n      <th></th>\n      <th>user_id</th>\n      <th>group</th>\n      <th>click_day</th>\n      <th>is_purchase</th>\n    </tr>\n  </thead>\n  <tbody>\n    <tr>\n      <th>0</th>\n      <td>8e27bf9a-5b6e-41ed-801a-a59979c0ca98</td>\n      <td>A</td>\n      <td>NaN</td>\n      <td>No Purchase</td>\n    </tr>\n    <tr>\n      <th>1</th>\n      <td>eb89e6f0-e682-4f79-99b1-161cc1c096f1</td>\n      <td>A</td>\n      <td>NaN</td>\n      <td>No Purchase</td>\n    </tr>\n    <tr>\n      <th>2</th>\n      <td>7119106a-7a95-417b-8c4c-092c12ee5ef7</td>\n      <td>A</td>\n      <td>NaN</td>\n      <td>No Purchase</td>\n    </tr>\n    <tr>\n      <th>3</th>\n      <td>e53781ff-ff7a-4fcd-af1a-adba02b2b954</td>\n      <td>A</td>\n      <td>NaN</td>\n      <td>No Purchase</td>\n    </tr>\n    <tr>\n      <th>4</th>\n      <td>02d48cf1-1ae6-40b3-9d8b-8208884a0904</td>\n      <td>A</td>\n      <td>Saturday</td>\n      <td>Purchase</td>\n    </tr>\n  </tbody>\n</table>\n</div>"
     },
     "metadata": {},
     "execution_count": 4
    }
   ],
   "source": [
    "df['is_purchase'] = df.click_day.apply(lambda x: \"Purchase\" if pd.notnull(x) else \"No Purchase\")\n",
    "\n",
    "df.head()"
   ]
  },
  {
   "source": [
    "2. We want to count the number of users who made a purchase from each group. Use `groupby` to count the number of `\"Purchase\"` and `\"No Purchase\"` from each `group`. Save your answer to the variable `purchase_counts`."
   ],
   "cell_type": "markdown",
   "metadata": {}
  },
  {
   "cell_type": "code",
   "execution_count": 5,
   "metadata": {},
   "outputs": [
    {
     "output_type": "execute_result",
     "data": {
      "text/plain": [
       "  group  is_purchase  user_id\n",
       "0     A  No Purchase     1350\n",
       "1     A     Purchase      316\n",
       "2     B  No Purchase     1483\n",
       "3     B     Purchase      183\n",
       "4     C  No Purchase     1583\n",
       "5     C     Purchase       83"
      ],
      "text/html": "<div>\n<style scoped>\n    .dataframe tbody tr th:only-of-type {\n        vertical-align: middle;\n    }\n\n    .dataframe tbody tr th {\n        vertical-align: top;\n    }\n\n    .dataframe thead th {\n        text-align: right;\n    }\n</style>\n<table border=\"1\" class=\"dataframe\">\n  <thead>\n    <tr style=\"text-align: right;\">\n      <th></th>\n      <th>group</th>\n      <th>is_purchase</th>\n      <th>user_id</th>\n    </tr>\n  </thead>\n  <tbody>\n    <tr>\n      <th>0</th>\n      <td>A</td>\n      <td>No Purchase</td>\n      <td>1350</td>\n    </tr>\n    <tr>\n      <th>1</th>\n      <td>A</td>\n      <td>Purchase</td>\n      <td>316</td>\n    </tr>\n    <tr>\n      <th>2</th>\n      <td>B</td>\n      <td>No Purchase</td>\n      <td>1483</td>\n    </tr>\n    <tr>\n      <th>3</th>\n      <td>B</td>\n      <td>Purchase</td>\n      <td>183</td>\n    </tr>\n    <tr>\n      <th>4</th>\n      <td>C</td>\n      <td>No Purchase</td>\n      <td>1583</td>\n    </tr>\n    <tr>\n      <th>5</th>\n      <td>C</td>\n      <td>Purchase</td>\n      <td>83</td>\n    </tr>\n  </tbody>\n</table>\n</div>"
     },
     "metadata": {},
     "execution_count": 5
    }
   ],
   "source": [
    "purchase_counts = df.groupby(['group', 'is_purchase']).user_id.count().reset_index()\n",
    "\n",
    "purchase_counts"
   ]
  },
  {
   "source": [
    "3. Examine `purchase_counts`."
   ],
   "cell_type": "markdown",
   "metadata": {}
  },
  {
   "source": [
    "***"
   ],
   "cell_type": "markdown",
   "metadata": {}
  },
  {
   "source": [
    "## Performing a Significance Test\n",
    "\n",
    "Here is our table of purchases from the previous exercise:\n",
    "\n",
    "|group|is_purchase|user_id|\n",
    "|:----|:----------|:------|\n",
    "|A|No Purchase|1350|\n",
    "|A|Purchase|316|\n",
    "|B|No Purchase|1483|\n",
    "|B|Purchase|183|\n",
    "|C|No Purchase|1583|\n",
    "|C|Purchase|83|\n",
    "\n",
    "The data from this A/B test is *categorical* data.\n",
    "\n",
    "Why?\n",
    "\n",
    "Because a users' response can be either `\"Purchase\"` or `\"No Purchase\"`.\n",
    "\n",
    "There are *more* than 2 conditions: users could be in either Group A, Group B, or Group C.\n",
    "\n",
    "Recall our table for determining which significance test to use:\n",
    "\n",
    "|  |Numerical|Categorical|\n",
    "|:-|:-------|:----------|\n",
    "|**Sample vs. Known Quantity**|1 Sample T-Test|Binomial Test|\n",
    "|**2 Samples**|2 Sample T-Test|Chi Square|\n",
    "|**More Than 2 Samples**|ANOVA and/or Tukey|Chi Square|\n",
    "\n",
    "Which type of test should we use?"
   ],
   "cell_type": "markdown",
   "metadata": {}
  },
  {
   "source": [
    "***"
   ],
   "cell_type": "markdown",
   "metadata": {}
  },
  {
   "source": [
    "1. You should perform a chi-squared test to determine if the differences between Groups A, B, and C are significant.\n",
    "\n",
    "    Import `chi2_contingency` from `scipy.stats` so that you can perform the chi-squared test."
   ],
   "cell_type": "markdown",
   "metadata": {}
  },
  {
   "cell_type": "code",
   "execution_count": 6,
   "metadata": {},
   "outputs": [],
   "source": [
    "from scipy.stats import chi2_contingency"
   ]
  },
  {
   "source": [
    "2. The function `chi2_contingency` accepts one argument: a contingency table.\n",
    "\n",
    "    Start by filling in the contingency table below with the correct values:\n",
    "\n",
    "        contingency = [[A_purchases, A_not_purchases],\n",
    "                       [B_purchases, B_not_purchases],\n",
    "                       [C_purchases, C_not_purchases]]"
   ],
   "cell_type": "markdown",
   "metadata": {}
  },
  {
   "cell_type": "code",
   "execution_count": 7,
   "metadata": {},
   "outputs": [
    {
     "output_type": "execute_result",
     "data": {
      "text/plain": [
       "is_purchase group  No Purchase  Purchase\n",
       "0               A         1350       316\n",
       "1               B         1483       183\n",
       "2               C         1583        83"
      ],
      "text/html": "<div>\n<style scoped>\n    .dataframe tbody tr th:only-of-type {\n        vertical-align: middle;\n    }\n\n    .dataframe tbody tr th {\n        vertical-align: top;\n    }\n\n    .dataframe thead th {\n        text-align: right;\n    }\n</style>\n<table border=\"1\" class=\"dataframe\">\n  <thead>\n    <tr style=\"text-align: right;\">\n      <th>is_purchase</th>\n      <th>group</th>\n      <th>No Purchase</th>\n      <th>Purchase</th>\n    </tr>\n  </thead>\n  <tbody>\n    <tr>\n      <th>0</th>\n      <td>A</td>\n      <td>1350</td>\n      <td>316</td>\n    </tr>\n    <tr>\n      <th>1</th>\n      <td>B</td>\n      <td>1483</td>\n      <td>183</td>\n    </tr>\n    <tr>\n      <th>2</th>\n      <td>C</td>\n      <td>1583</td>\n      <td>83</td>\n    </tr>\n  </tbody>\n</table>\n</div>"
     },
     "metadata": {},
     "execution_count": 7
    }
   ],
   "source": [
    "contingency_df = df.pivot_table(\n",
    "    columns='is_purchase',\n",
    "    index='group',\n",
    "    values='user_id',\n",
    "    aggfunc='count').reset_index()\n",
    "\n",
    "contingency_df"
   ]
  },
  {
   "cell_type": "code",
   "execution_count": 8,
   "metadata": {},
   "outputs": [
    {
     "output_type": "stream",
     "name": "stdout",
     "text": [
      "[316, 1350]\n[183, 1483]\n[83, 1583]\n"
     ]
    }
   ],
   "source": [
    "contingency = []\n",
    "for _, row in contingency_df.iterrows():\n",
    "    contingency.append([row['Purchase'], row['No Purchase']])\n",
    "\n",
    "for item in contingency:\n",
    "    print(item)"
   ]
  },
  {
   "source": [
    "3. Use the function `chi2_contingency` with the data in `contingency` to calculate the p-value.\n",
    "\n",
    "    Save only the p-value to the variable `pvalue`."
   ],
   "cell_type": "markdown",
   "metadata": {}
  },
  {
   "cell_type": "code",
   "execution_count": 9,
   "metadata": {},
   "outputs": [
    {
     "output_type": "execute_result",
     "data": {
      "text/plain": [
       "2.4126213546684264e-35"
      ]
     },
     "metadata": {},
     "execution_count": 9
    }
   ],
   "source": [
    "_, pvalue, _, _ = chi2_contingency(contingency)\n",
    "\n",
    "pvalue"
   ]
  },
  {
   "source": [
    "4. Is `pvalue` less than $0.05$? If so, there is a significant difference between the three groups.\n",
    "\n",
    "    Create a variable called `is_significant` and make it:\n",
    "\n",
    "* `True` if pvalue is less than $0.05$\n",
    "* `False` if pvalue is greater than $0.05$"
   ],
   "cell_type": "markdown",
   "metadata": {}
  },
  {
   "cell_type": "code",
   "execution_count": 10,
   "metadata": {},
   "outputs": [
    {
     "output_type": "execute_result",
     "data": {
      "text/plain": [
       "True"
      ]
     },
     "metadata": {},
     "execution_count": 10
    }
   ],
   "source": [
    "significance_threshold = 0.05\n",
    "\n",
    "is_significant = pvalue < significance_threshold\n",
    "\n",
    "is_significant"
   ]
  },
  {
   "source": [
    "***"
   ],
   "cell_type": "markdown",
   "metadata": {}
  },
  {
   "source": [
    "## Calculating Necessary Purchase Rates\n",
    "\n",
    "Your day is a little less busy than you expected, so you decide to ask Brian about his test.\n",
    "\n",
    ">**You**: Hey Brian! What was that test you were running anyway?\n",
    "\n",
    ">**Brian**: It was awesome! We are trying to get users to purchase a small FarmBurg upgrade package. It is called a microtransaction. We are not sure how much to charge for it, so we tested three different price points: \\$0.99, \\$1.99, and \\$4.99. It looks like significantly more people bought the upgrade package for \\$0.99, so I guess that is what we will charge.\n",
    "\n",
    ">**You**: Oh no! I should have asked you this before we did that chi-squared test. I do not think that this was the right test at all. It is true that more people wanted to purchase the upgrade at \\$0.99; you probably expected that. What we really want to know is if each price point allows us to make enough money that we can exceed some target goal. Brian, how much do you think it cost to build this feature?\n",
    "\n",
    ">**Brian**: Hmm. I guess that we need to generate a minimum of \\$1000 per week in order to justify this project.\n",
    "\n",
    ">**You**: We have some work to do!"
   ],
   "cell_type": "markdown",
   "metadata": {}
  },
  {
   "source": [
    "***"
   ],
   "cell_type": "markdown",
   "metadata": {}
  },
  {
   "source": [
    "1. How many visitors came to the site this week? Save your answer to `num_visits`."
   ],
   "cell_type": "markdown",
   "metadata": {}
  },
  {
   "cell_type": "code",
   "execution_count": 11,
   "metadata": {},
   "outputs": [],
   "source": [
    "num_visits = len(df)"
   ]
  },
  {
   "source": [
    "2. Let us assume that `num_visits` is how many visitors we generally get each week. Given that, calculate the percent of visitors who would need to purchase the upgrade package at each price point (\\$0.99, \\$1.99, \\$4.99) in order to generate Brian's target of \\$1,000 per week.\n",
    "\n",
    "    Save the results to:\n",
    "\n",
    "    * `p_clicks_099`\n",
    "    * `p_clicks_199`\n",
    "    * `p_clicks_499`\n",
    "\n",
    "    Note that for higher price points, you will need to sell fewer upgrade packages in order to meet your target."
   ],
   "cell_type": "markdown",
   "metadata": {}
  },
  {
   "cell_type": "code",
   "execution_count": 12,
   "metadata": {},
   "outputs": [
    {
     "output_type": "stream",
     "name": "stdout",
     "text": [
      "Increase required for 0.99 microtransaction: 20.21%\nIncrease required for 1.99 microtransaction: 10.05%\nIncrease required for 4.99 microtransaction: 4.01%\n"
     ]
    }
   ],
   "source": [
    "sales_target = 1000\n",
    "\n",
    "p_clicks_099 = sales_target / (0.99 * num_visits)\n",
    "p_clicks_199 = sales_target / (1.99 * num_visits)\n",
    "p_clicks_499 = sales_target / (4.99 * num_visits)\n",
    "\n",
    "print(f\"Increase required for 0.99 microtransaction: {p_clicks_099:.2%}\")\n",
    "print(f\"Increase required for 1.99 microtransaction: {p_clicks_199:.2%}\")\n",
    "print(f\"Increase required for 4.99 microtransaction: {p_clicks_499:.2%}\")"
   ]
  },
  {
   "source": [
    "***"
   ],
   "cell_type": "markdown",
   "metadata": {}
  },
  {
   "source": [
    "Performing a Significance Test II\n",
    "\n",
    "Here is our table of purchases again:\n",
    "\n",
    "|group|is_purchase|user_id|\n",
    "|:----|:----------|:------|\n",
    "|A|No Purchase|1350|\n",
    "|A|Purchase|316|\n",
    "|B|No Purchase|1483|\n",
    "|B|Purchase|183|\n",
    "|C|No Purchase|1583|\n",
    "|C|Purchase|83|\n",
    "\n",
    "We want to see if the percent of Group A that purchased an upgrade package is significantly greater than `p_clicks_099` (the percent of visitors who need to buy an upgrade package at \\$0.99 in order to make our target of \\$1,000).\n",
    "\n",
    "We are comparing a single set of samples to a target. Our data is still categorical.\n",
    "\n",
    "Recall our table for determining which significance test to use:\n",
    "\n",
    "|  |Numerical|Categorical|\n",
    "|:-|:-------|:----------|\n",
    "|**Sample vs. Known Quantity**|1 Sample T-Test|Binomial Test|\n",
    "|**2 Samples**|2 Sample T-Test|Chi Square|\n",
    "|**More Than 2 Samples**|ANOVA and/or Tukey|Chi Square|\n",
    "\n",
    "Which type of test should we use?"
   ],
   "cell_type": "markdown",
   "metadata": {}
  },
  {
   "source": [
    "***"
   ],
   "cell_type": "markdown",
   "metadata": {}
  },
  {
   "source": [
    "1. We should use a **binomial test** on each group to see if the observed purchase rate is significantly greater than what we need in order to generate at least $1,000 per week.\n",
    "\n",
    "    Import `binom_test` from `scipy.stats`."
   ],
   "cell_type": "markdown",
   "metadata": {}
  },
  {
   "cell_type": "code",
   "execution_count": 13,
   "metadata": {},
   "outputs": [],
   "source": [
    "from scipy.stats import binom_test"
   ]
  },
  {
   "source": [
    "2. For Group A (\\$0.99 price point), perform a `binom_test` to see if the observed purchase rate is significantly greater than `p_clicks_099`.\n",
    "\n",
    "    * `x` will be the number of purchases for Group A\n",
    "    * `n` will be the total number of visitors assigned Group A\n",
    "    * `p` will be the target percent of purchases for that price point (calculated above as `p_clicks_099`)\n",
    "    \n",
    "    Save the results to `pvalueA`."
   ],
   "cell_type": "markdown",
   "metadata": {}
  },
  {
   "cell_type": "code",
   "execution_count": 14,
   "metadata": {},
   "outputs": [
    {
     "output_type": "execute_result",
     "data": {
      "text/plain": [
       "0.2111287299402726"
      ]
     },
     "metadata": {},
     "execution_count": 14
    }
   ],
   "source": [
    "x = int(contingency_df['Purchase'][contingency_df['group'] == 'A'])\n",
    "n = int(contingency_df['Purchase'][contingency_df['group'] == 'A']\n",
    "    +   contingency_df['No Purchase'][contingency_df['group'] == 'A'])\n",
    "p = p_clicks_099\n",
    "\n",
    "pvalueA = binom_test(x, n=n, p=p)\n",
    "\n",
    "pvalueA"
   ]
  },
  {
   "source": [
    "3. For Group B (\\$1.99 price point), perform a binom_test to see if the observed purchase rate is significantly greater than `p_clicks_199`.\n",
    "\n",
    "    Save the results to `pvalueB`."
   ],
   "cell_type": "markdown",
   "metadata": {}
  },
  {
   "cell_type": "code",
   "execution_count": 15,
   "metadata": {},
   "outputs": [
    {
     "output_type": "execute_result",
     "data": {
      "text/plain": [
       "0.20660209246555486"
      ]
     },
     "metadata": {},
     "execution_count": 15
    }
   ],
   "source": [
    "x = int(contingency_df['Purchase'][contingency_df['group'] == 'B'])\n",
    "n = int(contingency_df['Purchase'][contingency_df['group'] == 'B']\n",
    "    +   contingency_df['No Purchase'][contingency_df['group'] == 'B'])\n",
    "p = p_clicks_199\n",
    "\n",
    "pvalueB = binom_test(x, n=n, p=p)\n",
    "\n",
    "pvalueB"
   ]
  },
  {
   "source": [
    "4. For Group C (\\$4.99 price point), perform a `binom_test` to see if the observed purchase rate is significantly greater than `p_clicks_499`.\n",
    "\n",
    "    Save the results to `pvalueC`."
   ],
   "cell_type": "markdown",
   "metadata": {}
  },
  {
   "cell_type": "code",
   "execution_count": 16,
   "metadata": {},
   "outputs": [
    {
     "output_type": "execute_result",
     "data": {
      "text/plain": [
       "0.045623672477172125"
      ]
     },
     "metadata": {},
     "execution_count": 16
    }
   ],
   "source": [
    "x = int(contingency_df['Purchase'][contingency_df['group'] == 'C'])\n",
    "n = int(contingency_df['Purchase'][contingency_df['group'] == 'C']\n",
    "    +   contingency_df['No Purchase'][contingency_df['group'] == 'C'])\n",
    "p = p_clicks_499\n",
    "\n",
    "pvalueC = binom_test(x, n=n, p=p)\n",
    "\n",
    "pvalueC"
   ]
  },
  {
   "source": [
    "5. What price should Brian charge for the upgrade package? Save your answer to the variable `final_answer`."
   ],
   "cell_type": "markdown",
   "metadata": {}
  },
  {
   "cell_type": "code",
   "execution_count": 17,
   "metadata": {},
   "outputs": [],
   "source": [
    "final_answer = 4.99"
   ]
  }
 ]
}