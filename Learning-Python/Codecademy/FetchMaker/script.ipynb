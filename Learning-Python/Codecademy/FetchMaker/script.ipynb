{
 "metadata": {
  "language_info": {
   "codemirror_mode": {
    "name": "ipython",
    "version": 3
   },
   "file_extension": ".py",
   "mimetype": "text/x-python",
   "name": "python",
   "nbconvert_exporter": "python",
   "pygments_lexer": "ipython3",
   "version": "3.9.1-final"
  },
  "orig_nbformat": 2,
  "kernelspec": {
   "name": "python3",
   "display_name": "Python 3.9.1 64-bit",
   "metadata": {
    "interpreter": {
     "hash": "ac59ebe37160ed0dfa835113d9b8498d9f09ceb179beaac4002f036b9467c963"
    }
   }
  }
 },
 "nbformat": 4,
 "nbformat_minor": 2,
 "cells": [
  {
   "source": [
    "# FetchMaker\n",
    "\n",
    "Congratulations! You have just started working at the hottest new tech startup, FetchMaker. FetchMaker's mission is to match up prospective dog owners with their perfect pet. Data on thousands of adoptable dogs are in FetchMaker's system, and it is your job to analyze some of that data."
   ],
   "cell_type": "markdown",
   "metadata": {}
  },
  {
   "cell_type": "code",
   "execution_count": 1,
   "metadata": {},
   "outputs": [
    {
     "output_type": "execute_result",
     "data": {
      "text/plain": [
       "<IPython.lib.display.YouTubeVideo at 0x212c5afc940>"
      ],
      "text/html": "\n        <iframe\n            width=\"800\"\n            height=\"500\"\n            src=\"https://www.youtube.com/embed/vHjJGTSVIFQ\"\n            frameborder=\"0\"\n            allowfullscreen\n        ></iframe>\n        ",
      "image/jpeg": "[encoded data removed]"
     },
     "metadata": {},
     "execution_count": 1
    }
   ],
   "source": [
    "from IPython.display import YouTubeVideo\n",
    "YouTubeVideo('vHjJGTSVIFQ', width = 800, height = 500)"
   ]
  },
  {
   "source": [
    "***"
   ],
   "cell_type": "markdown",
   "metadata": {}
  },
  {
   "source": [
    "1. Let us start by including a data interface called `fetchmaker` that will give you access to FetchMaker's dog data.\n",
    "\n",
    "    Use `import fetchmaker` to import the `fetchmaker` package."
   ],
   "cell_type": "markdown",
   "metadata": {}
  },
  {
   "cell_type": "code",
   "execution_count": 2,
   "metadata": {},
   "outputs": [],
   "source": [
    "import fetchmaker"
   ]
  },
  {
   "source": [
    "2. The attributes that FetchMaker keeps track of are:\n",
    "\n",
    "    * `weight`, an integer representing how heavy a dog is in pounds\n",
    "    * `tail_length`, a float representing tail length in inches\n",
    "    * `age`, in years\n",
    "    * `color`, a String such as `\"brown\"` or `\"grey\"`\n",
    "    * `is_rescue`, a boolean `0` or `1`\n",
    "\n",
    "    The `fetchmaker` package lets you access this data for a specific breed of dog with the following format:\n",
    "\n",
    "        fetchmaker.get_weight(\"poodle\")\n",
    "\n",
    "    This returns a Pandas DataFrame of the weights of the poodles recorded in the system. The other methods are `get_tail_length`, `get_color`, `get_age`, and `get_is_rescue`, which all take a breed as an input.\n",
    "\n",
    "    Get the tail lengths of all of the `\"rottweiler\"`s in the system, and store it in a variable called `rottweiler_tl`."
   ],
   "cell_type": "markdown",
   "metadata": {}
  },
  {
   "cell_type": "code",
   "execution_count": 3,
   "metadata": {},
   "outputs": [],
   "source": [
    "rottweiler_tl = fetchmaker.get_tail_length(\"rottweiler\")"
   ]
  },
  {
   "source": [
    "3. Print out the mean of `rottweiler_tl` and the standard deviation of `rottweiler_tl`, using `np.mean` and `np.std`."
   ],
   "cell_type": "markdown",
   "metadata": {}
  },
  {
   "cell_type": "code",
   "execution_count": 4,
   "metadata": {},
   "outputs": [
    {
     "output_type": "stream",
     "name": "stdout",
     "text": [
      "Mean rottweiler tail length: 4.24\nRottweiler tail length standard deviation: 2.06\n"
     ]
    }
   ],
   "source": [
    "import numpy as np\n",
    "\n",
    "print(f\"Mean rottweiler tail length: {np.mean(rottweiler_tl):.2f}\")\n",
    "print(f\"Rottweiler tail length standard deviation: {np.std(rottweiler_tl):.2f}\")"
   ]
  },
  {
   "source": [
    "## Data to the rescue\n",
    "\n",
    "4. Over the years, we have seen that we expect $8\\%$ of dogs in the FetchMaker system to be rescues. We want to know if whippets are significantly more or less likely to be a rescue.\n",
    "\n",
    "    Store the `is_rescue` values for `\"whippet\"`s in a variable called `whippet_rescue`."
   ],
   "cell_type": "markdown",
   "metadata": {}
  },
  {
   "cell_type": "code",
   "execution_count": 5,
   "metadata": {},
   "outputs": [],
   "source": [
    "is_rescue = fetchmaker.get_is_rescue(\"whippet\")"
   ]
  },
  {
   "source": [
    "5. Use `np.count_nonzero` to get the number of entries in `whippet_rescue` that are `1`. Store this number in a variable called `num_whippet_rescues`."
   ],
   "cell_type": "markdown",
   "metadata": {}
  },
  {
   "cell_type": "code",
   "execution_count": 6,
   "metadata": {},
   "outputs": [],
   "source": [
    "num_whippet_rescues = np.count_nonzero(is_rescue)"
   ]
  },
  {
   "source": [
    "6. Get the number of samples in the whippet set by taking the `np.size` of `whippet_rescue`. Store this in a variable called `num_whippets`."
   ],
   "cell_type": "markdown",
   "metadata": {}
  },
  {
   "cell_type": "code",
   "execution_count": 7,
   "metadata": {},
   "outputs": [],
   "source": [
    "num_whippets = np.size(is_rescue)"
   ]
  },
  {
   "source": [
    "7. Use a binomial test to test the number of whippet rescues, `num_whippet_rescues`, against our expected percentage, $8\\%$.\n",
    "\n",
    "    Remember to import the binomial test by using `from scipy.stats import binom_test`."
   ],
   "cell_type": "markdown",
   "metadata": {}
  },
  {
   "cell_type": "code",
   "execution_count": 8,
   "metadata": {},
   "outputs": [],
   "source": [
    "from scipy.stats import binom_test\n",
    "\n",
    "expected_percentage = 0.08\n",
    "\n",
    "pval = binom_test(num_whippet_rescues, n=num_whippets, p=expected_percentage)"
   ]
  },
  {
   "source": [
    "8. Print out the p-value. Is your result significant?"
   ],
   "cell_type": "markdown",
   "metadata": {}
  },
  {
   "cell_type": "code",
   "execution_count": 9,
   "metadata": {},
   "outputs": [
    {
     "output_type": "execute_result",
     "data": {
      "text/plain": [
       "0.5811780106238098"
      ]
     },
     "metadata": {},
     "execution_count": 9
    }
   ],
   "source": [
    "pval"
   ]
  },
  {
   "source": [
    "The null hypothesis cannot be rejected at the $5\\%$ level of significance because the returned p-value is greater than the critical value of $5\\%$. We cannot draw any meaningful conclusion."
   ],
   "cell_type": "markdown",
   "metadata": {}
  },
  {
   "source": [
    "## Size does matter\n",
    "9. Three of our most popular mid-sized dog breeds are whippets, terriers, and pitbulls. Is there a significant difference in the average weights of these three dog breeds? Perform a comparative numerical test to determine if there is a significant difference."
   ],
   "cell_type": "markdown",
   "metadata": {}
  },
  {
   "cell_type": "code",
   "execution_count": 10,
   "metadata": {},
   "outputs": [
    {
     "output_type": "execute_result",
     "data": {
      "text/plain": [
       "3.276415588274815e-17"
      ]
     },
     "metadata": {},
     "execution_count": 10
    }
   ],
   "source": [
    "from scipy.stats import f_oneway\n",
    "\n",
    "whippet_weight = fetchmaker.get_weight(\"whippet\")\n",
    "terrier_weight = fetchmaker.get_weight(\"terrier\")\n",
    "pitbull_weight = fetchmaker.get_weight(\"pitbull\")\n",
    "\n",
    "weight_comparison = f_oneway(whippet_weight, terrier_weight, pitbull_weight)\n",
    "\n",
    "weight_comparison.pvalue"
   ]
  },
  {
   "source": [
    "**A:** Since our p-Value is much smaller than $0.05$ we can reject the null hypothesis that the weights come from a population with the same mean. We can concluded that there is a significance difference for at least one of the breeds."
   ],
   "cell_type": "markdown",
   "metadata": {}
  },
  {
   "source": [
    "10. Now, perform another test to determine _which_ of the pairs of these dog breeds differ from each other."
   ],
   "cell_type": "markdown",
   "metadata": {}
  },
  {
   "cell_type": "code",
   "execution_count": 11,
   "metadata": {},
   "outputs": [
    {
     "output_type": "stream",
     "name": "stdout",
     "text": [
      "  Multiple Comparison of Means - Tukey HSD, FWER=0.05   \n========================================================\n  group1   group2  meandiff p-adj   lower  upper  reject\n--------------------------------------------------------\nPittbulls Terriers   -13.24  0.001 -16.728 -9.752   True\nPittbulls Whippets    -3.34 0.0639  -6.828  0.148  False\n Terriers Whippets      9.9  0.001   6.412 13.388   True\n--------------------------------------------------------\n"
     ]
    }
   ],
   "source": [
    "from statsmodels.stats.multicomp import pairwise_tukeyhsd\n",
    "\n",
    "significance_level = 0.05\n",
    "values = np.concatenate([whippet_weight, terrier_weight, pitbull_weight])\n",
    "labels = ['Whippets'] * len(whippet_weight) + ['Terriers'] * len(terrier_weight) + ['Pittbulls'] * len(pitbull_weight)\n",
    "\n",
    "tukey_results = pairwise_tukeyhsd(values, labels, significance_level)\n",
    "\n",
    "print(tukey_results)"
   ]
  },
  {
   "source": [
    "## Categorical dog test\n",
    "\n",
    "11. We want to see if `\"poodle\"`s and `\"shihtzu\"`s have significantly different color breakdowns.\n",
    "\n",
    "    Get the poodle colors and store it in a variable called `poodle_colors`.\n",
    "\n",
    "    Get the shih tzu colors and store it in a variable called `shihtzu_colors`."
   ],
   "cell_type": "markdown",
   "metadata": {}
  },
  {
   "cell_type": "code",
   "execution_count": 12,
   "metadata": {},
   "outputs": [],
   "source": [
    "poodle_colors = fetchmaker.get_color(\"poodle\")\n",
    "shihtzu_colors = fetchmaker.get_color(\"shihtzu\")"
   ]
  },
  {
   "source": [
    "12. You can get the number of occurrences of brown poodles by using `np.count_nonzero(poodle_colors == \"brown\")`.\n",
    "\n",
    "Use this function to build a Chi Square contingency table, called `color_table`, with the following structure:\n",
    "\n",
    "|  |Poodle|Shih Tzu|\n",
    "|:-|:----|:-------|\n",
    "|Black|x|x|\n",
    "|Brown|x|x|\n",
    "|Gold|x|x|\n",
    "|Grey|x|x|\n",
    "|White|x|x|\n",
    "\n",
    "Fill in the \"x\" entries with the number of each poodle or shih tzu with the specified color."
   ],
   "cell_type": "markdown",
   "metadata": {}
  },
  {
   "cell_type": "code",
   "execution_count": 13,
   "metadata": {},
   "outputs": [
    {
     "output_type": "execute_result",
     "data": {
      "text/plain": [
       "       color     breed\n",
       "index                 \n",
       "0      black    Poodle\n",
       "1      black    Poodle\n",
       "2      black    Poodle\n",
       "3      black    Poodle\n",
       "4      black    Poodle\n",
       "...      ...       ...\n",
       "195    white  Shih Tzu\n",
       "196    white  Shih Tzu\n",
       "197    white  Shih Tzu\n",
       "198    white  Shih Tzu\n",
       "199    white  Shih Tzu\n",
       "\n",
       "[200 rows x 2 columns]"
      ],
      "text/html": "<div>\n<style scoped>\n    .dataframe tbody tr th:only-of-type {\n        vertical-align: middle;\n    }\n\n    .dataframe tbody tr th {\n        vertical-align: top;\n    }\n\n    .dataframe thead th {\n        text-align: right;\n    }\n</style>\n<table border=\"1\" class=\"dataframe\">\n  <thead>\n    <tr style=\"text-align: right;\">\n      <th></th>\n      <th>color</th>\n      <th>breed</th>\n    </tr>\n    <tr>\n      <th>index</th>\n      <th></th>\n      <th></th>\n    </tr>\n  </thead>\n  <tbody>\n    <tr>\n      <th>0</th>\n      <td>black</td>\n      <td>Poodle</td>\n    </tr>\n    <tr>\n      <th>1</th>\n      <td>black</td>\n      <td>Poodle</td>\n    </tr>\n    <tr>\n      <th>2</th>\n      <td>black</td>\n      <td>Poodle</td>\n    </tr>\n    <tr>\n      <th>3</th>\n      <td>black</td>\n      <td>Poodle</td>\n    </tr>\n    <tr>\n      <th>4</th>\n      <td>black</td>\n      <td>Poodle</td>\n    </tr>\n    <tr>\n      <th>...</th>\n      <td>...</td>\n      <td>...</td>\n    </tr>\n    <tr>\n      <th>195</th>\n      <td>white</td>\n      <td>Shih Tzu</td>\n    </tr>\n    <tr>\n      <th>196</th>\n      <td>white</td>\n      <td>Shih Tzu</td>\n    </tr>\n    <tr>\n      <th>197</th>\n      <td>white</td>\n      <td>Shih Tzu</td>\n    </tr>\n    <tr>\n      <th>198</th>\n      <td>white</td>\n      <td>Shih Tzu</td>\n    </tr>\n    <tr>\n      <th>199</th>\n      <td>white</td>\n      <td>Shih Tzu</td>\n    </tr>\n  </tbody>\n</table>\n<p>200 rows × 2 columns</p>\n</div>"
     },
     "metadata": {},
     "execution_count": 13
    }
   ],
   "source": [
    "import pandas as pd\n",
    "\n",
    "poodle_colors_df = pd.DataFrame(poodle_colors)\n",
    "shihtzu_colors_df = pd.DataFrame(shihtzu_colors)\n",
    "\n",
    "poodle_colors_df['breed'] = 'Poodle'\n",
    "shihtzu_colors_df['breed'] = 'Shih Tzu'\n",
    "\n",
    "df = poodle_colors_df.append(shihtzu_colors_df, ignore_index=True)\n",
    "df.reset_index(inplace=True)\n",
    "\n",
    "df.set_index(['index'])"
   ]
  },
  {
   "cell_type": "code",
   "execution_count": 14,
   "metadata": {},
   "outputs": [
    {
     "output_type": "execute_result",
     "data": {
      "text/plain": [
       "breed  color  Poodle  Shih Tzu\n",
       "0      black      17        10\n",
       "1      brown      13        36\n",
       "2       gold       8         6\n",
       "3       grey      52        41\n",
       "4      white      10         7"
      ],
      "text/html": "<div>\n<style scoped>\n    .dataframe tbody tr th:only-of-type {\n        vertical-align: middle;\n    }\n\n    .dataframe tbody tr th {\n        vertical-align: top;\n    }\n\n    .dataframe thead th {\n        text-align: right;\n    }\n</style>\n<table border=\"1\" class=\"dataframe\">\n  <thead>\n    <tr style=\"text-align: right;\">\n      <th>breed</th>\n      <th>color</th>\n      <th>Poodle</th>\n      <th>Shih Tzu</th>\n    </tr>\n  </thead>\n  <tbody>\n    <tr>\n      <th>0</th>\n      <td>black</td>\n      <td>17</td>\n      <td>10</td>\n    </tr>\n    <tr>\n      <th>1</th>\n      <td>brown</td>\n      <td>13</td>\n      <td>36</td>\n    </tr>\n    <tr>\n      <th>2</th>\n      <td>gold</td>\n      <td>8</td>\n      <td>6</td>\n    </tr>\n    <tr>\n      <th>3</th>\n      <td>grey</td>\n      <td>52</td>\n      <td>41</td>\n    </tr>\n    <tr>\n      <th>4</th>\n      <td>white</td>\n      <td>10</td>\n      <td>7</td>\n    </tr>\n  </tbody>\n</table>\n</div>"
     },
     "metadata": {},
     "execution_count": 14
    }
   ],
   "source": [
    "contingency_df = df.pivot_table(\n",
    "    columns='breed',\n",
    "    index='color',\n",
    "    values='index',\n",
    "    aggfunc='count').reset_index()\n",
    "\n",
    "contingency_df"
   ]
  },
  {
   "cell_type": "code",
   "execution_count": 15,
   "metadata": {},
   "outputs": [
    {
     "output_type": "execute_result",
     "data": {
      "text/plain": [
       "[[17, 10], [13, 36], [8, 6], [52, 41], [10, 7]]"
      ]
     },
     "metadata": {},
     "execution_count": 15
    }
   ],
   "source": [
    "color_table = []\n",
    "for _, row in contingency_df.iterrows():\n",
    "    color_table.append([row['Poodle'], row['Shih Tzu']])\n",
    "\n",
    "color_table"
   ]
  },
  {
   "source": [
    "13. Feed your `color_table` into SciPy's Chi Square test, save the p-value and print it out.\n",
    "\n",
    "    Is there a significant difference?"
   ],
   "cell_type": "markdown",
   "metadata": {}
  },
  {
   "cell_type": "code",
   "execution_count": 16,
   "metadata": {},
   "outputs": [
    {
     "output_type": "execute_result",
     "data": {
      "text/plain": [
       "0.005302408293244593"
      ]
     },
     "metadata": {},
     "execution_count": 16
    }
   ],
   "source": [
    "from scipy.stats import chi2_contingency\n",
    "\n",
    "_, pval, _, _ = chi2_contingency(color_table)\n",
    "pval"
   ]
  },
  {
   "source": [
    "**A:** Since our p-Value is much smaller than $0.05$ we can concluded that there is a significant difference between poodle colors and shih tzu colors."
   ],
   "cell_type": "markdown",
   "metadata": {}
  },
  {
   "source": [
    "## Good learner! Have a treat!\n",
    "\n",
    "14. Great job!\n",
    "\n",
    "    Feel free to play around with `fetchmaker` more and run some hypothesis tests of your own.\n",
    "\n",
    "    The breeds you can explore are `\"poodle\"`, `\"rottweiler\"`, `\"whippet\"`, `\"greyhound\"`, `\"terrier\"`, `\"chihuahua\"`, `\"shihtzu\"`, and `\"pitbull\"`."
   ],
   "cell_type": "markdown",
   "metadata": {}
  }
 ]
}