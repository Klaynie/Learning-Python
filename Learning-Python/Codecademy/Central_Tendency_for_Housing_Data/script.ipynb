{
 "metadata": {
  "language_info": {
   "codemirror_mode": {
    "name": "ipython",
    "version": 3
   },
   "file_extension": ".py",
   "mimetype": "text/x-python",
   "name": "python",
   "nbconvert_exporter": "python",
   "pygments_lexer": "ipython3",
   "version": "3.9.1-final"
  },
  "orig_nbformat": 2,
  "kernelspec": {
   "name": "python391jvsc74a57bd0ac59ebe37160ed0dfa835113d9b8498d9f09ceb179beaac4002f036b9467c963",
   "display_name": "Python 3.9.1 64-bit"
  },
  "metadata": {
   "interpreter": {
    "hash": "ac59ebe37160ed0dfa835113d9b8498d9f09ceb179beaac4002f036b9467c963"
   }
  }
 },
 "nbformat": 4,
 "nbformat_minor": 2,
 "cells": [
  {
   "source": [
    "# Central Tendency for Housing Data\n",
    "\n",
    "In this project, you will find the mean, median, and mode cost of one-bedroom apartments in three of the five New York City boroughs: Brooklyn, Manhattan, and Queens.\n",
    "\n",
    "Using your findings, you will make conclusions about the cost of living in each of the boroughs. We will also discuss an important assumption that we make when we point out differences between the boroughs.\n",
    "\n",
    "We worked with <a href=\"https://streeteasy.com/\">Streeteasy.com</a> to collect this data. While we will only focus on the cost of one-bedroom apartments, the <a href=\"https://github.com/Codecademy/datasets/tree/master/streeteasy\">dataset includes a lot more information</a> if you are interested in asking your own questions about the Brooklyn, Manhattan, and Queens housing market."
   ],
   "cell_type": "markdown",
   "metadata": {}
  },
  {
   "source": [
    "## Observing your Data\n",
    "\n",
    "1. We have imported data about one-bedroom apartments in three of New York City's boroughs: Brooklyn, Manhattan, and Queens. We saved the values to:\n",
    "\n",
    "    * `brooklyn_one_bed`\n",
    "    * `manhattan_one_bed`\n",
    "    * `queens_one_bed`\n",
    "\n",
    "    In this project, we only care about the price of apartments, so we saved the price of apartments in each borough to:\n",
    "\n",
    "    * `brooklyn_price`\n",
    "    * `manhattan_price`\n",
    "    * `queens_price`\n",
    "\n",
    "    If you want to see what these arrays look like, you can use print statements to see them in the output terminal."
   ],
   "cell_type": "markdown",
   "metadata": {}
  },
  {
   "cell_type": "code",
   "execution_count": 1,
   "metadata": {},
   "outputs": [],
   "source": [
    "import numpy as np\n",
    "import pandas as pd\n",
    "from scipy import stats\n",
    "\n",
    "brooklyn_one_bed = pd.read_csv('brooklyn-one-bed.csv')\n",
    "brooklyn_price = brooklyn_one_bed['rent']\n",
    "\n",
    "manhattan_one_bed = pd.read_csv('manhattan-one-bed.csv')\n",
    "manhattan_price = manhattan_one_bed['rent']\n",
    "\n",
    "queens_one_bed = pd.read_csv('queens-one-bed.csv')\n",
    "queens_price = queens_one_bed['rent']"
   ]
  },
  {
   "cell_type": "code",
   "execution_count": null,
   "metadata": {},
   "outputs": [],
   "source": []
  },
  {
   "source": [
    "## Find the Mean\n",
    "\n",
    "2. Find the average value of one-bedroom apartments in Brooklyn and save the value to `brooklyn_mean`."
   ],
   "cell_type": "markdown",
   "metadata": {}
  },
  {
   "cell_type": "code",
   "execution_count": null,
   "metadata": {},
   "outputs": [],
   "source": []
  },
  {
   "source": [
    "3. Find the average value of one-bedroom apartments in Manhattan and save the value to `manhattan_mean`."
   ],
   "cell_type": "markdown",
   "metadata": {}
  },
  {
   "cell_type": "code",
   "execution_count": null,
   "metadata": {},
   "outputs": [],
   "source": []
  },
  {
   "source": [
    "4. Find the average value of one-bedroom apartments in Queens and save the value to `queens_mean`."
   ],
   "cell_type": "markdown",
   "metadata": {}
  },
  {
   "cell_type": "code",
   "execution_count": null,
   "metadata": {},
   "outputs": [],
   "source": []
  },
  {
   "source": [
    "## Find the Median\n",
    "\n",
    "5. Find the median value of one-bedroom apartments in Brooklyn and save the value to `brooklyn_median`."
   ],
   "cell_type": "markdown",
   "metadata": {}
  },
  {
   "cell_type": "code",
   "execution_count": null,
   "metadata": {},
   "outputs": [],
   "source": []
  },
  {
   "source": [
    "6. Find the median value of one-bedroom apartments in Manhattan and save the value to `manhattan_median`."
   ],
   "cell_type": "markdown",
   "metadata": {}
  },
  {
   "cell_type": "code",
   "execution_count": null,
   "metadata": {},
   "outputs": [],
   "source": []
  },
  {
   "source": [
    "7. Find the median value of one-bedroom apartments in Queens and save the value to `queens_median`."
   ],
   "cell_type": "markdown",
   "metadata": {}
  },
  {
   "cell_type": "code",
   "execution_count": null,
   "metadata": {},
   "outputs": [],
   "source": []
  },
  {
   "source": [
    "## Find the Mode\n",
    "\n",
    "8. Find the mode value of one-bedroom apartments in Brooklyn and save the value to `brooklyn_mode`."
   ],
   "cell_type": "markdown",
   "metadata": {}
  },
  {
   "cell_type": "code",
   "execution_count": null,
   "metadata": {},
   "outputs": [],
   "source": []
  },
  {
   "source": [
    "9. Find the mode value of one-bedroom apartments in Manhattan and save the value to `manhattan_mode`."
   ],
   "cell_type": "markdown",
   "metadata": {}
  },
  {
   "cell_type": "code",
   "execution_count": null,
   "metadata": {},
   "outputs": [],
   "source": []
  },
  {
   "source": [
    "10. Find the mode value of one-bedroom apartments in Queens and save the value to `queens_mode`."
   ],
   "cell_type": "markdown",
   "metadata": {}
  },
  {
   "cell_type": "code",
   "execution_count": null,
   "metadata": {},
   "outputs": [],
   "source": []
  },
  {
   "cell_type": "code",
   "execution_count": 2,
   "metadata": {},
   "outputs": [
    {
     "output_type": "stream",
     "name": "stdout",
     "text": [
      "The mean price in Brooklyn is not yet defined.\nThe mean in Manhattan is not yet defined.\nThe mean price in Queens is not yet defined.\nThe median price in Brooklyn is not yet defined.\nThe median price in Manhattan is not yet defined.\nThe median price in Queens is not yet defined.\nThe mode price in Brooklyn is not yet defined.\nThe mode price in Manhattan is not yet defined.\nThe mode price in Queens is not yet defined.\n"
     ]
    }
   ],
   "source": [
    "# Mean\n",
    "try:\n",
    "    print(\"The mean price in Brooklyn is \" + str(round(brooklyn_mean, 2)))\n",
    "except NameError:\n",
    "    print(\"The mean price in Brooklyn is not yet defined.\")\n",
    "try:\n",
    "    print(\"The mean price in Manhattan is \" + str(round(manhattan_mean, 2)))\n",
    "except NameError:\n",
    "    print(\"The mean in Manhattan is not yet defined.\")\n",
    "try:\n",
    "    print(\"The mean price in Queens is \" + str(round(queens_mean, 2)))\n",
    "except NameError:\n",
    "    print(\"The mean price in Queens is not yet defined.\")\n",
    "    \n",
    "    \n",
    "# Median\n",
    "try:\n",
    "    print(\"The median price in Brooklyn is \" + str(brooklyn_median))\n",
    "except NameError:\n",
    "    print(\"The median price in Brooklyn is not yet defined.\")\n",
    "try:\n",
    "    print(\"The median price in Manhattan is \" + str(manhattan_median))\n",
    "except NameError:\n",
    "    print(\"The median price in Manhattan is not yet defined.\")\n",
    "try:\n",
    "    print(\"The median price in Queens is \" + str(queens_median))\n",
    "except NameError:\n",
    "    print(\"The median price in Queens is not yet defined.\")\n",
    "    \n",
    "    \n",
    "#Mode\n",
    "try:\n",
    "    print(\"The mode price in Brooklyn is \" + str(brooklyn_mode[0][0]) + \" and it appears \" + str(brooklyn_mode[1][0]) + \" times out of \" + str(len(brooklyn_price)))\n",
    "except NameError:\n",
    "    print(\"The mode price in Brooklyn is not yet defined.\")\n",
    "try:\n",
    "    print(\"The mode price in Manhattan is \" + str(manhattan_mode[0][0]) + \" and it appears \" + str(manhattan_mode[1][0]) + \" times out of \" + str(len(manhattan_price)))\n",
    "except NameError:\n",
    "    print(\"The mode price in Manhattan is not yet defined.\")\n",
    "try:\n",
    "    print(\"The mode price in Queens is \" + str(queens_mode[0][0]) + \" and it appears \" + str(queens_mode[1][0]) + \" times out of \" + str(len(queens_price)))\n",
    "except NameError:\n",
    "    print(\"The mode price in Queens is not yet defined.\")"
   ]
  },
  {
   "source": [
    "11. Now what?\n",
    "\n",
    "    We do not find the mean, median, and mode of a dataset for the sake of it.\n",
    "\n",
    "    The point is to make inferences from our data. What can you say about the housing prices in Brooklyn, Queens, and Manhattan? Besides, \"It is really expensive to live in any of them.\"\n",
    "\n",
    "    Take a minute to think through it. We added our thoughts to the hint.\n",
    "\n",
    "<i>Hint: It looks like the average cost of one-bedroom apartments in Manhattan is the most, and in Queens is the least. This pattern holds for the median and mode values as well.</i>\n",
    "\n",
    "<i>While the mode is not the most important indicator of centrality, the fact that mean, median, and mode are within a few hundred dollars for each borough indicates the data is centered around:</i>\n",
    "\n",
    "* <i>\\$3,300 for Brooklyn</i>\n",
    "* <i>\\$3,900 for Manhattan</i>\n",
    "* <i>\\$2,300 for Queens</i>"
   ],
   "cell_type": "markdown",
   "metadata": {}
  },
  {
   "source": [
    "12. Did you make any assumptions when you drew inferences in the previous task?\n",
    "\n",
    "    If so, what assumptions did you make? We added our thoughts to the hint.\n",
    "\n",
    "<i>Hint: We assumed that the data from Streeteasy is representative of housing prices for the entire borough. Given that Streeteasy is only used by a subset of property owners, this is not a fair assumption. A quick search on <a href=\"https://www.rentcafe.com/\">rentcafe.com</a> will tell you the averages are more like:</i>\n",
    "\n",
    "* <i>\\$2,695 for Brooklyn one-bedroom apartments</i>\n",
    "* <i>\\$4,188 for Manhattan one-bedroom apartments</i>\n",
    "* <i>\\$2,178 for Queens one-bedroom apartments</i>\n",
    "\n",
    "<i>This is an interesting finding. Why may the cost from rentcafe.com be higher in Manhattan than in Brooklyn or Queens?</i>\n",
    "\n",
    "<i>Although we do not have the answer to this question, it is worth thinking about the possible differences between our Streeteasy data and where rentcafe is pulling their data.</i>"
   ],
   "cell_type": "markdown",
   "metadata": {}
  },
  {
   "source": [
    "13. Finally, think about what the histogram for each dataset will look like.\n",
    "\n",
    "    If you have the time, take a minute to make a rough sketch of the histograms for the cost of a one-bedroom apartment in Brooklyn, Manhattan, and Queens.\n",
    "\n",
    "    You can see someone else's attempt at a sketch of the Brooklyn histogram.\n",
    "\n",
    "    <img src=\"https://content.codecademy.com/courses/statistics/central-tendency/brooklyn-histogram.png\" alt=\"Brooklyn Sketch\" style=\"background-color:white;\"></img>\n",
    "\n",
    "    When you are finished, open the hint to take a look at the actual histograms for Brooklyn, Manhattan, and Queens."
   ],
   "cell_type": "markdown",
   "metadata": {}
  },
  {
   "source": [
    "<img src=\"https://content.codecademy.com/courses/statistics/central-tendency/one-bedroom-costs-nyc.png\" alt=\"Histograms\" style=\"background-color:white;\"></img>"
   ],
   "cell_type": "markdown",
   "metadata": {}
  },
  {
   "cell_type": "code",
   "execution_count": null,
   "metadata": {},
   "outputs": [],
   "source": []
  }
 ]
}