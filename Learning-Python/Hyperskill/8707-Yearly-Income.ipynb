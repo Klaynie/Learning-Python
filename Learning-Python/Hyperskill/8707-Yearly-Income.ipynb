{
 "metadata": {
  "language_info": {
   "codemirror_mode": {
    "name": "ipython",
    "version": 3
   },
   "file_extension": ".py",
   "mimetype": "text/x-python",
   "name": "python",
   "nbconvert_exporter": "python",
   "pygments_lexer": "ipython3",
   "version": "3.9.1-final"
  },
  "orig_nbformat": 2,
  "kernelspec": {
   "name": "python3",
   "display_name": "Python 3.9.1 64-bit",
   "metadata": {
    "interpreter": {
     "hash": "ac59ebe37160ed0dfa835113d9b8498d9f09ceb179beaac4002f036b9467c963"
    }
   }
  }
 },
 "nbformat": 4,
 "nbformat_minor": 2,
 "cells": [
  {
   "source": [
    "# Context manager - Yearly income  \n",
    "\n",
    "The file `salary.txt` contains a monthly salary of all employees in the company. Assume that the monthly salary is fixed and each employee is mentioned once. So, each number (an integer) written on a separate line corresponds to a particular employee:\n",
    "\n",
    "3500  \n",
    "4780  \n",
    "6666  \n",
    "...  \n",
    "\n",
    "According to the example, the first worker gets $3,500$ per month, the second one $4,780$ and the third $6,666$, etc.\n",
    "\n",
    "Calculate how much each employee earns per year and save their yearly income to a file `salary_year.txt`. Similarly to the original file, each income should be on a separate line. Preserve the order as it helps identify an employee."
   ],
   "cell_type": "markdown",
   "metadata": {}
  },
  {
   "cell_type": "code",
   "execution_count": 1,
   "metadata": {},
   "outputs": [],
   "source": [
    "with open('salary.txt', 'r') as salary:\n",
    "    with open('salary_year.txt', 'w') as salary_year:\n",
    "        for line in salary:\n",
    "            monthly_salary = int(line)\n",
    "            yearly_salary = monthly_salary * 12\n",
    "            salary_year.write(f\"{yearly_salary} \\n\")"
   ]
  }
 ]
}